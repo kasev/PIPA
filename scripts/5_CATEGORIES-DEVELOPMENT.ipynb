{
 "cells": [
  {
   "cell_type": "code",
   "execution_count": 519,
   "outputs": [],
   "source": [
    "import numpy as np\n",
    "import pandas as pd\n",
    "pd.set_option('display.max_columns', None)\n",
    "pd.set_option('display.max_rows', None)\n",
    "\n",
    "from gensim.models import KeyedVectors\n",
    "from sklearn.metrics.pairwise import cosine_similarity\n",
    "\n",
    "# plotting\n",
    "import matplotlib.pyplot as plt\n",
    "import matplotlib.patches as patches\n",
    "import matplotlib.colors as mcolors\n",
    "\n",
    "import seaborn as sns\n",
    "import os\n",
    "import json\n",
    "from translator import translator\n",
    "import pickle"
   ],
   "metadata": {
    "collapsed": false
   }
  },
  {
   "cell_type": "code",
   "execution_count": 520,
   "outputs": [],
   "source": [
    "# to communicate with google spreadsheet...\n",
    "import gspread\n",
    "from gspread_dataframe import get_as_dataframe\n",
    "from gspread_dataframe import set_with_dataframe\n",
    "from google.oauth2 import service_account # based on google-auth library\n",
    "\n",
    "# establish connection with gogglesheets...\n",
    "file_data = json.load(open(\"../../ServiceAccountsKey.json\", \"r\"))\n",
    "credentials = service_account.Credentials.from_service_account_info(file_data)\n",
    "gc = gspread.Client(auth=credentials.with_scopes(['https://spreadsheets.google.com/feeds', 'https://www.googleapis.com/auth/drive']))\n",
    "PIPA_data = gc.open_by_url(\"https://docs.google.com/spreadsheets/d/1rV4t0_UV_wcx--UAHVwkqB8Wa_5n9mnpV05yGG1OHqk/edit?usp=sharing\")"
   ],
   "metadata": {
    "collapsed": false
   }
  },
  {
   "cell_type": "code",
   "execution_count": 521,
   "outputs": [],
   "source": [
    "keywords = [\"ἀλγέω\", \"ἄλγημα\", \"ἄλγος\", \"λυπέω\", \"λύπη\", \"λυπηρός\", \"ὀδυνάω\", \"ὀδύνη\", \"πονέω\", \"πόνος\"]"
   ],
   "metadata": {
    "collapsed": false
   }
  },
  {
   "cell_type": "code",
   "execution_count": 522,
   "outputs": [],
   "source": [
    "keyed_vectors_full = KeyedVectors.load(\"../data/keyed_vectors_full.wv\")\n",
    "keyed_vectors_excl_arist = KeyedVectors.load(\"../data/keyed_vectors_excl_arist.wv\")\n",
    "keyed_vectors_excl_plato = KeyedVectors.load(\"../data/keyed_vectors_excl_plato.wv\")\n",
    "keyed_vectors_excl_hipp = KeyedVectors.load(\"../data/keyed_vectors_excl_hipp.wv\")\n",
    "vectors_list = [keyed_vectors_full, keyed_vectors_excl_arist, keyed_vectors_excl_plato, keyed_vectors_excl_hipp]"
   ],
   "metadata": {
    "collapsed": false
   }
  },
  {
   "cell_type": "code",
   "execution_count": 523,
   "outputs": [],
   "source": [
    "n_words = len(keyed_vectors_full)\n",
    "complete_sim_matrices = []\n",
    "for vecs in vectors_list:\n",
    "    complete_sim_matrix = cosine_similarity(vecs.vectors)\n",
    "    complete_sim_matrices.append(complete_sim_matrix[:n_words, :n_words])"
   ],
   "metadata": {
    "collapsed": false
   }
  },
  {
   "cell_type": "markdown",
   "source": [
    "# Analyzing categories"
   ],
   "metadata": {
    "collapsed": false
   }
  },
  {
   "cell_type": "code",
   "execution_count": 524,
   "outputs": [
    {
     "data": {
      "text/plain": "              greek           english   category\n0      χαίρω (0.52)           rejoice   opossite\n1   ἀγανακτέω (0.5)  to be displeased    emotion\n2     ἥδομαι (0.49)     feel pleasure   opossite\n3    ἀπολαύω (0.48)             enjoy   opossite\n4  διάκειμαι (0.46)    to be affected  suffering",
      "text/html": "<div>\n<style scoped>\n    .dataframe tbody tr th:only-of-type {\n        vertical-align: middle;\n    }\n\n    .dataframe tbody tr th {\n        vertical-align: top;\n    }\n\n    .dataframe thead th {\n        text-align: right;\n    }\n</style>\n<table border=\"1\" class=\"dataframe\">\n  <thead>\n    <tr style=\"text-align: right;\">\n      <th></th>\n      <th>greek</th>\n      <th>english</th>\n      <th>category</th>\n    </tr>\n  </thead>\n  <tbody>\n    <tr>\n      <th>0</th>\n      <td>χαίρω (0.52)</td>\n      <td>rejoice</td>\n      <td>opossite</td>\n    </tr>\n    <tr>\n      <th>1</th>\n      <td>ἀγανακτέω (0.5)</td>\n      <td>to be displeased</td>\n      <td>emotion</td>\n    </tr>\n    <tr>\n      <th>2</th>\n      <td>ἥδομαι (0.49)</td>\n      <td>feel pleasure</td>\n      <td>opossite</td>\n    </tr>\n    <tr>\n      <th>3</th>\n      <td>ἀπολαύω (0.48)</td>\n      <td>enjoy</td>\n      <td>opossite</td>\n    </tr>\n    <tr>\n      <th>4</th>\n      <td>διάκειμαι (0.46)</td>\n      <td>to be affected</td>\n      <td>suffering</td>\n    </tr>\n  </tbody>\n</table>\n</div>"
     },
     "execution_count": 524,
     "metadata": {},
     "output_type": "execute_result"
    }
   ],
   "source": [
    "terms_translation_categories = get_as_dataframe(PIPA_data.worksheet(\"translation\"))[[\"greek\", \"english\", \"category_clean\"]]\n",
    "terms_translation_categories = terms_translation_categories[terms_translation_categories[\"greek\"].notnull()]\n",
    "terms_translation_categories.rename(columns={\"category_clean\" : \"category\"}, inplace=True)\n",
    "terms_translation_categories.head(5)"
   ],
   "metadata": {
    "collapsed": false
   }
  },
  {
   "cell_type": "code",
   "execution_count": 525,
   "outputs": [],
   "source": [
    "terms_translation_categories[\"greek\"] = terms_translation_categories[\"greek\"].apply(lambda x: x.rpartition(\" (\")[0].replace(\" \", \"\"))"
   ],
   "metadata": {
    "collapsed": false
   }
  },
  {
   "cell_type": "code",
   "execution_count": 526,
   "outputs": [],
   "source": [
    "terms_translation_categories = terms_translation_categories.drop_duplicates(subset=\"greek\")"
   ],
   "metadata": {
    "collapsed": false
   }
  },
  {
   "cell_type": "code",
   "execution_count": 527,
   "outputs": [
    {
     "data": {
      "text/plain": "category\nbodily parts    20\ndietetics       27\nemotion         15\nmoral           16\nopossite        17\nother           13\npain            15\npathology       19\nsuffering        9\ndtype: int64"
     },
     "execution_count": 527,
     "metadata": {},
     "output_type": "execute_result"
    }
   ],
   "source": [
    "terms_translation_categories.groupby(\"category\").size()"
   ],
   "metadata": {
    "collapsed": false
   }
  },
  {
   "cell_type": "code",
   "execution_count": 528,
   "outputs": [],
   "source": [
    "categories = list(set(terms_translation_categories[\"category\"]))"
   ],
   "metadata": {
    "collapsed": false
   }
  },
  {
   "cell_type": "code",
   "execution_count": 529,
   "outputs": [
    {
     "data": {
      "text/plain": "{'χαίρω': 'opossite',\n 'ἀγανακτέω': 'emotion',\n 'ἥδομαι': 'opossite',\n 'ἀπολαύω': 'opossite',\n 'διάκειμαι': 'suffering',\n 'ἀκόλαστος': 'moral',\n 'κακός': 'moral',\n 'ἄχθομαι': 'emotion',\n 'εὐφραίνω': 'opossite',\n 'λυπηρός': 'pain',\n 'ἐξαμαρτάνω': 'other',\n 'πλησιάζω': 'other',\n 'μισέω': 'moral',\n 'φοβερός': 'emotion',\n 'δυσχεραίνω': 'emotion',\n 'λοιδορέω': 'suffering',\n 'ὀργίζω': 'suffering',\n 'σύνοιδα': 'other',\n 'φθονέω': 'moral',\n 'ἀνάξιος': 'moral',\n 'ἀλγέω': 'pain',\n 'ἀνόητος': 'moral',\n 'δακρύω': 'emotion',\n 'ψαύω': 'other',\n 'ὀδυνάω': 'pain',\n 'βαρύνω': 'suffering',\n 'ἀλγεινός': 'pain',\n 'ἄλγημα': 'pain',\n 'νείαιρα': 'bodily parts',\n 'ἰξύα': 'bodily parts',\n 'ὑποχόνδριος': 'bodily parts',\n 'λυπέω': 'pain',\n 'βάρος': 'pathology',\n 'ἧπαρ': 'bodily parts',\n 'σπάω': 'pathology',\n 'πλευρόν': 'bodily parts',\n 'παραφρονέω': 'emotion',\n 'πυρεταίνω': 'pathology',\n 'ἀλγηδών': 'pain',\n 'πόθος': 'opossite',\n 'ὀδύρομαι': 'emotion',\n 'θυμόω': 'suffering',\n 'ἄλγος': 'pain',\n 'οἰκτρός': 'emotion',\n 'ἕλκος': 'pathology',\n 'ἑλκόω': 'pathology',\n 'φόνιος': 'pathology',\n 'θανάσιμος': 'pathology',\n 'νῆστις': 'dietetics',\n 'ἄτη': 'suffering',\n 'ὠδίς': 'pain',\n 'κλείς': 'bodily parts',\n 'βήξ': 'pathology',\n 'θέρμη': 'pathology',\n 'δίψα': 'dietetics',\n 'βληχρός': 'other',\n 'οἴδημα': 'pathology',\n 'στραγγουρία': 'pathology',\n 'κόπος': 'dietetics',\n 'διάρροια': 'pathology',\n 'κενεών': 'bodily parts',\n 'βουβών': 'bodily parts',\n 'μετάφρενον': 'bodily parts',\n 'τράχηλος': 'bodily parts',\n 'ὕφαιμος': 'pathology',\n 'ἤρ': 'other',\n 'ὀσφῦς': 'bodily parts',\n 'κατάψυξις': 'pathology',\n 'διαθερμαίνω': 'pathology',\n 'βλέφαρον': 'bodily parts',\n 'ἰσχναίνω': 'dietetics',\n 'πυός': 'pathology',\n 'φυράω': 'dietetics',\n 'στάζω': 'pathology',\n 'ταλαιπωρέω': 'dietetics',\n 'δαπανάω': 'dietetics',\n 'γυμνάζω': 'dietetics',\n 'πόνος': 'pain',\n 'καρτερέω': 'dietetics',\n 'διαπονέω': 'dietetics',\n 'ῥᾳστώνη': 'opossite',\n 'ἀναλίσκω': 'dietetics',\n 'εὐεξία': 'opossite',\n 'μέτριος': 'dietetics',\n 'ταλαιπωρία': 'dietetics',\n 'κινδυνεύω': 'other',\n 'ἀσθενέω': 'dietetics',\n 'πλησμονή': 'opossite',\n 'ἐμποδίζω': 'other',\n 'πονέω': 'dietetics',\n 'φῦσα': 'dietetics',\n 'γυμνάσιον': 'dietetics',\n 'περίπατος': 'dietetics',\n 'σῶμα': 'bodily parts',\n 'ἄσκησις': 'dietetics',\n 'πενία': 'dietetics',\n 'ἀκμή': 'dietetics',\n 'μόχθος': 'dietetics',\n 'ἐπίπονος': 'pain',\n 'βίοτος': 'other',\n 'ῥώμη': 'dietetics',\n 'ἀλκή': 'dietetics',\n 'ἐκπονέω': 'dietetics',\n 'λύπη': 'pain',\n 'ἡδύς': 'opossite',\n 'βλαβερός': 'moral',\n 'σωματικός': 'bodily parts',\n 'συζάω': 'other',\n 'ἀηδής': 'suffering',\n 'σιωπάω': 'dietetics',\n 'πεινάω': 'opossite',\n 'ἀγαπητός': 'opossite',\n 'ἡδονή': 'opossite',\n 'ἐπιθυμία': 'opossite',\n 'θαρσαλέος': 'moral',\n 'Ἀφροδίσιος': 'opossite',\n 'παρουσία': 'other',\n 'ἀκρασία': 'moral',\n 'ἀκολασία': 'moral',\n 'ἄνοια': 'moral',\n 'φόβος': 'emotion',\n 'ἔρως': 'opossite',\n 'θυμός': 'opossite',\n 'κακία': 'moral',\n 'σύμφυτος': 'other',\n 'ὁμιλία': 'other',\n 'αἰδώς': 'moral',\n 'λήθη': 'moral',\n 'θάρσος': 'moral',\n 'τάλας': 'suffering',\n 'δύστηνος': 'emotion',\n 'τλήμων': 'suffering',\n 'ἄχος': 'pain',\n 'δεῖμα': 'emotion',\n 'στένω': 'emotion',\n 'πῆμα': 'emotion',\n 'μέλεος': 'emotion',\n 'γόος': 'emotion',\n 'δέρκομαι': 'opossite',\n 'τλάω': 'dietetics',\n 'ὀδύνη': 'pain',\n 'φρικώδης': 'pathology',\n 'ἀσώδης': 'pathology',\n 'κακοήθης': 'moral',\n 'ὀδυνώδης': 'pain',\n 'ῥάχις': 'bodily parts',\n 'κνήμη': 'bodily parts',\n 'στῆθος': 'bodily parts',\n 'σφυρόν': 'bodily parts',\n 'φλέβιον': 'bodily parts',\n 'χόνδρος': 'bodily parts'}"
     },
     "execution_count": 529,
     "metadata": {},
     "output_type": "execute_result"
    }
   ],
   "source": [
    "term_category_dict = dict(zip(terms_translation_categories[\"greek\"], terms_translation_categories[\"category\"]))\n",
    "term_category_dict"
   ],
   "metadata": {
    "collapsed": false
   }
  },
  {
   "cell_type": "code",
   "execution_count": 530,
   "outputs": [
    {
     "data": {
      "text/plain": "{'χαίρω': 'rejoice',\n 'ἀγανακτέω': 'to be displeased',\n 'ἥδομαι': 'feel pleasure',\n 'ἀπολαύω': 'enjoy',\n 'διάκειμαι': 'to be affected',\n 'ἀκόλαστος': 'incontinent',\n 'κακός': 'bad',\n 'ἄχθομαι': 'to be grieved',\n 'εὐφραίνω': 'enjoy oneself',\n 'λυπηρός': 'painful',\n 'ἐξαμαρτάνω': 'fail',\n 'πλησιάζω': 'approach',\n 'μισέω': 'hate',\n 'φοβερός': 'fearful',\n 'δυσχεραίνω': 'to be displeased',\n 'λοιδορέω': 'abuse',\n 'ὀργίζω': 'irritate',\n 'σύνοιδα': 'know',\n 'φθονέω': 'be jealous',\n 'ἀνάξιος': 'worthless',\n 'ἀλγέω': 'be in pain',\n 'ἀνόητος': 'silly',\n 'δακρύω': 'weep',\n 'ψαύω': 'touch',\n 'ὀδυνάω': 'be in pain',\n 'βαρύνω': 'oppress',\n 'ἀλγεινός': 'painful',\n 'ἄλγημα': 'pain',\n 'νείαιρα': 'abdomen',\n 'ἰξύα': 'waist',\n 'ὑποχόνδριος': 'abdomen',\n 'λυπέω': 'be in pain',\n 'βάρος': 'heaviness',\n 'ἧπαρ': 'liver',\n 'σπάω': 'spasm',\n 'πλευρόν': 'rib',\n 'παραφρονέω': 'to be deranged',\n 'πυρεταίνω': 'have fever',\n 'ἀλγηδών': 'painful',\n 'πόθος': 'desire',\n 'ὀδύρομαι': 'lament',\n 'θυμόω': 'provoke',\n 'ἄλγος': 'pain',\n 'οἰκτρός': 'pitiable',\n 'ἕλκος': 'wound',\n 'ἑλκόω': 'to wound',\n 'φόνιος': 'deadly',\n 'θανάσιμος': 'deadly',\n 'νῆστις': 'fasting',\n 'ἄτη': 'ruin',\n 'ὠδίς': 'childbirth pain',\n 'κλείς': 'collar-bone',\n 'βήξ': 'cough',\n 'θέρμη': 'heat',\n 'δίψα': 'thirst',\n 'βληχρός': 'slight',\n 'οἴδημα': 'swelling',\n 'στραγγουρία': 'strangury',\n 'κόπος': 'toil',\n 'διάρροια': 'diarrhoea',\n 'κενεών': 'flank',\n 'βουβών': 'groin, glands',\n 'μετάφρενον': 'back',\n 'τράχηλος': 'neck',\n 'ὕφαιμος': 'suffused with blood',\n 'ἤρ': nan,\n 'ὀσφῦς': 'loins',\n 'κατάψυξις': 'cold',\n 'διαθερμαίνω': 'warm through',\n 'βλέφαρον': 'eyelids',\n 'ἰσχναίνω': 'make dry',\n 'πυός': 'puss',\n 'φυράω': 'mix',\n 'στάζω': 'leak',\n 'ταλαιπωρέω': 'distress',\n 'δαπανάω': 'exhaust',\n 'γυμνάζω': 'exercise',\n 'πόνος': 'hardship, pain',\n 'καρτερέω': 'endure',\n 'διαπονέω': 'work hard',\n 'ῥᾳστώνη': 'easiness',\n 'ἀναλίσκω': 'consume',\n 'εὐεξία': 'good health',\n 'μέτριος': 'moderate',\n 'ταλαιπωρία': 'distress',\n 'κινδυνεύω': 'to risk',\n 'ἀσθενέω': 'to be weak',\n 'πλησμονή': 'satiety',\n 'ἐμποδίζω': 'hinder',\n 'πονέω': 'toil',\n 'φῦσα': 'breath',\n 'γυμνάσιον': 'exercise',\n 'περίπατος': 'walk',\n 'σῶμα': 'body',\n 'ἄσκησις': 'exercise',\n 'πενία': 'need',\n 'ἀκμή': 'effort',\n 'μόχθος': 'toil',\n 'ἐπίπονος': 'painful',\n 'βίοτος': 'life',\n 'ῥώμη': 'strengh',\n 'ἀλκή': 'strengh',\n 'ἐκπονέω': 'toil',\n 'λύπη': 'pain',\n 'ἡδύς': 'plaesant',\n 'βλαβερός': 'harmful',\n 'σωματικός': 'bodily',\n 'συζάω': 'live',\n 'ἀηδής': 'unpleasant',\n 'σιωπάω': 'to be still',\n 'πεινάω': 'crave after',\n 'ἀγαπητός': 'desirable',\n 'ἡδονή': 'pleasure',\n 'ἐπιθυμία': 'desire',\n 'θαρσαλέος': 'confident',\n 'Ἀφροδίσιος': 'sexual pleasure',\n 'παρουσία': 'presence',\n 'ἀκρασία': 'intemperence',\n 'ἀκολασία': 'intemperence',\n 'ἄνοια': 'folly',\n 'φόβος': 'fear',\n 'ἔρως': 'love',\n 'θυμός': 'desire',\n 'κακία': 'badness',\n 'σύμφυτος': 'natural',\n 'ὁμιλία': 'intercourse',\n 'αἰδώς': 'respect',\n 'λήθη': 'forgetfulness',\n 'θάρσος': 'courage',\n 'τάλας': 'suffering',\n 'δύστηνος': 'unhappy',\n 'τλήμων': 'wretched',\n 'ἄχος': 'pain',\n 'δεῖμα': 'fear',\n 'στένω': 'moan',\n 'πῆμα': 'misery',\n 'μέλεος': 'unhappy',\n 'γόος': 'weeping',\n 'δέρκομαι': 'sight',\n 'τλάω': 'endure',\n 'ὀδύνη': 'pain',\n 'φρικώδης': 'shivering',\n 'ἀσώδης': 'suffering from nausea',\n 'κακοήθης': 'malicious',\n 'ὀδυνώδης': 'painful',\n 'ῥάχις': 'spine',\n 'κνήμη': 'shank',\n 'στῆθος': 'breast',\n 'σφυρόν': 'ankle',\n 'φλέβιον': 'of veins',\n 'χόνδρος': 'cartigage'}"
     },
     "execution_count": 530,
     "metadata": {},
     "output_type": "execute_result"
    }
   ],
   "source": [
    "term_translation_dict = dict(zip(terms_translation_categories[\"greek\"], terms_translation_categories[\"english\"]))\n",
    "term_translation_dict"
   ],
   "metadata": {
    "collapsed": false
   }
  },
  {
   "cell_type": "code",
   "execution_count": 531,
   "outputs": [],
   "source": [
    "cat_terms_dict = {}\n",
    "for cat in categories:\n",
    "    terms = terms_translation_categories[terms_translation_categories[\"category\"]==cat][\"greek\"].tolist()\n",
    "    cat_terms_dict[cat] = terms"
   ],
   "metadata": {
    "collapsed": false
   }
  },
  {
   "cell_type": "code",
   "execution_count": 532,
   "outputs": [
    {
     "data": {
      "text/plain": "{'bodily parts': ['νείαιρα',\n  'ἰξύα',\n  'ὑποχόνδριος',\n  'ἧπαρ',\n  'πλευρόν',\n  'κλείς',\n  'κενεών',\n  'βουβών',\n  'μετάφρενον',\n  'τράχηλος',\n  'ὀσφῦς',\n  'βλέφαρον',\n  'σῶμα',\n  'σωματικός',\n  'ῥάχις',\n  'κνήμη',\n  'στῆθος',\n  'σφυρόν',\n  'φλέβιον',\n  'χόνδρος'],\n 'emotion': ['ἀγανακτέω',\n  'ἄχθομαι',\n  'φοβερός',\n  'δυσχεραίνω',\n  'δακρύω',\n  'παραφρονέω',\n  'ὀδύρομαι',\n  'οἰκτρός',\n  'φόβος',\n  'δύστηνος',\n  'δεῖμα',\n  'στένω',\n  'πῆμα',\n  'μέλεος',\n  'γόος'],\n 'opossite': ['χαίρω',\n  'ἥδομαι',\n  'ἀπολαύω',\n  'εὐφραίνω',\n  'πόθος',\n  'ῥᾳστώνη',\n  'εὐεξία',\n  'πλησμονή',\n  'ἡδύς',\n  'πεινάω',\n  'ἀγαπητός',\n  'ἡδονή',\n  'ἐπιθυμία',\n  'Ἀφροδίσιος',\n  'ἔρως',\n  'θυμός',\n  'δέρκομαι'],\n 'pathology': ['βάρος',\n  'σπάω',\n  'πυρεταίνω',\n  'ἕλκος',\n  'ἑλκόω',\n  'φόνιος',\n  'θανάσιμος',\n  'βήξ',\n  'θέρμη',\n  'οἴδημα',\n  'στραγγουρία',\n  'διάρροια',\n  'ὕφαιμος',\n  'κατάψυξις',\n  'διαθερμαίνω',\n  'πυός',\n  'στάζω',\n  'φρικώδης',\n  'ἀσώδης'],\n 'suffering': ['διάκειμαι',\n  'λοιδορέω',\n  'ὀργίζω',\n  'βαρύνω',\n  'θυμόω',\n  'ἄτη',\n  'ἀηδής',\n  'τάλας',\n  'τλήμων'],\n 'moral': ['ἀκόλαστος',\n  'κακός',\n  'μισέω',\n  'φθονέω',\n  'ἀνάξιος',\n  'ἀνόητος',\n  'βλαβερός',\n  'θαρσαλέος',\n  'ἀκρασία',\n  'ἀκολασία',\n  'ἄνοια',\n  'κακία',\n  'αἰδώς',\n  'λήθη',\n  'θάρσος',\n  'κακοήθης'],\n 'pain': ['λυπηρός',\n  'ἀλγέω',\n  'ὀδυνάω',\n  'ἀλγεινός',\n  'ἄλγημα',\n  'λυπέω',\n  'ἀλγηδών',\n  'ἄλγος',\n  'ὠδίς',\n  'πόνος',\n  'ἐπίπονος',\n  'λύπη',\n  'ἄχος',\n  'ὀδύνη',\n  'ὀδυνώδης'],\n 'dietetics': ['νῆστις',\n  'δίψα',\n  'κόπος',\n  'ἰσχναίνω',\n  'φυράω',\n  'ταλαιπωρέω',\n  'δαπανάω',\n  'γυμνάζω',\n  'καρτερέω',\n  'διαπονέω',\n  'ἀναλίσκω',\n  'μέτριος',\n  'ταλαιπωρία',\n  'ἀσθενέω',\n  'πονέω',\n  'φῦσα',\n  'γυμνάσιον',\n  'περίπατος',\n  'ἄσκησις',\n  'πενία',\n  'ἀκμή',\n  'μόχθος',\n  'ῥώμη',\n  'ἀλκή',\n  'ἐκπονέω',\n  'σιωπάω',\n  'τλάω'],\n 'other': ['ἐξαμαρτάνω',\n  'πλησιάζω',\n  'σύνοιδα',\n  'ψαύω',\n  'βληχρός',\n  'ἤρ',\n  'κινδυνεύω',\n  'ἐμποδίζω',\n  'βίοτος',\n  'συζάω',\n  'παρουσία',\n  'σύμφυτος',\n  'ὁμιλία']}"
     },
     "execution_count": 532,
     "metadata": {},
     "output_type": "execute_result"
    }
   ],
   "source": [
    "cat_terms_dict"
   ],
   "metadata": {
    "collapsed": false
   }
  },
  {
   "cell_type": "code",
   "execution_count": 533,
   "outputs": [
    {
     "data": {
      "text/plain": "0.641673"
     },
     "execution_count": 533,
     "metadata": {},
     "output_type": "execute_result"
    }
   ],
   "source": [
    "keyed_vectors_full.n_similarity([\"πόνος\"], cat_terms_dict[\"dietetics\"])"
   ],
   "metadata": {
    "collapsed": false
   }
  },
  {
   "cell_type": "code",
   "execution_count": 534,
   "outputs": [],
   "source": [
    "similarities = []\n",
    "for term in cat_terms_dict[\"dietetics\"]:\n",
    "    similarities.append(keyed_vectors_full.similarity(\"πόνος\", term))"
   ],
   "metadata": {
    "collapsed": false
   }
  },
  {
   "cell_type": "code",
   "execution_count": 535,
   "outputs": [
    {
     "data": {
      "text/plain": "0.29598635"
     },
     "execution_count": 535,
     "metadata": {},
     "output_type": "execute_result"
    }
   ],
   "source": [
    "np.mean(similarities)"
   ],
   "metadata": {
    "collapsed": false
   }
  },
  {
   "cell_type": "code",
   "execution_count": 536,
   "outputs": [
    {
     "data": {
      "text/plain": "['βάρος',\n 'σπάω',\n 'πυρεταίνω',\n 'ἕλκος',\n 'ἑλκόω',\n 'φόνιος',\n 'θανάσιμος',\n 'βήξ',\n 'θέρμη',\n 'οἴδημα',\n 'στραγγουρία',\n 'διάρροια',\n 'ὕφαιμος',\n 'κατάψυξις',\n 'διαθερμαίνω',\n 'πυός',\n 'στάζω',\n 'φρικώδης',\n 'ἀσώδης']"
     },
     "execution_count": 536,
     "metadata": {},
     "output_type": "execute_result"
    }
   ],
   "source": [
    "cat_terms_dict[\"pathology\"]"
   ],
   "metadata": {
    "collapsed": false
   }
  },
  {
   "cell_type": "code",
   "execution_count": 537,
   "outputs": [],
   "source": [
    "sim_tups = []\n",
    "for keyword in keywords:\n",
    "    for cat in cat_terms_dict.keys():\n",
    "        sim_tups.append((keyword, cat, keyed_vectors_full.n_similarity([keyword], cat_terms_dict[cat])))"
   ],
   "metadata": {
    "collapsed": false
   }
  },
  {
   "cell_type": "code",
   "execution_count": 538,
   "outputs": [
    {
     "data": {
      "text/plain": "[('ἀλγέω', 'bodily parts', 0.3907564),\n ('ἀλγέω', 'emotion', 0.3932681),\n ('ἀλγέω', 'opossite', 0.27486372),\n ('ἀλγέω', 'pathology', 0.39712083),\n ('ἀλγέω', 'suffering', 0.4330012),\n ('ἀλγέω', 'moral', 0.31691295),\n ('ἀλγέω', 'pain', 0.61059135),\n ('ἀλγέω', 'dietetics', 0.19012412),\n ('ἀλγέω', 'other', 0.38458845),\n ('ἄλγημα', 'bodily parts', 0.7029688),\n ('ἄλγημα', 'emotion', 0.11782563),\n ('ἄλγημα', 'opossite', 0.047449432),\n ('ἄλγημα', 'pathology', 0.70607466),\n ('ἄλγημα', 'suffering', 0.11568883),\n ('ἄλγημα', 'moral', 0.08219812),\n ('ἄλγημα', 'pain', 0.66649115),\n ('ἄλγημα', 'dietetics', 0.3659613),\n ('ἄλγημα', 'other', 0.25914767),\n ('ἄλγος', 'bodily parts', 0.36313546),\n ('ἄλγος', 'emotion', 0.63292605),\n ('ἄλγος', 'opossite', 0.34056836),\n ('ἄλγος', 'pathology', 0.4151088),\n ('ἄλγος', 'suffering', 0.5664587),\n ('ἄλγος', 'moral', 0.28199112),\n ('ἄλγος', 'pain', 0.642763),\n ('ἄλγος', 'dietetics', 0.36896706),\n ('ἄλγος', 'other', 0.3345761),\n ('λυπέω', 'bodily parts', -0.094281085),\n ('λυπέω', 'emotion', 0.41719455),\n ('λυπέω', 'opossite', 0.5981189),\n ('λυπέω', 'pathology', 0.044204224),\n ('λυπέω', 'suffering', 0.46855256),\n ('λυπέω', 'moral', 0.5636537),\n ('λυπέω', 'pain', 0.45183685),\n ('λυπέω', 'dietetics', 0.31301707),\n ('λυπέω', 'other', 0.5305511),\n ('λύπη', 'bodily parts', 0.015380222),\n ('λύπη', 'emotion', 0.36964735),\n ('λύπη', 'opossite', 0.6464425),\n ('λύπη', 'pathology', 0.069743305),\n ('λύπη', 'suffering', 0.35350826),\n ('λύπη', 'moral', 0.6232083),\n ('λύπη', 'pain', 0.54188156),\n ('λύπη', 'dietetics', 0.2671009),\n ('λύπη', 'other', 0.50214875),\n ('λυπηρός', 'bodily parts', -0.0703279),\n ('λυπηρός', 'emotion', 0.37213743),\n ('λυπηρός', 'opossite', 0.59196925),\n ('λυπηρός', 'pathology', 0.044674207),\n ('λυπηρός', 'suffering', 0.40158117),\n ('λυπηρός', 'moral', 0.5630691),\n ('λυπηρός', 'pain', 0.5056018),\n ('λυπηρός', 'dietetics', 0.2497378),\n ('λυπηρός', 'other', 0.52112734),\n ('ὀδυνάω', 'bodily parts', 0.7085791),\n ('ὀδυνάω', 'emotion', 0.2755103),\n ('ὀδυνάω', 'opossite', 0.023703873),\n ('ὀδυνάω', 'pathology', 0.71985257),\n ('ὀδυνάω', 'suffering', 0.26779664),\n ('ὀδυνάω', 'moral', 0.035254337),\n ('ὀδυνάω', 'pain', 0.6337048),\n ('ὀδυνάω', 'dietetics', 0.26273528),\n ('ὀδυνάω', 'other', 0.19033657),\n ('ὀδύνη', 'bodily parts', 0.60466176),\n ('ὀδύνη', 'emotion', 0.136093),\n ('ὀδύνη', 'opossite', 0.10796497),\n ('ὀδύνη', 'pathology', 0.66483676),\n ('ὀδύνη', 'suffering', 0.10089522),\n ('ὀδύνη', 'moral', 0.04449579),\n ('ὀδύνη', 'pain', 0.640446),\n ('ὀδύνη', 'dietetics', 0.31952953),\n ('ὀδύνη', 'other', 0.14346713),\n ('πονέω', 'bodily parts', 0.24279541),\n ('πονέω', 'emotion', 0.15498981),\n ('πονέω', 'opossite', 0.2473287),\n ('πονέω', 'pathology', 0.31562302),\n ('πονέω', 'suffering', 0.18667556),\n ('πονέω', 'moral', 0.19159737),\n ('πονέω', 'pain', 0.44274056),\n ('πονέω', 'dietetics', 0.6218105),\n ('πονέω', 'other', 0.44377658),\n ('πόνος', 'bodily parts', 0.27131823),\n ('πόνος', 'emotion', 0.17723039),\n ('πόνος', 'opossite', 0.34572807),\n ('πόνος', 'pathology', 0.3579096),\n ('πόνος', 'suffering', 0.11875781),\n ('πόνος', 'moral', 0.2379182),\n ('πόνος', 'pain', 0.6061681),\n ('πόνος', 'dietetics', 0.641673),\n ('πόνος', 'other', 0.3771851)]"
     },
     "execution_count": 538,
     "metadata": {},
     "output_type": "execute_result"
    }
   ],
   "source": [
    "sim_tups"
   ],
   "metadata": {
    "collapsed": false
   }
  },
  {
   "cell_type": "markdown",
   "source": [
    "# Extending categories"
   ],
   "metadata": {
    "collapsed": false
   }
  },
  {
   "cell_type": "code",
   "execution_count": 539,
   "outputs": [],
   "source": [
    "other_words = []\n",
    "for term in term_category_dict.keys():\n",
    "    other_words.extend([tup[0] for tup in keyed_vectors_full.most_similar(term, topn=5)])"
   ],
   "metadata": {
    "collapsed": false
   }
  },
  {
   "cell_type": "code",
   "execution_count": 540,
   "outputs": [
    {
     "data": {
      "text/plain": "755"
     },
     "execution_count": 540,
     "metadata": {},
     "output_type": "execute_result"
    }
   ],
   "source": [
    "len(other_words)"
   ],
   "metadata": {
    "collapsed": false
   }
  },
  {
   "cell_type": "code",
   "execution_count": 541,
   "outputs": [
    {
     "data": {
      "text/plain": "374"
     },
     "execution_count": 541,
     "metadata": {},
     "output_type": "execute_result"
    }
   ],
   "source": [
    "other_words_unique =  set(other_words)\n",
    "len(other_words_unique)"
   ],
   "metadata": {
    "collapsed": false
   }
  },
  {
   "cell_type": "code",
   "execution_count": 542,
   "outputs": [
    {
     "data": {
      "text/plain": "['ὠφέλιμος',\n 'δύσκολος',\n 'πονηρός',\n 'ἀγαπάω',\n 'ὑγραίνω',\n 'μέλαθρον',\n 'αὐχήν',\n 'ῥοφέω',\n 'παρακελεύομαι',\n 'τριηραρχέω']"
     },
     "execution_count": 542,
     "metadata": {},
     "output_type": "execute_result"
    }
   ],
   "source": [
    "other_words_unique_new = list(other_words_unique.difference(term_category_dict.keys()))\n",
    "other_words_unique_new[:10]"
   ],
   "metadata": {
    "collapsed": false
   }
  },
  {
   "cell_type": "code",
   "execution_count": 543,
   "outputs": [],
   "source": [
    "word_cat_extension = pd.DataFrame({\"greek\" : other_words_unique_new, \"english\" : [translator(word) for word in other_words_unique_new], \"category\" : [\"\" for el in other_words_unique_new]})"
   ],
   "metadata": {
    "collapsed": false
   }
  },
  {
   "cell_type": "code",
   "execution_count": 544,
   "outputs": [],
   "source": [
    "#set_with_dataframe(PIPA_data.add_worksheet(\"word_cat_extension\", 1,1), word_cat_extension)"
   ],
   "metadata": {
    "collapsed": false
   }
  },
  {
   "cell_type": "markdown",
   "source": [
    "# Load back the manually coded extension"
   ],
   "metadata": {
    "collapsed": false
   }
  },
  {
   "cell_type": "code",
   "execution_count": 545,
   "outputs": [],
   "source": [
    "word_freqs = pickle.load(open(\"../data/word_freqs_all.pickle\", \"rb\"))\n",
    "word_freqs_dict = dict(word_freqs)"
   ],
   "metadata": {
    "collapsed": false
   }
  },
  {
   "cell_type": "code",
   "execution_count": 546,
   "outputs": [
    {
     "data": {
      "text/plain": "8832"
     },
     "execution_count": 546,
     "metadata": {},
     "output_type": "execute_result"
    }
   ],
   "source": [
    "word_freqs_dict[\"ἀγαθός\"]"
   ],
   "metadata": {
    "collapsed": false
   }
  },
  {
   "cell_type": "code",
   "execution_count": 547,
   "outputs": [
    {
     "data": {
      "text/plain": "      greek                                            english   category\n0  ὠφέλιμος  helping, useful, serviceable, profitable, adva...   opossite\n1  δύσκολος                         hard to satisfy with food;  dietetics\n2   πονηρός                        toilsome, painful, grievous       pain\n3    ἀγαπάω  to treat with affection, to caress, love, be f...   opossite\n4   ὑγραίνω                                    to wet, moisten  dietetics",
      "text/html": "<div>\n<style scoped>\n    .dataframe tbody tr th:only-of-type {\n        vertical-align: middle;\n    }\n\n    .dataframe tbody tr th {\n        vertical-align: top;\n    }\n\n    .dataframe thead th {\n        text-align: right;\n    }\n</style>\n<table border=\"1\" class=\"dataframe\">\n  <thead>\n    <tr style=\"text-align: right;\">\n      <th></th>\n      <th>greek</th>\n      <th>english</th>\n      <th>category</th>\n    </tr>\n  </thead>\n  <tbody>\n    <tr>\n      <th>0</th>\n      <td>ὠφέλιμος</td>\n      <td>helping, useful, serviceable, profitable, adva...</td>\n      <td>opossite</td>\n    </tr>\n    <tr>\n      <th>1</th>\n      <td>δύσκολος</td>\n      <td>hard to satisfy with food;</td>\n      <td>dietetics</td>\n    </tr>\n    <tr>\n      <th>2</th>\n      <td>πονηρός</td>\n      <td>toilsome, painful, grievous</td>\n      <td>pain</td>\n    </tr>\n    <tr>\n      <th>3</th>\n      <td>ἀγαπάω</td>\n      <td>to treat with affection, to caress, love, be f...</td>\n      <td>opossite</td>\n    </tr>\n    <tr>\n      <th>4</th>\n      <td>ὑγραίνω</td>\n      <td>to wet, moisten</td>\n      <td>dietetics</td>\n    </tr>\n  </tbody>\n</table>\n</div>"
     },
     "execution_count": 547,
     "metadata": {},
     "output_type": "execute_result"
    }
   ],
   "source": [
    "word_cat_extension_coded = get_as_dataframe(PIPA_data.worksheet(\"word_cat_extension\"))[[\"greek\", \"english\", \"category\"]]\n",
    "word_cat_extension_coded = word_cat_extension_coded[word_cat_extension_coded[\"category\"].notnull()]\n",
    "word_cat_extension_coded.head(5)"
   ],
   "metadata": {
    "collapsed": false
   }
  },
  {
   "cell_type": "code",
   "execution_count": 548,
   "outputs": [
    {
     "data": {
      "text/plain": "259"
     },
     "execution_count": 548,
     "metadata": {},
     "output_type": "execute_result"
    }
   ],
   "source": [
    "len(word_cat_extension_coded)"
   ],
   "metadata": {
    "collapsed": false
   }
  },
  {
   "cell_type": "code",
   "execution_count": 549,
   "outputs": [
    {
     "data": {
      "text/plain": "             greek                                            english  \\\n0         ὠφέλιμος  helping, useful, serviceable, profitable, adva...   \n1         δύσκολος                         hard to satisfy with food;   \n2          πονηρός                        toilsome, painful, grievous   \n3           ἀγαπάω  to treat with affection, to caress, love, be f...   \n4          ὑγραίνω                                    to wet, moisten   \n5         μέλαθρον                              the ceiling of a room   \n6            αὐχήν                                   the neck, throat   \n7            ῥοφέω                      to sup greedily up, gulp down   \n8    παρακελεύομαι                                           to order   \n9       τριηραρχέω                                            to be a   \n10       σπασμώδης                                            spasmic   \n11          ἄλητον                                               meal   \n12         δάκρυον                                             a tear   \n13            μᾶζα                                      a barley-cake   \n14           κλαίω                              to weep, lament, wail   \n15         εὐπορία                                        an easy way   \n16         σπασμός                                a convulsion, spasm   \n17            δεύω                                     to wet, drench   \n18        ἐρώμενος                                         one's love   \n19           αἰχμή                               the point of a spear   \n20         ἰητρεύω                                               heal   \n21          ῥύγχος                                    a snout, muzzle   \n22         ἔντερον                         an intestine, piece of gut   \n23           τάσις                          tension, intensity, force   \n24            κράς                                           the head   \n25           ποτόν                                              drink   \n26          πτέρυξ                                           the wing   \n27            δόρυ                                       a stem, tree   \n28            μέθη                                       strong drink   \n29          ῥόφημα                                           porridge   \n30        διάθεσις                         a disposition, arrangement   \n31         θιγγάνω                                   to touch, handle   \n32           φίλος                               loved, beloved, dear   \n33         παραχέω                         to pour in beside, pour in   \n34           μόρος                man's appointed doom, fate, destiny   \n35         αἰσχύνω                       to make ugly, disfigure, mar   \n36         ἐπιπίνω                                to drink afterwards   \n37          νεότης                                              youth   \n38         πλουτέω                                to be rich, wealthy   \n39      αἰσθητικός                                                 of   \n40       θανατώδης                                                NaN   \n41            Ἔρως                                                NaN   \n42           φοβέω                                   to put to flight   \n43          ἐκπνέω                                     to breathe out   \n44         ὑπομένω                            to stay behind, survive   \n45        ὀλιγωρέω                                   to esteem little   \n46        προσφέρω                                        to bring to   \n47          οἶκτος                                               pity   \n48        νουθετέω          to put in mind, to admonish, warn, advise   \n49            πτύω                                        to spit out   \n50          κολάζω                            to curtail, dock, prune   \n51        ἄγρυπνος                                hunting after sleep   \n52     ἀναισχυντία                                      shamelessness   \n53           μηρός                                          the thigh   \n54           γελάω                                           to laugh   \n55      ἀποκαθαίρω                                         to cleanse   \n56         ὑγιαίνω                               to be sound, healthy   \n57         σύνειμι                                                sum   \n58          Ἐρινύς                                         the Erinys   \n59          ὄλλυμι                         to destroy, make an end of   \n60           βήσσω                                           to cough   \n61          κύστις                                        the bladder   \n62        ἁμαρτάνω                             to miss, miss the mark   \n63          πότνια                                    mistress, queen   \n64      κατακτείνω                              to kill, slay, murder   \n65          εὐωχέω                                           to treat   \n66           πνίγω                       to choke, throttle, strangle   \n67        καταψύχω                                     to cool, chill   \n68          ἄκανθα                                   a thorn, prickle   \n69           ἀγκών                     the bend of the arm, the elbow   \n70           σπλήν                                   the milt, spleen   \n71           κενόω                                to empty out, drain   \n72        μαίνομαι                                to rage, be furious   \n73         σφοδρός                       vehement, violent, excessive   \n74         πυρετός                           burning heat, fiery heat   \n75        κερδαίνω                             to gain, derive profit   \n76           μωρός                             dull, sluggish, stupid   \n77         πτισάνη  peeled barley: a drink made thereof, barley-wa...   \n78         πραότης                               mildness, gentleness   \n79          δειλός                                   cowardly, craven   \n80    πεπερασμένον                                                NaN   \n81         αἰσχύνη                shame done one, disgrace, dishonour   \n82       κωματώδης                                                NaN   \n83         στέρνον                                  the breast, chest   \n84           ἔλεος                            pity, mercy, compassion   \n85      μελίκρητον                          a drink of honey and milk   \n86          φθόνος                           ill-will, envy, jealousy   \n87          σώφρων                                      of sound mind   \n88         διψώδης                                                NaN   \n89         εἰσοράω              to look into, look upon, view, behold   \n90           γῆρας                                            old age   \n91           ψῦξις                                                NaN   \n92        πιπράσκω                                            to sell   \n93           σιγάω                                       to be silent   \n94           ἄξιος                                   weighing as much   \n95        ἐλεεινός                               finding pity, pitied   \n96         πήγανον                                                rue   \n97       ἐγκράτεια                                       mastery over   \n98        ἐρωτικός                                            amatory   \n99           καῦμα                                       burning heat   \n100        ἀναιδής                                          shameless   \n101        ῥᾳθυμία         easiness of temper, a taking things easily   \n102      αἱματώδης                                          blood-red   \n103           ἰχώρ                          ichor, the etherial juice   \n104        ἀνάλωμα                                  expenditure, cost   \n105          τέρπω                to satisfy, delight, gladden, cheer   \n106           σῴζω                                           preserve   \n107        λέκτρον                                       a couch, bed   \n108           σάρξ                                              flesh   \n109     μεταδίδωμι                   to give part of, give a share of   \n110       θερμότης                                               heat   \n111         σιτίον           grain, corn: food made from grain, bread   \n112     αἱμορραγία                                                NaN   \n113           αἰών                                              aevum   \n114       πυκνότης                    closeness, thickness, denseness   \n115       ἀναίδεια               shamelessness, impudence, effrontery   \n116      θυμοειδής                          high-spirited, courageous   \n117         πότμος          that which befals one, one's lot, destiny   \n118       ὄσφρησις                          the sense of smell, smell   \n119           ἐράω                        to love, to be in love with   \n120       ἀνδρεῖος                                                 of   \n121      φλεγμαίνω                  to be heated, inflamed, to fester   \n122         σαπρός                                     rotten, putrid   \n123        χλιαρός                                     warm, lukewarm   \n124         δίεμαι                                     to flee, speed   \n125         θρασύς              bold, spirited, courageous, confident   \n126    ἀναίσχυντος                                shameless, impudent   \n127         πέτρος                                            a stone   \n128       φλεγμονή                                                NaN   \n129          ζηλόω                        to rival, vie with, emulate   \n130          ὄρχις                                      the testicles   \n131     στοχάζομαι                                             to aim   \n132         σίαλον                                    spittle, saliva   \n133       θερμαίνω                                      to warm, heat   \n134           ὄμμα                                            the eye   \n135     δυσεντερία                                          dysentery   \n136          οἰδέω                           to swell, become swollen   \n137        ἄπιστος                                  not to be trusted   \n138        ἀρτηρία                                      the wind-pipe   \n139     φρενιτικός                                                NaN   \n140      παρανομέω              to transgress the law, act unlawfully   \n141          ὀρέγω                     to reach, stretch, stretch out   \n142             ἴς                                           a muscle   \n143         κάλλος                                             beauty   \n144          αἰνέω                                            to tell   \n145       Αἴγισθος                                                NaN   \n146       σύγγονος             born with, congenital, inborn, natural   \n147       ὀλέθριος                                destructive, deadly   \n148       συντείνω  to stretch together, strain, draw tight, brace up   \n149       προσίημι                                         to send to   \n150           ἱμάς                                   a leathern strap   \n151         ἄλοχος                          a bedfellow, spouse, wife   \n152    ἐπικίνδυνος         in danger, dangerous, insecure, precarious   \n153         καῦσος                                      burning heat.   \n154         δαπάνη               outgoing, cost, expense, expenditure   \n155         ἀμαθία                                          ignorance   \n156          κοίτη                                   the marriage-bed   \n157       ἐπιζητέω                      to seek after, wish for, miss   \n158      χαλεπαίνω                       to be severe, sore, grievous   \n159        οἰκτίρω                                                NaN   \n160           φλέψ                                             a vein   \n161   καταμαρτυρέω                            to bear witness against   \n162          ῥῖγος                                        frost, cold   \n163       ὀπίσθιος               hinder, belonging to the hinder part   \n164       ἐπιτιμάω                                to lay a value upon   \n165     ἀγωνίζομαι                             to contend for a prize   \n166       ἔλλειψις                                                NaN   \n167         ἐνδεής                                         in need of   \n168         ἀγνοέω                                    not to perceive   \n169         γνάθος                                            the jaw   \n170           σείω                          to shake, move to and fro   \n171          ῥιγόω                       to be cold, shiver from cold   \n172       μοχθηρία                             bad condition, badness   \n173        πνεύμων                                       the organ of   \n174    ἀνελεύθερος                             not fit for a free man   \n175        εἰσφορά                                     a gathering in   \n176         φέγγος                           light, splendour, lustre   \n177          νῶτον                                           the back   \n178          φάτις  a voice from heaven, the voice of an oracle, a...   \n179         ἀκμάζω             to be in full bloom, be at one's prime   \n180        ἀνδρεία                   manliness, manhood, manly spirit   \n181      πεμπταῖος                                   on the fifth day   \n182         ἀδικία                             wrong-doing, injustice   \n183         δειλία                                          cowardice   \n184        ἐλλείπω                          to leave in, leave behind   \n185       πελιδνός                                              livid   \n186       τρομώδης                                                NaN   \n187          ἐλεέω                   to have pity on, shew mercy upon   \n188      ἐπαινετός                            to be praised, laudable   \n189         νεφρός                                        the kidneys   \n190         θράσος                                  courage, boldness   \n191        ἀσχολία           an occupation, business, want of leisure   \n192      καταγελάω                                  to laugh at, jeer   \n193           ὀργή                                    natural impulse   \n194         σκώπτω                      to hoot, mock, jeer, scoff at   \n195        μασχάλη                                         the armpit   \n196       κρόταφος                           the side of the forehead   \n197       ἐξελέγχω                        to convict, confute, refute   \n198        ἀναπνοή                        recovery of breath, revival   \n199        αἰσχρός                             causing shame, abusive   \n200          ὀκνέω                                          to shrink   \n201        μεσότης                                           a middle   \n202    γυμναστικός        fond of athletic exercises, skilled in them   \n203           εἴκω                                              victo   \n204       ὑβριστής  a violent, overbearing person, a wanton, insol...   \n205      ἐπιπλήσσω                       to strike at, strike smartly   \n206         μελέτη                                    care, attention   \n207         ὁμιλέω                to be in company with, consort with   \n208        ἐμποιέω                                         to make in   \n209        πονηρία                                        a bad state   \n210          ὄγκος                                           the barb   \n211          ἄχθος                             a weight, burden, load   \n212       ἀφροσύνη              folly, thoughtlessness, senselessness   \n213         λεύσσω                                            to look   \n214         ἄνηθον                                        anise, dill   \n215           σήπω                                     to make rotten   \n216           ψέγω                                  to blame, censure   \n217         ἰσχίον                                      the hip-joint   \n218       ἁμάρτημα                              a failure, fault, sin   \n219       φαντασία  imagination, the power by which an object is p...   \n220       ὀνειδίζω                           to throw a reproach upon   \n221         χρῆσις                           a using, employment, use   \n222          διψάω                                          to thirst   \n223     κακοδαίμων  possessed by an evil genius, ill-fated, ill-st...   \n224         φάρυγξ                                 the throat, gullet   \n225      περιπατέω                 to walk up and down, to walk about   \n226      κινητικός                                                 of   \n227          ἀσκέω            to work curiously, form by art, fashion   \n228        νέτωπον                                                NaN   \n229          ἰσχύς                                           strength   \n230          φιλέω                     to love, regard with affection   \n231       σωφρονέω                                to be sound of mind   \n232           δέος                              fear, alarm, affright   \n233         δράκων                                           a dragon   \n234        τιμωρέω                              to help, aid, succour   \n235          ὄλβος                     happiness, bliss, weal, wealth   \n236          πάτρα             fatherland, native land, country, home   \n237       κίνδυνος        a danger, risk, hazard, venture, enterprise   \n238        λεπτύνω                                      to make small   \n239         ἀτυχέω                                      to be unlucky   \n240          φρίκη                            a shuddering, shivering   \n241            βοή                                  a loud cry, shout   \n242          ἀρχός                         a leader, chief, commander   \n243          ἄφρων                                      without sense   \n244         θρῆνος                      a funeral-song, dirge, lament   \n245          βρῶμα                    that which is eaten, food, meat   \n246    προπηλακίζω                              to bespatter with mud   \n247        ἐπιρρέω              to flow upon the surface, float a-top   \n248         ἀδικέω                                        to do wrong   \n249         ἀγαθός                                               good   \n250     δημιουργέω                       to practise a trade, do work   \n251          πηδάω                             to leap, spring, bound   \n252        ἀκρατής                                powerless, impotent   \n253          κάμνω                                            to work   \n254          χάσκω                                                may   \n255         ὄρεξις                                   desire, appetite   \n256         ἡλικία                                  time of life, age   \n257         φλοιός                                           the bark   \n258         αὔτεος                                                NaN   \n\n         category  \n0        opossite  \n1       dietetics  \n2            pain  \n3        opossite  \n4       dietetics  \n5           other  \n6    bodily parts  \n7       dietetics  \n8           other  \n9           other  \n10      pathology  \n11      dietetics  \n12        emotion  \n13      dietetics  \n14        emotion  \n15       opossite  \n16      pathology  \n17      dietetics  \n18        emotion  \n19          other  \n20       opossite  \n21   bodily parts  \n22   bodily parts  \n23      dietetics  \n24   bodily parts  \n25      dietetics  \n26   bodily parts  \n27          other  \n28      dietetics  \n29      dietetics  \n30          other  \n31          other  \n32          moral  \n33      dietetics  \n34          moral  \n35      suffering  \n36      dietetics  \n37          other  \n38          other  \n39          other  \n40      pathology  \n41        emotion  \n42        emotion  \n43      dietetics  \n44          other  \n45          other  \n46          other  \n47        emotion  \n48          other  \n49          other  \n50          other  \n51      dietetics  \n52          moral  \n53   bodily parts  \n54        emotion  \n55          other  \n56       opossite  \n57          other  \n58          other  \n59      suffering  \n60      pathology  \n61   bodily parts  \n62      suffering  \n63          moral  \n64      suffering  \n65          other  \n66          other  \n67          other  \n68          other  \n69   bodily parts  \n70   bodily parts  \n71      dietetics  \n72        emotion  \n73          other  \n74      pathology  \n75          other  \n76          moral  \n77      dietetics  \n78          other  \n79          moral  \n80          other  \n81          moral  \n82      pathology  \n83   bodily parts  \n84        emotion  \n85      dietetics  \n86          moral  \n87          moral  \n88      dietetics  \n89          other  \n90      pathology  \n91      dietetics  \n92          other  \n93          other  \n94          moral  \n95          moral  \n96          moral  \n97          moral  \n98        emotion  \n99      pathology  \n100         moral  \n101      opossite  \n102  bodily parts  \n103  bodily parts  \n104         other  \n105      opossite  \n106      opossite  \n107     dietetics  \n108  bodily parts  \n109         other  \n110     pathology  \n111     dietetics  \n112     pathology  \n113         other  \n114     pathology  \n115         moral  \n116         moral  \n117         moral  \n118         other  \n119       emotion  \n120         moral  \n121     pathology  \n122     pathology  \n123     pathology  \n124         other  \n125         moral  \n126         moral  \n127         other  \n128     pathology  \n129         other  \n130  bodily parts  \n131         other  \n132  bodily parts  \n133     pathology  \n134  bodily parts  \n135     pathology  \n136     pathology  \n137         moral  \n138  bodily parts  \n139     pathology  \n140         moral  \n141         other  \n142  bodily parts  \n143      opossite  \n144         other  \n145         other  \n146         other  \n147     pathology  \n148         other  \n149         other  \n150     pathology  \n151         other  \n152         other  \n153     pathology  \n154         other  \n155         moral  \n156         other  \n157         other  \n158     pathology  \n159       emotion  \n160  bodily parts  \n161         other  \n162     pathology  \n163         other  \n164         other  \n165         other  \n166         other  \n167     dietetics  \n168         other  \n169  bodily parts  \n170         other  \n171     pathology  \n172     suffering  \n173  bodily parts  \n174         moral  \n175         other  \n176         other  \n177  bodily parts  \n178         other  \n179         other  \n180         moral  \n181         other  \n182         moral  \n183         moral  \n184         other  \n185       emotion  \n186     pathology  \n187       emotion  \n188         moral  \n189  bodily parts  \n190         moral  \n191         other  \n192         other  \n193         other  \n194         other  \n195  bodily parts  \n196  bodily parts  \n197         other  \n198     dietetics  \n199         moral  \n200         other  \n201         other  \n202     dietetics  \n203         other  \n204         moral  \n205         other  \n206     dietetics  \n207         other  \n208         other  \n209         moral  \n210     pathology  \n211         other  \n212         moral  \n213         other  \n214         other  \n215     pathology  \n216         moral  \n217  bodily parts  \n218         moral  \n219         other  \n220         other  \n221         other  \n222     dietetics  \n223     pathology  \n224  bodily parts  \n225     dietetics  \n226     dietetics  \n227     dietetics  \n228         other  \n229     dietetics  \n230       emotion  \n231         moral  \n232         moral  \n233         other  \n234      opossite  \n235      opossite  \n236         other  \n237     suffering  \n238         other  \n239       emotion  \n240     pathology  \n241         other  \n242         other  \n243         moral  \n244         other  \n245     dietetics  \n246         other  \n247         other  \n248         moral  \n249         moral  \n250         other  \n251         other  \n252     dietetics  \n253     dietetics  \n254         other  \n255      opossite  \n256     dietetics  \n257  bodily parts  \n258         other  ",
      "text/html": "<div>\n<style scoped>\n    .dataframe tbody tr th:only-of-type {\n        vertical-align: middle;\n    }\n\n    .dataframe tbody tr th {\n        vertical-align: top;\n    }\n\n    .dataframe thead th {\n        text-align: right;\n    }\n</style>\n<table border=\"1\" class=\"dataframe\">\n  <thead>\n    <tr style=\"text-align: right;\">\n      <th></th>\n      <th>greek</th>\n      <th>english</th>\n      <th>category</th>\n    </tr>\n  </thead>\n  <tbody>\n    <tr>\n      <th>0</th>\n      <td>ὠφέλιμος</td>\n      <td>helping, useful, serviceable, profitable, adva...</td>\n      <td>opossite</td>\n    </tr>\n    <tr>\n      <th>1</th>\n      <td>δύσκολος</td>\n      <td>hard to satisfy with food;</td>\n      <td>dietetics</td>\n    </tr>\n    <tr>\n      <th>2</th>\n      <td>πονηρός</td>\n      <td>toilsome, painful, grievous</td>\n      <td>pain</td>\n    </tr>\n    <tr>\n      <th>3</th>\n      <td>ἀγαπάω</td>\n      <td>to treat with affection, to caress, love, be f...</td>\n      <td>opossite</td>\n    </tr>\n    <tr>\n      <th>4</th>\n      <td>ὑγραίνω</td>\n      <td>to wet, moisten</td>\n      <td>dietetics</td>\n    </tr>\n    <tr>\n      <th>5</th>\n      <td>μέλαθρον</td>\n      <td>the ceiling of a room</td>\n      <td>other</td>\n    </tr>\n    <tr>\n      <th>6</th>\n      <td>αὐχήν</td>\n      <td>the neck, throat</td>\n      <td>bodily parts</td>\n    </tr>\n    <tr>\n      <th>7</th>\n      <td>ῥοφέω</td>\n      <td>to sup greedily up, gulp down</td>\n      <td>dietetics</td>\n    </tr>\n    <tr>\n      <th>8</th>\n      <td>παρακελεύομαι</td>\n      <td>to order</td>\n      <td>other</td>\n    </tr>\n    <tr>\n      <th>9</th>\n      <td>τριηραρχέω</td>\n      <td>to be a</td>\n      <td>other</td>\n    </tr>\n    <tr>\n      <th>10</th>\n      <td>σπασμώδης</td>\n      <td>spasmic</td>\n      <td>pathology</td>\n    </tr>\n    <tr>\n      <th>11</th>\n      <td>ἄλητον</td>\n      <td>meal</td>\n      <td>dietetics</td>\n    </tr>\n    <tr>\n      <th>12</th>\n      <td>δάκρυον</td>\n      <td>a tear</td>\n      <td>emotion</td>\n    </tr>\n    <tr>\n      <th>13</th>\n      <td>μᾶζα</td>\n      <td>a barley-cake</td>\n      <td>dietetics</td>\n    </tr>\n    <tr>\n      <th>14</th>\n      <td>κλαίω</td>\n      <td>to weep, lament, wail</td>\n      <td>emotion</td>\n    </tr>\n    <tr>\n      <th>15</th>\n      <td>εὐπορία</td>\n      <td>an easy way</td>\n      <td>opossite</td>\n    </tr>\n    <tr>\n      <th>16</th>\n      <td>σπασμός</td>\n      <td>a convulsion, spasm</td>\n      <td>pathology</td>\n    </tr>\n    <tr>\n      <th>17</th>\n      <td>δεύω</td>\n      <td>to wet, drench</td>\n      <td>dietetics</td>\n    </tr>\n    <tr>\n      <th>18</th>\n      <td>ἐρώμενος</td>\n      <td>one's love</td>\n      <td>emotion</td>\n    </tr>\n    <tr>\n      <th>19</th>\n      <td>αἰχμή</td>\n      <td>the point of a spear</td>\n      <td>other</td>\n    </tr>\n    <tr>\n      <th>20</th>\n      <td>ἰητρεύω</td>\n      <td>heal</td>\n      <td>opossite</td>\n    </tr>\n    <tr>\n      <th>21</th>\n      <td>ῥύγχος</td>\n      <td>a snout, muzzle</td>\n      <td>bodily parts</td>\n    </tr>\n    <tr>\n      <th>22</th>\n      <td>ἔντερον</td>\n      <td>an intestine, piece of gut</td>\n      <td>bodily parts</td>\n    </tr>\n    <tr>\n      <th>23</th>\n      <td>τάσις</td>\n      <td>tension, intensity, force</td>\n      <td>dietetics</td>\n    </tr>\n    <tr>\n      <th>24</th>\n      <td>κράς</td>\n      <td>the head</td>\n      <td>bodily parts</td>\n    </tr>\n    <tr>\n      <th>25</th>\n      <td>ποτόν</td>\n      <td>drink</td>\n      <td>dietetics</td>\n    </tr>\n    <tr>\n      <th>26</th>\n      <td>πτέρυξ</td>\n      <td>the wing</td>\n      <td>bodily parts</td>\n    </tr>\n    <tr>\n      <th>27</th>\n      <td>δόρυ</td>\n      <td>a stem, tree</td>\n      <td>other</td>\n    </tr>\n    <tr>\n      <th>28</th>\n      <td>μέθη</td>\n      <td>strong drink</td>\n      <td>dietetics</td>\n    </tr>\n    <tr>\n      <th>29</th>\n      <td>ῥόφημα</td>\n      <td>porridge</td>\n      <td>dietetics</td>\n    </tr>\n    <tr>\n      <th>30</th>\n      <td>διάθεσις</td>\n      <td>a disposition, arrangement</td>\n      <td>other</td>\n    </tr>\n    <tr>\n      <th>31</th>\n      <td>θιγγάνω</td>\n      <td>to touch, handle</td>\n      <td>other</td>\n    </tr>\n    <tr>\n      <th>32</th>\n      <td>φίλος</td>\n      <td>loved, beloved, dear</td>\n      <td>moral</td>\n    </tr>\n    <tr>\n      <th>33</th>\n      <td>παραχέω</td>\n      <td>to pour in beside, pour in</td>\n      <td>dietetics</td>\n    </tr>\n    <tr>\n      <th>34</th>\n      <td>μόρος</td>\n      <td>man's appointed doom, fate, destiny</td>\n      <td>moral</td>\n    </tr>\n    <tr>\n      <th>35</th>\n      <td>αἰσχύνω</td>\n      <td>to make ugly, disfigure, mar</td>\n      <td>suffering</td>\n    </tr>\n    <tr>\n      <th>36</th>\n      <td>ἐπιπίνω</td>\n      <td>to drink afterwards</td>\n      <td>dietetics</td>\n    </tr>\n    <tr>\n      <th>37</th>\n      <td>νεότης</td>\n      <td>youth</td>\n      <td>other</td>\n    </tr>\n    <tr>\n      <th>38</th>\n      <td>πλουτέω</td>\n      <td>to be rich, wealthy</td>\n      <td>other</td>\n    </tr>\n    <tr>\n      <th>39</th>\n      <td>αἰσθητικός</td>\n      <td>of</td>\n      <td>other</td>\n    </tr>\n    <tr>\n      <th>40</th>\n      <td>θανατώδης</td>\n      <td>NaN</td>\n      <td>pathology</td>\n    </tr>\n    <tr>\n      <th>41</th>\n      <td>Ἔρως</td>\n      <td>NaN</td>\n      <td>emotion</td>\n    </tr>\n    <tr>\n      <th>42</th>\n      <td>φοβέω</td>\n      <td>to put to flight</td>\n      <td>emotion</td>\n    </tr>\n    <tr>\n      <th>43</th>\n      <td>ἐκπνέω</td>\n      <td>to breathe out</td>\n      <td>dietetics</td>\n    </tr>\n    <tr>\n      <th>44</th>\n      <td>ὑπομένω</td>\n      <td>to stay behind, survive</td>\n      <td>other</td>\n    </tr>\n    <tr>\n      <th>45</th>\n      <td>ὀλιγωρέω</td>\n      <td>to esteem little</td>\n      <td>other</td>\n    </tr>\n    <tr>\n      <th>46</th>\n      <td>προσφέρω</td>\n      <td>to bring to</td>\n      <td>other</td>\n    </tr>\n    <tr>\n      <th>47</th>\n      <td>οἶκτος</td>\n      <td>pity</td>\n      <td>emotion</td>\n    </tr>\n    <tr>\n      <th>48</th>\n      <td>νουθετέω</td>\n      <td>to put in mind, to admonish, warn, advise</td>\n      <td>other</td>\n    </tr>\n    <tr>\n      <th>49</th>\n      <td>πτύω</td>\n      <td>to spit out</td>\n      <td>other</td>\n    </tr>\n    <tr>\n      <th>50</th>\n      <td>κολάζω</td>\n      <td>to curtail, dock, prune</td>\n      <td>other</td>\n    </tr>\n    <tr>\n      <th>51</th>\n      <td>ἄγρυπνος</td>\n      <td>hunting after sleep</td>\n      <td>dietetics</td>\n    </tr>\n    <tr>\n      <th>52</th>\n      <td>ἀναισχυντία</td>\n      <td>shamelessness</td>\n      <td>moral</td>\n    </tr>\n    <tr>\n      <th>53</th>\n      <td>μηρός</td>\n      <td>the thigh</td>\n      <td>bodily parts</td>\n    </tr>\n    <tr>\n      <th>54</th>\n      <td>γελάω</td>\n      <td>to laugh</td>\n      <td>emotion</td>\n    </tr>\n    <tr>\n      <th>55</th>\n      <td>ἀποκαθαίρω</td>\n      <td>to cleanse</td>\n      <td>other</td>\n    </tr>\n    <tr>\n      <th>56</th>\n      <td>ὑγιαίνω</td>\n      <td>to be sound, healthy</td>\n      <td>opossite</td>\n    </tr>\n    <tr>\n      <th>57</th>\n      <td>σύνειμι</td>\n      <td>sum</td>\n      <td>other</td>\n    </tr>\n    <tr>\n      <th>58</th>\n      <td>Ἐρινύς</td>\n      <td>the Erinys</td>\n      <td>other</td>\n    </tr>\n    <tr>\n      <th>59</th>\n      <td>ὄλλυμι</td>\n      <td>to destroy, make an end of</td>\n      <td>suffering</td>\n    </tr>\n    <tr>\n      <th>60</th>\n      <td>βήσσω</td>\n      <td>to cough</td>\n      <td>pathology</td>\n    </tr>\n    <tr>\n      <th>61</th>\n      <td>κύστις</td>\n      <td>the bladder</td>\n      <td>bodily parts</td>\n    </tr>\n    <tr>\n      <th>62</th>\n      <td>ἁμαρτάνω</td>\n      <td>to miss, miss the mark</td>\n      <td>suffering</td>\n    </tr>\n    <tr>\n      <th>63</th>\n      <td>πότνια</td>\n      <td>mistress, queen</td>\n      <td>moral</td>\n    </tr>\n    <tr>\n      <th>64</th>\n      <td>κατακτείνω</td>\n      <td>to kill, slay, murder</td>\n      <td>suffering</td>\n    </tr>\n    <tr>\n      <th>65</th>\n      <td>εὐωχέω</td>\n      <td>to treat</td>\n      <td>other</td>\n    </tr>\n    <tr>\n      <th>66</th>\n      <td>πνίγω</td>\n      <td>to choke, throttle, strangle</td>\n      <td>other</td>\n    </tr>\n    <tr>\n      <th>67</th>\n      <td>καταψύχω</td>\n      <td>to cool, chill</td>\n      <td>other</td>\n    </tr>\n    <tr>\n      <th>68</th>\n      <td>ἄκανθα</td>\n      <td>a thorn, prickle</td>\n      <td>other</td>\n    </tr>\n    <tr>\n      <th>69</th>\n      <td>ἀγκών</td>\n      <td>the bend of the arm, the elbow</td>\n      <td>bodily parts</td>\n    </tr>\n    <tr>\n      <th>70</th>\n      <td>σπλήν</td>\n      <td>the milt, spleen</td>\n      <td>bodily parts</td>\n    </tr>\n    <tr>\n      <th>71</th>\n      <td>κενόω</td>\n      <td>to empty out, drain</td>\n      <td>dietetics</td>\n    </tr>\n    <tr>\n      <th>72</th>\n      <td>μαίνομαι</td>\n      <td>to rage, be furious</td>\n      <td>emotion</td>\n    </tr>\n    <tr>\n      <th>73</th>\n      <td>σφοδρός</td>\n      <td>vehement, violent, excessive</td>\n      <td>other</td>\n    </tr>\n    <tr>\n      <th>74</th>\n      <td>πυρετός</td>\n      <td>burning heat, fiery heat</td>\n      <td>pathology</td>\n    </tr>\n    <tr>\n      <th>75</th>\n      <td>κερδαίνω</td>\n      <td>to gain, derive profit</td>\n      <td>other</td>\n    </tr>\n    <tr>\n      <th>76</th>\n      <td>μωρός</td>\n      <td>dull, sluggish, stupid</td>\n      <td>moral</td>\n    </tr>\n    <tr>\n      <th>77</th>\n      <td>πτισάνη</td>\n      <td>peeled barley: a drink made thereof, barley-wa...</td>\n      <td>dietetics</td>\n    </tr>\n    <tr>\n      <th>78</th>\n      <td>πραότης</td>\n      <td>mildness, gentleness</td>\n      <td>other</td>\n    </tr>\n    <tr>\n      <th>79</th>\n      <td>δειλός</td>\n      <td>cowardly, craven</td>\n      <td>moral</td>\n    </tr>\n    <tr>\n      <th>80</th>\n      <td>πεπερασμένον</td>\n      <td>NaN</td>\n      <td>other</td>\n    </tr>\n    <tr>\n      <th>81</th>\n      <td>αἰσχύνη</td>\n      <td>shame done one, disgrace, dishonour</td>\n      <td>moral</td>\n    </tr>\n    <tr>\n      <th>82</th>\n      <td>κωματώδης</td>\n      <td>NaN</td>\n      <td>pathology</td>\n    </tr>\n    <tr>\n      <th>83</th>\n      <td>στέρνον</td>\n      <td>the breast, chest</td>\n      <td>bodily parts</td>\n    </tr>\n    <tr>\n      <th>84</th>\n      <td>ἔλεος</td>\n      <td>pity, mercy, compassion</td>\n      <td>emotion</td>\n    </tr>\n    <tr>\n      <th>85</th>\n      <td>μελίκρητον</td>\n      <td>a drink of honey and milk</td>\n      <td>dietetics</td>\n    </tr>\n    <tr>\n      <th>86</th>\n      <td>φθόνος</td>\n      <td>ill-will, envy, jealousy</td>\n      <td>moral</td>\n    </tr>\n    <tr>\n      <th>87</th>\n      <td>σώφρων</td>\n      <td>of sound mind</td>\n      <td>moral</td>\n    </tr>\n    <tr>\n      <th>88</th>\n      <td>διψώδης</td>\n      <td>NaN</td>\n      <td>dietetics</td>\n    </tr>\n    <tr>\n      <th>89</th>\n      <td>εἰσοράω</td>\n      <td>to look into, look upon, view, behold</td>\n      <td>other</td>\n    </tr>\n    <tr>\n      <th>90</th>\n      <td>γῆρας</td>\n      <td>old age</td>\n      <td>pathology</td>\n    </tr>\n    <tr>\n      <th>91</th>\n      <td>ψῦξις</td>\n      <td>NaN</td>\n      <td>dietetics</td>\n    </tr>\n    <tr>\n      <th>92</th>\n      <td>πιπράσκω</td>\n      <td>to sell</td>\n      <td>other</td>\n    </tr>\n    <tr>\n      <th>93</th>\n      <td>σιγάω</td>\n      <td>to be silent</td>\n      <td>other</td>\n    </tr>\n    <tr>\n      <th>94</th>\n      <td>ἄξιος</td>\n      <td>weighing as much</td>\n      <td>moral</td>\n    </tr>\n    <tr>\n      <th>95</th>\n      <td>ἐλεεινός</td>\n      <td>finding pity, pitied</td>\n      <td>moral</td>\n    </tr>\n    <tr>\n      <th>96</th>\n      <td>πήγανον</td>\n      <td>rue</td>\n      <td>moral</td>\n    </tr>\n    <tr>\n      <th>97</th>\n      <td>ἐγκράτεια</td>\n      <td>mastery over</td>\n      <td>moral</td>\n    </tr>\n    <tr>\n      <th>98</th>\n      <td>ἐρωτικός</td>\n      <td>amatory</td>\n      <td>emotion</td>\n    </tr>\n    <tr>\n      <th>99</th>\n      <td>καῦμα</td>\n      <td>burning heat</td>\n      <td>pathology</td>\n    </tr>\n    <tr>\n      <th>100</th>\n      <td>ἀναιδής</td>\n      <td>shameless</td>\n      <td>moral</td>\n    </tr>\n    <tr>\n      <th>101</th>\n      <td>ῥᾳθυμία</td>\n      <td>easiness of temper, a taking things easily</td>\n      <td>opossite</td>\n    </tr>\n    <tr>\n      <th>102</th>\n      <td>αἱματώδης</td>\n      <td>blood-red</td>\n      <td>bodily parts</td>\n    </tr>\n    <tr>\n      <th>103</th>\n      <td>ἰχώρ</td>\n      <td>ichor, the etherial juice</td>\n      <td>bodily parts</td>\n    </tr>\n    <tr>\n      <th>104</th>\n      <td>ἀνάλωμα</td>\n      <td>expenditure, cost</td>\n      <td>other</td>\n    </tr>\n    <tr>\n      <th>105</th>\n      <td>τέρπω</td>\n      <td>to satisfy, delight, gladden, cheer</td>\n      <td>opossite</td>\n    </tr>\n    <tr>\n      <th>106</th>\n      <td>σῴζω</td>\n      <td>preserve</td>\n      <td>opossite</td>\n    </tr>\n    <tr>\n      <th>107</th>\n      <td>λέκτρον</td>\n      <td>a couch, bed</td>\n      <td>dietetics</td>\n    </tr>\n    <tr>\n      <th>108</th>\n      <td>σάρξ</td>\n      <td>flesh</td>\n      <td>bodily parts</td>\n    </tr>\n    <tr>\n      <th>109</th>\n      <td>μεταδίδωμι</td>\n      <td>to give part of, give a share of</td>\n      <td>other</td>\n    </tr>\n    <tr>\n      <th>110</th>\n      <td>θερμότης</td>\n      <td>heat</td>\n      <td>pathology</td>\n    </tr>\n    <tr>\n      <th>111</th>\n      <td>σιτίον</td>\n      <td>grain, corn: food made from grain, bread</td>\n      <td>dietetics</td>\n    </tr>\n    <tr>\n      <th>112</th>\n      <td>αἱμορραγία</td>\n      <td>NaN</td>\n      <td>pathology</td>\n    </tr>\n    <tr>\n      <th>113</th>\n      <td>αἰών</td>\n      <td>aevum</td>\n      <td>other</td>\n    </tr>\n    <tr>\n      <th>114</th>\n      <td>πυκνότης</td>\n      <td>closeness, thickness, denseness</td>\n      <td>pathology</td>\n    </tr>\n    <tr>\n      <th>115</th>\n      <td>ἀναίδεια</td>\n      <td>shamelessness, impudence, effrontery</td>\n      <td>moral</td>\n    </tr>\n    <tr>\n      <th>116</th>\n      <td>θυμοειδής</td>\n      <td>high-spirited, courageous</td>\n      <td>moral</td>\n    </tr>\n    <tr>\n      <th>117</th>\n      <td>πότμος</td>\n      <td>that which befals one, one's lot, destiny</td>\n      <td>moral</td>\n    </tr>\n    <tr>\n      <th>118</th>\n      <td>ὄσφρησις</td>\n      <td>the sense of smell, smell</td>\n      <td>other</td>\n    </tr>\n    <tr>\n      <th>119</th>\n      <td>ἐράω</td>\n      <td>to love, to be in love with</td>\n      <td>emotion</td>\n    </tr>\n    <tr>\n      <th>120</th>\n      <td>ἀνδρεῖος</td>\n      <td>of</td>\n      <td>moral</td>\n    </tr>\n    <tr>\n      <th>121</th>\n      <td>φλεγμαίνω</td>\n      <td>to be heated, inflamed, to fester</td>\n      <td>pathology</td>\n    </tr>\n    <tr>\n      <th>122</th>\n      <td>σαπρός</td>\n      <td>rotten, putrid</td>\n      <td>pathology</td>\n    </tr>\n    <tr>\n      <th>123</th>\n      <td>χλιαρός</td>\n      <td>warm, lukewarm</td>\n      <td>pathology</td>\n    </tr>\n    <tr>\n      <th>124</th>\n      <td>δίεμαι</td>\n      <td>to flee, speed</td>\n      <td>other</td>\n    </tr>\n    <tr>\n      <th>125</th>\n      <td>θρασύς</td>\n      <td>bold, spirited, courageous, confident</td>\n      <td>moral</td>\n    </tr>\n    <tr>\n      <th>126</th>\n      <td>ἀναίσχυντος</td>\n      <td>shameless, impudent</td>\n      <td>moral</td>\n    </tr>\n    <tr>\n      <th>127</th>\n      <td>πέτρος</td>\n      <td>a stone</td>\n      <td>other</td>\n    </tr>\n    <tr>\n      <th>128</th>\n      <td>φλεγμονή</td>\n      <td>NaN</td>\n      <td>pathology</td>\n    </tr>\n    <tr>\n      <th>129</th>\n      <td>ζηλόω</td>\n      <td>to rival, vie with, emulate</td>\n      <td>other</td>\n    </tr>\n    <tr>\n      <th>130</th>\n      <td>ὄρχις</td>\n      <td>the testicles</td>\n      <td>bodily parts</td>\n    </tr>\n    <tr>\n      <th>131</th>\n      <td>στοχάζομαι</td>\n      <td>to aim</td>\n      <td>other</td>\n    </tr>\n    <tr>\n      <th>132</th>\n      <td>σίαλον</td>\n      <td>spittle, saliva</td>\n      <td>bodily parts</td>\n    </tr>\n    <tr>\n      <th>133</th>\n      <td>θερμαίνω</td>\n      <td>to warm, heat</td>\n      <td>pathology</td>\n    </tr>\n    <tr>\n      <th>134</th>\n      <td>ὄμμα</td>\n      <td>the eye</td>\n      <td>bodily parts</td>\n    </tr>\n    <tr>\n      <th>135</th>\n      <td>δυσεντερία</td>\n      <td>dysentery</td>\n      <td>pathology</td>\n    </tr>\n    <tr>\n      <th>136</th>\n      <td>οἰδέω</td>\n      <td>to swell, become swollen</td>\n      <td>pathology</td>\n    </tr>\n    <tr>\n      <th>137</th>\n      <td>ἄπιστος</td>\n      <td>not to be trusted</td>\n      <td>moral</td>\n    </tr>\n    <tr>\n      <th>138</th>\n      <td>ἀρτηρία</td>\n      <td>the wind-pipe</td>\n      <td>bodily parts</td>\n    </tr>\n    <tr>\n      <th>139</th>\n      <td>φρενιτικός</td>\n      <td>NaN</td>\n      <td>pathology</td>\n    </tr>\n    <tr>\n      <th>140</th>\n      <td>παρανομέω</td>\n      <td>to transgress the law, act unlawfully</td>\n      <td>moral</td>\n    </tr>\n    <tr>\n      <th>141</th>\n      <td>ὀρέγω</td>\n      <td>to reach, stretch, stretch out</td>\n      <td>other</td>\n    </tr>\n    <tr>\n      <th>142</th>\n      <td>ἴς</td>\n      <td>a muscle</td>\n      <td>bodily parts</td>\n    </tr>\n    <tr>\n      <th>143</th>\n      <td>κάλλος</td>\n      <td>beauty</td>\n      <td>opossite</td>\n    </tr>\n    <tr>\n      <th>144</th>\n      <td>αἰνέω</td>\n      <td>to tell</td>\n      <td>other</td>\n    </tr>\n    <tr>\n      <th>145</th>\n      <td>Αἴγισθος</td>\n      <td>NaN</td>\n      <td>other</td>\n    </tr>\n    <tr>\n      <th>146</th>\n      <td>σύγγονος</td>\n      <td>born with, congenital, inborn, natural</td>\n      <td>other</td>\n    </tr>\n    <tr>\n      <th>147</th>\n      <td>ὀλέθριος</td>\n      <td>destructive, deadly</td>\n      <td>pathology</td>\n    </tr>\n    <tr>\n      <th>148</th>\n      <td>συντείνω</td>\n      <td>to stretch together, strain, draw tight, brace up</td>\n      <td>other</td>\n    </tr>\n    <tr>\n      <th>149</th>\n      <td>προσίημι</td>\n      <td>to send to</td>\n      <td>other</td>\n    </tr>\n    <tr>\n      <th>150</th>\n      <td>ἱμάς</td>\n      <td>a leathern strap</td>\n      <td>pathology</td>\n    </tr>\n    <tr>\n      <th>151</th>\n      <td>ἄλοχος</td>\n      <td>a bedfellow, spouse, wife</td>\n      <td>other</td>\n    </tr>\n    <tr>\n      <th>152</th>\n      <td>ἐπικίνδυνος</td>\n      <td>in danger, dangerous, insecure, precarious</td>\n      <td>other</td>\n    </tr>\n    <tr>\n      <th>153</th>\n      <td>καῦσος</td>\n      <td>burning heat.</td>\n      <td>pathology</td>\n    </tr>\n    <tr>\n      <th>154</th>\n      <td>δαπάνη</td>\n      <td>outgoing, cost, expense, expenditure</td>\n      <td>other</td>\n    </tr>\n    <tr>\n      <th>155</th>\n      <td>ἀμαθία</td>\n      <td>ignorance</td>\n      <td>moral</td>\n    </tr>\n    <tr>\n      <th>156</th>\n      <td>κοίτη</td>\n      <td>the marriage-bed</td>\n      <td>other</td>\n    </tr>\n    <tr>\n      <th>157</th>\n      <td>ἐπιζητέω</td>\n      <td>to seek after, wish for, miss</td>\n      <td>other</td>\n    </tr>\n    <tr>\n      <th>158</th>\n      <td>χαλεπαίνω</td>\n      <td>to be severe, sore, grievous</td>\n      <td>pathology</td>\n    </tr>\n    <tr>\n      <th>159</th>\n      <td>οἰκτίρω</td>\n      <td>NaN</td>\n      <td>emotion</td>\n    </tr>\n    <tr>\n      <th>160</th>\n      <td>φλέψ</td>\n      <td>a vein</td>\n      <td>bodily parts</td>\n    </tr>\n    <tr>\n      <th>161</th>\n      <td>καταμαρτυρέω</td>\n      <td>to bear witness against</td>\n      <td>other</td>\n    </tr>\n    <tr>\n      <th>162</th>\n      <td>ῥῖγος</td>\n      <td>frost, cold</td>\n      <td>pathology</td>\n    </tr>\n    <tr>\n      <th>163</th>\n      <td>ὀπίσθιος</td>\n      <td>hinder, belonging to the hinder part</td>\n      <td>other</td>\n    </tr>\n    <tr>\n      <th>164</th>\n      <td>ἐπιτιμάω</td>\n      <td>to lay a value upon</td>\n      <td>other</td>\n    </tr>\n    <tr>\n      <th>165</th>\n      <td>ἀγωνίζομαι</td>\n      <td>to contend for a prize</td>\n      <td>other</td>\n    </tr>\n    <tr>\n      <th>166</th>\n      <td>ἔλλειψις</td>\n      <td>NaN</td>\n      <td>other</td>\n    </tr>\n    <tr>\n      <th>167</th>\n      <td>ἐνδεής</td>\n      <td>in need of</td>\n      <td>dietetics</td>\n    </tr>\n    <tr>\n      <th>168</th>\n      <td>ἀγνοέω</td>\n      <td>not to perceive</td>\n      <td>other</td>\n    </tr>\n    <tr>\n      <th>169</th>\n      <td>γνάθος</td>\n      <td>the jaw</td>\n      <td>bodily parts</td>\n    </tr>\n    <tr>\n      <th>170</th>\n      <td>σείω</td>\n      <td>to shake, move to and fro</td>\n      <td>other</td>\n    </tr>\n    <tr>\n      <th>171</th>\n      <td>ῥιγόω</td>\n      <td>to be cold, shiver from cold</td>\n      <td>pathology</td>\n    </tr>\n    <tr>\n      <th>172</th>\n      <td>μοχθηρία</td>\n      <td>bad condition, badness</td>\n      <td>suffering</td>\n    </tr>\n    <tr>\n      <th>173</th>\n      <td>πνεύμων</td>\n      <td>the organ of</td>\n      <td>bodily parts</td>\n    </tr>\n    <tr>\n      <th>174</th>\n      <td>ἀνελεύθερος</td>\n      <td>not fit for a free man</td>\n      <td>moral</td>\n    </tr>\n    <tr>\n      <th>175</th>\n      <td>εἰσφορά</td>\n      <td>a gathering in</td>\n      <td>other</td>\n    </tr>\n    <tr>\n      <th>176</th>\n      <td>φέγγος</td>\n      <td>light, splendour, lustre</td>\n      <td>other</td>\n    </tr>\n    <tr>\n      <th>177</th>\n      <td>νῶτον</td>\n      <td>the back</td>\n      <td>bodily parts</td>\n    </tr>\n    <tr>\n      <th>178</th>\n      <td>φάτις</td>\n      <td>a voice from heaven, the voice of an oracle, a...</td>\n      <td>other</td>\n    </tr>\n    <tr>\n      <th>179</th>\n      <td>ἀκμάζω</td>\n      <td>to be in full bloom, be at one's prime</td>\n      <td>other</td>\n    </tr>\n    <tr>\n      <th>180</th>\n      <td>ἀνδρεία</td>\n      <td>manliness, manhood, manly spirit</td>\n      <td>moral</td>\n    </tr>\n    <tr>\n      <th>181</th>\n      <td>πεμπταῖος</td>\n      <td>on the fifth day</td>\n      <td>other</td>\n    </tr>\n    <tr>\n      <th>182</th>\n      <td>ἀδικία</td>\n      <td>wrong-doing, injustice</td>\n      <td>moral</td>\n    </tr>\n    <tr>\n      <th>183</th>\n      <td>δειλία</td>\n      <td>cowardice</td>\n      <td>moral</td>\n    </tr>\n    <tr>\n      <th>184</th>\n      <td>ἐλλείπω</td>\n      <td>to leave in, leave behind</td>\n      <td>other</td>\n    </tr>\n    <tr>\n      <th>185</th>\n      <td>πελιδνός</td>\n      <td>livid</td>\n      <td>emotion</td>\n    </tr>\n    <tr>\n      <th>186</th>\n      <td>τρομώδης</td>\n      <td>NaN</td>\n      <td>pathology</td>\n    </tr>\n    <tr>\n      <th>187</th>\n      <td>ἐλεέω</td>\n      <td>to have pity on, shew mercy upon</td>\n      <td>emotion</td>\n    </tr>\n    <tr>\n      <th>188</th>\n      <td>ἐπαινετός</td>\n      <td>to be praised, laudable</td>\n      <td>moral</td>\n    </tr>\n    <tr>\n      <th>189</th>\n      <td>νεφρός</td>\n      <td>the kidneys</td>\n      <td>bodily parts</td>\n    </tr>\n    <tr>\n      <th>190</th>\n      <td>θράσος</td>\n      <td>courage, boldness</td>\n      <td>moral</td>\n    </tr>\n    <tr>\n      <th>191</th>\n      <td>ἀσχολία</td>\n      <td>an occupation, business, want of leisure</td>\n      <td>other</td>\n    </tr>\n    <tr>\n      <th>192</th>\n      <td>καταγελάω</td>\n      <td>to laugh at, jeer</td>\n      <td>other</td>\n    </tr>\n    <tr>\n      <th>193</th>\n      <td>ὀργή</td>\n      <td>natural impulse</td>\n      <td>other</td>\n    </tr>\n    <tr>\n      <th>194</th>\n      <td>σκώπτω</td>\n      <td>to hoot, mock, jeer, scoff at</td>\n      <td>other</td>\n    </tr>\n    <tr>\n      <th>195</th>\n      <td>μασχάλη</td>\n      <td>the armpit</td>\n      <td>bodily parts</td>\n    </tr>\n    <tr>\n      <th>196</th>\n      <td>κρόταφος</td>\n      <td>the side of the forehead</td>\n      <td>bodily parts</td>\n    </tr>\n    <tr>\n      <th>197</th>\n      <td>ἐξελέγχω</td>\n      <td>to convict, confute, refute</td>\n      <td>other</td>\n    </tr>\n    <tr>\n      <th>198</th>\n      <td>ἀναπνοή</td>\n      <td>recovery of breath, revival</td>\n      <td>dietetics</td>\n    </tr>\n    <tr>\n      <th>199</th>\n      <td>αἰσχρός</td>\n      <td>causing shame, abusive</td>\n      <td>moral</td>\n    </tr>\n    <tr>\n      <th>200</th>\n      <td>ὀκνέω</td>\n      <td>to shrink</td>\n      <td>other</td>\n    </tr>\n    <tr>\n      <th>201</th>\n      <td>μεσότης</td>\n      <td>a middle</td>\n      <td>other</td>\n    </tr>\n    <tr>\n      <th>202</th>\n      <td>γυμναστικός</td>\n      <td>fond of athletic exercises, skilled in them</td>\n      <td>dietetics</td>\n    </tr>\n    <tr>\n      <th>203</th>\n      <td>εἴκω</td>\n      <td>victo</td>\n      <td>other</td>\n    </tr>\n    <tr>\n      <th>204</th>\n      <td>ὑβριστής</td>\n      <td>a violent, overbearing person, a wanton, insol...</td>\n      <td>moral</td>\n    </tr>\n    <tr>\n      <th>205</th>\n      <td>ἐπιπλήσσω</td>\n      <td>to strike at, strike smartly</td>\n      <td>other</td>\n    </tr>\n    <tr>\n      <th>206</th>\n      <td>μελέτη</td>\n      <td>care, attention</td>\n      <td>dietetics</td>\n    </tr>\n    <tr>\n      <th>207</th>\n      <td>ὁμιλέω</td>\n      <td>to be in company with, consort with</td>\n      <td>other</td>\n    </tr>\n    <tr>\n      <th>208</th>\n      <td>ἐμποιέω</td>\n      <td>to make in</td>\n      <td>other</td>\n    </tr>\n    <tr>\n      <th>209</th>\n      <td>πονηρία</td>\n      <td>a bad state</td>\n      <td>moral</td>\n    </tr>\n    <tr>\n      <th>210</th>\n      <td>ὄγκος</td>\n      <td>the barb</td>\n      <td>pathology</td>\n    </tr>\n    <tr>\n      <th>211</th>\n      <td>ἄχθος</td>\n      <td>a weight, burden, load</td>\n      <td>other</td>\n    </tr>\n    <tr>\n      <th>212</th>\n      <td>ἀφροσύνη</td>\n      <td>folly, thoughtlessness, senselessness</td>\n      <td>moral</td>\n    </tr>\n    <tr>\n      <th>213</th>\n      <td>λεύσσω</td>\n      <td>to look</td>\n      <td>other</td>\n    </tr>\n    <tr>\n      <th>214</th>\n      <td>ἄνηθον</td>\n      <td>anise, dill</td>\n      <td>other</td>\n    </tr>\n    <tr>\n      <th>215</th>\n      <td>σήπω</td>\n      <td>to make rotten</td>\n      <td>pathology</td>\n    </tr>\n    <tr>\n      <th>216</th>\n      <td>ψέγω</td>\n      <td>to blame, censure</td>\n      <td>moral</td>\n    </tr>\n    <tr>\n      <th>217</th>\n      <td>ἰσχίον</td>\n      <td>the hip-joint</td>\n      <td>bodily parts</td>\n    </tr>\n    <tr>\n      <th>218</th>\n      <td>ἁμάρτημα</td>\n      <td>a failure, fault, sin</td>\n      <td>moral</td>\n    </tr>\n    <tr>\n      <th>219</th>\n      <td>φαντασία</td>\n      <td>imagination, the power by which an object is p...</td>\n      <td>other</td>\n    </tr>\n    <tr>\n      <th>220</th>\n      <td>ὀνειδίζω</td>\n      <td>to throw a reproach upon</td>\n      <td>other</td>\n    </tr>\n    <tr>\n      <th>221</th>\n      <td>χρῆσις</td>\n      <td>a using, employment, use</td>\n      <td>other</td>\n    </tr>\n    <tr>\n      <th>222</th>\n      <td>διψάω</td>\n      <td>to thirst</td>\n      <td>dietetics</td>\n    </tr>\n    <tr>\n      <th>223</th>\n      <td>κακοδαίμων</td>\n      <td>possessed by an evil genius, ill-fated, ill-st...</td>\n      <td>pathology</td>\n    </tr>\n    <tr>\n      <th>224</th>\n      <td>φάρυγξ</td>\n      <td>the throat, gullet</td>\n      <td>bodily parts</td>\n    </tr>\n    <tr>\n      <th>225</th>\n      <td>περιπατέω</td>\n      <td>to walk up and down, to walk about</td>\n      <td>dietetics</td>\n    </tr>\n    <tr>\n      <th>226</th>\n      <td>κινητικός</td>\n      <td>of</td>\n      <td>dietetics</td>\n    </tr>\n    <tr>\n      <th>227</th>\n      <td>ἀσκέω</td>\n      <td>to work curiously, form by art, fashion</td>\n      <td>dietetics</td>\n    </tr>\n    <tr>\n      <th>228</th>\n      <td>νέτωπον</td>\n      <td>NaN</td>\n      <td>other</td>\n    </tr>\n    <tr>\n      <th>229</th>\n      <td>ἰσχύς</td>\n      <td>strength</td>\n      <td>dietetics</td>\n    </tr>\n    <tr>\n      <th>230</th>\n      <td>φιλέω</td>\n      <td>to love, regard with affection</td>\n      <td>emotion</td>\n    </tr>\n    <tr>\n      <th>231</th>\n      <td>σωφρονέω</td>\n      <td>to be sound of mind</td>\n      <td>moral</td>\n    </tr>\n    <tr>\n      <th>232</th>\n      <td>δέος</td>\n      <td>fear, alarm, affright</td>\n      <td>moral</td>\n    </tr>\n    <tr>\n      <th>233</th>\n      <td>δράκων</td>\n      <td>a dragon</td>\n      <td>other</td>\n    </tr>\n    <tr>\n      <th>234</th>\n      <td>τιμωρέω</td>\n      <td>to help, aid, succour</td>\n      <td>opossite</td>\n    </tr>\n    <tr>\n      <th>235</th>\n      <td>ὄλβος</td>\n      <td>happiness, bliss, weal, wealth</td>\n      <td>opossite</td>\n    </tr>\n    <tr>\n      <th>236</th>\n      <td>πάτρα</td>\n      <td>fatherland, native land, country, home</td>\n      <td>other</td>\n    </tr>\n    <tr>\n      <th>237</th>\n      <td>κίνδυνος</td>\n      <td>a danger, risk, hazard, venture, enterprise</td>\n      <td>suffering</td>\n    </tr>\n    <tr>\n      <th>238</th>\n      <td>λεπτύνω</td>\n      <td>to make small</td>\n      <td>other</td>\n    </tr>\n    <tr>\n      <th>239</th>\n      <td>ἀτυχέω</td>\n      <td>to be unlucky</td>\n      <td>emotion</td>\n    </tr>\n    <tr>\n      <th>240</th>\n      <td>φρίκη</td>\n      <td>a shuddering, shivering</td>\n      <td>pathology</td>\n    </tr>\n    <tr>\n      <th>241</th>\n      <td>βοή</td>\n      <td>a loud cry, shout</td>\n      <td>other</td>\n    </tr>\n    <tr>\n      <th>242</th>\n      <td>ἀρχός</td>\n      <td>a leader, chief, commander</td>\n      <td>other</td>\n    </tr>\n    <tr>\n      <th>243</th>\n      <td>ἄφρων</td>\n      <td>without sense</td>\n      <td>moral</td>\n    </tr>\n    <tr>\n      <th>244</th>\n      <td>θρῆνος</td>\n      <td>a funeral-song, dirge, lament</td>\n      <td>other</td>\n    </tr>\n    <tr>\n      <th>245</th>\n      <td>βρῶμα</td>\n      <td>that which is eaten, food, meat</td>\n      <td>dietetics</td>\n    </tr>\n    <tr>\n      <th>246</th>\n      <td>προπηλακίζω</td>\n      <td>to bespatter with mud</td>\n      <td>other</td>\n    </tr>\n    <tr>\n      <th>247</th>\n      <td>ἐπιρρέω</td>\n      <td>to flow upon the surface, float a-top</td>\n      <td>other</td>\n    </tr>\n    <tr>\n      <th>248</th>\n      <td>ἀδικέω</td>\n      <td>to do wrong</td>\n      <td>moral</td>\n    </tr>\n    <tr>\n      <th>249</th>\n      <td>ἀγαθός</td>\n      <td>good</td>\n      <td>moral</td>\n    </tr>\n    <tr>\n      <th>250</th>\n      <td>δημιουργέω</td>\n      <td>to practise a trade, do work</td>\n      <td>other</td>\n    </tr>\n    <tr>\n      <th>251</th>\n      <td>πηδάω</td>\n      <td>to leap, spring, bound</td>\n      <td>other</td>\n    </tr>\n    <tr>\n      <th>252</th>\n      <td>ἀκρατής</td>\n      <td>powerless, impotent</td>\n      <td>dietetics</td>\n    </tr>\n    <tr>\n      <th>253</th>\n      <td>κάμνω</td>\n      <td>to work</td>\n      <td>dietetics</td>\n    </tr>\n    <tr>\n      <th>254</th>\n      <td>χάσκω</td>\n      <td>may</td>\n      <td>other</td>\n    </tr>\n    <tr>\n      <th>255</th>\n      <td>ὄρεξις</td>\n      <td>desire, appetite</td>\n      <td>opossite</td>\n    </tr>\n    <tr>\n      <th>256</th>\n      <td>ἡλικία</td>\n      <td>time of life, age</td>\n      <td>dietetics</td>\n    </tr>\n    <tr>\n      <th>257</th>\n      <td>φλοιός</td>\n      <td>the bark</td>\n      <td>bodily parts</td>\n    </tr>\n    <tr>\n      <th>258</th>\n      <td>αὔτεος</td>\n      <td>NaN</td>\n      <td>other</td>\n    </tr>\n  </tbody>\n</table>\n</div>"
     },
     "execution_count": 549,
     "metadata": {},
     "output_type": "execute_result"
    }
   ],
   "source": [
    "word_cat_extension_coded"
   ],
   "metadata": {
    "collapsed": false
   }
  },
  {
   "cell_type": "code",
   "execution_count": 550,
   "outputs": [],
   "source": [
    "terms_translation_categories = pd.concat([terms_translation_categories, word_cat_extension_coded])"
   ],
   "metadata": {
    "collapsed": false
   }
  },
  {
   "cell_type": "code",
   "execution_count": 551,
   "outputs": [],
   "source": [
    "terms_translation_categories = terms_translation_categories[~terms_translation_categories[\"category\"].str.contains(\"other\")]"
   ],
   "metadata": {
    "collapsed": false
   }
  },
  {
   "cell_type": "code",
   "execution_count": 552,
   "outputs": [
    {
     "data": {
      "text/plain": "      greek               english      category  count\n249  ἀγαθός                  good         moral   8832\n6     κακός                   bad         moral   4780\n209    σῶμα                  body  bodily parts   4651\n32    φίλος  loved, beloved, dear         moral   3534\n248  ἀδικέω           to do wrong         moral   2134",
      "text/html": "<div>\n<style scoped>\n    .dataframe tbody tr th:only-of-type {\n        vertical-align: middle;\n    }\n\n    .dataframe tbody tr th {\n        vertical-align: top;\n    }\n\n    .dataframe thead th {\n        text-align: right;\n    }\n</style>\n<table border=\"1\" class=\"dataframe\">\n  <thead>\n    <tr style=\"text-align: right;\">\n      <th></th>\n      <th>greek</th>\n      <th>english</th>\n      <th>category</th>\n      <th>count</th>\n    </tr>\n  </thead>\n  <tbody>\n    <tr>\n      <th>249</th>\n      <td>ἀγαθός</td>\n      <td>good</td>\n      <td>moral</td>\n      <td>8832</td>\n    </tr>\n    <tr>\n      <th>6</th>\n      <td>κακός</td>\n      <td>bad</td>\n      <td>moral</td>\n      <td>4780</td>\n    </tr>\n    <tr>\n      <th>209</th>\n      <td>σῶμα</td>\n      <td>body</td>\n      <td>bodily parts</td>\n      <td>4651</td>\n    </tr>\n    <tr>\n      <th>32</th>\n      <td>φίλος</td>\n      <td>loved, beloved, dear</td>\n      <td>moral</td>\n      <td>3534</td>\n    </tr>\n    <tr>\n      <th>248</th>\n      <td>ἀδικέω</td>\n      <td>to do wrong</td>\n      <td>moral</td>\n      <td>2134</td>\n    </tr>\n  </tbody>\n</table>\n</div>"
     },
     "execution_count": 552,
     "metadata": {},
     "output_type": "execute_result"
    }
   ],
   "source": [
    "terms_translation_categories[\"count\"] = terms_translation_categories[\"greek\"].apply(lambda x: word_freqs_dict[x])\n",
    "terms_translation_categories.sort_values(\"count\", ascending=False, inplace=True)\n",
    "terms_translation_categories.head(5)"
   ],
   "metadata": {
    "collapsed": false
   }
  },
  {
   "cell_type": "code",
   "execution_count": 553,
   "outputs": [
    {
     "data": {
      "text/plain": "305"
     },
     "execution_count": 553,
     "metadata": {},
     "output_type": "execute_result"
    }
   ],
   "source": [
    "len(terms_translation_categories)"
   ],
   "metadata": {
    "collapsed": false
   }
  },
  {
   "cell_type": "code",
   "execution_count": 554,
   "outputs": [
    {
     "data": {
      "text/plain": "305"
     },
     "execution_count": 554,
     "metadata": {},
     "output_type": "execute_result"
    }
   ],
   "source": [
    "terms_translation_categories.drop_duplicates(subset=\"greek\", inplace=True)\n",
    "len(terms_translation_categories)"
   ],
   "metadata": {
    "collapsed": false
   }
  },
  {
   "cell_type": "code",
   "execution_count": 556,
   "outputs": [],
   "source": [
    "pickle.dump(terms_translation_categories, open(\"../data/terms_translation_categories.pickle\", \"wb\"))"
   ],
   "metadata": {
    "collapsed": false
   }
  }
 ],
 "metadata": {
  "kernelspec": {
   "display_name": "Python 3",
   "language": "python",
   "name": "python3"
  },
  "language_info": {
   "codemirror_mode": {
    "name": "ipython",
    "version": 2
   },
   "file_extension": ".py",
   "mimetype": "text/x-python",
   "name": "python",
   "nbconvert_exporter": "python",
   "pygments_lexer": "ipython2",
   "version": "2.7.6"
  }
 },
 "nbformat": 4,
 "nbformat_minor": 0
}
