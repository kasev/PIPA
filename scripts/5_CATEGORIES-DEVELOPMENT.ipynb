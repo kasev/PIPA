{
 "cells": [
  {
   "cell_type": "code",
   "execution_count": 1,
   "outputs": [],
   "source": [
    "import numpy as np\n",
    "import pandas as pd\n",
    "pd.set_option('display.max_columns', None)\n",
    "pd.set_option('display.max_rows', None)\n",
    "\n",
    "from gensim.models import KeyedVectors\n",
    "from sklearn.metrics.pairwise import cosine_similarity\n",
    "\n",
    "# plotting\n",
    "import matplotlib.pyplot as plt\n",
    "import matplotlib.patches as patches\n",
    "import matplotlib.colors as mcolors\n",
    "\n",
    "import seaborn as sns\n",
    "import os\n",
    "import json\n",
    "from translator import translator\n",
    "import pickle"
   ],
   "metadata": {
    "collapsed": false
   }
  },
  {
   "cell_type": "code",
   "execution_count": 2,
   "outputs": [],
   "source": [
    "# to communicate with google spreadsheet...\n",
    "import gspread\n",
    "from gspread_dataframe import get_as_dataframe\n",
    "from gspread_dataframe import set_with_dataframe\n",
    "from google.oauth2 import service_account # based on google-auth library\n",
    "\n",
    "# establish connection with gogglesheets...\n",
    "file_data = json.load(open(\"../../ServiceAccountsKey.json\", \"r\"))\n",
    "credentials = service_account.Credentials.from_service_account_info(file_data)\n",
    "gc = gspread.Client(auth=credentials.with_scopes(['https://spreadsheets.google.com/feeds', 'https://www.googleapis.com/auth/drive']))\n",
    "PIPA_data = gc.open_by_url(\"https://docs.google.com/spreadsheets/d/1rV4t0_UV_wcx--UAHVwkqB8Wa_5n9mnpV05yGG1OHqk/edit?usp=sharing\")"
   ],
   "metadata": {
    "collapsed": false
   }
  },
  {
   "cell_type": "code",
   "execution_count": 3,
   "outputs": [],
   "source": [
    "keywords = [\"ἀλγέω\", \"ἄλγημα\", \"ἄλγος\", \"λυπέω\", \"λύπη\", \"λυπηρός\", \"ὀδυνάω\", \"ὀδύνη\", \"πονέω\", \"πόνος\"]"
   ],
   "metadata": {
    "collapsed": false
   }
  },
  {
   "cell_type": "code",
   "execution_count": 4,
   "outputs": [],
   "source": [
    "vectors_dict = {}\n",
    "for filename in [f for f in os.listdir(\"../data/\") if \"keyed_vectors\" in f]:\n",
    "    vectors_dict[filename.partition(\".\")[0]] = KeyedVectors.load(\"../data/\" + filename)"
   ],
   "metadata": {
    "collapsed": false
   }
  },
  {
   "cell_type": "code",
   "execution_count": 5,
   "outputs": [],
   "source": [
    "complete_sim_matrices = {}\n",
    "for item in vectors_dict.items():\n",
    "    complete_sim_matrix = cosine_similarity(item[1].vectors)\n",
    "    complete_sim_matrices[item[0].replace(\"keyed_vectors_\", \"\")] = complete_sim_matrix"
   ],
   "metadata": {
    "collapsed": false
   }
  },
  {
   "cell_type": "code",
   "execution_count": 6,
   "outputs": [
    {
     "data": {
      "text/plain": "{'full': array([[ 0.99999994,  0.28401333,  0.22628057, ..., -0.11469285,\n         -0.11473358, -0.08506203],\n        [ 0.28401333,  0.99999976,  0.4833894 , ..., -0.28129402,\n         -0.01936252,  0.1847815 ],\n        [ 0.22628057,  0.4833894 ,  0.99999994, ..., -0.29970014,\n          0.19981211,  0.2743499 ],\n        ...,\n        [-0.11469285, -0.28129402, -0.29970014, ...,  1.0000001 ,\n          0.035104  , -0.20264925],\n        [-0.11473358, -0.01936252,  0.19981211, ...,  0.035104  ,\n          1.        ,  0.31559372],\n        [-0.08506203,  0.1847815 ,  0.2743499 , ..., -0.20264925,\n          0.31559372,  0.99999976]], dtype=float32),\n 'excl_arist': array([[ 1.        ,  0.10405294,  0.06687076, ...,  0.11125881,\n         -0.15194258, -0.18770437],\n        [ 0.10405294,  0.99999976,  0.27991435, ..., -0.00367323,\n         -0.10193241,  0.01235248],\n        [ 0.06687076,  0.27991435,  1.        , ..., -0.13431397,\n          0.09964176,  0.11343659],\n        ...,\n        [ 0.11125881, -0.00367323, -0.13431397, ...,  1.0000001 ,\n          0.04669333, -0.25767234],\n        [-0.15194258, -0.10193241,  0.09964176, ...,  0.04669333,\n          0.9999998 ,  0.42733037],\n        [-0.18770437,  0.01235248,  0.11343659, ..., -0.25767234,\n          0.42733037,  0.99999964]], dtype=float32),\n 'excl_aristplato': array([[ 0.9999999 , -0.0064858 ,  0.01303933, ...,  0.2665684 ,\n         -0.06259278, -0.13378292],\n        [-0.0064858 ,  0.9999999 ,  0.22688676, ...,  0.04144408,\n         -0.07381037,  0.03696878],\n        [ 0.01303933,  0.22688676,  1.0000002 , ..., -0.01533736,\n          0.19469148,  0.1522016 ],\n        ...,\n        [ 0.2665684 ,  0.04144408, -0.01533736, ...,  1.0000004 ,\n          0.01845524, -0.23816426],\n        [-0.06259278, -0.07381037,  0.19469148, ...,  0.01845524,\n          0.9999999 ,  0.4935314 ],\n        [-0.13378292,  0.03696878,  0.1522016 , ..., -0.23816426,\n          0.4935314 ,  1.0000001 ]], dtype=float32),\n 'excl_subcorpora': array([[ 0.9999994 ,  0.0508079 ,  0.12195259, ...,  0.20594536,\n          0.01429879,  0.08827865],\n        [ 0.0508079 ,  0.9999998 ,  0.18117379, ...,  0.13077526,\n          0.14672263,  0.07383841],\n        [ 0.12195259,  0.18117379,  0.9999999 , ...,  0.06522407,\n          0.06216346,  0.12313092],\n        ...,\n        [ 0.20594536,  0.13077526,  0.06522407, ...,  1.0000002 ,\n          0.14858644,  0.10263608],\n        [ 0.01429879,  0.14672263,  0.06216346, ...,  0.14858644,\n          1.0000002 , -0.00610779],\n        [ 0.08827865,  0.07383841,  0.12313092, ...,  0.10263608,\n         -0.00610779,  0.9999998 ]], dtype=float32),\n 'subcorpora': array([[ 1.        ,  0.22269513,  0.15065032, ...,  0.19824398,\n         -0.15095302, -0.16755682],\n        [ 0.22269513,  1.0000001 ,  0.2882524 , ...,  0.06079052,\n         -0.0811052 ,  0.14395352],\n        [ 0.15065032,  0.2882524 ,  0.99999994, ..., -0.03264639,\n          0.09688836,  0.17486371],\n        ...,\n        [ 0.19824398,  0.06079052, -0.03264639, ...,  0.9999999 ,\n         -0.06707661,  0.01158852],\n        [-0.15095302, -0.0811052 ,  0.09688836, ..., -0.06707661,\n          0.99999976,  0.5156895 ],\n        [-0.16755682,  0.14395352,  0.17486371, ...,  0.01158852,\n          0.5156895 ,  0.99999976]], dtype=float32),\n 'excl_hipp': array([[ 1.0000002 ,  0.22769699,  0.2990131 , ..., -0.14010659,\n          0.00171851,  0.16431417],\n        [ 0.22769699,  1.0000001 ,  0.31125668, ..., -0.16623488,\n          0.10950934,  0.10811694],\n        [ 0.2990131 ,  0.31125668,  0.9999997 , ..., -0.15322705,\n          0.09208645,  0.19086486],\n        ...,\n        [-0.14010659, -0.16623488, -0.15322705, ...,  0.99999976,\n          0.01434253,  0.04019456],\n        [ 0.00171851,  0.10950934,  0.09208645, ...,  0.01434253,\n          0.9999998 ,  0.0532427 ],\n        [ 0.16431417,  0.10811694,  0.19086486, ...,  0.04019456,\n          0.0532427 ,  0.9999998 ]], dtype=float32),\n 'excl_plato': array([[ 1.0000001 ,  0.24353354,  0.20345536, ...,  0.00182202,\n         -0.11452615, -0.14684391],\n        [ 0.24353354,  1.0000002 ,  0.29987422, ..., -0.11548477,\n         -0.09863922,  0.05652191],\n        [ 0.20345536,  0.29987422,  1.0000002 , ..., -0.14208761,\n          0.09568373,  0.0877656 ],\n        ...,\n        [ 0.00182202, -0.11548477, -0.14208761, ...,  0.9999998 ,\n          0.08767156, -0.25944582],\n        [-0.11452615, -0.09863922,  0.09568373, ...,  0.08767156,\n          0.99999976,  0.4243924 ],\n        [-0.14684391,  0.05652191,  0.0877656 , ..., -0.25944582,\n          0.4243924 ,  1.0000002 ]], dtype=float32)}"
     },
     "execution_count": 6,
     "metadata": {},
     "output_type": "execute_result"
    }
   ],
   "source": [
    "complete_sim_matrices"
   ],
   "metadata": {
    "collapsed": false
   }
  },
  {
   "cell_type": "markdown",
   "source": [
    "# Analyzing categories"
   ],
   "metadata": {
    "collapsed": false
   }
  },
  {
   "cell_type": "code",
   "execution_count": 42,
   "outputs": [
    {
     "data": {
      "text/plain": "              greek           english   category\n0      χαίρω (0.52)           rejoice   opossite\n1   ἀγανακτέω (0.5)  to be displeased    emotion\n2     ἥδομαι (0.49)     feel pleasure   opossite\n3    ἀπολαύω (0.48)             enjoy   opossite\n4  διάκειμαι (0.46)    to be affected  suffering",
      "text/html": "<div>\n<style scoped>\n    .dataframe tbody tr th:only-of-type {\n        vertical-align: middle;\n    }\n\n    .dataframe tbody tr th {\n        vertical-align: top;\n    }\n\n    .dataframe thead th {\n        text-align: right;\n    }\n</style>\n<table border=\"1\" class=\"dataframe\">\n  <thead>\n    <tr style=\"text-align: right;\">\n      <th></th>\n      <th>greek</th>\n      <th>english</th>\n      <th>category</th>\n    </tr>\n  </thead>\n  <tbody>\n    <tr>\n      <th>0</th>\n      <td>χαίρω (0.52)</td>\n      <td>rejoice</td>\n      <td>opossite</td>\n    </tr>\n    <tr>\n      <th>1</th>\n      <td>ἀγανακτέω (0.5)</td>\n      <td>to be displeased</td>\n      <td>emotion</td>\n    </tr>\n    <tr>\n      <th>2</th>\n      <td>ἥδομαι (0.49)</td>\n      <td>feel pleasure</td>\n      <td>opossite</td>\n    </tr>\n    <tr>\n      <th>3</th>\n      <td>ἀπολαύω (0.48)</td>\n      <td>enjoy</td>\n      <td>opossite</td>\n    </tr>\n    <tr>\n      <th>4</th>\n      <td>διάκειμαι (0.46)</td>\n      <td>to be affected</td>\n      <td>suffering</td>\n    </tr>\n  </tbody>\n</table>\n</div>"
     },
     "execution_count": 42,
     "metadata": {},
     "output_type": "execute_result"
    }
   ],
   "source": [
    "terms_translation_categories = get_as_dataframe(PIPA_data.worksheet(\"translation\"))[[\"greek\", \"english\", \"category_clean\"]]\n",
    "terms_translation_categories = terms_translation_categories[terms_translation_categories[\"greek\"].notnull()]\n",
    "terms_translation_categories.rename(columns={\"category_clean\" : \"category\"}, inplace=True)\n",
    "terms_translation_categories.head(5)"
   ],
   "metadata": {
    "collapsed": false
   }
  },
  {
   "cell_type": "code",
   "execution_count": 43,
   "outputs": [],
   "source": [
    "terms_translation_categories[\"greek\"] = terms_translation_categories[\"greek\"].apply(lambda x: x.rpartition(\" (\")[0].replace(\" \", \"\"))"
   ],
   "metadata": {
    "collapsed": false
   }
  },
  {
   "cell_type": "code",
   "execution_count": 44,
   "outputs": [],
   "source": [
    "terms_translation_categories = terms_translation_categories.drop_duplicates(subset=\"greek\")"
   ],
   "metadata": {
    "collapsed": false
   }
  },
  {
   "cell_type": "code",
   "execution_count": 45,
   "outputs": [
    {
     "data": {
      "text/plain": "category\nbodily parts    20\ndietetics       27\nemotion         15\nmoral           16\nopossite        17\nother           13\npain            15\npathology       19\nsuffering        9\ndtype: int64"
     },
     "execution_count": 45,
     "metadata": {},
     "output_type": "execute_result"
    }
   ],
   "source": [
    "terms_translation_categories.groupby(\"category\").size()"
   ],
   "metadata": {
    "collapsed": false
   }
  },
  {
   "cell_type": "code",
   "execution_count": 46,
   "outputs": [],
   "source": [
    "categories = list(set(terms_translation_categories[\"category\"]))"
   ],
   "metadata": {
    "collapsed": false
   }
  },
  {
   "cell_type": "code",
   "execution_count": 47,
   "outputs": [
    {
     "data": {
      "text/plain": "{'χαίρω': 'opossite',\n 'ἀγανακτέω': 'emotion',\n 'ἥδομαι': 'opossite',\n 'ἀπολαύω': 'opossite',\n 'διάκειμαι': 'suffering',\n 'ἀκόλαστος': 'moral',\n 'κακός': 'moral',\n 'ἄχθομαι': 'emotion',\n 'εὐφραίνω': 'opossite',\n 'λυπηρός': 'pain',\n 'ἐξαμαρτάνω': 'other',\n 'πλησιάζω': 'other',\n 'μισέω': 'moral',\n 'φοβερός': 'emotion',\n 'δυσχεραίνω': 'emotion',\n 'λοιδορέω': 'suffering',\n 'ὀργίζω': 'suffering',\n 'σύνοιδα': 'other',\n 'φθονέω': 'moral',\n 'ἀνάξιος': 'moral',\n 'ἀλγέω': 'pain',\n 'ἀνόητος': 'moral',\n 'δακρύω': 'emotion',\n 'ψαύω': 'other',\n 'ὀδυνάω': 'pain',\n 'βαρύνω': 'suffering',\n 'ἀλγεινός': 'pain',\n 'ἄλγημα': 'pain',\n 'νείαιρα': 'bodily parts',\n 'ἰξύα': 'bodily parts',\n 'ὑποχόνδριος': 'bodily parts',\n 'λυπέω': 'pain',\n 'βάρος': 'pathology',\n 'ἧπαρ': 'bodily parts',\n 'σπάω': 'pathology',\n 'πλευρόν': 'bodily parts',\n 'παραφρονέω': 'emotion',\n 'πυρεταίνω': 'pathology',\n 'ἀλγηδών': 'pain',\n 'πόθος': 'opossite',\n 'ὀδύρομαι': 'emotion',\n 'θυμόω': 'suffering',\n 'ἄλγος': 'pain',\n 'οἰκτρός': 'emotion',\n 'ἕλκος': 'pathology',\n 'ἑλκόω': 'pathology',\n 'φόνιος': 'pathology',\n 'θανάσιμος': 'pathology',\n 'νῆστις': 'dietetics',\n 'ἄτη': 'suffering',\n 'ὠδίς': 'pain',\n 'κλείς': 'bodily parts',\n 'βήξ': 'pathology',\n 'θέρμη': 'pathology',\n 'δίψα': 'dietetics',\n 'βληχρός': 'other',\n 'οἴδημα': 'pathology',\n 'στραγγουρία': 'pathology',\n 'κόπος': 'dietetics',\n 'διάρροια': 'pathology',\n 'κενεών': 'bodily parts',\n 'βουβών': 'bodily parts',\n 'μετάφρενον': 'bodily parts',\n 'τράχηλος': 'bodily parts',\n 'ὕφαιμος': 'pathology',\n 'ἤρ': 'other',\n 'ὀσφῦς': 'bodily parts',\n 'κατάψυξις': 'pathology',\n 'διαθερμαίνω': 'pathology',\n 'βλέφαρον': 'bodily parts',\n 'ἰσχναίνω': 'dietetics',\n 'πυός': 'pathology',\n 'φυράω': 'dietetics',\n 'στάζω': 'pathology',\n 'ταλαιπωρέω': 'dietetics',\n 'δαπανάω': 'dietetics',\n 'γυμνάζω': 'dietetics',\n 'πόνος': 'pain',\n 'καρτερέω': 'dietetics',\n 'διαπονέω': 'dietetics',\n 'ῥᾳστώνη': 'opossite',\n 'ἀναλίσκω': 'dietetics',\n 'εὐεξία': 'opossite',\n 'μέτριος': 'dietetics',\n 'ταλαιπωρία': 'dietetics',\n 'κινδυνεύω': 'other',\n 'ἀσθενέω': 'dietetics',\n 'πλησμονή': 'opossite',\n 'ἐμποδίζω': 'other',\n 'πονέω': 'dietetics',\n 'φῦσα': 'dietetics',\n 'γυμνάσιον': 'dietetics',\n 'περίπατος': 'dietetics',\n 'σῶμα': 'bodily parts',\n 'ἄσκησις': 'dietetics',\n 'πενία': 'dietetics',\n 'ἀκμή': 'dietetics',\n 'μόχθος': 'dietetics',\n 'ἐπίπονος': 'pain',\n 'βίοτος': 'other',\n 'ῥώμη': 'dietetics',\n 'ἀλκή': 'dietetics',\n 'ἐκπονέω': 'dietetics',\n 'λύπη': 'pain',\n 'ἡδύς': 'opossite',\n 'βλαβερός': 'moral',\n 'σωματικός': 'bodily parts',\n 'συζάω': 'other',\n 'ἀηδής': 'suffering',\n 'σιωπάω': 'dietetics',\n 'πεινάω': 'opossite',\n 'ἀγαπητός': 'opossite',\n 'ἡδονή': 'opossite',\n 'ἐπιθυμία': 'opossite',\n 'θαρσαλέος': 'moral',\n 'Ἀφροδίσιος': 'opossite',\n 'παρουσία': 'other',\n 'ἀκρασία': 'moral',\n 'ἀκολασία': 'moral',\n 'ἄνοια': 'moral',\n 'φόβος': 'emotion',\n 'ἔρως': 'opossite',\n 'θυμός': 'opossite',\n 'κακία': 'moral',\n 'σύμφυτος': 'other',\n 'ὁμιλία': 'other',\n 'αἰδώς': 'moral',\n 'λήθη': 'moral',\n 'θάρσος': 'moral',\n 'τάλας': 'suffering',\n 'δύστηνος': 'emotion',\n 'τλήμων': 'suffering',\n 'ἄχος': 'pain',\n 'δεῖμα': 'emotion',\n 'στένω': 'emotion',\n 'πῆμα': 'emotion',\n 'μέλεος': 'emotion',\n 'γόος': 'emotion',\n 'δέρκομαι': 'opossite',\n 'τλάω': 'dietetics',\n 'ὀδύνη': 'pain',\n 'φρικώδης': 'pathology',\n 'ἀσώδης': 'pathology',\n 'κακοήθης': 'moral',\n 'ὀδυνώδης': 'pain',\n 'ῥάχις': 'bodily parts',\n 'κνήμη': 'bodily parts',\n 'στῆθος': 'bodily parts',\n 'σφυρόν': 'bodily parts',\n 'φλέβιον': 'bodily parts',\n 'χόνδρος': 'bodily parts'}"
     },
     "execution_count": 47,
     "metadata": {},
     "output_type": "execute_result"
    }
   ],
   "source": [
    "term_category_dict = dict(zip(terms_translation_categories[\"greek\"], terms_translation_categories[\"category\"]))\n",
    "term_category_dict"
   ],
   "metadata": {
    "collapsed": false
   }
  },
  {
   "cell_type": "code",
   "execution_count": 48,
   "outputs": [
    {
     "data": {
      "text/plain": "{'χαίρω': 'rejoice',\n 'ἀγανακτέω': 'to be displeased',\n 'ἥδομαι': 'feel pleasure',\n 'ἀπολαύω': 'enjoy',\n 'διάκειμαι': 'to be affected',\n 'ἀκόλαστος': 'incontinent',\n 'κακός': 'bad',\n 'ἄχθομαι': 'to be grieved',\n 'εὐφραίνω': 'enjoy oneself',\n 'λυπηρός': 'painful',\n 'ἐξαμαρτάνω': 'fail',\n 'πλησιάζω': 'approach',\n 'μισέω': 'hate',\n 'φοβερός': 'fearful',\n 'δυσχεραίνω': 'to be displeased',\n 'λοιδορέω': 'abuse',\n 'ὀργίζω': 'irritate',\n 'σύνοιδα': 'know',\n 'φθονέω': 'be jealous',\n 'ἀνάξιος': 'worthless',\n 'ἀλγέω': 'be in pain',\n 'ἀνόητος': 'silly',\n 'δακρύω': 'weep',\n 'ψαύω': 'touch',\n 'ὀδυνάω': 'be in pain',\n 'βαρύνω': 'oppress',\n 'ἀλγεινός': 'painful',\n 'ἄλγημα': 'pain',\n 'νείαιρα': 'abdomen',\n 'ἰξύα': 'waist',\n 'ὑποχόνδριος': 'abdomen',\n 'λυπέω': 'be in pain',\n 'βάρος': 'heaviness',\n 'ἧπαρ': 'liver',\n 'σπάω': 'spasm',\n 'πλευρόν': 'rib',\n 'παραφρονέω': 'to be deranged',\n 'πυρεταίνω': 'have fever',\n 'ἀλγηδών': 'painful',\n 'πόθος': 'desire',\n 'ὀδύρομαι': 'lament',\n 'θυμόω': 'provoke',\n 'ἄλγος': 'pain',\n 'οἰκτρός': 'pitiable',\n 'ἕλκος': 'wound',\n 'ἑλκόω': 'to wound',\n 'φόνιος': 'deadly',\n 'θανάσιμος': 'deadly',\n 'νῆστις': 'fasting',\n 'ἄτη': 'ruin',\n 'ὠδίς': 'childbirth pain',\n 'κλείς': 'collar-bone',\n 'βήξ': 'cough',\n 'θέρμη': 'heat',\n 'δίψα': 'thirst',\n 'βληχρός': 'slight',\n 'οἴδημα': 'swelling',\n 'στραγγουρία': 'strangury',\n 'κόπος': 'toil',\n 'διάρροια': 'diarrhoea',\n 'κενεών': 'flank',\n 'βουβών': 'groin, glands',\n 'μετάφρενον': 'back',\n 'τράχηλος': 'neck',\n 'ὕφαιμος': 'suffused with blood',\n 'ἤρ': nan,\n 'ὀσφῦς': 'loins',\n 'κατάψυξις': 'cold',\n 'διαθερμαίνω': 'warm through',\n 'βλέφαρον': 'eyelids',\n 'ἰσχναίνω': 'make dry',\n 'πυός': 'puss',\n 'φυράω': 'mix',\n 'στάζω': 'leak',\n 'ταλαιπωρέω': 'distress',\n 'δαπανάω': 'exhaust',\n 'γυμνάζω': 'exercise',\n 'πόνος': 'hardship, pain',\n 'καρτερέω': 'endure',\n 'διαπονέω': 'work hard',\n 'ῥᾳστώνη': 'easiness',\n 'ἀναλίσκω': 'consume',\n 'εὐεξία': 'good health',\n 'μέτριος': 'moderate',\n 'ταλαιπωρία': 'distress',\n 'κινδυνεύω': 'to risk',\n 'ἀσθενέω': 'to be weak',\n 'πλησμονή': 'satiety',\n 'ἐμποδίζω': 'hinder',\n 'πονέω': 'toil',\n 'φῦσα': 'breath',\n 'γυμνάσιον': 'exercise',\n 'περίπατος': 'walk',\n 'σῶμα': 'body',\n 'ἄσκησις': 'exercise',\n 'πενία': 'need',\n 'ἀκμή': 'effort',\n 'μόχθος': 'toil',\n 'ἐπίπονος': 'painful',\n 'βίοτος': 'life',\n 'ῥώμη': 'strengh',\n 'ἀλκή': 'strengh',\n 'ἐκπονέω': 'toil',\n 'λύπη': 'pain',\n 'ἡδύς': 'plaesant',\n 'βλαβερός': 'harmful',\n 'σωματικός': 'bodily',\n 'συζάω': 'live',\n 'ἀηδής': 'unpleasant',\n 'σιωπάω': 'to be still',\n 'πεινάω': 'crave after',\n 'ἀγαπητός': 'desirable',\n 'ἡδονή': 'pleasure',\n 'ἐπιθυμία': 'desire',\n 'θαρσαλέος': 'confident',\n 'Ἀφροδίσιος': 'sexual pleasure',\n 'παρουσία': 'presence',\n 'ἀκρασία': 'intemperence',\n 'ἀκολασία': 'intemperence',\n 'ἄνοια': 'folly',\n 'φόβος': 'fear',\n 'ἔρως': 'love',\n 'θυμός': 'desire',\n 'κακία': 'badness',\n 'σύμφυτος': 'natural',\n 'ὁμιλία': 'intercourse',\n 'αἰδώς': 'respect',\n 'λήθη': 'forgetfulness',\n 'θάρσος': 'courage',\n 'τάλας': 'suffering',\n 'δύστηνος': 'unhappy',\n 'τλήμων': 'wretched',\n 'ἄχος': 'pain',\n 'δεῖμα': 'fear',\n 'στένω': 'moan',\n 'πῆμα': 'misery',\n 'μέλεος': 'unhappy',\n 'γόος': 'weeping',\n 'δέρκομαι': 'sight',\n 'τλάω': 'endure',\n 'ὀδύνη': 'pain',\n 'φρικώδης': 'shivering',\n 'ἀσώδης': 'suffering from nausea',\n 'κακοήθης': 'malicious',\n 'ὀδυνώδης': 'painful',\n 'ῥάχις': 'spine',\n 'κνήμη': 'shank',\n 'στῆθος': 'breast',\n 'σφυρόν': 'ankle',\n 'φλέβιον': 'of veins',\n 'χόνδρος': 'cartigage'}"
     },
     "execution_count": 48,
     "metadata": {},
     "output_type": "execute_result"
    }
   ],
   "source": [
    "term_translation_dict = dict(zip(terms_translation_categories[\"greek\"], terms_translation_categories[\"english\"]))\n",
    "term_translation_dict"
   ],
   "metadata": {
    "collapsed": false
   }
  },
  {
   "cell_type": "code",
   "execution_count": 49,
   "outputs": [],
   "source": [
    "cat_terms_dict = {}\n",
    "for cat in categories:\n",
    "    terms = terms_translation_categories[terms_translation_categories[\"category\"]==cat][\"greek\"].tolist()\n",
    "    cat_terms_dict[cat] = terms"
   ],
   "metadata": {
    "collapsed": false
   }
  },
  {
   "cell_type": "code",
   "execution_count": 50,
   "outputs": [
    {
     "data": {
      "text/plain": "{'bodily parts': ['νείαιρα',\n  'ἰξύα',\n  'ὑποχόνδριος',\n  'ἧπαρ',\n  'πλευρόν',\n  'κλείς',\n  'κενεών',\n  'βουβών',\n  'μετάφρενον',\n  'τράχηλος',\n  'ὀσφῦς',\n  'βλέφαρον',\n  'σῶμα',\n  'σωματικός',\n  'ῥάχις',\n  'κνήμη',\n  'στῆθος',\n  'σφυρόν',\n  'φλέβιον',\n  'χόνδρος'],\n 'pain': ['λυπηρός',\n  'ἀλγέω',\n  'ὀδυνάω',\n  'ἀλγεινός',\n  'ἄλγημα',\n  'λυπέω',\n  'ἀλγηδών',\n  'ἄλγος',\n  'ὠδίς',\n  'πόνος',\n  'ἐπίπονος',\n  'λύπη',\n  'ἄχος',\n  'ὀδύνη',\n  'ὀδυνώδης'],\n 'moral': ['ἀκόλαστος',\n  'κακός',\n  'μισέω',\n  'φθονέω',\n  'ἀνάξιος',\n  'ἀνόητος',\n  'βλαβερός',\n  'θαρσαλέος',\n  'ἀκρασία',\n  'ἀκολασία',\n  'ἄνοια',\n  'κακία',\n  'αἰδώς',\n  'λήθη',\n  'θάρσος',\n  'κακοήθης'],\n 'pathology': ['βάρος',\n  'σπάω',\n  'πυρεταίνω',\n  'ἕλκος',\n  'ἑλκόω',\n  'φόνιος',\n  'θανάσιμος',\n  'βήξ',\n  'θέρμη',\n  'οἴδημα',\n  'στραγγουρία',\n  'διάρροια',\n  'ὕφαιμος',\n  'κατάψυξις',\n  'διαθερμαίνω',\n  'πυός',\n  'στάζω',\n  'φρικώδης',\n  'ἀσώδης'],\n 'emotion': ['ἀγανακτέω',\n  'ἄχθομαι',\n  'φοβερός',\n  'δυσχεραίνω',\n  'δακρύω',\n  'παραφρονέω',\n  'ὀδύρομαι',\n  'οἰκτρός',\n  'φόβος',\n  'δύστηνος',\n  'δεῖμα',\n  'στένω',\n  'πῆμα',\n  'μέλεος',\n  'γόος'],\n 'other': ['ἐξαμαρτάνω',\n  'πλησιάζω',\n  'σύνοιδα',\n  'ψαύω',\n  'βληχρός',\n  'ἤρ',\n  'κινδυνεύω',\n  'ἐμποδίζω',\n  'βίοτος',\n  'συζάω',\n  'παρουσία',\n  'σύμφυτος',\n  'ὁμιλία'],\n 'suffering': ['διάκειμαι',\n  'λοιδορέω',\n  'ὀργίζω',\n  'βαρύνω',\n  'θυμόω',\n  'ἄτη',\n  'ἀηδής',\n  'τάλας',\n  'τλήμων'],\n 'opossite': ['χαίρω',\n  'ἥδομαι',\n  'ἀπολαύω',\n  'εὐφραίνω',\n  'πόθος',\n  'ῥᾳστώνη',\n  'εὐεξία',\n  'πλησμονή',\n  'ἡδύς',\n  'πεινάω',\n  'ἀγαπητός',\n  'ἡδονή',\n  'ἐπιθυμία',\n  'Ἀφροδίσιος',\n  'ἔρως',\n  'θυμός',\n  'δέρκομαι'],\n 'dietetics': ['νῆστις',\n  'δίψα',\n  'κόπος',\n  'ἰσχναίνω',\n  'φυράω',\n  'ταλαιπωρέω',\n  'δαπανάω',\n  'γυμνάζω',\n  'καρτερέω',\n  'διαπονέω',\n  'ἀναλίσκω',\n  'μέτριος',\n  'ταλαιπωρία',\n  'ἀσθενέω',\n  'πονέω',\n  'φῦσα',\n  'γυμνάσιον',\n  'περίπατος',\n  'ἄσκησις',\n  'πενία',\n  'ἀκμή',\n  'μόχθος',\n  'ῥώμη',\n  'ἀλκή',\n  'ἐκπονέω',\n  'σιωπάω',\n  'τλάω']}"
     },
     "execution_count": 50,
     "metadata": {},
     "output_type": "execute_result"
    }
   ],
   "source": [
    "cat_terms_dict"
   ],
   "metadata": {
    "collapsed": false
   }
  },
  {
   "cell_type": "code",
   "execution_count": 51,
   "outputs": [
    {
     "data": {
      "text/plain": "0.641673"
     },
     "execution_count": 51,
     "metadata": {},
     "output_type": "execute_result"
    }
   ],
   "source": [
    "vectors_dict[\"keyed_vectors_full\"].n_similarity([\"πόνος\"], cat_terms_dict[\"dietetics\"])"
   ],
   "metadata": {
    "collapsed": false
   }
  },
  {
   "cell_type": "code",
   "execution_count": 52,
   "outputs": [],
   "source": [
    "sim_tups = []\n",
    "for keyword in keywords:\n",
    "    for cat in cat_terms_dict.keys():\n",
    "        sim_tups.append((keyword, cat, vectors_dict[\"keyed_vectors_full\"].n_similarity([keyword], cat_terms_dict[cat])))"
   ],
   "metadata": {
    "collapsed": false
   }
  },
  {
   "cell_type": "code",
   "execution_count": 53,
   "outputs": [
    {
     "data": {
      "text/plain": "[('ἀλγέω', 'bodily parts', 0.3907564),\n ('ἀλγέω', 'pain', 0.61059135),\n ('ἀλγέω', 'moral', 0.31691295),\n ('ἀλγέω', 'pathology', 0.39712083),\n ('ἀλγέω', 'emotion', 0.3932681),\n ('ἀλγέω', 'other', 0.38458845),\n ('ἀλγέω', 'suffering', 0.4330012),\n ('ἀλγέω', 'opossite', 0.27486372),\n ('ἀλγέω', 'dietetics', 0.19012412),\n ('ἄλγημα', 'bodily parts', 0.7029688),\n ('ἄλγημα', 'pain', 0.66649115),\n ('ἄλγημα', 'moral', 0.08219812),\n ('ἄλγημα', 'pathology', 0.70607466),\n ('ἄλγημα', 'emotion', 0.11782563),\n ('ἄλγημα', 'other', 0.25914767),\n ('ἄλγημα', 'suffering', 0.11568883),\n ('ἄλγημα', 'opossite', 0.047449432),\n ('ἄλγημα', 'dietetics', 0.3659613),\n ('ἄλγος', 'bodily parts', 0.36313546),\n ('ἄλγος', 'pain', 0.642763),\n ('ἄλγος', 'moral', 0.28199112),\n ('ἄλγος', 'pathology', 0.4151088),\n ('ἄλγος', 'emotion', 0.63292605),\n ('ἄλγος', 'other', 0.3345761),\n ('ἄλγος', 'suffering', 0.5664587),\n ('ἄλγος', 'opossite', 0.34056836),\n ('ἄλγος', 'dietetics', 0.36896706),\n ('λυπέω', 'bodily parts', -0.094281085),\n ('λυπέω', 'pain', 0.45183685),\n ('λυπέω', 'moral', 0.5636537),\n ('λυπέω', 'pathology', 0.044204224),\n ('λυπέω', 'emotion', 0.41719455),\n ('λυπέω', 'other', 0.5305511),\n ('λυπέω', 'suffering', 0.46855256),\n ('λυπέω', 'opossite', 0.5981189),\n ('λυπέω', 'dietetics', 0.31301707),\n ('λύπη', 'bodily parts', 0.015380222),\n ('λύπη', 'pain', 0.54188156),\n ('λύπη', 'moral', 0.6232083),\n ('λύπη', 'pathology', 0.069743305),\n ('λύπη', 'emotion', 0.36964735),\n ('λύπη', 'other', 0.50214875),\n ('λύπη', 'suffering', 0.35350826),\n ('λύπη', 'opossite', 0.6464425),\n ('λύπη', 'dietetics', 0.2671009),\n ('λυπηρός', 'bodily parts', -0.0703279),\n ('λυπηρός', 'pain', 0.5056018),\n ('λυπηρός', 'moral', 0.5630691),\n ('λυπηρός', 'pathology', 0.044674207),\n ('λυπηρός', 'emotion', 0.37213743),\n ('λυπηρός', 'other', 0.52112734),\n ('λυπηρός', 'suffering', 0.40158117),\n ('λυπηρός', 'opossite', 0.59196925),\n ('λυπηρός', 'dietetics', 0.2497378),\n ('ὀδυνάω', 'bodily parts', 0.7085791),\n ('ὀδυνάω', 'pain', 0.6337048),\n ('ὀδυνάω', 'moral', 0.035254337),\n ('ὀδυνάω', 'pathology', 0.71985257),\n ('ὀδυνάω', 'emotion', 0.2755103),\n ('ὀδυνάω', 'other', 0.19033657),\n ('ὀδυνάω', 'suffering', 0.26779664),\n ('ὀδυνάω', 'opossite', 0.023703873),\n ('ὀδυνάω', 'dietetics', 0.26273528),\n ('ὀδύνη', 'bodily parts', 0.60466176),\n ('ὀδύνη', 'pain', 0.640446),\n ('ὀδύνη', 'moral', 0.04449579),\n ('ὀδύνη', 'pathology', 0.66483676),\n ('ὀδύνη', 'emotion', 0.136093),\n ('ὀδύνη', 'other', 0.14346713),\n ('ὀδύνη', 'suffering', 0.10089522),\n ('ὀδύνη', 'opossite', 0.10796497),\n ('ὀδύνη', 'dietetics', 0.31952953),\n ('πονέω', 'bodily parts', 0.24279541),\n ('πονέω', 'pain', 0.44274056),\n ('πονέω', 'moral', 0.19159737),\n ('πονέω', 'pathology', 0.31562302),\n ('πονέω', 'emotion', 0.15498981),\n ('πονέω', 'other', 0.44377658),\n ('πονέω', 'suffering', 0.18667556),\n ('πονέω', 'opossite', 0.2473287),\n ('πονέω', 'dietetics', 0.6218105),\n ('πόνος', 'bodily parts', 0.27131823),\n ('πόνος', 'pain', 0.6061681),\n ('πόνος', 'moral', 0.2379182),\n ('πόνος', 'pathology', 0.3579096),\n ('πόνος', 'emotion', 0.17723039),\n ('πόνος', 'other', 0.3771851),\n ('πόνος', 'suffering', 0.11875781),\n ('πόνος', 'opossite', 0.34572807),\n ('πόνος', 'dietetics', 0.641673)]"
     },
     "execution_count": 53,
     "metadata": {},
     "output_type": "execute_result"
    }
   ],
   "source": [
    "sim_tups"
   ],
   "metadata": {
    "collapsed": false
   }
  },
  {
   "cell_type": "markdown",
   "source": [
    "# Extending categories"
   ],
   "metadata": {
    "collapsed": false
   }
  },
  {
   "cell_type": "code",
   "execution_count": 54,
   "outputs": [],
   "source": [
    "other_words = []\n",
    "for term in term_category_dict.keys():\n",
    "    other_words.extend([tup[0] for tup in vectors_dict[\"keyed_vectors_full\"].most_similar(term, topn=5)])"
   ],
   "metadata": {
    "collapsed": false
   }
  },
  {
   "cell_type": "code",
   "execution_count": 55,
   "outputs": [
    {
     "data": {
      "text/plain": "755"
     },
     "execution_count": 55,
     "metadata": {},
     "output_type": "execute_result"
    }
   ],
   "source": [
    "len(other_words)"
   ],
   "metadata": {
    "collapsed": false
   }
  },
  {
   "cell_type": "code",
   "execution_count": 56,
   "outputs": [
    {
     "data": {
      "text/plain": "374"
     },
     "execution_count": 56,
     "metadata": {},
     "output_type": "execute_result"
    }
   ],
   "source": [
    "other_words_unique =  set(other_words)\n",
    "len(other_words_unique)"
   ],
   "metadata": {
    "collapsed": false
   }
  },
  {
   "cell_type": "code",
   "execution_count": 57,
   "outputs": [
    {
     "data": {
      "text/plain": "['αἰσχρός',\n 'δειλία',\n 'σύγγονος',\n 'ἐγκράτεια',\n 'φλέψ',\n 'ἰσχύς',\n 'ἀναίδεια',\n 'πυκνότης',\n 'ἐπιπίνω',\n 'φιλέω']"
     },
     "execution_count": 57,
     "metadata": {},
     "output_type": "execute_result"
    }
   ],
   "source": [
    "other_words_unique_new = list(other_words_unique.difference(term_category_dict.keys()))\n",
    "other_words_unique_new[:10]"
   ],
   "metadata": {
    "collapsed": false
   }
  },
  {
   "cell_type": "code",
   "execution_count": 58,
   "outputs": [],
   "source": [
    "word_cat_extension = pd.DataFrame({\"greek\" : other_words_unique_new, \"english\" : [translator(word) for word in other_words_unique_new], \"category\" : [\"\" for el in other_words_unique_new]})"
   ],
   "metadata": {
    "collapsed": false
   }
  },
  {
   "cell_type": "code",
   "execution_count": 59,
   "outputs": [],
   "source": [
    "#set_with_dataframe(PIPA_data.add_worksheet(\"word_cat_extension\", 1,1), word_cat_extension)"
   ],
   "metadata": {
    "collapsed": false
   }
  },
  {
   "cell_type": "markdown",
   "source": [
    "# Load back the manually coded extension"
   ],
   "metadata": {
    "collapsed": false
   }
  },
  {
   "cell_type": "code",
   "execution_count": 60,
   "outputs": [],
   "source": [
    "word_freqs = pickle.load(open(\"../data/word_freqs_all.pickle\", \"rb\"))\n",
    "word_freqs_dict = dict(word_freqs)"
   ],
   "metadata": {
    "collapsed": false
   }
  },
  {
   "cell_type": "code",
   "execution_count": 61,
   "outputs": [
    {
     "data": {
      "text/plain": "8832"
     },
     "execution_count": 61,
     "metadata": {},
     "output_type": "execute_result"
    }
   ],
   "source": [
    "word_freqs_dict[\"ἀγαθός\"]"
   ],
   "metadata": {
    "collapsed": false
   }
  },
  {
   "cell_type": "code",
   "execution_count": 62,
   "outputs": [
    {
     "data": {
      "text/plain": "      greek                                            english   category\n0  ὠφέλιμος  helping, useful, serviceable, profitable, adva...   opossite\n1  δύσκολος                         hard to satisfy with food;  dietetics\n2   πονηρός                        toilsome, painful, grievous       pain\n3    ἀγαπάω  to treat with affection, to caress, love, be f...   opossite\n4   ὑγραίνω                                    to wet, moisten  dietetics",
      "text/html": "<div>\n<style scoped>\n    .dataframe tbody tr th:only-of-type {\n        vertical-align: middle;\n    }\n\n    .dataframe tbody tr th {\n        vertical-align: top;\n    }\n\n    .dataframe thead th {\n        text-align: right;\n    }\n</style>\n<table border=\"1\" class=\"dataframe\">\n  <thead>\n    <tr style=\"text-align: right;\">\n      <th></th>\n      <th>greek</th>\n      <th>english</th>\n      <th>category</th>\n    </tr>\n  </thead>\n  <tbody>\n    <tr>\n      <th>0</th>\n      <td>ὠφέλιμος</td>\n      <td>helping, useful, serviceable, profitable, adva...</td>\n      <td>opossite</td>\n    </tr>\n    <tr>\n      <th>1</th>\n      <td>δύσκολος</td>\n      <td>hard to satisfy with food;</td>\n      <td>dietetics</td>\n    </tr>\n    <tr>\n      <th>2</th>\n      <td>πονηρός</td>\n      <td>toilsome, painful, grievous</td>\n      <td>pain</td>\n    </tr>\n    <tr>\n      <th>3</th>\n      <td>ἀγαπάω</td>\n      <td>to treat with affection, to caress, love, be f...</td>\n      <td>opossite</td>\n    </tr>\n    <tr>\n      <th>4</th>\n      <td>ὑγραίνω</td>\n      <td>to wet, moisten</td>\n      <td>dietetics</td>\n    </tr>\n  </tbody>\n</table>\n</div>"
     },
     "execution_count": 62,
     "metadata": {},
     "output_type": "execute_result"
    }
   ],
   "source": [
    "word_cat_extension_coded = get_as_dataframe(PIPA_data.worksheet(\"word_cat_extension\"))[[\"greek\", \"english\", \"category\"]]\n",
    "word_cat_extension_coded = word_cat_extension_coded[word_cat_extension_coded[\"category\"].notnull()]\n",
    "word_cat_extension_coded.head(5)"
   ],
   "metadata": {
    "collapsed": false
   }
  },
  {
   "cell_type": "code",
   "execution_count": 63,
   "outputs": [
    {
     "data": {
      "text/plain": "259"
     },
     "execution_count": 63,
     "metadata": {},
     "output_type": "execute_result"
    }
   ],
   "source": [
    "len(word_cat_extension_coded)"
   ],
   "metadata": {
    "collapsed": false
   }
  },
  {
   "cell_type": "code",
   "execution_count": 64,
   "outputs": [
    {
     "data": {
      "text/plain": "      greek                                            english   category\n0    πάθημα  anything that befals one, a suffering, calamit...  pathology\n1  νουθετέω          to put in mind, to admonish, warn, advise      other\n2   πυρέσσω                               to be ill of a fever  pathology\n3  παιδικός                                            of, for      other\n4    πλήσσω                                   to strike, smite      other",
      "text/html": "<div>\n<style scoped>\n    .dataframe tbody tr th:only-of-type {\n        vertical-align: middle;\n    }\n\n    .dataframe tbody tr th {\n        vertical-align: top;\n    }\n\n    .dataframe thead th {\n        text-align: right;\n    }\n</style>\n<table border=\"1\" class=\"dataframe\">\n  <thead>\n    <tr style=\"text-align: right;\">\n      <th></th>\n      <th>greek</th>\n      <th>english</th>\n      <th>category</th>\n    </tr>\n  </thead>\n  <tbody>\n    <tr>\n      <th>0</th>\n      <td>πάθημα</td>\n      <td>anything that befals one, a suffering, calamit...</td>\n      <td>pathology</td>\n    </tr>\n    <tr>\n      <th>1</th>\n      <td>νουθετέω</td>\n      <td>to put in mind, to admonish, warn, advise</td>\n      <td>other</td>\n    </tr>\n    <tr>\n      <th>2</th>\n      <td>πυρέσσω</td>\n      <td>to be ill of a fever</td>\n      <td>pathology</td>\n    </tr>\n    <tr>\n      <th>3</th>\n      <td>παιδικός</td>\n      <td>of, for</td>\n      <td>other</td>\n    </tr>\n    <tr>\n      <th>4</th>\n      <td>πλήσσω</td>\n      <td>to strike, smite</td>\n      <td>other</td>\n    </tr>\n  </tbody>\n</table>\n</div>"
     },
     "execution_count": 64,
     "metadata": {},
     "output_type": "execute_result"
    }
   ],
   "source": [
    "word_cat_extension2_coded = get_as_dataframe(PIPA_data.worksheet(\"word_cat_extension2\"))[[\"greek\", \"english\", \"category\"]]\n",
    "word_cat_extension2_coded = word_cat_extension2_coded[word_cat_extension2_coded[\"category\"].notnull()]\n",
    "word_cat_extension2_coded.head(5)"
   ],
   "metadata": {
    "collapsed": false
   }
  },
  {
   "cell_type": "code",
   "execution_count": 65,
   "outputs": [
    {
     "data": {
      "text/plain": "82"
     },
     "execution_count": 65,
     "metadata": {},
     "output_type": "execute_result"
    }
   ],
   "source": [
    "len(word_cat_extension2_coded)"
   ],
   "metadata": {
    "collapsed": false
   }
  },
  {
   "cell_type": "code",
   "execution_count": 66,
   "outputs": [],
   "source": [
    "terms_translation_categories = pd.concat([terms_translation_categories, word_cat_extension_coded, word_cat_extension2_coded])"
   ],
   "metadata": {
    "collapsed": false
   }
  },
  {
   "cell_type": "code",
   "execution_count": 67,
   "outputs": [],
   "source": [
    "terms_translation_categories = terms_translation_categories[~terms_translation_categories[\"category\"].str.contains(\"other\")]"
   ],
   "metadata": {
    "collapsed": false
   }
  },
  {
   "cell_type": "code",
   "execution_count": 68,
   "outputs": [
    {
     "data": {
      "text/plain": "      greek               english      category  count\n249  ἀγαθός                  good         moral   8832\n6     κακός                   bad         moral   4780\n209    σῶμα                  body  bodily parts   4651\n32    φίλος  loved, beloved, dear         moral   3534\n248  ἀδικέω           to do wrong         moral   2134",
      "text/html": "<div>\n<style scoped>\n    .dataframe tbody tr th:only-of-type {\n        vertical-align: middle;\n    }\n\n    .dataframe tbody tr th {\n        vertical-align: top;\n    }\n\n    .dataframe thead th {\n        text-align: right;\n    }\n</style>\n<table border=\"1\" class=\"dataframe\">\n  <thead>\n    <tr style=\"text-align: right;\">\n      <th></th>\n      <th>greek</th>\n      <th>english</th>\n      <th>category</th>\n      <th>count</th>\n    </tr>\n  </thead>\n  <tbody>\n    <tr>\n      <th>249</th>\n      <td>ἀγαθός</td>\n      <td>good</td>\n      <td>moral</td>\n      <td>8832</td>\n    </tr>\n    <tr>\n      <th>6</th>\n      <td>κακός</td>\n      <td>bad</td>\n      <td>moral</td>\n      <td>4780</td>\n    </tr>\n    <tr>\n      <th>209</th>\n      <td>σῶμα</td>\n      <td>body</td>\n      <td>bodily parts</td>\n      <td>4651</td>\n    </tr>\n    <tr>\n      <th>32</th>\n      <td>φίλος</td>\n      <td>loved, beloved, dear</td>\n      <td>moral</td>\n      <td>3534</td>\n    </tr>\n    <tr>\n      <th>248</th>\n      <td>ἀδικέω</td>\n      <td>to do wrong</td>\n      <td>moral</td>\n      <td>2134</td>\n    </tr>\n  </tbody>\n</table>\n</div>"
     },
     "execution_count": 68,
     "metadata": {},
     "output_type": "execute_result"
    }
   ],
   "source": [
    "terms_translation_categories[\"count\"] = terms_translation_categories[\"greek\"].apply(lambda x: word_freqs_dict[x])\n",
    "terms_translation_categories.sort_values(\"count\", ascending=False, inplace=True)\n",
    "terms_translation_categories.head(5)"
   ],
   "metadata": {
    "collapsed": false
   }
  },
  {
   "cell_type": "code",
   "execution_count": 69,
   "outputs": [
    {
     "data": {
      "text/plain": "332"
     },
     "execution_count": 69,
     "metadata": {},
     "output_type": "execute_result"
    }
   ],
   "source": [
    "len(terms_translation_categories)"
   ],
   "metadata": {
    "collapsed": false
   }
  },
  {
   "cell_type": "code",
   "execution_count": 70,
   "outputs": [
    {
     "data": {
      "text/plain": "332"
     },
     "execution_count": 70,
     "metadata": {},
     "output_type": "execute_result"
    }
   ],
   "source": [
    "terms_translation_categories.drop_duplicates(subset=\"greek\", inplace=True)\n",
    "len(terms_translation_categories)"
   ],
   "metadata": {
    "collapsed": false
   }
  },
  {
   "cell_type": "code",
   "execution_count": 75,
   "outputs": [],
   "source": [
    "terms_translation_categories[\"category\"].replace(\"emotion\", \"emotions\", inplace=True)\n",
    "terms_translation_categories[\"category\"].replace(\"moral\", \"morality\", inplace=True)"
   ],
   "metadata": {
    "collapsed": false
   }
  },
  {
   "cell_type": "code",
   "execution_count": 76,
   "outputs": [],
   "source": [
    "pickle.dump(terms_translation_categories, open(\"../data/terms_translation_categories.pickle\", \"wb\"))"
   ],
   "metadata": {
    "collapsed": false
   }
  },
  {
   "cell_type": "code",
   "execution_count": 77,
   "outputs": [],
   "source": [
    "terms_translation_categories.to_csv(\"../data/terms_translation_categories.csv\")"
   ],
   "metadata": {
    "collapsed": false
   }
  },
  {
   "cell_type": "code",
   "execution_count": 78,
   "outputs": [],
   "source": [
    "set_with_dataframe(PIPA_data.add_worksheet(\"terms_translation_categories\", 1,1), terms_translation_categories)"
   ],
   "metadata": {
    "collapsed": false
   }
  },
  {
   "cell_type": "code",
   "execution_count": null,
   "outputs": [],
   "source": [],
   "metadata": {
    "collapsed": false
   }
  }
 ],
 "metadata": {
  "kernelspec": {
   "name": "pipa_venv",
   "language": "python",
   "display_name": "pipa_venv"
  },
  "language_info": {
   "codemirror_mode": {
    "name": "ipython",
    "version": 2
   },
   "file_extension": ".py",
   "mimetype": "text/x-python",
   "name": "python",
   "nbconvert_exporter": "python",
   "pygments_lexer": "ipython2",
   "version": "2.7.6"
  }
 },
 "nbformat": 4,
 "nbformat_minor": 0
}
