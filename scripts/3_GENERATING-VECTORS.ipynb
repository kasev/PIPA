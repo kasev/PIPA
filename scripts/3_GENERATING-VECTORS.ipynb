{
 "cells": [
  {
   "cell_type": "code",
   "execution_count": 1,
   "outputs": [],
   "source": [
    "from gensim.corpora import Dictionary\n",
    "from gensim.models import Word2Vec\n",
    "import pandas as pd\n",
    "import pickle"
   ],
   "metadata": {
    "collapsed": false
   }
  },
  {
   "cell_type": "code",
   "execution_count": 2,
   "outputs": [],
   "source": [
    "cgl = pd.read_json(\"../data/large_data/cgl.json\")"
   ],
   "metadata": {
    "collapsed": false
   }
  },
  {
   "cell_type": "code",
   "execution_count": 3,
   "outputs": [],
   "source": [
    "word_freqs_vocabulary = pd.read_csv(\"../data/word_freqs_vocabulary.csv\")"
   ],
   "metadata": {
    "collapsed": false
   }
  },
  {
   "cell_type": "code",
   "execution_count": 4,
   "outputs": [
    {
     "data": {
      "text/plain": "             word  count\n0            λέγω  29114\n1             ἔχω  22584\n2        γίγνομαι  21737\n3           πολύς  20652\n4             πᾶς  19062\n...           ...    ...\n3457  στραγγουρία     50\n3458       ῥύγχος     50\n3459    διάκρισις     50\n3460        ἀρχός     50\n3461     τρομώδης     50\n\n[3462 rows x 2 columns]",
      "text/html": "<div>\n<style scoped>\n    .dataframe tbody tr th:only-of-type {\n        vertical-align: middle;\n    }\n\n    .dataframe tbody tr th {\n        vertical-align: top;\n    }\n\n    .dataframe thead th {\n        text-align: right;\n    }\n</style>\n<table border=\"1\" class=\"dataframe\">\n  <thead>\n    <tr style=\"text-align: right;\">\n      <th></th>\n      <th>word</th>\n      <th>count</th>\n    </tr>\n  </thead>\n  <tbody>\n    <tr>\n      <th>0</th>\n      <td>λέγω</td>\n      <td>29114</td>\n    </tr>\n    <tr>\n      <th>1</th>\n      <td>ἔχω</td>\n      <td>22584</td>\n    </tr>\n    <tr>\n      <th>2</th>\n      <td>γίγνομαι</td>\n      <td>21737</td>\n    </tr>\n    <tr>\n      <th>3</th>\n      <td>πολύς</td>\n      <td>20652</td>\n    </tr>\n    <tr>\n      <th>4</th>\n      <td>πᾶς</td>\n      <td>19062</td>\n    </tr>\n    <tr>\n      <th>...</th>\n      <td>...</td>\n      <td>...</td>\n    </tr>\n    <tr>\n      <th>3457</th>\n      <td>στραγγουρία</td>\n      <td>50</td>\n    </tr>\n    <tr>\n      <th>3458</th>\n      <td>ῥύγχος</td>\n      <td>50</td>\n    </tr>\n    <tr>\n      <th>3459</th>\n      <td>διάκρισις</td>\n      <td>50</td>\n    </tr>\n    <tr>\n      <th>3460</th>\n      <td>ἀρχός</td>\n      <td>50</td>\n    </tr>\n    <tr>\n      <th>3461</th>\n      <td>τρομώδης</td>\n      <td>50</td>\n    </tr>\n  </tbody>\n</table>\n<p>3462 rows × 2 columns</p>\n</div>"
     },
     "execution_count": 4,
     "metadata": {},
     "output_type": "execute_result"
    }
   ],
   "source": [
    "word_freqs_vocabulary"
   ],
   "metadata": {
    "collapsed": false
   }
  },
  {
   "cell_type": "code",
   "execution_count": 5,
   "outputs": [],
   "source": [
    "word_freq_dict = dict(zip(word_freqs_vocabulary[\"word\"], word_freqs_vocabulary[\"count\"]))"
   ],
   "metadata": {
    "collapsed": false
   }
  },
  {
   "cell_type": "code",
   "execution_count": 24,
   "outputs": [
    {
     "data": {
      "text/plain": "3462"
     },
     "execution_count": 24,
     "metadata": {},
     "output_type": "execute_result"
    }
   ],
   "source": [
    "len(word_freq_dict)"
   ],
   "metadata": {
    "collapsed": false
   }
  },
  {
   "cell_type": "code",
   "execution_count": 6,
   "outputs": [],
   "source": [
    "vocabulary = word_freqs_vocabulary[\"word\"].tolist()"
   ],
   "metadata": {
    "collapsed": false
   }
  },
  {
   "cell_type": "code",
   "execution_count": 9,
   "outputs": [],
   "source": [
    "ids_lines = pickle.load(open(\"../data/ids_lines.pickle\", \"rb\"))"
   ],
   "metadata": {
    "collapsed": false
   }
  },
  {
   "cell_type": "code",
   "execution_count": 10,
   "outputs": [],
   "source": [
    "class NgramCorpus(object):\n",
    "    def __init__(self, ids_list, ids_lines, fname, bow=False, dct=None):\n",
    "        self.ids_list = ids_list\n",
    "        self.fname = fname\n",
    "        self.bow  = bow\n",
    "        self.dct = dct\n",
    "        self.ids_lines = ids_lines\n",
    "        self.len = 0\n",
    "    def __len__(self):\n",
    "        [el for el in self]\n",
    "        return self.len\n",
    "    def __iter__(self):\n",
    "        with open(self.fname, \"r\") as f:\n",
    "            lines = f.readlines()\n",
    "            for id in self.ids_list:\n",
    "                for line in lines[self.ids_lines[id][0] : self.ids_lines[id][1]]:\n",
    "                    if bool(line.split()):\n",
    "                        self.len += 1\n",
    "                        if (self.bow) & (self.dct != None):\n",
    "                            yield self.dct.doc2bow(line.split())\n",
    "                        else:\n",
    "                            yield line.split()"
   ],
   "metadata": {
    "collapsed": false
   }
  },
  {
   "cell_type": "markdown",
   "source": [
    "# Full model"
   ],
   "metadata": {
    "collapsed": false
   }
  },
  {
   "cell_type": "code",
   "execution_count": 11,
   "outputs": [],
   "source": [
    "corpus_full = NgramCorpus(cgl[\"doc_id\"].tolist(), ids_lines, \"../data/large_data/corpus_ngrams_bydocid.txt\")"
   ],
   "metadata": {
    "collapsed": false
   }
  },
  {
   "cell_type": "code",
   "execution_count": 13,
   "outputs": [
    {
     "data": {
      "text/plain": "1828293"
     },
     "execution_count": 13,
     "metadata": {},
     "output_type": "execute_result"
    }
   ],
   "source": [
    "cgl[\"lemmata_wordcount\"].sum()"
   ],
   "metadata": {
    "collapsed": false
   }
  },
  {
   "cell_type": "code",
   "execution_count": 12,
   "outputs": [
    {
     "data": {
      "text/plain": "3204442"
     },
     "execution_count": 12,
     "metadata": {},
     "output_type": "execute_result"
    }
   ],
   "source": [
    "len(corpus_full)"
   ],
   "metadata": {
    "collapsed": false
   }
  },
  {
   "cell_type": "code",
   "execution_count": 14,
   "outputs": [],
   "source": [
    "def from_corpus_to_keyed_vectors(corpus):\n",
    "    model = Word2Vec(vector_size=150, window=3, negative=5, ns_exponent=1, sg=0, epochs=5, workers=8)\n",
    "    model.build_vocab_from_freq(word_freq=word_freq_dict)\n",
    "    model.train(corpus, total_examples=len(corpus), epochs=model.epochs)\n",
    "    keyed_vectors = model.wv\n",
    "    return keyed_vectors"
   ],
   "metadata": {
    "collapsed": false
   }
  },
  {
   "cell_type": "code",
   "execution_count": 12,
   "outputs": [
    {
     "name": "stdout",
     "output_type": "stream",
     "text": [
      "CPU times: user 1min 10s, sys: 2.08 s, total: 1min 12s\n",
      "Wall time: 45.4 s\n"
     ]
    }
   ],
   "source": [
    "%%time\n",
    "keyed_vectors = from_corpus_to_keyed_vectors(corpus_full)"
   ],
   "metadata": {
    "collapsed": false
   }
  },
  {
   "cell_type": "code",
   "execution_count": 13,
   "outputs": [],
   "source": [
    "keyed_vectors.save(\"../data/keyed_vectors_full.wv\")"
   ],
   "metadata": {
    "collapsed": false
   }
  },
  {
   "cell_type": "markdown",
   "source": [
    "# Model based only on subcorpora"
   ],
   "metadata": {
    "collapsed": false
   }
  },
  {
   "cell_type": "code",
   "execution_count": 15,
   "outputs": [
    {
     "name": "stdout",
     "output_type": "stream",
     "text": [
      "124\n"
     ]
    }
   ],
   "source": [
    "# ids_list = cgl[cgl[\"subcorpus\"] != \"c_aristotelicum\"][\"doc_id\"].tolist()\n",
    "ids_list = cgl[cgl[\"author_id\"].isin([\"tlg0086\", \"tlg0627\", \"tlg0059\"])][\"doc_id\"].tolist()\n",
    "print(len(ids_list))\n",
    "corpus_subcorpora = NgramCorpus(ids_list, ids_lines, \"../data/large_data/corpus_ngrams_bydocid.txt\")"
   ],
   "metadata": {
    "collapsed": false
   }
  },
  {
   "cell_type": "code",
   "execution_count": 16,
   "outputs": [
    {
     "data": {
      "text/plain": "862087"
     },
     "execution_count": 16,
     "metadata": {},
     "output_type": "execute_result"
    }
   ],
   "source": [
    "cgl[cgl[\"author_id\"].isin([\"tlg0086\", \"tlg0627\", \"tlg0059\"])][\"lemmata_wordcount\"].sum()"
   ],
   "metadata": {
    "collapsed": false
   }
  },
  {
   "cell_type": "code",
   "execution_count": 15,
   "outputs": [
    {
     "name": "stdout",
     "output_type": "stream",
     "text": [
      "CPU times: user 31.3 s, sys: 1.15 s, total: 32.4 s\n",
      "Wall time: 19.4 s\n"
     ]
    }
   ],
   "source": [
    "%%time\n",
    "keyed_vectors = from_corpus_to_keyed_vectors(corpus_subcorpora)\n",
    "keyed_vectors.save(\"../data/keyed_vectors_subcorpora.wv\")"
   ],
   "metadata": {
    "collapsed": false
   }
  },
  {
   "cell_type": "markdown",
   "source": [],
   "metadata": {
    "collapsed": false
   }
  },
  {
   "cell_type": "markdown",
   "source": [
    "# Model excluding all subcorpora"
   ],
   "metadata": {
    "collapsed": false
   }
  },
  {
   "cell_type": "code",
   "execution_count": 18,
   "outputs": [
    {
     "name": "stdout",
     "output_type": "stream",
     "text": [
      "247\n"
     ]
    }
   ],
   "source": [
    "# ids_list = cgl[cgl[\"subcorpus\"] != \"c_aristotelicum\"][\"doc_id\"].tolist()\n",
    "ids_list = cgl[~cgl[\"author_id\"].isin([\"tlg0086\", \"tlg0627\", \"tlg0059\"])][\"doc_id\"].tolist()\n",
    "print(len(ids_list))\n",
    "corpus_excl_subcorpora = NgramCorpus(ids_list, ids_lines, \"../data/large_data/corpus_ngrams_bydocid.txt\")"
   ],
   "metadata": {
    "collapsed": false
   }
  },
  {
   "cell_type": "code",
   "execution_count": 19,
   "outputs": [
    {
     "name": "stdout",
     "output_type": "stream",
     "text": [
      "CPU times: user 36.2 s, sys: 1.32 s, total: 37.5 s\n",
      "Wall time: 22 s\n"
     ]
    }
   ],
   "source": [
    "%%time\n",
    "keyed_vectors = from_corpus_to_keyed_vectors(corpus_excl_subcorpora)\n",
    "keyed_vectors.save(\"../data/keyed_vectors_excl_subcorpora.wv\")"
   ],
   "metadata": {
    "collapsed": false
   }
  },
  {
   "cell_type": "markdown",
   "source": [
    "# Model exclusing c_aristotelicum & c_platonicum"
   ],
   "metadata": {
    "collapsed": false
   }
  },
  {
   "cell_type": "code",
   "execution_count": 20,
   "outputs": [
    {
     "name": "stdout",
     "output_type": "stream",
     "text": [
      "299\n"
     ]
    }
   ],
   "source": [
    "# ids_list = cgl[cgl[\"subcorpus\"] != \"c_aristotelicum\"][\"doc_id\"].tolist()\n",
    "ids_list = cgl[~cgl[\"author_id\"].isin([\"tlg0086\", \"tlg0059\"])][\"doc_id\"].tolist()\n",
    "print(len(ids_list))\n",
    "corpus_excl_aristplato = NgramCorpus(ids_list, ids_lines, \"../data/large_data/corpus_ngrams_bydocid.txt\")"
   ],
   "metadata": {
    "collapsed": false
   }
  },
  {
   "cell_type": "code",
   "execution_count": 23,
   "outputs": [
    {
     "data": {
      "text/plain": "1161783"
     },
     "execution_count": 23,
     "metadata": {},
     "output_type": "execute_result"
    }
   ],
   "source": [
    "cgl[~cgl[\"author_id\"].isin([\"tlg0086\", \"tlg0059\"])][\"lemmata_wordcount\"].sum()"
   ],
   "metadata": {
    "collapsed": false
   }
  },
  {
   "cell_type": "code",
   "execution_count": 21,
   "outputs": [
    {
     "name": "stdout",
     "output_type": "stream",
     "text": [
      "CPU times: user 41.3 s, sys: 1.28 s, total: 42.6 s\n",
      "Wall time: 25 s\n"
     ]
    }
   ],
   "source": [
    "%%time\n",
    "keyed_vectors = from_corpus_to_keyed_vectors(corpus_excl_aristplato)\n",
    "keyed_vectors.save(\"../data/keyed_vectors_excl_aristplato.wv\")"
   ],
   "metadata": {
    "collapsed": false
   }
  },
  {
   "cell_type": "markdown",
   "source": [
    "# Model excluding c_aristotelicum"
   ],
   "metadata": {
    "collapsed": false
   }
  },
  {
   "cell_type": "code",
   "execution_count": 14,
   "outputs": [
    {
     "data": {
      "text/plain": "{None, 'c_aristotelicum', 'c_hippocraticum', 'c_platonicum'}"
     },
     "execution_count": 14,
     "metadata": {},
     "output_type": "execute_result"
    }
   ],
   "source": [
    "set(cgl[\"subcorpus\"])"
   ],
   "metadata": {
    "collapsed": false
   }
  },
  {
   "cell_type": "code",
   "execution_count": 10,
   "outputs": [
    {
     "name": "stdout",
     "output_type": "stream",
     "text": [
      "336\n"
     ]
    }
   ],
   "source": [
    "# ids_list = cgl[cgl[\"subcorpus\"] != \"c_aristotelicum\"][\"doc_id\"].tolist()\n",
    "ids_list = cgl[cgl[\"author_id\"] != \"tlg0086\"][\"doc_id\"].tolist()\n",
    "print(len(ids_list))\n",
    "corpus_excl_arist = NgramCorpus(ids_list, ids_lines, \"../data/large_data/corpus_ngrams_bydocid.txt\")"
   ],
   "metadata": {
    "collapsed": false
   }
  },
  {
   "cell_type": "code",
   "execution_count": 20,
   "outputs": [
    {
     "data": {
      "text/plain": "1446704"
     },
     "execution_count": 20,
     "metadata": {},
     "output_type": "execute_result"
    }
   ],
   "source": [
    "cgl[cgl[\"author_id\"] != \"tlg0086\"][\"lemmata_wordcount\"].sum()"
   ],
   "metadata": {
    "collapsed": false
   }
  },
  {
   "cell_type": "code",
   "execution_count": 16,
   "outputs": [
    {
     "name": "stdout",
     "output_type": "stream",
     "text": [
      "CPU times: user 58 s, sys: 2.03 s, total: 1min\n",
      "Wall time: 37.6 s\n"
     ]
    }
   ],
   "source": [
    "%%time\n",
    "keyed_vectors = from_corpus_to_keyed_vectors(corpus_excl_arist)\n",
    "keyed_vectors.save(\"../data/keyed_vectors_excl_arist.wv\")"
   ],
   "metadata": {
    "collapsed": false
   }
  },
  {
   "cell_type": "markdown",
   "source": [
    "# Model excluding c_hippocraticum"
   ],
   "metadata": {
    "collapsed": false
   }
  },
  {
   "cell_type": "code",
   "execution_count": 17,
   "outputs": [
    {
     "name": "stdout",
     "output_type": "stream",
     "text": [
      "319\n"
     ]
    }
   ],
   "source": [
    "# ids_list = cgl[cgl[\"subcorpus\"] != \"c_hippocraticum\"][\"doc_id\"].tolist()\n",
    "ids_list = cgl[cgl[\"author_id\"] != \"tlg0627\"][\"doc_id\"].tolist()\n",
    "print(len(ids_list))\n",
    "corpus_excl_hipp = NgramCorpus(ids_list, ids_lines, \"../data/large_data/corpus_ngrams_bydocid.txt\")"
   ],
   "metadata": {
    "collapsed": false
   }
  },
  {
   "cell_type": "code",
   "execution_count": 19,
   "outputs": [
    {
     "data": {
      "text/plain": "1632716"
     },
     "execution_count": 19,
     "metadata": {},
     "output_type": "execute_result"
    }
   ],
   "source": [
    "cgl[cgl[\"author_id\"] != \"tlg0627\"][\"lemmata_wordcount\"].sum()"
   ],
   "metadata": {
    "collapsed": false
   }
  },
  {
   "cell_type": "code",
   "execution_count": 18,
   "outputs": [
    {
     "name": "stdout",
     "output_type": "stream",
     "text": [
      "CPU times: user 1min, sys: 1.49 s, total: 1min 1s\n",
      "Wall time: 37.7 s\n"
     ]
    }
   ],
   "source": [
    "%%time\n",
    "keyed_vectors = from_corpus_to_keyed_vectors(corpus_excl_hipp)\n",
    "keyed_vectors.save(\"../data/keyed_vectors_excl_hipp.wv\")"
   ],
   "metadata": {
    "collapsed": false
   }
  },
  {
   "cell_type": "markdown",
   "source": [
    "# Model excluding c_platonicum"
   ],
   "metadata": {
    "collapsed": false
   }
  },
  {
   "cell_type": "code",
   "execution_count": 19,
   "outputs": [
    {
     "name": "stdout",
     "output_type": "stream",
     "text": [
      "334\n"
     ]
    }
   ],
   "source": [
    "# ids_list = cgl[cgl[\"subcorpus\"] != \"c_platonicum\"][\"doc_id\"].tolist()\n",
    "ids_list = cgl[cgl[\"author_id\"] != \"tlg0059\"][\"doc_id\"].tolist()\n",
    "print(len(ids_list))\n",
    "corpus_excl_plato = NgramCorpus(ids_list, ids_lines, \"../data/large_data/corpus_ngrams_bydocid.txt\")"
   ],
   "metadata": {
    "collapsed": false
   }
  },
  {
   "cell_type": "code",
   "execution_count": 21,
   "outputs": [
    {
     "data": {
      "text/plain": "1543372"
     },
     "execution_count": 21,
     "metadata": {},
     "output_type": "execute_result"
    }
   ],
   "source": [
    "cgl[cgl[\"author_id\"] != \"tlg0059\"][\"lemmata_wordcount\"].sum()"
   ],
   "metadata": {
    "collapsed": false
   }
  },
  {
   "cell_type": "code",
   "execution_count": 20,
   "outputs": [
    {
     "name": "stdout",
     "output_type": "stream",
     "text": [
      "CPU times: user 53.9 s, sys: 1.17 s, total: 55.1 s\n",
      "Wall time: 34.3 s\n"
     ]
    }
   ],
   "source": [
    "%%time\n",
    "keyed_vectors = from_corpus_to_keyed_vectors(corpus_excl_plato)\n",
    "keyed_vectors.save(\"../data/keyed_vectors_excl_plato.wv\")"
   ],
   "metadata": {
    "collapsed": false
   }
  },
  {
   "cell_type": "code",
   "execution_count": null,
   "outputs": [],
   "source": [],
   "metadata": {
    "collapsed": false
   }
  }
 ],
 "metadata": {
  "kernelspec": {
   "name": "pipa_venv",
   "language": "python",
   "display_name": "pipa_venv"
  },
  "language_info": {
   "codemirror_mode": {
    "name": "ipython",
    "version": 2
   },
   "file_extension": ".py",
   "mimetype": "text/x-python",
   "name": "python",
   "nbconvert_exporter": "python",
   "pygments_lexer": "ipython2",
   "version": "2.7.6"
  }
 },
 "nbformat": 4,
 "nbformat_minor": 0
}
