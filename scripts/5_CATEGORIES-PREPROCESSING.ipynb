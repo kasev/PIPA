{
 "cells": [
  {
   "cell_type": "code",
   "execution_count": 1,
   "outputs": [],
   "source": [
    "import numpy as np\n",
    "import pandas as pd\n",
    "from gensim.models import KeyedVectors\n",
    "from sklearn.metrics.pairwise import cosine_similarity\n",
    "\n",
    "# plotting\n",
    "import matplotlib.pyplot as plt\n",
    "import seaborn as sns\n",
    "import os\n",
    "import json"
   ],
   "metadata": {
    "collapsed": false
   }
  },
  {
   "cell_type": "code",
   "execution_count": 2,
   "outputs": [],
   "source": [
    "# to communicate with google spreadsheet...\n",
    "import gspread\n",
    "from gspread_dataframe import get_as_dataframe\n",
    "from gspread_dataframe import set_with_dataframe\n",
    "from google.oauth2 import service_account # based on google-auth library\n",
    "\n",
    "# establish connection with gogglesheets...\n",
    "file_data = json.load(open(\"../../ServiceAccountsKey.json\", \"r\"))\n",
    "credentials = service_account.Credentials.from_service_account_info(file_data)\n",
    "gc = gspread.Client(auth=credentials.with_scopes(['https://spreadsheets.google.com/feeds', 'https://www.googleapis.com/auth/drive']))\n",
    "PIPA_data = gc.open_by_url(\"https://docs.google.com/spreadsheets/d/1rV4t0_UV_wcx--UAHVwkqB8Wa_5n9mnpV05yGG1OHqk/edit?usp=sharing\")"
   ],
   "metadata": {
    "collapsed": false
   }
  },
  {
   "cell_type": "code",
   "execution_count": 3,
   "outputs": [],
   "source": [
    "keywords = ['λυπέω',\n",
    "            'λυπηρός',\n",
    "            'λύπη',\n",
    "            'ἄλγος',\n",
    "            'ἄλγημα',\n",
    "            'ἀλγέω',\n",
    "            'ὀδύνη',\n",
    "            'ὀδυνάω',\n",
    "            'πονέω',\n",
    "            'πόνος']"
   ],
   "metadata": {
    "collapsed": false
   }
  },
  {
   "cell_type": "code",
   "execution_count": 1,
   "outputs": [
    {
     "ename": "NameError",
     "evalue": "name 'KeyedVectors' is not defined",
     "output_type": "error",
     "traceback": [
      "\u001B[0;31m---------------------------------------------------------------------------\u001B[0m",
      "\u001B[0;31mNameError\u001B[0m                                 Traceback (most recent call last)",
      "\u001B[0;32m/var/folders/zg/zvg9y3rs7j527jxfq9sc2xqc0000gn/T/ipykernel_22189/1498738724.py\u001B[0m in \u001B[0;36m<module>\u001B[0;34m\u001B[0m\n\u001B[0;32m----> 1\u001B[0;31m \u001B[0mkeyed_vectors_full\u001B[0m \u001B[0;34m=\u001B[0m \u001B[0mKeyedVectors\u001B[0m\u001B[0;34m.\u001B[0m\u001B[0mload\u001B[0m\u001B[0;34m(\u001B[0m\u001B[0;34m\"../data/keyed_vectors_full.wv\"\u001B[0m\u001B[0;34m)\u001B[0m\u001B[0;34m\u001B[0m\u001B[0;34m\u001B[0m\u001B[0m\n\u001B[0m\u001B[1;32m      2\u001B[0m \u001B[0mkeyed_vectors_excl_arist\u001B[0m \u001B[0;34m=\u001B[0m \u001B[0mKeyedVectors\u001B[0m\u001B[0;34m.\u001B[0m\u001B[0mload\u001B[0m\u001B[0;34m(\u001B[0m\u001B[0;34m\"../data/keyed_vectors_excl_arist.wv\"\u001B[0m\u001B[0;34m)\u001B[0m\u001B[0;34m\u001B[0m\u001B[0;34m\u001B[0m\u001B[0m\n\u001B[1;32m      3\u001B[0m \u001B[0mkeyed_vectors_excl_plato\u001B[0m \u001B[0;34m=\u001B[0m \u001B[0mKeyedVectors\u001B[0m\u001B[0;34m.\u001B[0m\u001B[0mload\u001B[0m\u001B[0;34m(\u001B[0m\u001B[0;34m\"../data/keyed_vectors_excl_plato.wv\"\u001B[0m\u001B[0;34m)\u001B[0m\u001B[0;34m\u001B[0m\u001B[0;34m\u001B[0m\u001B[0m\n\u001B[1;32m      4\u001B[0m \u001B[0mkeyed_vectors_excl_hipp\u001B[0m \u001B[0;34m=\u001B[0m \u001B[0mKeyedVectors\u001B[0m\u001B[0;34m.\u001B[0m\u001B[0mload\u001B[0m\u001B[0;34m(\u001B[0m\u001B[0;34m\"../data/keyed_vectors_excl_hipp.wv\"\u001B[0m\u001B[0;34m)\u001B[0m\u001B[0;34m\u001B[0m\u001B[0;34m\u001B[0m\u001B[0m\n\u001B[1;32m      5\u001B[0m \u001B[0mvectors_list\u001B[0m \u001B[0;34m=\u001B[0m \u001B[0;34m[\u001B[0m\u001B[0mkeyed_vectors_full\u001B[0m\u001B[0;34m,\u001B[0m \u001B[0mkeyed_vectors_excl_arist\u001B[0m\u001B[0;34m,\u001B[0m \u001B[0mkeyed_vectors_excl_plato\u001B[0m\u001B[0;34m,\u001B[0m \u001B[0mkeyed_vectors_excl_hipp\u001B[0m\u001B[0;34m]\u001B[0m\u001B[0;34m\u001B[0m\u001B[0;34m\u001B[0m\u001B[0m\n",
      "\u001B[0;31mNameError\u001B[0m: name 'KeyedVectors' is not defined"
     ]
    }
   ],
   "source": [
    "keyed_vectors_full = KeyedVectors.load(\"../data/keyed_vectors_full.wv\")\n",
    "keyed_vectors_excl_arist = KeyedVectors.load(\"../data/keyed_vectors_excl_arist.wv\")\n",
    "keyed_vectors_excl_plato = KeyedVectors.load(\"../data/keyed_vectors_excl_plato.wv\")\n",
    "keyed_vectors_excl_hipp = KeyedVectors.load(\"../data/keyed_vectors_excl_hipp.wv\")\n",
    "vectors_list = [keyed_vectors_full, keyed_vectors_excl_arist, keyed_vectors_excl_plato, keyed_vectors_excl_hipp]"
   ],
   "metadata": {
    "collapsed": false
   }
  },
  {
   "cell_type": "code",
   "execution_count": 24,
   "outputs": [],
   "source": [
    "n_words = len(keyed_vectors_full)\n",
    "complete_sim_matrices = []\n",
    "for vecs in vectors_list:\n",
    "    complete_sim_matrix = cosine_similarity(vecs.vectors)\n",
    "    complete_sim_matrices.append(complete_sim_matrix[:n_words, :n_words])"
   ],
   "metadata": {
    "collapsed": false
   }
  },
  {
   "cell_type": "markdown",
   "source": [
    "# Analyzing categories"
   ],
   "metadata": {
    "collapsed": false
   }
  },
  {
   "cell_type": "code",
   "execution_count": 40,
   "outputs": [
    {
     "data": {
      "text/plain": "              greek           english category_clean\n0      χαίρω (0.52)           rejoice       opossite\n1   ἀγανακτέω (0.5)  to be displeased        emotion\n2     ἥδομαι (0.49)     feel pleasure       opossite\n3    ἀπολαύω (0.48)             enjoy       opossite\n4  διάκειμαι (0.46)    to be affected      suffering",
      "text/html": "<div>\n<style scoped>\n    .dataframe tbody tr th:only-of-type {\n        vertical-align: middle;\n    }\n\n    .dataframe tbody tr th {\n        vertical-align: top;\n    }\n\n    .dataframe thead th {\n        text-align: right;\n    }\n</style>\n<table border=\"1\" class=\"dataframe\">\n  <thead>\n    <tr style=\"text-align: right;\">\n      <th></th>\n      <th>greek</th>\n      <th>english</th>\n      <th>category_clean</th>\n    </tr>\n  </thead>\n  <tbody>\n    <tr>\n      <th>0</th>\n      <td>χαίρω (0.52)</td>\n      <td>rejoice</td>\n      <td>opossite</td>\n    </tr>\n    <tr>\n      <th>1</th>\n      <td>ἀγανακτέω (0.5)</td>\n      <td>to be displeased</td>\n      <td>emotion</td>\n    </tr>\n    <tr>\n      <th>2</th>\n      <td>ἥδομαι (0.49)</td>\n      <td>feel pleasure</td>\n      <td>opossite</td>\n    </tr>\n    <tr>\n      <th>3</th>\n      <td>ἀπολαύω (0.48)</td>\n      <td>enjoy</td>\n      <td>opossite</td>\n    </tr>\n    <tr>\n      <th>4</th>\n      <td>διάκειμαι (0.46)</td>\n      <td>to be affected</td>\n      <td>suffering</td>\n    </tr>\n  </tbody>\n</table>\n</div>"
     },
     "execution_count": 40,
     "metadata": {},
     "output_type": "execute_result"
    }
   ],
   "source": [
    "terms_translation_categories = get_as_dataframe(PIPA_data.worksheet(\"translation\"))[[\"greek\", \"english\", \"category_clean\"]]\n",
    "terms_translation_categories = terms_translation_categories[terms_translation_categories[\"greek\"].notnull()]\n",
    "terms_translation_categories.head(5)"
   ],
   "metadata": {
    "collapsed": false
   }
  },
  {
   "cell_type": "code",
   "execution_count": 43,
   "outputs": [],
   "source": [
    "terms_translation_categories[\"greek\"] = terms_translation_categories[\"greek\"].apply(lambda x: x.rpartition(\" (\")[0].replace(\" \", \"\"))"
   ],
   "metadata": {
    "collapsed": false
   }
  },
  {
   "cell_type": "code",
   "execution_count": 45,
   "outputs": [],
   "source": [
    "terms_translation_categories = terms_translation_categories.drop_duplicates(subset=\"greek\")"
   ],
   "metadata": {
    "collapsed": false
   }
  },
  {
   "cell_type": "code",
   "execution_count": 47,
   "outputs": [
    {
     "data": {
      "text/plain": "category_clean\nbodily organs    20\ndietetics        27\nemotion          15\nmoral            16\nopossite         17\nother            13\npain             15\npathology        19\nsuffering         9\ndtype: int64"
     },
     "execution_count": 47,
     "metadata": {},
     "output_type": "execute_result"
    }
   ],
   "source": [
    "terms_translation_categories.groupby(\"category_clean\").size()"
   ],
   "metadata": {
    "collapsed": false
   }
  },
  {
   "cell_type": "code",
   "execution_count": 48,
   "outputs": [],
   "source": [
    "categories = list(set(terms_translation_categories[\"category_clean\"]))"
   ],
   "metadata": {
    "collapsed": false
   }
  },
  {
   "cell_type": "code",
   "execution_count": 49,
   "outputs": [
    {
     "data": {
      "text/plain": "{'χαίρω': 'opossite',\n 'ἀγανακτέω': 'emotion',\n 'ἥδομαι': 'opossite',\n 'ἀπολαύω': 'opossite',\n 'διάκειμαι': 'suffering',\n 'ἀκόλαστος': 'moral',\n 'κακός': 'moral',\n 'ἄχθομαι': 'emotion',\n 'εὐφραίνω': 'opossite',\n 'λυπηρός': 'pain',\n 'ἐξαμαρτάνω': 'other',\n 'πλησιάζω': 'other',\n 'μισέω': 'moral',\n 'φοβερός': 'emotion',\n 'δυσχεραίνω': 'emotion',\n 'λοιδορέω': 'suffering',\n 'ὀργίζω': 'suffering',\n 'σύνοιδα': 'other',\n 'φθονέω': 'moral',\n 'ἀνάξιος': 'moral',\n 'ἀλγέω': 'pain',\n 'ἀνόητος': 'moral',\n 'δακρύω': 'emotion',\n 'ψαύω': 'other',\n 'ὀδυνάω': 'pain',\n 'βαρύνω': 'suffering',\n 'ἀλγεινός': 'pain',\n 'ἄλγημα': 'pain',\n 'νείαιρα': 'bodily organs',\n 'ἰξύα': 'bodily organs',\n 'ὑποχόνδριος': 'bodily organs',\n 'λυπέω': 'pain',\n 'βάρος': 'pathology',\n 'ἧπαρ': 'bodily organs',\n 'σπάω': 'pathology',\n 'πλευρόν': 'bodily organs',\n 'παραφρονέω': 'emotion',\n 'πυρεταίνω': 'pathology',\n 'ἀλγηδών': 'pain',\n 'πόθος': 'opossite',\n 'ὀδύρομαι': 'emotion',\n 'θυμόω': 'suffering',\n 'ἄλγος': 'pain',\n 'οἰκτρός': 'emotion',\n 'ἕλκος': 'pathology',\n 'ἑλκόω': 'pathology',\n 'φόνιος': 'pathology',\n 'θανάσιμος': 'pathology',\n 'νῆστις': 'dietetics',\n 'ἄτη': 'suffering',\n 'ὠδίς': 'pain',\n 'κλείς': 'bodily organs',\n 'βήξ': 'pathology',\n 'θέρμη': 'pathology',\n 'δίψα': 'dietetics',\n 'βληχρός': 'other',\n 'οἴδημα': 'pathology',\n 'στραγγουρία': 'pathology',\n 'κόπος': 'dietetics',\n 'διάρροια': 'pathology',\n 'κενεών': 'bodily organs',\n 'βουβών': 'bodily organs',\n 'μετάφρενον': 'bodily organs',\n 'τράχηλος': 'bodily organs',\n 'ὕφαιμος': 'pathology',\n 'ἤρ': 'other',\n 'ὀσφῦς': 'bodily organs',\n 'κατάψυξις': 'pathology',\n 'διαθερμαίνω': 'pathology',\n 'βλέφαρον': 'bodily organs',\n 'ἰσχναίνω': 'dietetics',\n 'πυός': 'pathology',\n 'φυράω': 'dietetics',\n 'στάζω': 'pathology',\n 'ταλαιπωρέω': 'dietetics',\n 'δαπανάω': 'dietetics',\n 'γυμνάζω': 'dietetics',\n 'πόνος': 'pain',\n 'καρτερέω': 'dietetics',\n 'διαπονέω': 'dietetics',\n 'ῥᾳστώνη': 'opossite',\n 'ἀναλίσκω': 'dietetics',\n 'εὐεξία': 'opossite',\n 'μέτριος': 'dietetics',\n 'ταλαιπωρία': 'dietetics',\n 'κινδυνεύω': 'other',\n 'ἀσθενέω': 'dietetics',\n 'πλησμονή': 'opossite',\n 'ἐμποδίζω': 'other',\n 'πονέω': 'dietetics',\n 'φῦσα': 'dietetics',\n 'γυμνάσιον': 'dietetics',\n 'περίπατος': 'dietetics',\n 'σῶμα': 'bodily organs',\n 'ἄσκησις': 'dietetics',\n 'πενία': 'dietetics',\n 'ἀκμή': 'dietetics',\n 'μόχθος': 'dietetics',\n 'ἐπίπονος': 'pain',\n 'βίοτος': 'other',\n 'ῥώμη': 'dietetics',\n 'ἀλκή': 'dietetics',\n 'ἐκπονέω': 'dietetics',\n 'λύπη': 'pain',\n 'ἡδύς': 'opossite',\n 'βλαβερός': 'moral',\n 'σωματικός': 'bodily organs',\n 'συζάω': 'other',\n 'ἀηδής': 'suffering',\n 'σιωπάω': 'dietetics',\n 'πεινάω': 'opossite',\n 'ἀγαπητός': 'opossite',\n 'ἡδονή': 'opossite',\n 'ἐπιθυμία': 'opossite',\n 'θαρσαλέος': 'moral',\n 'Ἀφροδίσιος': 'opossite',\n 'παρουσία': 'other',\n 'ἀκρασία': 'moral',\n 'ἀκολασία': 'moral',\n 'ἄνοια': 'moral',\n 'φόβος': 'emotion',\n 'ἔρως': 'opossite',\n 'θυμός': 'opossite',\n 'κακία': 'moral',\n 'σύμφυτος': 'other',\n 'ὁμιλία': 'other',\n 'αἰδώς': 'moral',\n 'λήθη': 'moral',\n 'θάρσος': 'moral',\n 'τάλας': 'suffering',\n 'δύστηνος': 'emotion',\n 'τλήμων': 'suffering',\n 'ἄχος': 'pain',\n 'δεῖμα': 'emotion',\n 'στένω': 'emotion',\n 'πῆμα': 'emotion',\n 'μέλεος': 'emotion',\n 'γόος': 'emotion',\n 'δέρκομαι': 'opossite',\n 'τλάω': 'dietetics',\n 'ὀδύνη': 'pain',\n 'φρικώδης': 'pathology',\n 'ἀσώδης': 'pathology',\n 'κακοήθης': 'moral',\n 'ὀδυνώδης': 'pain',\n 'ῥάχις': 'bodily organs',\n 'κνήμη': 'bodily organs',\n 'στῆθος': 'bodily organs',\n 'σφυρόν': 'bodily organs',\n 'φλέβιον': 'bodily organs',\n 'χόνδρος': 'bodily organs'}"
     },
     "execution_count": 49,
     "metadata": {},
     "output_type": "execute_result"
    }
   ],
   "source": [
    "term_category_dict = dict(zip(terms_translation_categories[\"greek\"], terms_translation_categories[\"category_clean\"]))\n",
    "term_category_dict"
   ],
   "metadata": {
    "collapsed": false
   }
  },
  {
   "cell_type": "code",
   "execution_count": 52,
   "outputs": [
    {
     "ename": "KeyError",
     "evalue": "'translation'",
     "output_type": "error",
     "traceback": [
      "\u001B[0;31m---------------------------------------------------------------------------\u001B[0m",
      "\u001B[0;31mKeyError\u001B[0m                                  Traceback (most recent call last)",
      "\u001B[0;32m/opt/homebrew/Caskroom/miniforge/base/lib/python3.9/site-packages/pandas/core/indexes/base.py\u001B[0m in \u001B[0;36mget_loc\u001B[0;34m(self, key, method, tolerance)\u001B[0m\n\u001B[1;32m   3799\u001B[0m             \u001B[0;32mtry\u001B[0m\u001B[0;34m:\u001B[0m\u001B[0;34m\u001B[0m\u001B[0;34m\u001B[0m\u001B[0m\n\u001B[0;32m-> 3800\u001B[0;31m                 \u001B[0;32mreturn\u001B[0m \u001B[0mself\u001B[0m\u001B[0;34m.\u001B[0m\u001B[0m_engine\u001B[0m\u001B[0;34m.\u001B[0m\u001B[0mget_loc\u001B[0m\u001B[0;34m(\u001B[0m\u001B[0mcasted_key\u001B[0m\u001B[0;34m)\u001B[0m\u001B[0;34m\u001B[0m\u001B[0;34m\u001B[0m\u001B[0m\n\u001B[0m\u001B[1;32m   3801\u001B[0m             \u001B[0;32mexcept\u001B[0m \u001B[0mKeyError\u001B[0m \u001B[0;32mas\u001B[0m \u001B[0merr\u001B[0m\u001B[0;34m:\u001B[0m\u001B[0;34m\u001B[0m\u001B[0;34m\u001B[0m\u001B[0m\n",
      "\u001B[0;32m/opt/homebrew/Caskroom/miniforge/base/lib/python3.9/site-packages/pandas/_libs/index.pyx\u001B[0m in \u001B[0;36mpandas._libs.index.IndexEngine.get_loc\u001B[0;34m()\u001B[0m\n",
      "\u001B[0;32m/opt/homebrew/Caskroom/miniforge/base/lib/python3.9/site-packages/pandas/_libs/index.pyx\u001B[0m in \u001B[0;36mpandas._libs.index.IndexEngine.get_loc\u001B[0;34m()\u001B[0m\n",
      "\u001B[0;32mpandas/_libs/hashtable_class_helper.pxi\u001B[0m in \u001B[0;36mpandas._libs.hashtable.PyObjectHashTable.get_item\u001B[0;34m()\u001B[0m\n",
      "\u001B[0;32mpandas/_libs/hashtable_class_helper.pxi\u001B[0m in \u001B[0;36mpandas._libs.hashtable.PyObjectHashTable.get_item\u001B[0;34m()\u001B[0m\n",
      "\u001B[0;31mKeyError\u001B[0m: 'translation'",
      "\nThe above exception was the direct cause of the following exception:\n",
      "\u001B[0;31mKeyError\u001B[0m                                  Traceback (most recent call last)",
      "\u001B[0;32m/var/folders/zg/zvg9y3rs7j527jxfq9sc2xqc0000gn/T/ipykernel_10920/4164819008.py\u001B[0m in \u001B[0;36m<module>\u001B[0;34m\u001B[0m\n\u001B[0;32m----> 1\u001B[0;31m \u001B[0mterm_translation_dict\u001B[0m \u001B[0;34m=\u001B[0m \u001B[0mdict\u001B[0m\u001B[0;34m(\u001B[0m\u001B[0mzip\u001B[0m\u001B[0;34m(\u001B[0m\u001B[0mterms_translation_categories\u001B[0m\u001B[0;34m[\u001B[0m\u001B[0;34m\"greek\"\u001B[0m\u001B[0;34m]\u001B[0m\u001B[0;34m,\u001B[0m \u001B[0mterms_translation_categories\u001B[0m\u001B[0;34m[\u001B[0m\u001B[0;34m\"translation\"\u001B[0m\u001B[0;34m]\u001B[0m\u001B[0;34m)\u001B[0m\u001B[0;34m)\u001B[0m\u001B[0;34m\u001B[0m\u001B[0;34m\u001B[0m\u001B[0m\n\u001B[0m\u001B[1;32m      2\u001B[0m \u001B[0mterm_translation_dict\u001B[0m\u001B[0;34m\u001B[0m\u001B[0;34m\u001B[0m\u001B[0m\n",
      "\u001B[0;32m/opt/homebrew/Caskroom/miniforge/base/lib/python3.9/site-packages/pandas/core/frame.py\u001B[0m in \u001B[0;36m__getitem__\u001B[0;34m(self, key)\u001B[0m\n\u001B[1;32m   3803\u001B[0m             \u001B[0;32mif\u001B[0m \u001B[0mself\u001B[0m\u001B[0;34m.\u001B[0m\u001B[0mcolumns\u001B[0m\u001B[0;34m.\u001B[0m\u001B[0mnlevels\u001B[0m \u001B[0;34m>\u001B[0m \u001B[0;36m1\u001B[0m\u001B[0;34m:\u001B[0m\u001B[0;34m\u001B[0m\u001B[0;34m\u001B[0m\u001B[0m\n\u001B[1;32m   3804\u001B[0m                 \u001B[0;32mreturn\u001B[0m \u001B[0mself\u001B[0m\u001B[0;34m.\u001B[0m\u001B[0m_getitem_multilevel\u001B[0m\u001B[0;34m(\u001B[0m\u001B[0mkey\u001B[0m\u001B[0;34m)\u001B[0m\u001B[0;34m\u001B[0m\u001B[0;34m\u001B[0m\u001B[0m\n\u001B[0;32m-> 3805\u001B[0;31m             \u001B[0mindexer\u001B[0m \u001B[0;34m=\u001B[0m \u001B[0mself\u001B[0m\u001B[0;34m.\u001B[0m\u001B[0mcolumns\u001B[0m\u001B[0;34m.\u001B[0m\u001B[0mget_loc\u001B[0m\u001B[0;34m(\u001B[0m\u001B[0mkey\u001B[0m\u001B[0;34m)\u001B[0m\u001B[0;34m\u001B[0m\u001B[0;34m\u001B[0m\u001B[0m\n\u001B[0m\u001B[1;32m   3806\u001B[0m             \u001B[0;32mif\u001B[0m \u001B[0mis_integer\u001B[0m\u001B[0;34m(\u001B[0m\u001B[0mindexer\u001B[0m\u001B[0;34m)\u001B[0m\u001B[0;34m:\u001B[0m\u001B[0;34m\u001B[0m\u001B[0;34m\u001B[0m\u001B[0m\n\u001B[1;32m   3807\u001B[0m                 \u001B[0mindexer\u001B[0m \u001B[0;34m=\u001B[0m \u001B[0;34m[\u001B[0m\u001B[0mindexer\u001B[0m\u001B[0;34m]\u001B[0m\u001B[0;34m\u001B[0m\u001B[0;34m\u001B[0m\u001B[0m\n",
      "\u001B[0;32m/opt/homebrew/Caskroom/miniforge/base/lib/python3.9/site-packages/pandas/core/indexes/base.py\u001B[0m in \u001B[0;36mget_loc\u001B[0;34m(self, key, method, tolerance)\u001B[0m\n\u001B[1;32m   3800\u001B[0m                 \u001B[0;32mreturn\u001B[0m \u001B[0mself\u001B[0m\u001B[0;34m.\u001B[0m\u001B[0m_engine\u001B[0m\u001B[0;34m.\u001B[0m\u001B[0mget_loc\u001B[0m\u001B[0;34m(\u001B[0m\u001B[0mcasted_key\u001B[0m\u001B[0;34m)\u001B[0m\u001B[0;34m\u001B[0m\u001B[0;34m\u001B[0m\u001B[0m\n\u001B[1;32m   3801\u001B[0m             \u001B[0;32mexcept\u001B[0m \u001B[0mKeyError\u001B[0m \u001B[0;32mas\u001B[0m \u001B[0merr\u001B[0m\u001B[0;34m:\u001B[0m\u001B[0;34m\u001B[0m\u001B[0;34m\u001B[0m\u001B[0m\n\u001B[0;32m-> 3802\u001B[0;31m                 \u001B[0;32mraise\u001B[0m \u001B[0mKeyError\u001B[0m\u001B[0;34m(\u001B[0m\u001B[0mkey\u001B[0m\u001B[0;34m)\u001B[0m \u001B[0;32mfrom\u001B[0m \u001B[0merr\u001B[0m\u001B[0;34m\u001B[0m\u001B[0;34m\u001B[0m\u001B[0m\n\u001B[0m\u001B[1;32m   3803\u001B[0m             \u001B[0;32mexcept\u001B[0m \u001B[0mTypeError\u001B[0m\u001B[0;34m:\u001B[0m\u001B[0;34m\u001B[0m\u001B[0;34m\u001B[0m\u001B[0m\n\u001B[1;32m   3804\u001B[0m                 \u001B[0;31m# If we have a listlike key, _check_indexing_error will raise\u001B[0m\u001B[0;34m\u001B[0m\u001B[0;34m\u001B[0m\u001B[0m\n",
      "\u001B[0;31mKeyError\u001B[0m: 'translation'"
     ]
    }
   ],
   "source": [
    "term_translation_dict = dict(zip(terms_translation_categories[\"greek\"], terms_translation_categories[\"english\"]))\n",
    "term_translation_dict"
   ],
   "metadata": {
    "collapsed": false
   }
  },
  {
   "cell_type": "code",
   "execution_count": 50,
   "outputs": [],
   "source": [
    "cat_terms_dict = {}\n",
    "for cat in categories:\n",
    "    terms = terms_translation_categories[terms_translation_categories[\"category_clean\"]==cat][\"greek\"].tolist()\n",
    "    cat_terms_dict[cat] = terms"
   ],
   "metadata": {
    "collapsed": false
   }
  },
  {
   "cell_type": "code",
   "execution_count": 51,
   "outputs": [
    {
     "data": {
      "text/plain": "{'emotion': ['ἀγανακτέω',\n  'ἄχθομαι',\n  'φοβερός',\n  'δυσχεραίνω',\n  'δακρύω',\n  'παραφρονέω',\n  'ὀδύρομαι',\n  'οἰκτρός',\n  'φόβος',\n  'δύστηνος',\n  'δεῖμα',\n  'στένω',\n  'πῆμα',\n  'μέλεος',\n  'γόος'],\n 'other': ['ἐξαμαρτάνω',\n  'πλησιάζω',\n  'σύνοιδα',\n  'ψαύω',\n  'βληχρός',\n  'ἤρ',\n  'κινδυνεύω',\n  'ἐμποδίζω',\n  'βίοτος',\n  'συζάω',\n  'παρουσία',\n  'σύμφυτος',\n  'ὁμιλία'],\n 'pain': ['λυπηρός',\n  'ἀλγέω',\n  'ὀδυνάω',\n  'ἀλγεινός',\n  'ἄλγημα',\n  'λυπέω',\n  'ἀλγηδών',\n  'ἄλγος',\n  'ὠδίς',\n  'πόνος',\n  'ἐπίπονος',\n  'λύπη',\n  'ἄχος',\n  'ὀδύνη',\n  'ὀδυνώδης'],\n 'bodily organs': ['νείαιρα',\n  'ἰξύα',\n  'ὑποχόνδριος',\n  'ἧπαρ',\n  'πλευρόν',\n  'κλείς',\n  'κενεών',\n  'βουβών',\n  'μετάφρενον',\n  'τράχηλος',\n  'ὀσφῦς',\n  'βλέφαρον',\n  'σῶμα',\n  'σωματικός',\n  'ῥάχις',\n  'κνήμη',\n  'στῆθος',\n  'σφυρόν',\n  'φλέβιον',\n  'χόνδρος'],\n 'pathology': ['βάρος',\n  'σπάω',\n  'πυρεταίνω',\n  'ἕλκος',\n  'ἑλκόω',\n  'φόνιος',\n  'θανάσιμος',\n  'βήξ',\n  'θέρμη',\n  'οἴδημα',\n  'στραγγουρία',\n  'διάρροια',\n  'ὕφαιμος',\n  'κατάψυξις',\n  'διαθερμαίνω',\n  'πυός',\n  'στάζω',\n  'φρικώδης',\n  'ἀσώδης'],\n 'moral': ['ἀκόλαστος',\n  'κακός',\n  'μισέω',\n  'φθονέω',\n  'ἀνάξιος',\n  'ἀνόητος',\n  'βλαβερός',\n  'θαρσαλέος',\n  'ἀκρασία',\n  'ἀκολασία',\n  'ἄνοια',\n  'κακία',\n  'αἰδώς',\n  'λήθη',\n  'θάρσος',\n  'κακοήθης'],\n 'dietetics': ['νῆστις',\n  'δίψα',\n  'κόπος',\n  'ἰσχναίνω',\n  'φυράω',\n  'ταλαιπωρέω',\n  'δαπανάω',\n  'γυμνάζω',\n  'καρτερέω',\n  'διαπονέω',\n  'ἀναλίσκω',\n  'μέτριος',\n  'ταλαιπωρία',\n  'ἀσθενέω',\n  'πονέω',\n  'φῦσα',\n  'γυμνάσιον',\n  'περίπατος',\n  'ἄσκησις',\n  'πενία',\n  'ἀκμή',\n  'μόχθος',\n  'ῥώμη',\n  'ἀλκή',\n  'ἐκπονέω',\n  'σιωπάω',\n  'τλάω'],\n 'suffering': ['διάκειμαι',\n  'λοιδορέω',\n  'ὀργίζω',\n  'βαρύνω',\n  'θυμόω',\n  'ἄτη',\n  'ἀηδής',\n  'τάλας',\n  'τλήμων'],\n 'opossite': ['χαίρω',\n  'ἥδομαι',\n  'ἀπολαύω',\n  'εὐφραίνω',\n  'πόθος',\n  'ῥᾳστώνη',\n  'εὐεξία',\n  'πλησμονή',\n  'ἡδύς',\n  'πεινάω',\n  'ἀγαπητός',\n  'ἡδονή',\n  'ἐπιθυμία',\n  'Ἀφροδίσιος',\n  'ἔρως',\n  'θυμός',\n  'δέρκομαι']}"
     },
     "execution_count": 51,
     "metadata": {},
     "output_type": "execute_result"
    }
   ],
   "source": [
    "cat_terms_dict"
   ],
   "metadata": {
    "collapsed": false
   }
  },
  {
   "cell_type": "code",
   "execution_count": null,
   "outputs": [],
   "source": [],
   "metadata": {
    "collapsed": false
   }
  }
 ],
 "metadata": {
  "kernelspec": {
   "display_name": "Python 3",
   "language": "python",
   "name": "python3"
  },
  "language_info": {
   "codemirror_mode": {
    "name": "ipython",
    "version": 2
   },
   "file_extension": ".py",
   "mimetype": "text/x-python",
   "name": "python",
   "nbconvert_exporter": "python",
   "pygments_lexer": "ipython2",
   "version": "2.7.6"
  }
 },
 "nbformat": 4,
 "nbformat_minor": 0
}
