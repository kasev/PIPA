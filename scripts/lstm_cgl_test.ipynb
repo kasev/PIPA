{
 "cells": [
  {
   "cell_type": "code",
   "execution_count": 18,
   "outputs": [
    {
     "data": {
      "text/plain": "'2.5.0'"
     },
     "execution_count": 18,
     "metadata": {},
     "output_type": "execute_result"
    }
   ],
   "source": [
    "import pandas as pd\n",
    "import numpy as np\n",
    "import tensorflow as tf\n",
    "from tensorflow import keras\n",
    "from keras import models\n",
    "from keras import layers\n",
    "keras.__version__"
   ],
   "metadata": {
    "collapsed": false,
    "pycharm": {
     "name": "#%%\n"
    }
   }
  },
  {
   "cell_type": "code",
   "execution_count": 19,
   "outputs": [],
   "source": [
    "tf.config.run_functions_eagerly(True)\n",
    "tf.data.experimental.enable_debug_mode()"
   ],
   "metadata": {
    "collapsed": false,
    "pycharm": {
     "name": "#%%\n"
    }
   }
  },
  {
   "cell_type": "code",
   "execution_count": 20,
   "outputs": [
    {
     "data": {
      "text/plain": "[PhysicalDevice(name='/physical_device:CPU:0', device_type='CPU'),\n PhysicalDevice(name='/physical_device:GPU:0', device_type='GPU')]"
     },
     "execution_count": 20,
     "metadata": {},
     "output_type": "execute_result"
    }
   ],
   "source": [
    "tf.config.get_visible_devices()"
   ],
   "metadata": {
    "collapsed": false,
    "pycharm": {
     "name": "#%%\n"
    }
   }
  },
  {
   "cell_type": "code",
   "execution_count": 3,
   "outputs": [],
   "source": [
    "cgl = pd.read_json(\"../data/large_data/cgl.json\")"
   ],
   "metadata": {
    "collapsed": false,
    "pycharm": {
     "name": "#%%\n"
    }
   }
  },
  {
   "cell_type": "code",
   "execution_count": 4,
   "outputs": [
    {
     "data": {
      "text/plain": "                          filename      author                  title  \\\n1  tlg0003.tlg001.perseus-grc2.xml  Thucydides  The Peloponnesian War   \n6  tlg0006.tlg001.perseus-grc2.xml   Euripides                Cyclops   \n7  tlg0006.tlg004.perseus-grc2.xml   Euripides             Ἡρακλεῖδαι   \n8  tlg0006.tlg005.perseus-grc2.xml   Euripides              Ἱππόλυτος   \n9  tlg0006.tlg006.perseus-grc2.xml   Euripides              Ἀνδρομάχη   \n\n   wordcount author_id          doc_id raw_date  date_avr   date_probs  \\\n1     150118   tlg0003  tlg0003.tlg001   5 B.C.      -4.5  {'-4.5': 1}   \n6       4141   tlg0006  tlg0006.tlg001   5 B.C.      -4.5  {'-4.5': 1}   \n7       6272   tlg0006  tlg0006.tlg004   5 B.C.      -4.5  {'-4.5': 1}   \n8       8257   tlg0006  tlg0006.tlg005   5 B.C.      -4.5  {'-4.5': 1}   \n9       7397   tlg0006  tlg0006.tlg006   5 B.C.      -4.5  {'-4.5': 1}   \n\n   date_manual  ...                                            lemmata  \\\n1         -4.5  ...  [θουκυδίδης, Ἀθηναῖος, συγγράφω, πόλεμος, Πελο...   \n6         -4.5  ...  [Βρόμιος, ἔχω, πόνος, χὥτʼ, ἥβη, ἐμός, εὐσθενέ...   \n7         -4.5  ...  [ποτός, εἰμί, οὗτος, δεδογμένον, δίκαιος, φύω,...   \n8         -4.5  ...  [πολύς, βροτός, ἀνώνυμος, θεά, καλέω, Κύπρις, ...   \n9         -4.5  ...  [Ἀσιανός, γῆ, σχῆμα, θηβαία, πόλις, ἑδνόω, πολ...   \n\n  lemmata_wordcount subcorpus  \\\n1             71863      None   \n6              2535      None   \n7              3545      None   \n8              4898      None   \n9              4420      None   \n\n                                        lemmata_repl  \\\n1  [θουκυδίδης, Ἀθηναῖος, συγγράφω, πόλεμος, Πελο...   \n6  [Βρόμιος, ἔχω, πόνο*, χὥτʼ, ἥβη, ἐμός, εὐσθενέ...   \n7  [ποτός, εἰμί, οὗτος, δεδογμένον, δίκαιος, φύω,...   \n8  [πολύς, βροτός, ἀνώνυμος, θεά, καλέω, Κύπρις, ...   \n9  [Ἀσιανός, γῆ, σχῆμα, θηβαία, πόλις, ἑδνόω, πολ...   \n\n                           lemmatized_sentences_repl count_πόνο*  count_ὀδύν*  \\\n1  [[θουκυδίδης, Ἀθηναῖος, συγγράφω, πόλεμος, Πελ...          31            0   \n6  [[Βρόμιος, ἔχω, πόνο*, χὥτʼ, ἥβη, ἐμός, εὐσθεν...           7            0   \n7  [[ποτός, εἰμί, οὗτος, δεδογμένον], [δίκαιος, φ...          11            0   \n8  [[πολύς, βροτός, ἀνώνυμος, θεά, καλέω, Κύπρις,...           8            3   \n9  [[Ἀσιανός, γῆ, σχῆμα, θηβαία, πόλις, ἑδνόω, πο...           5            0   \n\n  count_ἄλγ* count_λύπ*                                          conc_lype  \n1          6         25  [[μέγας, κινδυνεύοντας, δέχομαι, ἀείμνηστος, μ...  \n6          0          1  [[βοτόν, οὔτις, θύω, θεός, μέγας, γαστήρ, δαίμ...  \n7          1          2  [[εἰμί, πολύς, χαίρω, δυσφημέω, ἅζομαι, θέα, σ...  \n8          8          8  [[κοιτάζω, λέχος, σός, ναυβάτης, τὶς, πλέω, κρ...  \n9          7          4  [[Τροία, πράσσω, μηδείς, ὅδε, αὐχέω, πράσσω, δ...  \n\n[5 rows x 25 columns]",
      "text/html": "<div>\n<style scoped>\n    .dataframe tbody tr th:only-of-type {\n        vertical-align: middle;\n    }\n\n    .dataframe tbody tr th {\n        vertical-align: top;\n    }\n\n    .dataframe thead th {\n        text-align: right;\n    }\n</style>\n<table border=\"1\" class=\"dataframe\">\n  <thead>\n    <tr style=\"text-align: right;\">\n      <th></th>\n      <th>filename</th>\n      <th>author</th>\n      <th>title</th>\n      <th>wordcount</th>\n      <th>author_id</th>\n      <th>doc_id</th>\n      <th>raw_date</th>\n      <th>date_avr</th>\n      <th>date_probs</th>\n      <th>date_manual</th>\n      <th>...</th>\n      <th>lemmata</th>\n      <th>lemmata_wordcount</th>\n      <th>subcorpus</th>\n      <th>lemmata_repl</th>\n      <th>lemmatized_sentences_repl</th>\n      <th>count_πόνο*</th>\n      <th>count_ὀδύν*</th>\n      <th>count_ἄλγ*</th>\n      <th>count_λύπ*</th>\n      <th>conc_lype</th>\n    </tr>\n  </thead>\n  <tbody>\n    <tr>\n      <th>1</th>\n      <td>tlg0003.tlg001.perseus-grc2.xml</td>\n      <td>Thucydides</td>\n      <td>The Peloponnesian War</td>\n      <td>150118</td>\n      <td>tlg0003</td>\n      <td>tlg0003.tlg001</td>\n      <td>5 B.C.</td>\n      <td>-4.5</td>\n      <td>{'-4.5': 1}</td>\n      <td>-4.5</td>\n      <td>...</td>\n      <td>[θουκυδίδης, Ἀθηναῖος, συγγράφω, πόλεμος, Πελο...</td>\n      <td>71863</td>\n      <td>None</td>\n      <td>[θουκυδίδης, Ἀθηναῖος, συγγράφω, πόλεμος, Πελο...</td>\n      <td>[[θουκυδίδης, Ἀθηναῖος, συγγράφω, πόλεμος, Πελ...</td>\n      <td>31</td>\n      <td>0</td>\n      <td>6</td>\n      <td>25</td>\n      <td>[[μέγας, κινδυνεύοντας, δέχομαι, ἀείμνηστος, μ...</td>\n    </tr>\n    <tr>\n      <th>6</th>\n      <td>tlg0006.tlg001.perseus-grc2.xml</td>\n      <td>Euripides</td>\n      <td>Cyclops</td>\n      <td>4141</td>\n      <td>tlg0006</td>\n      <td>tlg0006.tlg001</td>\n      <td>5 B.C.</td>\n      <td>-4.5</td>\n      <td>{'-4.5': 1}</td>\n      <td>-4.5</td>\n      <td>...</td>\n      <td>[Βρόμιος, ἔχω, πόνος, χὥτʼ, ἥβη, ἐμός, εὐσθενέ...</td>\n      <td>2535</td>\n      <td>None</td>\n      <td>[Βρόμιος, ἔχω, πόνο*, χὥτʼ, ἥβη, ἐμός, εὐσθενέ...</td>\n      <td>[[Βρόμιος, ἔχω, πόνο*, χὥτʼ, ἥβη, ἐμός, εὐσθεν...</td>\n      <td>7</td>\n      <td>0</td>\n      <td>0</td>\n      <td>1</td>\n      <td>[[βοτόν, οὔτις, θύω, θεός, μέγας, γαστήρ, δαίμ...</td>\n    </tr>\n    <tr>\n      <th>7</th>\n      <td>tlg0006.tlg004.perseus-grc2.xml</td>\n      <td>Euripides</td>\n      <td>Ἡρακλεῖδαι</td>\n      <td>6272</td>\n      <td>tlg0006</td>\n      <td>tlg0006.tlg004</td>\n      <td>5 B.C.</td>\n      <td>-4.5</td>\n      <td>{'-4.5': 1}</td>\n      <td>-4.5</td>\n      <td>...</td>\n      <td>[ποτός, εἰμί, οὗτος, δεδογμένον, δίκαιος, φύω,...</td>\n      <td>3545</td>\n      <td>None</td>\n      <td>[ποτός, εἰμί, οὗτος, δεδογμένον, δίκαιος, φύω,...</td>\n      <td>[[ποτός, εἰμί, οὗτος, δεδογμένον], [δίκαιος, φ...</td>\n      <td>11</td>\n      <td>0</td>\n      <td>1</td>\n      <td>2</td>\n      <td>[[εἰμί, πολύς, χαίρω, δυσφημέω, ἅζομαι, θέα, σ...</td>\n    </tr>\n    <tr>\n      <th>8</th>\n      <td>tlg0006.tlg005.perseus-grc2.xml</td>\n      <td>Euripides</td>\n      <td>Ἱππόλυτος</td>\n      <td>8257</td>\n      <td>tlg0006</td>\n      <td>tlg0006.tlg005</td>\n      <td>5 B.C.</td>\n      <td>-4.5</td>\n      <td>{'-4.5': 1}</td>\n      <td>-4.5</td>\n      <td>...</td>\n      <td>[πολύς, βροτός, ἀνώνυμος, θεά, καλέω, Κύπρις, ...</td>\n      <td>4898</td>\n      <td>None</td>\n      <td>[πολύς, βροτός, ἀνώνυμος, θεά, καλέω, Κύπρις, ...</td>\n      <td>[[πολύς, βροτός, ἀνώνυμος, θεά, καλέω, Κύπρις,...</td>\n      <td>8</td>\n      <td>3</td>\n      <td>8</td>\n      <td>8</td>\n      <td>[[κοιτάζω, λέχος, σός, ναυβάτης, τὶς, πλέω, κρ...</td>\n    </tr>\n    <tr>\n      <th>9</th>\n      <td>tlg0006.tlg006.perseus-grc2.xml</td>\n      <td>Euripides</td>\n      <td>Ἀνδρομάχη</td>\n      <td>7397</td>\n      <td>tlg0006</td>\n      <td>tlg0006.tlg006</td>\n      <td>5 B.C.</td>\n      <td>-4.5</td>\n      <td>{'-4.5': 1}</td>\n      <td>-4.5</td>\n      <td>...</td>\n      <td>[Ἀσιανός, γῆ, σχῆμα, θηβαία, πόλις, ἑδνόω, πολ...</td>\n      <td>4420</td>\n      <td>None</td>\n      <td>[Ἀσιανός, γῆ, σχῆμα, θηβαία, πόλις, ἑδνόω, πολ...</td>\n      <td>[[Ἀσιανός, γῆ, σχῆμα, θηβαία, πόλις, ἑδνόω, πο...</td>\n      <td>5</td>\n      <td>0</td>\n      <td>7</td>\n      <td>4</td>\n      <td>[[Τροία, πράσσω, μηδείς, ὅδε, αὐχέω, πράσσω, δ...</td>\n    </tr>\n  </tbody>\n</table>\n<p>5 rows × 25 columns</p>\n</div>"
     },
     "execution_count": 4,
     "metadata": {},
     "output_type": "execute_result"
    }
   ],
   "source": [
    "cgl.head(5)"
   ],
   "metadata": {
    "collapsed": false,
    "pycharm": {
     "name": "#%%\n"
    }
   }
  },
  {
   "cell_type": "code",
   "execution_count": 5,
   "outputs": [
    {
     "data": {
      "text/plain": "                            filename       author  \\\n685    tlg0086.tlg001.1st1K-grc2.xml    Aristotle   \n686    tlg0086.tlg002.1st1K-grc2.xml    Aristotle   \n687  tlg0086.tlg003.perseus-grc1.xml    Aristotle   \n688    tlg0086.tlg005.1st1K-grc1.xml    Aristotle   \n689    tlg0086.tlg006.1st1K-grc1.xml    Aristotle   \n690    tlg0086.tlg008.1st1K-grc1.xml    Aristotle   \n691  tlg0086.tlg009.perseus-grc1.xml    Aristotle   \n692  tlg0086.tlg010.perseus-grc1.xml    Aristotle   \n693    tlg0086.tlg013.1st1K-grc2.xml    Aristotle   \n694    tlg0086.tlg014.1st1K-grc1.xml    Aristotle   \n695    tlg0086.tlg015.1st1K-grc1.xml  Aristoteles   \n696    tlg0086.tlg016.1st1K-grc1.xml    Aristotle   \n697    tlg0086.tlg017.1st1K-grc1.xml    Aristotle   \n698    tlg0086.tlg018.1st1K-grc1.xml    Aristotle   \n699    tlg0086.tlg020.1st1K-grc1.xml    Aristotle   \n700    tlg0086.tlg021.1st1K-grc1.xml  Aristoteles   \n701    tlg0086.tlg022.1st1K-grc1.xml    Aristotle   \n702    tlg0086.tlg024.1st1K-grc1.xml    Aristotle   \n703  tlg0086.tlg025.perseus-grc1.xml    Aristotle   \n704    tlg0086.tlg026.1st1K-grc2.xml    Aristotle   \n705  tlg0086.tlg029.perseus-grc1.xml    Aristotle   \n706    tlg0086.tlg030.1st1K-grc1.xml    Aristotle   \n707    tlg0086.tlg031.1st1K-grc1.xml    Aristotle   \n708    tlg0086.tlg034.1st1K-grc1.xml    Aristotle   \n709  tlg0086.tlg035.perseus-grc1.xml    Aristotle   \n710    tlg0086.tlg037.1st1K-grc1.xml    Aristotle   \n711  tlg0086.tlg038.perseus-grc1.xml    Aristotle   \n712    tlg0086.tlg040.1st1K-grc1.xml    Aristotle   \n713    tlg0086.tlg041.1st1K-grc1.xml    Aristotle   \n714    tlg0086.tlg042.1st1K-grc1.xml    Aristotle   \n715    tlg0086.tlg043.1st1K-grc1.xml    Aristotle   \n716    tlg0086.tlg044.1st1K-grc1.xml    Aristotle   \n717  tlg0086.tlg045.perseus-grc2.xml    Aristotle   \n718    tlg0086.tlg052.1st1K-grc1.xml    Aristotle   \n719    tlg0086.tlg054.1st1K-grc1.xml    Aristotle   \n\n                                                 title  wordcount author_id  \\\n685         Aristotelis Analytica Priora et Posteriora      59614   tlg0086   \n686                                           De anima      20912   tlg0086   \n687                              Athenian Constitution      16459   tlg0086   \n688                                           De caelo      30794   tlg0086   \n689                                         Categoriae      10316   tlg0086   \n690                          De divinatione per somnum       1194   tlg0086   \n691     Eudemian Ethics (Greek). Machine readable text      26345   tlg0086   \n692                                 Nicomachean Ethics      56620   tlg0086   \n693                      De generatione et corruptione      16914   tlg0086   \n694                                 Historia animalium      93923   tlg0086   \n695                               De animalium motione       4851   tlg0086   \n696                                       De insomniis       2436   tlg0086   \n697                                 De interpretatione       6271   tlg0086   \n698        De iuventute et senectute, De vita et morte       1845   tlg0086   \n699                  De longitudine et brevitate vitae       1789   tlg0086   \n700                               De animalium incessu       7720   tlg0086   \n701                                      Magna Moralia      32317   tlg0086   \n702                        De memoria et reminiscentia       2515   tlg0086   \n703         Metaphysics (Greek). Machine readable text      78887   tlg0086   \n704                                      Meteorologica      61933   tlg0086   \n705           Economics (Greek). Machine readable text       6226   tlg0086   \n706                              De partibus animalium      40622   tlg0086   \n707                                            Physica      55411   tlg0086   \n708                                        Ars Poetica      10065   tlg0086   \n709            Politics (Greek). Machine readable text      65546   tlg0086   \n710                                    De respiratione       5938   tlg0086   \n711                                           Rhetoric      43385   tlg0086   \n712                            De sophisticis elenchis      14114   tlg0086   \n713                           De sensu et sensibilibus       7798   tlg0086   \n714                                De somno et vigilia       2989   tlg0086   \n715                                         De spiritu       4070   tlg0086   \n716                                             Topica      44116   tlg0086   \n717                                  Virtues and Vices       1497   tlg0086   \n718  De anima (codicis E fragmenta recensionis a vu...       2458   tlg0086   \n719                             Physica (textus alter)       2381   tlg0086   \n\n             doc_id raw_date  date_avr   date_probs  date_manual  ...  \\\n685  tlg0086.tlg001   4 B.C.      -3.5  {'-3.5': 1}         -3.5  ...   \n686  tlg0086.tlg002   4 B.C.      -3.5  {'-3.5': 1}         -3.5  ...   \n687  tlg0086.tlg003   4 B.C.      -3.5  {'-3.5': 1}         -3.5  ...   \n688  tlg0086.tlg005   4 B.C.      -3.5  {'-3.5': 1}         -3.5  ...   \n689  tlg0086.tlg006   4 B.C.      -3.5  {'-3.5': 1}         -3.5  ...   \n690  tlg0086.tlg008   4 B.C.      -3.5  {'-3.5': 1}         -3.5  ...   \n691  tlg0086.tlg009   4 B.C.      -3.5  {'-3.5': 1}         -3.5  ...   \n692  tlg0086.tlg010   4 B.C.      -3.5  {'-3.5': 1}         -3.5  ...   \n693  tlg0086.tlg013   4 B.C.      -3.5  {'-3.5': 1}         -3.5  ...   \n694  tlg0086.tlg014   4 B.C.      -3.5  {'-3.5': 1}         -3.5  ...   \n695  tlg0086.tlg015   4 B.C.      -3.5  {'-3.5': 1}         -3.5  ...   \n696  tlg0086.tlg016   4 B.C.      -3.5  {'-3.5': 1}         -3.5  ...   \n697  tlg0086.tlg017   4 B.C.      -3.5  {'-3.5': 1}         -3.5  ...   \n698  tlg0086.tlg018   4 B.C.      -3.5  {'-3.5': 1}         -3.5  ...   \n699  tlg0086.tlg020   4 B.C.      -3.5  {'-3.5': 1}         -3.5  ...   \n700  tlg0086.tlg021   4 B.C.      -3.5  {'-3.5': 1}         -3.5  ...   \n701  tlg0086.tlg022   4 B.C.      -3.5  {'-3.5': 1}         -3.5  ...   \n702  tlg0086.tlg024   4 B.C.      -3.5  {'-3.5': 1}         -3.5  ...   \n703  tlg0086.tlg025   4 B.C.      -3.5  {'-3.5': 1}         -3.5  ...   \n704  tlg0086.tlg026   4 B.C.      -3.5  {'-3.5': 1}         -3.5  ...   \n705  tlg0086.tlg029   4 B.C.      -3.5  {'-3.5': 1}         -3.5  ...   \n706  tlg0086.tlg030   4 B.C.      -3.5  {'-3.5': 1}         -3.5  ...   \n707  tlg0086.tlg031   4 B.C.      -3.5  {'-3.5': 1}         -3.5  ...   \n708  tlg0086.tlg034   4 B.C.      -3.5  {'-3.5': 1}         -3.5  ...   \n709  tlg0086.tlg035   4 B.C.      -3.5  {'-3.5': 1}         -3.5  ...   \n710  tlg0086.tlg037   4 B.C.      -3.5  {'-3.5': 1}         -3.5  ...   \n711  tlg0086.tlg038   4 B.C.      -3.5  {'-3.5': 1}         -3.5  ...   \n712  tlg0086.tlg040   4 B.C.      -3.5  {'-3.5': 1}         -3.5  ...   \n713  tlg0086.tlg041   4 B.C.      -3.5  {'-3.5': 1}         -3.5  ...   \n714  tlg0086.tlg042   4 B.C.      -3.5  {'-3.5': 1}         -3.5  ...   \n715  tlg0086.tlg043   4 B.C.      -3.5  {'-3.5': 1}         -3.5  ...   \n716  tlg0086.tlg044   4 B.C.      -3.5  {'-3.5': 1}         -3.5  ...   \n717  tlg0086.tlg045   4 B.C.      -3.5  {'-3.5': 1}         -3.5  ...   \n718  tlg0086.tlg052   4 B.C.      -3.5  {'-3.5': 1}         -3.5  ...   \n719  tlg0086.tlg054   4 B.C.      -3.5  {'-3.5': 1}         -3.5  ...   \n\n                                               lemmata lemmata_wordcount  \\\n685  [πρῶτος, λέγω, εἰμί, σκέψις, ἀπόδειξις, ἐπιστή...             24680   \n686  [καλός, τίμιος, εἶδος, ὑπολαμβάνω, ἕτερος, ἕτε...              9395   \n687  [Ἀθηναῖος, ἀρχή, χράω, βασίλειος, συνοικησάντο...              8088   \n688  [φύσις, ἐπιστήμη, πλεῖστος, φαίνω, σῶμα, μέγεθ...             13437   \n689  [ὁμώνυμος, λέγω, ὄνομα, μόνος, κοινός, ὄνομα, ...              4678   \n690  [μαντικός, ὕπνος, γίγνομαι, λέγω, συμβαίνω, ἐν...               549   \n691  [δῆλος, θεός, ἑαυτοῦ, γνώμη, ἀποφηνάμενος, συγ...             11564   \n692  [τέχνη, πᾶς, μέθοδος, πρᾶξις, προαίρεσις, ἀγαθ...             25082   \n693  [γένεσις, φθορά, φύσις, γίγνομαι, φθειρομένων,...              7430   \n694  [ζῷον, μόριον, εἰμί, ἀσύνθετος, ὅσος, διαιρέω,...             43967   \n695  [κίνησις, ζῷον, ὅσος, ἕκαστος, ὑπάρχω, γένος, ...              2059   \n696  [ἐνύπνιον, ζητητέος, πρῶτος, ψυχή, φαίνω, νοητ...              1095   \n697  [πρῶτος, δεῖ, τίθημι, ὄνομα, ῥῆμα, ἀπόφασις, κ...              2632   \n698  [νεότης, γῆρας, ζωή, θάνατος, λεκτέος, ἀναπνοή...               831   \n699  [μακρόβια, ζῷον, βραχύβια, ζωή, μῆκος, βραχύτη...               789   \n700  [χρήσιμος, μόριον, ζῷον, κίνησις, τόπος, ἐπισκ...              3137   \n701  [προαιρέω, λέγω, ἠθικός, πρῶτος, εἰμί, σκεπτέο...             12354   \n702  [αἰσθητήριον, αἰσθητός, τρόπος, ἔχω, ἕκαστος, ...              1060   \n703  [ἄνθρωπος, οἶδα, ὀρέγω, φύσις, σημεῖον, αἴσθησ...             33556   \n704  [πρῶτος, αἴτιος, φύσις, κίνησις, φυσικός, φορά...             23448   \n705  [οἰκονομικός, πολιτικός, διαφέρω, μόνος, τοσοῦ...              3215   \n706  [θεωρία, μέθοδος, ταπεινοτέραν, τίμιος, φαίνω,...             18651   \n707  [ἐπειθὴ, οἶδα, ἐπίσταμαι, συμβαίνω, πᾶς, μεθόδ...             23182   \n708  [ποιητικός, εἰδοί, δύναμις, ἕκαστος, ἔχω, δεῖ,...              4758   \n709  [πόλις, ὁράω, κοινωνία, κοινωνία, ἀγαθός, τὶς,...             30643   \n710  [ἀναπνοή, ὀλίγος, τὶς, πρότερος, φυσικός, λέγω...              2753   \n711  [ῥητορικός, εἰμί, ἀντίστροφος, διαλεκτικός, ἀμ...             19687   \n712  [σοφιστικός, ἔλεγχος, σοφιστικός, ἐλεγχής, φαί...              6142   \n713  [ἔπειμι, ψυχή, ἑαυτοῦ, ὁρίζω, δύναμις, ἕκαστος...              3473   \n714  [ὕπνος, ἐγρηγόρσεως, σκεπτέος, τυγχάνω, εἰμί, ...              1363   \n715  [ἔμφυτος, πνεῦμα, διαμονή, αὔξησις, ὁράω, πολύ...              1638   \n716  [πρόθεσις, πραγματεία, μέθοδος, εὑρίσκω, δύναμ...             19797   \n717  [ἐπαινετός, εἰμί, καλός, ψεκτός, αἰσχρός, καλό...               721   \n718  [ἐοεὶ, παραδεδομένα, ψυχή, ἄλλος, ἕκαστος, ἀπο...              1044   \n719  [κινούμενον, ἀνάγκη, κινέω, ἔχω, ἀρχή, κίνησις...               950   \n\n           subcorpus                                       lemmata_repl  \\\n685  c_aristotelicum  [πρῶτος, λέγω, εἰμί, σκέψις, ἀπόδειξις, ἐπιστή...   \n686  c_aristotelicum  [καλός, τίμιος, εἶδος, ὑπολαμβάνω, ἕτερος, ἕτε...   \n687             None  [Ἀθηναῖος, ἀρχή, χράω, βασίλειος, συνοικησάντο...   \n688  c_aristotelicum  [φύσις, ἐπιστήμη, πλεῖστος, φαίνω, σῶμα, μέγεθ...   \n689  c_aristotelicum  [ὁμώνυμος, λέγω, ὄνομα, μόνος, κοινός, ὄνομα, ...   \n690  c_aristotelicum  [μαντικός, ὕπνος, γίγνομαι, λέγω, συμβαίνω, ἐν...   \n691  c_aristotelicum  [δῆλος, θεός, ἑαυτοῦ, γνώμη, ἀποφηνάμενος, συγ...   \n692  c_aristotelicum  [τέχνη, πᾶς, μέθοδος, πρᾶξις, προαίρεσις, ἀγαθ...   \n693             None  [γένεσις, φθορά, φύσις, γίγνομαι, φθειρομένων,...   \n694  c_aristotelicum  [ζῷον, μόριον, εἰμί, ἀσύνθετος, ὅσος, διαιρέω,...   \n695             None  [κίνησις, ζῷον, ὅσος, ἕκαστος, ὑπάρχω, γένος, ...   \n696  c_aristotelicum  [ἐνύπνιον, ζητητέος, πρῶτος, ψυχή, φαίνω, νοητ...   \n697  c_aristotelicum  [πρῶτος, δεῖ, τίθημι, ὄνομα, ῥῆμα, ἀπόφασις, κ...   \n698  c_aristotelicum  [νεότης, γῆρας, ζωή, θάνατος, λεκτέος, ἀναπνοή...   \n699  c_aristotelicum  [μακρόβια, ζῷον, βραχύβια, ζωή, μῆκος, βραχύτη...   \n700  c_aristotelicum  [χρήσιμος, μόριον, ζῷον, κίνησις, τόπος, ἐπισκ...   \n701  c_aristotelicum  [προαιρέω, λέγω, ἠθικός, πρῶτος, εἰμί, σκεπτέο...   \n702  c_aristotelicum  [αἰσθητήριον, αἰσθητός, τρόπος, ἔχω, ἕκαστος, ...   \n703  c_aristotelicum  [ἄνθρωπος, οἶδα, ὀρέγω, φύσις, σημεῖον, αἴσθησ...   \n704  c_aristotelicum  [πρῶτος, αἴτιος, φύσις, κίνησις, φυσικός, φορά...   \n705  c_aristotelicum  [οἰκονομικός, πολιτικός, διαφέρω, μόνος, τοσοῦ...   \n706  c_aristotelicum  [θεωρία, μέθοδος, ταπεινοτέραν, τίμιος, φαίνω,...   \n707  c_aristotelicum  [ἐπειθὴ, οἶδα, ἐπίσταμαι, συμβαίνω, πᾶς, μεθόδ...   \n708  c_aristotelicum  [ποιητικός, εἰδοί, δύναμις, ἕκαστος, ἔχω, δεῖ,...   \n709  c_aristotelicum  [πόλις, ὁράω, κοινωνία, κοινωνία, ἀγαθός, τὶς,...   \n710             None  [ἀναπνοή, ὀλίγος, τὶς, πρότερος, φυσικός, λέγω...   \n711  c_aristotelicum  [ῥητορικός, εἰμί, ἀντίστροφος, διαλεκτικός, ἀμ...   \n712  c_aristotelicum  [σοφιστικός, ἔλεγχος, σοφιστικός, ἐλεγχής, φαί...   \n713  c_aristotelicum  [ἔπειμι, ψυχή, ἑαυτοῦ, ὁρίζω, δύναμις, ἕκαστος...   \n714  c_aristotelicum  [ὕπνος, ἐγρηγόρσεως, σκεπτέος, τυγχάνω, εἰμί, ...   \n715             None  [ἔμφυτος, πνεῦμα, διαμονή, αὔξησις, ὁράω, πολύ...   \n716  c_aristotelicum  [πρόθεσις, πραγματεία, μέθοδος, εὑρίσκω, δύναμ...   \n717             None  [ἐπαινετός, εἰμί, καλός, ψεκτός, αἰσχρός, καλό...   \n718             None  [ἐοεὶ, παραδεδομένα, ψυχή, ἄλλος, ἕκαστος, ἀπο...   \n719             None  [κινούμενον, ἀνάγκη, κινέω, ἔχω, ἀρχή, κίνησις...   \n\n                             lemmatized_sentences_repl count_πόνο*  \\\n685  [[πρῶτος, λέγω, εἰμί, σκέψις, ἀπόδειξις, ἐπιστ...           0   \n686  [[καλός, τίμιος, εἶδος, ὑπολαμβάνω, ἕτερος, ἕτ...           0   \n687  [[Ἀθηναῖος, ἀρχή, χράω, βασίλειος], [συνοικησά...           0   \n688  [[φύσις, ἐπιστήμη, πλεῖστος, φαίνω, σῶμα, μέγε...           1   \n689  [[ὁμώνυμος, λέγω, ὄνομα, μόνος, κοινός, ὄνομα,...           0   \n690  [[μαντικός, ὕπνος, γίγνομαι, λέγω, συμβαίνω, ἐ...           0   \n691  [[δῆλος, θεός, ἑαυτοῦ, γνώμη, ἀποφηνάμενος, συ...           7   \n692  [[τέχνη, πᾶς, μέθοδος, πρᾶξις, προαίρεσις, ἀγα...          11   \n693  [[γένεσις, φθορά, φύσις, γίγνομαι, φθειρομένων...           0   \n694  [[ζῷον, μόριον, εἰμί, ἀσύνθετος, ὅσος, διαιρέω...          40   \n695  [[κίνησις, ζῷον, ὅσος, ἕκαστος, ὑπάρχω, γένος,...           0   \n696  [[ἐνύπνιον, ζητητέος, πρῶτος, ψυχή, φαίνω, νοη...           0   \n697  [[πρῶτος, δεῖ, τίθημι, ὄνομα, ῥῆμα, ἀπόφασις, ...           0   \n698  [[νεότης, γῆρας, ζωή, θάνατος, λεκτέος], [ἀναπ...           0   \n699  [[μακρόβια, ζῷον, βραχύβια, ζωή, μῆκος, βραχύτ...           3   \n700  [[χρήσιμος, μόριον, ζῷον, κίνησις, τόπος, ἐπισ...           2   \n701  [[προαιρέω, λέγω, ἠθικός, πρῶτος, εἰμί, σκεπτέ...           1   \n702  [[αἰσθητήριον, αἰσθητός, τρόπος, ἔχω, ἕκαστος,...           0   \n703  [[ἄνθρωπος, οἶδα, ὀρέγω, φύσις], [σημεῖον, αἴσ...           2   \n704  [[πρῶτος, αἴτιος, φύσις, κίνησις, φυσικός, φορ...           0   \n705  [[οἰκονομικός, πολιτικός, διαφέρω, μόνος, τοσο...           3   \n706  [[θεωρία, μέθοδος, ταπεινοτέραν, τίμιος, φαίνω...           6   \n707  [[ἐπειθὴ, οἶδα, ἐπίσταμαι, συμβαίνω, πᾶς, μεθό...           2   \n708  [[ποιητικός, εἰδοί, δύναμις, ἕκαστος, ἔχω, δεῖ...           0   \n709  [[πόλις, ὁράω, κοινωνία, κοινωνία, ἀγαθός, τὶς...          18   \n710  [[ἀναπνοή, ὀλίγος, τὶς, πρότερος, φυσικός, λέγ...           0   \n711  [[ῥητορικός, εἰμί, ἀντίστροφος, διαλεκτικός], ...           6   \n712  [[σοφιστικός, ἔλεγχος], [σοφιστικός, ἐλεγχής, ...           1   \n713  [[ἔπειμι, ψυχή, ἑαυτοῦ, ὁρίζω, δύναμις, ἕκαστο...           0   \n714  [[ὕπνος, ἐγρηγόρσεως, σκεπτέος, τυγχάνω, εἰμί,...           0   \n715  [[ἔμφυτος, πνεῦμα, διαμονή, αὔξησις], [ὁράω, π...           0   \n716  [[πρόθεσις, πραγματεία, μέθοδος, εὑρίσκω, δύνα...           0   \n717  [[ἐπαινετός, εἰμί, καλός, ψεκτός, αἰσχρός], [κ...           1   \n718  [[], [ἐοεὶ, παραδεδομένα, ψυχή, ἄλλος, ἕκαστος...           0   \n719  [[κινούμενον, ἀνάγκη, κινέω], [ἔχω, ἀρχή, κίνη...           0   \n\n     count_ὀδύν* count_ἄλγ* count_λύπ*  \\\n685            0          1          0   \n686            0          0         12   \n687            2          1          0   \n688            0          0          0   \n689            0          0          2   \n690            0          0          0   \n691            1          4         76   \n692            0          6        153   \n693            0          0          1   \n694            0         12          5   \n695            0          0          3   \n696            0          0          1   \n697            0          0          0   \n698            0          0          0   \n699            0          0          0   \n700            0          0          0   \n701            0          0         43   \n702            0          0          0   \n703            0          0          4   \n704            0          0          0   \n705            0          0          0   \n706            1          1          4   \n707            0          0          4   \n708            1          0          0   \n709            0          0         11   \n710            0          1          0   \n711            0          4         64   \n712            0          0          0   \n713            0          0          5   \n714            0          0          1   \n715            0          0          0   \n716            0          6         21   \n717            0          0          2   \n718            0          0          1   \n719            0          0          1   \n\n                                             conc_lype  \n685                                                 []  \n686  [[εἰμί, κινέω, ψυχή, οἷος, κινέω, τόπος, αὐτός...  \n687                                                 []  \n688                                                 []  \n689  [[σύμπτωμα, γίγνομαι, δυσαπάλλακτος, ἀκίνητος,...  \n690                                                 []  \n691  [[αἵρεσις, δίδωμι, γίγνομαι, βίος, ζῶ, παῖς, ε...  \n692  [[πολύς, γίγνομαι, μακάριος, βίος, ποιέω, συνε...  \n693  [[κινούμενα, ὁμογενής, ἀνάγκη, δοκέω, εἰμί, ἁπ...  \n694  [[οὗτος, τείνω, σφαγή, ἑκάτερος, ὠμοπλάτη, τεί...  \n695  [[τρόμοις, οὗτος, ἐναντίος, ἀρχή, λέγω, κίνησι...  \n696  [[πάθος, οὗτος, καλέω, ὕπνος, φαίνω, μέθη, ἡμέ...  \n697                                                 []  \n698                                                 []  \n699                                                 []  \n700                                                 []  \n701  [[δρείαν, ὤρα, αὐξάνω, φθείρω, ἀνδρεία, φέβων,...  \n702                                                 []  \n703  [[μυθώδης, παιδαριώδης, μέγας, ἰσχύω, γιγνώσκω...  \n704                                                 []  \n705                                                 []  \n706  [[δεῖ, λαμβάνω, ἔργον, θερμός, πόσος, πολύς, τ...  \n707  [[οἷος, ἀφιέμενοι, κρίσιμος, ἡμέρα, κρίσιμος, ...  \n708                                                 []  \n709  [[ζώιον, μέλιττα, ἀγελαῖος, ζῷον, δῆλος, οὐδεί...  \n710                                                 []  \n711  [[πάρειμι, ἀφωρισμένων, κρίνω, φιλέω, μισέω, ἴ...  \n712                                                 []  \n713  [[μέγας, κοινός, ἴδιος, ζῷον, κοινός, ψυχή, εἰ...  \n714  [[ἄνεσις, ἐγρήγορσιν, φυτόν, οἷος, κοινωνέω, ο...  \n715                                                 []  \n716  [[ὄγκος, ἁφή, γεύω, διαφωνέω, ὄνομα, οὔτ, ἐναν...  \n717  [[αἰδώς, εὐλάβεια, ἐγκράτεια, δύναμαι, κατασχά...  \n718  [[αἰσθητός, εἰμί, ὀσμή, ψόφος, φῶς, αἴτιος, ἔχ...  \n719  [[οὐδέτερος, ἀλλοιόω, δῆλος, ἀρετή, ἀπάθεια, π...  \n\n[35 rows x 25 columns]",
      "text/html": "<div>\n<style scoped>\n    .dataframe tbody tr th:only-of-type {\n        vertical-align: middle;\n    }\n\n    .dataframe tbody tr th {\n        vertical-align: top;\n    }\n\n    .dataframe thead th {\n        text-align: right;\n    }\n</style>\n<table border=\"1\" class=\"dataframe\">\n  <thead>\n    <tr style=\"text-align: right;\">\n      <th></th>\n      <th>filename</th>\n      <th>author</th>\n      <th>title</th>\n      <th>wordcount</th>\n      <th>author_id</th>\n      <th>doc_id</th>\n      <th>raw_date</th>\n      <th>date_avr</th>\n      <th>date_probs</th>\n      <th>date_manual</th>\n      <th>...</th>\n      <th>lemmata</th>\n      <th>lemmata_wordcount</th>\n      <th>subcorpus</th>\n      <th>lemmata_repl</th>\n      <th>lemmatized_sentences_repl</th>\n      <th>count_πόνο*</th>\n      <th>count_ὀδύν*</th>\n      <th>count_ἄλγ*</th>\n      <th>count_λύπ*</th>\n      <th>conc_lype</th>\n    </tr>\n  </thead>\n  <tbody>\n    <tr>\n      <th>685</th>\n      <td>tlg0086.tlg001.1st1K-grc2.xml</td>\n      <td>Aristotle</td>\n      <td>Aristotelis Analytica Priora et Posteriora</td>\n      <td>59614</td>\n      <td>tlg0086</td>\n      <td>tlg0086.tlg001</td>\n      <td>4 B.C.</td>\n      <td>-3.5</td>\n      <td>{'-3.5': 1}</td>\n      <td>-3.5</td>\n      <td>...</td>\n      <td>[πρῶτος, λέγω, εἰμί, σκέψις, ἀπόδειξις, ἐπιστή...</td>\n      <td>24680</td>\n      <td>c_aristotelicum</td>\n      <td>[πρῶτος, λέγω, εἰμί, σκέψις, ἀπόδειξις, ἐπιστή...</td>\n      <td>[[πρῶτος, λέγω, εἰμί, σκέψις, ἀπόδειξις, ἐπιστ...</td>\n      <td>0</td>\n      <td>0</td>\n      <td>1</td>\n      <td>0</td>\n      <td>[]</td>\n    </tr>\n    <tr>\n      <th>686</th>\n      <td>tlg0086.tlg002.1st1K-grc2.xml</td>\n      <td>Aristotle</td>\n      <td>De anima</td>\n      <td>20912</td>\n      <td>tlg0086</td>\n      <td>tlg0086.tlg002</td>\n      <td>4 B.C.</td>\n      <td>-3.5</td>\n      <td>{'-3.5': 1}</td>\n      <td>-3.5</td>\n      <td>...</td>\n      <td>[καλός, τίμιος, εἶδος, ὑπολαμβάνω, ἕτερος, ἕτε...</td>\n      <td>9395</td>\n      <td>c_aristotelicum</td>\n      <td>[καλός, τίμιος, εἶδος, ὑπολαμβάνω, ἕτερος, ἕτε...</td>\n      <td>[[καλός, τίμιος, εἶδος, ὑπολαμβάνω, ἕτερος, ἕτ...</td>\n      <td>0</td>\n      <td>0</td>\n      <td>0</td>\n      <td>12</td>\n      <td>[[εἰμί, κινέω, ψυχή, οἷος, κινέω, τόπος, αὐτός...</td>\n    </tr>\n    <tr>\n      <th>687</th>\n      <td>tlg0086.tlg003.perseus-grc1.xml</td>\n      <td>Aristotle</td>\n      <td>Athenian Constitution</td>\n      <td>16459</td>\n      <td>tlg0086</td>\n      <td>tlg0086.tlg003</td>\n      <td>4 B.C.</td>\n      <td>-3.5</td>\n      <td>{'-3.5': 1}</td>\n      <td>-3.5</td>\n      <td>...</td>\n      <td>[Ἀθηναῖος, ἀρχή, χράω, βασίλειος, συνοικησάντο...</td>\n      <td>8088</td>\n      <td>None</td>\n      <td>[Ἀθηναῖος, ἀρχή, χράω, βασίλειος, συνοικησάντο...</td>\n      <td>[[Ἀθηναῖος, ἀρχή, χράω, βασίλειος], [συνοικησά...</td>\n      <td>0</td>\n      <td>2</td>\n      <td>1</td>\n      <td>0</td>\n      <td>[]</td>\n    </tr>\n    <tr>\n      <th>688</th>\n      <td>tlg0086.tlg005.1st1K-grc1.xml</td>\n      <td>Aristotle</td>\n      <td>De caelo</td>\n      <td>30794</td>\n      <td>tlg0086</td>\n      <td>tlg0086.tlg005</td>\n      <td>4 B.C.</td>\n      <td>-3.5</td>\n      <td>{'-3.5': 1}</td>\n      <td>-3.5</td>\n      <td>...</td>\n      <td>[φύσις, ἐπιστήμη, πλεῖστος, φαίνω, σῶμα, μέγεθ...</td>\n      <td>13437</td>\n      <td>c_aristotelicum</td>\n      <td>[φύσις, ἐπιστήμη, πλεῖστος, φαίνω, σῶμα, μέγεθ...</td>\n      <td>[[φύσις, ἐπιστήμη, πλεῖστος, φαίνω, σῶμα, μέγε...</td>\n      <td>1</td>\n      <td>0</td>\n      <td>0</td>\n      <td>0</td>\n      <td>[]</td>\n    </tr>\n    <tr>\n      <th>689</th>\n      <td>tlg0086.tlg006.1st1K-grc1.xml</td>\n      <td>Aristotle</td>\n      <td>Categoriae</td>\n      <td>10316</td>\n      <td>tlg0086</td>\n      <td>tlg0086.tlg006</td>\n      <td>4 B.C.</td>\n      <td>-3.5</td>\n      <td>{'-3.5': 1}</td>\n      <td>-3.5</td>\n      <td>...</td>\n      <td>[ὁμώνυμος, λέγω, ὄνομα, μόνος, κοινός, ὄνομα, ...</td>\n      <td>4678</td>\n      <td>c_aristotelicum</td>\n      <td>[ὁμώνυμος, λέγω, ὄνομα, μόνος, κοινός, ὄνομα, ...</td>\n      <td>[[ὁμώνυμος, λέγω, ὄνομα, μόνος, κοινός, ὄνομα,...</td>\n      <td>0</td>\n      <td>0</td>\n      <td>0</td>\n      <td>2</td>\n      <td>[[σύμπτωμα, γίγνομαι, δυσαπάλλακτος, ἀκίνητος,...</td>\n    </tr>\n    <tr>\n      <th>690</th>\n      <td>tlg0086.tlg008.1st1K-grc1.xml</td>\n      <td>Aristotle</td>\n      <td>De divinatione per somnum</td>\n      <td>1194</td>\n      <td>tlg0086</td>\n      <td>tlg0086.tlg008</td>\n      <td>4 B.C.</td>\n      <td>-3.5</td>\n      <td>{'-3.5': 1}</td>\n      <td>-3.5</td>\n      <td>...</td>\n      <td>[μαντικός, ὕπνος, γίγνομαι, λέγω, συμβαίνω, ἐν...</td>\n      <td>549</td>\n      <td>c_aristotelicum</td>\n      <td>[μαντικός, ὕπνος, γίγνομαι, λέγω, συμβαίνω, ἐν...</td>\n      <td>[[μαντικός, ὕπνος, γίγνομαι, λέγω, συμβαίνω, ἐ...</td>\n      <td>0</td>\n      <td>0</td>\n      <td>0</td>\n      <td>0</td>\n      <td>[]</td>\n    </tr>\n    <tr>\n      <th>691</th>\n      <td>tlg0086.tlg009.perseus-grc1.xml</td>\n      <td>Aristotle</td>\n      <td>Eudemian Ethics (Greek). Machine readable text</td>\n      <td>26345</td>\n      <td>tlg0086</td>\n      <td>tlg0086.tlg009</td>\n      <td>4 B.C.</td>\n      <td>-3.5</td>\n      <td>{'-3.5': 1}</td>\n      <td>-3.5</td>\n      <td>...</td>\n      <td>[δῆλος, θεός, ἑαυτοῦ, γνώμη, ἀποφηνάμενος, συγ...</td>\n      <td>11564</td>\n      <td>c_aristotelicum</td>\n      <td>[δῆλος, θεός, ἑαυτοῦ, γνώμη, ἀποφηνάμενος, συγ...</td>\n      <td>[[δῆλος, θεός, ἑαυτοῦ, γνώμη, ἀποφηνάμενος, συ...</td>\n      <td>7</td>\n      <td>1</td>\n      <td>4</td>\n      <td>76</td>\n      <td>[[αἵρεσις, δίδωμι, γίγνομαι, βίος, ζῶ, παῖς, ε...</td>\n    </tr>\n    <tr>\n      <th>692</th>\n      <td>tlg0086.tlg010.perseus-grc1.xml</td>\n      <td>Aristotle</td>\n      <td>Nicomachean Ethics</td>\n      <td>56620</td>\n      <td>tlg0086</td>\n      <td>tlg0086.tlg010</td>\n      <td>4 B.C.</td>\n      <td>-3.5</td>\n      <td>{'-3.5': 1}</td>\n      <td>-3.5</td>\n      <td>...</td>\n      <td>[τέχνη, πᾶς, μέθοδος, πρᾶξις, προαίρεσις, ἀγαθ...</td>\n      <td>25082</td>\n      <td>c_aristotelicum</td>\n      <td>[τέχνη, πᾶς, μέθοδος, πρᾶξις, προαίρεσις, ἀγαθ...</td>\n      <td>[[τέχνη, πᾶς, μέθοδος, πρᾶξις, προαίρεσις, ἀγα...</td>\n      <td>11</td>\n      <td>0</td>\n      <td>6</td>\n      <td>153</td>\n      <td>[[πολύς, γίγνομαι, μακάριος, βίος, ποιέω, συνε...</td>\n    </tr>\n    <tr>\n      <th>693</th>\n      <td>tlg0086.tlg013.1st1K-grc2.xml</td>\n      <td>Aristotle</td>\n      <td>De generatione et corruptione</td>\n      <td>16914</td>\n      <td>tlg0086</td>\n      <td>tlg0086.tlg013</td>\n      <td>4 B.C.</td>\n      <td>-3.5</td>\n      <td>{'-3.5': 1}</td>\n      <td>-3.5</td>\n      <td>...</td>\n      <td>[γένεσις, φθορά, φύσις, γίγνομαι, φθειρομένων,...</td>\n      <td>7430</td>\n      <td>None</td>\n      <td>[γένεσις, φθορά, φύσις, γίγνομαι, φθειρομένων,...</td>\n      <td>[[γένεσις, φθορά, φύσις, γίγνομαι, φθειρομένων...</td>\n      <td>0</td>\n      <td>0</td>\n      <td>0</td>\n      <td>1</td>\n      <td>[[κινούμενα, ὁμογενής, ἀνάγκη, δοκέω, εἰμί, ἁπ...</td>\n    </tr>\n    <tr>\n      <th>694</th>\n      <td>tlg0086.tlg014.1st1K-grc1.xml</td>\n      <td>Aristotle</td>\n      <td>Historia animalium</td>\n      <td>93923</td>\n      <td>tlg0086</td>\n      <td>tlg0086.tlg014</td>\n      <td>4 B.C.</td>\n      <td>-3.5</td>\n      <td>{'-3.5': 1}</td>\n      <td>-3.5</td>\n      <td>...</td>\n      <td>[ζῷον, μόριον, εἰμί, ἀσύνθετος, ὅσος, διαιρέω,...</td>\n      <td>43967</td>\n      <td>c_aristotelicum</td>\n      <td>[ζῷον, μόριον, εἰμί, ἀσύνθετος, ὅσος, διαιρέω,...</td>\n      <td>[[ζῷον, μόριον, εἰμί, ἀσύνθετος, ὅσος, διαιρέω...</td>\n      <td>40</td>\n      <td>0</td>\n      <td>12</td>\n      <td>5</td>\n      <td>[[οὗτος, τείνω, σφαγή, ἑκάτερος, ὠμοπλάτη, τεί...</td>\n    </tr>\n    <tr>\n      <th>695</th>\n      <td>tlg0086.tlg015.1st1K-grc1.xml</td>\n      <td>Aristoteles</td>\n      <td>De animalium motione</td>\n      <td>4851</td>\n      <td>tlg0086</td>\n      <td>tlg0086.tlg015</td>\n      <td>4 B.C.</td>\n      <td>-3.5</td>\n      <td>{'-3.5': 1}</td>\n      <td>-3.5</td>\n      <td>...</td>\n      <td>[κίνησις, ζῷον, ὅσος, ἕκαστος, ὑπάρχω, γένος, ...</td>\n      <td>2059</td>\n      <td>None</td>\n      <td>[κίνησις, ζῷον, ὅσος, ἕκαστος, ὑπάρχω, γένος, ...</td>\n      <td>[[κίνησις, ζῷον, ὅσος, ἕκαστος, ὑπάρχω, γένος,...</td>\n      <td>0</td>\n      <td>0</td>\n      <td>0</td>\n      <td>3</td>\n      <td>[[τρόμοις, οὗτος, ἐναντίος, ἀρχή, λέγω, κίνησι...</td>\n    </tr>\n    <tr>\n      <th>696</th>\n      <td>tlg0086.tlg016.1st1K-grc1.xml</td>\n      <td>Aristotle</td>\n      <td>De insomniis</td>\n      <td>2436</td>\n      <td>tlg0086</td>\n      <td>tlg0086.tlg016</td>\n      <td>4 B.C.</td>\n      <td>-3.5</td>\n      <td>{'-3.5': 1}</td>\n      <td>-3.5</td>\n      <td>...</td>\n      <td>[ἐνύπνιον, ζητητέος, πρῶτος, ψυχή, φαίνω, νοητ...</td>\n      <td>1095</td>\n      <td>c_aristotelicum</td>\n      <td>[ἐνύπνιον, ζητητέος, πρῶτος, ψυχή, φαίνω, νοητ...</td>\n      <td>[[ἐνύπνιον, ζητητέος, πρῶτος, ψυχή, φαίνω, νοη...</td>\n      <td>0</td>\n      <td>0</td>\n      <td>0</td>\n      <td>1</td>\n      <td>[[πάθος, οὗτος, καλέω, ὕπνος, φαίνω, μέθη, ἡμέ...</td>\n    </tr>\n    <tr>\n      <th>697</th>\n      <td>tlg0086.tlg017.1st1K-grc1.xml</td>\n      <td>Aristotle</td>\n      <td>De interpretatione</td>\n      <td>6271</td>\n      <td>tlg0086</td>\n      <td>tlg0086.tlg017</td>\n      <td>4 B.C.</td>\n      <td>-3.5</td>\n      <td>{'-3.5': 1}</td>\n      <td>-3.5</td>\n      <td>...</td>\n      <td>[πρῶτος, δεῖ, τίθημι, ὄνομα, ῥῆμα, ἀπόφασις, κ...</td>\n      <td>2632</td>\n      <td>c_aristotelicum</td>\n      <td>[πρῶτος, δεῖ, τίθημι, ὄνομα, ῥῆμα, ἀπόφασις, κ...</td>\n      <td>[[πρῶτος, δεῖ, τίθημι, ὄνομα, ῥῆμα, ἀπόφασις, ...</td>\n      <td>0</td>\n      <td>0</td>\n      <td>0</td>\n      <td>0</td>\n      <td>[]</td>\n    </tr>\n    <tr>\n      <th>698</th>\n      <td>tlg0086.tlg018.1st1K-grc1.xml</td>\n      <td>Aristotle</td>\n      <td>De iuventute et senectute, De vita et morte</td>\n      <td>1845</td>\n      <td>tlg0086</td>\n      <td>tlg0086.tlg018</td>\n      <td>4 B.C.</td>\n      <td>-3.5</td>\n      <td>{'-3.5': 1}</td>\n      <td>-3.5</td>\n      <td>...</td>\n      <td>[νεότης, γῆρας, ζωή, θάνατος, λεκτέος, ἀναπνοή...</td>\n      <td>831</td>\n      <td>c_aristotelicum</td>\n      <td>[νεότης, γῆρας, ζωή, θάνατος, λεκτέος, ἀναπνοή...</td>\n      <td>[[νεότης, γῆρας, ζωή, θάνατος, λεκτέος], [ἀναπ...</td>\n      <td>0</td>\n      <td>0</td>\n      <td>0</td>\n      <td>0</td>\n      <td>[]</td>\n    </tr>\n    <tr>\n      <th>699</th>\n      <td>tlg0086.tlg020.1st1K-grc1.xml</td>\n      <td>Aristotle</td>\n      <td>De longitudine et brevitate vitae</td>\n      <td>1789</td>\n      <td>tlg0086</td>\n      <td>tlg0086.tlg020</td>\n      <td>4 B.C.</td>\n      <td>-3.5</td>\n      <td>{'-3.5': 1}</td>\n      <td>-3.5</td>\n      <td>...</td>\n      <td>[μακρόβια, ζῷον, βραχύβια, ζωή, μῆκος, βραχύτη...</td>\n      <td>789</td>\n      <td>c_aristotelicum</td>\n      <td>[μακρόβια, ζῷον, βραχύβια, ζωή, μῆκος, βραχύτη...</td>\n      <td>[[μακρόβια, ζῷον, βραχύβια, ζωή, μῆκος, βραχύτ...</td>\n      <td>3</td>\n      <td>0</td>\n      <td>0</td>\n      <td>0</td>\n      <td>[]</td>\n    </tr>\n    <tr>\n      <th>700</th>\n      <td>tlg0086.tlg021.1st1K-grc1.xml</td>\n      <td>Aristoteles</td>\n      <td>De animalium incessu</td>\n      <td>7720</td>\n      <td>tlg0086</td>\n      <td>tlg0086.tlg021</td>\n      <td>4 B.C.</td>\n      <td>-3.5</td>\n      <td>{'-3.5': 1}</td>\n      <td>-3.5</td>\n      <td>...</td>\n      <td>[χρήσιμος, μόριον, ζῷον, κίνησις, τόπος, ἐπισκ...</td>\n      <td>3137</td>\n      <td>c_aristotelicum</td>\n      <td>[χρήσιμος, μόριον, ζῷον, κίνησις, τόπος, ἐπισκ...</td>\n      <td>[[χρήσιμος, μόριον, ζῷον, κίνησις, τόπος, ἐπισ...</td>\n      <td>2</td>\n      <td>0</td>\n      <td>0</td>\n      <td>0</td>\n      <td>[]</td>\n    </tr>\n    <tr>\n      <th>701</th>\n      <td>tlg0086.tlg022.1st1K-grc1.xml</td>\n      <td>Aristotle</td>\n      <td>Magna Moralia</td>\n      <td>32317</td>\n      <td>tlg0086</td>\n      <td>tlg0086.tlg022</td>\n      <td>4 B.C.</td>\n      <td>-3.5</td>\n      <td>{'-3.5': 1}</td>\n      <td>-3.5</td>\n      <td>...</td>\n      <td>[προαιρέω, λέγω, ἠθικός, πρῶτος, εἰμί, σκεπτέο...</td>\n      <td>12354</td>\n      <td>c_aristotelicum</td>\n      <td>[προαιρέω, λέγω, ἠθικός, πρῶτος, εἰμί, σκεπτέο...</td>\n      <td>[[προαιρέω, λέγω, ἠθικός, πρῶτος, εἰμί, σκεπτέ...</td>\n      <td>1</td>\n      <td>0</td>\n      <td>0</td>\n      <td>43</td>\n      <td>[[δρείαν, ὤρα, αὐξάνω, φθείρω, ἀνδρεία, φέβων,...</td>\n    </tr>\n    <tr>\n      <th>702</th>\n      <td>tlg0086.tlg024.1st1K-grc1.xml</td>\n      <td>Aristotle</td>\n      <td>De memoria et reminiscentia</td>\n      <td>2515</td>\n      <td>tlg0086</td>\n      <td>tlg0086.tlg024</td>\n      <td>4 B.C.</td>\n      <td>-3.5</td>\n      <td>{'-3.5': 1}</td>\n      <td>-3.5</td>\n      <td>...</td>\n      <td>[αἰσθητήριον, αἰσθητός, τρόπος, ἔχω, ἕκαστος, ...</td>\n      <td>1060</td>\n      <td>c_aristotelicum</td>\n      <td>[αἰσθητήριον, αἰσθητός, τρόπος, ἔχω, ἕκαστος, ...</td>\n      <td>[[αἰσθητήριον, αἰσθητός, τρόπος, ἔχω, ἕκαστος,...</td>\n      <td>0</td>\n      <td>0</td>\n      <td>0</td>\n      <td>0</td>\n      <td>[]</td>\n    </tr>\n    <tr>\n      <th>703</th>\n      <td>tlg0086.tlg025.perseus-grc1.xml</td>\n      <td>Aristotle</td>\n      <td>Metaphysics (Greek). Machine readable text</td>\n      <td>78887</td>\n      <td>tlg0086</td>\n      <td>tlg0086.tlg025</td>\n      <td>4 B.C.</td>\n      <td>-3.5</td>\n      <td>{'-3.5': 1}</td>\n      <td>-3.5</td>\n      <td>...</td>\n      <td>[ἄνθρωπος, οἶδα, ὀρέγω, φύσις, σημεῖον, αἴσθησ...</td>\n      <td>33556</td>\n      <td>c_aristotelicum</td>\n      <td>[ἄνθρωπος, οἶδα, ὀρέγω, φύσις, σημεῖον, αἴσθησ...</td>\n      <td>[[ἄνθρωπος, οἶδα, ὀρέγω, φύσις], [σημεῖον, αἴσ...</td>\n      <td>2</td>\n      <td>0</td>\n      <td>0</td>\n      <td>4</td>\n      <td>[[μυθώδης, παιδαριώδης, μέγας, ἰσχύω, γιγνώσκω...</td>\n    </tr>\n    <tr>\n      <th>704</th>\n      <td>tlg0086.tlg026.1st1K-grc2.xml</td>\n      <td>Aristotle</td>\n      <td>Meteorologica</td>\n      <td>61933</td>\n      <td>tlg0086</td>\n      <td>tlg0086.tlg026</td>\n      <td>4 B.C.</td>\n      <td>-3.5</td>\n      <td>{'-3.5': 1}</td>\n      <td>-3.5</td>\n      <td>...</td>\n      <td>[πρῶτος, αἴτιος, φύσις, κίνησις, φυσικός, φορά...</td>\n      <td>23448</td>\n      <td>c_aristotelicum</td>\n      <td>[πρῶτος, αἴτιος, φύσις, κίνησις, φυσικός, φορά...</td>\n      <td>[[πρῶτος, αἴτιος, φύσις, κίνησις, φυσικός, φορ...</td>\n      <td>0</td>\n      <td>0</td>\n      <td>0</td>\n      <td>0</td>\n      <td>[]</td>\n    </tr>\n    <tr>\n      <th>705</th>\n      <td>tlg0086.tlg029.perseus-grc1.xml</td>\n      <td>Aristotle</td>\n      <td>Economics (Greek). Machine readable text</td>\n      <td>6226</td>\n      <td>tlg0086</td>\n      <td>tlg0086.tlg029</td>\n      <td>4 B.C.</td>\n      <td>-3.5</td>\n      <td>{'-3.5': 1}</td>\n      <td>-3.5</td>\n      <td>...</td>\n      <td>[οἰκονομικός, πολιτικός, διαφέρω, μόνος, τοσοῦ...</td>\n      <td>3215</td>\n      <td>c_aristotelicum</td>\n      <td>[οἰκονομικός, πολιτικός, διαφέρω, μόνος, τοσοῦ...</td>\n      <td>[[οἰκονομικός, πολιτικός, διαφέρω, μόνος, τοσο...</td>\n      <td>3</td>\n      <td>0</td>\n      <td>0</td>\n      <td>0</td>\n      <td>[]</td>\n    </tr>\n    <tr>\n      <th>706</th>\n      <td>tlg0086.tlg030.1st1K-grc1.xml</td>\n      <td>Aristotle</td>\n      <td>De partibus animalium</td>\n      <td>40622</td>\n      <td>tlg0086</td>\n      <td>tlg0086.tlg030</td>\n      <td>4 B.C.</td>\n      <td>-3.5</td>\n      <td>{'-3.5': 1}</td>\n      <td>-3.5</td>\n      <td>...</td>\n      <td>[θεωρία, μέθοδος, ταπεινοτέραν, τίμιος, φαίνω,...</td>\n      <td>18651</td>\n      <td>c_aristotelicum</td>\n      <td>[θεωρία, μέθοδος, ταπεινοτέραν, τίμιος, φαίνω,...</td>\n      <td>[[θεωρία, μέθοδος, ταπεινοτέραν, τίμιος, φαίνω...</td>\n      <td>6</td>\n      <td>1</td>\n      <td>1</td>\n      <td>4</td>\n      <td>[[δεῖ, λαμβάνω, ἔργον, θερμός, πόσος, πολύς, τ...</td>\n    </tr>\n    <tr>\n      <th>707</th>\n      <td>tlg0086.tlg031.1st1K-grc1.xml</td>\n      <td>Aristotle</td>\n      <td>Physica</td>\n      <td>55411</td>\n      <td>tlg0086</td>\n      <td>tlg0086.tlg031</td>\n      <td>4 B.C.</td>\n      <td>-3.5</td>\n      <td>{'-3.5': 1}</td>\n      <td>-3.5</td>\n      <td>...</td>\n      <td>[ἐπειθὴ, οἶδα, ἐπίσταμαι, συμβαίνω, πᾶς, μεθόδ...</td>\n      <td>23182</td>\n      <td>c_aristotelicum</td>\n      <td>[ἐπειθὴ, οἶδα, ἐπίσταμαι, συμβαίνω, πᾶς, μεθόδ...</td>\n      <td>[[ἐπειθὴ, οἶδα, ἐπίσταμαι, συμβαίνω, πᾶς, μεθό...</td>\n      <td>2</td>\n      <td>0</td>\n      <td>0</td>\n      <td>4</td>\n      <td>[[οἷος, ἀφιέμενοι, κρίσιμος, ἡμέρα, κρίσιμος, ...</td>\n    </tr>\n    <tr>\n      <th>708</th>\n      <td>tlg0086.tlg034.1st1K-grc1.xml</td>\n      <td>Aristotle</td>\n      <td>Ars Poetica</td>\n      <td>10065</td>\n      <td>tlg0086</td>\n      <td>tlg0086.tlg034</td>\n      <td>4 B.C.</td>\n      <td>-3.5</td>\n      <td>{'-3.5': 1}</td>\n      <td>-3.5</td>\n      <td>...</td>\n      <td>[ποιητικός, εἰδοί, δύναμις, ἕκαστος, ἔχω, δεῖ,...</td>\n      <td>4758</td>\n      <td>c_aristotelicum</td>\n      <td>[ποιητικός, εἰδοί, δύναμις, ἕκαστος, ἔχω, δεῖ,...</td>\n      <td>[[ποιητικός, εἰδοί, δύναμις, ἕκαστος, ἔχω, δεῖ...</td>\n      <td>0</td>\n      <td>1</td>\n      <td>0</td>\n      <td>0</td>\n      <td>[]</td>\n    </tr>\n    <tr>\n      <th>709</th>\n      <td>tlg0086.tlg035.perseus-grc1.xml</td>\n      <td>Aristotle</td>\n      <td>Politics (Greek). Machine readable text</td>\n      <td>65546</td>\n      <td>tlg0086</td>\n      <td>tlg0086.tlg035</td>\n      <td>4 B.C.</td>\n      <td>-3.5</td>\n      <td>{'-3.5': 1}</td>\n      <td>-3.5</td>\n      <td>...</td>\n      <td>[πόλις, ὁράω, κοινωνία, κοινωνία, ἀγαθός, τὶς,...</td>\n      <td>30643</td>\n      <td>c_aristotelicum</td>\n      <td>[πόλις, ὁράω, κοινωνία, κοινωνία, ἀγαθός, τὶς,...</td>\n      <td>[[πόλις, ὁράω, κοινωνία, κοινωνία, ἀγαθός, τὶς...</td>\n      <td>18</td>\n      <td>0</td>\n      <td>0</td>\n      <td>11</td>\n      <td>[[ζώιον, μέλιττα, ἀγελαῖος, ζῷον, δῆλος, οὐδεί...</td>\n    </tr>\n    <tr>\n      <th>710</th>\n      <td>tlg0086.tlg037.1st1K-grc1.xml</td>\n      <td>Aristotle</td>\n      <td>De respiratione</td>\n      <td>5938</td>\n      <td>tlg0086</td>\n      <td>tlg0086.tlg037</td>\n      <td>4 B.C.</td>\n      <td>-3.5</td>\n      <td>{'-3.5': 1}</td>\n      <td>-3.5</td>\n      <td>...</td>\n      <td>[ἀναπνοή, ὀλίγος, τὶς, πρότερος, φυσικός, λέγω...</td>\n      <td>2753</td>\n      <td>None</td>\n      <td>[ἀναπνοή, ὀλίγος, τὶς, πρότερος, φυσικός, λέγω...</td>\n      <td>[[ἀναπνοή, ὀλίγος, τὶς, πρότερος, φυσικός, λέγ...</td>\n      <td>0</td>\n      <td>0</td>\n      <td>1</td>\n      <td>0</td>\n      <td>[]</td>\n    </tr>\n    <tr>\n      <th>711</th>\n      <td>tlg0086.tlg038.perseus-grc1.xml</td>\n      <td>Aristotle</td>\n      <td>Rhetoric</td>\n      <td>43385</td>\n      <td>tlg0086</td>\n      <td>tlg0086.tlg038</td>\n      <td>4 B.C.</td>\n      <td>-3.5</td>\n      <td>{'-3.5': 1}</td>\n      <td>-3.5</td>\n      <td>...</td>\n      <td>[ῥητορικός, εἰμί, ἀντίστροφος, διαλεκτικός, ἀμ...</td>\n      <td>19687</td>\n      <td>c_aristotelicum</td>\n      <td>[ῥητορικός, εἰμί, ἀντίστροφος, διαλεκτικός, ἀμ...</td>\n      <td>[[ῥητορικός, εἰμί, ἀντίστροφος, διαλεκτικός], ...</td>\n      <td>6</td>\n      <td>0</td>\n      <td>4</td>\n      <td>64</td>\n      <td>[[πάρειμι, ἀφωρισμένων, κρίνω, φιλέω, μισέω, ἴ...</td>\n    </tr>\n    <tr>\n      <th>712</th>\n      <td>tlg0086.tlg040.1st1K-grc1.xml</td>\n      <td>Aristotle</td>\n      <td>De sophisticis elenchis</td>\n      <td>14114</td>\n      <td>tlg0086</td>\n      <td>tlg0086.tlg040</td>\n      <td>4 B.C.</td>\n      <td>-3.5</td>\n      <td>{'-3.5': 1}</td>\n      <td>-3.5</td>\n      <td>...</td>\n      <td>[σοφιστικός, ἔλεγχος, σοφιστικός, ἐλεγχής, φαί...</td>\n      <td>6142</td>\n      <td>c_aristotelicum</td>\n      <td>[σοφιστικός, ἔλεγχος, σοφιστικός, ἐλεγχής, φαί...</td>\n      <td>[[σοφιστικός, ἔλεγχος], [σοφιστικός, ἐλεγχής, ...</td>\n      <td>1</td>\n      <td>0</td>\n      <td>0</td>\n      <td>0</td>\n      <td>[]</td>\n    </tr>\n    <tr>\n      <th>713</th>\n      <td>tlg0086.tlg041.1st1K-grc1.xml</td>\n      <td>Aristotle</td>\n      <td>De sensu et sensibilibus</td>\n      <td>7798</td>\n      <td>tlg0086</td>\n      <td>tlg0086.tlg041</td>\n      <td>4 B.C.</td>\n      <td>-3.5</td>\n      <td>{'-3.5': 1}</td>\n      <td>-3.5</td>\n      <td>...</td>\n      <td>[ἔπειμι, ψυχή, ἑαυτοῦ, ὁρίζω, δύναμις, ἕκαστος...</td>\n      <td>3473</td>\n      <td>c_aristotelicum</td>\n      <td>[ἔπειμι, ψυχή, ἑαυτοῦ, ὁρίζω, δύναμις, ἕκαστος...</td>\n      <td>[[ἔπειμι, ψυχή, ἑαυτοῦ, ὁρίζω, δύναμις, ἕκαστο...</td>\n      <td>0</td>\n      <td>0</td>\n      <td>0</td>\n      <td>5</td>\n      <td>[[μέγας, κοινός, ἴδιος, ζῷον, κοινός, ψυχή, εἰ...</td>\n    </tr>\n    <tr>\n      <th>714</th>\n      <td>tlg0086.tlg042.1st1K-grc1.xml</td>\n      <td>Aristotle</td>\n      <td>De somno et vigilia</td>\n      <td>2989</td>\n      <td>tlg0086</td>\n      <td>tlg0086.tlg042</td>\n      <td>4 B.C.</td>\n      <td>-3.5</td>\n      <td>{'-3.5': 1}</td>\n      <td>-3.5</td>\n      <td>...</td>\n      <td>[ὕπνος, ἐγρηγόρσεως, σκεπτέος, τυγχάνω, εἰμί, ...</td>\n      <td>1363</td>\n      <td>c_aristotelicum</td>\n      <td>[ὕπνος, ἐγρηγόρσεως, σκεπτέος, τυγχάνω, εἰμί, ...</td>\n      <td>[[ὕπνος, ἐγρηγόρσεως, σκεπτέος, τυγχάνω, εἰμί,...</td>\n      <td>0</td>\n      <td>0</td>\n      <td>0</td>\n      <td>1</td>\n      <td>[[ἄνεσις, ἐγρήγορσιν, φυτόν, οἷος, κοινωνέω, ο...</td>\n    </tr>\n    <tr>\n      <th>715</th>\n      <td>tlg0086.tlg043.1st1K-grc1.xml</td>\n      <td>Aristotle</td>\n      <td>De spiritu</td>\n      <td>4070</td>\n      <td>tlg0086</td>\n      <td>tlg0086.tlg043</td>\n      <td>4 B.C.</td>\n      <td>-3.5</td>\n      <td>{'-3.5': 1}</td>\n      <td>-3.5</td>\n      <td>...</td>\n      <td>[ἔμφυτος, πνεῦμα, διαμονή, αὔξησις, ὁράω, πολύ...</td>\n      <td>1638</td>\n      <td>None</td>\n      <td>[ἔμφυτος, πνεῦμα, διαμονή, αὔξησις, ὁράω, πολύ...</td>\n      <td>[[ἔμφυτος, πνεῦμα, διαμονή, αὔξησις], [ὁράω, π...</td>\n      <td>0</td>\n      <td>0</td>\n      <td>0</td>\n      <td>0</td>\n      <td>[]</td>\n    </tr>\n    <tr>\n      <th>716</th>\n      <td>tlg0086.tlg044.1st1K-grc1.xml</td>\n      <td>Aristotle</td>\n      <td>Topica</td>\n      <td>44116</td>\n      <td>tlg0086</td>\n      <td>tlg0086.tlg044</td>\n      <td>4 B.C.</td>\n      <td>-3.5</td>\n      <td>{'-3.5': 1}</td>\n      <td>-3.5</td>\n      <td>...</td>\n      <td>[πρόθεσις, πραγματεία, μέθοδος, εὑρίσκω, δύναμ...</td>\n      <td>19797</td>\n      <td>c_aristotelicum</td>\n      <td>[πρόθεσις, πραγματεία, μέθοδος, εὑρίσκω, δύναμ...</td>\n      <td>[[πρόθεσις, πραγματεία, μέθοδος, εὑρίσκω, δύνα...</td>\n      <td>0</td>\n      <td>0</td>\n      <td>6</td>\n      <td>21</td>\n      <td>[[ὄγκος, ἁφή, γεύω, διαφωνέω, ὄνομα, οὔτ, ἐναν...</td>\n    </tr>\n    <tr>\n      <th>717</th>\n      <td>tlg0086.tlg045.perseus-grc2.xml</td>\n      <td>Aristotle</td>\n      <td>Virtues and Vices</td>\n      <td>1497</td>\n      <td>tlg0086</td>\n      <td>tlg0086.tlg045</td>\n      <td>4 B.C.</td>\n      <td>-3.5</td>\n      <td>{'-3.5': 1}</td>\n      <td>-3.5</td>\n      <td>...</td>\n      <td>[ἐπαινετός, εἰμί, καλός, ψεκτός, αἰσχρός, καλό...</td>\n      <td>721</td>\n      <td>None</td>\n      <td>[ἐπαινετός, εἰμί, καλός, ψεκτός, αἰσχρός, καλό...</td>\n      <td>[[ἐπαινετός, εἰμί, καλός, ψεκτός, αἰσχρός], [κ...</td>\n      <td>1</td>\n      <td>0</td>\n      <td>0</td>\n      <td>2</td>\n      <td>[[αἰδώς, εὐλάβεια, ἐγκράτεια, δύναμαι, κατασχά...</td>\n    </tr>\n    <tr>\n      <th>718</th>\n      <td>tlg0086.tlg052.1st1K-grc1.xml</td>\n      <td>Aristotle</td>\n      <td>De anima (codicis E fragmenta recensionis a vu...</td>\n      <td>2458</td>\n      <td>tlg0086</td>\n      <td>tlg0086.tlg052</td>\n      <td>4 B.C.</td>\n      <td>-3.5</td>\n      <td>{'-3.5': 1}</td>\n      <td>-3.5</td>\n      <td>...</td>\n      <td>[ἐοεὶ, παραδεδομένα, ψυχή, ἄλλος, ἕκαστος, ἀπο...</td>\n      <td>1044</td>\n      <td>None</td>\n      <td>[ἐοεὶ, παραδεδομένα, ψυχή, ἄλλος, ἕκαστος, ἀπο...</td>\n      <td>[[], [ἐοεὶ, παραδεδομένα, ψυχή, ἄλλος, ἕκαστος...</td>\n      <td>0</td>\n      <td>0</td>\n      <td>0</td>\n      <td>1</td>\n      <td>[[αἰσθητός, εἰμί, ὀσμή, ψόφος, φῶς, αἴτιος, ἔχ...</td>\n    </tr>\n    <tr>\n      <th>719</th>\n      <td>tlg0086.tlg054.1st1K-grc1.xml</td>\n      <td>Aristotle</td>\n      <td>Physica (textus alter)</td>\n      <td>2381</td>\n      <td>tlg0086</td>\n      <td>tlg0086.tlg054</td>\n      <td>4 B.C.</td>\n      <td>-3.5</td>\n      <td>{'-3.5': 1}</td>\n      <td>-3.5</td>\n      <td>...</td>\n      <td>[κινούμενον, ἀνάγκη, κινέω, ἔχω, ἀρχή, κίνησις...</td>\n      <td>950</td>\n      <td>None</td>\n      <td>[κινούμενον, ἀνάγκη, κινέω, ἔχω, ἀρχή, κίνησις...</td>\n      <td>[[κινούμενον, ἀνάγκη, κινέω], [ἔχω, ἀρχή, κίνη...</td>\n      <td>0</td>\n      <td>0</td>\n      <td>0</td>\n      <td>1</td>\n      <td>[[οὐδέτερος, ἀλλοιόω, δῆλος, ἀρετή, ἀπάθεια, π...</td>\n    </tr>\n  </tbody>\n</table>\n<p>35 rows × 25 columns</p>\n</div>"
     },
     "execution_count": 5,
     "metadata": {},
     "output_type": "execute_result"
    }
   ],
   "source": [
    "cgl[cgl[\"author_id\"]==\"tlg0086\"]"
   ],
   "metadata": {
    "collapsed": false,
    "pycharm": {
     "name": "#%%\n"
    }
   }
  },
  {
   "cell_type": "code",
   "execution_count": 6,
   "outputs": [],
   "source": [
    "# Length of extracted character sequences\n",
    "maxlen = 60\n",
    "\n",
    "# We sample a new sequence every `step` characters\n",
    "step = 3\n",
    "\n",
    "# This holds our extracted sequences\n",
    "sentences = []\n",
    "\n",
    "# This holds the targets (the follow-up characters)\n",
    "next_chars = []"
   ],
   "metadata": {
    "collapsed": false,
    "pycharm": {
     "name": "#%%\n"
    }
   }
  },
  {
   "cell_type": "code",
   "execution_count": 7,
   "outputs": [],
   "source": [
    "aristotle_worklist = cgl[cgl[\"author_id\"]==\"tlg0086\"][\"clean_string\"]"
   ],
   "metadata": {
    "collapsed": false,
    "pycharm": {
     "name": "#%%\n"
    }
   }
  },
  {
   "cell_type": "code",
   "execution_count": 8,
   "outputs": [
    {
     "name": "stdout",
     "output_type": "stream",
     "text": [
      "Number of sequences: 108684\n",
      "Number of sequences: 148111\n",
      "Number of sequences: 183369\n",
      "Number of sequences: 241559\n",
      "Number of sequences: 261452\n",
      "Number of sequences: 263895\n",
      "Number of sequences: 314582\n",
      "Number of sequences: 425036\n",
      "Number of sequences: 456879\n",
      "Number of sequences: 641728\n",
      "Number of sequences: 650749\n",
      "Number of sequences: 655654\n",
      "Number of sequences: 667471\n",
      "Number of sequences: 670980\n",
      "Number of sequences: 674349\n",
      "Number of sequences: 688917\n",
      "Number of sequences: 743318\n",
      "Number of sequences: 748126\n",
      "Number of sequences: 894454\n",
      "Number of sequences: 997586\n",
      "Number of sequences: 1010907\n",
      "Number of sequences: 1089936\n",
      "Number of sequences: 1192512\n",
      "Number of sequences: 1212267\n",
      "Number of sequences: 1346736\n",
      "Number of sequences: 1358404\n",
      "Number of sequences: 1444891\n",
      "Number of sequences: 1472347\n",
      "Number of sequences: 1487156\n",
      "Number of sequences: 1493102\n",
      "Number of sequences: 1500546\n",
      "Number of sequences: 1586790\n",
      "Number of sequences: 1589929\n",
      "Number of sequences: 1594482\n",
      "Number of sequences: 1598861\n"
     ]
    }
   ],
   "source": [
    "for text in aristotle_worklist:\n",
    "    for i in range(0, len(text) - maxlen, step):\n",
    "        sentences.append(text[i: i + maxlen])\n",
    "        next_chars.append(text[i + maxlen])\n",
    "    print('Number of sequences:', len(sentences))"
   ],
   "metadata": {
    "collapsed": false,
    "pycharm": {
     "name": "#%%\n"
    }
   }
  },
  {
   "cell_type": "code",
   "execution_count": 9,
   "outputs": [],
   "source": [
    "aristotle_string = \" \".join(cgl[cgl[\"author_id\"]==\"tlg0086\"][\"clean_string\"])"
   ],
   "metadata": {
    "collapsed": false,
    "pycharm": {
     "name": "#%%\n"
    }
   }
  },
  {
   "cell_type": "code",
   "execution_count": 16,
   "outputs": [
    {
     "name": "stdout",
     "output_type": "stream",
     "text": [
      "Unique characters: 263\n",
      "Vectorization...\n"
     ]
    },
    {
     "name": "stderr",
     "output_type": "stream",
     "text": [
      "/var/folders/zg/zvg9y3rs7j527jxfq9sc2xqc0000gn/T/ipykernel_40858/776815168.py:9: DeprecationWarning: `np.bool` is a deprecated alias for the builtin `bool`. To silence this warning, use `bool` by itself. Doing this will not modify any behavior and is safe. If you specifically wanted the numpy scalar type, use `np.bool_` here.\n",
      "Deprecated in NumPy 1.20; for more details and guidance: https://numpy.org/devdocs/release/1.20.0-notes.html#deprecations\n",
      "  x = np.zeros((len(sentences), maxlen, len(chars)), dtype=np.bool)\n",
      "/var/folders/zg/zvg9y3rs7j527jxfq9sc2xqc0000gn/T/ipykernel_40858/776815168.py:10: DeprecationWarning: `np.bool` is a deprecated alias for the builtin `bool`. To silence this warning, use `bool` by itself. Doing this will not modify any behavior and is safe. If you specifically wanted the numpy scalar type, use `np.bool_` here.\n",
      "Deprecated in NumPy 1.20; for more details and guidance: https://numpy.org/devdocs/release/1.20.0-notes.html#deprecations\n",
      "  y = np.zeros((len(sentences), len(chars)), dtype=np.bool)\n"
     ]
    }
   ],
   "source": [
    "# List of unique characters in the corpus\n",
    "chars = sorted(list(set(aristotle_string)))\n",
    "print('Unique characters:', len(chars))\n",
    "# Dictionary mapping unique characters to their index in `chars`\n",
    "char_indices = dict((char, chars.index(char)) for char in chars)\n",
    "\n",
    "# Next, one-hot encode the characters into binary arrays.\n",
    "print('Vectorization...')\n",
    "x = np.zeros((len(sentences), maxlen, len(chars)), dtype=np.bool)\n",
    "y = np.zeros((len(sentences), len(chars)), dtype=np.bool)\n",
    "for i, sentence in enumerate(sentences):\n",
    "    for t, char in enumerate(sentence):\n",
    "        x[i, t, char_indices[char]] = 1\n",
    "    y[i, char_indices[next_chars[i]]] = 1"
   ],
   "metadata": {
    "collapsed": false,
    "pycharm": {
     "name": "#%%\n"
    }
   }
  },
  {
   "cell_type": "markdown",
   "source": [
    "## Building the network\n",
    "\n",
    "Our network is a single `LSTM` layer followed by a `Dense` classifier and softmax over all possible characters. But let us note that\n",
    "recurrent neural networks are not the only way to do sequence data generation; 1D convnets also have proven extremely successful at it in\n",
    "recent times."
   ],
   "metadata": {
    "collapsed": false,
    "pycharm": {
     "name": "#%% md\n"
    }
   }
  },
  {
   "cell_type": "code",
   "execution_count": 12,
   "outputs": [
    {
     "name": "stdout",
     "output_type": "stream",
     "text": [
      "Metal device set to: Apple M1\n"
     ]
    },
    {
     "name": "stderr",
     "output_type": "stream",
     "text": [
      "2022-07-12 11:02:14.579800: I tensorflow/core/common_runtime/pluggable_device/pluggable_device_factory.cc:305] Could not identify NUMA node of platform GPU ID 0, defaulting to 0. Your kernel may not have been built with NUMA support.\n",
      "2022-07-12 11:02:14.580049: I tensorflow/core/common_runtime/pluggable_device/pluggable_device_factory.cc:271] Created TensorFlow device (/job:localhost/replica:0/task:0/device:GPU:0 with 0 MB memory) -> physical PluggableDevice (device: 0, name: METAL, pci bus id: <undefined>)\n"
     ]
    }
   ],
   "source": [
    "model = keras.models.Sequential()\n",
    "model.add(layers.LSTM(128, input_shape=(maxlen, len(chars))))\n",
    "model.add(layers.Dense(len(chars), activation='softmax'))"
   ],
   "metadata": {
    "collapsed": false,
    "pycharm": {
     "name": "#%%\n"
    }
   }
  },
  {
   "cell_type": "markdown",
   "source": [
    "Since our targets are one-hot encoded, we will use `categorical_crossentropy` as the loss to train the model:"
   ],
   "metadata": {
    "collapsed": false,
    "pycharm": {
     "name": "#%% md\n"
    }
   }
  },
  {
   "cell_type": "code",
   "execution_count": 13,
   "outputs": [],
   "source": [
    "#optimizer = keras.optimizers.RMSprop(lr=0.01)\n",
    "model.compile(loss='categorical_crossentropy', optimizer='rmsprop')"
   ],
   "metadata": {
    "collapsed": false,
    "pycharm": {
     "name": "#%%\n"
    }
   }
  },
  {
   "cell_type": "markdown",
   "source": [
    "## Training the language model and sampling from it\n",
    "\n",
    "\n",
    "Given a trained model and a seed text snippet, we generate new text by repeatedly:\n",
    "\n",
    "* 1) Drawing from the model a probability distribution over the next character given the text available so far\n",
    "* 2) Reweighting the distribution to a certain \"temperature\"\n",
    "* 3) Sampling the next character at random according to the reweighted distribution\n",
    "* 4) Adding the new character at the end of the available text\n",
    "\n",
    "This is the code we use to reweight the original probability distribution coming out of the model,\n",
    "and draw a character index from it (the \"sampling function\"):"
   ],
   "metadata": {
    "collapsed": false,
    "pycharm": {
     "name": "#%% md\n"
    }
   }
  },
  {
   "cell_type": "code",
   "execution_count": 14,
   "outputs": [],
   "source": [
    "def sample(preds, temperature=1.0):\n",
    "    preds = np.asarray(preds).astype('float64')\n",
    "    preds = np.log(preds) / temperature\n",
    "    exp_preds = np.exp(preds)\n",
    "    preds = exp_preds / np.sum(exp_preds)\n",
    "    probas = np.random.multinomial(1, preds, 1)\n",
    "    return np.argmax(probas)"
   ],
   "metadata": {
    "collapsed": false,
    "pycharm": {
     "name": "#%%\n"
    }
   }
  },
  {
   "cell_type": "markdown",
   "source": [
    "\n",
    "Finally, this is the loop where we repeatedly train and generated text. We start generating text using a range of different temperatures\n",
    "after every epoch. This allows us to see how the generated text evolves as the model starts converging, as well as the impact of\n",
    "temperature in the sampling strategy."
   ],
   "metadata": {
    "collapsed": false,
    "pycharm": {
     "name": "#%% md\n"
    }
   }
  },
  {
   "cell_type": "code",
   "execution_count": 17,
   "outputs": [
    {
     "name": "stdout",
     "output_type": "stream",
     "text": [
      "epoch 1\n"
     ]
    },
    {
     "ename": "InvalidArgumentError",
     "evalue": "Value for attr 'T' of bool is not in the list of allowed values: half, float, double\n\t; NodeDef: {{node CudnnRNN}}; Op<name=CudnnRNN; signature=input:T, input_h:T, input_c:T, params:T -> output:T, output_h:T, output_c:T, reserve_space:T; attr=T:type,allowed=[DT_HALF, DT_FLOAT, DT_DOUBLE]; attr=rnn_mode:string,default=\"lstm\",allowed=[\"rnn_relu\", \"rnn_tanh\", \"lstm\", \"gru\"]; attr=input_mode:string,default=\"linear_input\",allowed=[\"linear_input\", \"skip_input\", \"auto_select\"]; attr=direction:string,default=\"unidirectional\",allowed=[\"unidirectional\", \"bidirectional\"]; attr=dropout:float,default=0; attr=seed:int,default=0; attr=seed2:int,default=0; attr=is_training:bool,default=true; is_stateful=true> [Op:CudnnRNN]",
     "output_type": "error",
     "traceback": [
      "\u001B[0;31m---------------------------------------------------------------------------\u001B[0m",
      "\u001B[0;31mInvalidArgumentError\u001B[0m                      Traceback (most recent call last)",
      "\u001B[0;32m/var/folders/zg/zvg9y3rs7j527jxfq9sc2xqc0000gn/T/ipykernel_40858/1981701497.py\u001B[0m in \u001B[0;36m<module>\u001B[0;34m\u001B[0m\n\u001B[1;32m      5\u001B[0m     \u001B[0mprint\u001B[0m\u001B[0;34m(\u001B[0m\u001B[0;34m'epoch'\u001B[0m\u001B[0;34m,\u001B[0m \u001B[0mepoch\u001B[0m\u001B[0;34m)\u001B[0m\u001B[0;34m\u001B[0m\u001B[0;34m\u001B[0m\u001B[0m\n\u001B[1;32m      6\u001B[0m     \u001B[0;31m# Fit the model for 1 epoch on the available training data\u001B[0m\u001B[0;34m\u001B[0m\u001B[0;34m\u001B[0m\u001B[0m\n\u001B[0;32m----> 7\u001B[0;31m     model.fit(x, y,\n\u001B[0m\u001B[1;32m      8\u001B[0m               \u001B[0mbatch_size\u001B[0m\u001B[0;34m=\u001B[0m\u001B[0;36m128\u001B[0m\u001B[0;34m,\u001B[0m\u001B[0;34m\u001B[0m\u001B[0;34m\u001B[0m\u001B[0m\n\u001B[1;32m      9\u001B[0m               epochs=1)\n",
      "\u001B[0;32m/opt/homebrew/Caskroom/miniforge/base/envs/tensorflow/lib/python3.9/site-packages/tensorflow/python/keras/engine/training.py\u001B[0m in \u001B[0;36mfit\u001B[0;34m(self, x, y, batch_size, epochs, verbose, callbacks, validation_split, validation_data, shuffle, class_weight, sample_weight, initial_epoch, steps_per_epoch, validation_steps, validation_batch_size, validation_freq, max_queue_size, workers, use_multiprocessing)\u001B[0m\n\u001B[1;32m   1181\u001B[0m                 _r=1):\n\u001B[1;32m   1182\u001B[0m               \u001B[0mcallbacks\u001B[0m\u001B[0;34m.\u001B[0m\u001B[0mon_train_batch_begin\u001B[0m\u001B[0;34m(\u001B[0m\u001B[0mstep\u001B[0m\u001B[0;34m)\u001B[0m\u001B[0;34m\u001B[0m\u001B[0;34m\u001B[0m\u001B[0m\n\u001B[0;32m-> 1183\u001B[0;31m               \u001B[0mtmp_logs\u001B[0m \u001B[0;34m=\u001B[0m \u001B[0mself\u001B[0m\u001B[0;34m.\u001B[0m\u001B[0mtrain_function\u001B[0m\u001B[0;34m(\u001B[0m\u001B[0miterator\u001B[0m\u001B[0;34m)\u001B[0m\u001B[0;34m\u001B[0m\u001B[0;34m\u001B[0m\u001B[0m\n\u001B[0m\u001B[1;32m   1184\u001B[0m               \u001B[0;32mif\u001B[0m \u001B[0mdata_handler\u001B[0m\u001B[0;34m.\u001B[0m\u001B[0mshould_sync\u001B[0m\u001B[0;34m:\u001B[0m\u001B[0;34m\u001B[0m\u001B[0;34m\u001B[0m\u001B[0m\n\u001B[1;32m   1185\u001B[0m                 \u001B[0mcontext\u001B[0m\u001B[0;34m.\u001B[0m\u001B[0masync_wait\u001B[0m\u001B[0;34m(\u001B[0m\u001B[0;34m)\u001B[0m\u001B[0;34m\u001B[0m\u001B[0;34m\u001B[0m\u001B[0m\n",
      "\u001B[0;32m/opt/homebrew/Caskroom/miniforge/base/envs/tensorflow/lib/python3.9/site-packages/tensorflow/python/keras/engine/training.py\u001B[0m in \u001B[0;36mtrain_function\u001B[0;34m(iterator)\u001B[0m\n\u001B[1;32m    853\u001B[0m       \u001B[0;32mdef\u001B[0m \u001B[0mtrain_function\u001B[0m\u001B[0;34m(\u001B[0m\u001B[0miterator\u001B[0m\u001B[0;34m)\u001B[0m\u001B[0;34m:\u001B[0m\u001B[0;34m\u001B[0m\u001B[0;34m\u001B[0m\u001B[0m\n\u001B[1;32m    854\u001B[0m         \u001B[0;34m\"\"\"Runs a training execution with one step.\"\"\"\u001B[0m\u001B[0;34m\u001B[0m\u001B[0;34m\u001B[0m\u001B[0m\n\u001B[0;32m--> 855\u001B[0;31m         \u001B[0;32mreturn\u001B[0m \u001B[0mstep_function\u001B[0m\u001B[0;34m(\u001B[0m\u001B[0mself\u001B[0m\u001B[0;34m,\u001B[0m \u001B[0miterator\u001B[0m\u001B[0;34m)\u001B[0m\u001B[0;34m\u001B[0m\u001B[0;34m\u001B[0m\u001B[0m\n\u001B[0m\u001B[1;32m    856\u001B[0m \u001B[0;34m\u001B[0m\u001B[0m\n\u001B[1;32m    857\u001B[0m     \u001B[0;32melse\u001B[0m\u001B[0;34m:\u001B[0m\u001B[0;34m\u001B[0m\u001B[0;34m\u001B[0m\u001B[0m\n",
      "\u001B[0;32m/opt/homebrew/Caskroom/miniforge/base/envs/tensorflow/lib/python3.9/site-packages/tensorflow/python/keras/engine/training.py\u001B[0m in \u001B[0;36mstep_function\u001B[0;34m(model, iterator)\u001B[0m\n\u001B[1;32m    843\u001B[0m \u001B[0;34m\u001B[0m\u001B[0m\n\u001B[1;32m    844\u001B[0m       \u001B[0mdata\u001B[0m \u001B[0;34m=\u001B[0m \u001B[0mnext\u001B[0m\u001B[0;34m(\u001B[0m\u001B[0miterator\u001B[0m\u001B[0;34m)\u001B[0m\u001B[0;34m\u001B[0m\u001B[0;34m\u001B[0m\u001B[0m\n\u001B[0;32m--> 845\u001B[0;31m       \u001B[0moutputs\u001B[0m \u001B[0;34m=\u001B[0m \u001B[0mmodel\u001B[0m\u001B[0;34m.\u001B[0m\u001B[0mdistribute_strategy\u001B[0m\u001B[0;34m.\u001B[0m\u001B[0mrun\u001B[0m\u001B[0;34m(\u001B[0m\u001B[0mrun_step\u001B[0m\u001B[0;34m,\u001B[0m \u001B[0margs\u001B[0m\u001B[0;34m=\u001B[0m\u001B[0;34m(\u001B[0m\u001B[0mdata\u001B[0m\u001B[0;34m,\u001B[0m\u001B[0;34m)\u001B[0m\u001B[0;34m)\u001B[0m\u001B[0;34m\u001B[0m\u001B[0;34m\u001B[0m\u001B[0m\n\u001B[0m\u001B[1;32m    846\u001B[0m       outputs = reduce_per_replica(\n\u001B[1;32m    847\u001B[0m           outputs, self.distribute_strategy, reduction='first')\n",
      "\u001B[0;32m/opt/homebrew/Caskroom/miniforge/base/envs/tensorflow/lib/python3.9/site-packages/tensorflow/python/distribute/distribute_lib.py\u001B[0m in \u001B[0;36mrun\u001B[0;34m(***failed resolving arguments***)\u001B[0m\n\u001B[1;32m   1283\u001B[0m       fn = autograph.tf_convert(\n\u001B[1;32m   1284\u001B[0m           fn, autograph_ctx.control_status_ctx(), convert_by_default=False)\n\u001B[0;32m-> 1285\u001B[0;31m       \u001B[0;32mreturn\u001B[0m \u001B[0mself\u001B[0m\u001B[0;34m.\u001B[0m\u001B[0m_extended\u001B[0m\u001B[0;34m.\u001B[0m\u001B[0mcall_for_each_replica\u001B[0m\u001B[0;34m(\u001B[0m\u001B[0mfn\u001B[0m\u001B[0;34m,\u001B[0m \u001B[0margs\u001B[0m\u001B[0;34m=\u001B[0m\u001B[0margs\u001B[0m\u001B[0;34m,\u001B[0m \u001B[0mkwargs\u001B[0m\u001B[0;34m=\u001B[0m\u001B[0mkwargs\u001B[0m\u001B[0;34m)\u001B[0m\u001B[0;34m\u001B[0m\u001B[0;34m\u001B[0m\u001B[0m\n\u001B[0m\u001B[1;32m   1286\u001B[0m \u001B[0;34m\u001B[0m\u001B[0m\n\u001B[1;32m   1287\u001B[0m   \u001B[0;32mdef\u001B[0m \u001B[0mreduce\u001B[0m\u001B[0;34m(\u001B[0m\u001B[0mself\u001B[0m\u001B[0;34m,\u001B[0m \u001B[0mreduce_op\u001B[0m\u001B[0;34m,\u001B[0m \u001B[0mvalue\u001B[0m\u001B[0;34m,\u001B[0m \u001B[0maxis\u001B[0m\u001B[0;34m)\u001B[0m\u001B[0;34m:\u001B[0m\u001B[0;34m\u001B[0m\u001B[0;34m\u001B[0m\u001B[0m\n",
      "\u001B[0;32m/opt/homebrew/Caskroom/miniforge/base/envs/tensorflow/lib/python3.9/site-packages/tensorflow/python/distribute/distribute_lib.py\u001B[0m in \u001B[0;36mcall_for_each_replica\u001B[0;34m(self, fn, args, kwargs)\u001B[0m\n\u001B[1;32m   2831\u001B[0m       \u001B[0mkwargs\u001B[0m \u001B[0;34m=\u001B[0m \u001B[0;34m{\u001B[0m\u001B[0;34m}\u001B[0m\u001B[0;34m\u001B[0m\u001B[0;34m\u001B[0m\u001B[0m\n\u001B[1;32m   2832\u001B[0m     \u001B[0;32mwith\u001B[0m \u001B[0mself\u001B[0m\u001B[0;34m.\u001B[0m\u001B[0m_container_strategy\u001B[0m\u001B[0;34m(\u001B[0m\u001B[0;34m)\u001B[0m\u001B[0;34m.\u001B[0m\u001B[0mscope\u001B[0m\u001B[0;34m(\u001B[0m\u001B[0;34m)\u001B[0m\u001B[0;34m:\u001B[0m\u001B[0;34m\u001B[0m\u001B[0;34m\u001B[0m\u001B[0m\n\u001B[0;32m-> 2833\u001B[0;31m       \u001B[0;32mreturn\u001B[0m \u001B[0mself\u001B[0m\u001B[0;34m.\u001B[0m\u001B[0m_call_for_each_replica\u001B[0m\u001B[0;34m(\u001B[0m\u001B[0mfn\u001B[0m\u001B[0;34m,\u001B[0m \u001B[0margs\u001B[0m\u001B[0;34m,\u001B[0m \u001B[0mkwargs\u001B[0m\u001B[0;34m)\u001B[0m\u001B[0;34m\u001B[0m\u001B[0;34m\u001B[0m\u001B[0m\n\u001B[0m\u001B[1;32m   2834\u001B[0m \u001B[0;34m\u001B[0m\u001B[0m\n\u001B[1;32m   2835\u001B[0m   \u001B[0;32mdef\u001B[0m \u001B[0m_call_for_each_replica\u001B[0m\u001B[0;34m(\u001B[0m\u001B[0mself\u001B[0m\u001B[0;34m,\u001B[0m \u001B[0mfn\u001B[0m\u001B[0;34m,\u001B[0m \u001B[0margs\u001B[0m\u001B[0;34m,\u001B[0m \u001B[0mkwargs\u001B[0m\u001B[0;34m)\u001B[0m\u001B[0;34m:\u001B[0m\u001B[0;34m\u001B[0m\u001B[0;34m\u001B[0m\u001B[0m\n",
      "\u001B[0;32m/opt/homebrew/Caskroom/miniforge/base/envs/tensorflow/lib/python3.9/site-packages/tensorflow/python/distribute/distribute_lib.py\u001B[0m in \u001B[0;36m_call_for_each_replica\u001B[0;34m(self, fn, args, kwargs)\u001B[0m\n\u001B[1;32m   3606\u001B[0m   \u001B[0;32mdef\u001B[0m \u001B[0m_call_for_each_replica\u001B[0m\u001B[0;34m(\u001B[0m\u001B[0mself\u001B[0m\u001B[0;34m,\u001B[0m \u001B[0mfn\u001B[0m\u001B[0;34m,\u001B[0m \u001B[0margs\u001B[0m\u001B[0;34m,\u001B[0m \u001B[0mkwargs\u001B[0m\u001B[0;34m)\u001B[0m\u001B[0;34m:\u001B[0m\u001B[0;34m\u001B[0m\u001B[0;34m\u001B[0m\u001B[0m\n\u001B[1;32m   3607\u001B[0m     \u001B[0;32mwith\u001B[0m \u001B[0mReplicaContext\u001B[0m\u001B[0;34m(\u001B[0m\u001B[0mself\u001B[0m\u001B[0;34m.\u001B[0m\u001B[0m_container_strategy\u001B[0m\u001B[0;34m(\u001B[0m\u001B[0;34m)\u001B[0m\u001B[0;34m,\u001B[0m \u001B[0mreplica_id_in_sync_group\u001B[0m\u001B[0;34m=\u001B[0m\u001B[0;36m0\u001B[0m\u001B[0;34m)\u001B[0m\u001B[0;34m:\u001B[0m\u001B[0;34m\u001B[0m\u001B[0;34m\u001B[0m\u001B[0m\n\u001B[0;32m-> 3608\u001B[0;31m       \u001B[0;32mreturn\u001B[0m \u001B[0mfn\u001B[0m\u001B[0;34m(\u001B[0m\u001B[0;34m*\u001B[0m\u001B[0margs\u001B[0m\u001B[0;34m,\u001B[0m \u001B[0;34m**\u001B[0m\u001B[0mkwargs\u001B[0m\u001B[0;34m)\u001B[0m\u001B[0;34m\u001B[0m\u001B[0;34m\u001B[0m\u001B[0m\n\u001B[0m\u001B[1;32m   3609\u001B[0m \u001B[0;34m\u001B[0m\u001B[0m\n\u001B[1;32m   3610\u001B[0m   \u001B[0;32mdef\u001B[0m \u001B[0m_reduce_to\u001B[0m\u001B[0;34m(\u001B[0m\u001B[0mself\u001B[0m\u001B[0;34m,\u001B[0m \u001B[0mreduce_op\u001B[0m\u001B[0;34m,\u001B[0m \u001B[0mvalue\u001B[0m\u001B[0;34m,\u001B[0m \u001B[0mdestinations\u001B[0m\u001B[0;34m,\u001B[0m \u001B[0moptions\u001B[0m\u001B[0;34m)\u001B[0m\u001B[0;34m:\u001B[0m\u001B[0;34m\u001B[0m\u001B[0;34m\u001B[0m\u001B[0m\n",
      "\u001B[0;32m/opt/homebrew/Caskroom/miniforge/base/envs/tensorflow/lib/python3.9/site-packages/tensorflow/python/autograph/impl/api.py\u001B[0m in \u001B[0;36mwrapper\u001B[0;34m(*args, **kwargs)\u001B[0m\n\u001B[1;32m    595\u001B[0m   \u001B[0;32mdef\u001B[0m \u001B[0mwrapper\u001B[0m\u001B[0;34m(\u001B[0m\u001B[0;34m*\u001B[0m\u001B[0margs\u001B[0m\u001B[0;34m,\u001B[0m \u001B[0;34m**\u001B[0m\u001B[0mkwargs\u001B[0m\u001B[0;34m)\u001B[0m\u001B[0;34m:\u001B[0m\u001B[0;34m\u001B[0m\u001B[0;34m\u001B[0m\u001B[0m\n\u001B[1;32m    596\u001B[0m     \u001B[0;32mwith\u001B[0m \u001B[0mag_ctx\u001B[0m\u001B[0;34m.\u001B[0m\u001B[0mControlStatusCtx\u001B[0m\u001B[0;34m(\u001B[0m\u001B[0mstatus\u001B[0m\u001B[0;34m=\u001B[0m\u001B[0mag_ctx\u001B[0m\u001B[0;34m.\u001B[0m\u001B[0mStatus\u001B[0m\u001B[0;34m.\u001B[0m\u001B[0mUNSPECIFIED\u001B[0m\u001B[0;34m)\u001B[0m\u001B[0;34m:\u001B[0m\u001B[0;34m\u001B[0m\u001B[0;34m\u001B[0m\u001B[0m\n\u001B[0;32m--> 597\u001B[0;31m       \u001B[0;32mreturn\u001B[0m \u001B[0mfunc\u001B[0m\u001B[0;34m(\u001B[0m\u001B[0;34m*\u001B[0m\u001B[0margs\u001B[0m\u001B[0;34m,\u001B[0m \u001B[0;34m**\u001B[0m\u001B[0mkwargs\u001B[0m\u001B[0;34m)\u001B[0m\u001B[0;34m\u001B[0m\u001B[0;34m\u001B[0m\u001B[0m\n\u001B[0m\u001B[1;32m    598\u001B[0m \u001B[0;34m\u001B[0m\u001B[0m\n\u001B[1;32m    599\u001B[0m   \u001B[0;32mif\u001B[0m \u001B[0minspect\u001B[0m\u001B[0;34m.\u001B[0m\u001B[0misfunction\u001B[0m\u001B[0;34m(\u001B[0m\u001B[0mfunc\u001B[0m\u001B[0;34m)\u001B[0m \u001B[0;32mor\u001B[0m \u001B[0minspect\u001B[0m\u001B[0;34m.\u001B[0m\u001B[0mismethod\u001B[0m\u001B[0;34m(\u001B[0m\u001B[0mfunc\u001B[0m\u001B[0;34m)\u001B[0m\u001B[0;34m:\u001B[0m\u001B[0;34m\u001B[0m\u001B[0;34m\u001B[0m\u001B[0m\n",
      "\u001B[0;32m/opt/homebrew/Caskroom/miniforge/base/envs/tensorflow/lib/python3.9/site-packages/tensorflow/python/keras/engine/training.py\u001B[0m in \u001B[0;36mrun_step\u001B[0;34m(data)\u001B[0m\n\u001B[1;32m    836\u001B[0m \u001B[0;34m\u001B[0m\u001B[0m\n\u001B[1;32m    837\u001B[0m       \u001B[0;32mdef\u001B[0m \u001B[0mrun_step\u001B[0m\u001B[0;34m(\u001B[0m\u001B[0mdata\u001B[0m\u001B[0;34m)\u001B[0m\u001B[0;34m:\u001B[0m\u001B[0;34m\u001B[0m\u001B[0;34m\u001B[0m\u001B[0m\n\u001B[0;32m--> 838\u001B[0;31m         \u001B[0moutputs\u001B[0m \u001B[0;34m=\u001B[0m \u001B[0mmodel\u001B[0m\u001B[0;34m.\u001B[0m\u001B[0mtrain_step\u001B[0m\u001B[0;34m(\u001B[0m\u001B[0mdata\u001B[0m\u001B[0;34m)\u001B[0m\u001B[0;34m\u001B[0m\u001B[0;34m\u001B[0m\u001B[0m\n\u001B[0m\u001B[1;32m    839\u001B[0m         \u001B[0;31m# Ensure counter is updated only if `train_step` succeeds.\u001B[0m\u001B[0;34m\u001B[0m\u001B[0;34m\u001B[0m\u001B[0m\n\u001B[1;32m    840\u001B[0m         \u001B[0;32mwith\u001B[0m \u001B[0mops\u001B[0m\u001B[0;34m.\u001B[0m\u001B[0mcontrol_dependencies\u001B[0m\u001B[0;34m(\u001B[0m\u001B[0m_minimum_control_deps\u001B[0m\u001B[0;34m(\u001B[0m\u001B[0moutputs\u001B[0m\u001B[0;34m)\u001B[0m\u001B[0;34m)\u001B[0m\u001B[0;34m:\u001B[0m\u001B[0;34m\u001B[0m\u001B[0;34m\u001B[0m\u001B[0m\n",
      "\u001B[0;32m/opt/homebrew/Caskroom/miniforge/base/envs/tensorflow/lib/python3.9/site-packages/tensorflow/python/keras/engine/training.py\u001B[0m in \u001B[0;36mtrain_step\u001B[0;34m(self, data)\u001B[0m\n\u001B[1;32m    793\u001B[0m     \u001B[0;31m# Run forward pass.\u001B[0m\u001B[0;34m\u001B[0m\u001B[0;34m\u001B[0m\u001B[0m\n\u001B[1;32m    794\u001B[0m     \u001B[0;32mwith\u001B[0m \u001B[0mbackprop\u001B[0m\u001B[0;34m.\u001B[0m\u001B[0mGradientTape\u001B[0m\u001B[0;34m(\u001B[0m\u001B[0;34m)\u001B[0m \u001B[0;32mas\u001B[0m \u001B[0mtape\u001B[0m\u001B[0;34m:\u001B[0m\u001B[0;34m\u001B[0m\u001B[0;34m\u001B[0m\u001B[0m\n\u001B[0;32m--> 795\u001B[0;31m       \u001B[0my_pred\u001B[0m \u001B[0;34m=\u001B[0m \u001B[0mself\u001B[0m\u001B[0;34m(\u001B[0m\u001B[0mx\u001B[0m\u001B[0;34m,\u001B[0m \u001B[0mtraining\u001B[0m\u001B[0;34m=\u001B[0m\u001B[0;32mTrue\u001B[0m\u001B[0;34m)\u001B[0m\u001B[0;34m\u001B[0m\u001B[0;34m\u001B[0m\u001B[0m\n\u001B[0m\u001B[1;32m    796\u001B[0m       loss = self.compiled_loss(\n\u001B[1;32m    797\u001B[0m           y, y_pred, sample_weight, regularization_losses=self.losses)\n",
      "\u001B[0;32m/opt/homebrew/Caskroom/miniforge/base/envs/tensorflow/lib/python3.9/site-packages/tensorflow/python/keras/engine/base_layer.py\u001B[0m in \u001B[0;36m__call__\u001B[0;34m(self, *args, **kwargs)\u001B[0m\n\u001B[1;32m   1028\u001B[0m         with autocast_variable.enable_auto_cast_variables(\n\u001B[1;32m   1029\u001B[0m             self._compute_dtype_object):\n\u001B[0;32m-> 1030\u001B[0;31m           \u001B[0moutputs\u001B[0m \u001B[0;34m=\u001B[0m \u001B[0mcall_fn\u001B[0m\u001B[0;34m(\u001B[0m\u001B[0minputs\u001B[0m\u001B[0;34m,\u001B[0m \u001B[0;34m*\u001B[0m\u001B[0margs\u001B[0m\u001B[0;34m,\u001B[0m \u001B[0;34m**\u001B[0m\u001B[0mkwargs\u001B[0m\u001B[0;34m)\u001B[0m\u001B[0;34m\u001B[0m\u001B[0;34m\u001B[0m\u001B[0m\n\u001B[0m\u001B[1;32m   1031\u001B[0m \u001B[0;34m\u001B[0m\u001B[0m\n\u001B[1;32m   1032\u001B[0m         \u001B[0;32mif\u001B[0m \u001B[0mself\u001B[0m\u001B[0;34m.\u001B[0m\u001B[0m_activity_regularizer\u001B[0m\u001B[0;34m:\u001B[0m\u001B[0;34m\u001B[0m\u001B[0;34m\u001B[0m\u001B[0m\n",
      "\u001B[0;32m/opt/homebrew/Caskroom/miniforge/base/envs/tensorflow/lib/python3.9/site-packages/tensorflow/python/keras/engine/sequential.py\u001B[0m in \u001B[0;36mcall\u001B[0;34m(self, inputs, training, mask)\u001B[0m\n\u001B[1;32m    392\u001B[0m         \u001B[0mkwargs\u001B[0m\u001B[0;34m[\u001B[0m\u001B[0;34m'training'\u001B[0m\u001B[0;34m]\u001B[0m \u001B[0;34m=\u001B[0m \u001B[0mtraining\u001B[0m\u001B[0;34m\u001B[0m\u001B[0;34m\u001B[0m\u001B[0m\n\u001B[1;32m    393\u001B[0m \u001B[0;34m\u001B[0m\u001B[0m\n\u001B[0;32m--> 394\u001B[0;31m       \u001B[0moutputs\u001B[0m \u001B[0;34m=\u001B[0m \u001B[0mlayer\u001B[0m\u001B[0;34m(\u001B[0m\u001B[0minputs\u001B[0m\u001B[0;34m,\u001B[0m \u001B[0;34m**\u001B[0m\u001B[0mkwargs\u001B[0m\u001B[0;34m)\u001B[0m\u001B[0;34m\u001B[0m\u001B[0;34m\u001B[0m\u001B[0m\n\u001B[0m\u001B[1;32m    395\u001B[0m \u001B[0;34m\u001B[0m\u001B[0m\n\u001B[1;32m    396\u001B[0m       \u001B[0;32mif\u001B[0m \u001B[0mlen\u001B[0m\u001B[0;34m(\u001B[0m\u001B[0mnest\u001B[0m\u001B[0;34m.\u001B[0m\u001B[0mflatten\u001B[0m\u001B[0;34m(\u001B[0m\u001B[0moutputs\u001B[0m\u001B[0;34m)\u001B[0m\u001B[0;34m)\u001B[0m \u001B[0;34m!=\u001B[0m \u001B[0;36m1\u001B[0m\u001B[0;34m:\u001B[0m\u001B[0;34m\u001B[0m\u001B[0;34m\u001B[0m\u001B[0m\n",
      "\u001B[0;32m/opt/homebrew/Caskroom/miniforge/base/envs/tensorflow/lib/python3.9/site-packages/tensorflow/python/keras/engine/base_layer.py\u001B[0m in \u001B[0;36m__call__\u001B[0;34m(self, *args, **kwargs)\u001B[0m\n\u001B[1;32m   1028\u001B[0m         with autocast_variable.enable_auto_cast_variables(\n\u001B[1;32m   1029\u001B[0m             self._compute_dtype_object):\n\u001B[0;32m-> 1030\u001B[0;31m           \u001B[0moutputs\u001B[0m \u001B[0;34m=\u001B[0m \u001B[0mcall_fn\u001B[0m\u001B[0;34m(\u001B[0m\u001B[0minputs\u001B[0m\u001B[0;34m,\u001B[0m \u001B[0;34m*\u001B[0m\u001B[0margs\u001B[0m\u001B[0;34m,\u001B[0m \u001B[0;34m**\u001B[0m\u001B[0mkwargs\u001B[0m\u001B[0;34m)\u001B[0m\u001B[0;34m\u001B[0m\u001B[0;34m\u001B[0m\u001B[0m\n\u001B[0m\u001B[1;32m   1031\u001B[0m \u001B[0;34m\u001B[0m\u001B[0m\n\u001B[1;32m   1032\u001B[0m         \u001B[0;32mif\u001B[0m \u001B[0mself\u001B[0m\u001B[0;34m.\u001B[0m\u001B[0m_activity_regularizer\u001B[0m\u001B[0;34m:\u001B[0m\u001B[0;34m\u001B[0m\u001B[0;34m\u001B[0m\u001B[0m\n",
      "\u001B[0;32m/opt/homebrew/Caskroom/miniforge/base/envs/tensorflow/lib/python3.9/site-packages/tensorflow/python/keras/engine/functional.py\u001B[0m in \u001B[0;36mcall\u001B[0;34m(self, *args, **kwargs)\u001B[0m\n\u001B[1;32m   1445\u001B[0m     \u001B[0;32mif\u001B[0m \u001B[0;34m'mask'\u001B[0m \u001B[0;32min\u001B[0m \u001B[0mkwargs\u001B[0m \u001B[0;32mand\u001B[0m \u001B[0;32mnot\u001B[0m \u001B[0mself\u001B[0m\u001B[0;34m.\u001B[0m\u001B[0m_expects_mask_arg\u001B[0m\u001B[0;34m:\u001B[0m\u001B[0;34m\u001B[0m\u001B[0;34m\u001B[0m\u001B[0m\n\u001B[1;32m   1446\u001B[0m       \u001B[0mkwargs\u001B[0m\u001B[0;34m.\u001B[0m\u001B[0mpop\u001B[0m\u001B[0;34m(\u001B[0m\u001B[0;34m'mask'\u001B[0m\u001B[0;34m)\u001B[0m\u001B[0;34m\u001B[0m\u001B[0;34m\u001B[0m\u001B[0m\n\u001B[0;32m-> 1447\u001B[0;31m     \u001B[0;32mreturn\u001B[0m \u001B[0mgetattr\u001B[0m\u001B[0;34m(\u001B[0m\u001B[0mself\u001B[0m\u001B[0;34m.\u001B[0m\u001B[0m_module\u001B[0m\u001B[0;34m,\u001B[0m \u001B[0mself\u001B[0m\u001B[0;34m.\u001B[0m\u001B[0m_method_name\u001B[0m\u001B[0;34m)\u001B[0m\u001B[0;34m(\u001B[0m\u001B[0;34m*\u001B[0m\u001B[0margs\u001B[0m\u001B[0;34m,\u001B[0m \u001B[0;34m**\u001B[0m\u001B[0mkwargs\u001B[0m\u001B[0;34m)\u001B[0m\u001B[0;34m\u001B[0m\u001B[0;34m\u001B[0m\u001B[0m\n\u001B[0m",
      "\u001B[0;32m/opt/homebrew/Caskroom/miniforge/base/envs/tensorflow/lib/python3.9/site-packages/keras/layers/recurrent.py\u001B[0m in \u001B[0;36m__call__\u001B[0;34m(self, inputs, initial_state, constants, **kwargs)\u001B[0m\n\u001B[1;32m    658\u001B[0m \u001B[0;34m\u001B[0m\u001B[0m\n\u001B[1;32m    659\u001B[0m     \u001B[0;32mif\u001B[0m \u001B[0minitial_state\u001B[0m \u001B[0;32mis\u001B[0m \u001B[0;32mNone\u001B[0m \u001B[0;32mand\u001B[0m \u001B[0mconstants\u001B[0m \u001B[0;32mis\u001B[0m \u001B[0;32mNone\u001B[0m\u001B[0;34m:\u001B[0m\u001B[0;34m\u001B[0m\u001B[0;34m\u001B[0m\u001B[0m\n\u001B[0;32m--> 660\u001B[0;31m       \u001B[0;32mreturn\u001B[0m \u001B[0msuper\u001B[0m\u001B[0;34m(\u001B[0m\u001B[0mRNN\u001B[0m\u001B[0;34m,\u001B[0m \u001B[0mself\u001B[0m\u001B[0;34m)\u001B[0m\u001B[0;34m.\u001B[0m\u001B[0m__call__\u001B[0m\u001B[0;34m(\u001B[0m\u001B[0minputs\u001B[0m\u001B[0;34m,\u001B[0m \u001B[0;34m**\u001B[0m\u001B[0mkwargs\u001B[0m\u001B[0;34m)\u001B[0m\u001B[0;34m\u001B[0m\u001B[0;34m\u001B[0m\u001B[0m\n\u001B[0m\u001B[1;32m    661\u001B[0m \u001B[0;34m\u001B[0m\u001B[0m\n\u001B[1;32m    662\u001B[0m     \u001B[0;31m# If any of `initial_state` or `constants` are specified and are Keras\u001B[0m\u001B[0;34m\u001B[0m\u001B[0;34m\u001B[0m\u001B[0m\n",
      "\u001B[0;32m/opt/homebrew/Caskroom/miniforge/base/envs/tensorflow/lib/python3.9/site-packages/keras/engine/base_layer.py\u001B[0m in \u001B[0;36m__call__\u001B[0;34m(self, *args, **kwargs)\u001B[0m\n\u001B[1;32m   1004\u001B[0m         with autocast_variable.enable_auto_cast_variables(\n\u001B[1;32m   1005\u001B[0m             self._compute_dtype_object):\n\u001B[0;32m-> 1006\u001B[0;31m           \u001B[0moutputs\u001B[0m \u001B[0;34m=\u001B[0m \u001B[0mcall_fn\u001B[0m\u001B[0;34m(\u001B[0m\u001B[0minputs\u001B[0m\u001B[0;34m,\u001B[0m \u001B[0;34m*\u001B[0m\u001B[0margs\u001B[0m\u001B[0;34m,\u001B[0m \u001B[0;34m**\u001B[0m\u001B[0mkwargs\u001B[0m\u001B[0;34m)\u001B[0m\u001B[0;34m\u001B[0m\u001B[0;34m\u001B[0m\u001B[0m\n\u001B[0m\u001B[1;32m   1007\u001B[0m \u001B[0;34m\u001B[0m\u001B[0m\n\u001B[1;32m   1008\u001B[0m         \u001B[0;32mif\u001B[0m \u001B[0mself\u001B[0m\u001B[0;34m.\u001B[0m\u001B[0m_activity_regularizer\u001B[0m\u001B[0;34m:\u001B[0m\u001B[0;34m\u001B[0m\u001B[0;34m\u001B[0m\u001B[0m\n",
      "\u001B[0;32m/opt/homebrew/Caskroom/miniforge/base/envs/tensorflow/lib/python3.9/site-packages/keras/layers/recurrent_v2.py\u001B[0m in \u001B[0;36mcall\u001B[0;34m(self, inputs, mask, training, initial_state)\u001B[0m\n\u001B[1;32m   1243\u001B[0m           \u001B[0;31m# GPU implementation when GPU is available.\u001B[0m\u001B[0;34m\u001B[0m\u001B[0;34m\u001B[0m\u001B[0m\n\u001B[1;32m   1244\u001B[0m           \u001B[0;32mif\u001B[0m \u001B[0mcan_use_gpu\u001B[0m\u001B[0;34m:\u001B[0m\u001B[0;34m\u001B[0m\u001B[0;34m\u001B[0m\u001B[0m\n\u001B[0;32m-> 1245\u001B[0;31m             last_output, outputs, new_h, new_c, runtime = gpu_lstm(\n\u001B[0m\u001B[1;32m   1246\u001B[0m                 **gpu_lstm_kwargs)\n\u001B[1;32m   1247\u001B[0m           \u001B[0;32melse\u001B[0m\u001B[0;34m:\u001B[0m\u001B[0;34m\u001B[0m\u001B[0;34m\u001B[0m\u001B[0m\n",
      "\u001B[0;32m/opt/homebrew/Caskroom/miniforge/base/envs/tensorflow/lib/python3.9/site-packages/keras/layers/recurrent_v2.py\u001B[0m in \u001B[0;36mgpu_lstm\u001B[0;34m(inputs, init_h, init_c, kernel, recurrent_kernel, bias, mask, time_major, go_backwards, sequence_lengths)\u001B[0m\n\u001B[1;32m   1495\u001B[0m       \u001B[0;31m# Reverse axis 0 since the input is already convert to time major.\u001B[0m\u001B[0;34m\u001B[0m\u001B[0;34m\u001B[0m\u001B[0m\n\u001B[1;32m   1496\u001B[0m       \u001B[0minputs\u001B[0m \u001B[0;34m=\u001B[0m \u001B[0mtf\u001B[0m\u001B[0;34m.\u001B[0m\u001B[0mreverse\u001B[0m\u001B[0;34m(\u001B[0m\u001B[0minputs\u001B[0m\u001B[0;34m,\u001B[0m \u001B[0maxis\u001B[0m\u001B[0;34m=\u001B[0m\u001B[0;34m[\u001B[0m\u001B[0;36m0\u001B[0m\u001B[0;34m]\u001B[0m\u001B[0;34m)\u001B[0m\u001B[0;34m\u001B[0m\u001B[0;34m\u001B[0m\u001B[0m\n\u001B[0;32m-> 1497\u001B[0;31m     outputs, h, c, _ = tf.raw_ops.CudnnRNN(\n\u001B[0m\u001B[1;32m   1498\u001B[0m         \u001B[0minput\u001B[0m\u001B[0;34m=\u001B[0m\u001B[0minputs\u001B[0m\u001B[0;34m,\u001B[0m \u001B[0minput_h\u001B[0m\u001B[0;34m=\u001B[0m\u001B[0minit_h\u001B[0m\u001B[0;34m,\u001B[0m \u001B[0minput_c\u001B[0m\u001B[0;34m=\u001B[0m\u001B[0minit_c\u001B[0m\u001B[0;34m,\u001B[0m \u001B[0mparams\u001B[0m\u001B[0;34m=\u001B[0m\u001B[0mparams\u001B[0m\u001B[0;34m,\u001B[0m\u001B[0;34m\u001B[0m\u001B[0;34m\u001B[0m\u001B[0m\n\u001B[1;32m   1499\u001B[0m         is_training=True, rnn_mode='lstm')\n",
      "\u001B[0;32m/opt/homebrew/Caskroom/miniforge/base/envs/tensorflow/lib/python3.9/site-packages/tensorflow/python/util/tf_export.py\u001B[0m in \u001B[0;36mwrapper\u001B[0;34m(*args, **kwargs)\u001B[0m\n\u001B[1;32m    402\u001B[0m           \u001B[0;34m'Please pass these args as kwargs instead.'\u001B[0m\u001B[0;34m\u001B[0m\u001B[0;34m\u001B[0m\u001B[0m\n\u001B[1;32m    403\u001B[0m           .format(f=f.__name__, kwargs=f_argspec.args))\n\u001B[0;32m--> 404\u001B[0;31m     \u001B[0;32mreturn\u001B[0m \u001B[0mf\u001B[0m\u001B[0;34m(\u001B[0m\u001B[0;34m**\u001B[0m\u001B[0mkwargs\u001B[0m\u001B[0;34m)\u001B[0m\u001B[0;34m\u001B[0m\u001B[0;34m\u001B[0m\u001B[0m\n\u001B[0m\u001B[1;32m    405\u001B[0m \u001B[0;34m\u001B[0m\u001B[0m\n\u001B[1;32m    406\u001B[0m   \u001B[0;32mreturn\u001B[0m \u001B[0mtf_decorator\u001B[0m\u001B[0;34m.\u001B[0m\u001B[0mmake_decorator\u001B[0m\u001B[0;34m(\u001B[0m\u001B[0mf\u001B[0m\u001B[0;34m,\u001B[0m \u001B[0mwrapper\u001B[0m\u001B[0;34m,\u001B[0m \u001B[0mdecorator_argspec\u001B[0m\u001B[0;34m=\u001B[0m\u001B[0mf_argspec\u001B[0m\u001B[0;34m)\u001B[0m\u001B[0;34m\u001B[0m\u001B[0;34m\u001B[0m\u001B[0m\n",
      "\u001B[0;32m/opt/homebrew/Caskroom/miniforge/base/envs/tensorflow/lib/python3.9/site-packages/tensorflow/python/ops/gen_cudnn_rnn_ops.py\u001B[0m in \u001B[0;36mcudnn_rnn\u001B[0;34m(input, input_h, input_c, params, rnn_mode, input_mode, direction, dropout, seed, seed2, is_training, name)\u001B[0m\n\u001B[1;32m     97\u001B[0m       \u001B[0;32mpass\u001B[0m\u001B[0;34m\u001B[0m\u001B[0;34m\u001B[0m\u001B[0m\n\u001B[1;32m     98\u001B[0m     \u001B[0;32mtry\u001B[0m\u001B[0;34m:\u001B[0m\u001B[0;34m\u001B[0m\u001B[0;34m\u001B[0m\u001B[0m\n\u001B[0;32m---> 99\u001B[0;31m       return cudnn_rnn_eager_fallback(\n\u001B[0m\u001B[1;32m    100\u001B[0m           \u001B[0minput\u001B[0m\u001B[0;34m,\u001B[0m \u001B[0minput_h\u001B[0m\u001B[0;34m,\u001B[0m \u001B[0minput_c\u001B[0m\u001B[0;34m,\u001B[0m \u001B[0mparams\u001B[0m\u001B[0;34m,\u001B[0m \u001B[0mrnn_mode\u001B[0m\u001B[0;34m=\u001B[0m\u001B[0mrnn_mode\u001B[0m\u001B[0;34m,\u001B[0m\u001B[0;34m\u001B[0m\u001B[0;34m\u001B[0m\u001B[0m\n\u001B[1;32m    101\u001B[0m           \u001B[0minput_mode\u001B[0m\u001B[0;34m=\u001B[0m\u001B[0minput_mode\u001B[0m\u001B[0;34m,\u001B[0m \u001B[0mdirection\u001B[0m\u001B[0;34m=\u001B[0m\u001B[0mdirection\u001B[0m\u001B[0;34m,\u001B[0m \u001B[0mdropout\u001B[0m\u001B[0;34m=\u001B[0m\u001B[0mdropout\u001B[0m\u001B[0;34m,\u001B[0m\u001B[0;34m\u001B[0m\u001B[0;34m\u001B[0m\u001B[0m\n",
      "\u001B[0;32m/opt/homebrew/Caskroom/miniforge/base/envs/tensorflow/lib/python3.9/site-packages/tensorflow/python/ops/gen_cudnn_rnn_ops.py\u001B[0m in \u001B[0;36mcudnn_rnn_eager_fallback\u001B[0;34m(input, input_h, input_c, params, rnn_mode, input_mode, direction, dropout, seed, seed2, is_training, name, ctx)\u001B[0m\n\u001B[1;32m    177\u001B[0m   \u001B[0;34m\"direction\"\u001B[0m\u001B[0;34m,\u001B[0m \u001B[0mdirection\u001B[0m\u001B[0;34m,\u001B[0m \u001B[0;34m\"dropout\"\u001B[0m\u001B[0;34m,\u001B[0m \u001B[0mdropout\u001B[0m\u001B[0;34m,\u001B[0m \u001B[0;34m\"seed\"\u001B[0m\u001B[0;34m,\u001B[0m \u001B[0mseed\u001B[0m\u001B[0;34m,\u001B[0m \u001B[0;34m\"seed2\"\u001B[0m\u001B[0;34m,\u001B[0m \u001B[0mseed2\u001B[0m\u001B[0;34m,\u001B[0m\u001B[0;34m\u001B[0m\u001B[0;34m\u001B[0m\u001B[0m\n\u001B[1;32m    178\u001B[0m   \"is_training\", is_training)\n\u001B[0;32m--> 179\u001B[0;31m   _result = _execute.execute(b\"CudnnRNN\", 4, inputs=_inputs_flat,\n\u001B[0m\u001B[1;32m    180\u001B[0m                              attrs=_attrs, ctx=ctx, name=name)\n\u001B[1;32m    181\u001B[0m   \u001B[0;32mif\u001B[0m \u001B[0m_execute\u001B[0m\u001B[0;34m.\u001B[0m\u001B[0mmust_record_gradient\u001B[0m\u001B[0;34m(\u001B[0m\u001B[0;34m)\u001B[0m\u001B[0;34m:\u001B[0m\u001B[0;34m\u001B[0m\u001B[0;34m\u001B[0m\u001B[0m\n",
      "\u001B[0;32m/opt/homebrew/Caskroom/miniforge/base/envs/tensorflow/lib/python3.9/site-packages/tensorflow/python/eager/execute.py\u001B[0m in \u001B[0;36mquick_execute\u001B[0;34m(op_name, num_outputs, inputs, attrs, ctx, name)\u001B[0m\n\u001B[1;32m     57\u001B[0m   \u001B[0;32mtry\u001B[0m\u001B[0;34m:\u001B[0m\u001B[0;34m\u001B[0m\u001B[0;34m\u001B[0m\u001B[0m\n\u001B[1;32m     58\u001B[0m     \u001B[0mctx\u001B[0m\u001B[0;34m.\u001B[0m\u001B[0mensure_initialized\u001B[0m\u001B[0;34m(\u001B[0m\u001B[0;34m)\u001B[0m\u001B[0;34m\u001B[0m\u001B[0;34m\u001B[0m\u001B[0m\n\u001B[0;32m---> 59\u001B[0;31m     tensors = pywrap_tfe.TFE_Py_Execute(ctx._handle, device_name, op_name,\n\u001B[0m\u001B[1;32m     60\u001B[0m                                         inputs, attrs, num_outputs)\n\u001B[1;32m     61\u001B[0m   \u001B[0;32mexcept\u001B[0m \u001B[0mcore\u001B[0m\u001B[0;34m.\u001B[0m\u001B[0m_NotOkStatusException\u001B[0m \u001B[0;32mas\u001B[0m \u001B[0me\u001B[0m\u001B[0;34m:\u001B[0m\u001B[0;34m\u001B[0m\u001B[0;34m\u001B[0m\u001B[0m\n",
      "\u001B[0;31mInvalidArgumentError\u001B[0m: Value for attr 'T' of bool is not in the list of allowed values: half, float, double\n\t; NodeDef: {{node CudnnRNN}}; Op<name=CudnnRNN; signature=input:T, input_h:T, input_c:T, params:T -> output:T, output_h:T, output_c:T, reserve_space:T; attr=T:type,allowed=[DT_HALF, DT_FLOAT, DT_DOUBLE]; attr=rnn_mode:string,default=\"lstm\",allowed=[\"rnn_relu\", \"rnn_tanh\", \"lstm\", \"gru\"]; attr=input_mode:string,default=\"linear_input\",allowed=[\"linear_input\", \"skip_input\", \"auto_select\"]; attr=direction:string,default=\"unidirectional\",allowed=[\"unidirectional\", \"bidirectional\"]; attr=dropout:float,default=0; attr=seed:int,default=0; attr=seed2:int,default=0; attr=is_training:bool,default=true; is_stateful=true> [Op:CudnnRNN]"
     ]
    }
   ],
   "source": [
    "import random\n",
    "import sys\n",
    "\n",
    "for epoch in range(1, 60):\n",
    "    print('epoch', epoch)\n",
    "    # Fit the model for 1 epoch on the available training data\n",
    "    model.fit(x, y,\n",
    "              batch_size=128,\n",
    "              epochs=1)\n",
    "\n",
    "    # Select a text seed at random\n",
    "    start_index = random.randint(0, len(text) - maxlen - 1)\n",
    "    generated_text = text[start_index: start_index + maxlen]\n",
    "    print('--- Generating with seed: \"' + generated_text + '\"')\n",
    "\n",
    "    for temperature in [0.2, 0.5, 1.0, 1.2]:\n",
    "        print('------ temperature:', temperature)\n",
    "        sys.stdout.write(generated_text)\n",
    "\n",
    "        # We generate 400 characters\n",
    "        for i in range(400):\n",
    "            sampled = np.zeros((1, maxlen, len(chars)))\n",
    "            for t, char in enumerate(generated_text):\n",
    "                sampled[0, t, char_indices[char]] = 1.\n",
    "\n",
    "            preds = model.predict(sampled, verbose=0)[0]\n",
    "            next_index = sample(preds, temperature)\n",
    "            next_char = chars[next_index]\n",
    "\n",
    "            generated_text += next_char\n",
    "            generated_text = generated_text[1:]\n",
    "\n",
    "            sys.stdout.write(next_char)\n",
    "            sys.stdout.flush()\n",
    "        print()"
   ],
   "metadata": {
    "collapsed": false,
    "pycharm": {
     "name": "#%%\n"
    }
   }
  },
  {
   "cell_type": "markdown",
   "source": [
    "\n",
    "As you can see, a low temperature results in extremely repetitive and predictable text, but where local structure is highly realistic: in\n",
    "particular, all words (a word being a local pattern of characters) are real English words. With higher temperatures, the generated text\n",
    "becomes more interesting, surprising, even creative; it may sometimes invent completely new words that sound somewhat plausible (such as\n",
    "\"eterned\" or \"troveration\"). With a high temperature, the local structure starts breaking down and most words look like semi-random strings\n",
    "of characters. Without a doubt, here 0.5 is the most interesting temperature for text generation in this specific setup. Always experiment\n",
    "with multiple sampling strategies! A clever balance between learned structure and randomness is what makes generation interesting.\n",
    "\n",
    "Note that by training a bigger model, longer, on more data, you can achieve generated samples that will look much more coherent and\n",
    "realistic than ours. But of course, don't expect to ever generate any meaningful text, other than by random chance: all we are doing is\n",
    "sampling data from a statistical model of which characters come after which characters. Language is a communication channel, and there is\n",
    "a distinction between what communications are about, and the statistical structure of the messages in which communications are encoded. To\n",
    "evidence this distinction, here is a thought experiment: what if human language did a better job at compressing communications, much like\n",
    "our computers do with most of our digital communications? Then language would be no less meaningful, yet it would lack any intrinsic\n",
    "statistical structure, thus making it impossible to learn a language model like we just did.\n",
    "\n",
    "\n",
    "## Take aways\n",
    "\n",
    "* We can generate discrete sequence data by training a model to predict the next tokens(s) given previous tokens.\n",
    "* In the case of text, such a model is called a \"language model\" and could be based on either words or characters.\n",
    "* Sampling the next token requires balance between adhering to what the model judges likely, and introducing randomness.\n",
    "* One way to handle this is the notion of _softmax temperature_. Always experiment with different temperatures to find the \"right\" one."
   ],
   "metadata": {
    "collapsed": false,
    "pycharm": {
     "name": "#%% md\n"
    }
   }
  }
 ],
 "metadata": {
  "kernelspec": {
   "name": "tensorflow",
   "language": "python",
   "display_name": "Python 3.9 (tensorflow)"
  },
  "language_info": {
   "codemirror_mode": {
    "name": "ipython",
    "version": 2
   },
   "file_extension": ".py",
   "mimetype": "text/x-python",
   "name": "python",
   "nbconvert_exporter": "python",
   "pygments_lexer": "ipython2",
   "version": "2.7.6"
  }
 },
 "nbformat": 4,
 "nbformat_minor": 0
}