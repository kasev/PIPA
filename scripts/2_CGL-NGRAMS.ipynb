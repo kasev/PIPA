{
 "cells": [
  {
   "cell_type": "code",
   "execution_count": 1,
   "metadata": {},
   "outputs": [],
   "source": [
    "import numpy as np\n",
    "import pandas as pd\n",
    "import requests\n",
    "import re\n",
    "import nltk\n",
    "from sklearn.feature_extraction.text import CountVectorizer\n",
    "from sklearn.decomposition import TruncatedSVD\n",
    "from sklearn.metrics.pairwise import cosine_similarity\n",
    "import pickle\n",
    "from cltk.stops.grc import STOPS as stopwords\n",
    "from gensim.corpora import Dictionary\n",
    "import unicodedata\n",
    "import json"
   ]
  },
  {
   "cell_type": "code",
   "execution_count": 2,
   "outputs": [],
   "source": [
    "# to communicate with google spreadsheet...\n",
    "import gspread\n",
    "from gspread_dataframe import get_as_dataframe\n",
    "from gspread_dataframe import set_with_dataframe\n",
    "from google.oauth2 import service_account # based on google-auth library\n",
    "\n",
    "file_data = json.load(open(\"../../ServiceAccountsKey.json\", \"r\"))\n",
    "# or load it from a local storage: json.load(open(\"../../ServiceAccountsKey.json\", \"r\"))\n",
    "credentials = service_account.Credentials.from_service_account_info(file_data)\n",
    "gc = gspread.Client(auth=credentials.with_scopes(['https://spreadsheets.google.com/feeds', 'https://www.googleapis.com/auth/drive']))\n",
    "PIPA_data = gc.open_by_url(\"https://docs.google.com/spreadsheets/d/1rV4t0_UV_wcx--UAHVwkqB8Wa_5n9mnpV05yGG1OHqk/edit?usp=sharing\")"
   ],
   "metadata": {
    "collapsed": false
   }
  },
  {
   "cell_type": "markdown",
   "metadata": {
    "colab_type": "text",
    "id": "CMR9KfVlwJbR"
   },
   "source": [
    "# Load the main dataset of ancient Greek texts"
   ]
  },
  {
   "cell_type": "code",
   "execution_count": 4,
   "outputs": [
    {
     "data": {
      "text/plain": "                          filename      author                  title  \\\n1  tlg0003.tlg001.perseus-grc2.xml  Thucydides  The Peloponnesian War   \n6  tlg0006.tlg001.perseus-grc2.xml   Euripides                Cyclops   \n7  tlg0006.tlg004.perseus-grc2.xml   Euripides             Ἡρακλεῖδαι   \n8  tlg0006.tlg005.perseus-grc2.xml   Euripides              Ἱππόλυτος   \n9  tlg0006.tlg006.perseus-grc2.xml   Euripides              Ἀνδρομάχη   \n\n   wordcount author_id          doc_id raw_date  date_avr   date_probs  \\\n1     150118   tlg0003  tlg0003.tlg001   5 B.C.      -4.5  {'-4.5': 1}   \n6       4141   tlg0006  tlg0006.tlg001   5 B.C.      -4.5  {'-4.5': 1}   \n7       6272   tlg0006  tlg0006.tlg004   5 B.C.      -4.5  {'-4.5': 1}   \n8       8257   tlg0006  tlg0006.tlg005   5 B.C.      -4.5  {'-4.5': 1}   \n9       7397   tlg0006  tlg0006.tlg006   5 B.C.      -4.5  {'-4.5': 1}   \n\n   date_manual  ... count_λυπέω count_λυπηρός count_λύπη  count_ἄλγος  \\\n1         -4.5  ...          10            11          4            0   \n6         -4.5  ...           1             0          0            0   \n7         -4.5  ...           0             0          2            0   \n8         -4.5  ...           0             1          5            4   \n9         -4.5  ...           0             0          4            0   \n\n  count_ἄλγημα  count_ἀλγέω count_ὀδύνη  count_ὀδυνάω count_πονέω count_πόνος  \n1            0            2           0             0          10          21  \n6            0            0           0             0           0           7  \n7            0            0           0             0           1          10  \n8            0            0           3             1           1           7  \n9            0            5           0             0           1           4  \n\n[5 rows x 31 columns]",
      "text/html": "<div>\n<style scoped>\n    .dataframe tbody tr th:only-of-type {\n        vertical-align: middle;\n    }\n\n    .dataframe tbody tr th {\n        vertical-align: top;\n    }\n\n    .dataframe thead th {\n        text-align: right;\n    }\n</style>\n<table border=\"1\" class=\"dataframe\">\n  <thead>\n    <tr style=\"text-align: right;\">\n      <th></th>\n      <th>filename</th>\n      <th>author</th>\n      <th>title</th>\n      <th>wordcount</th>\n      <th>author_id</th>\n      <th>doc_id</th>\n      <th>raw_date</th>\n      <th>date_avr</th>\n      <th>date_probs</th>\n      <th>date_manual</th>\n      <th>...</th>\n      <th>count_λυπέω</th>\n      <th>count_λυπηρός</th>\n      <th>count_λύπη</th>\n      <th>count_ἄλγος</th>\n      <th>count_ἄλγημα</th>\n      <th>count_ἀλγέω</th>\n      <th>count_ὀδύνη</th>\n      <th>count_ὀδυνάω</th>\n      <th>count_πονέω</th>\n      <th>count_πόνος</th>\n    </tr>\n  </thead>\n  <tbody>\n    <tr>\n      <th>1</th>\n      <td>tlg0003.tlg001.perseus-grc2.xml</td>\n      <td>Thucydides</td>\n      <td>The Peloponnesian War</td>\n      <td>150118</td>\n      <td>tlg0003</td>\n      <td>tlg0003.tlg001</td>\n      <td>5 B.C.</td>\n      <td>-4.5</td>\n      <td>{'-4.5': 1}</td>\n      <td>-4.5</td>\n      <td>...</td>\n      <td>10</td>\n      <td>11</td>\n      <td>4</td>\n      <td>0</td>\n      <td>0</td>\n      <td>2</td>\n      <td>0</td>\n      <td>0</td>\n      <td>10</td>\n      <td>21</td>\n    </tr>\n    <tr>\n      <th>6</th>\n      <td>tlg0006.tlg001.perseus-grc2.xml</td>\n      <td>Euripides</td>\n      <td>Cyclops</td>\n      <td>4141</td>\n      <td>tlg0006</td>\n      <td>tlg0006.tlg001</td>\n      <td>5 B.C.</td>\n      <td>-4.5</td>\n      <td>{'-4.5': 1}</td>\n      <td>-4.5</td>\n      <td>...</td>\n      <td>1</td>\n      <td>0</td>\n      <td>0</td>\n      <td>0</td>\n      <td>0</td>\n      <td>0</td>\n      <td>0</td>\n      <td>0</td>\n      <td>0</td>\n      <td>7</td>\n    </tr>\n    <tr>\n      <th>7</th>\n      <td>tlg0006.tlg004.perseus-grc2.xml</td>\n      <td>Euripides</td>\n      <td>Ἡρακλεῖδαι</td>\n      <td>6272</td>\n      <td>tlg0006</td>\n      <td>tlg0006.tlg004</td>\n      <td>5 B.C.</td>\n      <td>-4.5</td>\n      <td>{'-4.5': 1}</td>\n      <td>-4.5</td>\n      <td>...</td>\n      <td>0</td>\n      <td>0</td>\n      <td>2</td>\n      <td>0</td>\n      <td>0</td>\n      <td>0</td>\n      <td>0</td>\n      <td>0</td>\n      <td>1</td>\n      <td>10</td>\n    </tr>\n    <tr>\n      <th>8</th>\n      <td>tlg0006.tlg005.perseus-grc2.xml</td>\n      <td>Euripides</td>\n      <td>Ἱππόλυτος</td>\n      <td>8257</td>\n      <td>tlg0006</td>\n      <td>tlg0006.tlg005</td>\n      <td>5 B.C.</td>\n      <td>-4.5</td>\n      <td>{'-4.5': 1}</td>\n      <td>-4.5</td>\n      <td>...</td>\n      <td>0</td>\n      <td>1</td>\n      <td>5</td>\n      <td>4</td>\n      <td>0</td>\n      <td>0</td>\n      <td>3</td>\n      <td>1</td>\n      <td>1</td>\n      <td>7</td>\n    </tr>\n    <tr>\n      <th>9</th>\n      <td>tlg0006.tlg006.perseus-grc2.xml</td>\n      <td>Euripides</td>\n      <td>Ἀνδρομάχη</td>\n      <td>7397</td>\n      <td>tlg0006</td>\n      <td>tlg0006.tlg006</td>\n      <td>5 B.C.</td>\n      <td>-4.5</td>\n      <td>{'-4.5': 1}</td>\n      <td>-4.5</td>\n      <td>...</td>\n      <td>0</td>\n      <td>0</td>\n      <td>4</td>\n      <td>0</td>\n      <td>0</td>\n      <td>5</td>\n      <td>0</td>\n      <td>0</td>\n      <td>1</td>\n      <td>4</td>\n    </tr>\n  </tbody>\n</table>\n<p>5 rows × 31 columns</p>\n</div>"
     },
     "execution_count": 4,
     "metadata": {},
     "output_type": "execute_result"
    }
   ],
   "source": [
    "cgl = pd.read_json(\"../data/large_data/cgl.json\")\n",
    "cgl.head()"
   ],
   "metadata": {
    "collapsed": false
   }
  },
  {
   "cell_type": "code",
   "execution_count": 5,
   "outputs": [
    {
     "data": {
      "text/plain": "62"
     },
     "execution_count": 5,
     "metadata": {},
     "output_type": "execute_result"
    }
   ],
   "source": [
    "cgl[\"lemmata\"].apply(lambda x: x.count(\"συζάω\")).sum()"
   ],
   "metadata": {
    "collapsed": false
   }
  },
  {
   "cell_type": "code",
   "execution_count": 6,
   "outputs": [],
   "source": [
    "sents = [sen for work in cgl[\"lemmatized_sentences_repl\"] for sen in work]"
   ],
   "metadata": {
    "collapsed": false
   }
  },
  {
   "cell_type": "code",
   "execution_count": 7,
   "outputs": [
    {
     "data": {
      "text/plain": "243579"
     },
     "execution_count": 7,
     "metadata": {},
     "output_type": "execute_result"
    }
   ],
   "source": [
    "len(sents)"
   ],
   "metadata": {
    "collapsed": false
   }
  },
  {
   "cell_type": "code",
   "execution_count": 8,
   "outputs": [],
   "source": [
    "min_freq = 50\n",
    "\n",
    "def get_vocab(docs, min_freq=min_freq):\n",
    "    words_flat = [item for sublist in docs for item in sublist]\n",
    "    word_freq_tups = nltk.FreqDist(words_flat).most_common()\n",
    "    vocabulary = [tup[0] for tup in word_freq_tups if tup[1] >= min_freq]\n",
    "    #vocab_freqs = [len([doc for doc in docs if word in doc]) for word in vocabulary]\n",
    "    return word_freq_tups, words_flat, vocabulary # , vocab_freqs"
   ],
   "metadata": {
    "collapsed": false
   }
  },
  {
   "cell_type": "code",
   "execution_count": 9,
   "outputs": [],
   "source": [
    "word_freqs, words, vocabulary = get_vocab(sents)"
   ],
   "metadata": {
    "collapsed": false
   }
  },
  {
   "cell_type": "code",
   "execution_count": 10,
   "outputs": [
    {
     "data": {
      "text/plain": "[('εἰμί', 79567),\n ('οὗτος', 60113),\n ('αὐτός', 42056),\n ('λέγω', 29114),\n ('τις', 27416),\n ('ἔχω', 22584),\n ('γίγνομαι', 21737),\n ('πολύς', 20652),\n ('πᾶς', 19062),\n ('ἄλλος', 18361)]"
     },
     "execution_count": 10,
     "metadata": {},
     "output_type": "execute_result"
    }
   ],
   "source": [
    "word_freqs[:10]"
   ],
   "metadata": {
    "collapsed": false
   }
  },
  {
   "cell_type": "code",
   "execution_count": 11,
   "outputs": [
    {
     "data": {
      "text/plain": "1822082"
     },
     "execution_count": 11,
     "metadata": {},
     "output_type": "execute_result"
    }
   ],
   "source": [
    "len(words)"
   ],
   "metadata": {
    "collapsed": false
   }
  },
  {
   "cell_type": "code",
   "execution_count": 12,
   "outputs": [
    {
     "data": {
      "text/plain": "3476"
     },
     "execution_count": 12,
     "metadata": {},
     "output_type": "execute_result"
    }
   ],
   "source": [
    "len(vocabulary)"
   ],
   "metadata": {
    "collapsed": false
   }
  },
  {
   "cell_type": "code",
   "execution_count": 13,
   "outputs": [
    {
     "name": "stdout",
     "output_type": "stream",
     "text": [
      "['εἰμί', 'οὗτος', 'αὐτός', 'λέγω', 'τις', 'ἔχω', 'γίγνομαι', 'πολύς', 'πᾶς', 'ἄλλος', 'ποιέω', 'φημί', 'οὐδείς', 'τίς', 'δέω', 'λόγος', 'τοιοῦτος', 'πόλις', 'ἀγαθός', 'δοκέω']\n"
     ]
    }
   ],
   "source": [
    "print(vocabulary[:20])"
   ],
   "metadata": {
    "collapsed": false
   }
  },
  {
   "cell_type": "code",
   "execution_count": 14,
   "outputs": [],
   "source": [
    "def normalize_encoding(string):\n",
    "    return unicodedata.normalize(\"NFC\", string)"
   ],
   "metadata": {
    "collapsed": false
   }
  },
  {
   "cell_type": "code",
   "execution_count": 15,
   "outputs": [],
   "source": [
    "stopwords = [normalize_encoding(w) for w in stopwords] + [\"εἰμί\", \"οὗτος\", \"αὐτός\", \"αὐτός\", \"τις\", \"τίς\"]"
   ],
   "metadata": {
    "collapsed": false
   }
  },
  {
   "cell_type": "code",
   "execution_count": 16,
   "outputs": [
    {
     "data": {
      "text/plain": "['λέγω',\n 'ἔχω',\n 'γίγνομαι',\n 'πολύς',\n 'πᾶς',\n 'ποιέω',\n 'φημί',\n 'δέω',\n 'λόγος',\n 'πόλις']"
     },
     "execution_count": 16,
     "metadata": {},
     "output_type": "execute_result"
    }
   ],
   "source": [
    "vocabulary = [w for w in vocabulary if w not in stopwords]\n",
    "vocabulary[:10]"
   ],
   "metadata": {
    "collapsed": false
   }
  },
  {
   "cell_type": "code",
   "execution_count": 17,
   "outputs": [
    {
     "data": {
      "text/plain": "3462"
     },
     "execution_count": 17,
     "metadata": {},
     "output_type": "execute_result"
    }
   ],
   "source": [
    "len(vocabulary)"
   ],
   "metadata": {
    "collapsed": false
   }
  },
  {
   "cell_type": "code",
   "execution_count": 18,
   "outputs": [],
   "source": [
    "# continuous bigrams & trigrams, within sentences only\n",
    "sents_bigrams = [list(el) for sublist in [[ng for ng in nltk.bigrams(sent)] for sent in sents] for el in sublist]\n",
    "\n",
    "sents_trigrams = [list(el) for sublist in [[ng for ng in nltk.trigrams(sent)] for sent in sents] for el in sublist]"
   ],
   "metadata": {
    "collapsed": false
   }
  },
  {
   "cell_type": "code",
   "execution_count": 19,
   "outputs": [
    {
     "data": {
      "text/plain": "3220729"
     },
     "execution_count": 19,
     "metadata": {},
     "output_type": "execute_result"
    }
   ],
   "source": [
    "ngrams_data = sents + sents_bigrams + sents_trigrams\n",
    "len(ngrams_data)"
   ],
   "metadata": {
    "collapsed": false
   }
  },
  {
   "cell_type": "code",
   "execution_count": 20,
   "outputs": [
    {
     "data": {
      "text/plain": "['tlg0610', 'tlg0058', 'tlg0591', 'tlg0027', 'tlg0006']"
     },
     "execution_count": 20,
     "metadata": {},
     "output_type": "execute_result"
    }
   ],
   "source": [
    "author_ids = list(set(cgl[\"author_id\"]))\n",
    "author_ids[:5]"
   ],
   "metadata": {
    "collapsed": false
   }
  },
  {
   "cell_type": "code",
   "execution_count": 21,
   "outputs": [],
   "source": [
    "with open(\"../data/large_data/corpus_ngrams.txt\", \"w\", encoding=\"utf-8\") as f:\n",
    "\n",
    "    f.writelines(\"\\n\".join([\" \".join(ngram) for ngram in ngrams_data]))"
   ],
   "metadata": {
    "collapsed": false
   }
  },
  {
   "cell_type": "code",
   "execution_count": 22,
   "outputs": [],
   "source": [
    "pickle.dump(vocabulary, open(\"../data/vocabulary.pickle\", \"wb\"))"
   ],
   "metadata": {
    "collapsed": false
   }
  },
  {
   "cell_type": "code",
   "execution_count": 23,
   "outputs": [],
   "source": [
    "pickle.dump(word_freqs, open(\"../data/word_freqs_all.pickle\", \"wb\"))"
   ],
   "metadata": {
    "collapsed": false
   }
  },
  {
   "cell_type": "code",
   "execution_count": 24,
   "outputs": [],
   "source": [
    "word_freqs_vocabulary = pd.DataFrame([tup for tup in word_freqs if tup[0] in vocabulary], columns=[\"word\", \"count\"])"
   ],
   "metadata": {
    "collapsed": false
   }
  },
  {
   "cell_type": "code",
   "execution_count": 25,
   "outputs": [],
   "source": [
    "word_freqs_vocabulary.to_csv(\"../data/word_freqs_vocabulary.csv\", index=False)"
   ],
   "metadata": {
    "collapsed": false
   }
  },
  {
   "cell_type": "markdown",
   "source": [
    "# Ngrams by doc ids"
   ],
   "metadata": {
    "collapsed": false
   }
  },
  {
   "cell_type": "code",
   "execution_count": 21,
   "outputs": [
    {
     "data": {
      "text/plain": "371"
     },
     "execution_count": 21,
     "metadata": {},
     "output_type": "execute_result"
    }
   ],
   "source": [
    "doc_ids = list(set(cgl[\"doc_id\"]))\n",
    "len(doc_ids)"
   ],
   "metadata": {
    "collapsed": false
   }
  },
  {
   "cell_type": "code",
   "execution_count": 26,
   "outputs": [],
   "source": [
    "cgl_subset = cgl[cgl[\"doc_id\"]==\"tlg0086.tlg010\"]\n",
    "sents = [[sen for work in cgl_subset[\"lemmatized_sentences_repl\"] for sen in work][0]]\n",
    "sents_bigrams = [list(el) for sublist in [[ng for ng in nltk.bigrams(sent)] for sent in sents] for el in sublist]\n",
    "sents_trigrams = [list(el) for sublist in [[ng for ng in nltk.trigrams(sent)] for sent in sents] for el in sublist]\n",
    "ngrams_data = sents + sents_bigrams + sents_trigrams"
   ],
   "metadata": {
    "collapsed": false
   }
  },
  {
   "cell_type": "code",
   "execution_count": 34,
   "outputs": [
    {
     "data": {
      "text/plain": "'πᾶς τέχνη πᾶς μέθοδος πρᾶξις προαίρεσις ἀγαθός τις ἐφίημι δοκέω'"
     },
     "execution_count": 34,
     "metadata": {},
     "output_type": "execute_result"
    }
   ],
   "source": [
    "\" \".join(sents[0])"
   ],
   "metadata": {
    "collapsed": false
   }
  },
  {
   "cell_type": "code",
   "execution_count": 36,
   "outputs": [
    {
     "data": {
      "text/plain": "['πᾶς τέχνη',\n 'τέχνη πᾶς',\n 'πᾶς μέθοδος',\n 'μέθοδος πρᾶξις',\n 'πρᾶξις προαίρεσις',\n 'προαίρεσις ἀγαθός',\n 'ἀγαθός τις',\n 'τις ἐφίημι',\n 'ἐφίημι δοκέω']"
     },
     "execution_count": 36,
     "metadata": {},
     "output_type": "execute_result"
    }
   ],
   "source": [
    "[\" \".join(bigram) for bigram in sents_bigrams]"
   ],
   "metadata": {
    "collapsed": false
   }
  },
  {
   "cell_type": "code",
   "execution_count": 29,
   "outputs": [
    {
     "data": {
      "text/plain": "[['πᾶς', 'τέχνη', 'πᾶς'],\n ['τέχνη', 'πᾶς', 'μέθοδος'],\n ['πᾶς', 'μέθοδος', 'πρᾶξις'],\n ['μέθοδος', 'πρᾶξις', 'προαίρεσις'],\n ['πρᾶξις', 'προαίρεσις', 'ἀγαθός'],\n ['προαίρεσις', 'ἀγαθός', 'τις'],\n ['ἀγαθός', 'τις', 'ἐφίημι'],\n ['τις', 'ἐφίημι', 'δοκέω']]"
     },
     "execution_count": 29,
     "metadata": {},
     "output_type": "execute_result"
    }
   ],
   "source": [
    "sents_trigrams"
   ],
   "metadata": {
    "collapsed": false
   }
  },
  {
   "cell_type": "code",
   "execution_count": 32,
   "outputs": [
    {
     "data": {
      "text/plain": "'πᾶσα τέχνη καὶ πᾶσα μέθοδος, ὁμοίως δὲ πρᾶξίς τε καὶ προαίρεσις, ἀγαθοῦ τινὸς ἐφίεσθαι δοκεῖ· διὸ καλῶς ἀπεφήναντο τἀγαθόν, οὗ πάντʼ ἐφίεται. διαφορὰ δέ τις φαίνεται τῶν τελῶν· τὰ μὲν γάρ εἰσιν ἐνέργε'"
     },
     "execution_count": 32,
     "metadata": {},
     "output_type": "execute_result"
    }
   ],
   "source": [
    "cgl_subset[\"clean_string\"].tolist()[0][:200]"
   ],
   "metadata": {
    "collapsed": false
   }
  },
  {
   "cell_type": "code",
   "execution_count": 27,
   "outputs": [],
   "source": [
    "line = 0\n",
    "ids_lines = {}\n",
    "\n",
    "f = open(\"../data/large_data/corpus_ngrams_bydocid.txt\", \"w\", encoding=\"utf-8\")\n",
    "for doc_id in doc_ids:\n",
    "    cgl_subset = cgl[cgl[\"doc_id\"]==doc_id]\n",
    "    sents = [sen for work in cgl_subset[\"lemmatized_sentences_repl\"] for sen in work]\n",
    "    sents_bigrams = [list(el) for sublist in [[ng for ng in nltk.bigrams(sent)] for sent in sents] for el in sublist]\n",
    "    sents_trigrams = [list(el) for sublist in [[ng for ng in nltk.trigrams(sent)] for sent in sents] for el in sublist]\n",
    "    ngrams_data = sents + sents_bigrams + sents_trigrams\n",
    "    ngrams_data = [\" \".join(ngram) for ngram in ngrams_data]\n",
    "    f.writelines(\"\\n\".join(ngrams_data)+\"\\n\")\n",
    "    if bool(ngrams_data):\n",
    "        ids_lines[doc_id] = (line, line+len(ngrams_data))\n",
    "        line += len(ngrams_data)\n",
    "    else:\n",
    "        ids_lines[doc_id] = (line, line+1)\n",
    "        line += 1"
   ],
   "metadata": {
    "collapsed": false
   }
  },
  {
   "cell_type": "code",
   "execution_count": 28,
   "outputs": [
    {
     "data": {
      "text/plain": "{'tlg0086.tlg002': (0, 17412),\n 'tlg0627.tlg017': (17412, 29695),\n 'tlg0086.tlg022': (29695, 51922),\n 'tlg0610.perseu': (51922, 53930),\n 'tlg0006.tlg004': (53930, 59767),\n 'tlg0086.tlg016': (59767, 61837),\n 'tlg0014.tlg012': (61837, 63147),\n 'tlg0010.tlg005': (63147, 66440),\n 'tlg0026.tlg002': (66440, 78039),\n 'tlg0086.tlg020': (78039, 79424),\n 'tlg0066.tlg001': (79424, 81919),\n 'tlg0059.tlg025': (81919, 89009),\n 'tlg0059.tlg016': (89009, 91108),\n 'tlg0017.tlg011': (91108, 94542),\n 'tlg0199.tlg001': (94542, 98962),\n 'tlg0086.tlg024': (98962, 100855),\n 'tlg0014.tlg053': (100855, 102777),\n 'tlg0006.tlg015': (102777, 113986),\n 'tlg0093.tlg010': (113986, 125710),\n 'tlg0032.tlg008': (125710, 131206),\n 'tlg1210.tlg002': (131206, 139970),\n 'tlg0006.tlg019': (139970, 146011),\n 'tlg0017.tlg012': (146011, 146917),\n 'tlg0093.ogl001': (146917, 151286),\n 'tlg0014.tlg039': (151286, 153903),\n 'tlg0030.tlg001': (153903, 155191),\n 'tlg0627.tlg015': (155191, 157309),\n 'tlg0085.tlg005': (157309, 166777),\n 'tlg0059.tlg018': (166777, 173662),\n 'tlg0003.tlg001': (173662, 317085),\n 'tlg0032.tlg011': (317085, 320599),\n 'tlg0032.tlg014': (320599, 328683),\n 'tlg0059.tlg019': (328683, 335240),\n 'tlg0627.tlg042': (335240, 336760),\n 'tlg0627.tlg005': (336760, 342111),\n 'tlg0019.tlg009': (342111, 350506),\n 'tlg0540.tlg015': (350506, 351114),\n 'tlg0032.tlg013': (351114, 357167),\n 'tlg0086.tlg009': (357167, 378476),\n 'tlg0014.tlg042': (378476, 380570),\n 'tlg0010.tlg030': (380570, 380933),\n 'tlg0032.tlg001': (380933, 443066),\n 'tlg0627.tlg026': (443066, 450661),\n 'tlg0627.tlg053': (450661, 451739),\n 'tlg0014.tlg058': (451739, 456323),\n 'tlg0014.tlg056': (456323, 459320),\n 'tlg0017.tlg009': (459320, 461527),\n 'tlg0014.tlg047': (461527, 466573),\n 'tlg0540.tlg014': (466573, 468967),\n 'tlg0010.tlg007': (468967, 471519),\n 'tlg0032.tlg003': (471519, 488131),\n 'tlg0030.tlg004': (488131, 490646),\n 'tlg0017.tlg008': (490646, 493739),\n 'tlg0540.tlg005': (493739, 494026),\n 'tlg0627.tlg004': (494026, 499468),\n 'tlg0019.tlg006': (499468, 509400),\n 'tlg0014.tlg003': (509400, 511616),\n 'tlg0540.tlg032': (511616, 513402),\n 'tlg0627.tlg031': (513402, 531591),\n 'tlg0006.tlg017': (531591, 539953),\n 'tlg0086.tlg017': (539953, 545150),\n 'tlg0006.tlg010': (545150, 554907),\n 'tlg0086.tlg010': (554907, 600371),\n 'tlg0086.tlg021': (600371, 605436),\n 'tlg0627.tlg052': (605436, 607403),\n 'tlg0017.tlg007': (607403, 610149),\n 'tlg0030.tlg002': (610149, 610937),\n 'tlg0014.tlg051': (610937, 612193),\n 'tlg0540.tlg018': (612193, 613465),\n 'tlg0627.tlg038': (613465, 616926),\n 'tlg0065.tlg001': (616926, 625461),\n 'tlg0540.tlg026': (625461, 626764),\n 'tlg0014.tlg034': (626764, 629770),\n 'tlg0014.tlg055': (629770, 631753),\n 'tlg0627.tlg002': (631753, 638126),\n 'tlg0540.tlg007': (638126, 640008),\n 'tlg0093.tlg006': (640008, 642342),\n 'tlg0010.tlg004': (642342, 645076),\n 'tlg1486.tlg001': (645076, 648083),\n 'tlg0010.tlg026': (648083, 648774),\n 'tlg0014.tlg040': (648774, 652562),\n 'tlg0627.tlg041': (652562, 652949),\n 'tlg0627.tlg050': (652949, 654241),\n 'tlg0086.tlg037': (654241, 659237),\n 'tlg0059.tlg015': (659237, 661259),\n 'tlg0540.tlg019': (661259, 664266),\n 'tlg0627.tlg023': (664266, 696308),\n 'tlg0014.tlg057': (696308, 700541),\n 'tlg0019.tlg005': (700541, 707766),\n 'tlg0032.tlg004': (707766, 716027),\n 'tlg0088.tlg001': (716027, 730883),\n 'tlg0014.tlg061': (730883, 734352),\n 'tlg0011.tlg007': (734352, 744453),\n 'tlg0014.tlg031': (744453, 745378),\n 'tlg0085.tlg004': (745378, 751409),\n 'tlg0010.tlg027': (751409, 752571),\n 'tlg0059.tlg005': (752571, 768383),\n 'tlg0059.tlg014': (768383, 772126),\n 'tlg0627.tlg037': (772126, 772504),\n 'tlg0010.tlg001': (772504, 773530),\n 'tlg0085.tlg006': (773530, 779660),\n 'tlg0627.tlg001': (779660, 784789),\n 'tlg0059.tlg028': (784789, 789320),\n 'tlg0014.tlg006': (789320, 791189),\n 'tlg0032.tlg009': (791189, 798295),\n 'tlg0627.tlg019': (798295, 801753),\n 'tlg0014.tlg044': (801753, 805669),\n 'tlg0059.tlg035': (805669, 811969),\n 'tlg0086.tlg054': (811969, 813769),\n 'tlg1210.tlg001': (813769, 817229),\n 'tlg0028.tlg005': (817229, 822712),\n 'tlg0059.tlg011': (822712, 838513),\n 'tlg0540.tlg027': (838513, 839193),\n 'tlg0086.tlg034': (839193, 847908),\n 'tlg0086.tlg006': (847908, 856796),\n 'tlg0540.tlg025': (856796, 858754),\n 'tlg0010.tlg020': (858754, 866811),\n 'tlg0010.tlg021': (866811, 881864),\n 'tlg0014.tlg048': (881864, 885140),\n 'tlg0032.tlg002': (885140, 918377),\n 'tlg0014.tlg062': (918377, 926638),\n 'tlg0014.tlg060': (926638, 929254),\n 'tlg0027.tlg002': (929254, 930998),\n 'tlg0627.tlg006': (930998, 970623),\n 'tlg0010.tlg016': (970623, 976368),\n 'tlg0540.tlg022': (976368, 977458),\n 'tlg0059.tlg013': (977458, 985517),\n 'tlg0086.tlg031': (985517, 1025213),\n 'tlg0540.tlg016': (1025213, 1026308),\n 'tlg0017.tlg004': (1026308, 1027952),\n 'tlg0006.tlg007': (1027952, 1035822),\n 'tlg0014.tlg054': (1035822, 1038823),\n 'tlg0059.tlg004': (1038823, 1058536),\n 'tlg0627.tlg007': (1058536, 1063033),\n 'tlg0086.tlg045': (1063033, 1064423),\n 'tlg0086.tlg015': (1064423, 1067872),\n 'tlg0540.tlg008': (1067872, 1068732),\n 'tlg0086.tlg029': (1068732, 1074941),\n 'tlg0010.tlg010': (1074941, 1077501),\n 'tlg0032.tlg012': (1077501, 1082788),\n 'tlg0006.tlg011': (1082788, 1090815),\n 'tlg0593.1st1K0': (1090815, 1092826),\n 'tlg0014.tlg027': (1092826, 1097380),\n 'tlg0540.tlg013': (1097380, 1102099),\n 'tlg0017.tlg001': (1102099, 1104659),\n 'tlg0059.tlg008': (1104659, 1120038),\n 'tlg0026.tlg004': (1120038, 1123783),\n 'tlg0591.1st1K0': (1123783, 1124495),\n 'tlg0085.tlg001': (1124495, 1130270),\n 'tlg0010.tlg025': (1130270, 1130885),\n 'tlg0014.tlg025': (1130885, 1137365),\n 'tlg0014.tlg035': (1137365, 1140580),\n 'tlg0064.tlg001': (1140580, 1141284),\n 'tlg0540.tlg011': (1141284, 1141769),\n 'tlg0059.tlg034': (1141769, 1240780),\n 'tlg0059.tlg030': (1240780, 1319586),\n 'tlg0627.tlg027': (1319586, 1323835),\n 'tlg0093.tlg005': (1323835, 1328498),\n 'tlg0019.tlg010': (1328498, 1334879),\n 'tlg0006.tlg012': (1334879, 1343282),\n 'tlg0010.tlg003': (1343282, 1344334),\n 'tlg0014.tlg063': (1344334, 1349631),\n 'tlg0059.tlg001': (1349631, 1353875),\n 'tlg0627.tlg010': (1353875, 1371710),\n 'tlg0540.tlg004': (1371710, 1372572),\n 'tlg0059.tlg010': (1372572, 1387764),\n 'tlg0027.tlg001': (1387764, 1397095),\n 'tlg0086.tlg003': (1397095, 1412776),\n 'tlg0014.tlg030': (1412776, 1415004),\n 'tlg0627.tlg055': (1415004, 1426759),\n 'tlg0540.tlg001': (1426759, 1428993),\n 'tlg0026.tlg003': (1428993, 1446686),\n 'tlg0011.tlg008': (1446686, 1448559),\n 'tlg0014.tlg028': (1448559, 1450021),\n 'tlg0540.tlg012': (1450021, 1454708),\n 'tlg0535.tlg001': (1454708, 1456583),\n 'tlg0010.tlg002': (1456583, 1459923),\n 'tlg0006.tlg008': (1459923, 1467822),\n 'tlg0059.tlg017': (1467822, 1470767),\n 'tlg0059.tlg029': (1470767, 1472171),\n 'tlg0010.tlg006': (1472171, 1474909),\n 'tlg0006.tlg001': (1474909, 1479063),\n 'tlg0059.tlg022': (1479063, 1494757),\n 'tlg0093.tlg009': (1494757, 1501133),\n 'tlg0058.tlg001': (1501133, 1514495),\n 'tlg0086.tlg038': (1514495, 1550321),\n 'tlg0010.tlg022': (1550321, 1550827),\n 'tlg0014.tlg059': (1550827, 1560223),\n 'tlg0011.tlg006': (1560223, 1568706),\n 'tlg0010.tlg029': (1568706, 1569458),\n 'tlg0627.tlg033': (1569458, 1582420),\n 'tlg0086.tlg043': (1582420, 1584906),\n 'tlg0540.tlg024': (1584906, 1586150),\n 'tlg0014.tlg004': (1586150, 1589265),\n 'tlg0014.tlg015': (1589265, 1591348),\n 'tlg0014.tlg032': (1591348, 1593137),\n 'tlg0014.tlg045': (1593137, 1598661),\n 'tlg0014.tlg043': (1598661, 1604869),\n 'tlg0028.tlg004': (1604869, 1606598),\n 'tlg0059.tlg027': (1606598, 1609938),\n 'tlg0627.tlg022': (1609938, 1611349),\n 'tlg0627.tlg011': (1611349, 1615378),\n 'tlg0010.tlg013': (1615378, 1618114),\n 'tlg0006.tlg018': (1618114, 1627863),\n 'tlg0010.tlg028': (1627863, 1628109),\n 'tlg0540.tlg006': (1628109, 1630641),\n 'tlg0086.tlg008': (1630641, 1631678),\n 'tlg0014.tlg036': (1631678, 1635587),\n 'tlg0032.tlg010': (1635587, 1640178),\n 'tlg0017.tlg010': (1640178, 1642202),\n 'tlg0199.tlg002': (1642202, 1643780),\n 'tlg0017.tlg005': (1643780, 1646771),\n 'tlg0011.tlg001': (1646771, 1654371),\n 'tlg0010.tlg014': (1654371, 1657726),\n 'tlg0019.tlg001': (1657726, 1664344),\n 'tlg0086.tlg014': (1664344, 1742972),\n 'tlg0032.tlg007': (1742972, 1814799),\n 'tlg0086.tlg013': (1814799, 1828732),\n 'tlg0086.tlg030': (1828732, 1861450),\n 'tlg0540.tlg028': (1861450, 1862334),\n 'tlg0014.tlg018': (1862334, 1883578),\n 'tlg0010.tlg017': (1883578, 1890918),\n 'tlg0627.tlg025': (1890918, 1897626),\n 'tlg0014.tlg001': (1897626, 1899360),\n 'tlg0014.tlg046': (1899360, 1901122),\n 'tlg0086.tlg052': (1901122, 1902918),\n 'tlg0030.tlg005': (1902918, 1904846),\n 'tlg0027.tlg004': (1904846, 1907586),\n 'tlg0032.tlg006': (1907586, 1961231),\n 'tlg0627.tlg024': (1961231, 1967076),\n 'tlg0014.tlg022': (1967076, 1972423),\n 'tlg0610.tlg001': (1972423, 1975947),\n 'tlg0014.tlg019': (1975947, 1998135),\n 'tlg0627.tlg049': (1998135, 1999526),\n 'tlg0014.tlg005': (1999526, 2000918),\n 'tlg0011.tlg002': (2000918, 2008623),\n 'tlg0010.tlg015': (2008623, 2012980),\n 'tlg0627.tlg035': (2012980, 2013668),\n 'tlg0059.tlg006': (2013668, 2033076),\n 'tlg0010.tlg019': (2033076, 2049489),\n 'tlg0540.tlg020': (2049489, 2051139),\n 'tlg0006.tlg009': (2051139, 2059843),\n 'tlg0540.tlg002': (2059843, 2063925),\n 'tlg0540.tlg030': (2063925, 2065747),\n 'tlg0093.tlg004': (2065747, 2069014),\n 'tlg0014.tlg024': (2069014, 2083108),\n 'tlg0027.tlg003': (2083108, 2085682),\n 'tlg0540.tlg033': (2085682, 2086088),\n 'tlg0627.tlg030': (2086088, 2087637),\n 'tlg0019.tlg002': (2087637, 2095444),\n 'tlg0028.tlg003': (2095444, 2097362),\n 'tlg0085.tlg002': (2097362, 2103604),\n 'tlg0085.tlg003': (2103604, 2109978),\n 'tlg0059.tlg012': (2109978, 2125404),\n 'tlg0010.tlg009': (2125404, 2129098),\n 'tlg0011.tlg004': (2129098, 2137892),\n 'tlg0032.tlg005': (2137892, 2139662),\n 'tlg0014.tlg007': (2139662, 2141926),\n 'tlg0627.tlg051': (2141926, 2143251),\n 'tlg0086.tlg044': (2143251, 2179662),\n 'tlg0540.tlg029': (2179662, 2180320),\n 'tlg0627.tlg029': (2180320, 2181166),\n 'tlg0059.tlg026': (2181166, 2184683),\n 'tlg0017.tlg003': (2184683, 2189002),\n 'tlg0540.tlg009': (2189002, 2189804),\n 'tlg0010.tlg023': (2189804, 2190576),\n 'tlg0627.tlg016': (2190576, 2200068),\n 'tlg0627.tlg021': (2200068, 2202659),\n 'tlg0016.tlg001': (2202659, 2388797),\n 'tlg0028.tlg006': (2388797, 2391983),\n 'tlg0006.tlg013': (2391983, 2401003),\n 'tlg0627.tlg014': (2401003, 2401298),\n 'tlg0014.tlg009': (2401298, 2405380),\n 'tlg0627.tlg012': (2405380, 2412130),\n 'tlg0627.tlg020': (2412130, 2413505),\n 'tlg0019.tlg008': (2413505, 2420146),\n 'tlg0540.tlg010': (2420146, 2421528),\n 'tlg0059.tlg021': (2421528, 2431929),\n 'tlg0014.tlg033': (2431929, 2434236),\n 'tlg0627.tlg008': (2434236, 2435924),\n 'tlg0011.tlg003': (2435924, 2444123),\n 'tlg0034.tlg001': (2444123, 2454530),\n 'tlg0086.tlg042': (2454530, 2457115),\n 'tlg0010.tlg011': (2457115, 2467228),\n 'tlg0014.tlg021': (2467228, 2482500),\n 'tlg0540.tlg023': (2482500, 2483280),\n 'tlg0059.tlg037': (2483280, 2485151),\n 'tlg0014.tlg020': (2485151, 2496174),\n 'tlg0019.tlg007': (2496174, 2502958),\n 'tlg0093.tlg001': (2502958, 2565484),\n 'tlg0627.tlg003': (2565484, 2570181),\n 'tlg0017.tlg006': (2570181, 2573788),\n 'tlg0014.tlg016': (2573788, 2575551),\n 'tlg0627.tlg009': (2575551, 2585204),\n 'tlg0627.tlg032': (2585204, 2600668),\n 'tlg0540.tlg031': (2600668, 2602382),\n 'tlg0019.tlg003': (2602382, 2611100),\n 'tlg0019.tlg004': (2611100, 2619923),\n 'tlg0014.tlg017': (2619923, 2621581),\n 'tlg0093.tlg003': (2621581, 2628325),\n 'tlg0086.tlg026': (2628325, 2656885),\n 'tlg1409.opp003': (2656885, 2657207),\n 'tlg0627.tlg043': (2657207, 2660195),\n 'tlg0059.tlg020': (2660195, 2665863),\n 'tlg0086.tlg035': (2665863, 2724963),\n 'tlg0627.tlg047': (2724963, 2725719),\n 'tlg0010.tlg012': (2725719, 2728791),\n 'tlg0059.tlg032': (2728791, 2733709),\n 'tlg0014.tlg052': (2733709, 2735772),\n 'tlg0059.tlg031': (2735772, 2759066),\n 'tlg0059.tlg023': (2759066, 2781991),\n 'tlg0014.tlg014': (2781991, 2784569),\n 'tlg0011.tlg005': (2784569, 2792892),\n 'tlg0010.tlg024': (2792892, 2793956),\n 'tlg0627.tlg046': (2793956, 2795293),\n 'tlg0086.tlg040': (2795293, 2806684),\n 'tlg0540.tlg021': (2806684, 2807918),\n 'tlg0014.tlg013': (2807918, 2810142),\n 'tlg0017.tlg002': (2810142, 2812815),\n 'tlg0627.tlg040': (2812815, 2813095),\n 'tlg0006.tlg005': (2813095, 2821233),\n 'tlg0014.tlg050': (2821233, 2825562),\n 'tlg0627.tlg013': (2825562, 2825830),\n 'tlg0341.tlg002': (2825830, 2836347),\n 'tlg0014.tlg026': (2836347, 2837916),\n 'tlg0014.tlg011': (2837916, 2839156),\n 'tlg0093.ogl002': (2839156, 2842877),\n 'tlg0028.tlg001': (2842877, 2844440),\n 'tlg0086.tlg041': (2844440, 2850957),\n 'tlg0014.tlg049': (2850957, 2855244),\n 'tlg0014.tlg008': (2855244, 2859305),\n 'tlg0014.tlg037': (2859305, 2862784),\n 'tlg0010.tlg008': (2862784, 2864074),\n 'tlg0059.tlg007': (2864074, 2878093),\n 'tlg0627.tlg018': (2878093, 2880468),\n 'tlg0019.tlg011': (2880468, 2887263),\n 'tlg0014.tlg029': (2887263, 2891012),\n 'tlg0086.tlg005': (2891012, 2914256),\n 'tlg0014.tlg023': (2914256, 2929273),\n 'tlg0059.tlg024': (2929273, 2937755),\n 'tlg0014.tlg002': (2937755, 2939732),\n 'tlg0627.tlg036': (2939732, 2989067),\n 'tlg0026.tlg001': (2989067, 3001944),\n 'tlg0627.tlg045': (3001944, 3002865),\n 'tlg0028.tlg002': (3002865, 3005178),\n 'tlg0010.tlg018': (3005178, 3009338),\n 'tlg0030.tlg003': (3009338, 3011471),\n 'tlg0540.tlg017': (3011471, 3011977),\n 'tlg0086.tlg018': (3011977, 3013571),\n 'tlg0006.tlg014': (3013571, 3024084),\n 'tlg0006.tlg016': (3024084, 3034538),\n 'tlg0006.tlg006': (3034538, 3042063),\n 'tlg0540.tlg034': (3042063, 3042596),\n 'tlg0030.tlg006': (3042596, 3044566),\n 'tlg0059.tlg033': (3044566, 3047068),\n 'tlg0059.tlg002': (3047068, 3055047),\n 'tlg0014.tlg038': (3055047, 3056760),\n 'tlg0086.tlg025': (3056760, 3123729),\n 'tlg1486.tlg002': (3123729, 3124140),\n 'tlg0059.tlg003': (3124140, 3127561),\n 'tlg0627.tlg039': (3127561, 3127987),\n 'tlg0540.tlg003': (3127987, 3130117),\n 'tlg0059.tlg009': (3130117, 3142667),\n 'tlg0627.tlg048': (3142667, 3145217),\n 'tlg0059.tlg036': (3145217, 3160975),\n 'tlg0085.tlg007': (3160975, 3166953),\n 'tlg0627.tlg028': (3166953, 3170419),\n 'tlg0751.tlg034': (3170419, 3171899),\n 'tlg0014.tlg010': (3171899, 3176098),\n 'tlg0014.tlg041': (3176098, 3177970),\n 'tlg0086.tlg001': (3177970, 3220729)}"
     },
     "execution_count": 28,
     "metadata": {},
     "output_type": "execute_result"
    }
   ],
   "source": [
    "ids_lines"
   ],
   "metadata": {
    "collapsed": false
   }
  },
  {
   "cell_type": "code",
   "execution_count": 29,
   "outputs": [],
   "source": [
    "pickle.dump(ids_lines, open(\"../data/ids_lines.pickle\", \"wb\"))"
   ],
   "metadata": {
    "collapsed": false
   }
  },
  {
   "cell_type": "markdown",
   "source": [],
   "metadata": {
    "collapsed": false
   }
  },
  {
   "cell_type": "markdown",
   "source": [
    "# Testing that the indexing works"
   ],
   "metadata": {
    "collapsed": false
   }
  },
  {
   "cell_type": "code",
   "execution_count": 30,
   "outputs": [
    {
     "name": "stdout",
     "output_type": "stream",
     "text": [
      "['ζῷον', 'μόριον', 'εἰμί', 'ἀσύνθετος', 'διαιρέω', 'ὁμοιομερής', 'σάρξ', 'σάρξ', 'σύνθετος', 'ἀνομοιομερής', 'χείρ', 'χείρ', 'διαιρέω', 'πρόσωπον', 'πρόσωπον']\n",
      "['τοιοῦτος', 'ἔνιοι', 'μέρος', 'μέλος', 'καλέω']\n",
      "['τοιοῦτος', 'εἰμί', 'μέρος', 'ὅλος', 'εἰμί', 'ἕτερος', 'μέρος', 'ἔχω', 'κεφαλή', 'σκέλος', 'χείρ', 'ὅλος', 'βραχίων', 'θώραξ']\n",
      "['οὗτος', 'αὐτός', 'εἰμί', 'μέρος', 'ὅλος', 'εἰμί', 'αὐτός', 'ἕτερος', 'μόριον']\n",
      "['πᾶς', 'ἀνομοιομερής', 'σύγκειμαι', 'ὁμοιομερής', 'χείρ', 'σάρξ', 'νεῦρον', 'ὀστέον']\n",
      "['ἔχω', 'ζῷον', 'ἔνιοι', 'πᾶς', 'μόριος', 'αὐτός', 'ἔνιοι', 'ἕτερος']\n",
      "['αὐτός', 'εἶδος', 'μόριον', 'εἰμί', 'ἄνθρωπος', 'ῥίς', 'ὀφθαλμός', 'ἄνθρωπος', 'ῥίς', 'ὀφθαλμός', 'σάρξ', 'σάρξ', 'ὀστέον', 'ὀστέον']\n",
      "['αὐτός', 'τρόπος', 'ἵππος', 'ἄλλος', 'ζῷον', 'εἶδος', 'αὐτός', 'λέγω']\n",
      "['ὅλος', 'ἔχω', 'ὅλος', 'μόριος', 'ἔχω', 'ἕκαστος', 'ἕκαστος']\n",
      "['αὐτός', 'εἰμί', 'διαφέρω', 'ὑπεροχή', 'ἔλλειψις', 'γένος', 'εἰμί', 'αὐτός']\n"
     ]
    }
   ],
   "source": [
    "with open(\"../data/large_data/corpus_ngrams_bydocid.txt\", \"r\") as f:\n",
    "    lines = f.readlines()\n",
    "    doc_vals = ids_lines[\"tlg0086.tlg014\"]\n",
    "    for line in lines[doc_vals[0]:doc_vals[1]][:10]:\n",
    "        if bool(line.split()):\n",
    "            print(line.split())"
   ],
   "metadata": {
    "collapsed": false
   }
  },
  {
   "cell_type": "code",
   "execution_count": 31,
   "outputs": [
    {
     "data": {
      "text/plain": "694    [[ζῷον, μόριον, εἰμί, ἀσύνθετος, διαιρέω, ὁμοι...\nName: lemmatized_sentences, dtype: object"
     },
     "execution_count": 31,
     "metadata": {},
     "output_type": "execute_result"
    }
   ],
   "source": [
    "cgl[cgl[\"doc_id\"]==\"tlg0086.tlg014\"][\"lemmatized_sentences\"]"
   ],
   "metadata": {
    "collapsed": false
   }
  },
  {
   "cell_type": "code",
   "execution_count": 32,
   "outputs": [
    {
     "data": {
      "text/plain": "['tlg0086.tlg001',\n 'tlg0086.tlg002',\n 'tlg0086.tlg005',\n 'tlg0086.tlg006',\n 'tlg0086.tlg008']"
     },
     "execution_count": 32,
     "metadata": {},
     "output_type": "execute_result"
    }
   ],
   "source": [
    "c_aristotelicum_ids = cgl[cgl[\"subcorpus\"]==\"c_aristotelicum\"][\"doc_id\"].tolist()\n",
    "c_aristotelicum_ids[:5]"
   ],
   "metadata": {
    "collapsed": false
   }
  },
  {
   "cell_type": "code",
   "execution_count": 33,
   "outputs": [],
   "source": [
    "ids_list = c_aristotelicum_ids[:5]"
   ],
   "metadata": {
    "collapsed": false
   }
  },
  {
   "cell_type": "code",
   "execution_count": 34,
   "outputs": [],
   "source": [
    "class NgramCorpus:\n",
    "    def __iter__(self):\n",
    "        with open(\"../data/large_data/corpus_ngrams_bydocid.txt\", \"r\") as f:\n",
    "            lines = f.readlines()\n",
    "            for phi_id in ids_list:\n",
    "                for line in lines[ids_lines[phi_id][0] : ids_lines[phi_id][1]]:\n",
    "                    if bool(line.split()):\n",
    "                        yield line.split()"
   ],
   "metadata": {
    "collapsed": false
   }
  },
  {
   "cell_type": "code",
   "execution_count": 35,
   "outputs": [
    {
     "data": {
      "text/plain": "[['πρῶτος',\n  'λέγω',\n  'τίς',\n  'τίς',\n  'εἰμί',\n  'σκέψις',\n  'ἀπόδειξις',\n  'ἐπιστήμη',\n  'ἀποδεικτικός'],\n ['διορίζω',\n  'τίς',\n  'εἰμί',\n  'πρότασις',\n  'τίς',\n  'ὅρος',\n  'τίς',\n  'συλλογισμός',\n  'ποῖος',\n  'τέλειος',\n  'ποῖος',\n  'ἀτελής',\n  'οὗτος',\n  'τίς',\n  'ὅλος',\n  'εἰμί',\n  'εἰμί',\n  'ὅδε',\n  'ὅδε',\n  'τίς',\n  'λέγω',\n  'πᾶς',\n  'μηδείς',\n  'κατηγορέω'],\n ['πρότασις', 'εἰμί', 'λόγος', 'καταφατικός', 'ἀποφατικός', 'τις', 'τις'],\n ['οὗτος', 'μέρος', 'ἀδιόριστος'],\n ['λέγω',\n  'πᾶς',\n  'μηδείς',\n  'ὑπάρχω',\n  'μέρος',\n  'τις',\n  'τις',\n  'πᾶς',\n  'ὑπάρχω',\n  'ἀδιόριστος',\n  'ὑπάρχω',\n  'ὑπάρχω',\n  'μέρος',\n  'ἐναντίος',\n  'εἰμί',\n  'αὐτός',\n  'ἐπιστήμη',\n  'ἡδονή',\n  'εἰμί',\n  'ἀγαθός']]"
     },
     "execution_count": 35,
     "metadata": {},
     "output_type": "execute_result"
    }
   ],
   "source": [
    "corpus = NgramCorpus()\n",
    "[doc for doc in corpus][:5]"
   ],
   "metadata": {
    "collapsed": false
   }
  },
  {
   "cell_type": "code",
   "execution_count": 35,
   "outputs": [],
   "source": [],
   "metadata": {
    "collapsed": false
   }
  },
  {
   "cell_type": "code",
   "execution_count": 36,
   "outputs": [],
   "source": [
    "dct = Dictionary([vocabulary])"
   ],
   "metadata": {
    "collapsed": false
   }
  },
  {
   "cell_type": "code",
   "execution_count": 37,
   "outputs": [
    {
     "name": "stdout",
     "output_type": "stream",
     "text": [
      "['πρῶτος', 'λέγω', 'τίς', 'τίς', 'εἰμί', 'σκέψις', 'ἀπόδειξις', 'ἐπιστήμη', 'ἀποδεικτικός']\n"
     ]
    }
   ],
   "source": [
    "test_doc = [doc for doc in corpus][0]\n",
    "print(test_doc)"
   ],
   "metadata": {
    "collapsed": false
   }
  },
  {
   "cell_type": "code",
   "execution_count": 38,
   "outputs": [
    {
     "data": {
      "text/plain": "[(992, 1), (1663, 1), (1742, 1), (2530, 1), (2948, 1)]"
     },
     "execution_count": 38,
     "metadata": {},
     "output_type": "execute_result"
    }
   ],
   "source": [
    "dct.doc2bow(test_doc)"
   ],
   "metadata": {
    "collapsed": false
   }
  },
  {
   "cell_type": "code",
   "execution_count": 39,
   "outputs": [],
   "source": [
    "class NgramCorpus(object):\n",
    "    def __init__(self, ids_list, ids_lines, fname, bow=False, dct=None):\n",
    "        self.ids_list = ids_list\n",
    "        self.fname = fname\n",
    "        self.bow  = bow\n",
    "        self.dct = dct\n",
    "        self.ids_lines = ids_lines\n",
    "        self.len = 0\n",
    "    def __len__(self):\n",
    "        [el for el in self]\n",
    "        return self.len\n",
    "    def __iter__(self):\n",
    "        with open(self.fname, \"r\") as f:\n",
    "            lines = f.readlines()\n",
    "            for id in self.ids_list:\n",
    "                for line in lines[self.ids_lines[id][0] : self.ids_lines[id][1]]:\n",
    "                    if bool(line.split()):\n",
    "                        self.len += 1\n",
    "                        if (self.bow) & (self.dct != None):\n",
    "                            yield self.dct.doc2bow(line.split())\n",
    "                        else:\n",
    "                            yield line.split()"
   ],
   "metadata": {
    "collapsed": false
   }
  },
  {
   "cell_type": "code",
   "execution_count": 40,
   "outputs": [],
   "source": [
    "corpus = NgramCorpus(c_aristotelicum_ids[:4], ids_lines, \"../data/large_data/corpus_ngrams_bydocid.txt\", bow=True, dct=dct)"
   ],
   "metadata": {
    "collapsed": false
   }
  },
  {
   "cell_type": "code",
   "execution_count": 41,
   "outputs": [
    {
     "data": {
      "text/plain": "91966"
     },
     "execution_count": 41,
     "metadata": {},
     "output_type": "execute_result"
    }
   ],
   "source": [
    "len(corpus)"
   ],
   "metadata": {
    "collapsed": false
   }
  },
  {
   "cell_type": "code",
   "execution_count": 42,
   "outputs": [
    {
     "data": {
      "text/plain": "[(992, 1), (1663, 1), (1742, 1), (2530, 1), (2948, 1)]"
     },
     "execution_count": 42,
     "metadata": {},
     "output_type": "execute_result"
    }
   ],
   "source": [
    "[doc for doc in corpus][0]"
   ],
   "metadata": {
    "collapsed": false
   }
  },
  {
   "cell_type": "code",
   "execution_count": null,
   "outputs": [],
   "source": [],
   "metadata": {
    "collapsed": false
   }
  }
 ],
 "metadata": {
  "colab": {
   "collapsed_sections": [],
   "name": "0_EXTRACTING-CORPORA.ipynb",
   "provenance": []
  },
  "kernelspec": {
   "name": "pipa_venv",
   "language": "python",
   "display_name": "pipa_venv"
  },
  "language_info": {
   "codemirror_mode": {
    "name": "ipython",
    "version": 3
   },
   "file_extension": ".py",
   "mimetype": "text/x-python",
   "name": "python",
   "nbconvert_exporter": "python",
   "pygments_lexer": "ipython3",
   "version": "3.6.9"
  }
 },
 "nbformat": 4,
 "nbformat_minor": 1
}
