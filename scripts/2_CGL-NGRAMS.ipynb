{
 "cells": [
  {
   "cell_type": "code",
   "execution_count": 129,
   "metadata": {},
   "outputs": [],
   "source": [
    "import numpy as np\n",
    "import pandas as pd\n",
    "import requests\n",
    "import re\n",
    "import nltk\n",
    "from sklearn.feature_extraction.text import CountVectorizer\n",
    "from sklearn.decomposition import TruncatedSVD\n",
    "from sklearn.metrics.pairwise import cosine_similarity\n",
    "import pickle\n",
    "from cltk.stops.grc import STOPS as stopwords\n",
    "from gensim.corpora import Dictionary\n",
    "import unicodedata"
   ]
  },
  {
   "cell_type": "code",
   "execution_count": 2,
   "outputs": [
    {
     "name": "stdout",
     "output_type": "stream",
     "text": [
      "endpoint variable has been configured to: https://sciencedata.dk/files/\n"
     ]
    }
   ],
   "source": [
    "# to communicate with google spreadsheet...\n",
    "import gspread\n",
    "from gspread_dataframe import get_as_dataframe\n",
    "from gspread_dataframe import set_with_dataframe\n",
    "from google.oauth2 import service_account # based on google-auth library\n",
    "import sddk\n",
    "\n",
    "s = sddk.cloudSession(\"sciencedata.dk\")\n",
    "# establish connection with gogglesheets...\n",
    "file_data = s.read_file(\"https://sciencedata.dk/files/ServiceAccountsKey.json\", \"dict\") # or load it from a local storage: json.load(open(\"../../ServiceAccountsKey.json\", \"r\"))\n",
    "credentials = service_account.Credentials.from_service_account_info(file_data)\n",
    "gc = gspread.Client(auth=credentials.with_scopes(['https://spreadsheets.google.com/feeds', 'https://www.googleapis.com/auth/drive']))\n",
    "PIPA_data = gc.open_by_url(\"https://docs.google.com/spreadsheets/d/1rV4t0_UV_wcx--UAHVwkqB8Wa_5n9mnpV05yGG1OHqk/edit?usp=sharing\")"
   ],
   "metadata": {
    "collapsed": false
   }
  },
  {
   "cell_type": "markdown",
   "metadata": {
    "colab_type": "text",
    "id": "CMR9KfVlwJbR"
   },
   "source": [
    "# Load the main dataset of ancient Greek texts"
   ]
  },
  {
   "cell_type": "code",
   "execution_count": 80,
   "outputs": [
    {
     "data": {
      "text/plain": "                          filename      author                  title  \\\n1  tlg0003.tlg001.perseus-grc2.xml  Thucydides  The Peloponnesian War   \n6  tlg0006.tlg001.perseus-grc2.xml   Euripides                Cyclops   \n7  tlg0006.tlg004.perseus-grc2.xml   Euripides             Ἡρακλεῖδαι   \n8  tlg0006.tlg005.perseus-grc2.xml   Euripides              Ἱππόλυτος   \n9  tlg0006.tlg006.perseus-grc2.xml   Euripides              Ἀνδρομάχη   \n\n   wordcount author_id          doc_id raw_date  date_avr   date_probs  \\\n1     150118   tlg0003  tlg0003.tlg001   5 B.C.      -4.5  {'-4.5': 1}   \n6       4141   tlg0006  tlg0006.tlg001   5 B.C.      -4.5  {'-4.5': 1}   \n7       6272   tlg0006  tlg0006.tlg004   5 B.C.      -4.5  {'-4.5': 1}   \n8       8257   tlg0006  tlg0006.tlg005   5 B.C.      -4.5  {'-4.5': 1}   \n9       7397   tlg0006  tlg0006.tlg006   5 B.C.      -4.5  {'-4.5': 1}   \n\n   date_manual  ... count_λυπέω count_λυπηρός count_λύπη  count_ἄλγος  \\\n1         -4.5  ...          10            11          4            0   \n6         -4.5  ...           1             0          0            0   \n7         -4.5  ...           0             0          2            0   \n8         -4.5  ...           0             1          5            4   \n9         -4.5  ...           0             0          4            0   \n\n  count_ἄλγημα  count_ἀλγέω count_ὀδύνη  count_ὀδυνάω count_πονέω count_πόνος  \n1            0            2           0             0          10          21  \n6            0            0           0             0           0           7  \n7            0            0           0             0           1          10  \n8            0            0           3             1           1           7  \n9            0            5           0             0           1           4  \n\n[5 rows x 31 columns]",
      "text/html": "<div>\n<style scoped>\n    .dataframe tbody tr th:only-of-type {\n        vertical-align: middle;\n    }\n\n    .dataframe tbody tr th {\n        vertical-align: top;\n    }\n\n    .dataframe thead th {\n        text-align: right;\n    }\n</style>\n<table border=\"1\" class=\"dataframe\">\n  <thead>\n    <tr style=\"text-align: right;\">\n      <th></th>\n      <th>filename</th>\n      <th>author</th>\n      <th>title</th>\n      <th>wordcount</th>\n      <th>author_id</th>\n      <th>doc_id</th>\n      <th>raw_date</th>\n      <th>date_avr</th>\n      <th>date_probs</th>\n      <th>date_manual</th>\n      <th>...</th>\n      <th>count_λυπέω</th>\n      <th>count_λυπηρός</th>\n      <th>count_λύπη</th>\n      <th>count_ἄλγος</th>\n      <th>count_ἄλγημα</th>\n      <th>count_ἀλγέω</th>\n      <th>count_ὀδύνη</th>\n      <th>count_ὀδυνάω</th>\n      <th>count_πονέω</th>\n      <th>count_πόνος</th>\n    </tr>\n  </thead>\n  <tbody>\n    <tr>\n      <th>1</th>\n      <td>tlg0003.tlg001.perseus-grc2.xml</td>\n      <td>Thucydides</td>\n      <td>The Peloponnesian War</td>\n      <td>150118</td>\n      <td>tlg0003</td>\n      <td>tlg0003.tlg001</td>\n      <td>5 B.C.</td>\n      <td>-4.5</td>\n      <td>{'-4.5': 1}</td>\n      <td>-4.5</td>\n      <td>...</td>\n      <td>10</td>\n      <td>11</td>\n      <td>4</td>\n      <td>0</td>\n      <td>0</td>\n      <td>2</td>\n      <td>0</td>\n      <td>0</td>\n      <td>10</td>\n      <td>21</td>\n    </tr>\n    <tr>\n      <th>6</th>\n      <td>tlg0006.tlg001.perseus-grc2.xml</td>\n      <td>Euripides</td>\n      <td>Cyclops</td>\n      <td>4141</td>\n      <td>tlg0006</td>\n      <td>tlg0006.tlg001</td>\n      <td>5 B.C.</td>\n      <td>-4.5</td>\n      <td>{'-4.5': 1}</td>\n      <td>-4.5</td>\n      <td>...</td>\n      <td>1</td>\n      <td>0</td>\n      <td>0</td>\n      <td>0</td>\n      <td>0</td>\n      <td>0</td>\n      <td>0</td>\n      <td>0</td>\n      <td>0</td>\n      <td>7</td>\n    </tr>\n    <tr>\n      <th>7</th>\n      <td>tlg0006.tlg004.perseus-grc2.xml</td>\n      <td>Euripides</td>\n      <td>Ἡρακλεῖδαι</td>\n      <td>6272</td>\n      <td>tlg0006</td>\n      <td>tlg0006.tlg004</td>\n      <td>5 B.C.</td>\n      <td>-4.5</td>\n      <td>{'-4.5': 1}</td>\n      <td>-4.5</td>\n      <td>...</td>\n      <td>0</td>\n      <td>0</td>\n      <td>2</td>\n      <td>0</td>\n      <td>0</td>\n      <td>0</td>\n      <td>0</td>\n      <td>0</td>\n      <td>1</td>\n      <td>10</td>\n    </tr>\n    <tr>\n      <th>8</th>\n      <td>tlg0006.tlg005.perseus-grc2.xml</td>\n      <td>Euripides</td>\n      <td>Ἱππόλυτος</td>\n      <td>8257</td>\n      <td>tlg0006</td>\n      <td>tlg0006.tlg005</td>\n      <td>5 B.C.</td>\n      <td>-4.5</td>\n      <td>{'-4.5': 1}</td>\n      <td>-4.5</td>\n      <td>...</td>\n      <td>0</td>\n      <td>1</td>\n      <td>5</td>\n      <td>4</td>\n      <td>0</td>\n      <td>0</td>\n      <td>3</td>\n      <td>1</td>\n      <td>1</td>\n      <td>7</td>\n    </tr>\n    <tr>\n      <th>9</th>\n      <td>tlg0006.tlg006.perseus-grc2.xml</td>\n      <td>Euripides</td>\n      <td>Ἀνδρομάχη</td>\n      <td>7397</td>\n      <td>tlg0006</td>\n      <td>tlg0006.tlg006</td>\n      <td>5 B.C.</td>\n      <td>-4.5</td>\n      <td>{'-4.5': 1}</td>\n      <td>-4.5</td>\n      <td>...</td>\n      <td>0</td>\n      <td>0</td>\n      <td>4</td>\n      <td>0</td>\n      <td>0</td>\n      <td>5</td>\n      <td>0</td>\n      <td>0</td>\n      <td>1</td>\n      <td>4</td>\n    </tr>\n  </tbody>\n</table>\n<p>5 rows × 31 columns</p>\n</div>"
     },
     "execution_count": 80,
     "metadata": {},
     "output_type": "execute_result"
    }
   ],
   "source": [
    "cgl = pd.read_json(\"../data/large_data/cgl.json\")\n",
    "cgl.head()"
   ],
   "metadata": {
    "collapsed": false
   }
  },
  {
   "cell_type": "code",
   "execution_count": 81,
   "outputs": [],
   "source": [
    "sents = [sen for work in cgl[\"lemmatized_sentences_repl\"] for sen in work]"
   ],
   "metadata": {
    "collapsed": false
   }
  },
  {
   "cell_type": "code",
   "execution_count": 82,
   "outputs": [
    {
     "data": {
      "text/plain": "243579"
     },
     "execution_count": 82,
     "metadata": {},
     "output_type": "execute_result"
    }
   ],
   "source": [
    "len(sents)"
   ],
   "metadata": {
    "collapsed": false
   }
  },
  {
   "cell_type": "code",
   "execution_count": 83,
   "outputs": [],
   "source": [
    "min_freq = 50\n",
    "\n",
    "def get_vocab(docs, min_freq=min_freq):\n",
    "    words_flat = [item for sublist in docs for item in sublist]\n",
    "    word_freq_tups = nltk.FreqDist(words_flat).most_common()\n",
    "    vocabulary = [tup[0] for tup in word_freq_tups if tup[1] >= min_freq]\n",
    "    #vocab_freqs = [len([doc for doc in docs if word in doc]) for word in vocabulary]\n",
    "    return word_freq_tups, words_flat, vocabulary # , vocab_freqs"
   ],
   "metadata": {
    "collapsed": false
   }
  },
  {
   "cell_type": "code",
   "execution_count": 84,
   "outputs": [],
   "source": [
    "word_freqs, words, vocabulary = get_vocab(sents)"
   ],
   "metadata": {
    "collapsed": false
   }
  },
  {
   "cell_type": "code",
   "execution_count": 85,
   "outputs": [
    {
     "data": {
      "text/plain": "[('εἰμί', 79567),\n ('οὗτος', 60113),\n ('αὐτός', 42056),\n ('λέγω', 29114),\n ('τις', 27416),\n ('ἔχω', 22584),\n ('γίγνομαι', 21737),\n ('πολύς', 20652),\n ('πᾶς', 19062),\n ('ἄλλος', 18361)]"
     },
     "execution_count": 85,
     "metadata": {},
     "output_type": "execute_result"
    }
   ],
   "source": [
    "word_freqs[:10]"
   ],
   "metadata": {
    "collapsed": false
   }
  },
  {
   "cell_type": "code",
   "execution_count": 86,
   "outputs": [
    {
     "data": {
      "text/plain": "1828293"
     },
     "execution_count": 86,
     "metadata": {},
     "output_type": "execute_result"
    }
   ],
   "source": [
    "len(words)"
   ],
   "metadata": {
    "collapsed": false
   }
  },
  {
   "cell_type": "code",
   "execution_count": 87,
   "outputs": [
    {
     "data": {
      "text/plain": "3494"
     },
     "execution_count": 87,
     "metadata": {},
     "output_type": "execute_result"
    }
   ],
   "source": [
    "len(vocabulary)"
   ],
   "metadata": {
    "collapsed": false
   }
  },
  {
   "cell_type": "code",
   "execution_count": 88,
   "outputs": [
    {
     "name": "stdout",
     "output_type": "stream",
     "text": [
      "['εἰμί', 'οὗτος', 'αὐτός', 'λέγω', 'τις', 'ἔχω', 'γίγνομαι', 'πολύς', 'πᾶς', 'ἄλλος', 'ποιέω', 'φημί', 'οὐδείς', 'τίς', 'δέω', 'λόγος', 'τοιοῦτος', 'πόλις', 'ἀγαθός', 'δοκέω']\n"
     ]
    }
   ],
   "source": [
    "print(vocabulary[:20])"
   ],
   "metadata": {
    "collapsed": false
   }
  },
  {
   "cell_type": "code",
   "execution_count": 89,
   "outputs": [],
   "source": [
    "def normalize_encoding(string):\n",
    "    return unicodedata.normalize(\"NFC\", string)"
   ],
   "metadata": {
    "collapsed": false
   }
  },
  {
   "cell_type": "code",
   "execution_count": 90,
   "outputs": [],
   "source": [
    "stopwords = [normalize_encoding(w) for w in stopwords] + [\"εἰμί\", \"οὗτος\", \"αὐτός\", \"αὐτός\", \"τις\", \"τίς\"]"
   ],
   "metadata": {
    "collapsed": false
   }
  },
  {
   "cell_type": "code",
   "execution_count": 91,
   "outputs": [
    {
     "data": {
      "text/plain": "['λέγω',\n 'ἔχω',\n 'γίγνομαι',\n 'πολύς',\n 'πᾶς',\n 'ποιέω',\n 'φημί',\n 'δέω',\n 'λόγος',\n 'πόλις']"
     },
     "execution_count": 91,
     "metadata": {},
     "output_type": "execute_result"
    }
   ],
   "source": [
    "vocabulary = [w for w in vocabulary if w not in stopwords]\n",
    "vocabulary[:10]"
   ],
   "metadata": {
    "collapsed": false
   }
  },
  {
   "cell_type": "code",
   "execution_count": 92,
   "outputs": [
    {
     "data": {
      "text/plain": "3480"
     },
     "execution_count": 92,
     "metadata": {},
     "output_type": "execute_result"
    }
   ],
   "source": [
    "len(vocabulary)"
   ],
   "metadata": {
    "collapsed": false
   }
  },
  {
   "cell_type": "code",
   "execution_count": 93,
   "outputs": [],
   "source": [
    "# continuous bigrams & trigrams, within sentences only\n",
    "sents_bigrams = [list(el) for sublist in [[ng for ng in nltk.bigrams(sent)] for sent in sents] for el in sublist]\n",
    "\n",
    "sents_trigrams = [list(el) for sublist in [[ng for ng in nltk.trigrams(sent)] for sent in sents] for el in sublist]"
   ],
   "metadata": {
    "collapsed": false
   }
  },
  {
   "cell_type": "code",
   "execution_count": 94,
   "outputs": [
    {
     "data": {
      "text/plain": "3232119"
     },
     "execution_count": 94,
     "metadata": {},
     "output_type": "execute_result"
    }
   ],
   "source": [
    "ngrams_data = sents + sents_bigrams + sents_trigrams\n",
    "len(ngrams_data)"
   ],
   "metadata": {
    "collapsed": false
   }
  },
  {
   "cell_type": "code",
   "execution_count": 95,
   "outputs": [
    {
     "data": {
      "text/plain": "['tlg0030', 'tlg0088', 'tlg0535', 'tlg0591', 'tlg0017']"
     },
     "execution_count": 95,
     "metadata": {},
     "output_type": "execute_result"
    }
   ],
   "source": [
    "author_ids = list(set(cgl[\"author_id\"]))\n",
    "author_ids[:5]"
   ],
   "metadata": {
    "collapsed": false
   }
  },
  {
   "cell_type": "code",
   "execution_count": 50,
   "outputs": [],
   "source": [
    "with open(\"../data/large_data/corpus_ngrams.txt\", \"w\", encoding=\"utf-8\") as f:\n",
    "\n",
    "    f.writelines(\"\\n\".join([\" \".join(ngram) for ngram in ngrams_data]))"
   ],
   "metadata": {
    "collapsed": false
   }
  },
  {
   "cell_type": "code",
   "execution_count": 63,
   "outputs": [],
   "source": [
    "pickle.dump(vocabulary, open(\"../data/vocabulary.pickle\", \"wb\"))"
   ],
   "metadata": {
    "collapsed": false
   }
  },
  {
   "cell_type": "code",
   "execution_count": 59,
   "outputs": [],
   "source": [
    "pickle.dump(word_freqs, open(\"../data/word_freqs_all.pickle\", \"wb\"))"
   ],
   "metadata": {
    "collapsed": false
   }
  },
  {
   "cell_type": "code",
   "execution_count": 66,
   "outputs": [],
   "source": [
    "word_freqs_vocabulary = pd.DataFrame([tup for tup in word_freqs if tup[0] in vocabulary], columns=[\"word\", \"count\"])"
   ],
   "metadata": {
    "collapsed": false
   }
  },
  {
   "cell_type": "code",
   "execution_count": 68,
   "outputs": [],
   "source": [
    "word_freqs_vocabulary.to_csv(\"../data/word_freqs_vocabulary.csv\", index=False)"
   ],
   "metadata": {
    "collapsed": false
   }
  },
  {
   "cell_type": "code",
   "execution_count": 95,
   "outputs": [],
   "source": [],
   "metadata": {
    "collapsed": false
   }
  },
  {
   "cell_type": "markdown",
   "source": [
    "# Ngrams by doc ids"
   ],
   "metadata": {
    "collapsed": false
   }
  },
  {
   "cell_type": "code",
   "execution_count": 97,
   "outputs": [
    {
     "data": {
      "text/plain": "371"
     },
     "execution_count": 97,
     "metadata": {},
     "output_type": "execute_result"
    }
   ],
   "source": [
    "doc_ids = list(set(cgl[\"doc_id\"]))\n",
    "len(doc_ids)"
   ],
   "metadata": {
    "collapsed": false
   }
  },
  {
   "cell_type": "code",
   "execution_count": 100,
   "outputs": [],
   "source": [
    "line = 0\n",
    "ids_lines = {}\n",
    "\n",
    "f = open(\"../data/large_data/corpus_ngrams_bydocid.txt\", \"w\", encoding=\"utf-8\")\n",
    "for doc_id in doc_ids:\n",
    "    cgl_subset = cgl[cgl[\"doc_id\"]==doc_id]\n",
    "    sents = [sen for work in cgl_subset[\"lemmatized_sentences_repl\"] for sen in work]\n",
    "    sents_bigrams = [list(el) for sublist in [[ng for ng in nltk.bigrams(sent)] for sent in sents] for el in sublist]\n",
    "    sents_trigrams = [list(el) for sublist in [[ng for ng in nltk.trigrams(sent)] for sent in sents] for el in sublist]\n",
    "    ngrams_data = sents + sents_bigrams + sents_trigrams\n",
    "    ngrams_data = [\" \".join(ngram) for ngram in ngrams_data]\n",
    "    f.writelines(\"\\n\".join(ngrams_data)+\"\\n\")\n",
    "    if bool(ngrams_data):\n",
    "        ids_lines[doc_id] = (line, line+len(ngrams_data))\n",
    "        line += len(ngrams_data)\n",
    "    else:\n",
    "        ids_lines[doc_id] = (line, line+1)\n",
    "        line += 1"
   ],
   "metadata": {
    "collapsed": false
   }
  },
  {
   "cell_type": "code",
   "execution_count": 101,
   "outputs": [
    {
     "data": {
      "text/plain": "{'tlg0535.tlg001': (0, 1875),\n 'tlg0010.tlg029': (1875, 2627),\n 'tlg0030.tlg001': (2627, 3915),\n 'tlg0086.tlg042': (3915, 6500),\n 'tlg0627.tlg008': (6500, 8188),\n 'tlg0540.tlg025': (8188, 10146),\n 'tlg0019.tlg011': (10146, 16941),\n 'tlg0086.tlg038': (16941, 52767),\n 'tlg0014.tlg031': (52767, 53692),\n 'tlg0006.tlg001': (53692, 57846),\n 'tlg0003.tlg001': (57846, 201269),\n 'tlg0627.tlg046': (201269, 202606),\n 'tlg0064.tlg001': (202606, 203310),\n 'tlg0014.tlg013': (203310, 205534),\n 'tlg0540.tlg013': (205534, 210253),\n 'tlg0006.tlg004': (210253, 216090),\n 'tlg0014.tlg001': (216090, 217824),\n 'tlg0027.tlg001': (217824, 227155),\n 'tlg0627.tlg022': (227155, 228566),\n 'tlg0059.tlg035': (228566, 234866),\n 'tlg0627.tlg001': (234866, 239997),\n 'tlg0014.tlg022': (239997, 245344),\n 'tlg0540.tlg034': (245344, 245877),\n 'tlg0086.tlg025': (245877, 312936),\n 'tlg0540.tlg002': (312936, 317018),\n 'tlg0026.tlg004': (317018, 320763),\n 'tlg0086.tlg013': (320763, 334768),\n 'tlg0014.tlg004': (334768, 337883),\n 'tlg0014.tlg014': (337883, 340461),\n 'tlg0059.tlg028': (340461, 344992),\n 'tlg0086.tlg001': (344992, 395160),\n 'tlg0540.tlg032': (395160, 396946),\n 'tlg0014.tlg021': (396946, 412218),\n 'tlg0034.tlg001': (412218, 422625),\n 'tlg0059.tlg009': (422625, 435175),\n 'tlg0540.tlg031': (435175, 436889),\n 'tlg0093.tlg005': (436889, 441552),\n 'tlg0059.tlg015': (441552, 443574),\n 'tlg0019.tlg009': (443574, 451969),\n 'tlg0059.tlg037': (451969, 453840),\n 'tlg0086.tlg010': (453840, 499348),\n 'tlg0627.tlg014': (499348, 499643),\n 'tlg1409.opp003': (499643, 499965),\n 'tlg0059.tlg027': (499965, 503305),\n 'tlg0627.tlg038': (503305, 506766),\n 'tlg0027.tlg004': (506766, 509506),\n 'tlg0627.tlg025': (509506, 516214),\n 'tlg0010.tlg003': (516214, 517266),\n 'tlg0014.tlg030': (517266, 519494),\n 'tlg0540.tlg009': (519494, 520296),\n 'tlg0627.tlg030': (520296, 521845),\n 'tlg0014.tlg050': (521845, 526174),\n 'tlg0017.tlg008': (526174, 529267),\n 'tlg0032.tlg013': (529267, 535320),\n 'tlg0014.tlg017': (535320, 536978),\n 'tlg0627.tlg027': (536978, 541227),\n 'tlg0059.tlg023': (541227, 564152),\n 'tlg0027.tlg002': (564152, 565896),\n 'tlg0010.tlg005': (565896, 569189),\n 'tlg0059.tlg007': (569189, 583208),\n 'tlg0086.tlg016': (583208, 585278),\n 'tlg0006.tlg018': (585278, 595027),\n 'tlg0014.tlg049': (595027, 599314),\n 'tlg0032.tlg004': (599314, 607575),\n 'tlg0017.tlg007': (607575, 610321),\n 'tlg0010.tlg022': (610321, 610827),\n 'tlg0627.tlg031': (610827, 629016),\n 'tlg0030.tlg002': (629016, 629804),\n 'tlg0059.tlg019': (629804, 636361),\n 'tlg0014.tlg047': (636361, 641407),\n 'tlg0010.tlg020': (641407, 649464),\n 'tlg0030.tlg003': (649464, 651597),\n 'tlg0014.tlg007': (651597, 653861),\n 'tlg0059.tlg001': (653861, 658105),\n 'tlg0627.tlg013': (658105, 658373),\n 'tlg0016.tlg001': (658373, 844511),\n 'tlg0032.tlg008': (844511, 850007),\n 'tlg0010.tlg017': (850007, 857347),\n 'tlg0014.tlg026': (857347, 858916),\n 'tlg0086.tlg008': (858916, 859953),\n 'tlg0627.tlg023': (859953, 891997),\n 'tlg0014.tlg054': (891997, 894998),\n 'tlg0627.tlg003': (894998, 899697),\n 'tlg0540.tlg008': (899697, 900557),\n 'tlg0086.tlg018': (900557, 902151),\n 'tlg0028.tlg005': (902151, 907634),\n 'tlg0540.tlg011': (907634, 908119),\n 'tlg0017.tlg004': (908119, 909763),\n 'tlg0627.tlg011': (909763, 913794),\n 'tlg0627.tlg017': (913794, 926077),\n 'tlg0341.tlg002': (926077, 936594),\n 'tlg0085.tlg006': (936594, 942726),\n 'tlg0010.tlg004': (942726, 945460),\n 'tlg0627.tlg039': (945460, 945886),\n 'tlg0028.tlg003': (945886, 947804),\n 'tlg0093.tlg003': (947804, 954548),\n 'tlg0591.1st1K0': (954548, 955260),\n 'tlg0086.tlg043': (955260, 957748),\n 'tlg1486.tlg002': (957748, 958159),\n 'tlg0006.tlg011': (958159, 966186),\n 'tlg0093.tlg004': (966186, 969453),\n 'tlg0627.tlg026': (969453, 977048),\n 'tlg0010.tlg007': (977048, 979600),\n 'tlg0540.tlg023': (979600, 980380),\n 'tlg0065.tlg001': (980380, 988981),\n 'tlg0086.tlg021': (988981, 994069),\n 'tlg0540.tlg012': (994069, 998756),\n 'tlg0059.tlg014': (998756, 1002499),\n 'tlg0540.tlg024': (1002499, 1003743),\n 'tlg0593.1st1K0': (1003743, 1005754),\n 'tlg0014.tlg034': (1005754, 1008760),\n 'tlg0540.tlg021': (1008760, 1009994),\n 'tlg0014.tlg012': (1009994, 1011304),\n 'tlg0014.tlg048': (1011304, 1014580),\n 'tlg0019.tlg008': (1014580, 1021225),\n 'tlg0086.tlg015': (1021225, 1024724),\n 'tlg0540.tlg003': (1024724, 1026854),\n 'tlg0059.tlg024': (1026854, 1035336),\n 'tlg0014.tlg061': (1035336, 1038805),\n 'tlg0014.tlg028': (1038805, 1040267),\n 'tlg0540.tlg001': (1040267, 1042501),\n 'tlg0011.tlg002': (1042501, 1050206),\n 'tlg0014.tlg057': (1050206, 1054439),\n 'tlg0010.tlg030': (1054439, 1054802),\n 'tlg0086.tlg020': (1054802, 1056187),\n 'tlg1210.tlg001': (1056187, 1060030),\n 'tlg0086.tlg034': (1060030, 1068780),\n 'tlg0540.tlg022': (1068780, 1069870),\n 'tlg0011.tlg007': (1069870, 1079971),\n 'tlg0059.tlg017': (1079971, 1082916),\n 'tlg0006.tlg010': (1082916, 1092675),\n 'tlg0540.tlg028': (1092675, 1093559),\n 'tlg0010.tlg001': (1093559, 1094585),\n 'tlg0014.tlg040': (1094585, 1098373),\n 'tlg0011.tlg008': (1098373, 1100247),\n 'tlg0059.tlg025': (1100247, 1107337),\n 'tlg0540.tlg017': (1107337, 1107843),\n 'tlg1486.tlg001': (1107843, 1110885),\n 'tlg0627.tlg033': (1110885, 1123847),\n 'tlg0540.tlg026': (1123847, 1125150),\n 'tlg0086.tlg029': (1125150, 1131359),\n 'tlg0010.tlg008': (1131359, 1132649),\n 'tlg0059.tlg003': (1132649, 1136070),\n 'tlg0026.tlg001': (1136070, 1148947),\n 'tlg0086.tlg026': (1148947, 1178052),\n 'tlg0627.tlg018': (1178052, 1180427),\n 'tlg0093.ogl001': (1180427, 1184797),\n 'tlg0627.tlg032': (1184797, 1200263),\n 'tlg0030.tlg006': (1200263, 1202233),\n 'tlg0085.tlg003': (1202233, 1208607),\n 'tlg0059.tlg022': (1208607, 1224301),\n 'tlg0059.tlg031': (1224301, 1247595),\n 'tlg0540.tlg006': (1247595, 1250127),\n 'tlg0017.tlg010': (1250127, 1252151),\n 'tlg0026.tlg003': (1252151, 1269844),\n 'tlg0627.tlg028': (1269844, 1273316),\n 'tlg0066.tlg001': (1273316, 1275813),\n 'tlg0540.tlg027': (1275813, 1276493),\n 'tlg0540.tlg033': (1276493, 1276899),\n 'tlg0032.tlg007': (1276899, 1348726),\n 'tlg0627.tlg042': (1348726, 1350246),\n 'tlg0032.tlg014': (1350246, 1358332),\n 'tlg0085.tlg005': (1358332, 1367800),\n 'tlg0540.tlg010': (1367800, 1369182),\n 'tlg0059.tlg029': (1369182, 1370586),\n 'tlg0086.tlg040': (1370586, 1381981),\n 'tlg0627.tlg048': (1381981, 1384531),\n 'tlg0010.tlg028': (1384531, 1384777),\n 'tlg0059.tlg006': (1384777, 1404185),\n 'tlg0014.tlg058': (1404185, 1408769),\n 'tlg0019.tlg010': (1408769, 1415150),\n 'tlg0010.tlg016': (1415150, 1420895),\n 'tlg0627.tlg005': (1420895, 1426248),\n 'tlg0086.tlg045': (1426248, 1427638),\n 'tlg0059.tlg033': (1427638, 1430140),\n 'tlg0019.tlg004': (1430140, 1438963),\n 'tlg0011.tlg001': (1438963, 1446563),\n 'tlg0199.tlg002': (1446563, 1448141),\n 'tlg0540.tlg007': (1448141, 1450023),\n 'tlg0014.tlg008': (1450023, 1454084),\n 'tlg0627.tlg045': (1454084, 1455005),\n 'tlg0006.tlg015': (1455005, 1466214),\n 'tlg0010.tlg023': (1466214, 1466986),\n 'tlg0019.tlg006': (1466986, 1476918),\n 'tlg0014.tlg020': (1476918, 1487941),\n 'tlg0014.tlg052': (1487941, 1490004),\n 'tlg0014.tlg055': (1490004, 1491987),\n 'tlg0086.tlg041': (1491987, 1498520),\n 'tlg0032.tlg005': (1498520, 1500290),\n 'tlg0627.tlg020': (1500290, 1501665),\n 'tlg0014.tlg016': (1501665, 1503428),\n 'tlg0011.tlg006': (1503428, 1511911),\n 'tlg0010.tlg012': (1511911, 1514983),\n 'tlg0627.tlg006': (1514983, 1554617),\n 'tlg0032.tlg006': (1554617, 1608262),\n 'tlg0014.tlg063': (1608262, 1613561),\n 'tlg0014.tlg046': (1613561, 1615323),\n 'tlg0086.tlg030': (1615323, 1648049),\n 'tlg0627.tlg047': (1648049, 1648805),\n 'tlg0059.tlg004': (1648805, 1668518),\n 'tlg0627.tlg035': (1668518, 1669206),\n 'tlg0014.tlg011': (1669206, 1670446),\n 'tlg0086.tlg044': (1670446, 1706861),\n 'tlg0010.tlg010': (1706861, 1709421),\n 'tlg0014.tlg062': (1709421, 1717686),\n 'tlg0627.tlg051': (1717686, 1719011),\n 'tlg0014.tlg018': (1719011, 1740255),\n 'tlg0010.tlg014': (1740255, 1743610),\n 'tlg0627.tlg015': (1743610, 1745730),\n 'tlg0014.tlg035': (1745730, 1748945),\n 'tlg0014.tlg024': (1748945, 1763039),\n 'tlg0627.tlg040': (1763039, 1763319),\n 'tlg0627.tlg043': (1763319, 1766307),\n 'tlg0010.tlg013': (1766307, 1769043),\n 'tlg0014.tlg044': (1769043, 1772959),\n 'tlg0088.tlg001': (1772959, 1787838),\n 'tlg0059.tlg021': (1787838, 1798239),\n 'tlg0627.tlg049': (1798239, 1799630),\n 'tlg0010.tlg027': (1799630, 1800792),\n 'tlg0014.tlg005': (1800792, 1802184),\n 'tlg0014.tlg009': (1802184, 1806266),\n 'tlg0014.tlg042': (1806266, 1808360),\n 'tlg0010.tlg018': (1808360, 1812520),\n 'tlg0540.tlg030': (1812520, 1814342),\n 'tlg0019.tlg001': (1814342, 1820960),\n 'tlg0010.tlg019': (1820960, 1837373),\n 'tlg0019.tlg003': (1837373, 1846091),\n 'tlg0059.tlg036': (1846091, 1861849),\n 'tlg0540.tlg005': (1861849, 1862136),\n 'tlg0627.tlg021': (1862136, 1864727),\n 'tlg0017.tlg002': (1864727, 1867400),\n 'tlg0627.tlg041': (1867400, 1867787),\n 'tlg0014.tlg033': (1867787, 1870094),\n 'tlg0014.tlg053': (1870094, 1872016),\n 'tlg0059.tlg016': (1872016, 1874115),\n 'tlg0017.tlg011': (1874115, 1877549),\n 'tlg0086.tlg024': (1877549, 1879542),\n 'tlg0086.tlg035': (1879542, 1938642),\n 'tlg0059.tlg002': (1938642, 1946625),\n 'tlg0627.tlg010': (1946625, 1964460),\n 'tlg0086.tlg002': (1964460, 1981896),\n 'tlg0059.tlg013': (1981896, 1989955),\n 'tlg0059.tlg030': (1989955, 2068761),\n 'tlg0540.tlg004': (2068761, 2069623),\n 'tlg0059.tlg018': (2069623, 2076508),\n 'tlg0540.tlg016': (2076508, 2077603),\n 'tlg0627.tlg016': (2077603, 2087095),\n 'tlg0010.tlg011': (2087095, 2097208),\n 'tlg0627.tlg024': (2097208, 2103053),\n 'tlg0014.tlg036': (2103053, 2106962),\n 'tlg0027.tlg003': (2106962, 2109536),\n 'tlg0017.tlg001': (2109536, 2112096),\n 'tlg0017.tlg012': (2112096, 2113002),\n 'tlg0627.tlg012': (2113002, 2119752),\n 'tlg0019.tlg005': (2119752, 2126977),\n 'tlg0093.tlg006': (2126977, 2129311),\n 'tlg0032.tlg003': (2129311, 2145923),\n 'tlg0014.tlg060': (2145923, 2148539),\n 'tlg0014.tlg006': (2148539, 2150408),\n 'tlg0011.tlg004': (2150408, 2159202),\n 'tlg0006.tlg013': (2159202, 2168222),\n 'tlg0006.tlg005': (2168222, 2176360),\n 'tlg0085.tlg002': (2176360, 2182602),\n 'tlg0627.tlg029': (2182602, 2183448),\n 'tlg0059.tlg010': (2183448, 2198640),\n 'tlg0627.tlg052': (2198640, 2200607),\n 'tlg0014.tlg051': (2200607, 2201863),\n 'tlg0028.tlg002': (2201863, 2204176),\n 'tlg0014.tlg038': (2204176, 2205889),\n 'tlg1210.tlg002': (2205889, 2216121),\n 'tlg0086.tlg009': (2216121, 2237430),\n 'tlg0010.tlg009': (2237430, 2241124),\n 'tlg0011.tlg005': (2241124, 2249447),\n 'tlg0086.tlg022': (2249447, 2271992),\n 'tlg0085.tlg007': (2271992, 2277970),\n 'tlg0010.tlg025': (2277970, 2278585),\n 'tlg0059.tlg032': (2278585, 2283503),\n 'tlg0086.tlg052': (2283503, 2285299),\n 'tlg0014.tlg019': (2285299, 2307487),\n 'tlg0627.tlg009': (2307487, 2317140),\n 'tlg0014.tlg002': (2317140, 2319117),\n 'tlg0014.tlg015': (2319117, 2321200),\n 'tlg0086.tlg017': (2321200, 2326397),\n 'tlg0010.tlg024': (2326397, 2327461),\n 'tlg0006.tlg014': (2327461, 2337978),\n 'tlg0014.tlg059': (2337978, 2347374),\n 'tlg0006.tlg009': (2347374, 2356082),\n 'tlg0032.tlg011': (2356082, 2359596),\n 'tlg0610.tlg001': (2359596, 2363122),\n 'tlg0014.tlg010': (2363122, 2367321),\n 'tlg0017.tlg005': (2367321, 2370312),\n 'tlg0059.tlg034': (2370312, 2469323),\n 'tlg0014.tlg032': (2469323, 2471112),\n 'tlg0014.tlg025': (2471112, 2477592),\n 'tlg0010.tlg006': (2477592, 2480330),\n 'tlg0014.tlg056': (2480330, 2483327),\n 'tlg0014.tlg037': (2483327, 2486806),\n 'tlg0751.tlg034': (2486806, 2488286),\n 'tlg0627.tlg053': (2488286, 2489364),\n 'tlg0014.tlg043': (2489364, 2495572),\n 'tlg0019.tlg002': (2495572, 2503379),\n 'tlg0014.tlg041': (2503379, 2505251),\n 'tlg0627.tlg004': (2505251, 2510693),\n 'tlg0030.tlg004': (2510693, 2513208),\n 'tlg0540.tlg029': (2513208, 2513866),\n 'tlg0032.tlg012': (2513866, 2519153),\n 'tlg0032.tlg010': (2519153, 2523744),\n 'tlg0017.tlg009': (2523744, 2525951),\n 'tlg0006.tlg006': (2525951, 2533476),\n 'tlg0059.tlg026': (2533476, 2536993),\n 'tlg0093.tlg010': (2536993, 2548894),\n 'tlg0059.tlg012': (2548894, 2564322),\n 'tlg0014.tlg045': (2564322, 2569846),\n 'tlg0085.tlg001': (2569846, 2575623),\n 'tlg0006.tlg012': (2575623, 2584026),\n 'tlg0093.ogl002': (2584026, 2587750),\n 'tlg0010.tlg015': (2587750, 2592107),\n 'tlg0540.tlg015': (2592107, 2592715),\n 'tlg0627.tlg036': (2592715, 2642054),\n 'tlg0627.tlg050': (2642054, 2643348),\n 'tlg0059.tlg005': (2643348, 2659164),\n 'tlg0006.tlg008': (2659164, 2667063),\n 'tlg0028.tlg001': (2667063, 2668626),\n 'tlg0093.tlg009': (2668626, 2675004),\n 'tlg0610.perseu': (2675004, 2677014),\n 'tlg0010.tlg002': (2677014, 2680354),\n 'tlg0059.tlg011': (2680354, 2696155),\n 'tlg0010.tlg026': (2696155, 2696846),\n 'tlg0032.tlg001': (2696846, 2758979),\n 'tlg0006.tlg007': (2758979, 2766849),\n 'tlg0006.tlg017': (2766849, 2775211),\n 'tlg0028.tlg006': (2775211, 2778397),\n 'tlg0086.tlg054': (2778397, 2780259),\n 'tlg0627.tlg007': (2780259, 2784760),\n 'tlg0026.tlg002': (2784760, 2796359),\n 'tlg0030.tlg005': (2796359, 2798287),\n 'tlg0014.tlg003': (2798287, 2800503),\n 'tlg0019.tlg007': (2800503, 2807287),\n 'tlg0086.tlg006': (2807287, 2816175),\n 'tlg0032.tlg009': (2816175, 2823281),\n 'tlg0086.tlg031': (2823281, 2863156),\n 'tlg0085.tlg004': (2863156, 2869187),\n 'tlg0540.tlg020': (2869187, 2870837),\n 'tlg0086.tlg005': (2870837, 2894190),\n 'tlg0028.tlg004': (2894190, 2895919),\n 'tlg0093.tlg001': (2895919, 2958477),\n 'tlg0627.tlg019': (2958477, 2961935),\n 'tlg0006.tlg016': (2961935, 2972389),\n 'tlg0540.tlg014': (2972389, 2974783),\n 'tlg0540.tlg019': (2974783, 2977790),\n 'tlg0017.tlg003': (2977790, 2982109),\n 'tlg0086.tlg003': (2982109, 2997794),\n 'tlg0006.tlg019': (2997794, 3003835),\n 'tlg0199.tlg001': (3003835, 3008255),\n 'tlg0086.tlg037': (3008255, 3013251),\n 'tlg0059.tlg020': (3013251, 3018919),\n 'tlg0627.tlg055': (3018919, 3030674),\n 'tlg0014.tlg029': (3030674, 3034423),\n 'tlg0627.tlg037': (3034423, 3034801),\n 'tlg0032.tlg002': (3034801, 3068038),\n 'tlg0540.tlg018': (3068038, 3069310),\n 'tlg0014.tlg039': (3069310, 3071927),\n 'tlg0011.tlg003': (3071927, 3080126),\n 'tlg0014.tlg027': (3080126, 3084680),\n 'tlg0627.tlg002': (3084680, 3091053),\n 'tlg0058.tlg001': (3091053, 3104415),\n 'tlg0059.tlg008': (3104415, 3119794),\n 'tlg0014.tlg023': (3119794, 3134815),\n 'tlg0086.tlg014': (3134815, 3213459),\n 'tlg0010.tlg021': (3213459, 3228512),\n 'tlg0017.tlg006': (3228512, 3232119)}"
     },
     "execution_count": 101,
     "metadata": {},
     "output_type": "execute_result"
    }
   ],
   "source": [
    "ids_lines"
   ],
   "metadata": {
    "collapsed": false
   }
  },
  {
   "cell_type": "code",
   "execution_count": 143,
   "outputs": [],
   "source": [
    "pickle.dump(ids_lines, open(\"../data/ids_lines.pickle\", \"wb\"))"
   ],
   "metadata": {
    "collapsed": false
   }
  },
  {
   "cell_type": "markdown",
   "source": [],
   "metadata": {
    "collapsed": false
   }
  },
  {
   "cell_type": "markdown",
   "source": [
    "# Testing that the indexing works"
   ],
   "metadata": {
    "collapsed": false
   }
  },
  {
   "cell_type": "code",
   "execution_count": 104,
   "outputs": [
    {
     "name": "stdout",
     "output_type": "stream",
     "text": [
      "['ζῷον', 'μόριον', 'εἰμί', 'ἀσύνθετος', 'διαιρέω', 'ὁμοιομερής', 'σάρξ', 'σάρξ', 'σύνθετος', 'ἀνομοιομερής', 'χείρ', 'χείρ', 'διαιρέω', 'πρόσωπον', 'πρόσωπον']\n",
      "['τοιοῦτος', 'ἔνιοι', 'μέρος', 'μέλος', 'καλέω']\n",
      "['τοιοῦτος', 'εἰμί', 'μέρος', 'ὅλος', 'εἰμί', 'ἕτερος', 'μέρος', 'ἔχω', 'κεφαλή', 'σκέλος', 'χείρ', 'ὅλος', 'βραχίων', 'θώραξ']\n",
      "['οὗτος', 'αὐτός', 'εἰμί', 'μέρος', 'ὅλος', 'εἰμί', 'αὐτός', 'ἕτερος', 'μόριον']\n",
      "['πᾶς', 'ἀνομοιομερής', 'σύγκειμαι', 'ὁμοιομερής', 'χείρ', 'σάρξ', 'νεῦρον', 'ὀστέον']\n",
      "['ἔχω', 'ζῷον', 'ἔνιοι', 'πᾶς', 'μόριος', 'αὐτός', 'ἔνιοι', 'ἕτερος']\n",
      "['αὐτός', 'εἶδος', 'μόριον', 'εἰμί', 'ἄνθρωπος', 'ῥίς', 'ὀφθαλμός', 'ἄνθρωπος', 'ῥίς', 'ὀφθαλμός', 'σάρξ', 'σάρξ', 'ὀστέον', 'ὀστέον']\n",
      "['αὐτός', 'τρόπος', 'ἵππος', 'ἄλλος', 'ζῷον', 'εἶδος', 'αὐτός', 'λέγω']\n",
      "['ὅλος', 'ἔχω', 'ὅλος', 'μόριος', 'ἔχω', 'ἕκαστος', 'ἕκαστος']\n",
      "['αὐτός', 'εἰμί', 'διαφέρω', 'ὑπεροχή', 'ἔλλειψις', 'γένος', 'εἰμί', 'αὐτός']\n"
     ]
    }
   ],
   "source": [
    "with open(\"../data/large_data/corpus_ngrams_bydocid.txt\", \"r\") as f:\n",
    "    lines = f.readlines()\n",
    "    doc_vals = ids_lines[\"tlg0086.tlg014\"]\n",
    "    for line in lines[doc_vals[0]:doc_vals[1]][:10]:\n",
    "        if bool(line.split()):\n",
    "            print(line.split())"
   ],
   "metadata": {
    "collapsed": false
   }
  },
  {
   "cell_type": "code",
   "execution_count": 106,
   "outputs": [
    {
     "data": {
      "text/plain": "694    [[ζῷον, μόριον, εἰμί, ἀσύνθετος, διαιρέω, ὁμοι...\nName: lemmatized_sentences, dtype: object"
     },
     "execution_count": 106,
     "metadata": {},
     "output_type": "execute_result"
    }
   ],
   "source": [
    "cgl[cgl[\"doc_id\"]==\"tlg0086.tlg014\"][\"lemmatized_sentences\"]"
   ],
   "metadata": {
    "collapsed": false
   }
  },
  {
   "cell_type": "code",
   "execution_count": 107,
   "outputs": [
    {
     "data": {
      "text/plain": "['tlg0086.tlg001',\n 'tlg0086.tlg002',\n 'tlg0086.tlg005',\n 'tlg0086.tlg006',\n 'tlg0086.tlg008']"
     },
     "execution_count": 107,
     "metadata": {},
     "output_type": "execute_result"
    }
   ],
   "source": [
    "c_aristotelicum_ids = cgl[cgl[\"subcorpus\"]==\"c_aristotelicum\"][\"doc_id\"].tolist()\n",
    "c_aristotelicum_ids[:5]"
   ],
   "metadata": {
    "collapsed": false
   }
  },
  {
   "cell_type": "code",
   "execution_count": 108,
   "outputs": [],
   "source": [
    "ids_list = c_aristotelicum_ids[:5]"
   ],
   "metadata": {
    "collapsed": false
   }
  },
  {
   "cell_type": "code",
   "execution_count": 109,
   "outputs": [],
   "source": [
    "class NgramCorpus:\n",
    "    def __iter__(self):\n",
    "        with open(\"../data/large_data/corpus_ngrams_bydocid.txt\", \"r\") as f:\n",
    "            lines = f.readlines()\n",
    "            for phi_id in ids_list:\n",
    "                for line in lines[ids_lines[phi_id][0] : ids_lines[phi_id][1]]:\n",
    "                    if bool(line.split()):\n",
    "                        yield line.split()"
   ],
   "metadata": {
    "collapsed": false
   }
  },
  {
   "cell_type": "code",
   "execution_count": 110,
   "outputs": [
    {
     "data": {
      "text/plain": "[['πρῶτος',\n  'λέγω',\n  'τίς',\n  'τίς',\n  'εἰμί',\n  'σκέψις',\n  'ἀπόδειξις',\n  'ἐπιστήμη',\n  'ἀποδεικτικός'],\n ['διορίζω',\n  'τίς',\n  'εἰμί',\n  'πρότασις',\n  'τίς',\n  'ὅρος',\n  'τίς',\n  'συλλογισμός',\n  'ποῖος',\n  'τέλειος',\n  'ποῖος',\n  'ἀτελής',\n  'οὗτος',\n  'τίς',\n  'ὅλος',\n  'εἰμί',\n  'εἰμί',\n  'ὅδε',\n  'ὅδε',\n  'τίς',\n  'λέγω',\n  'πᾶς',\n  'μηδείς',\n  'κατηγορέω'],\n ['πρότασις', 'εἰμί', 'λόγος', 'καταφατικός', 'ἀποφατικός', 'τις', 'τις'],\n ['οὗτος', 'μέρος', 'ἀδιόριστος'],\n ['λέγω',\n  'πᾶς',\n  'μηδείς',\n  'ὑπάρχω',\n  'μέρος',\n  'τις',\n  'τις',\n  'πᾶς',\n  'ὑπάρχω',\n  'ἀδιόριστος',\n  'ὑπάρχω',\n  'ὑπάρχω',\n  'μέρος',\n  'ἐναντίος',\n  'εἰμί',\n  'αὐτός',\n  'ἐπιστήμη',\n  'ἡδονή',\n  'εἰμί',\n  'ἀγαθός']]"
     },
     "execution_count": 110,
     "metadata": {},
     "output_type": "execute_result"
    }
   ],
   "source": [
    "corpus = NgramCorpus()\n",
    "[doc for doc in corpus][:5]"
   ],
   "metadata": {
    "collapsed": false
   }
  },
  {
   "cell_type": "code",
   "execution_count": null,
   "outputs": [],
   "source": [],
   "metadata": {
    "collapsed": false
   }
  },
  {
   "cell_type": "code",
   "execution_count": 130,
   "outputs": [],
   "source": [
    "dct = Dictionary([vocabulary])"
   ],
   "metadata": {
    "collapsed": false
   }
  },
  {
   "cell_type": "code",
   "execution_count": 134,
   "outputs": [
    {
     "name": "stdout",
     "output_type": "stream",
     "text": [
      "['πρῶτος', 'λέγω', 'τίς', 'τίς', 'εἰμί', 'σκέψις', 'ἀπόδειξις', 'ἐπιστήμη', 'ἀποδεικτικός']\n"
     ]
    }
   ],
   "source": [
    "test_doc = [doc for doc in corpus][0]\n",
    "print(test_doc)"
   ],
   "metadata": {
    "collapsed": false
   }
  },
  {
   "cell_type": "code",
   "execution_count": 135,
   "outputs": [
    {
     "data": {
      "text/plain": "[(1008, 1), (1680, 1), (1759, 1), (2547, 1), (2965, 1)]"
     },
     "execution_count": 135,
     "metadata": {},
     "output_type": "execute_result"
    }
   ],
   "source": [
    "dct.doc2bow(test_doc)"
   ],
   "metadata": {
    "collapsed": false
   }
  },
  {
   "cell_type": "code",
   "execution_count": 163,
   "outputs": [],
   "source": [
    "class NgramCorpus(object):\n",
    "    def __init__(self, ids_list, ids_lines, fname, bow=False, dct=None):\n",
    "        self.ids_list = ids_list\n",
    "        self.fname = fname\n",
    "        self.bow  = bow\n",
    "        self.dct = dct\n",
    "        self.ids_lines = ids_lines\n",
    "        self.len = 0\n",
    "    def __len__(self):\n",
    "        [el for el in self]\n",
    "        return self.len\n",
    "    def __iter__(self):\n",
    "        with open(self.fname, \"r\") as f:\n",
    "            lines = f.readlines()\n",
    "            for id in self.ids_list:\n",
    "                for line in lines[self.ids_lines[id][0] : self.ids_lines[id][1]]:\n",
    "                    if bool(line.split()):\n",
    "                        self.len += 1\n",
    "                        if (self.bow) & (self.dct != None):\n",
    "                            yield self.dct.doc2bow(line.split())\n",
    "                        else:\n",
    "                            yield line.split()"
   ],
   "metadata": {
    "collapsed": false
   }
  },
  {
   "cell_type": "code",
   "execution_count": 164,
   "outputs": [],
   "source": [
    "corpus = NgramCorpus(c_aristotelicum_ids[:4], ids_lines, \"../data/large_data/corpus_ngrams_bydocid.txt\", bow=True, dct=dct)"
   ],
   "metadata": {
    "collapsed": false
   }
  },
  {
   "cell_type": "code",
   "execution_count": 165,
   "outputs": [
    {
     "data": {
      "text/plain": "99529"
     },
     "execution_count": 165,
     "metadata": {},
     "output_type": "execute_result"
    }
   ],
   "source": [
    "len(corpus)"
   ],
   "metadata": {
    "collapsed": false
   }
  },
  {
   "cell_type": "code",
   "execution_count": 166,
   "outputs": [
    {
     "data": {
      "text/plain": "[(1008, 1), (1680, 1), (1759, 1), (2547, 1), (2965, 1)]"
     },
     "execution_count": 166,
     "metadata": {},
     "output_type": "execute_result"
    }
   ],
   "source": [
    "[doc for doc in corpus][0]"
   ],
   "metadata": {
    "collapsed": false
   }
  },
  {
   "cell_type": "code",
   "execution_count": null,
   "outputs": [],
   "source": [],
   "metadata": {
    "collapsed": false
   }
  }
 ],
 "metadata": {
  "colab": {
   "collapsed_sections": [],
   "name": "0_EXTRACTING-CORPORA.ipynb",
   "provenance": []
  },
  "kernelspec": {
   "name": "pipa_venv",
   "language": "python",
   "display_name": "pipa_venv"
  },
  "language_info": {
   "codemirror_mode": {
    "name": "ipython",
    "version": 3
   },
   "file_extension": ".py",
   "mimetype": "text/x-python",
   "name": "python",
   "nbconvert_exporter": "python",
   "pygments_lexer": "ipython3",
   "version": "3.6.9"
  }
 },
 "nbformat": 4,
 "nbformat_minor": 1
}
