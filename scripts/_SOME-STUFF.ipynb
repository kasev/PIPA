{
 "cells": [
  {
   "cell_type": "code",
   "execution_count": 1,
   "metadata": {
    "pycharm": {
     "name": "#%%\n"
    }
   },
   "outputs": [],
   "source": [
    "# requirements\n",
    "\n",
    "import pandas as pd\n",
    "import numpy as np\n",
    "import requests\n",
    "import json\n",
    "import nltk\n",
    "import matplotlib.pyplot as plt\n",
    "import matplotlib.colors as mcolors\n",
    "import seaborn as sns\n",
    "import math"
   ]
  },
  {
   "cell_type": "code",
   "execution_count": 2,
   "outputs": [
    {
     "name": "stdout",
     "output_type": "stream",
     "text": [
      "endpoint variable has been configured to: https://sciencedata.dk/files/\n"
     ]
    }
   ],
   "source": [
    "# to communicate with google spreadsheet...\n",
    "import gspread\n",
    "from gspread_dataframe import get_as_dataframe\n",
    "from gspread_dataframe import set_with_dataframe\n",
    "from google.oauth2 import service_account # based on google-auth library\n",
    "import sddk\n",
    "\n",
    "s = sddk.cloudSession(\"sciencedata.dk\")\n",
    "# establish connection with gogglesheets...\n",
    "file_data = s.read_file(\"https://sciencedata.dk/files/ServiceAccountsKey.json\", \"dict\") # or load it from a local storage: json.load(open(\"../../ServiceAccountsKey.json\", \"r\"))\n",
    "credentials = service_account.Credentials.from_service_account_info(file_data)\n",
    "gc = gspread.Client(auth=credentials.with_scopes(['https://spreadsheets.google.com/feeds', 'https://www.googleapis.com/auth/drive']))\n",
    "PIPA_data = gc.open_by_url(\"https://docs.google.com/spreadsheets/d/1rV4t0_UV_wcx--UAHVwkqB8Wa_5n9mnpV05yGG1OHqk/edit?usp=sharing\")"
   ],
   "metadata": {
    "collapsed": false,
    "pycharm": {
     "name": "#%%\n"
    }
   }
  },
  {
   "cell_type": "code",
   "execution_count": 3,
   "metadata": {
    "pycharm": {
     "name": "#%%\n"
    }
   },
   "outputs": [],
   "source": [
    "cgl = pd.read_json(\"../data/large_data/cgl_repl.json\")"
   ]
  },
  {
   "cell_type": "code",
   "execution_count": 4,
   "outputs": [
    {
     "data": {
      "text/plain": "                           filename      author                  title  \\\n1   tlg0003.tlg001.perseus-grc2.xml  Thucydides  The Peloponnesian War   \n6   tlg0006.tlg001.perseus-grc2.xml   Euripides                Cyclops   \n7   tlg0006.tlg004.perseus-grc2.xml   Euripides             Ἡρακλεῖδαι   \n8   tlg0006.tlg005.perseus-grc2.xml   Euripides              Ἱππόλυτος   \n9   tlg0006.tlg006.perseus-grc2.xml   Euripides              Ἀνδρομάχη   \n10  tlg0006.tlg007.perseus-grc2.xml   Euripides                  Ἑκάβη   \n11  tlg0006.tlg008.perseus-grc2.xml   Euripides               Ἱκέτιδες   \n12  tlg0006.tlg009.perseus-grc2.xml   Euripides                Ἡρακλῆς   \n13  tlg0006.tlg010.perseus-grc2.xml   Euripides                    Ἴων   \n14  tlg0006.tlg011.perseus-grc2.xml   Euripides                Τρῳάδες   \n\n    wordcount author_id          doc_id raw_date  date_avr   date_probs  \\\n1      150118   tlg0003  tlg0003.tlg001   5 B.C.      -4.5  {'-4.5': 1}   \n6        4141   tlg0006  tlg0006.tlg001   5 B.C.      -4.5  {'-4.5': 1}   \n7        6272   tlg0006  tlg0006.tlg004   5 B.C.      -4.5  {'-4.5': 1}   \n8        8257   tlg0006  tlg0006.tlg005   5 B.C.      -4.5  {'-4.5': 1}   \n9        7397   tlg0006  tlg0006.tlg006   5 B.C.      -4.5  {'-4.5': 1}   \n10       7340   tlg0006  tlg0006.tlg007   5 B.C.      -4.5  {'-4.5': 1}   \n11       7166   tlg0006  tlg0006.tlg008   5 B.C.      -4.5  {'-4.5': 1}   \n12       7977   tlg0006  tlg0006.tlg009   5 B.C.      -4.5  {'-4.5': 1}   \n13       9339   tlg0006  tlg0006.tlg010   5 B.C.      -4.5  {'-4.5': 1}   \n14       7230   tlg0006  tlg0006.tlg011   5 B.C.      -4.5  {'-4.5': 1}   \n\n    date_manual provenience    tlg_epithet  \\\n1          -4.5       pagan  Historici/-ae   \n6          -4.5       pagan        Tragici   \n7          -4.5       pagan        Tragici   \n8          -4.5       pagan        Tragici   \n9          -4.5       pagan        Tragici   \n10         -4.5       pagan        Tragici   \n11         -4.5       pagan        Tragici   \n12         -4.5       pagan        Tragici   \n13         -4.5       pagan        Tragici   \n14         -4.5       pagan        Tragici   \n\n                                         clean_string  n_sentences  \\\n1    Θουκυδίδης Ἀθηναῖος ξυνέγραψε τὸν πόλεμον τῶν...         6068   \n6   Ὦ Βρόμιε, διὰ σὲ μυρίους ἔχω πόνους νῦν χὥτʼ ἐ...          529   \n7    Πάλαι ποτʼ ἐστὶ τοῦτʼ ἐμοὶ δεδογμένον· ὁ μὲν ...          662   \n8    Πολλὴ μὲν ἐν βροτοῖσι κοὐκ ἀνώνυμος, θεὰ κέκλ...          918   \n9    Ἀσιάτιδος γῆς σχῆμα, Θηβαία πόλι, ὅθεν ποθʼ ἕ...          712   \n10  Ἥκω νεκρῶν κευθμῶνα καὶ σκότου πύλας λιπών, ἵν...          754   \n11   Δήμητερ ἑστιοῦχʼ Ἐλευσῖνος χθονὸς τῆσδʼ, οἵ τ...          721   \n12   Τίς τὸν Διὸς σύλλεκτρον οὐκ οἶδεν βροτῶν, Ἀργ...          842   \n13   Ἄτλας, ὁ χαλκέοισι νώτοις οὐρανὸν θεῶν παλαιὸ...         1090   \n14   Ἥκω λιπὼν Αἴγαιον ἁλμυρὸν βάθος πόντου Ποσειδ...          690   \n\n                                 lemmatized_sentences  \\\n1   [[θουκυδίδης, Ἀθηναῖος, συγγράφω, πόλεμος, Πελ...   \n6   [[Βρόμιος, ἔχω, πόνος, χὥτʼ, ἥβη, ἐμός, εὐσθεν...   \n7   [[ποτός, εἰμί, οὗτος, δεδογμένον], [δίκαιος, φ...   \n8   [[πολύς, βροτός, ἀνώνυμος, θεά, καλέω, Κύπρις,...   \n9   [[Ἀσιανός, γῆ, σχῆμα, θηβαία, πόλις, ἑδνόω, πο...   \n10  [[ἥκω, νεκρός, κευθμών, σκότος, πύλη, λιπάω, ᾍ...   \n11  [[Δήμητηρ, ἑστιοῦχος, Ἐλευσίς, χθών, ναός, ἔχω...   \n12  [[Ζεύς, σύλλεκτρος, οἶδα, βροτός, Ἀργεῖος, ἀμφ...   \n13  [[Ἄτλας, χαλκοῦς, νῶτον, οὐρανός, θεός, παλαιό...   \n14  [[ἥκω, λείπω, Αἰγαῖος, ἁλμυρός, βάθος, Πόντος,...   \n\n                                              lemmata  lemmata_wordcount  \\\n1   [θουκυδίδης, Ἀθηναῖος, συγγράφω, πόλεμος, Πελο...              71863   \n6   [Βρόμιος, ἔχω, πόνος, χὥτʼ, ἥβη, ἐμός, εὐσθενέ...               2535   \n7   [ποτός, εἰμί, οὗτος, δεδογμένον, δίκαιος, φύω,...               3545   \n8   [πολύς, βροτός, ἀνώνυμος, θεά, καλέω, Κύπρις, ...               4898   \n9   [Ἀσιανός, γῆ, σχῆμα, θηβαία, πόλις, ἑδνόω, πολ...               4420   \n10  [ἥκω, νεκρός, κευθμών, σκότος, πύλη, λιπάω, ᾍδ...               4422   \n11  [Δήμητηρ, ἑστιοῦχος, Ἐλευσίς, χθών, ναός, ἔχω,...               4402   \n12  [Ζεύς, σύλλεκτρος, οἶδα, βροτός, Ἀργεῖος, ἀμφι...               4936   \n13  [Ἄτλας, χαλκοῦς, νῶτον, οὐρανός, θεός, παλαιός...               5643   \n14  [ἥκω, λείπω, Αἰγαῖος, ἁλμυρός, βάθος, Πόντος, ...               4536   \n\n   subcorpus                                       lemmata_repl  \\\n1       None  [θουκυδίδης, Ἀθηναῖος, συγγράφω, πόλεμος, Πελο...   \n6       None  [Βρόμιος, ἔχω, πόνο*, χὥτʼ, ἥβη, ἐμός, εὐσθενέ...   \n7       None  [ποτός, εἰμί, οὗτος, δεδογμένον, δίκαιος, φύω,...   \n8       None  [πολύς, βροτός, ἀνώνυμος, θεά, καλέω, Κύπρις, ...   \n9       None  [Ἀσιανός, γῆ, σχῆμα, θηβαία, πόλις, ἑδνόω, πολ...   \n10      None  [ἥκω, νεκρός, κευθμών, σκότος, πύλη, λιπάω, ᾍδ...   \n11      None  [Δήμητηρ, ἑστιοῦχος, Ἐλευσίς, χθών, ναός, ἔχω,...   \n12      None  [Ζεύς, σύλλεκτρος, οἶδα, βροτός, Ἀργεῖος, ἀμφι...   \n13      None  [Ἄτλας, χαλκοῦς, νῶτον, οὐρανός, θεός, παλαιός...   \n14      None  [ἥκω, λείπω, Αἰγαῖος, ἁλμυρός, βάθος, Πόντος, ...   \n\n                            lemmatized_sentences_repl  \n1   [[θουκυδίδης, Ἀθηναῖος, συγγράφω, πόλεμος, Πελ...  \n6   [[Βρόμιος, ἔχω, πόνο*, χὥτʼ, ἥβη, ἐμός, εὐσθεν...  \n7   [[ποτός, εἰμί, οὗτος, δεδογμένον], [δίκαιος, φ...  \n8   [[πολύς, βροτός, ἀνώνυμος, θεά, καλέω, Κύπρις,...  \n9   [[Ἀσιανός, γῆ, σχῆμα, θηβαία, πόλις, ἑδνόω, πο...  \n10  [[ἥκω, νεκρός, κευθμών, σκότος, πύλη, λιπάω, ᾍ...  \n11  [[Δήμητηρ, ἑστιοῦχος, Ἐλευσίς, χθών, ναός, ἔχω...  \n12  [[Ζεύς, σύλλεκτρος, οἶδα, βροτός, Ἀργεῖος, ἀμφ...  \n13  [[Ἄτλας, χαλκοῦς, νῶτον, οὐρανός, θεός, παλαιό...  \n14  [[ἥκω, λείπω, Αἰγαῖος, ἁλμυρός, βάθος, Πόντος,...  ",
      "text/html": "<div>\n<style scoped>\n    .dataframe tbody tr th:only-of-type {\n        vertical-align: middle;\n    }\n\n    .dataframe tbody tr th {\n        vertical-align: top;\n    }\n\n    .dataframe thead th {\n        text-align: right;\n    }\n</style>\n<table border=\"1\" class=\"dataframe\">\n  <thead>\n    <tr style=\"text-align: right;\">\n      <th></th>\n      <th>filename</th>\n      <th>author</th>\n      <th>title</th>\n      <th>wordcount</th>\n      <th>author_id</th>\n      <th>doc_id</th>\n      <th>raw_date</th>\n      <th>date_avr</th>\n      <th>date_probs</th>\n      <th>date_manual</th>\n      <th>provenience</th>\n      <th>tlg_epithet</th>\n      <th>clean_string</th>\n      <th>n_sentences</th>\n      <th>lemmatized_sentences</th>\n      <th>lemmata</th>\n      <th>lemmata_wordcount</th>\n      <th>subcorpus</th>\n      <th>lemmata_repl</th>\n      <th>lemmatized_sentences_repl</th>\n    </tr>\n  </thead>\n  <tbody>\n    <tr>\n      <th>1</th>\n      <td>tlg0003.tlg001.perseus-grc2.xml</td>\n      <td>Thucydides</td>\n      <td>The Peloponnesian War</td>\n      <td>150118</td>\n      <td>tlg0003</td>\n      <td>tlg0003.tlg001</td>\n      <td>5 B.C.</td>\n      <td>-4.5</td>\n      <td>{'-4.5': 1}</td>\n      <td>-4.5</td>\n      <td>pagan</td>\n      <td>Historici/-ae</td>\n      <td>Θουκυδίδης Ἀθηναῖος ξυνέγραψε τὸν πόλεμον τῶν...</td>\n      <td>6068</td>\n      <td>[[θουκυδίδης, Ἀθηναῖος, συγγράφω, πόλεμος, Πελ...</td>\n      <td>[θουκυδίδης, Ἀθηναῖος, συγγράφω, πόλεμος, Πελο...</td>\n      <td>71863</td>\n      <td>None</td>\n      <td>[θουκυδίδης, Ἀθηναῖος, συγγράφω, πόλεμος, Πελο...</td>\n      <td>[[θουκυδίδης, Ἀθηναῖος, συγγράφω, πόλεμος, Πελ...</td>\n    </tr>\n    <tr>\n      <th>6</th>\n      <td>tlg0006.tlg001.perseus-grc2.xml</td>\n      <td>Euripides</td>\n      <td>Cyclops</td>\n      <td>4141</td>\n      <td>tlg0006</td>\n      <td>tlg0006.tlg001</td>\n      <td>5 B.C.</td>\n      <td>-4.5</td>\n      <td>{'-4.5': 1}</td>\n      <td>-4.5</td>\n      <td>pagan</td>\n      <td>Tragici</td>\n      <td>Ὦ Βρόμιε, διὰ σὲ μυρίους ἔχω πόνους νῦν χὥτʼ ἐ...</td>\n      <td>529</td>\n      <td>[[Βρόμιος, ἔχω, πόνος, χὥτʼ, ἥβη, ἐμός, εὐσθεν...</td>\n      <td>[Βρόμιος, ἔχω, πόνος, χὥτʼ, ἥβη, ἐμός, εὐσθενέ...</td>\n      <td>2535</td>\n      <td>None</td>\n      <td>[Βρόμιος, ἔχω, πόνο*, χὥτʼ, ἥβη, ἐμός, εὐσθενέ...</td>\n      <td>[[Βρόμιος, ἔχω, πόνο*, χὥτʼ, ἥβη, ἐμός, εὐσθεν...</td>\n    </tr>\n    <tr>\n      <th>7</th>\n      <td>tlg0006.tlg004.perseus-grc2.xml</td>\n      <td>Euripides</td>\n      <td>Ἡρακλεῖδαι</td>\n      <td>6272</td>\n      <td>tlg0006</td>\n      <td>tlg0006.tlg004</td>\n      <td>5 B.C.</td>\n      <td>-4.5</td>\n      <td>{'-4.5': 1}</td>\n      <td>-4.5</td>\n      <td>pagan</td>\n      <td>Tragici</td>\n      <td>Πάλαι ποτʼ ἐστὶ τοῦτʼ ἐμοὶ δεδογμένον· ὁ μὲν ...</td>\n      <td>662</td>\n      <td>[[ποτός, εἰμί, οὗτος, δεδογμένον], [δίκαιος, φ...</td>\n      <td>[ποτός, εἰμί, οὗτος, δεδογμένον, δίκαιος, φύω,...</td>\n      <td>3545</td>\n      <td>None</td>\n      <td>[ποτός, εἰμί, οὗτος, δεδογμένον, δίκαιος, φύω,...</td>\n      <td>[[ποτός, εἰμί, οὗτος, δεδογμένον], [δίκαιος, φ...</td>\n    </tr>\n    <tr>\n      <th>8</th>\n      <td>tlg0006.tlg005.perseus-grc2.xml</td>\n      <td>Euripides</td>\n      <td>Ἱππόλυτος</td>\n      <td>8257</td>\n      <td>tlg0006</td>\n      <td>tlg0006.tlg005</td>\n      <td>5 B.C.</td>\n      <td>-4.5</td>\n      <td>{'-4.5': 1}</td>\n      <td>-4.5</td>\n      <td>pagan</td>\n      <td>Tragici</td>\n      <td>Πολλὴ μὲν ἐν βροτοῖσι κοὐκ ἀνώνυμος, θεὰ κέκλ...</td>\n      <td>918</td>\n      <td>[[πολύς, βροτός, ἀνώνυμος, θεά, καλέω, Κύπρις,...</td>\n      <td>[πολύς, βροτός, ἀνώνυμος, θεά, καλέω, Κύπρις, ...</td>\n      <td>4898</td>\n      <td>None</td>\n      <td>[πολύς, βροτός, ἀνώνυμος, θεά, καλέω, Κύπρις, ...</td>\n      <td>[[πολύς, βροτός, ἀνώνυμος, θεά, καλέω, Κύπρις,...</td>\n    </tr>\n    <tr>\n      <th>9</th>\n      <td>tlg0006.tlg006.perseus-grc2.xml</td>\n      <td>Euripides</td>\n      <td>Ἀνδρομάχη</td>\n      <td>7397</td>\n      <td>tlg0006</td>\n      <td>tlg0006.tlg006</td>\n      <td>5 B.C.</td>\n      <td>-4.5</td>\n      <td>{'-4.5': 1}</td>\n      <td>-4.5</td>\n      <td>pagan</td>\n      <td>Tragici</td>\n      <td>Ἀσιάτιδος γῆς σχῆμα, Θηβαία πόλι, ὅθεν ποθʼ ἕ...</td>\n      <td>712</td>\n      <td>[[Ἀσιανός, γῆ, σχῆμα, θηβαία, πόλις, ἑδνόω, πο...</td>\n      <td>[Ἀσιανός, γῆ, σχῆμα, θηβαία, πόλις, ἑδνόω, πολ...</td>\n      <td>4420</td>\n      <td>None</td>\n      <td>[Ἀσιανός, γῆ, σχῆμα, θηβαία, πόλις, ἑδνόω, πολ...</td>\n      <td>[[Ἀσιανός, γῆ, σχῆμα, θηβαία, πόλις, ἑδνόω, πο...</td>\n    </tr>\n    <tr>\n      <th>10</th>\n      <td>tlg0006.tlg007.perseus-grc2.xml</td>\n      <td>Euripides</td>\n      <td>Ἑκάβη</td>\n      <td>7340</td>\n      <td>tlg0006</td>\n      <td>tlg0006.tlg007</td>\n      <td>5 B.C.</td>\n      <td>-4.5</td>\n      <td>{'-4.5': 1}</td>\n      <td>-4.5</td>\n      <td>pagan</td>\n      <td>Tragici</td>\n      <td>Ἥκω νεκρῶν κευθμῶνα καὶ σκότου πύλας λιπών, ἵν...</td>\n      <td>754</td>\n      <td>[[ἥκω, νεκρός, κευθμών, σκότος, πύλη, λιπάω, ᾍ...</td>\n      <td>[ἥκω, νεκρός, κευθμών, σκότος, πύλη, λιπάω, ᾍδ...</td>\n      <td>4422</td>\n      <td>None</td>\n      <td>[ἥκω, νεκρός, κευθμών, σκότος, πύλη, λιπάω, ᾍδ...</td>\n      <td>[[ἥκω, νεκρός, κευθμών, σκότος, πύλη, λιπάω, ᾍ...</td>\n    </tr>\n    <tr>\n      <th>11</th>\n      <td>tlg0006.tlg008.perseus-grc2.xml</td>\n      <td>Euripides</td>\n      <td>Ἱκέτιδες</td>\n      <td>7166</td>\n      <td>tlg0006</td>\n      <td>tlg0006.tlg008</td>\n      <td>5 B.C.</td>\n      <td>-4.5</td>\n      <td>{'-4.5': 1}</td>\n      <td>-4.5</td>\n      <td>pagan</td>\n      <td>Tragici</td>\n      <td>Δήμητερ ἑστιοῦχʼ Ἐλευσῖνος χθονὸς τῆσδʼ, οἵ τ...</td>\n      <td>721</td>\n      <td>[[Δήμητηρ, ἑστιοῦχος, Ἐλευσίς, χθών, ναός, ἔχω...</td>\n      <td>[Δήμητηρ, ἑστιοῦχος, Ἐλευσίς, χθών, ναός, ἔχω,...</td>\n      <td>4402</td>\n      <td>None</td>\n      <td>[Δήμητηρ, ἑστιοῦχος, Ἐλευσίς, χθών, ναός, ἔχω,...</td>\n      <td>[[Δήμητηρ, ἑστιοῦχος, Ἐλευσίς, χθών, ναός, ἔχω...</td>\n    </tr>\n    <tr>\n      <th>12</th>\n      <td>tlg0006.tlg009.perseus-grc2.xml</td>\n      <td>Euripides</td>\n      <td>Ἡρακλῆς</td>\n      <td>7977</td>\n      <td>tlg0006</td>\n      <td>tlg0006.tlg009</td>\n      <td>5 B.C.</td>\n      <td>-4.5</td>\n      <td>{'-4.5': 1}</td>\n      <td>-4.5</td>\n      <td>pagan</td>\n      <td>Tragici</td>\n      <td>Τίς τὸν Διὸς σύλλεκτρον οὐκ οἶδεν βροτῶν, Ἀργ...</td>\n      <td>842</td>\n      <td>[[Ζεύς, σύλλεκτρος, οἶδα, βροτός, Ἀργεῖος, ἀμφ...</td>\n      <td>[Ζεύς, σύλλεκτρος, οἶδα, βροτός, Ἀργεῖος, ἀμφι...</td>\n      <td>4936</td>\n      <td>None</td>\n      <td>[Ζεύς, σύλλεκτρος, οἶδα, βροτός, Ἀργεῖος, ἀμφι...</td>\n      <td>[[Ζεύς, σύλλεκτρος, οἶδα, βροτός, Ἀργεῖος, ἀμφ...</td>\n    </tr>\n    <tr>\n      <th>13</th>\n      <td>tlg0006.tlg010.perseus-grc2.xml</td>\n      <td>Euripides</td>\n      <td>Ἴων</td>\n      <td>9339</td>\n      <td>tlg0006</td>\n      <td>tlg0006.tlg010</td>\n      <td>5 B.C.</td>\n      <td>-4.5</td>\n      <td>{'-4.5': 1}</td>\n      <td>-4.5</td>\n      <td>pagan</td>\n      <td>Tragici</td>\n      <td>Ἄτλας, ὁ χαλκέοισι νώτοις οὐρανὸν θεῶν παλαιὸ...</td>\n      <td>1090</td>\n      <td>[[Ἄτλας, χαλκοῦς, νῶτον, οὐρανός, θεός, παλαιό...</td>\n      <td>[Ἄτλας, χαλκοῦς, νῶτον, οὐρανός, θεός, παλαιός...</td>\n      <td>5643</td>\n      <td>None</td>\n      <td>[Ἄτλας, χαλκοῦς, νῶτον, οὐρανός, θεός, παλαιός...</td>\n      <td>[[Ἄτλας, χαλκοῦς, νῶτον, οὐρανός, θεός, παλαιό...</td>\n    </tr>\n    <tr>\n      <th>14</th>\n      <td>tlg0006.tlg011.perseus-grc2.xml</td>\n      <td>Euripides</td>\n      <td>Τρῳάδες</td>\n      <td>7230</td>\n      <td>tlg0006</td>\n      <td>tlg0006.tlg011</td>\n      <td>5 B.C.</td>\n      <td>-4.5</td>\n      <td>{'-4.5': 1}</td>\n      <td>-4.5</td>\n      <td>pagan</td>\n      <td>Tragici</td>\n      <td>Ἥκω λιπὼν Αἴγαιον ἁλμυρὸν βάθος πόντου Ποσειδ...</td>\n      <td>690</td>\n      <td>[[ἥκω, λείπω, Αἰγαῖος, ἁλμυρός, βάθος, Πόντος,...</td>\n      <td>[ἥκω, λείπω, Αἰγαῖος, ἁλμυρός, βάθος, Πόντος, ...</td>\n      <td>4536</td>\n      <td>None</td>\n      <td>[ἥκω, λείπω, Αἰγαῖος, ἁλμυρός, βάθος, Πόντος, ...</td>\n      <td>[[ἥκω, λείπω, Αἰγαῖος, ἁλμυρός, βάθος, Πόντος,...</td>\n    </tr>\n  </tbody>\n</table>\n</div>"
     },
     "execution_count": 4,
     "metadata": {},
     "output_type": "execute_result"
    }
   ],
   "source": [
    "cgl.head(10)"
   ],
   "metadata": {
    "collapsed": false,
    "pycharm": {
     "name": "#%%\n"
    }
   }
  },
  {
   "cell_type": "code",
   "execution_count": 5,
   "metadata": {
    "pycharm": {
     "name": "#%%\n"
    }
   },
   "outputs": [],
   "source": [
    "# greek dictionary - used for automatic translations\n",
    "morpheus_by_lemma = json.loads(requests.get(\"https://sciencedata.dk/public/8fe7d59de1eafe5f8eaebc0044534606/morpheus_by_lemma.json\").content)"
   ]
  },
  {
   "cell_type": "code",
   "execution_count": 6,
   "metadata": {
    "pycharm": {
     "name": "#%%\n"
    }
   },
   "outputs": [],
   "source": [
    "key_words = ['πόνο*', 'ὀδύν*', 'ἄλγ*', 'λύπ*']"
   ]
  },
  {
   "cell_type": "code",
   "execution_count": 7,
   "outputs": [],
   "source": [
    "for keyword in key_words:\n",
    "    cgl[\"count_\" + keyword] = cgl[\"lemmata_repl\"].apply(lambda x: x.count(keyword))"
   ],
   "metadata": {
    "collapsed": false,
    "pycharm": {
     "name": "#%%\n"
    }
   }
  },
  {
   "cell_type": "code",
   "execution_count": 18,
   "outputs": [
    {
     "data": {
      "text/plain": "                           filename      author                  title  \\\n1   tlg0003.tlg001.perseus-grc2.xml  Thucydides  The Peloponnesian War   \n6   tlg0006.tlg001.perseus-grc2.xml   Euripides                Cyclops   \n7   tlg0006.tlg004.perseus-grc2.xml   Euripides             Ἡρακλεῖδαι   \n8   tlg0006.tlg005.perseus-grc2.xml   Euripides              Ἱππόλυτος   \n9   tlg0006.tlg006.perseus-grc2.xml   Euripides              Ἀνδρομάχη   \n10  tlg0006.tlg007.perseus-grc2.xml   Euripides                  Ἑκάβη   \n11  tlg0006.tlg008.perseus-grc2.xml   Euripides               Ἱκέτιδες   \n12  tlg0006.tlg009.perseus-grc2.xml   Euripides                Ἡρακλῆς   \n13  tlg0006.tlg010.perseus-grc2.xml   Euripides                    Ἴων   \n14  tlg0006.tlg011.perseus-grc2.xml   Euripides                Τρῳάδες   \n\n    wordcount author_id          doc_id raw_date  date_avr   date_probs  \\\n1      150118   tlg0003  tlg0003.tlg001   5 B.C.      -4.5  {'-4.5': 1}   \n6        4141   tlg0006  tlg0006.tlg001   5 B.C.      -4.5  {'-4.5': 1}   \n7        6272   tlg0006  tlg0006.tlg004   5 B.C.      -4.5  {'-4.5': 1}   \n8        8257   tlg0006  tlg0006.tlg005   5 B.C.      -4.5  {'-4.5': 1}   \n9        7397   tlg0006  tlg0006.tlg006   5 B.C.      -4.5  {'-4.5': 1}   \n10       7340   tlg0006  tlg0006.tlg007   5 B.C.      -4.5  {'-4.5': 1}   \n11       7166   tlg0006  tlg0006.tlg008   5 B.C.      -4.5  {'-4.5': 1}   \n12       7977   tlg0006  tlg0006.tlg009   5 B.C.      -4.5  {'-4.5': 1}   \n13       9339   tlg0006  tlg0006.tlg010   5 B.C.      -4.5  {'-4.5': 1}   \n14       7230   tlg0006  tlg0006.tlg011   5 B.C.      -4.5  {'-4.5': 1}   \n\n    date_manual  ...                               lemmatized_sentences  \\\n1          -4.5  ...  [[θουκυδίδης, Ἀθηναῖος, συγγράφω, πόλεμος, Πελ...   \n6          -4.5  ...  [[Βρόμιος, ἔχω, πόνος, χὥτʼ, ἥβη, ἐμός, εὐσθεν...   \n7          -4.5  ...  [[ποτός, εἰμί, οὗτος, δεδογμένον], [δίκαιος, φ...   \n8          -4.5  ...  [[πολύς, βροτός, ἀνώνυμος, θεά, καλέω, Κύπρις,...   \n9          -4.5  ...  [[Ἀσιανός, γῆ, σχῆμα, θηβαία, πόλις, ἑδνόω, πο...   \n10         -4.5  ...  [[ἥκω, νεκρός, κευθμών, σκότος, πύλη, λιπάω, ᾍ...   \n11         -4.5  ...  [[Δήμητηρ, ἑστιοῦχος, Ἐλευσίς, χθών, ναός, ἔχω...   \n12         -4.5  ...  [[Ζεύς, σύλλεκτρος, οἶδα, βροτός, Ἀργεῖος, ἀμφ...   \n13         -4.5  ...  [[Ἄτλας, χαλκοῦς, νῶτον, οὐρανός, θεός, παλαιό...   \n14         -4.5  ...  [[ἥκω, λείπω, Αἰγαῖος, ἁλμυρός, βάθος, Πόντος,...   \n\n                                              lemmata lemmata_wordcount  \\\n1   [θουκυδίδης, Ἀθηναῖος, συγγράφω, πόλεμος, Πελο...             71863   \n6   [Βρόμιος, ἔχω, πόνος, χὥτʼ, ἥβη, ἐμός, εὐσθενέ...              2535   \n7   [ποτός, εἰμί, οὗτος, δεδογμένον, δίκαιος, φύω,...              3545   \n8   [πολύς, βροτός, ἀνώνυμος, θεά, καλέω, Κύπρις, ...              4898   \n9   [Ἀσιανός, γῆ, σχῆμα, θηβαία, πόλις, ἑδνόω, πολ...              4420   \n10  [ἥκω, νεκρός, κευθμών, σκότος, πύλη, λιπάω, ᾍδ...              4422   \n11  [Δήμητηρ, ἑστιοῦχος, Ἐλευσίς, χθών, ναός, ἔχω,...              4402   \n12  [Ζεύς, σύλλεκτρος, οἶδα, βροτός, Ἀργεῖος, ἀμφι...              4936   \n13  [Ἄτλας, χαλκοῦς, νῶτον, οὐρανός, θεός, παλαιός...              5643   \n14  [ἥκω, λείπω, Αἰγαῖος, ἁλμυρός, βάθος, Πόντος, ...              4536   \n\n    subcorpus                                       lemmata_repl  \\\n1        None  [θουκυδίδης, Ἀθηναῖος, συγγράφω, πόλεμος, Πελο...   \n6        None  [Βρόμιος, ἔχω, πόνο*, χὥτʼ, ἥβη, ἐμός, εὐσθενέ...   \n7        None  [ποτός, εἰμί, οὗτος, δεδογμένον, δίκαιος, φύω,...   \n8        None  [πολύς, βροτός, ἀνώνυμος, θεά, καλέω, Κύπρις, ...   \n9        None  [Ἀσιανός, γῆ, σχῆμα, θηβαία, πόλις, ἑδνόω, πολ...   \n10       None  [ἥκω, νεκρός, κευθμών, σκότος, πύλη, λιπάω, ᾍδ...   \n11       None  [Δήμητηρ, ἑστιοῦχος, Ἐλευσίς, χθών, ναός, ἔχω,...   \n12       None  [Ζεύς, σύλλεκτρος, οἶδα, βροτός, Ἀργεῖος, ἀμφι...   \n13       None  [Ἄτλας, χαλκοῦς, νῶτον, οὐρανός, θεός, παλαιός...   \n14       None  [ἥκω, λείπω, Αἰγαῖος, ἁλμυρός, βάθος, Πόντος, ...   \n\n                            lemmatized_sentences_repl  count_πόνο*  \\\n1   [[θουκυδίδης, Ἀθηναῖος, συγγράφω, πόλεμος, Πελ...           31   \n6   [[Βρόμιος, ἔχω, πόνο*, χὥτʼ, ἥβη, ἐμός, εὐσθεν...            7   \n7   [[ποτός, εἰμί, οὗτος, δεδογμένον], [δίκαιος, φ...           11   \n8   [[πολύς, βροτός, ἀνώνυμος, θεά, καλέω, Κύπρις,...            8   \n9   [[Ἀσιανός, γῆ, σχῆμα, θηβαία, πόλις, ἑδνόω, πο...            5   \n10  [[ἥκω, νεκρός, κευθμών, σκότος, πύλη, λιπάω, ᾍ...            9   \n11  [[Δήμητηρ, ἑστιοῦχος, Ἐλευσίς, χθών, ναός, ἔχω...           18   \n12  [[Ζεύς, σύλλεκτρος, οἶδα, βροτός, Ἀργεῖος, ἀμφ...           16   \n13  [[Ἄτλας, χαλκοῦς, νῶτον, οὐρανός, θεός, παλαιό...           12   \n14  [[ἥκω, λείπω, Αἰγαῖος, ἁλμυρός, βάθος, Πόντος,...            9   \n\n   count_ὀδύν* count_ἄλγ* count_λύπ*  \n1            0          6         25  \n6            0          0          1  \n7            0          1          2  \n8            3          8          8  \n9            0          7          4  \n10           0          7          6  \n11           0          8          3  \n12           0          1          6  \n13           1          3          6  \n14           0         11          5  \n\n[10 rows x 24 columns]",
      "text/html": "<div>\n<style scoped>\n    .dataframe tbody tr th:only-of-type {\n        vertical-align: middle;\n    }\n\n    .dataframe tbody tr th {\n        vertical-align: top;\n    }\n\n    .dataframe thead th {\n        text-align: right;\n    }\n</style>\n<table border=\"1\" class=\"dataframe\">\n  <thead>\n    <tr style=\"text-align: right;\">\n      <th></th>\n      <th>filename</th>\n      <th>author</th>\n      <th>title</th>\n      <th>wordcount</th>\n      <th>author_id</th>\n      <th>doc_id</th>\n      <th>raw_date</th>\n      <th>date_avr</th>\n      <th>date_probs</th>\n      <th>date_manual</th>\n      <th>...</th>\n      <th>lemmatized_sentences</th>\n      <th>lemmata</th>\n      <th>lemmata_wordcount</th>\n      <th>subcorpus</th>\n      <th>lemmata_repl</th>\n      <th>lemmatized_sentences_repl</th>\n      <th>count_πόνο*</th>\n      <th>count_ὀδύν*</th>\n      <th>count_ἄλγ*</th>\n      <th>count_λύπ*</th>\n    </tr>\n  </thead>\n  <tbody>\n    <tr>\n      <th>1</th>\n      <td>tlg0003.tlg001.perseus-grc2.xml</td>\n      <td>Thucydides</td>\n      <td>The Peloponnesian War</td>\n      <td>150118</td>\n      <td>tlg0003</td>\n      <td>tlg0003.tlg001</td>\n      <td>5 B.C.</td>\n      <td>-4.5</td>\n      <td>{'-4.5': 1}</td>\n      <td>-4.5</td>\n      <td>...</td>\n      <td>[[θουκυδίδης, Ἀθηναῖος, συγγράφω, πόλεμος, Πελ...</td>\n      <td>[θουκυδίδης, Ἀθηναῖος, συγγράφω, πόλεμος, Πελο...</td>\n      <td>71863</td>\n      <td>None</td>\n      <td>[θουκυδίδης, Ἀθηναῖος, συγγράφω, πόλεμος, Πελο...</td>\n      <td>[[θουκυδίδης, Ἀθηναῖος, συγγράφω, πόλεμος, Πελ...</td>\n      <td>31</td>\n      <td>0</td>\n      <td>6</td>\n      <td>25</td>\n    </tr>\n    <tr>\n      <th>6</th>\n      <td>tlg0006.tlg001.perseus-grc2.xml</td>\n      <td>Euripides</td>\n      <td>Cyclops</td>\n      <td>4141</td>\n      <td>tlg0006</td>\n      <td>tlg0006.tlg001</td>\n      <td>5 B.C.</td>\n      <td>-4.5</td>\n      <td>{'-4.5': 1}</td>\n      <td>-4.5</td>\n      <td>...</td>\n      <td>[[Βρόμιος, ἔχω, πόνος, χὥτʼ, ἥβη, ἐμός, εὐσθεν...</td>\n      <td>[Βρόμιος, ἔχω, πόνος, χὥτʼ, ἥβη, ἐμός, εὐσθενέ...</td>\n      <td>2535</td>\n      <td>None</td>\n      <td>[Βρόμιος, ἔχω, πόνο*, χὥτʼ, ἥβη, ἐμός, εὐσθενέ...</td>\n      <td>[[Βρόμιος, ἔχω, πόνο*, χὥτʼ, ἥβη, ἐμός, εὐσθεν...</td>\n      <td>7</td>\n      <td>0</td>\n      <td>0</td>\n      <td>1</td>\n    </tr>\n    <tr>\n      <th>7</th>\n      <td>tlg0006.tlg004.perseus-grc2.xml</td>\n      <td>Euripides</td>\n      <td>Ἡρακλεῖδαι</td>\n      <td>6272</td>\n      <td>tlg0006</td>\n      <td>tlg0006.tlg004</td>\n      <td>5 B.C.</td>\n      <td>-4.5</td>\n      <td>{'-4.5': 1}</td>\n      <td>-4.5</td>\n      <td>...</td>\n      <td>[[ποτός, εἰμί, οὗτος, δεδογμένον], [δίκαιος, φ...</td>\n      <td>[ποτός, εἰμί, οὗτος, δεδογμένον, δίκαιος, φύω,...</td>\n      <td>3545</td>\n      <td>None</td>\n      <td>[ποτός, εἰμί, οὗτος, δεδογμένον, δίκαιος, φύω,...</td>\n      <td>[[ποτός, εἰμί, οὗτος, δεδογμένον], [δίκαιος, φ...</td>\n      <td>11</td>\n      <td>0</td>\n      <td>1</td>\n      <td>2</td>\n    </tr>\n    <tr>\n      <th>8</th>\n      <td>tlg0006.tlg005.perseus-grc2.xml</td>\n      <td>Euripides</td>\n      <td>Ἱππόλυτος</td>\n      <td>8257</td>\n      <td>tlg0006</td>\n      <td>tlg0006.tlg005</td>\n      <td>5 B.C.</td>\n      <td>-4.5</td>\n      <td>{'-4.5': 1}</td>\n      <td>-4.5</td>\n      <td>...</td>\n      <td>[[πολύς, βροτός, ἀνώνυμος, θεά, καλέω, Κύπρις,...</td>\n      <td>[πολύς, βροτός, ἀνώνυμος, θεά, καλέω, Κύπρις, ...</td>\n      <td>4898</td>\n      <td>None</td>\n      <td>[πολύς, βροτός, ἀνώνυμος, θεά, καλέω, Κύπρις, ...</td>\n      <td>[[πολύς, βροτός, ἀνώνυμος, θεά, καλέω, Κύπρις,...</td>\n      <td>8</td>\n      <td>3</td>\n      <td>8</td>\n      <td>8</td>\n    </tr>\n    <tr>\n      <th>9</th>\n      <td>tlg0006.tlg006.perseus-grc2.xml</td>\n      <td>Euripides</td>\n      <td>Ἀνδρομάχη</td>\n      <td>7397</td>\n      <td>tlg0006</td>\n      <td>tlg0006.tlg006</td>\n      <td>5 B.C.</td>\n      <td>-4.5</td>\n      <td>{'-4.5': 1}</td>\n      <td>-4.5</td>\n      <td>...</td>\n      <td>[[Ἀσιανός, γῆ, σχῆμα, θηβαία, πόλις, ἑδνόω, πο...</td>\n      <td>[Ἀσιανός, γῆ, σχῆμα, θηβαία, πόλις, ἑδνόω, πολ...</td>\n      <td>4420</td>\n      <td>None</td>\n      <td>[Ἀσιανός, γῆ, σχῆμα, θηβαία, πόλις, ἑδνόω, πολ...</td>\n      <td>[[Ἀσιανός, γῆ, σχῆμα, θηβαία, πόλις, ἑδνόω, πο...</td>\n      <td>5</td>\n      <td>0</td>\n      <td>7</td>\n      <td>4</td>\n    </tr>\n    <tr>\n      <th>10</th>\n      <td>tlg0006.tlg007.perseus-grc2.xml</td>\n      <td>Euripides</td>\n      <td>Ἑκάβη</td>\n      <td>7340</td>\n      <td>tlg0006</td>\n      <td>tlg0006.tlg007</td>\n      <td>5 B.C.</td>\n      <td>-4.5</td>\n      <td>{'-4.5': 1}</td>\n      <td>-4.5</td>\n      <td>...</td>\n      <td>[[ἥκω, νεκρός, κευθμών, σκότος, πύλη, λιπάω, ᾍ...</td>\n      <td>[ἥκω, νεκρός, κευθμών, σκότος, πύλη, λιπάω, ᾍδ...</td>\n      <td>4422</td>\n      <td>None</td>\n      <td>[ἥκω, νεκρός, κευθμών, σκότος, πύλη, λιπάω, ᾍδ...</td>\n      <td>[[ἥκω, νεκρός, κευθμών, σκότος, πύλη, λιπάω, ᾍ...</td>\n      <td>9</td>\n      <td>0</td>\n      <td>7</td>\n      <td>6</td>\n    </tr>\n    <tr>\n      <th>11</th>\n      <td>tlg0006.tlg008.perseus-grc2.xml</td>\n      <td>Euripides</td>\n      <td>Ἱκέτιδες</td>\n      <td>7166</td>\n      <td>tlg0006</td>\n      <td>tlg0006.tlg008</td>\n      <td>5 B.C.</td>\n      <td>-4.5</td>\n      <td>{'-4.5': 1}</td>\n      <td>-4.5</td>\n      <td>...</td>\n      <td>[[Δήμητηρ, ἑστιοῦχος, Ἐλευσίς, χθών, ναός, ἔχω...</td>\n      <td>[Δήμητηρ, ἑστιοῦχος, Ἐλευσίς, χθών, ναός, ἔχω,...</td>\n      <td>4402</td>\n      <td>None</td>\n      <td>[Δήμητηρ, ἑστιοῦχος, Ἐλευσίς, χθών, ναός, ἔχω,...</td>\n      <td>[[Δήμητηρ, ἑστιοῦχος, Ἐλευσίς, χθών, ναός, ἔχω...</td>\n      <td>18</td>\n      <td>0</td>\n      <td>8</td>\n      <td>3</td>\n    </tr>\n    <tr>\n      <th>12</th>\n      <td>tlg0006.tlg009.perseus-grc2.xml</td>\n      <td>Euripides</td>\n      <td>Ἡρακλῆς</td>\n      <td>7977</td>\n      <td>tlg0006</td>\n      <td>tlg0006.tlg009</td>\n      <td>5 B.C.</td>\n      <td>-4.5</td>\n      <td>{'-4.5': 1}</td>\n      <td>-4.5</td>\n      <td>...</td>\n      <td>[[Ζεύς, σύλλεκτρος, οἶδα, βροτός, Ἀργεῖος, ἀμφ...</td>\n      <td>[Ζεύς, σύλλεκτρος, οἶδα, βροτός, Ἀργεῖος, ἀμφι...</td>\n      <td>4936</td>\n      <td>None</td>\n      <td>[Ζεύς, σύλλεκτρος, οἶδα, βροτός, Ἀργεῖος, ἀμφι...</td>\n      <td>[[Ζεύς, σύλλεκτρος, οἶδα, βροτός, Ἀργεῖος, ἀμφ...</td>\n      <td>16</td>\n      <td>0</td>\n      <td>1</td>\n      <td>6</td>\n    </tr>\n    <tr>\n      <th>13</th>\n      <td>tlg0006.tlg010.perseus-grc2.xml</td>\n      <td>Euripides</td>\n      <td>Ἴων</td>\n      <td>9339</td>\n      <td>tlg0006</td>\n      <td>tlg0006.tlg010</td>\n      <td>5 B.C.</td>\n      <td>-4.5</td>\n      <td>{'-4.5': 1}</td>\n      <td>-4.5</td>\n      <td>...</td>\n      <td>[[Ἄτλας, χαλκοῦς, νῶτον, οὐρανός, θεός, παλαιό...</td>\n      <td>[Ἄτλας, χαλκοῦς, νῶτον, οὐρανός, θεός, παλαιός...</td>\n      <td>5643</td>\n      <td>None</td>\n      <td>[Ἄτλας, χαλκοῦς, νῶτον, οὐρανός, θεός, παλαιός...</td>\n      <td>[[Ἄτλας, χαλκοῦς, νῶτον, οὐρανός, θεός, παλαιό...</td>\n      <td>12</td>\n      <td>1</td>\n      <td>3</td>\n      <td>6</td>\n    </tr>\n    <tr>\n      <th>14</th>\n      <td>tlg0006.tlg011.perseus-grc2.xml</td>\n      <td>Euripides</td>\n      <td>Τρῳάδες</td>\n      <td>7230</td>\n      <td>tlg0006</td>\n      <td>tlg0006.tlg011</td>\n      <td>5 B.C.</td>\n      <td>-4.5</td>\n      <td>{'-4.5': 1}</td>\n      <td>-4.5</td>\n      <td>...</td>\n      <td>[[ἥκω, λείπω, Αἰγαῖος, ἁλμυρός, βάθος, Πόντος,...</td>\n      <td>[ἥκω, λείπω, Αἰγαῖος, ἁλμυρός, βάθος, Πόντος, ...</td>\n      <td>4536</td>\n      <td>None</td>\n      <td>[ἥκω, λείπω, Αἰγαῖος, ἁλμυρός, βάθος, Πόντος, ...</td>\n      <td>[[ἥκω, λείπω, Αἰγαῖος, ἁλμυρός, βάθος, Πόντος,...</td>\n      <td>9</td>\n      <td>0</td>\n      <td>11</td>\n      <td>5</td>\n    </tr>\n  </tbody>\n</table>\n<p>10 rows × 24 columns</p>\n</div>"
     },
     "execution_count": 18,
     "metadata": {},
     "output_type": "execute_result"
    }
   ],
   "source": [
    "cgl.head(10)"
   ],
   "metadata": {
    "collapsed": false,
    "pycharm": {
     "name": "#%%\n"
    }
   }
  },
  {
   "cell_type": "code",
   "execution_count": 15,
   "outputs": [
    {
     "data": {
      "text/plain": "                     wordcount  n_sentences  lemmata_wordcount  count_πόνο*  \\\nauthor                                                                        \nAeneas Tacticus          13993          745               6902            6   \nAeschines                47136         3281              23031            2   \nAeschines [Sp.]           4273          188               2055            0   \nAlcidamas                 5983          263               3016            5   \nAndocides                18987         1958               8902            1   \nAntiphon                 22136         2405               9936            1   \nAntisthenes                924           61                417            0   \nAristophanes             94897        11585              50255           21   \nAristoteles              12571          792               5196            2   \nAristotle               827700        59490             362652          102   \nAristoxenus              19792         2510               8395            2   \nAutolycus                18219         1097               8117            0   \nBacchylides               5142          553               3446            1   \nDemades                   2092          207               1084            3   \nDemosthenes             294362        14564             143390           21   \nEuripides               134129        14482              81439          179   \nGorgias of Leontini       2451          249               1204            2   \nHanno                      644           64                383            0   \nHeraclides Ponticus        378           61                179            0   \nHerodotus               184947        10149              94799           27   \nHippocrates             333443        24456             171332          657   \nHyperides                12025         1392               5939            2   \nIsaeus                   34075         2986              16836            0   \nIsocrates               119155         4681              56497           45   \nLycurgus                 12400         1382               5928            1   \nLysias                   58875         4258              28254            2   \nMatron of Pitana          4136         1235               1713            1   \nPlato                   574294        52384             272931          121   \nPs. Dicaearchus           2757          207               1434            1   \nScylax                    8685         1087               5137            0   \nSophocles                61793         6197              34437           68   \nThucydides              150118         6068              71863           31   \nXenophon                312187        18988             150357          157   \n\n                     count_ὀδύν*  count_ἄλγ*  count_λύπ*  \nauthor                                                    \nAeneas Tacticus                0           0           0  \nAeschines                      0           1           5  \nAeschines [Sp.]                0           2           0  \nAlcidamas                      0           0           1  \nAndocides                      0           0           2  \nAntiphon                       0           0           1  \nAntisthenes                    0           0           0  \nAristophanes                   4          13          18  \nAristoteles                    0           0           3  \nAristotle                      5          36         411  \nAristoxenus                    0           0           0  \nAutolycus                      0           0           0  \nBacchylides                    0           1           0  \nDemades                        0           0           3  \nDemosthenes                    0           7          40  \nEuripides                     11          74          74  \nGorgias of Leontini            0           0           0  \nHanno                          0           0           0  \nHeraclides Ponticus            0           0           0  \nHerodotus                      1          10          12  \nHippocrates                  645         315          58  \nHyperides                      0           0           4  \nIsaeus                         0           0           1  \nIsocrates                      0          11          47  \nLycurgus                       0           1           0  \nLysias                         0           1           9  \nMatron of Pitana               0           0           0  \nPlato                         14          67         316  \nPs. Dicaearchus                0           0           1  \nScylax                         0           0           0  \nSophocles                      7          60          35  \nThucydides                     0           6          25  \nXenophon                       3          12          75  ",
      "text/html": "<div>\n<style scoped>\n    .dataframe tbody tr th:only-of-type {\n        vertical-align: middle;\n    }\n\n    .dataframe tbody tr th {\n        vertical-align: top;\n    }\n\n    .dataframe thead th {\n        text-align: right;\n    }\n</style>\n<table border=\"1\" class=\"dataframe\">\n  <thead>\n    <tr style=\"text-align: right;\">\n      <th></th>\n      <th>wordcount</th>\n      <th>n_sentences</th>\n      <th>lemmata_wordcount</th>\n      <th>count_πόνο*</th>\n      <th>count_ὀδύν*</th>\n      <th>count_ἄλγ*</th>\n      <th>count_λύπ*</th>\n    </tr>\n    <tr>\n      <th>author</th>\n      <th></th>\n      <th></th>\n      <th></th>\n      <th></th>\n      <th></th>\n      <th></th>\n      <th></th>\n    </tr>\n  </thead>\n  <tbody>\n    <tr>\n      <th>Aeneas Tacticus</th>\n      <td>13993</td>\n      <td>745</td>\n      <td>6902</td>\n      <td>6</td>\n      <td>0</td>\n      <td>0</td>\n      <td>0</td>\n    </tr>\n    <tr>\n      <th>Aeschines</th>\n      <td>47136</td>\n      <td>3281</td>\n      <td>23031</td>\n      <td>2</td>\n      <td>0</td>\n      <td>1</td>\n      <td>5</td>\n    </tr>\n    <tr>\n      <th>Aeschines [Sp.]</th>\n      <td>4273</td>\n      <td>188</td>\n      <td>2055</td>\n      <td>0</td>\n      <td>0</td>\n      <td>2</td>\n      <td>0</td>\n    </tr>\n    <tr>\n      <th>Alcidamas</th>\n      <td>5983</td>\n      <td>263</td>\n      <td>3016</td>\n      <td>5</td>\n      <td>0</td>\n      <td>0</td>\n      <td>1</td>\n    </tr>\n    <tr>\n      <th>Andocides</th>\n      <td>18987</td>\n      <td>1958</td>\n      <td>8902</td>\n      <td>1</td>\n      <td>0</td>\n      <td>0</td>\n      <td>2</td>\n    </tr>\n    <tr>\n      <th>Antiphon</th>\n      <td>22136</td>\n      <td>2405</td>\n      <td>9936</td>\n      <td>1</td>\n      <td>0</td>\n      <td>0</td>\n      <td>1</td>\n    </tr>\n    <tr>\n      <th>Antisthenes</th>\n      <td>924</td>\n      <td>61</td>\n      <td>417</td>\n      <td>0</td>\n      <td>0</td>\n      <td>0</td>\n      <td>0</td>\n    </tr>\n    <tr>\n      <th>Aristophanes</th>\n      <td>94897</td>\n      <td>11585</td>\n      <td>50255</td>\n      <td>21</td>\n      <td>4</td>\n      <td>13</td>\n      <td>18</td>\n    </tr>\n    <tr>\n      <th>Aristoteles</th>\n      <td>12571</td>\n      <td>792</td>\n      <td>5196</td>\n      <td>2</td>\n      <td>0</td>\n      <td>0</td>\n      <td>3</td>\n    </tr>\n    <tr>\n      <th>Aristotle</th>\n      <td>827700</td>\n      <td>59490</td>\n      <td>362652</td>\n      <td>102</td>\n      <td>5</td>\n      <td>36</td>\n      <td>411</td>\n    </tr>\n    <tr>\n      <th>Aristoxenus</th>\n      <td>19792</td>\n      <td>2510</td>\n      <td>8395</td>\n      <td>2</td>\n      <td>0</td>\n      <td>0</td>\n      <td>0</td>\n    </tr>\n    <tr>\n      <th>Autolycus</th>\n      <td>18219</td>\n      <td>1097</td>\n      <td>8117</td>\n      <td>0</td>\n      <td>0</td>\n      <td>0</td>\n      <td>0</td>\n    </tr>\n    <tr>\n      <th>Bacchylides</th>\n      <td>5142</td>\n      <td>553</td>\n      <td>3446</td>\n      <td>1</td>\n      <td>0</td>\n      <td>1</td>\n      <td>0</td>\n    </tr>\n    <tr>\n      <th>Demades</th>\n      <td>2092</td>\n      <td>207</td>\n      <td>1084</td>\n      <td>3</td>\n      <td>0</td>\n      <td>0</td>\n      <td>3</td>\n    </tr>\n    <tr>\n      <th>Demosthenes</th>\n      <td>294362</td>\n      <td>14564</td>\n      <td>143390</td>\n      <td>21</td>\n      <td>0</td>\n      <td>7</td>\n      <td>40</td>\n    </tr>\n    <tr>\n      <th>Euripides</th>\n      <td>134129</td>\n      <td>14482</td>\n      <td>81439</td>\n      <td>179</td>\n      <td>11</td>\n      <td>74</td>\n      <td>74</td>\n    </tr>\n    <tr>\n      <th>Gorgias of Leontini</th>\n      <td>2451</td>\n      <td>249</td>\n      <td>1204</td>\n      <td>2</td>\n      <td>0</td>\n      <td>0</td>\n      <td>0</td>\n    </tr>\n    <tr>\n      <th>Hanno</th>\n      <td>644</td>\n      <td>64</td>\n      <td>383</td>\n      <td>0</td>\n      <td>0</td>\n      <td>0</td>\n      <td>0</td>\n    </tr>\n    <tr>\n      <th>Heraclides Ponticus</th>\n      <td>378</td>\n      <td>61</td>\n      <td>179</td>\n      <td>0</td>\n      <td>0</td>\n      <td>0</td>\n      <td>0</td>\n    </tr>\n    <tr>\n      <th>Herodotus</th>\n      <td>184947</td>\n      <td>10149</td>\n      <td>94799</td>\n      <td>27</td>\n      <td>1</td>\n      <td>10</td>\n      <td>12</td>\n    </tr>\n    <tr>\n      <th>Hippocrates</th>\n      <td>333443</td>\n      <td>24456</td>\n      <td>171332</td>\n      <td>657</td>\n      <td>645</td>\n      <td>315</td>\n      <td>58</td>\n    </tr>\n    <tr>\n      <th>Hyperides</th>\n      <td>12025</td>\n      <td>1392</td>\n      <td>5939</td>\n      <td>2</td>\n      <td>0</td>\n      <td>0</td>\n      <td>4</td>\n    </tr>\n    <tr>\n      <th>Isaeus</th>\n      <td>34075</td>\n      <td>2986</td>\n      <td>16836</td>\n      <td>0</td>\n      <td>0</td>\n      <td>0</td>\n      <td>1</td>\n    </tr>\n    <tr>\n      <th>Isocrates</th>\n      <td>119155</td>\n      <td>4681</td>\n      <td>56497</td>\n      <td>45</td>\n      <td>0</td>\n      <td>11</td>\n      <td>47</td>\n    </tr>\n    <tr>\n      <th>Lycurgus</th>\n      <td>12400</td>\n      <td>1382</td>\n      <td>5928</td>\n      <td>1</td>\n      <td>0</td>\n      <td>1</td>\n      <td>0</td>\n    </tr>\n    <tr>\n      <th>Lysias</th>\n      <td>58875</td>\n      <td>4258</td>\n      <td>28254</td>\n      <td>2</td>\n      <td>0</td>\n      <td>1</td>\n      <td>9</td>\n    </tr>\n    <tr>\n      <th>Matron of Pitana</th>\n      <td>4136</td>\n      <td>1235</td>\n      <td>1713</td>\n      <td>1</td>\n      <td>0</td>\n      <td>0</td>\n      <td>0</td>\n    </tr>\n    <tr>\n      <th>Plato</th>\n      <td>574294</td>\n      <td>52384</td>\n      <td>272931</td>\n      <td>121</td>\n      <td>14</td>\n      <td>67</td>\n      <td>316</td>\n    </tr>\n    <tr>\n      <th>Ps. Dicaearchus</th>\n      <td>2757</td>\n      <td>207</td>\n      <td>1434</td>\n      <td>1</td>\n      <td>0</td>\n      <td>0</td>\n      <td>1</td>\n    </tr>\n    <tr>\n      <th>Scylax</th>\n      <td>8685</td>\n      <td>1087</td>\n      <td>5137</td>\n      <td>0</td>\n      <td>0</td>\n      <td>0</td>\n      <td>0</td>\n    </tr>\n    <tr>\n      <th>Sophocles</th>\n      <td>61793</td>\n      <td>6197</td>\n      <td>34437</td>\n      <td>68</td>\n      <td>7</td>\n      <td>60</td>\n      <td>35</td>\n    </tr>\n    <tr>\n      <th>Thucydides</th>\n      <td>150118</td>\n      <td>6068</td>\n      <td>71863</td>\n      <td>31</td>\n      <td>0</td>\n      <td>6</td>\n      <td>25</td>\n    </tr>\n    <tr>\n      <th>Xenophon</th>\n      <td>312187</td>\n      <td>18988</td>\n      <td>150357</td>\n      <td>157</td>\n      <td>3</td>\n      <td>12</td>\n      <td>75</td>\n    </tr>\n  </tbody>\n</table>\n</div>"
     },
     "execution_count": 15,
     "metadata": {},
     "output_type": "execute_result"
    }
   ],
   "source": [
    "authors_overview = cgl.groupby(\"author\").sum().drop([\"date_avr\", \"date_manual\"], axis=1)\n",
    "authors_overview"
   ],
   "metadata": {
    "collapsed": false,
    "pycharm": {
     "name": "#%%\n"
    }
   }
  },
  {
   "cell_type": "code",
   "execution_count": 17,
   "outputs": [],
   "source": [
    "set_with_dataframe(PIPA_data.add_worksheet(\"authors_overview\",1,1), authors_overview, include_index=True)"
   ],
   "metadata": {
    "collapsed": false,
    "pycharm": {
     "name": "#%%\n"
    }
   }
  },
  {
   "cell_type": "code",
   "execution_count": 8,
   "outputs": [
    {
     "data": {
      "text/plain": "                 wordcount  n_sentences  lemmata_wordcount  count_πόνο*  \\\nsubcorpus                                                                 \nc_aristotelicum     785703        56737             343165          103   \nc_hippocraticum     333443        24456             171332          657   \nc_platonicum        574294        52384             272931          121   \n\n                 count_ὀδύν*  count_ἄλγ*  count_λύπ*  \nsubcorpus                                             \nc_aristotelicum            3          34         406  \nc_hippocraticum          645         315          58  \nc_platonicum              14          67         316  ",
      "text/html": "<div>\n<style scoped>\n    .dataframe tbody tr th:only-of-type {\n        vertical-align: middle;\n    }\n\n    .dataframe tbody tr th {\n        vertical-align: top;\n    }\n\n    .dataframe thead th {\n        text-align: right;\n    }\n</style>\n<table border=\"1\" class=\"dataframe\">\n  <thead>\n    <tr style=\"text-align: right;\">\n      <th></th>\n      <th>wordcount</th>\n      <th>n_sentences</th>\n      <th>lemmata_wordcount</th>\n      <th>count_πόνο*</th>\n      <th>count_ὀδύν*</th>\n      <th>count_ἄλγ*</th>\n      <th>count_λύπ*</th>\n    </tr>\n    <tr>\n      <th>subcorpus</th>\n      <th></th>\n      <th></th>\n      <th></th>\n      <th></th>\n      <th></th>\n      <th></th>\n      <th></th>\n    </tr>\n  </thead>\n  <tbody>\n    <tr>\n      <th>c_aristotelicum</th>\n      <td>785703</td>\n      <td>56737</td>\n      <td>343165</td>\n      <td>103</td>\n      <td>3</td>\n      <td>34</td>\n      <td>406</td>\n    </tr>\n    <tr>\n      <th>c_hippocraticum</th>\n      <td>333443</td>\n      <td>24456</td>\n      <td>171332</td>\n      <td>657</td>\n      <td>645</td>\n      <td>315</td>\n      <td>58</td>\n    </tr>\n    <tr>\n      <th>c_platonicum</th>\n      <td>574294</td>\n      <td>52384</td>\n      <td>272931</td>\n      <td>121</td>\n      <td>14</td>\n      <td>67</td>\n      <td>316</td>\n    </tr>\n  </tbody>\n</table>\n</div>"
     },
     "execution_count": 8,
     "metadata": {},
     "output_type": "execute_result"
    }
   ],
   "source": [
    "subcorpora_overview_simple = cgl.groupby(\"subcorpus\").sum().drop([\"date_avr\", \"date_manual\"], axis=1)\n",
    "subcorpora_overview_simple"
   ],
   "metadata": {
    "collapsed": false,
    "pycharm": {
     "name": "#%%\n"
    }
   }
  },
  {
   "cell_type": "code",
   "execution_count": 9,
   "outputs": [
    {
     "data": {
      "text/plain": "Index(['wordcount', 'n_sentences', 'lemmata_wordcount', 'count_πόνο*',\n       'count_ὀδύν*', 'count_ἄλγ*', 'count_λύπ*'],\n      dtype='object')"
     },
     "execution_count": 9,
     "metadata": {},
     "output_type": "execute_result"
    }
   ],
   "source": [
    "subcorpora_overview_simple.columns"
   ],
   "metadata": {
    "collapsed": false,
    "pycharm": {
     "name": "#%%\n"
    }
   }
  },
  {
   "cell_type": "code",
   "execution_count": 10,
   "outputs": [],
   "source": [
    "set_with_dataframe(PIPA_data.add_worksheet(\"subcorpora_overview_simple\", 1,1), subcorpora_overview_simple, include_index=True)"
   ],
   "metadata": {
    "collapsed": false,
    "pycharm": {
     "name": "#%%\n"
    }
   }
  },
  {
   "cell_type": "markdown",
   "source": [],
   "metadata": {
    "collapsed": false,
    "pycharm": {
     "name": "#%% md\n"
    }
   }
  },
  {
   "cell_type": "code",
   "execution_count": 12,
   "outputs": [
    {
     "data": {
      "text/plain": "            subcorpus                           title  wordcount  n_sentences  \\\n535      c_platonicum                       Euthyphro       5393          659   \n536      c_platonicum                         Apology       8659          483   \n537      c_platonicum                           Crito       4268          376   \n538      c_platonicum                          Phaedo      22519         1441   \n539      c_platonicum                        Cratylus      18985         2260   \n...               ...                             ...        ...          ...   \n1086  c_hippocraticum               De habitu decenti       1518          124   \n1087  c_hippocraticum                       Precepts        1351          105   \n1088  c_hippocraticum                     De crisibus       2035          200   \n1089  c_hippocraticum              De diebus criticis       1295          112   \n1090  c_hippocraticum  Epistulae, Decretum, Orationes      11812          755   \n\n      lemmata_wordcount  count_πόνο*  count_ὀδύν*  count_ἄλγ*  count_λύπ*  \n535                2420            0            0           0           0  \n536                3990            2            0           0           3  \n537                1887            0            0           0           3  \n538                9900            2            0           4          14  \n539                8950            0            1           2           4  \n...                 ...          ...          ...         ...         ...  \n1086                713            0            0           0           0  \n1087                733            2            0           2           2  \n1088               1097            5           16           3           0  \n1089                612            1            5           4           0  \n1090               6397            2            3           3           3  \n\n[116 rows x 9 columns]",
      "text/html": "<div>\n<style scoped>\n    .dataframe tbody tr th:only-of-type {\n        vertical-align: middle;\n    }\n\n    .dataframe tbody tr th {\n        vertical-align: top;\n    }\n\n    .dataframe thead th {\n        text-align: right;\n    }\n</style>\n<table border=\"1\" class=\"dataframe\">\n  <thead>\n    <tr style=\"text-align: right;\">\n      <th></th>\n      <th>subcorpus</th>\n      <th>title</th>\n      <th>wordcount</th>\n      <th>n_sentences</th>\n      <th>lemmata_wordcount</th>\n      <th>count_πόνο*</th>\n      <th>count_ὀδύν*</th>\n      <th>count_ἄλγ*</th>\n      <th>count_λύπ*</th>\n    </tr>\n  </thead>\n  <tbody>\n    <tr>\n      <th>535</th>\n      <td>c_platonicum</td>\n      <td>Euthyphro</td>\n      <td>5393</td>\n      <td>659</td>\n      <td>2420</td>\n      <td>0</td>\n      <td>0</td>\n      <td>0</td>\n      <td>0</td>\n    </tr>\n    <tr>\n      <th>536</th>\n      <td>c_platonicum</td>\n      <td>Apology</td>\n      <td>8659</td>\n      <td>483</td>\n      <td>3990</td>\n      <td>2</td>\n      <td>0</td>\n      <td>0</td>\n      <td>3</td>\n    </tr>\n    <tr>\n      <th>537</th>\n      <td>c_platonicum</td>\n      <td>Crito</td>\n      <td>4268</td>\n      <td>376</td>\n      <td>1887</td>\n      <td>0</td>\n      <td>0</td>\n      <td>0</td>\n      <td>3</td>\n    </tr>\n    <tr>\n      <th>538</th>\n      <td>c_platonicum</td>\n      <td>Phaedo</td>\n      <td>22519</td>\n      <td>1441</td>\n      <td>9900</td>\n      <td>2</td>\n      <td>0</td>\n      <td>4</td>\n      <td>14</td>\n    </tr>\n    <tr>\n      <th>539</th>\n      <td>c_platonicum</td>\n      <td>Cratylus</td>\n      <td>18985</td>\n      <td>2260</td>\n      <td>8950</td>\n      <td>0</td>\n      <td>1</td>\n      <td>2</td>\n      <td>4</td>\n    </tr>\n    <tr>\n      <th>...</th>\n      <td>...</td>\n      <td>...</td>\n      <td>...</td>\n      <td>...</td>\n      <td>...</td>\n      <td>...</td>\n      <td>...</td>\n      <td>...</td>\n      <td>...</td>\n    </tr>\n    <tr>\n      <th>1086</th>\n      <td>c_hippocraticum</td>\n      <td>De habitu decenti</td>\n      <td>1518</td>\n      <td>124</td>\n      <td>713</td>\n      <td>0</td>\n      <td>0</td>\n      <td>0</td>\n      <td>0</td>\n    </tr>\n    <tr>\n      <th>1087</th>\n      <td>c_hippocraticum</td>\n      <td>Precepts</td>\n      <td>1351</td>\n      <td>105</td>\n      <td>733</td>\n      <td>2</td>\n      <td>0</td>\n      <td>2</td>\n      <td>2</td>\n    </tr>\n    <tr>\n      <th>1088</th>\n      <td>c_hippocraticum</td>\n      <td>De crisibus</td>\n      <td>2035</td>\n      <td>200</td>\n      <td>1097</td>\n      <td>5</td>\n      <td>16</td>\n      <td>3</td>\n      <td>0</td>\n    </tr>\n    <tr>\n      <th>1089</th>\n      <td>c_hippocraticum</td>\n      <td>De diebus criticis</td>\n      <td>1295</td>\n      <td>112</td>\n      <td>612</td>\n      <td>1</td>\n      <td>5</td>\n      <td>4</td>\n      <td>0</td>\n    </tr>\n    <tr>\n      <th>1090</th>\n      <td>c_hippocraticum</td>\n      <td>Epistulae, Decretum, Orationes</td>\n      <td>11812</td>\n      <td>755</td>\n      <td>6397</td>\n      <td>2</td>\n      <td>3</td>\n      <td>3</td>\n      <td>3</td>\n    </tr>\n  </tbody>\n</table>\n<p>116 rows × 9 columns</p>\n</div>"
     },
     "execution_count": 12,
     "metadata": {},
     "output_type": "execute_result"
    }
   ],
   "source": [
    "subcorpora_overview = cgl[cgl[\"subcorpus\"].notnull()][['subcorpus', 'title', 'wordcount', 'n_sentences', 'lemmata_wordcount', 'count_πόνο*','count_ὀδύν*', 'count_ἄλγ*', 'count_λύπ*']]\n",
    "subcorpora_overview"
   ],
   "metadata": {
    "collapsed": false,
    "pycharm": {
     "name": "#%%\n"
    }
   }
  },
  {
   "cell_type": "code",
   "execution_count": 25,
   "outputs": [],
   "source": [
    "set_with_dataframe(PIPA_data.add_worksheet(\"subcorpora_overview\", 1,1), subcorpora_overview)"
   ],
   "metadata": {
    "collapsed": false,
    "pycharm": {
     "name": "#%%\n"
    }
   }
  },
  {
   "cell_type": "code",
   "execution_count": 19,
   "metadata": {
    "pycharm": {
     "name": "#%%\n"
    }
   },
   "outputs": [],
   "source": [
    "def sentences_with_term(sentences, term, flatlist=False):\n",
    "    sentences_with_term = [sen for sen in sentences if term in sen]\n",
    "    if flatlist == True:\n",
    "        flatlist = [word for sen in sentences_with_term for word in sen]\n",
    "        return flatlist\n",
    "    else: \n",
    "        return sentences_with_term"
   ]
  },
  {
   "cell_type": "code",
   "execution_count": 20,
   "metadata": {
    "pycharm": {
     "name": "#%%\n"
    }
   },
   "outputs": [],
   "source": [
    "for word in key_words:\n",
    "    cgl[word + \"_sents\"] = cgl[\"lemmatized_sentences_repl\"].apply(lambda x: sentences_with_term(x, word, True))"
   ]
  },
  {
   "cell_type": "code",
   "execution_count": 21,
   "outputs": [
    {
     "data": {
      "text/plain": "                             filename               author  \\\n1     tlg0003.tlg001.perseus-grc2.xml           Thucydides   \n6     tlg0006.tlg001.perseus-grc2.xml            Euripides   \n7     tlg0006.tlg004.perseus-grc2.xml            Euripides   \n8     tlg0006.tlg005.perseus-grc2.xml            Euripides   \n9     tlg0006.tlg006.perseus-grc2.xml            Euripides   \n...                               ...                  ...   \n1150    tlg1210.tlg001.1st1K-grc1.xml            Autolycus   \n1151    tlg1210.tlg002.1st1K-grc1.xml            Autolycus   \n1166    tlg1409.opp003.1st1K-grc1.xml  Heraclides Ponticus   \n1179    tlg1486.tlg001.1st1K-grc1.xml     Matron of Pitana   \n1180    tlg1486.tlg002.1st1K-grc1.xml     Matron of Pitana   \n\n                         title  wordcount author_id          doc_id raw_date  \\\n1        The Peloponnesian War     150118   tlg0003  tlg0003.tlg001   5 B.C.   \n6                      Cyclops       4141   tlg0006  tlg0006.tlg001   5 B.C.   \n7                   Ἡρακλεῖδαι       6272   tlg0006  tlg0006.tlg004   5 B.C.   \n8                    Ἱππόλυτος       8257   tlg0006  tlg0006.tlg005   5 B.C.   \n9                    Ἀνδρομάχη       7397   tlg0006  tlg0006.tlg006   5 B.C.   \n...                        ...        ...       ...             ...      ...   \n1150   De Sphaera Quae Movetur       4831   tlg1210  tlg1210.tlg001   4 B.C.   \n1151   De Ortibus et Occasibus      13388   tlg1210  tlg1210.tlg002   4 B.C.   \n1166  Res Publica Atheniensium        378   tlg1409  tlg1409.opp003   4 B.C.   \n1179          Δει̑πνον Ἀττικόν       3632   tlg1486  tlg1486.tlg001   4 B.C.   \n1180          Δει̑πνον Ἀττικόν        504   tlg1486  tlg1486.tlg002   4 B.C.   \n\n      date_avr   date_probs  date_manual  ...  \\\n1         -4.5  {'-4.5': 1}         -4.5  ...   \n6         -4.5  {'-4.5': 1}         -4.5  ...   \n7         -4.5  {'-4.5': 1}         -4.5  ...   \n8         -4.5  {'-4.5': 1}         -4.5  ...   \n9         -4.5  {'-4.5': 1}         -4.5  ...   \n...        ...          ...          ...  ...   \n1150      -3.5  {'-3.5': 1}          NaN  ...   \n1151      -3.5  {'-3.5': 1}          NaN  ...   \n1166      -3.5  {'-3.5': 1}         -3.5  ...   \n1179      -3.5  {'-3.5': 1}          NaN  ...   \n1180      -3.5  {'-3.5': 1}          NaN  ...   \n\n                                           lemmata_repl  \\\n1     [θουκυδίδης, Ἀθηναῖος, συγγράφω, πόλεμος, Πελο...   \n6     [Βρόμιος, ἔχω, πόνο*, χὥτʼ, ἥβη, ἐμός, εὐσθενέ...   \n7     [ποτός, εἰμί, οὗτος, δεδογμένον, δίκαιος, φύω,...   \n8     [πολύς, βροτός, ἀνώνυμος, θεά, καλέω, Κύπρις, ...   \n9     [Ἀσιανός, γῆ, σχῆμα, θηβαία, πόλις, ἑδνόω, πολ...   \n...                                                 ...   \n1150  [ὁμαλός, λέγω, φέρω, σημεῖον, ὅσος, ἴσος, χρόν...   \n1151  [ἀπλανής, ἄστρον, ἐπιτολή, δύσις, λέγω, ἀληθιν...   \n1166  [Ἡρακλέης, πολιτεία, Ἀθήναιος, Ἀθηναῖος, εἶμι,...   \n1179  [δεῖπνον, ἐνέπω, Μοῦσα, πολύτροφος, πολύς, ξεν...   \n1180  [ὄστρεον, φέρω, Θέτις, Νηρηίς, ὕδνα, σόγκους, ...   \n\n                              lemmatized_sentences_repl count_πόνο*  \\\n1     [[θουκυδίδης, Ἀθηναῖος, συγγράφω, πόλεμος, Πελ...          31   \n6     [[Βρόμιος, ἔχω, πόνο*, χὥτʼ, ἥβη, ἐμός, εὐσθεν...           7   \n7     [[ποτός, εἰμί, οὗτος, δεδογμένον], [δίκαιος, φ...          11   \n8     [[πολύς, βροτός, ἀνώνυμος, θεά, καλέω, Κύπρις,...           8   \n9     [[Ἀσιανός, γῆ, σχῆμα, θηβαία, πόλις, ἑδνόω, πο...           5   \n...                                                 ...         ...   \n1150  [[ὁμαλός, λέγω, φέρω, σημεῖον, ὅσος, ἴσος, χρό...           0   \n1151  [[], [ἀπλανής, ἄστρον, ἐπιτολή, δύσις, λέγω, ἀ...           0   \n1166  [[], [], [], [], [], [Ἡρακλέης, πολιτεία, Ἀθήν...           0   \n1179  [[δεῖπνον, ἐνέπω, Μοῦσα, πολύτροφος, πολύς, ξε...           0   \n1180  [[ὄστρεον, φέρω, Θέτις, Νηρηίς, ὕδνα, σόγκους,...           1   \n\n      count_ὀδύν* count_ἄλγ* count_λύπ*  \\\n1               0          6         25   \n6               0          0          1   \n7               0          1          2   \n8               3          8          8   \n9               0          7          4   \n...           ...        ...        ...   \n1150            0          0          0   \n1151            0          0          0   \n1166            0          0          0   \n1179            0          0          0   \n1180            0          0          0   \n\n                                            πόνο*_sents  \\\n1     [χρόνος, πολύς, ναυμαχία, ἐπικρατέω, θάλασσα, ...   \n6     [Βρόμιος, ἔχω, πόνο*, χὥτʼ, ἥβη, ἐμός, εὐσθενέ...   \n7     [αἰδώς, συγγενής, σέβω, ἔξεστι, Ἄργος, ναίω, π...   \n8     [πολύς, προκόψασʼ, πόνο*, πολύς, δεῖ, εἰμί, ἁπ...   \n9     [γυνή, Θέτις, δάπεδον, ἄναξ, θάσσω, δηρός, λεί...   \n...                                                 ...   \n1150                                                 []   \n1151                                                 []   \n1166                                                 []   \n1179                                                 []   \n1180  [εἰμί, κλεόνικος, ἀθάνατος, λαγχάνω, γῆρυς, πό...   \n\n                                            ὀδύν*_sents  \\\n1                                                    []   \n6                                                    []   \n7                                                    []   \n8     [κεφαλή, ᾄσσουσʼ, ὀδύν*, ἐγκέφαλος, πηδάω, σφά...   \n9                                                    []   \n...                                                 ...   \n1150                                                 []   \n1151                                                 []   \n1166                                                 []   \n1179                                                 []   \n1180                                                 []   \n\n                                             ἄλγ*_sents  \\\n1     [ῥᾳθυμία, πόνο*, μελέτη, νόμος, πολύς, τρόπος,...   \n6                                                    []   \n7                     [αἰσχύνω, σός, λόγος, τύχη, ἄλγ*]   \n8     [ἡδύς, παῖς, ταὐτός, ἄλγ*, τάλας, ὅδε, ἄλγ*, α...   \n9     [σιωπή, Κύπρις, ἄλγ*, χρώς, δεινός, τραῦμα, ἄλ...   \n...                                                 ...   \n1150                                                 []   \n1151                                                 []   \n1166                                                 []   \n1179                                                 []   \n1180                                                 []   \n\n                                             λύπ*_sents  \n1     [εὐπραξία, σπάνιος, τὶς, πολέμιος, λύπ*, πολύς...  \n6     [ἐμπίνω, κὰμφαγεῖν, ὀπάζω, ἡμέρα, Ζεύς, οὗτος,...  \n7     [λύω, μέλος, λύπ*, προπίτνων, θεός, φέρω, ὑπερ...  \n8     [ναυβάτης, τὶς, πλέω, κρή, ἔξορμος, ἀνήρ, λιμή...  \n9     [δίδυμος, λέκτρον, ἐπαινέω, βροτός, ἀμφιμήτορε...  \n...                                                 ...  \n1150                                                 []  \n1151                                                 []  \n1166                                                 []  \n1179                                                 []  \n1180                                                 []  \n\n[353 rows x 28 columns]",
      "text/html": "<div>\n<style scoped>\n    .dataframe tbody tr th:only-of-type {\n        vertical-align: middle;\n    }\n\n    .dataframe tbody tr th {\n        vertical-align: top;\n    }\n\n    .dataframe thead th {\n        text-align: right;\n    }\n</style>\n<table border=\"1\" class=\"dataframe\">\n  <thead>\n    <tr style=\"text-align: right;\">\n      <th></th>\n      <th>filename</th>\n      <th>author</th>\n      <th>title</th>\n      <th>wordcount</th>\n      <th>author_id</th>\n      <th>doc_id</th>\n      <th>raw_date</th>\n      <th>date_avr</th>\n      <th>date_probs</th>\n      <th>date_manual</th>\n      <th>...</th>\n      <th>lemmata_repl</th>\n      <th>lemmatized_sentences_repl</th>\n      <th>count_πόνο*</th>\n      <th>count_ὀδύν*</th>\n      <th>count_ἄλγ*</th>\n      <th>count_λύπ*</th>\n      <th>πόνο*_sents</th>\n      <th>ὀδύν*_sents</th>\n      <th>ἄλγ*_sents</th>\n      <th>λύπ*_sents</th>\n    </tr>\n  </thead>\n  <tbody>\n    <tr>\n      <th>1</th>\n      <td>tlg0003.tlg001.perseus-grc2.xml</td>\n      <td>Thucydides</td>\n      <td>The Peloponnesian War</td>\n      <td>150118</td>\n      <td>tlg0003</td>\n      <td>tlg0003.tlg001</td>\n      <td>5 B.C.</td>\n      <td>-4.5</td>\n      <td>{'-4.5': 1}</td>\n      <td>-4.5</td>\n      <td>...</td>\n      <td>[θουκυδίδης, Ἀθηναῖος, συγγράφω, πόλεμος, Πελο...</td>\n      <td>[[θουκυδίδης, Ἀθηναῖος, συγγράφω, πόλεμος, Πελ...</td>\n      <td>31</td>\n      <td>0</td>\n      <td>6</td>\n      <td>25</td>\n      <td>[χρόνος, πολύς, ναυμαχία, ἐπικρατέω, θάλασσα, ...</td>\n      <td>[]</td>\n      <td>[ῥᾳθυμία, πόνο*, μελέτη, νόμος, πολύς, τρόπος,...</td>\n      <td>[εὐπραξία, σπάνιος, τὶς, πολέμιος, λύπ*, πολύς...</td>\n    </tr>\n    <tr>\n      <th>6</th>\n      <td>tlg0006.tlg001.perseus-grc2.xml</td>\n      <td>Euripides</td>\n      <td>Cyclops</td>\n      <td>4141</td>\n      <td>tlg0006</td>\n      <td>tlg0006.tlg001</td>\n      <td>5 B.C.</td>\n      <td>-4.5</td>\n      <td>{'-4.5': 1}</td>\n      <td>-4.5</td>\n      <td>...</td>\n      <td>[Βρόμιος, ἔχω, πόνο*, χὥτʼ, ἥβη, ἐμός, εὐσθενέ...</td>\n      <td>[[Βρόμιος, ἔχω, πόνο*, χὥτʼ, ἥβη, ἐμός, εὐσθεν...</td>\n      <td>7</td>\n      <td>0</td>\n      <td>0</td>\n      <td>1</td>\n      <td>[Βρόμιος, ἔχω, πόνο*, χὥτʼ, ἥβη, ἐμός, εὐσθενέ...</td>\n      <td>[]</td>\n      <td>[]</td>\n      <td>[ἐμπίνω, κὰμφαγεῖν, ὀπάζω, ἡμέρα, Ζεύς, οὗτος,...</td>\n    </tr>\n    <tr>\n      <th>7</th>\n      <td>tlg0006.tlg004.perseus-grc2.xml</td>\n      <td>Euripides</td>\n      <td>Ἡρακλεῖδαι</td>\n      <td>6272</td>\n      <td>tlg0006</td>\n      <td>tlg0006.tlg004</td>\n      <td>5 B.C.</td>\n      <td>-4.5</td>\n      <td>{'-4.5': 1}</td>\n      <td>-4.5</td>\n      <td>...</td>\n      <td>[ποτός, εἰμί, οὗτος, δεδογμένον, δίκαιος, φύω,...</td>\n      <td>[[ποτός, εἰμί, οὗτος, δεδογμένον], [δίκαιος, φ...</td>\n      <td>11</td>\n      <td>0</td>\n      <td>1</td>\n      <td>2</td>\n      <td>[αἰδώς, συγγενής, σέβω, ἔξεστι, Ἄργος, ναίω, π...</td>\n      <td>[]</td>\n      <td>[αἰσχύνω, σός, λόγος, τύχη, ἄλγ*]</td>\n      <td>[λύω, μέλος, λύπ*, προπίτνων, θεός, φέρω, ὑπερ...</td>\n    </tr>\n    <tr>\n      <th>8</th>\n      <td>tlg0006.tlg005.perseus-grc2.xml</td>\n      <td>Euripides</td>\n      <td>Ἱππόλυτος</td>\n      <td>8257</td>\n      <td>tlg0006</td>\n      <td>tlg0006.tlg005</td>\n      <td>5 B.C.</td>\n      <td>-4.5</td>\n      <td>{'-4.5': 1}</td>\n      <td>-4.5</td>\n      <td>...</td>\n      <td>[πολύς, βροτός, ἀνώνυμος, θεά, καλέω, Κύπρις, ...</td>\n      <td>[[πολύς, βροτός, ἀνώνυμος, θεά, καλέω, Κύπρις,...</td>\n      <td>8</td>\n      <td>3</td>\n      <td>8</td>\n      <td>8</td>\n      <td>[πολύς, προκόψασʼ, πόνο*, πολύς, δεῖ, εἰμί, ἁπ...</td>\n      <td>[κεφαλή, ᾄσσουσʼ, ὀδύν*, ἐγκέφαλος, πηδάω, σφά...</td>\n      <td>[ἡδύς, παῖς, ταὐτός, ἄλγ*, τάλας, ὅδε, ἄλγ*, α...</td>\n      <td>[ναυβάτης, τὶς, πλέω, κρή, ἔξορμος, ἀνήρ, λιμή...</td>\n    </tr>\n    <tr>\n      <th>9</th>\n      <td>tlg0006.tlg006.perseus-grc2.xml</td>\n      <td>Euripides</td>\n      <td>Ἀνδρομάχη</td>\n      <td>7397</td>\n      <td>tlg0006</td>\n      <td>tlg0006.tlg006</td>\n      <td>5 B.C.</td>\n      <td>-4.5</td>\n      <td>{'-4.5': 1}</td>\n      <td>-4.5</td>\n      <td>...</td>\n      <td>[Ἀσιανός, γῆ, σχῆμα, θηβαία, πόλις, ἑδνόω, πολ...</td>\n      <td>[[Ἀσιανός, γῆ, σχῆμα, θηβαία, πόλις, ἑδνόω, πο...</td>\n      <td>5</td>\n      <td>0</td>\n      <td>7</td>\n      <td>4</td>\n      <td>[γυνή, Θέτις, δάπεδον, ἄναξ, θάσσω, δηρός, λεί...</td>\n      <td>[]</td>\n      <td>[σιωπή, Κύπρις, ἄλγ*, χρώς, δεινός, τραῦμα, ἄλ...</td>\n      <td>[δίδυμος, λέκτρον, ἐπαινέω, βροτός, ἀμφιμήτορε...</td>\n    </tr>\n    <tr>\n      <th>...</th>\n      <td>...</td>\n      <td>...</td>\n      <td>...</td>\n      <td>...</td>\n      <td>...</td>\n      <td>...</td>\n      <td>...</td>\n      <td>...</td>\n      <td>...</td>\n      <td>...</td>\n      <td>...</td>\n      <td>...</td>\n      <td>...</td>\n      <td>...</td>\n      <td>...</td>\n      <td>...</td>\n      <td>...</td>\n      <td>...</td>\n      <td>...</td>\n      <td>...</td>\n      <td>...</td>\n    </tr>\n    <tr>\n      <th>1150</th>\n      <td>tlg1210.tlg001.1st1K-grc1.xml</td>\n      <td>Autolycus</td>\n      <td>De Sphaera Quae Movetur</td>\n      <td>4831</td>\n      <td>tlg1210</td>\n      <td>tlg1210.tlg001</td>\n      <td>4 B.C.</td>\n      <td>-3.5</td>\n      <td>{'-3.5': 1}</td>\n      <td>NaN</td>\n      <td>...</td>\n      <td>[ὁμαλός, λέγω, φέρω, σημεῖον, ὅσος, ἴσος, χρόν...</td>\n      <td>[[ὁμαλός, λέγω, φέρω, σημεῖον, ὅσος, ἴσος, χρό...</td>\n      <td>0</td>\n      <td>0</td>\n      <td>0</td>\n      <td>0</td>\n      <td>[]</td>\n      <td>[]</td>\n      <td>[]</td>\n      <td>[]</td>\n    </tr>\n    <tr>\n      <th>1151</th>\n      <td>tlg1210.tlg002.1st1K-grc1.xml</td>\n      <td>Autolycus</td>\n      <td>De Ortibus et Occasibus</td>\n      <td>13388</td>\n      <td>tlg1210</td>\n      <td>tlg1210.tlg002</td>\n      <td>4 B.C.</td>\n      <td>-3.5</td>\n      <td>{'-3.5': 1}</td>\n      <td>NaN</td>\n      <td>...</td>\n      <td>[ἀπλανής, ἄστρον, ἐπιτολή, δύσις, λέγω, ἀληθιν...</td>\n      <td>[[], [ἀπλανής, ἄστρον, ἐπιτολή, δύσις, λέγω, ἀ...</td>\n      <td>0</td>\n      <td>0</td>\n      <td>0</td>\n      <td>0</td>\n      <td>[]</td>\n      <td>[]</td>\n      <td>[]</td>\n      <td>[]</td>\n    </tr>\n    <tr>\n      <th>1166</th>\n      <td>tlg1409.opp003.1st1K-grc1.xml</td>\n      <td>Heraclides Ponticus</td>\n      <td>Res Publica Atheniensium</td>\n      <td>378</td>\n      <td>tlg1409</td>\n      <td>tlg1409.opp003</td>\n      <td>4 B.C.</td>\n      <td>-3.5</td>\n      <td>{'-3.5': 1}</td>\n      <td>-3.5</td>\n      <td>...</td>\n      <td>[Ἡρακλέης, πολιτεία, Ἀθήναιος, Ἀθηναῖος, εἶμι,...</td>\n      <td>[[], [], [], [], [], [Ἡρακλέης, πολιτεία, Ἀθήν...</td>\n      <td>0</td>\n      <td>0</td>\n      <td>0</td>\n      <td>0</td>\n      <td>[]</td>\n      <td>[]</td>\n      <td>[]</td>\n      <td>[]</td>\n    </tr>\n    <tr>\n      <th>1179</th>\n      <td>tlg1486.tlg001.1st1K-grc1.xml</td>\n      <td>Matron of Pitana</td>\n      <td>Δει̑πνον Ἀττικόν</td>\n      <td>3632</td>\n      <td>tlg1486</td>\n      <td>tlg1486.tlg001</td>\n      <td>4 B.C.</td>\n      <td>-3.5</td>\n      <td>{'-3.5': 1}</td>\n      <td>NaN</td>\n      <td>...</td>\n      <td>[δεῖπνον, ἐνέπω, Μοῦσα, πολύτροφος, πολύς, ξεν...</td>\n      <td>[[δεῖπνον, ἐνέπω, Μοῦσα, πολύτροφος, πολύς, ξε...</td>\n      <td>0</td>\n      <td>0</td>\n      <td>0</td>\n      <td>0</td>\n      <td>[]</td>\n      <td>[]</td>\n      <td>[]</td>\n      <td>[]</td>\n    </tr>\n    <tr>\n      <th>1180</th>\n      <td>tlg1486.tlg002.1st1K-grc1.xml</td>\n      <td>Matron of Pitana</td>\n      <td>Δει̑πνον Ἀττικόν</td>\n      <td>504</td>\n      <td>tlg1486</td>\n      <td>tlg1486.tlg002</td>\n      <td>4 B.C.</td>\n      <td>-3.5</td>\n      <td>{'-3.5': 1}</td>\n      <td>NaN</td>\n      <td>...</td>\n      <td>[ὄστρεον, φέρω, Θέτις, Νηρηίς, ὕδνα, σόγκους, ...</td>\n      <td>[[ὄστρεον, φέρω, Θέτις, Νηρηίς, ὕδνα, σόγκους,...</td>\n      <td>1</td>\n      <td>0</td>\n      <td>0</td>\n      <td>0</td>\n      <td>[εἰμί, κλεόνικος, ἀθάνατος, λαγχάνω, γῆρυς, πό...</td>\n      <td>[]</td>\n      <td>[]</td>\n      <td>[]</td>\n    </tr>\n  </tbody>\n</table>\n<p>353 rows × 28 columns</p>\n</div>"
     },
     "execution_count": 21,
     "metadata": {},
     "output_type": "execute_result"
    }
   ],
   "source": [
    "cgl"
   ],
   "metadata": {
    "collapsed": false,
    "pycharm": {
     "name": "#%%\n"
    }
   }
  },
  {
   "cell_type": "code",
   "execution_count": 22,
   "outputs": [],
   "source": [
    "cgl.to_json(\"../data/large_data/cgl_sents.json\")"
   ],
   "metadata": {
    "collapsed": false,
    "pycharm": {
     "name": "#%%\n"
    }
   }
  },
  {
   "cell_type": "code",
   "execution_count": null,
   "outputs": [],
   "source": [],
   "metadata": {
    "collapsed": false,
    "pycharm": {
     "name": "#%%\n"
    }
   }
  }
 ],
 "metadata": {
  "colab": {
   "authorship_tag": "ABX9TyPzJG8Ttu74+AUFBxNNmOYH",
   "include_colab_link": true,
   "name": "OVERVIEW.ipynb",
   "provenance": []
  },
  "kernelspec": {
   "name": "pipa_venv",
   "language": "python",
   "display_name": "pipa_venv"
  },
  "language_info": {
   "codemirror_mode": {
    "name": "ipython",
    "version": 3
   },
   "file_extension": ".py",
   "mimetype": "text/x-python",
   "name": "python",
   "nbconvert_exporter": "python",
   "pygments_lexer": "ipython3",
   "version": "3.6.9"
  }
 },
 "nbformat": 4,
 "nbformat_minor": 1
}