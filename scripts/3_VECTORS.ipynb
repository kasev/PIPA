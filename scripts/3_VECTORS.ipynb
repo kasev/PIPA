{
 "cells": [
  {
   "cell_type": "code",
   "execution_count": 1,
   "outputs": [
    {
     "name": "stderr",
     "output_type": "stream",
     "text": [
      "<frozen importlib._bootstrap>:228: RuntimeWarning: scipy._lib.messagestream.MessageStream size changed, may indicate binary incompatibility. Expected 56 from C header, got 64 from PyObject\n"
     ]
    }
   ],
   "source": [
    "from gensim.corpora import Dictionary\n",
    "from gensim.models import Word2Vec\n",
    "\n",
    "import pandas as pd\n",
    "\n",
    "import pickle"
   ],
   "metadata": {
    "collapsed": false
   }
  },
  {
   "cell_type": "code",
   "execution_count": 4,
   "outputs": [],
   "source": [
    "word_freqs_vocabulary = pd.read_csv(\"../data/word_freqs_vocabulary.csv\")"
   ],
   "metadata": {
    "collapsed": false
   }
  },
  {
   "cell_type": "code",
   "execution_count": 5,
   "outputs": [
    {
     "data": {
      "text/plain": "             word  count\n0            λέγω  29114\n1             ἔχω  22584\n2        γίγνομαι  21737\n3           πολύς  20652\n4             πᾶς  19062\n...           ...    ...\n3475  στραγγουρία     50\n3476       ῥύγχος     50\n3477    διάκρισις     50\n3478        ἀρχός     50\n3479     τρομώδης     50\n\n[3480 rows x 2 columns]",
      "text/html": "<div>\n<style scoped>\n    .dataframe tbody tr th:only-of-type {\n        vertical-align: middle;\n    }\n\n    .dataframe tbody tr th {\n        vertical-align: top;\n    }\n\n    .dataframe thead th {\n        text-align: right;\n    }\n</style>\n<table border=\"1\" class=\"dataframe\">\n  <thead>\n    <tr style=\"text-align: right;\">\n      <th></th>\n      <th>word</th>\n      <th>count</th>\n    </tr>\n  </thead>\n  <tbody>\n    <tr>\n      <th>0</th>\n      <td>λέγω</td>\n      <td>29114</td>\n    </tr>\n    <tr>\n      <th>1</th>\n      <td>ἔχω</td>\n      <td>22584</td>\n    </tr>\n    <tr>\n      <th>2</th>\n      <td>γίγνομαι</td>\n      <td>21737</td>\n    </tr>\n    <tr>\n      <th>3</th>\n      <td>πολύς</td>\n      <td>20652</td>\n    </tr>\n    <tr>\n      <th>4</th>\n      <td>πᾶς</td>\n      <td>19062</td>\n    </tr>\n    <tr>\n      <th>...</th>\n      <td>...</td>\n      <td>...</td>\n    </tr>\n    <tr>\n      <th>3475</th>\n      <td>στραγγουρία</td>\n      <td>50</td>\n    </tr>\n    <tr>\n      <th>3476</th>\n      <td>ῥύγχος</td>\n      <td>50</td>\n    </tr>\n    <tr>\n      <th>3477</th>\n      <td>διάκρισις</td>\n      <td>50</td>\n    </tr>\n    <tr>\n      <th>3478</th>\n      <td>ἀρχός</td>\n      <td>50</td>\n    </tr>\n    <tr>\n      <th>3479</th>\n      <td>τρομώδης</td>\n      <td>50</td>\n    </tr>\n  </tbody>\n</table>\n<p>3480 rows × 2 columns</p>\n</div>"
     },
     "execution_count": 5,
     "metadata": {},
     "output_type": "execute_result"
    }
   ],
   "source": [
    "word_freqs_vocabulary"
   ],
   "metadata": {
    "collapsed": false
   }
  },
  {
   "cell_type": "code",
   "execution_count": 13,
   "outputs": [],
   "source": [
    "word_freq_dict = dict(zip(word_freqs_vocabulary[\"word\"], word_freqs_vocabulary[\"count\"]))"
   ],
   "metadata": {
    "collapsed": false
   }
  },
  {
   "cell_type": "code",
   "execution_count": 6,
   "outputs": [],
   "source": [
    "vocabulary = word_freqs_vocabulary[\"word\"].tolist()"
   ],
   "metadata": {
    "collapsed": false
   }
  },
  {
   "cell_type": "code",
   "execution_count": 9,
   "metadata": {
    "collapsed": true
   },
   "outputs": [],
   "source": [
    "class NgramCorpus:\n",
    "    def __iter__(self):\n",
    "        with open(\"../data/large_data/corpus_ngrams.txt\", \"r\") as f:\n",
    "            lines = f.readlines()\n",
    "            for line in lines:\n",
    "                yield line.split()"
   ]
  },
  {
   "cell_type": "code",
   "execution_count": 11,
   "outputs": [
    {
     "data": {
      "text/plain": "3232119"
     },
     "execution_count": 11,
     "metadata": {},
     "output_type": "execute_result"
    }
   ],
   "source": [
    "corpus = NgramCorpus()\n",
    "corpus_len = len([doc for doc in corpus])\n",
    "corpus_len"
   ],
   "metadata": {
    "collapsed": false
   }
  },
  {
   "cell_type": "code",
   "execution_count": 20,
   "outputs": [
    {
     "name": "stdout",
     "output_type": "stream",
     "text": [
      "CPU times: user 1min 1s, sys: 1.33 s, total: 1min 3s\n",
      "Wall time: 37.9 s\n"
     ]
    },
    {
     "data": {
      "text/plain": "(29277338, 45966425)"
     },
     "execution_count": 20,
     "metadata": {},
     "output_type": "execute_result"
    }
   ],
   "source": [
    "%%time\n",
    "model = Word2Vec(vector_size=150, window=3, negative=5, ns_exponent=1, sg=0, epochs=5, workers=8)\n",
    "model.build_vocab_from_freq(word_freq=word_freq_dict)\n",
    "model.train(corpus, total_examples=corpus_len, epochs=model.epochs)"
   ],
   "metadata": {
    "collapsed": false
   }
  },
  {
   "cell_type": "code",
   "execution_count": 21,
   "outputs": [],
   "source": [
    "keyed_vectors = model.wv"
   ],
   "metadata": {
    "collapsed": false
   }
  },
  {
   "cell_type": "code",
   "execution_count": 22,
   "outputs": [],
   "source": [
    "keyed_vectors.save(\"../data/keyed_vectors.wv\")"
   ],
   "metadata": {
    "collapsed": false
   }
  },
  {
   "cell_type": "code",
   "execution_count": null,
   "outputs": [],
   "source": [],
   "metadata": {
    "collapsed": false
   }
  }
 ],
 "metadata": {
  "kernelspec": {
   "display_name": "Python 3",
   "language": "python",
   "name": "python3"
  },
  "language_info": {
   "codemirror_mode": {
    "name": "ipython",
    "version": 2
   },
   "file_extension": ".py",
   "mimetype": "text/x-python",
   "name": "python",
   "nbconvert_exporter": "python",
   "pygments_lexer": "ipython2",
   "version": "2.7.6"
  }
 },
 "nbformat": 4,
 "nbformat_minor": 0
}
