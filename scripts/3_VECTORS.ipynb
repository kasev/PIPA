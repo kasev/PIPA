{
 "cells": [
  {
   "cell_type": "code",
   "execution_count": 1,
   "outputs": [
    {
     "name": "stderr",
     "output_type": "stream",
     "text": [
      "<frozen importlib._bootstrap>:228: RuntimeWarning: scipy._lib.messagestream.MessageStream size changed, may indicate binary incompatibility. Expected 56 from C header, got 64 from PyObject\n"
     ]
    }
   ],
   "source": [
    "from gensim.corpora import Dictionary\n",
    "from gensim.models import Word2Vec\n",
    "\n",
    "import pandas as pd\n",
    "\n",
    "import pickle"
   ],
   "metadata": {
    "collapsed": false
   }
  },
  {
   "cell_type": "code",
   "execution_count": 2,
   "outputs": [],
   "source": [
    "cgl = pd.read_json(\"../data/large_data/cgl.json\")"
   ],
   "metadata": {
    "collapsed": false
   }
  },
  {
   "cell_type": "code",
   "execution_count": null,
   "outputs": [],
   "source": [],
   "metadata": {
    "collapsed": false
   }
  },
  {
   "cell_type": "code",
   "execution_count": 27,
   "outputs": [],
   "source": [
    "word_freqs_vocabulary = pd.read_csv(\"../data/word_freqs_vocabulary.csv\")"
   ],
   "metadata": {
    "collapsed": false
   }
  },
  {
   "cell_type": "code",
   "execution_count": 28,
   "outputs": [
    {
     "data": {
      "text/plain": "             word  count\n0            λέγω  29114\n1             ἔχω  22584\n2        γίγνομαι  21737\n3           πολύς  20652\n4             πᾶς  19062\n...           ...    ...\n3475  στραγγουρία     50\n3476       ῥύγχος     50\n3477    διάκρισις     50\n3478        ἀρχός     50\n3479     τρομώδης     50\n\n[3480 rows x 2 columns]",
      "text/html": "<div>\n<style scoped>\n    .dataframe tbody tr th:only-of-type {\n        vertical-align: middle;\n    }\n\n    .dataframe tbody tr th {\n        vertical-align: top;\n    }\n\n    .dataframe thead th {\n        text-align: right;\n    }\n</style>\n<table border=\"1\" class=\"dataframe\">\n  <thead>\n    <tr style=\"text-align: right;\">\n      <th></th>\n      <th>word</th>\n      <th>count</th>\n    </tr>\n  </thead>\n  <tbody>\n    <tr>\n      <th>0</th>\n      <td>λέγω</td>\n      <td>29114</td>\n    </tr>\n    <tr>\n      <th>1</th>\n      <td>ἔχω</td>\n      <td>22584</td>\n    </tr>\n    <tr>\n      <th>2</th>\n      <td>γίγνομαι</td>\n      <td>21737</td>\n    </tr>\n    <tr>\n      <th>3</th>\n      <td>πολύς</td>\n      <td>20652</td>\n    </tr>\n    <tr>\n      <th>4</th>\n      <td>πᾶς</td>\n      <td>19062</td>\n    </tr>\n    <tr>\n      <th>...</th>\n      <td>...</td>\n      <td>...</td>\n    </tr>\n    <tr>\n      <th>3475</th>\n      <td>στραγγουρία</td>\n      <td>50</td>\n    </tr>\n    <tr>\n      <th>3476</th>\n      <td>ῥύγχος</td>\n      <td>50</td>\n    </tr>\n    <tr>\n      <th>3477</th>\n      <td>διάκρισις</td>\n      <td>50</td>\n    </tr>\n    <tr>\n      <th>3478</th>\n      <td>ἀρχός</td>\n      <td>50</td>\n    </tr>\n    <tr>\n      <th>3479</th>\n      <td>τρομώδης</td>\n      <td>50</td>\n    </tr>\n  </tbody>\n</table>\n<p>3480 rows × 2 columns</p>\n</div>"
     },
     "execution_count": 28,
     "metadata": {},
     "output_type": "execute_result"
    }
   ],
   "source": [
    "word_freqs_vocabulary"
   ],
   "metadata": {
    "collapsed": false
   }
  },
  {
   "cell_type": "code",
   "execution_count": 13,
   "outputs": [],
   "source": [
    "word_freq_dict = dict(zip(word_freqs_vocabulary[\"word\"], word_freqs_vocabulary[\"count\"]))"
   ],
   "metadata": {
    "collapsed": false
   }
  },
  {
   "cell_type": "code",
   "execution_count": 6,
   "outputs": [],
   "source": [
    "vocabulary = word_freqs_vocabulary[\"word\"].tolist()"
   ],
   "metadata": {
    "collapsed": false
   }
  },
  {
   "cell_type": "code",
   "execution_count": 42,
   "outputs": [],
   "source": [
    "ids_lines = pickle.load(open(\"../data/ids_lines.pickle\", \"rb\"))"
   ],
   "metadata": {
    "collapsed": false
   }
  },
  {
   "cell_type": "code",
   "execution_count": 78,
   "outputs": [],
   "source": [
    "class NgramCorpus(object):\n",
    "    def __init__(self, ids_list, ids_lines, fname, bow=False, dct=None):\n",
    "        self.ids_list = ids_list\n",
    "        self.fname = fname\n",
    "        self.bow  = bow\n",
    "        self.dct = dct\n",
    "        self.ids_lines = ids_lines\n",
    "        self.len = 0\n",
    "    def __len__(self):\n",
    "        [el for el in self]\n",
    "        return self.len\n",
    "    def __iter__(self):\n",
    "        with open(self.fname, \"r\") as f:\n",
    "            lines = f.readlines()\n",
    "            for id in self.ids_list:\n",
    "                for line in lines[self.ids_lines[id][0] : self.ids_lines[id][1]]:\n",
    "                    if bool(line.split()):\n",
    "                        self.len += 1\n",
    "                        if (self.bow) & (self.dct != None):\n",
    "                            yield self.dct.doc2bow(line.split())\n",
    "                        else:\n",
    "                            yield line.split()"
   ],
   "metadata": {
    "collapsed": false
   }
  },
  {
   "cell_type": "markdown",
   "source": [
    "# Full model"
   ],
   "metadata": {
    "collapsed": false
   }
  },
  {
   "cell_type": "code",
   "execution_count": 79,
   "outputs": [],
   "source": [
    "corpus_full = NgramCorpus(cgl[\"doc_id\"].tolist(), ids_lines, \"../data/large_data/corpus_ngrams_bydocid.txt\")"
   ],
   "metadata": {
    "collapsed": false
   }
  },
  {
   "cell_type": "code",
   "execution_count": 80,
   "outputs": [
    {
     "data": {
      "text/plain": "3216205"
     },
     "execution_count": 80,
     "metadata": {},
     "output_type": "execute_result"
    }
   ],
   "source": [
    "len(corpus_full)"
   ],
   "metadata": {
    "collapsed": false
   }
  },
  {
   "cell_type": "code",
   "execution_count": 68,
   "outputs": [
    {
     "data": {
      "text/plain": "3216205"
     },
     "execution_count": 68,
     "metadata": {},
     "output_type": "execute_result"
    }
   ],
   "source": [
    "len([doc for doc in corpus_full])"
   ],
   "metadata": {
    "collapsed": false
   }
  },
  {
   "cell_type": "code",
   "execution_count": 98,
   "outputs": [],
   "source": [
    "def from_corpus_to_keyed_vectors(corpus):\n",
    "    model = Word2Vec(vector_size=150, window=3, negative=5, ns_exponent=1, sg=0, epochs=5, workers=8)\n",
    "    model.build_vocab_from_freq(word_freq=word_freq_dict)\n",
    "    model.train(corpus, total_examples=len(corpus), epochs=model.epochs)\n",
    "    keyed_vectors = model.wv\n",
    "    return keyed_vectors"
   ],
   "metadata": {
    "collapsed": false
   }
  },
  {
   "cell_type": "code",
   "execution_count": 99,
   "outputs": [
    {
     "name": "stdout",
     "output_type": "stream",
     "text": [
      "CPU times: user 1min 14s, sys: 2.43 s, total: 1min 17s\n",
      "Wall time: 54.3 s\n"
     ]
    }
   ],
   "source": [
    "%%time\n",
    "keyed_vectors = from_corpus_to_keyed_vectors(corpus_full)"
   ],
   "metadata": {
    "collapsed": false
   }
  },
  {
   "cell_type": "code",
   "execution_count": 100,
   "outputs": [],
   "source": [
    "keyed_vectors.save(\"../data/keyed_vectors_full.wv\")"
   ],
   "metadata": {
    "collapsed": false
   }
  },
  {
   "cell_type": "markdown",
   "source": [
    "# Model excluding c_aristotelicum"
   ],
   "metadata": {
    "collapsed": false
   }
  },
  {
   "cell_type": "code",
   "execution_count": 101,
   "outputs": [
    {
     "data": {
      "text/plain": "{None, 'c_aristotelicum', 'c_hippocraticum', 'c_platonicum'}"
     },
     "execution_count": 101,
     "metadata": {},
     "output_type": "execute_result"
    }
   ],
   "source": [
    "set(cgl[\"subcorpus\"])"
   ],
   "metadata": {
    "collapsed": false
   }
  },
  {
   "cell_type": "code",
   "execution_count": 102,
   "outputs": [
    {
     "name": "stdout",
     "output_type": "stream",
     "text": [
      "336\n"
     ]
    }
   ],
   "source": [
    "# ids_list = cgl[cgl[\"subcorpus\"] != \"c_aristotelicum\"][\"doc_id\"].tolist()\n",
    "ids_list = cgl[cgl[\"author_id\"] != \"tlg0086\"][\"doc_id\"].tolist()\n",
    "print(len(ids_list))\n",
    "corpus_excl_arist = NgramCorpus(ids_list, ids_lines, \"../data/large_data/corpus_ngrams_bydocid.txt\")"
   ],
   "metadata": {
    "collapsed": false
   }
  },
  {
   "cell_type": "code",
   "execution_count": 103,
   "outputs": [
    {
     "name": "stdout",
     "output_type": "stream",
     "text": [
      "CPU times: user 59.3 s, sys: 1.95 s, total: 1min 1s\n",
      "Wall time: 38.5 s\n"
     ]
    }
   ],
   "source": [
    "%%time\n",
    "keyed_vectors = from_corpus_to_keyed_vectors(corpus_excl_arist)\n",
    "keyed_vectors.save(\"../data/keyed_vectors_excl_arist.wv\")"
   ],
   "metadata": {
    "collapsed": false
   }
  },
  {
   "cell_type": "markdown",
   "source": [
    "# Model excluding c_hippocraticum"
   ],
   "metadata": {
    "collapsed": false
   }
  },
  {
   "cell_type": "code",
   "execution_count": 104,
   "outputs": [
    {
     "name": "stdout",
     "output_type": "stream",
     "text": [
      "319\n"
     ]
    }
   ],
   "source": [
    "# ids_list = cgl[cgl[\"subcorpus\"] != \"c_hippocraticum\"][\"doc_id\"].tolist()\n",
    "ids_list = cgl[cgl[\"author_id\"] != \"tlg0627\"][\"doc_id\"].tolist()\n",
    "print(len(ids_list))\n",
    "corpus_excl_hipp = NgramCorpus(ids_list, ids_lines, \"../data/large_data/corpus_ngrams_bydocid.txt\")"
   ],
   "metadata": {
    "collapsed": false
   }
  },
  {
   "cell_type": "code",
   "execution_count": 105,
   "outputs": [
    {
     "name": "stdout",
     "output_type": "stream",
     "text": [
      "CPU times: user 1min 6s, sys: 2.04 s, total: 1min 8s\n",
      "Wall time: 43.5 s\n"
     ]
    }
   ],
   "source": [
    "%%time\n",
    "keyed_vectors = from_corpus_to_keyed_vectors(corpus_excl_hipp)\n",
    "keyed_vectors.save(\"../data/keyed_vectors_excl_hipp.wv\")"
   ],
   "metadata": {
    "collapsed": false
   }
  },
  {
   "cell_type": "markdown",
   "source": [
    "# Model excluding c_platonicum"
   ],
   "metadata": {
    "collapsed": false
   }
  },
  {
   "cell_type": "code",
   "execution_count": 106,
   "outputs": [
    {
     "name": "stdout",
     "output_type": "stream",
     "text": [
      "334\n"
     ]
    }
   ],
   "source": [
    "# ids_list = cgl[cgl[\"subcorpus\"] != \"c_platonicum\"][\"doc_id\"].tolist()\n",
    "ids_list = cgl[cgl[\"author_id\"] != \"tlg0059\"][\"doc_id\"].tolist()\n",
    "print(len(ids_list))\n",
    "corpus_excl_plato = NgramCorpus(ids_list, ids_lines, \"../data/large_data/corpus_ngrams_bydocid.txt\")"
   ],
   "metadata": {
    "collapsed": false
   }
  },
  {
   "cell_type": "code",
   "execution_count": 107,
   "outputs": [
    {
     "name": "stdout",
     "output_type": "stream",
     "text": [
      "CPU times: user 1min 3s, sys: 1.94 s, total: 1min 5s\n",
      "Wall time: 40.7 s\n"
     ]
    }
   ],
   "source": [
    "%%time\n",
    "keyed_vectors = from_corpus_to_keyed_vectors(corpus_excl_plato)\n",
    "keyed_vectors.save(\"../data/keyed_vectors_excl_plato.wv\")"
   ],
   "metadata": {
    "collapsed": false
   }
  },
  {
   "cell_type": "code",
   "execution_count": null,
   "outputs": [],
   "source": [],
   "metadata": {
    "collapsed": false
   }
  }
 ],
 "metadata": {
  "kernelspec": {
   "display_name": "Python 3",
   "language": "python",
   "name": "python3"
  },
  "language_info": {
   "codemirror_mode": {
    "name": "ipython",
    "version": 2
   },
   "file_extension": ".py",
   "mimetype": "text/x-python",
   "name": "python",
   "nbconvert_exporter": "python",
   "pygments_lexer": "ipython2",
   "version": "2.7.6"
  }
 },
 "nbformat": 4,
 "nbformat_minor": 0
}
