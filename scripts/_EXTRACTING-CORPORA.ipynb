{
 "cells": [
  {
   "cell_type": "markdown",
   "metadata": {
    "pycharm": {
     "name": "#%% md\n"
    }
   },
   "source": [
    "\n",
    "\n",
    "**Make sure that you are connected to the kernel associated with our virtual environment . Go to `Kernel` -> `Change kernel` and choose `pipa_venv`.**"
   ]
  },
  {
   "cell_type": "code",
   "execution_count": 1,
   "metadata": {
    "pycharm": {
     "name": "#%%\n"
    }
   },
   "outputs": [],
   "source": [
    "import pandas as pd\n",
    "import requests"
   ]
  },
  {
   "cell_type": "markdown",
   "metadata": {
    "colab_type": "text",
    "id": "CMR9KfVlwJbR",
    "pycharm": {
     "name": "#%% md\n"
    }
   },
   "source": [
    "# Load the main dataset of ancient Greek texts"
   ]
  },
  {
   "cell_type": "code",
   "execution_count": 2,
   "outputs": [
    {
     "name": "stdout",
     "output_type": "stream",
     "text": [
      "['/Users/kasev/Projects/paul/data/large_files/LIRE_v1-0.json']\n"
     ]
    }
   ],
   "source": [
    "# find local version of the input dataset\n",
    "local_paths = !find ~/Projects -name \"LIRE_v1-0.json\"\n",
    "print(local_paths)"
   ],
   "metadata": {
    "collapsed": false,
    "pycharm": {
     "name": "#%%\n"
    }
   }
  },
  {
   "cell_type": "code",
   "execution_count": 3,
   "outputs": [],
   "source": [
    "# LAGT (v1.0.1) dataset directly from Zenodo\n",
    "try:\n",
    "    LAGT = pd.read_json(local_paths[0])\n",
    "except:\n",
    "    resp = requests.get(\"https://zenodo.org/record/4971946/files/LAGT_v1-0.json?download=1\")\n",
    "    # save it for next time\n",
    "    LAGT = pd.DataFrame(resp.json())\n",
    "    LAGT.to_json(\"../data/large_files/LIRE_v1-0.json\")"
   ],
   "metadata": {
    "collapsed": false,
    "pycharm": {
     "name": "#%%\n"
    }
   }
  },
  {
   "cell_type": "code",
   "execution_count": 4,
   "metadata": {
    "colab": {
     "base_uri": "https://localhost:8080/",
     "height": 547
    },
    "colab_type": "code",
    "executionInfo": {
     "elapsed": 570,
     "status": "ok",
     "timestamp": 1588854060391,
     "user": {
      "displayName": "Vojtěch Kaše",
      "photoUrl": "https://lh3.googleusercontent.com/a-/AOh14Ggz3jS9e7I3GdIEbyBKFtqr9tPdNCwyLBEJwbK8cw=s64",
      "userId": "01399835024022498543"
     },
     "user_tz": -120
    },
    "id": "4E38A84hUqqU",
    "outputId": "b67a6b21-c1ef-4c18-db4a-78c0e2a4153c",
    "pycharm": {
     "name": "#%%\n"
    }
   },
   "outputs": [
    {
     "data": {
      "text/plain": "                          filename              author  \\\n0  tlg0001.tlg001.perseus-grc2.xml  Apollonius Rhodius   \n1  tlg0003.tlg001.perseus-grc2.xml          Thucydides   \n2  tlg0004.tlg001.perseus-grc1.xml   Diogenes Laertius   \n3  tlg0005.tlg001.perseus-grc1.xml          Theocritus   \n4  tlg0005.tlg002.perseus-grc1.xml          Theocritus   \n\n                           title  wordcount author_id          doc_id  \\\n0                    Argonautica      38822   tlg0001  tlg0001.tlg001   \n1          The Peloponnesian War     150118   tlg0003  tlg0003.tlg001   \n2  Lives of Eminent Philosophers     110763   tlg0004  tlg0004.tlg001   \n3                        Idylls       19200   tlg0005  tlg0005.tlg001   \n4                      Epigrams        1734   tlg0005  tlg0005.tlg002   \n\n   raw_date  date_avr                  date_probs  date_manual provenience  \\\n0    3 B.C.      -2.5                 {'-2.5': 1}         -2.5       pagan   \n1    5 B.C.      -4.5                 {'-4.5': 1}         -4.5       pagan   \n2    A.D. 3       2.5                  {'2.5': 1}          NaN               \n3  4-3 B.C.      -3.0  {'-3.5': 0.5, '-2.5': 0.5}          NaN               \n4  4-3 B.C.      -3.0  {'-3.5': 0.5, '-2.5': 0.5}          NaN               \n\n     tlg_epithet                                       clean_string  \\\n0      Epici/-ae  ἀρχόμενος σέο, Φοῖβε, παλαιγενέων κλέα φωτῶν μ...   \n1  Historici/-ae   Θουκυδίδης Ἀθηναῖος ξυνέγραψε τὸν πόλεμον τῶν...   \n2      Biographi  Τὸ τῆς φιλοσοφίας ἔργον ἔνιοί φασιν ἀπὸ βαρβάρ...   \n3       Bucolici   ̔Αδύ τι τὸ ψιθύρισμα καὶ ἁ πίτυς αἰπόλε τήνα,...   \n4       Bucolici  τὰ ῥόδα τὰ δροσόεντα καὶ ἁ κατάπυκνος ἐκείνα ἕ...   \n\n   n_sentences                               lemmatized_sentences  \n0         3252  [[ἄρχω, Φοῖβος, παλαιγενής, κλέος, φώς, μιμνήσ...  \n1         6068  [[θουκυδίδης, Ἀθηναῖος, συγγράφω, πόλεμος, Πελ...  \n2        10245  [[φιλοσοφία, ἔργον, ἔνιοι, φημί, βάρβαρος, ἄρχ...  \n3         1982  [[αδύ, ψιθύρισμα, πίτυς, αἰπόλος, τῆνος, πηγή,...  \n4          152  [[ῥόδον, δροσόεντα, κατάπυκνος, ἐκεῖνος, ἕρπυλ...  ",
      "text/html": "<div>\n<style scoped>\n    .dataframe tbody tr th:only-of-type {\n        vertical-align: middle;\n    }\n\n    .dataframe tbody tr th {\n        vertical-align: top;\n    }\n\n    .dataframe thead th {\n        text-align: right;\n    }\n</style>\n<table border=\"1\" class=\"dataframe\">\n  <thead>\n    <tr style=\"text-align: right;\">\n      <th></th>\n      <th>filename</th>\n      <th>author</th>\n      <th>title</th>\n      <th>wordcount</th>\n      <th>author_id</th>\n      <th>doc_id</th>\n      <th>raw_date</th>\n      <th>date_avr</th>\n      <th>date_probs</th>\n      <th>date_manual</th>\n      <th>provenience</th>\n      <th>tlg_epithet</th>\n      <th>clean_string</th>\n      <th>n_sentences</th>\n      <th>lemmatized_sentences</th>\n    </tr>\n  </thead>\n  <tbody>\n    <tr>\n      <th>0</th>\n      <td>tlg0001.tlg001.perseus-grc2.xml</td>\n      <td>Apollonius Rhodius</td>\n      <td>Argonautica</td>\n      <td>38822</td>\n      <td>tlg0001</td>\n      <td>tlg0001.tlg001</td>\n      <td>3 B.C.</td>\n      <td>-2.5</td>\n      <td>{'-2.5': 1}</td>\n      <td>-2.5</td>\n      <td>pagan</td>\n      <td>Epici/-ae</td>\n      <td>ἀρχόμενος σέο, Φοῖβε, παλαιγενέων κλέα φωτῶν μ...</td>\n      <td>3252</td>\n      <td>[[ἄρχω, Φοῖβος, παλαιγενής, κλέος, φώς, μιμνήσ...</td>\n    </tr>\n    <tr>\n      <th>1</th>\n      <td>tlg0003.tlg001.perseus-grc2.xml</td>\n      <td>Thucydides</td>\n      <td>The Peloponnesian War</td>\n      <td>150118</td>\n      <td>tlg0003</td>\n      <td>tlg0003.tlg001</td>\n      <td>5 B.C.</td>\n      <td>-4.5</td>\n      <td>{'-4.5': 1}</td>\n      <td>-4.5</td>\n      <td>pagan</td>\n      <td>Historici/-ae</td>\n      <td>Θουκυδίδης Ἀθηναῖος ξυνέγραψε τὸν πόλεμον τῶν...</td>\n      <td>6068</td>\n      <td>[[θουκυδίδης, Ἀθηναῖος, συγγράφω, πόλεμος, Πελ...</td>\n    </tr>\n    <tr>\n      <th>2</th>\n      <td>tlg0004.tlg001.perseus-grc1.xml</td>\n      <td>Diogenes Laertius</td>\n      <td>Lives of Eminent Philosophers</td>\n      <td>110763</td>\n      <td>tlg0004</td>\n      <td>tlg0004.tlg001</td>\n      <td>A.D. 3</td>\n      <td>2.5</td>\n      <td>{'2.5': 1}</td>\n      <td>NaN</td>\n      <td></td>\n      <td>Biographi</td>\n      <td>Τὸ τῆς φιλοσοφίας ἔργον ἔνιοί φασιν ἀπὸ βαρβάρ...</td>\n      <td>10245</td>\n      <td>[[φιλοσοφία, ἔργον, ἔνιοι, φημί, βάρβαρος, ἄρχ...</td>\n    </tr>\n    <tr>\n      <th>3</th>\n      <td>tlg0005.tlg001.perseus-grc1.xml</td>\n      <td>Theocritus</td>\n      <td>Idylls</td>\n      <td>19200</td>\n      <td>tlg0005</td>\n      <td>tlg0005.tlg001</td>\n      <td>4-3 B.C.</td>\n      <td>-3.0</td>\n      <td>{'-3.5': 0.5, '-2.5': 0.5}</td>\n      <td>NaN</td>\n      <td></td>\n      <td>Bucolici</td>\n      <td>̔Αδύ τι τὸ ψιθύρισμα καὶ ἁ πίτυς αἰπόλε τήνα,...</td>\n      <td>1982</td>\n      <td>[[αδύ, ψιθύρισμα, πίτυς, αἰπόλος, τῆνος, πηγή,...</td>\n    </tr>\n    <tr>\n      <th>4</th>\n      <td>tlg0005.tlg002.perseus-grc1.xml</td>\n      <td>Theocritus</td>\n      <td>Epigrams</td>\n      <td>1734</td>\n      <td>tlg0005</td>\n      <td>tlg0005.tlg002</td>\n      <td>4-3 B.C.</td>\n      <td>-3.0</td>\n      <td>{'-3.5': 0.5, '-2.5': 0.5}</td>\n      <td>NaN</td>\n      <td></td>\n      <td>Bucolici</td>\n      <td>τὰ ῥόδα τὰ δροσόεντα καὶ ἁ κατάπυκνος ἐκείνα ἕ...</td>\n      <td>152</td>\n      <td>[[ῥόδον, δροσόεντα, κατάπυκνος, ἐκεῖνος, ἕρπυλ...</td>\n    </tr>\n  </tbody>\n</table>\n</div>"
     },
     "execution_count": 4,
     "metadata": {},
     "output_type": "execute_result"
    }
   ],
   "source": [
    "# get some overview of the shape of the data\n",
    "LAGT.head(5)"
   ]
  },
  {
   "cell_type": "code",
   "execution_count": 5,
   "metadata": {
    "pycharm": {
     "name": "#%%\n"
    }
   },
   "outputs": [
    {
     "data": {
      "text/plain": "14383627"
     },
     "execution_count": 5,
     "metadata": {},
     "output_type": "execute_result"
    }
   ],
   "source": [
    "def flat_lemmata(sentences):\n",
    "    lemmata = [word for sent in sentences for word in sent]\n",
    "    return lemmata\n",
    "LAGT[\"lemmata\"] = LAGT[\"lemmatized_sentences\"].apply(flat_lemmata)\n",
    "\n",
    "LAGT[\"lemmata_wordcount\"] = LAGT[\"lemmata\"].apply(lambda x: len(x))\n",
    "LAGT[\"lemmata_wordcount\"].sum() # previously we had 13925726, then 13713183, finally 14756899"
   ]
  },
  {
   "cell_type": "markdown",
   "metadata": {
    "colab_type": "text",
    "id": "KsuVLaw4gzvC",
    "pycharm": {
     "name": "#%% md\n"
    }
   },
   "source": [
    "# Extract subcorpora\n",
    "\n"
   ]
  },
  {
   "cell_type": "code",
   "execution_count": 6,
   "metadata": {
    "colab": {
     "base_uri": "https://localhost:8080/",
     "height": 34
    },
    "colab_type": "code",
    "executionInfo": {
     "elapsed": 528,
     "status": "ok",
     "timestamp": 1588854160205,
     "user": {
      "displayName": "Vojtěch Kaše",
      "photoUrl": "https://lh3.googleusercontent.com/a-/AOh14Ggz3jS9e7I3GdIEbyBKFtqr9tPdNCwyLBEJwbK8cw=s64",
      "userId": "01399835024022498543"
     },
     "user_tz": -120
    },
    "id": "RS_FkWQCiMiw",
    "outputId": "246b1e31-bd07-42c5-8ba2-491e32774357",
    "pycharm": {
     "name": "#%%\n"
    }
   },
   "outputs": [
    {
     "data": {
      "text/plain": "1457"
     },
     "execution_count": 6,
     "metadata": {},
     "output_type": "execute_result"
    }
   ],
   "source": [
    "### how many documents we have\n",
    "len(LAGT)"
   ]
  },
  {
   "cell_type": "code",
   "execution_count": 18,
   "metadata": {
    "colab": {
     "base_uri": "https://localhost:8080/",
     "height": 34
    },
    "colab_type": "code",
    "executionInfo": {
     "elapsed": 518,
     "status": "ok",
     "timestamp": 1588854164279,
     "user": {
      "displayName": "Vojtěch Kaše",
      "photoUrl": "https://lh3.googleusercontent.com/a-/AOh14Ggz3jS9e7I3GdIEbyBKFtqr9tPdNCwyLBEJwbK8cw=s64",
      "userId": "01399835024022498543"
     },
     "user_tz": -120
    },
    "id": "2GTH2VNZkJCL",
    "outputId": "65b16116-d14b-42bd-c126-8de77b7b7bd2",
    "pycharm": {
     "name": "#%%\n"
    }
   },
   "outputs": [
    {
     "data": {
      "text/plain": "52"
     },
     "execution_count": 18,
     "metadata": {},
     "output_type": "execute_result"
    }
   ],
   "source": [
    "### let's identify our main author of interest\n",
    "c_hippocraticum = LAGT[LAGT[\"author_id\"].str.startswith(\"tlg0627\")]\n",
    "len(c_hippocraticum) ### old value: 53"
   ]
  },
  {
   "cell_type": "code",
   "execution_count": 16,
   "outputs": [
    {
     "data": {
      "text/plain": "37"
     },
     "execution_count": 16,
     "metadata": {},
     "output_type": "execute_result"
    }
   ],
   "source": [
    "c_platonicum = LAGT[LAGT[\"author_id\"].str.startswith(\"tlg0059\")]\n",
    "len(c_platonicum)"
   ],
   "metadata": {
    "collapsed": false,
    "pycharm": {
     "name": "#%%\n"
    }
   }
  },
  {
   "cell_type": "code",
   "execution_count": 7,
   "metadata": {
    "colab": {
     "base_uri": "https://localhost:8080/",
     "height": 34
    },
    "colab_type": "code",
    "executionInfo": {
     "elapsed": 515,
     "status": "ok",
     "timestamp": 1588849494893,
     "user": {
      "displayName": "Vojtěch Kaše",
      "photoUrl": "https://lh3.googleusercontent.com/a-/AOh14Ggz3jS9e7I3GdIEbyBKFtqr9tPdNCwyLBEJwbK8cw=s64",
      "userId": "01399835024022498543"
     },
     "user_tz": -120
    },
    "id": "n8_0xHwVaTaS",
    "outputId": "a05231a3-e746-411b-89db-cae8e94bb396",
    "pycharm": {
     "name": "#%%\n"
    }
   },
   "outputs": [
    {
     "data": {
      "text/plain": "35"
     },
     "execution_count": 7,
     "metadata": {},
     "output_type": "execute_result"
    }
   ],
   "source": [
    "# for comparison, we also generate corpus aristotelicum\n",
    "c_aristotelicum = LAGT[LAGT[\"author_id\"].str.startswith(\"tlg0086\")]\n",
    "len(c_aristotelicum) ### originally we had 27"
   ]
  },
  {
   "cell_type": "code",
   "execution_count": 10,
   "metadata": {
    "pycharm": {
     "name": "#%%\n"
    }
   },
   "outputs": [],
   "source": [
    "# However in the case of Aristotle, we are interested only in a subselection of works associated with his name\n",
    "# we coded them manually in the \"include\" column\n",
    "c_aristotelicum_coded = pd.read_csv(\"../data/c_aristotelicum_OVERVIEW.csv\")"
   ]
  },
  {
   "cell_type": "code",
   "execution_count": 11,
   "metadata": {
    "colab": {
     "base_uri": "https://localhost:8080/",
     "height": 71
    },
    "colab_type": "code",
    "executionInfo": {
     "elapsed": 531,
     "status": "ok",
     "timestamp": 1588849803436,
     "user": {
      "displayName": "Vojtěch Kaše",
      "photoUrl": "https://lh3.googleusercontent.com/a-/AOh14Ggz3jS9e7I3GdIEbyBKFtqr9tPdNCwyLBEJwbK8cw=s64",
      "userId": "01399835024022498543"
     },
     "user_tz": -120
    },
    "id": "b9ViSAfz00gi",
    "outputId": "5f017a5e-5f54-43ba-9131-969c3bfc5e6f",
    "pycharm": {
     "name": "#%%\n"
    }
   },
   "outputs": [
    {
     "name": "stdout",
     "output_type": "stream",
     "text": [
      "['tlg0086.tlg001', 'tlg0086.tlg002', 'tlg0086.tlg003', 'tlg0086.tlg005', 'tlg0086.tlg006', 'tlg0086.tlg008', 'tlg0086.tlg009', 'tlg0086.tlg010', 'tlg0086.tlg013', 'tlg0086.tlg014', 'tlg0086.tlg015', 'tlg0086.tlg016', 'tlg0086.tlg017', 'tlg0086.tlg018', 'tlg0086.tlg020', 'tlg0086.tlg021', 'tlg0086.tlg022', 'tlg0086.tlg024', 'tlg0086.tlg025', 'tlg0086.tlg026', 'tlg0086.tlg029', 'tlg0086.tlg030', 'tlg0086.tlg031', 'tlg0086.tlg034', 'tlg0086.tlg035', 'tlg0086.tlg037', 'tlg0086.tlg038', 'tlg0086.tlg040', 'tlg0086.tlg041', 'tlg0086.tlg042', 'tlg0086.tlg043', 'tlg0086.tlg044', 'tlg0086.tlg045', 'tlg0086.tlg052', 'tlg0086.tlg054']\n",
      "['tlg0086.tlg001', 'tlg0086.tlg002', 'tlg0086.tlg003', 'tlg0086.tlg005', 'tlg0086.tlg006', 'tlg0086.tlg008', 'tlg0086.tlg009', 'tlg0086.tlg010', 'tlg0086.tlg013', 'tlg0086.tlg014', 'tlg0086.tlg015', 'tlg0086.tlg016', 'tlg0086.tlg017', 'tlg0086.tlg018', 'tlg0086.tlg020', 'tlg0086.tlg021', 'tlg0086.tlg022', 'tlg0086.tlg024', 'tlg0086.tlg025', 'tlg0086.tlg026', 'tlg0086.tlg029', 'tlg0086.tlg030', 'tlg0086.tlg031', 'tlg0086.tlg034', 'tlg0086.tlg035', 'tlg0086.tlg037', 'tlg0086.tlg038', 'tlg0086.tlg040', 'tlg0086.tlg041', 'tlg0086.tlg042', 'tlg0086.tlg043', 'tlg0086.tlg044', 'tlg0086.tlg045', 'tlg0086.tlg052', 'tlg0086.tlg054']\n"
     ]
    }
   ],
   "source": [
    "### we can check whether the new and old version have the same order\n",
    "print(c_aristotelicum_coded[\"doc_id\"].tolist())\n",
    "print(c_aristotelicum[\"doc_id\"].tolist())"
   ]
  },
  {
   "cell_type": "code",
   "execution_count": 12,
   "metadata": {
    "colab": {
     "base_uri": "https://localhost:8080/",
     "height": 717
    },
    "colab_type": "code",
    "executionInfo": {
     "elapsed": 558,
     "status": "ok",
     "timestamp": 1588850187622,
     "user": {
      "displayName": "Vojtěch Kaše",
      "photoUrl": "https://lh3.googleusercontent.com/a-/AOh14Ggz3jS9e7I3GdIEbyBKFtqr9tPdNCwyLBEJwbK8cw=s64",
      "userId": "01399835024022498543"
     },
     "user_tz": -120
    },
    "id": "MVis_x8X1dfu",
    "outputId": "78c6543d-a253-4627-d7cd-d0b3e5ea5e94",
    "pycharm": {
     "name": "#%%\n"
    }
   },
   "outputs": [
    {
     "name": "stderr",
     "output_type": "stream",
     "text": [
      "/var/folders/zg/zvg9y3rs7j527jxfq9sc2xqc0000gn/T/ipykernel_53043/981519316.py:2: SettingWithCopyWarning: \n",
      "A value is trying to be set on a copy of a slice from a DataFrame.\n",
      "Try using .loc[row_indexer,col_indexer] = value instead\n",
      "\n",
      "See the caveats in the documentation: https://pandas.pydata.org/pandas-docs/stable/user_guide/indexing.html#returning-a-view-versus-a-copy\n",
      "  c_aristotelicum[\"include?\"] = c_aristotelicum_coded[\"include?\"].tolist()\n"
     ]
    },
    {
     "data": {
      "text/plain": "                          filename     author  \\\n685  tlg0086.tlg001.1st1K-grc2.xml  Aristotle   \n686  tlg0086.tlg002.1st1K-grc2.xml  Aristotle   \n688  tlg0086.tlg005.1st1K-grc1.xml  Aristotle   \n689  tlg0086.tlg006.1st1K-grc1.xml  Aristotle   \n690  tlg0086.tlg008.1st1K-grc1.xml  Aristotle   \n\n                                          title  wordcount author_id  \\\n685  Aristotelis Analytica Priora et Posteriora      59614   tlg0086   \n686                                    De anima      20912   tlg0086   \n688                                    De caelo      30794   tlg0086   \n689                                  Categoriae      10316   tlg0086   \n690                   De divinatione per somnum       1194   tlg0086   \n\n             doc_id raw_date  date_avr   date_probs  date_manual provenience  \\\n685  tlg0086.tlg001   4 B.C.      -3.5  {'-3.5': 1}         -3.5       pagan   \n686  tlg0086.tlg002   4 B.C.      -3.5  {'-3.5': 1}         -3.5       pagan   \n688  tlg0086.tlg005   4 B.C.      -3.5  {'-3.5': 1}         -3.5       pagan   \n689  tlg0086.tlg006   4 B.C.      -3.5  {'-3.5': 1}         -3.5       pagan   \n690  tlg0086.tlg008   4 B.C.      -3.5  {'-3.5': 1}         -3.5       pagan   \n\n          tlg_epithet                                       clean_string  \\\n685  Philosophici/-ae  Πρῶτον εἰπεῖν περὶ τί καὶ τίνος ἐστὶν ἡ σκέψις...   \n686  Philosophici/-ae  Τῶν καλῶν καὶ τιμίων τὴν εἴδησιν ὑπολαμβάνοντε...   \n688  Philosophici/-ae  Ἡ περὶ φύσεως ἐπιστήμη σχεδὸν ἡ πλείστη φαίνετ...   \n689  Philosophici/-ae  ὉΜΩΝΥΜΑ λέγεται ὧν ὄνομα μόνον κοινόν, ὁ δὲ κα...   \n690  Philosophici/-ae  Περὶ δὲ τῆς μαντικῆς τῆς ἐν τοῖς ὕπνοις γινομέ...   \n\n     n_sentences                               lemmatized_sentences  \\\n685         3710  [[πρῶτος, λέγω, εἰμί, σκέψις, ἀπόδειξις, ἐπιστ...   \n686         1317  [[καλός, τίμιος, εἶδος, ὑπολαμβάνω, ἕτερος, ἕτ...   \n688         2276  [[φύσις, ἐπιστήμη, πλεῖστος, φαίνω, σῶμα, μέγε...   \n689          660  [[ὁμώνυμος, λέγω, ὄνομα, μόνος, κοινός, ὄνομα,...   \n690           68  [[μαντικός, ὕπνος, γίγνομαι, λέγω, συμβαίνω, ἐ...   \n\n                                               lemmata  lemmata_wordcount  \n685  [πρῶτος, λέγω, εἰμί, σκέψις, ἀπόδειξις, ἐπιστή...              24680  \n686  [καλός, τίμιος, εἶδος, ὑπολαμβάνω, ἕτερος, ἕτε...               9395  \n688  [φύσις, ἐπιστήμη, πλεῖστος, φαίνω, σῶμα, μέγεθ...              13437  \n689  [ὁμώνυμος, λέγω, ὄνομα, μόνος, κοινός, ὄνομα, ...               4678  \n690  [μαντικός, ὕπνος, γίγνομαι, λέγω, συμβαίνω, ἐν...                549  ",
      "text/html": "<div>\n<style scoped>\n    .dataframe tbody tr th:only-of-type {\n        vertical-align: middle;\n    }\n\n    .dataframe tbody tr th {\n        vertical-align: top;\n    }\n\n    .dataframe thead th {\n        text-align: right;\n    }\n</style>\n<table border=\"1\" class=\"dataframe\">\n  <thead>\n    <tr style=\"text-align: right;\">\n      <th></th>\n      <th>filename</th>\n      <th>author</th>\n      <th>title</th>\n      <th>wordcount</th>\n      <th>author_id</th>\n      <th>doc_id</th>\n      <th>raw_date</th>\n      <th>date_avr</th>\n      <th>date_probs</th>\n      <th>date_manual</th>\n      <th>provenience</th>\n      <th>tlg_epithet</th>\n      <th>clean_string</th>\n      <th>n_sentences</th>\n      <th>lemmatized_sentences</th>\n      <th>lemmata</th>\n      <th>lemmata_wordcount</th>\n    </tr>\n  </thead>\n  <tbody>\n    <tr>\n      <th>685</th>\n      <td>tlg0086.tlg001.1st1K-grc2.xml</td>\n      <td>Aristotle</td>\n      <td>Aristotelis Analytica Priora et Posteriora</td>\n      <td>59614</td>\n      <td>tlg0086</td>\n      <td>tlg0086.tlg001</td>\n      <td>4 B.C.</td>\n      <td>-3.5</td>\n      <td>{'-3.5': 1}</td>\n      <td>-3.5</td>\n      <td>pagan</td>\n      <td>Philosophici/-ae</td>\n      <td>Πρῶτον εἰπεῖν περὶ τί καὶ τίνος ἐστὶν ἡ σκέψις...</td>\n      <td>3710</td>\n      <td>[[πρῶτος, λέγω, εἰμί, σκέψις, ἀπόδειξις, ἐπιστ...</td>\n      <td>[πρῶτος, λέγω, εἰμί, σκέψις, ἀπόδειξις, ἐπιστή...</td>\n      <td>24680</td>\n    </tr>\n    <tr>\n      <th>686</th>\n      <td>tlg0086.tlg002.1st1K-grc2.xml</td>\n      <td>Aristotle</td>\n      <td>De anima</td>\n      <td>20912</td>\n      <td>tlg0086</td>\n      <td>tlg0086.tlg002</td>\n      <td>4 B.C.</td>\n      <td>-3.5</td>\n      <td>{'-3.5': 1}</td>\n      <td>-3.5</td>\n      <td>pagan</td>\n      <td>Philosophici/-ae</td>\n      <td>Τῶν καλῶν καὶ τιμίων τὴν εἴδησιν ὑπολαμβάνοντε...</td>\n      <td>1317</td>\n      <td>[[καλός, τίμιος, εἶδος, ὑπολαμβάνω, ἕτερος, ἕτ...</td>\n      <td>[καλός, τίμιος, εἶδος, ὑπολαμβάνω, ἕτερος, ἕτε...</td>\n      <td>9395</td>\n    </tr>\n    <tr>\n      <th>688</th>\n      <td>tlg0086.tlg005.1st1K-grc1.xml</td>\n      <td>Aristotle</td>\n      <td>De caelo</td>\n      <td>30794</td>\n      <td>tlg0086</td>\n      <td>tlg0086.tlg005</td>\n      <td>4 B.C.</td>\n      <td>-3.5</td>\n      <td>{'-3.5': 1}</td>\n      <td>-3.5</td>\n      <td>pagan</td>\n      <td>Philosophici/-ae</td>\n      <td>Ἡ περὶ φύσεως ἐπιστήμη σχεδὸν ἡ πλείστη φαίνετ...</td>\n      <td>2276</td>\n      <td>[[φύσις, ἐπιστήμη, πλεῖστος, φαίνω, σῶμα, μέγε...</td>\n      <td>[φύσις, ἐπιστήμη, πλεῖστος, φαίνω, σῶμα, μέγεθ...</td>\n      <td>13437</td>\n    </tr>\n    <tr>\n      <th>689</th>\n      <td>tlg0086.tlg006.1st1K-grc1.xml</td>\n      <td>Aristotle</td>\n      <td>Categoriae</td>\n      <td>10316</td>\n      <td>tlg0086</td>\n      <td>tlg0086.tlg006</td>\n      <td>4 B.C.</td>\n      <td>-3.5</td>\n      <td>{'-3.5': 1}</td>\n      <td>-3.5</td>\n      <td>pagan</td>\n      <td>Philosophici/-ae</td>\n      <td>ὉΜΩΝΥΜΑ λέγεται ὧν ὄνομα μόνον κοινόν, ὁ δὲ κα...</td>\n      <td>660</td>\n      <td>[[ὁμώνυμος, λέγω, ὄνομα, μόνος, κοινός, ὄνομα,...</td>\n      <td>[ὁμώνυμος, λέγω, ὄνομα, μόνος, κοινός, ὄνομα, ...</td>\n      <td>4678</td>\n    </tr>\n    <tr>\n      <th>690</th>\n      <td>tlg0086.tlg008.1st1K-grc1.xml</td>\n      <td>Aristotle</td>\n      <td>De divinatione per somnum</td>\n      <td>1194</td>\n      <td>tlg0086</td>\n      <td>tlg0086.tlg008</td>\n      <td>4 B.C.</td>\n      <td>-3.5</td>\n      <td>{'-3.5': 1}</td>\n      <td>-3.5</td>\n      <td>pagan</td>\n      <td>Philosophici/-ae</td>\n      <td>Περὶ δὲ τῆς μαντικῆς τῆς ἐν τοῖς ὕπνοις γινομέ...</td>\n      <td>68</td>\n      <td>[[μαντικός, ὕπνος, γίγνομαι, λέγω, συμβαίνω, ἐ...</td>\n      <td>[μαντικός, ὕπνος, γίγνομαι, λέγω, συμβαίνω, ἐν...</td>\n      <td>549</td>\n    </tr>\n  </tbody>\n</table>\n</div>"
     },
     "execution_count": 12,
     "metadata": {},
     "output_type": "execute_result"
    }
   ],
   "source": [
    "# 1) add the \"include?\" column from the old overview to our new dataset \n",
    "c_aristotelicum[\"include?\"] = c_aristotelicum_coded[\"include?\"].tolist()\n",
    "# 2) use the \"include?\" column for filtering the new dataset\n",
    "# 3) drop \"include?\" column \n",
    "c_aristotelicum = c_aristotelicum[c_aristotelicum[\"include?\"]==\"y\"].drop(\"include?\", axis=1)\n",
    "c_aristotelicum.head()"
   ]
  },
  {
   "cell_type": "code",
   "execution_count": 13,
   "metadata": {
    "colab": {
     "base_uri": "https://localhost:8080/",
     "height": 34
    },
    "colab_type": "code",
    "executionInfo": {
     "elapsed": 11500,
     "status": "ok",
     "timestamp": 1588854352428,
     "user": {
      "displayName": "Vojtěch Kaše",
      "photoUrl": "https://lh3.googleusercontent.com/a-/AOh14Ggz3jS9e7I3GdIEbyBKFtqr9tPdNCwyLBEJwbK8cw=s64",
      "userId": "01399835024022498543"
     },
     "user_tz": -120
    },
    "id": "xQgpw0lxGRas",
    "outputId": "c3d1684c-1bff-40a5-a2d3-e6b20547f5c1",
    "pycharm": {
     "name": "#%%\n"
    }
   },
   "outputs": [
    {
     "data": {
      "text/plain": "27"
     },
     "execution_count": 13,
     "metadata": {},
     "output_type": "execute_result"
    }
   ],
   "source": [
    "len(c_aristotelicum)"
   ]
  },
  {
   "cell_type": "markdown",
   "metadata": {
    "colab_type": "text",
    "id": "pcN5UAlv20oP",
    "pycharm": {
     "name": "#%% md\n"
    }
   },
   "source": [
    "# Export the corpora"
   ]
  },
  {
   "cell_type": "code",
   "execution_count": 19,
   "outputs": [],
   "source": [
    "c_hippocraticum.to_json(\"../data/c_hippocraticum.json\")\n",
    "c_platonicum.to_json(\"../data/c_platonicum.json\")\n",
    "c_aristotelicum.to_json(\"../data/c_aristotelicum.json\")"
   ],
   "metadata": {
    "collapsed": false,
    "pycharm": {
     "name": "#%%\n"
    }
   }
  }
 ],
 "metadata": {
  "colab": {
   "collapsed_sections": [],
   "name": "0_EXTRACTING-CORPORA.ipynb",
   "provenance": []
  },
  "kernelspec": {
   "name": "pipa_venv",
   "language": "python",
   "display_name": "pipa_venv"
  },
  "language_info": {
   "codemirror_mode": {
    "name": "ipython",
    "version": 3
   },
   "file_extension": ".py",
   "mimetype": "text/x-python",
   "name": "python",
   "nbconvert_exporter": "python",
   "pygments_lexer": "ipython3",
   "version": "3.6.9"
  }
 },
 "nbformat": 4,
 "nbformat_minor": 1
}