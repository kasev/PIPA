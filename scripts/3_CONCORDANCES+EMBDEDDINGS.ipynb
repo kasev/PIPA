{
 "cells": [
  {
   "cell_type": "code",
   "execution_count": 167,
   "outputs": [],
   "source": [
    "import numpy as np\n",
    "import pandas as pd\n",
    "import pickle\n",
    "import re\n",
    "import keras\n",
    "from keras.layers import Embedding\n",
    "\n",
    "from sklearn.metrics import f1_score\n",
    "from sklearn.metrics import accuracy_score\n",
    "from sklearn.metrics import balanced_accuracy_score\n",
    "from sklearn.metrics import confusion_matrix"
   ],
   "metadata": {
    "collapsed": false,
    "pycharm": {
     "name": "#%%\n"
    }
   }
  },
  {
   "cell_type": "code",
   "execution_count": 2,
   "outputs": [
    {
     "name": "stdout",
     "output_type": "stream",
     "text": [
      "endpoint variable has been configured to: https://sciencedata.dk/files/\n"
     ]
    }
   ],
   "source": [
    "# to communicate with google spreadsheet...\n",
    "import gspread\n",
    "from gspread_dataframe import get_as_dataframe\n",
    "from gspread_dataframe import set_with_dataframe\n",
    "from google.oauth2 import service_account # based on google-auth library\n",
    "import sddk\n",
    "\n",
    "s = sddk.cloudSession(\"sciencedata.dk\")\n",
    "# establish connection with gogglesheets...\n",
    "file_data = s.read_file(\"https://sciencedata.dk/files/ServiceAccountsKey.json\", \"dict\") # or load it from a local storage: json.load(open(\"../../ServiceAccountsKey.json\", \"r\"))\n",
    "credentials = service_account.Credentials.from_service_account_info(file_data)\n",
    "gc = gspread.Client(auth=credentials.with_scopes(['https://spreadsheets.google.com/feeds', 'https://www.googleapis.com/auth/drive']))\n",
    "PIPA_data = gc.open_by_url(\"https://docs.google.com/spreadsheets/d/1rV4t0_UV_wcx--UAHVwkqB8Wa_5n9mnpV05yGG1OHqk/edit?usp=sharing\")"
   ],
   "metadata": {
    "collapsed": false,
    "pycharm": {
     "name": "#%%\n"
    }
   }
  },
  {
   "cell_type": "code",
   "execution_count": 3,
   "outputs": [
    {
     "data": {
      "text/plain": "                          filename      author                  title  \\\n1  tlg0003.tlg001.perseus-grc2.xml  Thucydides  The Peloponnesian War   \n6  tlg0006.tlg001.perseus-grc2.xml   Euripides                Cyclops   \n7  tlg0006.tlg004.perseus-grc2.xml   Euripides             Ἡρακλεῖδαι   \n8  tlg0006.tlg005.perseus-grc2.xml   Euripides              Ἱππόλυτος   \n9  tlg0006.tlg006.perseus-grc2.xml   Euripides              Ἀνδρομάχη   \n\n   wordcount author_id          doc_id raw_date  date_avr   date_probs  \\\n1     150118   tlg0003  tlg0003.tlg001   5 B.C.      -4.5  {'-4.5': 1}   \n6       4141   tlg0006  tlg0006.tlg001   5 B.C.      -4.5  {'-4.5': 1}   \n7       6272   tlg0006  tlg0006.tlg004   5 B.C.      -4.5  {'-4.5': 1}   \n8       8257   tlg0006  tlg0006.tlg005   5 B.C.      -4.5  {'-4.5': 1}   \n9       7397   tlg0006  tlg0006.tlg006   5 B.C.      -4.5  {'-4.5': 1}   \n\n   date_manual  ...                                            lemmata  \\\n1         -4.5  ...  [θουκυδίδης, Ἀθηναῖος, συγγράφω, πόλεμος, Πελο...   \n6         -4.5  ...  [Βρόμιος, ἔχω, πόνος, χὥτʼ, ἥβη, ἐμός, εὐσθενέ...   \n7         -4.5  ...  [ποτός, εἰμί, οὗτος, δεδογμένον, δίκαιος, φύω,...   \n8         -4.5  ...  [πολύς, βροτός, ἀνώνυμος, θεά, καλέω, Κύπρις, ...   \n9         -4.5  ...  [Ἀσιανός, γῆ, σχῆμα, θηβαία, πόλις, ἑδνόω, πολ...   \n\n  lemmata_wordcount subcorpus  \\\n1             71863      None   \n6              2535      None   \n7              3545      None   \n8              4898      None   \n9              4420      None   \n\n                                        lemmata_repl  \\\n1  [θουκυδίδης, Ἀθηναῖος, συγγράφω, πόλεμος, Πελο...   \n6  [Βρόμιος, ἔχω, πόνο*, χὥτʼ, ἥβη, ἐμός, εὐσθενέ...   \n7  [ποτός, εἰμί, οὗτος, δεδογμένον, δίκαιος, φύω,...   \n8  [πολύς, βροτός, ἀνώνυμος, θεά, καλέω, Κύπρις, ...   \n9  [Ἀσιανός, γῆ, σχῆμα, θηβαία, πόλις, ἑδνόω, πολ...   \n\n                           lemmatized_sentences_repl count_πόνο*  count_ὀδύν*  \\\n1  [[θουκυδίδης, Ἀθηναῖος, συγγράφω, πόλεμος, Πελ...          31            0   \n6  [[Βρόμιος, ἔχω, πόνο*, χὥτʼ, ἥβη, ἐμός, εὐσθεν...           7            0   \n7  [[ποτός, εἰμί, οὗτος, δεδογμένον], [δίκαιος, φ...          11            0   \n8  [[πολύς, βροτός, ἀνώνυμος, θεά, καλέω, Κύπρις,...           8            3   \n9  [[Ἀσιανός, γῆ, σχῆμα, θηβαία, πόλις, ἑδνόω, πο...           5            0   \n\n  count_ἄλγ* count_λύπ*                                          conc_lype  \n1          6         25  [[μέγας, κινδυνεύοντας, δέχομαι, ἀείμνηστος, μ...  \n6          0          1  [[βοτόν, οὔτις, θύω, θεός, μέγας, γαστήρ, δαίμ...  \n7          1          2  [[εἰμί, πολύς, χαίρω, δυσφημέω, ἅζομαι, θέα, σ...  \n8          8          8  [[κοιτάζω, λέχος, σός, ναυβάτης, τὶς, πλέω, κρ...  \n9          7          4  [[Τροία, πράσσω, μηδείς, ὅδε, αὐχέω, πράσσω, δ...  \n\n[5 rows x 25 columns]",
      "text/html": "<div>\n<style scoped>\n    .dataframe tbody tr th:only-of-type {\n        vertical-align: middle;\n    }\n\n    .dataframe tbody tr th {\n        vertical-align: top;\n    }\n\n    .dataframe thead th {\n        text-align: right;\n    }\n</style>\n<table border=\"1\" class=\"dataframe\">\n  <thead>\n    <tr style=\"text-align: right;\">\n      <th></th>\n      <th>filename</th>\n      <th>author</th>\n      <th>title</th>\n      <th>wordcount</th>\n      <th>author_id</th>\n      <th>doc_id</th>\n      <th>raw_date</th>\n      <th>date_avr</th>\n      <th>date_probs</th>\n      <th>date_manual</th>\n      <th>...</th>\n      <th>lemmata</th>\n      <th>lemmata_wordcount</th>\n      <th>subcorpus</th>\n      <th>lemmata_repl</th>\n      <th>lemmatized_sentences_repl</th>\n      <th>count_πόνο*</th>\n      <th>count_ὀδύν*</th>\n      <th>count_ἄλγ*</th>\n      <th>count_λύπ*</th>\n      <th>conc_lype</th>\n    </tr>\n  </thead>\n  <tbody>\n    <tr>\n      <th>1</th>\n      <td>tlg0003.tlg001.perseus-grc2.xml</td>\n      <td>Thucydides</td>\n      <td>The Peloponnesian War</td>\n      <td>150118</td>\n      <td>tlg0003</td>\n      <td>tlg0003.tlg001</td>\n      <td>5 B.C.</td>\n      <td>-4.5</td>\n      <td>{'-4.5': 1}</td>\n      <td>-4.5</td>\n      <td>...</td>\n      <td>[θουκυδίδης, Ἀθηναῖος, συγγράφω, πόλεμος, Πελο...</td>\n      <td>71863</td>\n      <td>None</td>\n      <td>[θουκυδίδης, Ἀθηναῖος, συγγράφω, πόλεμος, Πελο...</td>\n      <td>[[θουκυδίδης, Ἀθηναῖος, συγγράφω, πόλεμος, Πελ...</td>\n      <td>31</td>\n      <td>0</td>\n      <td>6</td>\n      <td>25</td>\n      <td>[[μέγας, κινδυνεύοντας, δέχομαι, ἀείμνηστος, μ...</td>\n    </tr>\n    <tr>\n      <th>6</th>\n      <td>tlg0006.tlg001.perseus-grc2.xml</td>\n      <td>Euripides</td>\n      <td>Cyclops</td>\n      <td>4141</td>\n      <td>tlg0006</td>\n      <td>tlg0006.tlg001</td>\n      <td>5 B.C.</td>\n      <td>-4.5</td>\n      <td>{'-4.5': 1}</td>\n      <td>-4.5</td>\n      <td>...</td>\n      <td>[Βρόμιος, ἔχω, πόνος, χὥτʼ, ἥβη, ἐμός, εὐσθενέ...</td>\n      <td>2535</td>\n      <td>None</td>\n      <td>[Βρόμιος, ἔχω, πόνο*, χὥτʼ, ἥβη, ἐμός, εὐσθενέ...</td>\n      <td>[[Βρόμιος, ἔχω, πόνο*, χὥτʼ, ἥβη, ἐμός, εὐσθεν...</td>\n      <td>7</td>\n      <td>0</td>\n      <td>0</td>\n      <td>1</td>\n      <td>[[βοτόν, οὔτις, θύω, θεός, μέγας, γαστήρ, δαίμ...</td>\n    </tr>\n    <tr>\n      <th>7</th>\n      <td>tlg0006.tlg004.perseus-grc2.xml</td>\n      <td>Euripides</td>\n      <td>Ἡρακλεῖδαι</td>\n      <td>6272</td>\n      <td>tlg0006</td>\n      <td>tlg0006.tlg004</td>\n      <td>5 B.C.</td>\n      <td>-4.5</td>\n      <td>{'-4.5': 1}</td>\n      <td>-4.5</td>\n      <td>...</td>\n      <td>[ποτός, εἰμί, οὗτος, δεδογμένον, δίκαιος, φύω,...</td>\n      <td>3545</td>\n      <td>None</td>\n      <td>[ποτός, εἰμί, οὗτος, δεδογμένον, δίκαιος, φύω,...</td>\n      <td>[[ποτός, εἰμί, οὗτος, δεδογμένον], [δίκαιος, φ...</td>\n      <td>11</td>\n      <td>0</td>\n      <td>1</td>\n      <td>2</td>\n      <td>[[εἰμί, πολύς, χαίρω, δυσφημέω, ἅζομαι, θέα, σ...</td>\n    </tr>\n    <tr>\n      <th>8</th>\n      <td>tlg0006.tlg005.perseus-grc2.xml</td>\n      <td>Euripides</td>\n      <td>Ἱππόλυτος</td>\n      <td>8257</td>\n      <td>tlg0006</td>\n      <td>tlg0006.tlg005</td>\n      <td>5 B.C.</td>\n      <td>-4.5</td>\n      <td>{'-4.5': 1}</td>\n      <td>-4.5</td>\n      <td>...</td>\n      <td>[πολύς, βροτός, ἀνώνυμος, θεά, καλέω, Κύπρις, ...</td>\n      <td>4898</td>\n      <td>None</td>\n      <td>[πολύς, βροτός, ἀνώνυμος, θεά, καλέω, Κύπρις, ...</td>\n      <td>[[πολύς, βροτός, ἀνώνυμος, θεά, καλέω, Κύπρις,...</td>\n      <td>8</td>\n      <td>3</td>\n      <td>8</td>\n      <td>8</td>\n      <td>[[κοιτάζω, λέχος, σός, ναυβάτης, τὶς, πλέω, κρ...</td>\n    </tr>\n    <tr>\n      <th>9</th>\n      <td>tlg0006.tlg006.perseus-grc2.xml</td>\n      <td>Euripides</td>\n      <td>Ἀνδρομάχη</td>\n      <td>7397</td>\n      <td>tlg0006</td>\n      <td>tlg0006.tlg006</td>\n      <td>5 B.C.</td>\n      <td>-4.5</td>\n      <td>{'-4.5': 1}</td>\n      <td>-4.5</td>\n      <td>...</td>\n      <td>[Ἀσιανός, γῆ, σχῆμα, θηβαία, πόλις, ἑδνόω, πολ...</td>\n      <td>4420</td>\n      <td>None</td>\n      <td>[Ἀσιανός, γῆ, σχῆμα, θηβαία, πόλις, ἑδνόω, πολ...</td>\n      <td>[[Ἀσιανός, γῆ, σχῆμα, θηβαία, πόλις, ἑδνόω, πο...</td>\n      <td>5</td>\n      <td>0</td>\n      <td>7</td>\n      <td>4</td>\n      <td>[[Τροία, πράσσω, μηδείς, ὅδε, αὐχέω, πράσσω, δ...</td>\n    </tr>\n  </tbody>\n</table>\n<p>5 rows × 25 columns</p>\n</div>"
     },
     "execution_count": 3,
     "metadata": {},
     "output_type": "execute_result"
    }
   ],
   "source": [
    "cgl = pd.read_json(\"../data/large_data/cgl.json\")\n",
    "cgl.head()"
   ],
   "metadata": {
    "collapsed": false,
    "pycharm": {
     "name": "#%%\n"
    }
   }
  },
  {
   "cell_type": "code",
   "execution_count": 4,
   "outputs": [],
   "source": [
    "cgl_embeddings = pickle.load(open(\"../data/large_data/cgl_embeddings.pkl\", \"rb\"))"
   ],
   "metadata": {
    "collapsed": false,
    "pycharm": {
     "name": "#%%\n"
    }
   }
  },
  {
   "cell_type": "code",
   "execution_count": 6,
   "outputs": [
    {
     "data": {
      "text/plain": "5000"
     },
     "execution_count": 6,
     "metadata": {},
     "output_type": "execute_result"
    }
   ],
   "source": [
    "len(range(1, len(cgl_embeddings[1])+1))"
   ],
   "metadata": {
    "collapsed": false,
    "pycharm": {
     "name": "#%%\n"
    }
   }
  },
  {
   "cell_type": "code",
   "execution_count": 7,
   "outputs": [
    {
     "data": {
      "text/plain": "[('εἰμί', 1),\n ('οὗτος', 2),\n ('λέγω', 3),\n ('ἔχω', 4),\n ('γίγνομαι', 5),\n ('πολύς', 6),\n ('ἄλλος', 7),\n ('αὐτός', 8),\n ('πᾶς', 9),\n ('ποιέω', 10)]"
     },
     "execution_count": 7,
     "metadata": {},
     "output_type": "execute_result"
    }
   ],
   "source": [
    "word_index = dict(zip(cgl_embeddings[1],range(1, len(cgl_embeddings[1])+1)))\n",
    "list(word_index.items())[:10]"
   ],
   "metadata": {
    "collapsed": false,
    "pycharm": {
     "name": "#%%\n"
    }
   }
  },
  {
   "cell_type": "code",
   "execution_count": 8,
   "outputs": [],
   "source": [
    "# we will generate the concordances again, now focusing on words in the embeddings only\n",
    "def get_concordances(wordlist, keyword, window, vocabulary=None):\n",
    "    half = int(window / 2)\n",
    "    if vocabulary != None:\n",
    "        wordlist = [w for w in wordlist if w in vocabulary]\n",
    "    keyword_indices = [el[0] for el in enumerate(wordlist) if el[1]==keyword]\n",
    "    concordances = [wordlist[i-half:i+half+1] for i in keyword_indices]\n",
    "    #concordances = [c for c in concordances if len(c)==window]\n",
    "    return concordances"
   ],
   "metadata": {
    "collapsed": false,
    "pycharm": {
     "name": "#%%\n"
    }
   }
  },
  {
   "cell_type": "code",
   "execution_count": 104,
   "outputs": [],
   "source": [
    "cgl[\"conc_lype\"] = cgl[\"lemmata_repl\"].apply(lambda x: get_concordances(x, \"λύπ*\", 21, vocabulary=cgl_embeddings[1]))"
   ],
   "metadata": {
    "collapsed": false,
    "pycharm": {
     "name": "#%%\n"
    }
   }
  },
  {
   "cell_type": "code",
   "execution_count": 105,
   "outputs": [],
   "source": [
    "v_ud = \"’\"\n",
    "v_agt = \"ʼ\"\n",
    "\n",
    "def get_sentences(string):\n",
    "    splits = re.split(r\"(\\.|\\·|\\:|\\;|\\?|\\!)\" , string)\n",
    "    sentences = []\n",
    "    for n in range(0, len(splits), 2):\n",
    "        try:\n",
    "            sentence = splits[n]+splits[n+1]\n",
    "            sentence = \"\".join([c for c in sentence if re.match(\"[\\w|\\s|\\.|\\,|\\·|\\:|\\;|\\?|\\!]\", c)])\n",
    "            sentence = re.sub(\"^\\s*\", \"\", sentence)\n",
    "            sentence = re.sub(v_ud, v_agt, sentence)\n",
    "            sentences.append(sentence)\n",
    "        except:\n",
    "            sentence = splits[n]\n",
    "            sentence = re.sub(\"^\\s*\", \"\", sentence)\n",
    "            if len(sentence) > 0:\n",
    "                sentences.append(sentence)\n",
    "            break\n",
    "    return sentences\n",
    "cgl[\"sentences\"] = cgl[\"clean_string\"].apply(get_sentences)"
   ],
   "metadata": {
    "collapsed": false,
    "pycharm": {
     "name": "#%%\n"
    }
   }
  },
  {
   "cell_type": "code",
   "execution_count": 106,
   "outputs": [
    {
     "data": {
      "text/plain": "256084"
     },
     "execution_count": 106,
     "metadata": {},
     "output_type": "execute_result"
    }
   ],
   "source": [
    "cgl[\"sentences\"].apply(len).sum()"
   ],
   "metadata": {
    "collapsed": false,
    "pycharm": {
     "name": "#%%\n"
    }
   }
  },
  {
   "cell_type": "code",
   "execution_count": 107,
   "outputs": [
    {
     "data": {
      "text/plain": "256084"
     },
     "execution_count": 107,
     "metadata": {},
     "output_type": "execute_result"
    }
   ],
   "source": [
    "cgl[\"lemmatized_sentences\"].apply(len).sum()"
   ],
   "metadata": {
    "collapsed": false,
    "pycharm": {
     "name": "#%%\n"
    }
   }
  },
  {
   "cell_type": "markdown",
   "source": [
    "perfect, we have the same number of sentences as lemmatized sentences"
   ],
   "metadata": {
    "collapsed": false,
    "pycharm": {
     "name": "#%% md\n"
    }
   }
  },
  {
   "cell_type": "code",
   "execution_count": 108,
   "outputs": [
    {
     "data": {
      "text/plain": "1147"
     },
     "execution_count": 108,
     "metadata": {},
     "output_type": "execute_result"
    }
   ],
   "source": [
    "cgl[\"lemmatized_sentences_repl\"].apply(lambda x: sum([sent.count(\"λύπ*\") for sent in x])).sum()"
   ],
   "metadata": {
    "collapsed": false,
    "pycharm": {
     "name": "#%%\n"
    }
   }
  },
  {
   "cell_type": "code",
   "execution_count": 109,
   "outputs": [
    {
     "data": {
      "text/plain": "1147"
     },
     "execution_count": 109,
     "metadata": {},
     "output_type": "execute_result"
    }
   ],
   "source": [
    "cgl[\"conc_lype\"].apply(lambda x: len(x)).sum()"
   ],
   "metadata": {
    "collapsed": false,
    "pycharm": {
     "name": "#%%\n"
    }
   }
  },
  {
   "cell_type": "markdown",
   "source": [
    "perfect, we have the same number of lype instances matched in concordances as in lemmatized sentences..."
   ],
   "metadata": {
    "collapsed": false,
    "pycharm": {
     "name": "#%% md\n"
    }
   }
  },
  {
   "cell_type": "code",
   "execution_count": 110,
   "outputs": [],
   "source": [
    "def sentences_with_lype(work_row):\n",
    "    inds_counts_tups = [(i,j.count(\"λύπ*\")) for i,j in enumerate(work_row[\"lemmatized_sentences_repl\"]) if \"λύπ*\" in j]\n",
    "    sentences = work_row[\"sentences\"]\n",
    "    lype_sentences = []\n",
    "    for tup in inds_counts_tups:\n",
    "        lype_sentences.extend([sentences[tup[0]]] * tup[1])\n",
    "    return lype_sentences"
   ],
   "metadata": {
    "collapsed": false,
    "pycharm": {
     "name": "#%%\n"
    }
   }
  },
  {
   "cell_type": "code",
   "execution_count": 111,
   "outputs": [],
   "source": [
    "cgl[\"sentences_with_lype\"] = cgl.apply(sentences_with_lype, axis=1)"
   ],
   "metadata": {
    "collapsed": false,
    "pycharm": {
     "name": "#%%\n"
    }
   }
  },
  {
   "cell_type": "code",
   "execution_count": 112,
   "outputs": [
    {
     "data": {
      "text/plain": "1147"
     },
     "execution_count": 112,
     "metadata": {},
     "output_type": "execute_result"
    }
   ],
   "source": [
    "cgl[\"sentences_with_lype\"].apply(len).sum()"
   ],
   "metadata": {
    "collapsed": false,
    "pycharm": {
     "name": "#%%\n"
    }
   }
  },
  {
   "cell_type": "code",
   "execution_count": 113,
   "outputs": [
    {
     "data": {
      "text/plain": "             count_λύπ*\nauthor_id              \ntlg0086             414\ntlg0059             316\ntlg0032              75\ntlg0006              74\ntlg0627              58\ntlg0010              47\ntlg0014              40\ntlg0011              35\ntlg0003              25\ntlg0019              18\ntlg0016              12\ntlg0540               9\ntlg0085               6\ntlg0026               5\ntlg0030               4\ntlg0535               3\ntlg0027               2\ntlg0610               1\ntlg0017               1\ntlg0066               1\ntlg0028               1\ntlg0593               0\ntlg0199               0\ntlg0591               0\ntlg1210               0\ntlg1409               0\ntlg0058               0\ntlg0088               0\ntlg0065               0\ntlg0064               0\ntlg0034               0\ntlg0033               0\ntlg0013pan            0\ntlg0013herm           0\ntlg0013dyo2           0\ntlg1486               0",
      "text/html": "<div>\n<style scoped>\n    .dataframe tbody tr th:only-of-type {\n        vertical-align: middle;\n    }\n\n    .dataframe tbody tr th {\n        vertical-align: top;\n    }\n\n    .dataframe thead th {\n        text-align: right;\n    }\n</style>\n<table border=\"1\" class=\"dataframe\">\n  <thead>\n    <tr style=\"text-align: right;\">\n      <th></th>\n      <th>count_λύπ*</th>\n    </tr>\n    <tr>\n      <th>author_id</th>\n      <th></th>\n    </tr>\n  </thead>\n  <tbody>\n    <tr>\n      <th>tlg0086</th>\n      <td>414</td>\n    </tr>\n    <tr>\n      <th>tlg0059</th>\n      <td>316</td>\n    </tr>\n    <tr>\n      <th>tlg0032</th>\n      <td>75</td>\n    </tr>\n    <tr>\n      <th>tlg0006</th>\n      <td>74</td>\n    </tr>\n    <tr>\n      <th>tlg0627</th>\n      <td>58</td>\n    </tr>\n    <tr>\n      <th>tlg0010</th>\n      <td>47</td>\n    </tr>\n    <tr>\n      <th>tlg0014</th>\n      <td>40</td>\n    </tr>\n    <tr>\n      <th>tlg0011</th>\n      <td>35</td>\n    </tr>\n    <tr>\n      <th>tlg0003</th>\n      <td>25</td>\n    </tr>\n    <tr>\n      <th>tlg0019</th>\n      <td>18</td>\n    </tr>\n    <tr>\n      <th>tlg0016</th>\n      <td>12</td>\n    </tr>\n    <tr>\n      <th>tlg0540</th>\n      <td>9</td>\n    </tr>\n    <tr>\n      <th>tlg0085</th>\n      <td>6</td>\n    </tr>\n    <tr>\n      <th>tlg0026</th>\n      <td>5</td>\n    </tr>\n    <tr>\n      <th>tlg0030</th>\n      <td>4</td>\n    </tr>\n    <tr>\n      <th>tlg0535</th>\n      <td>3</td>\n    </tr>\n    <tr>\n      <th>tlg0027</th>\n      <td>2</td>\n    </tr>\n    <tr>\n      <th>tlg0610</th>\n      <td>1</td>\n    </tr>\n    <tr>\n      <th>tlg0017</th>\n      <td>1</td>\n    </tr>\n    <tr>\n      <th>tlg0066</th>\n      <td>1</td>\n    </tr>\n    <tr>\n      <th>tlg0028</th>\n      <td>1</td>\n    </tr>\n    <tr>\n      <th>tlg0593</th>\n      <td>0</td>\n    </tr>\n    <tr>\n      <th>tlg0199</th>\n      <td>0</td>\n    </tr>\n    <tr>\n      <th>tlg0591</th>\n      <td>0</td>\n    </tr>\n    <tr>\n      <th>tlg1210</th>\n      <td>0</td>\n    </tr>\n    <tr>\n      <th>tlg1409</th>\n      <td>0</td>\n    </tr>\n    <tr>\n      <th>tlg0058</th>\n      <td>0</td>\n    </tr>\n    <tr>\n      <th>tlg0088</th>\n      <td>0</td>\n    </tr>\n    <tr>\n      <th>tlg0065</th>\n      <td>0</td>\n    </tr>\n    <tr>\n      <th>tlg0064</th>\n      <td>0</td>\n    </tr>\n    <tr>\n      <th>tlg0034</th>\n      <td>0</td>\n    </tr>\n    <tr>\n      <th>tlg0033</th>\n      <td>0</td>\n    </tr>\n    <tr>\n      <th>tlg0013pan</th>\n      <td>0</td>\n    </tr>\n    <tr>\n      <th>tlg0013herm</th>\n      <td>0</td>\n    </tr>\n    <tr>\n      <th>tlg0013dyo2</th>\n      <td>0</td>\n    </tr>\n    <tr>\n      <th>tlg1486</th>\n      <td>0</td>\n    </tr>\n  </tbody>\n</table>\n</div>"
     },
     "execution_count": 113,
     "metadata": {},
     "output_type": "execute_result"
    }
   ],
   "source": [
    "cgl.groupby(\"author_id\").sum().sort_values(\"count_λύπ*\", ascending=False)[[\"count_λύπ*\"]] # [[\"author\", \"title\", \"doc_id\", \"lype_count\"]]"
   ],
   "metadata": {
    "collapsed": false,
    "pycharm": {
     "name": "#%%\n"
    }
   }
  },
  {
   "cell_type": "code",
   "execution_count": 114,
   "outputs": [
    {
     "data": {
      "text/plain": "                author                                              title  \\\n692          Aristotle                                 Nicomachean Ethics   \n544              Plato                                           Philebus   \n691          Aristotle     Eudemian Ethics (Greek). Machine readable text   \n711          Aristotle                                           Rhetoric   \n568              Plato                                               Laws   \n...                ...                                                ...   \n373           Antiphon  The Third Tetralogy: Prosecution for Murder Of...   \n374           Antiphon                             Περὶ τοῦ Ἡρῷδου φόνου    \n375           Antiphon                                  On the Choreutes    \n379          Hyperides                           In Defence of Lycophron    \n1180  Matron of Pitana                                   Δει̑πνον Ἀττικόν   \n\n              doc_id  count_λύπ*  \n692   tlg0086.tlg010         153  \n544   tlg0059.tlg010          99  \n691   tlg0086.tlg009          76  \n711   tlg0086.tlg038          64  \n568   tlg0059.tlg034          60  \n...              ...         ...  \n373   tlg0028.tlg004           0  \n374   tlg0028.tlg005           0  \n375   tlg0028.tlg006           0  \n379   tlg0030.tlg001           0  \n1180  tlg1486.tlg002           0  \n\n[367 rows x 4 columns]",
      "text/html": "<div>\n<style scoped>\n    .dataframe tbody tr th:only-of-type {\n        vertical-align: middle;\n    }\n\n    .dataframe tbody tr th {\n        vertical-align: top;\n    }\n\n    .dataframe thead th {\n        text-align: right;\n    }\n</style>\n<table border=\"1\" class=\"dataframe\">\n  <thead>\n    <tr style=\"text-align: right;\">\n      <th></th>\n      <th>author</th>\n      <th>title</th>\n      <th>doc_id</th>\n      <th>count_λύπ*</th>\n    </tr>\n  </thead>\n  <tbody>\n    <tr>\n      <th>692</th>\n      <td>Aristotle</td>\n      <td>Nicomachean Ethics</td>\n      <td>tlg0086.tlg010</td>\n      <td>153</td>\n    </tr>\n    <tr>\n      <th>544</th>\n      <td>Plato</td>\n      <td>Philebus</td>\n      <td>tlg0059.tlg010</td>\n      <td>99</td>\n    </tr>\n    <tr>\n      <th>691</th>\n      <td>Aristotle</td>\n      <td>Eudemian Ethics (Greek). Machine readable text</td>\n      <td>tlg0086.tlg009</td>\n      <td>76</td>\n    </tr>\n    <tr>\n      <th>711</th>\n      <td>Aristotle</td>\n      <td>Rhetoric</td>\n      <td>tlg0086.tlg038</td>\n      <td>64</td>\n    </tr>\n    <tr>\n      <th>568</th>\n      <td>Plato</td>\n      <td>Laws</td>\n      <td>tlg0059.tlg034</td>\n      <td>60</td>\n    </tr>\n    <tr>\n      <th>...</th>\n      <td>...</td>\n      <td>...</td>\n      <td>...</td>\n      <td>...</td>\n    </tr>\n    <tr>\n      <th>373</th>\n      <td>Antiphon</td>\n      <td>The Third Tetralogy: Prosecution for Murder Of...</td>\n      <td>tlg0028.tlg004</td>\n      <td>0</td>\n    </tr>\n    <tr>\n      <th>374</th>\n      <td>Antiphon</td>\n      <td>Περὶ τοῦ Ἡρῷδου φόνου</td>\n      <td>tlg0028.tlg005</td>\n      <td>0</td>\n    </tr>\n    <tr>\n      <th>375</th>\n      <td>Antiphon</td>\n      <td>On the Choreutes</td>\n      <td>tlg0028.tlg006</td>\n      <td>0</td>\n    </tr>\n    <tr>\n      <th>379</th>\n      <td>Hyperides</td>\n      <td>In Defence of Lycophron</td>\n      <td>tlg0030.tlg001</td>\n      <td>0</td>\n    </tr>\n    <tr>\n      <th>1180</th>\n      <td>Matron of Pitana</td>\n      <td>Δει̑πνον Ἀττικόν</td>\n      <td>tlg1486.tlg002</td>\n      <td>0</td>\n    </tr>\n  </tbody>\n</table>\n<p>367 rows × 4 columns</p>\n</div>"
     },
     "execution_count": 114,
     "metadata": {},
     "output_type": "execute_result"
    }
   ],
   "source": [
    "cgl.sort_values(\"count_λύπ*\", ascending=False)[[\"author\", \"title\", \"doc_id\", \"count_λύπ*\"]]"
   ],
   "metadata": {
    "collapsed": false,
    "pycharm": {
     "name": "#%%\n"
    }
   }
  },
  {
   "cell_type": "code",
   "execution_count": 118,
   "outputs": [
    {
     "data": {
      "text/plain": "26"
     },
     "execution_count": 118,
     "metadata": {},
     "output_type": "execute_result"
    }
   ],
   "source": [
    "cgl[cgl[\"doc_id\"].isin(biological_ids)][\"conc_lype\"].apply(len).sum()"
   ],
   "metadata": {
    "collapsed": false,
    "pycharm": {
     "name": "#%%\n"
    }
   }
  },
  {
   "cell_type": "code",
   "execution_count": 119,
   "outputs": [
    {
     "data": {
      "text/plain": "58"
     },
     "execution_count": 119,
     "metadata": {},
     "output_type": "execute_result"
    }
   ],
   "source": [
    "cgl[cgl[\"doc_id\"].isin(medical_ids)][\"conc_lype\"].apply(len).sum()\n"
   ],
   "metadata": {
    "collapsed": false,
    "pycharm": {
     "name": "#%%\n"
    }
   }
  },
  {
   "cell_type": "code",
   "execution_count": 120,
   "outputs": [],
   "source": [
    "lype_author_ids = [el for ellist in cgl.apply(lambda row: [row[\"author_id\"] for conc in row[\"conc_lype\"]], axis=1) for el in ellist]\n",
    "lype_doc_ids = [el for ellist in cgl.apply(lambda row: [row[\"doc_id\"] for conc in row[\"conc_lype\"]], axis=1) for el in ellist]\n",
    "lype_doc_titles = [el for ellist in cgl.apply(lambda row: [row[\"title\"] for conc in row[\"conc_lype\"]], axis=1)  for el in ellist]\n",
    "lype_concs = [el for ellist in cgl[\"conc_lype\"] for el in ellist]\n",
    "lype_sents = [el for ellist in cgl[\"sentences_with_lype\"] for el in ellist]\n",
    "data = np.array([[word_index[w] for w in conc] for conc in lype_concs])"
   ],
   "metadata": {
    "collapsed": false,
    "pycharm": {
     "name": "#%%\n"
    }
   }
  },
  {
   "cell_type": "code",
   "execution_count": 121,
   "outputs": [
    {
     "data": {
      "text/plain": "1147"
     },
     "execution_count": 121,
     "metadata": {},
     "output_type": "execute_result"
    }
   ],
   "source": [
    "len(lype_sents)"
   ],
   "metadata": {
    "collapsed": false,
    "pycharm": {
     "name": "#%%\n"
    }
   }
  },
  {
   "cell_type": "code",
   "execution_count": 122,
   "outputs": [
    {
     "data": {
      "text/plain": "  author_id          doc_id                  title  \\\n0   tlg0003  tlg0003.tlg001  The Peloponnesian War   \n1   tlg0003  tlg0003.tlg001  The Peloponnesian War   \n2   tlg0003  tlg0003.tlg001  The Peloponnesian War   \n3   tlg0003  tlg0003.tlg001  The Peloponnesian War   \n4   tlg0003  tlg0003.tlg001  The Peloponnesian War   \n\n                                                conc  \\\n0  [χάρις, κατατίθημι, ναυτικός, κτέομαι, πολύς, ...   \n1  [ἄνθρωπος, πολύς, ἀρκέω, παρασκευή, δίκαιος, π...   \n2  [Πελοπόννησος, πόλις, ὠφέλιμος, καθίστημι, ἐξη...   \n3  [συμβαίνω, αἰτία, ἄλλος, ἀπόστασις, μέγας, φόρ...   \n4  [κοινός, πολιτεύω, ἡμέρα, ἐπιτήδευμα, ὑποψία, ...   \n\n                                                sent  \\\n0  τίς εὐπραξία σπανιωτέρα ἢ τίς τοῖς πολεμίοις λ...   \n1  ταύτης μέντοι τοιαύτης ἀντικαθεστηκυίας πόλεως...   \n2  καὶ εἰ τότε ὑπομείναντες διὰ παντὸς ἀπήχθεσθε ...   \n3  οἱ γὰρ Ἀθηναῖοι ἀκριβῶς ἔπρασσον καὶ λυπηροὶ ἦ...   \n4  ἐλευθέρως δὲ τά τε πρὸς τὸ κοινὸν πολιτεύομεν ...   \n\n                                            features  \n0  [193, 1264, 690, 421, 6, 452, 4380, 2096, 22, ...  \n1  [24, 6, 1125, 870, 56, 57, 189, 145, 89, 1, 20...  \n2  [711, 13, 812, 142, 2251, 529, 9, 1616, 31, 13...  \n3  [85, 127, 7, 1770, 18, 2150, 98, 5, 70, 57, 20...  \n4  [121, 1182, 66, 798, 2266, 494, 144, 222, 4, 3...  ",
      "text/html": "<div>\n<style scoped>\n    .dataframe tbody tr th:only-of-type {\n        vertical-align: middle;\n    }\n\n    .dataframe tbody tr th {\n        vertical-align: top;\n    }\n\n    .dataframe thead th {\n        text-align: right;\n    }\n</style>\n<table border=\"1\" class=\"dataframe\">\n  <thead>\n    <tr style=\"text-align: right;\">\n      <th></th>\n      <th>author_id</th>\n      <th>doc_id</th>\n      <th>title</th>\n      <th>conc</th>\n      <th>sent</th>\n      <th>features</th>\n    </tr>\n  </thead>\n  <tbody>\n    <tr>\n      <th>0</th>\n      <td>tlg0003</td>\n      <td>tlg0003.tlg001</td>\n      <td>The Peloponnesian War</td>\n      <td>[χάρις, κατατίθημι, ναυτικός, κτέομαι, πολύς, ...</td>\n      <td>τίς εὐπραξία σπανιωτέρα ἢ τίς τοῖς πολεμίοις λ...</td>\n      <td>[193, 1264, 690, 421, 6, 452, 4380, 2096, 22, ...</td>\n    </tr>\n    <tr>\n      <th>1</th>\n      <td>tlg0003</td>\n      <td>tlg0003.tlg001</td>\n      <td>The Peloponnesian War</td>\n      <td>[ἄνθρωπος, πολύς, ἀρκέω, παρασκευή, δίκαιος, π...</td>\n      <td>ταύτης μέντοι τοιαύτης ἀντικαθεστηκυίας πόλεως...</td>\n      <td>[24, 6, 1125, 870, 56, 57, 189, 145, 89, 1, 20...</td>\n    </tr>\n    <tr>\n      <th>2</th>\n      <td>tlg0003</td>\n      <td>tlg0003.tlg001</td>\n      <td>The Peloponnesian War</td>\n      <td>[Πελοπόννησος, πόλις, ὠφέλιμος, καθίστημι, ἐξη...</td>\n      <td>καὶ εἰ τότε ὑπομείναντες διὰ παντὸς ἀπήχθεσθε ...</td>\n      <td>[711, 13, 812, 142, 2251, 529, 9, 1616, 31, 13...</td>\n    </tr>\n    <tr>\n      <th>3</th>\n      <td>tlg0003</td>\n      <td>tlg0003.tlg001</td>\n      <td>The Peloponnesian War</td>\n      <td>[συμβαίνω, αἰτία, ἄλλος, ἀπόστασις, μέγας, φόρ...</td>\n      <td>οἱ γὰρ Ἀθηναῖοι ἀκριβῶς ἔπρασσον καὶ λυπηροὶ ἦ...</td>\n      <td>[85, 127, 7, 1770, 18, 2150, 98, 5, 70, 57, 20...</td>\n    </tr>\n    <tr>\n      <th>4</th>\n      <td>tlg0003</td>\n      <td>tlg0003.tlg001</td>\n      <td>The Peloponnesian War</td>\n      <td>[κοινός, πολιτεύω, ἡμέρα, ἐπιτήδευμα, ὑποψία, ...</td>\n      <td>ἐλευθέρως δὲ τά τε πρὸς τὸ κοινὸν πολιτεύομεν ...</td>\n      <td>[121, 1182, 66, 798, 2266, 494, 144, 222, 4, 3...</td>\n    </tr>\n  </tbody>\n</table>\n</div>"
     },
     "execution_count": 122,
     "metadata": {},
     "output_type": "execute_result"
    }
   ],
   "source": [
    "data_df = pd.DataFrame([lype_author_ids, lype_doc_ids, lype_doc_titles, lype_concs, lype_sents, data]).T\n",
    "data_df.columns = [\"author_id\", \"doc_id\", \"title\", \"conc\", \"sent\", \"features\"]\n",
    "data_df.head(5)"
   ],
   "metadata": {
    "collapsed": false,
    "pycharm": {
     "name": "#%%\n"
    }
   }
  },
  {
   "cell_type": "code",
   "execution_count": 125,
   "outputs": [],
   "source": [
    "# we work only with complete concordances:\n",
    "\n",
    "data_df = data_df[data_df[\"conc\"].apply(len)==data_df[\"conc\"].apply(len).max()].copy()"
   ],
   "metadata": {
    "collapsed": false,
    "pycharm": {
     "name": "#%%\n"
    }
   }
  },
  {
   "cell_type": "markdown",
   "source": [
    "# Focus on subsets"
   ],
   "metadata": {
    "collapsed": false,
    "pycharm": {
     "name": "#%% md\n"
    }
   }
  },
  {
   "cell_type": "code",
   "execution_count": 126,
   "outputs": [],
   "source": [
    "# two types of Aristotle's writings\n",
    "ethical_ids = [\"tlg0086.tlg009\", \"tlg0086.tlg010\", \"tlg0086.tlg022\", \"tlg0086.tlg035\", \"tlg0086.tlg038\",]\n",
    "\n",
    "biological_ids = [\"tlg0086.tlg002\", \"tlg0086.tlg004\", \"tlg0086.tlg007\", \"tlg0086.tlg008\", \"tlg0086.tlg012\", \"tlg0086.tlg014\", \"tlg0086.tlg015\", \"tlg0086.tlg016\", \"tlg0086.tlg018\", \"tlg0086.tlg020\", \"tlg0086.tlg021\", \"tlg0086.tlg24\", \"tlg0086.tlg030\", \"tlg0086.tlg032\", \"tlg0086.tlg037\", \"tlg0086.tlg042\", \"tlg0086.tlg043\"]\n",
    "\n",
    "historians_ids = cgl[cgl[\"author_id\"].isin([\"tlg0003\", \"tlg0016\", \"tlg0032\"])][\"doc_id\"].tolist()\n",
    "rhetorics_ids = cgl[cgl[\"author_id\"].isin([\"tlg0014\", \"tlg0010\", \"tlg0540\", \"tlg0030\", \"tlg0026\"])][\"doc_id\"].tolist()\n",
    "dramatists_ids = cgl[cgl[\"author_id\"].isin([\"tlg0006\", \"tlg0019\", \"tlg0011\", \"tlg0085\"])][\"doc_id\"].tolist()\n",
    "medical_ids = cgl[cgl[\"author_id\"].isin([\"tlg0627\"])][\"doc_id\"].tolist()\n",
    "plato_ids = cgl[cgl[\"author_id\"].isin( [\"tlg0059\"])][\"doc_id\"].tolist()"
   ],
   "metadata": {
    "collapsed": false,
    "pycharm": {
     "name": "#%%\n"
    }
   }
  },
  {
   "cell_type": "code",
   "execution_count": 126,
   "outputs": [],
   "source": [],
   "metadata": {
    "collapsed": false,
    "pycharm": {
     "name": "#%%\n"
    }
   }
  },
  {
   "cell_type": "code",
   "execution_count": 127,
   "outputs": [],
   "source": [
    "def get_classes_and_filter(doc_id, classes=[ethical_ids, medical_ids]):\n",
    "    onehot = np.zeros(len(classes))\n",
    "    for n in range(len(classes)):\n",
    "        if doc_id in classes[n]:\n",
    "            onehot[n] = 1\n",
    "    onehot = onehot.astype(int)\n",
    "    return onehot"
   ],
   "metadata": {
    "collapsed": false,
    "pycharm": {
     "name": "#%%\n"
    }
   }
  },
  {
   "cell_type": "code",
   "execution_count": 128,
   "outputs": [],
   "source": [
    "data_df[\"onehot\"] = data_df[\"doc_id\"].apply(get_classes_and_filter, classes=[ethical_ids, medical_ids])"
   ],
   "metadata": {
    "collapsed": false,
    "pycharm": {
     "name": "#%%\n"
    }
   }
  },
  {
   "cell_type": "code",
   "execution_count": 129,
   "outputs": [
    {
     "data": {
      "text/plain": "     author_id          doc_id                           title  \\\n0      tlg0003  tlg0003.tlg001           The Peloponnesian War   \n1      tlg0003  tlg0003.tlg001           The Peloponnesian War   \n2      tlg0003  tlg0003.tlg001           The Peloponnesian War   \n3      tlg0003  tlg0003.tlg001           The Peloponnesian War   \n4      tlg0003  tlg0003.tlg001           The Peloponnesian War   \n...        ...             ...                             ...   \n1140   tlg0627  tlg0627.tlg049                       De medico   \n1141   tlg0627  tlg0627.tlg049                       De medico   \n1144   tlg0627  tlg0627.tlg055  Epistulae, Decretum, Orationes   \n1145   tlg0627  tlg0627.tlg055  Epistulae, Decretum, Orationes   \n1146   tlg0627  tlg0627.tlg055  Epistulae, Decretum, Orationes   \n\n                                                   conc  \\\n0     [χάρις, κατατίθημι, ναυτικός, κτέομαι, πολύς, ...   \n1     [ἄνθρωπος, πολύς, ἀρκέω, παρασκευή, δίκαιος, π...   \n2     [Πελοπόννησος, πόλις, ὠφέλιμος, καθίστημι, ἐξη...   \n3     [συμβαίνω, αἰτία, ἄλλος, ἀπόστασις, μέγας, φόρ...   \n4     [κοινός, πολιτεύω, ἡμέρα, ἐπιτήδευμα, ὑποψία, ...   \n...                                                 ...   \n1140  [πολύς, σάρξ, ἄλλος, παραπλήσιος, κύκλος, μέγα...   \n1141  [ἀπέχω, τόπος, πλατύς, κύκλος, πολύς, ἄλλος, σ...   \n1144  [θνῄσκω, πᾶς, κακός, ἕκαστος, ὕλη, γέλως, ὑπόκ...   \n1145  [βίος, ἄτακτος, αὐτάρκης, ὑπάρχω, σύμπας, μετα...   \n1146  [γελάω, ναῦς, πολύς, θάλασσα, αὐτός, πλήρης, δ...   \n\n                                                   sent  \\\n0     τίς εὐπραξία σπανιωτέρα ἢ τίς τοῖς πολεμίοις λ...   \n1     ταύτης μέντοι τοιαύτης ἀντικαθεστηκυίας πόλεως...   \n2     καὶ εἰ τότε ὑπομείναντες διὰ παντὸς ἀπήχθεσθε ...   \n3     οἱ γὰρ Ἀθηναῖοι ἀκριβῶς ἔπρασσον καὶ λυπηροὶ ἦ...   \n4     ἐλευθέρως δὲ τά τε πρὸς τὸ κοινὸν πολιτεύομεν ...   \n...                                                 ...   \n1140  οὕτω γὰρ ἐκ πλείστων μερῶν εὑρήσεις ἄγουσαν ἐς...   \n1141  ἐπιπροσθεῖν οὖν ξυμβαίνει τὴν ἐντεῦθεν ἑλκομέν...   \n1144  Οὐ θεομαχεῖς δὲ, εἰ δύο ἐόντων ἐν κόσμῳ, χαρᾶς...   \n1145  Οἱ δʼ ὡς ἐπʼ ἀρηρυίῃ καὶ βεβαίῃ ἐκλελησμένοι π...   \n1146  ἐγὼ μὲν οὐδʼ ἀξίως δοκέω γελῇν, ἐξευρεῖν δὲ κα...   \n\n                                               features  onehot  \n0     [193, 1264, 690, 421, 6, 452, 4380, 2096, 22, ...  [0, 0]  \n1     [24, 6, 1125, 870, 56, 57, 189, 145, 89, 1, 20...  [0, 0]  \n2     [711, 13, 812, 142, 2251, 529, 9, 1616, 31, 13...  [0, 0]  \n3     [85, 127, 7, 1770, 18, 2150, 98, 5, 70, 57, 20...  [0, 0]  \n4     [121, 1182, 66, 798, 2266, 494, 144, 222, 4, 3...  [0, 0]  \n...                                                 ...     ...  \n1140  [6, 329, 7, 892, 281, 18, 6, 81, 158, 19, 208,...  [0, 1]  \n1141  [516, 129, 1374, 281, 6, 7, 329, 85, 2823, 139...  [0, 1]  \n1144  [867, 9, 42, 28, 326, 1307, 788, 1, 657, 3750,...  [0, 1]  \n1145  [137, 3601, 1916, 46, 446, 403, 320, 1651, 227...  [0, 1]  \n1146  [1237, 98, 6, 183, 8, 935, 16, 1036, 8, 91, 20...  [0, 1]  \n\n[1140 rows x 7 columns]",
      "text/html": "<div>\n<style scoped>\n    .dataframe tbody tr th:only-of-type {\n        vertical-align: middle;\n    }\n\n    .dataframe tbody tr th {\n        vertical-align: top;\n    }\n\n    .dataframe thead th {\n        text-align: right;\n    }\n</style>\n<table border=\"1\" class=\"dataframe\">\n  <thead>\n    <tr style=\"text-align: right;\">\n      <th></th>\n      <th>author_id</th>\n      <th>doc_id</th>\n      <th>title</th>\n      <th>conc</th>\n      <th>sent</th>\n      <th>features</th>\n      <th>onehot</th>\n    </tr>\n  </thead>\n  <tbody>\n    <tr>\n      <th>0</th>\n      <td>tlg0003</td>\n      <td>tlg0003.tlg001</td>\n      <td>The Peloponnesian War</td>\n      <td>[χάρις, κατατίθημι, ναυτικός, κτέομαι, πολύς, ...</td>\n      <td>τίς εὐπραξία σπανιωτέρα ἢ τίς τοῖς πολεμίοις λ...</td>\n      <td>[193, 1264, 690, 421, 6, 452, 4380, 2096, 22, ...</td>\n      <td>[0, 0]</td>\n    </tr>\n    <tr>\n      <th>1</th>\n      <td>tlg0003</td>\n      <td>tlg0003.tlg001</td>\n      <td>The Peloponnesian War</td>\n      <td>[ἄνθρωπος, πολύς, ἀρκέω, παρασκευή, δίκαιος, π...</td>\n      <td>ταύτης μέντοι τοιαύτης ἀντικαθεστηκυίας πόλεως...</td>\n      <td>[24, 6, 1125, 870, 56, 57, 189, 145, 89, 1, 20...</td>\n      <td>[0, 0]</td>\n    </tr>\n    <tr>\n      <th>2</th>\n      <td>tlg0003</td>\n      <td>tlg0003.tlg001</td>\n      <td>The Peloponnesian War</td>\n      <td>[Πελοπόννησος, πόλις, ὠφέλιμος, καθίστημι, ἐξη...</td>\n      <td>καὶ εἰ τότε ὑπομείναντες διὰ παντὸς ἀπήχθεσθε ...</td>\n      <td>[711, 13, 812, 142, 2251, 529, 9, 1616, 31, 13...</td>\n      <td>[0, 0]</td>\n    </tr>\n    <tr>\n      <th>3</th>\n      <td>tlg0003</td>\n      <td>tlg0003.tlg001</td>\n      <td>The Peloponnesian War</td>\n      <td>[συμβαίνω, αἰτία, ἄλλος, ἀπόστασις, μέγας, φόρ...</td>\n      <td>οἱ γὰρ Ἀθηναῖοι ἀκριβῶς ἔπρασσον καὶ λυπηροὶ ἦ...</td>\n      <td>[85, 127, 7, 1770, 18, 2150, 98, 5, 70, 57, 20...</td>\n      <td>[0, 0]</td>\n    </tr>\n    <tr>\n      <th>4</th>\n      <td>tlg0003</td>\n      <td>tlg0003.tlg001</td>\n      <td>The Peloponnesian War</td>\n      <td>[κοινός, πολιτεύω, ἡμέρα, ἐπιτήδευμα, ὑποψία, ...</td>\n      <td>ἐλευθέρως δὲ τά τε πρὸς τὸ κοινὸν πολιτεύομεν ...</td>\n      <td>[121, 1182, 66, 798, 2266, 494, 144, 222, 4, 3...</td>\n      <td>[0, 0]</td>\n    </tr>\n    <tr>\n      <th>...</th>\n      <td>...</td>\n      <td>...</td>\n      <td>...</td>\n      <td>...</td>\n      <td>...</td>\n      <td>...</td>\n      <td>...</td>\n    </tr>\n    <tr>\n      <th>1140</th>\n      <td>tlg0627</td>\n      <td>tlg0627.tlg049</td>\n      <td>De medico</td>\n      <td>[πολύς, σάρξ, ἄλλος, παραπλήσιος, κύκλος, μέγα...</td>\n      <td>οὕτω γὰρ ἐκ πλείστων μερῶν εὑρήσεις ἄγουσαν ἐς...</td>\n      <td>[6, 329, 7, 892, 281, 18, 6, 81, 158, 19, 208,...</td>\n      <td>[0, 1]</td>\n    </tr>\n    <tr>\n      <th>1141</th>\n      <td>tlg0627</td>\n      <td>tlg0627.tlg049</td>\n      <td>De medico</td>\n      <td>[ἀπέχω, τόπος, πλατύς, κύκλος, πολύς, ἄλλος, σ...</td>\n      <td>ἐπιπροσθεῖν οὖν ξυμβαίνει τὴν ἐντεῦθεν ἑλκομέν...</td>\n      <td>[516, 129, 1374, 281, 6, 7, 329, 85, 2823, 139...</td>\n      <td>[0, 1]</td>\n    </tr>\n    <tr>\n      <th>1144</th>\n      <td>tlg0627</td>\n      <td>tlg0627.tlg055</td>\n      <td>Epistulae, Decretum, Orationes</td>\n      <td>[θνῄσκω, πᾶς, κακός, ἕκαστος, ὕλη, γέλως, ὑπόκ...</td>\n      <td>Οὐ θεομαχεῖς δὲ, εἰ δύο ἐόντων ἐν κόσμῳ, χαρᾶς...</td>\n      <td>[867, 9, 42, 28, 326, 1307, 788, 1, 657, 3750,...</td>\n      <td>[0, 1]</td>\n    </tr>\n    <tr>\n      <th>1145</th>\n      <td>tlg0627</td>\n      <td>tlg0627.tlg055</td>\n      <td>Epistulae, Decretum, Orationes</td>\n      <td>[βίος, ἄτακτος, αὐτάρκης, ὑπάρχω, σύμπας, μετα...</td>\n      <td>Οἱ δʼ ὡς ἐπʼ ἀρηρυίῃ καὶ βεβαίῃ ἐκλελησμένοι π...</td>\n      <td>[137, 3601, 1916, 46, 446, 403, 320, 1651, 227...</td>\n      <td>[0, 1]</td>\n    </tr>\n    <tr>\n      <th>1146</th>\n      <td>tlg0627</td>\n      <td>tlg0627.tlg055</td>\n      <td>Epistulae, Decretum, Orationes</td>\n      <td>[γελάω, ναῦς, πολύς, θάλασσα, αὐτός, πλήρης, δ...</td>\n      <td>ἐγὼ μὲν οὐδʼ ἀξίως δοκέω γελῇν, ἐξευρεῖν δὲ κα...</td>\n      <td>[1237, 98, 6, 183, 8, 935, 16, 1036, 8, 91, 20...</td>\n      <td>[0, 1]</td>\n    </tr>\n  </tbody>\n</table>\n<p>1140 rows × 7 columns</p>\n</div>"
     },
     "execution_count": 129,
     "metadata": {},
     "output_type": "execute_result"
    }
   ],
   "source": [
    "data_df"
   ],
   "metadata": {
    "collapsed": false,
    "pycharm": {
     "name": "#%%\n"
    }
   }
  },
  {
   "cell_type": "code",
   "execution_count": 130,
   "outputs": [],
   "source": [
    "subset = data_df[data_df[\"onehot\"].apply(sum)>0]"
   ],
   "metadata": {
    "collapsed": false,
    "pycharm": {
     "name": "#%%\n"
    }
   }
  },
  {
   "cell_type": "code",
   "execution_count": 175,
   "outputs": [],
   "source": [
    "# randomized index\n",
    "indices = np.arange(len(subset))\n",
    "np.random.seed(1)\n",
    "np.random.shuffle(indices)"
   ],
   "metadata": {
    "collapsed": false,
    "pycharm": {
     "name": "#%%\n"
    }
   }
  },
  {
   "cell_type": "code",
   "execution_count": 176,
   "outputs": [
    {
     "data": {
      "text/plain": "array([162, 300, 400, 117,  80, 201, 389, 268,  29,  62])"
     },
     "execution_count": 176,
     "metadata": {},
     "output_type": "execute_result"
    }
   ],
   "source": [
    "indices[:10]"
   ],
   "metadata": {
    "collapsed": false,
    "pycharm": {
     "name": "#%%\n"
    }
   }
  },
  {
   "cell_type": "code",
   "execution_count": 177,
   "outputs": [],
   "source": [
    "# reshuffle dataframe:\n",
    "subset = subset.iloc[indices]"
   ],
   "metadata": {
    "collapsed": false,
    "pycharm": {
     "name": "#%%\n"
    }
   }
  },
  {
   "cell_type": "code",
   "execution_count": 178,
   "outputs": [
    {
     "data": {
      "text/plain": "                   0          1         2         3         4         5    \\\nεἰμί         40.921943  23.975110  6.083791  1.724597  0.787708  1.395476   \nοὗτος        40.370998  23.444483  5.179671  1.611451  0.341264  1.735556   \nλέγω         39.001855  22.120811  3.711950  0.918392  1.452316  0.077037   \nἔχω          39.804302  23.024422  6.199601  2.275942  0.625015  1.243543   \nγίγνομαι     39.347879  22.489298  5.427730  1.608740 -0.299176  1.453300   \n...                ...        ...       ...       ...       ...       ...   \nκύαθος        2.306894  -1.252014  1.967848  0.639823 -0.830738  1.400087   \nσκυτεύς       2.426349  -1.921372  0.401636 -0.442950 -0.050278  0.079601   \nπαραμίγνυμι   2.460930  -1.073599  2.207248  0.563545 -0.814028  1.938490   \nὀφθαλμία      1.968229  -1.475017  1.460325 -0.047004 -0.329035  0.401820   \nκριτία        3.024949  -2.190102 -0.413723 -0.793175  0.007401  0.291926   \n\n                   6         7         8         9    ...       140       141  \\\nεἰμί         10.085121 -3.512090 -2.466157 -0.479203  ...  0.135525  0.116194   \nοὗτος         9.830402 -3.353345 -2.345492 -0.181414  ...  0.139695  0.078060   \nλέγω          9.391213 -2.759150 -2.398183  0.214704  ... -0.031307  0.068023   \nἔχω           9.147309 -3.485462 -2.581793 -0.275819  ...  0.024101  0.063533   \nγίγνομαι      8.521668 -3.282159 -2.755167 -0.361946  ...  0.017706  0.150147   \n...                ...       ...       ...       ...  ...       ...       ...   \nκύαθος        0.623265 -0.022984  1.364765 -1.015133  ...  0.029445  0.035054   \nσκυτεύς       1.183014 -0.539222  0.169868  0.727299  ... -0.379041  0.069706   \nπαραμίγνυμι   0.646300 -0.572682  2.623897 -1.114314  ... -0.005971 -0.170639   \nὀφθαλμία      0.145133 -0.578576 -0.902634  0.095910  ... -0.229633 -0.162759   \nκριτία        0.928121 -0.831658  0.027614  0.053107  ...  0.076820  0.334096   \n\n                  142       143       144       145       146       147  \\\nεἰμί         0.038779  0.028518  0.048852  0.063003 -0.006917 -0.285075   \nοὗτος        0.127660  0.069392  0.060385  0.249957  0.070054 -0.194425   \nλέγω         0.000057  0.069156  0.111072  0.038494  0.002585 -0.019338   \nἔχω          0.134114  0.179058  0.043486  0.113336 -0.036198 -0.342098   \nγίγνομαι    -0.100498  0.024932 -0.241511  0.180704 -0.044182 -0.225451   \n...               ...       ...       ...       ...       ...       ...   \nκύαθος      -0.064084 -0.022086 -0.026919 -0.029758 -0.059165  0.081717   \nσκυτεύς      0.277146  0.071542 -0.010878  0.112946 -0.114023  0.315502   \nπαραμίγνυμι -0.140238  0.136425  0.311922  0.270307 -0.047148 -0.198601   \nὀφθαλμία    -0.336879 -0.035314  0.135483 -0.145982  0.128570 -0.032265   \nκριτία       0.122024  0.005462 -0.073365  0.084474 -0.021100 -0.041049   \n\n                  148       149  \nεἰμί         0.083432  0.050213  \nοὗτος       -0.004014  0.040241  \nλέγω         0.269553 -0.130885  \nἔχω          0.209940 -0.073624  \nγίγνομαι    -0.009623  0.082624  \n...               ...       ...  \nκύαθος       0.070341  0.065586  \nσκυτεύς     -0.062303 -0.036280  \nπαραμίγνυμι -0.085457  0.311602  \nὀφθαλμία    -0.125454 -0.178760  \nκριτία      -0.171185 -0.437135  \n\n[5000 rows x 150 columns]",
      "text/html": "<div>\n<style scoped>\n    .dataframe tbody tr th:only-of-type {\n        vertical-align: middle;\n    }\n\n    .dataframe tbody tr th {\n        vertical-align: top;\n    }\n\n    .dataframe thead th {\n        text-align: right;\n    }\n</style>\n<table border=\"1\" class=\"dataframe\">\n  <thead>\n    <tr style=\"text-align: right;\">\n      <th></th>\n      <th>0</th>\n      <th>1</th>\n      <th>2</th>\n      <th>3</th>\n      <th>4</th>\n      <th>5</th>\n      <th>6</th>\n      <th>7</th>\n      <th>8</th>\n      <th>9</th>\n      <th>...</th>\n      <th>140</th>\n      <th>141</th>\n      <th>142</th>\n      <th>143</th>\n      <th>144</th>\n      <th>145</th>\n      <th>146</th>\n      <th>147</th>\n      <th>148</th>\n      <th>149</th>\n    </tr>\n  </thead>\n  <tbody>\n    <tr>\n      <th>εἰμί</th>\n      <td>40.921943</td>\n      <td>23.975110</td>\n      <td>6.083791</td>\n      <td>1.724597</td>\n      <td>0.787708</td>\n      <td>1.395476</td>\n      <td>10.085121</td>\n      <td>-3.512090</td>\n      <td>-2.466157</td>\n      <td>-0.479203</td>\n      <td>...</td>\n      <td>0.135525</td>\n      <td>0.116194</td>\n      <td>0.038779</td>\n      <td>0.028518</td>\n      <td>0.048852</td>\n      <td>0.063003</td>\n      <td>-0.006917</td>\n      <td>-0.285075</td>\n      <td>0.083432</td>\n      <td>0.050213</td>\n    </tr>\n    <tr>\n      <th>οὗτος</th>\n      <td>40.370998</td>\n      <td>23.444483</td>\n      <td>5.179671</td>\n      <td>1.611451</td>\n      <td>0.341264</td>\n      <td>1.735556</td>\n      <td>9.830402</td>\n      <td>-3.353345</td>\n      <td>-2.345492</td>\n      <td>-0.181414</td>\n      <td>...</td>\n      <td>0.139695</td>\n      <td>0.078060</td>\n      <td>0.127660</td>\n      <td>0.069392</td>\n      <td>0.060385</td>\n      <td>0.249957</td>\n      <td>0.070054</td>\n      <td>-0.194425</td>\n      <td>-0.004014</td>\n      <td>0.040241</td>\n    </tr>\n    <tr>\n      <th>λέγω</th>\n      <td>39.001855</td>\n      <td>22.120811</td>\n      <td>3.711950</td>\n      <td>0.918392</td>\n      <td>1.452316</td>\n      <td>0.077037</td>\n      <td>9.391213</td>\n      <td>-2.759150</td>\n      <td>-2.398183</td>\n      <td>0.214704</td>\n      <td>...</td>\n      <td>-0.031307</td>\n      <td>0.068023</td>\n      <td>0.000057</td>\n      <td>0.069156</td>\n      <td>0.111072</td>\n      <td>0.038494</td>\n      <td>0.002585</td>\n      <td>-0.019338</td>\n      <td>0.269553</td>\n      <td>-0.130885</td>\n    </tr>\n    <tr>\n      <th>ἔχω</th>\n      <td>39.804302</td>\n      <td>23.024422</td>\n      <td>6.199601</td>\n      <td>2.275942</td>\n      <td>0.625015</td>\n      <td>1.243543</td>\n      <td>9.147309</td>\n      <td>-3.485462</td>\n      <td>-2.581793</td>\n      <td>-0.275819</td>\n      <td>...</td>\n      <td>0.024101</td>\n      <td>0.063533</td>\n      <td>0.134114</td>\n      <td>0.179058</td>\n      <td>0.043486</td>\n      <td>0.113336</td>\n      <td>-0.036198</td>\n      <td>-0.342098</td>\n      <td>0.209940</td>\n      <td>-0.073624</td>\n    </tr>\n    <tr>\n      <th>γίγνομαι</th>\n      <td>39.347879</td>\n      <td>22.489298</td>\n      <td>5.427730</td>\n      <td>1.608740</td>\n      <td>-0.299176</td>\n      <td>1.453300</td>\n      <td>8.521668</td>\n      <td>-3.282159</td>\n      <td>-2.755167</td>\n      <td>-0.361946</td>\n      <td>...</td>\n      <td>0.017706</td>\n      <td>0.150147</td>\n      <td>-0.100498</td>\n      <td>0.024932</td>\n      <td>-0.241511</td>\n      <td>0.180704</td>\n      <td>-0.044182</td>\n      <td>-0.225451</td>\n      <td>-0.009623</td>\n      <td>0.082624</td>\n    </tr>\n    <tr>\n      <th>...</th>\n      <td>...</td>\n      <td>...</td>\n      <td>...</td>\n      <td>...</td>\n      <td>...</td>\n      <td>...</td>\n      <td>...</td>\n      <td>...</td>\n      <td>...</td>\n      <td>...</td>\n      <td>...</td>\n      <td>...</td>\n      <td>...</td>\n      <td>...</td>\n      <td>...</td>\n      <td>...</td>\n      <td>...</td>\n      <td>...</td>\n      <td>...</td>\n      <td>...</td>\n      <td>...</td>\n    </tr>\n    <tr>\n      <th>κύαθος</th>\n      <td>2.306894</td>\n      <td>-1.252014</td>\n      <td>1.967848</td>\n      <td>0.639823</td>\n      <td>-0.830738</td>\n      <td>1.400087</td>\n      <td>0.623265</td>\n      <td>-0.022984</td>\n      <td>1.364765</td>\n      <td>-1.015133</td>\n      <td>...</td>\n      <td>0.029445</td>\n      <td>0.035054</td>\n      <td>-0.064084</td>\n      <td>-0.022086</td>\n      <td>-0.026919</td>\n      <td>-0.029758</td>\n      <td>-0.059165</td>\n      <td>0.081717</td>\n      <td>0.070341</td>\n      <td>0.065586</td>\n    </tr>\n    <tr>\n      <th>σκυτεύς</th>\n      <td>2.426349</td>\n      <td>-1.921372</td>\n      <td>0.401636</td>\n      <td>-0.442950</td>\n      <td>-0.050278</td>\n      <td>0.079601</td>\n      <td>1.183014</td>\n      <td>-0.539222</td>\n      <td>0.169868</td>\n      <td>0.727299</td>\n      <td>...</td>\n      <td>-0.379041</td>\n      <td>0.069706</td>\n      <td>0.277146</td>\n      <td>0.071542</td>\n      <td>-0.010878</td>\n      <td>0.112946</td>\n      <td>-0.114023</td>\n      <td>0.315502</td>\n      <td>-0.062303</td>\n      <td>-0.036280</td>\n    </tr>\n    <tr>\n      <th>παραμίγνυμι</th>\n      <td>2.460930</td>\n      <td>-1.073599</td>\n      <td>2.207248</td>\n      <td>0.563545</td>\n      <td>-0.814028</td>\n      <td>1.938490</td>\n      <td>0.646300</td>\n      <td>-0.572682</td>\n      <td>2.623897</td>\n      <td>-1.114314</td>\n      <td>...</td>\n      <td>-0.005971</td>\n      <td>-0.170639</td>\n      <td>-0.140238</td>\n      <td>0.136425</td>\n      <td>0.311922</td>\n      <td>0.270307</td>\n      <td>-0.047148</td>\n      <td>-0.198601</td>\n      <td>-0.085457</td>\n      <td>0.311602</td>\n    </tr>\n    <tr>\n      <th>ὀφθαλμία</th>\n      <td>1.968229</td>\n      <td>-1.475017</td>\n      <td>1.460325</td>\n      <td>-0.047004</td>\n      <td>-0.329035</td>\n      <td>0.401820</td>\n      <td>0.145133</td>\n      <td>-0.578576</td>\n      <td>-0.902634</td>\n      <td>0.095910</td>\n      <td>...</td>\n      <td>-0.229633</td>\n      <td>-0.162759</td>\n      <td>-0.336879</td>\n      <td>-0.035314</td>\n      <td>0.135483</td>\n      <td>-0.145982</td>\n      <td>0.128570</td>\n      <td>-0.032265</td>\n      <td>-0.125454</td>\n      <td>-0.178760</td>\n    </tr>\n    <tr>\n      <th>κριτία</th>\n      <td>3.024949</td>\n      <td>-2.190102</td>\n      <td>-0.413723</td>\n      <td>-0.793175</td>\n      <td>0.007401</td>\n      <td>0.291926</td>\n      <td>0.928121</td>\n      <td>-0.831658</td>\n      <td>0.027614</td>\n      <td>0.053107</td>\n      <td>...</td>\n      <td>0.076820</td>\n      <td>0.334096</td>\n      <td>0.122024</td>\n      <td>0.005462</td>\n      <td>-0.073365</td>\n      <td>0.084474</td>\n      <td>-0.021100</td>\n      <td>-0.041049</td>\n      <td>-0.171185</td>\n      <td>-0.437135</td>\n    </tr>\n  </tbody>\n</table>\n<p>5000 rows × 150 columns</p>\n</div>"
     },
     "execution_count": 178,
     "metadata": {},
     "output_type": "execute_result"
    }
   ],
   "source": [
    "cgl_embeddings[3]"
   ],
   "metadata": {
    "collapsed": false,
    "pycharm": {
     "name": "#%%\n"
    }
   }
  },
  {
   "cell_type": "code",
   "execution_count": 179,
   "outputs": [],
   "source": [
    "training_samples = int(len(subset) * 0.6)\n",
    "test_samples = int(len(subset) * 0.2)\n",
    "\n",
    "train_ind = indices[:training_samples]\n",
    "val_ind = indices[training_samples:-test_samples]\n",
    "test_ind = indices[-test_samples:]\n",
    "\n",
    "df_train = subset.iloc[train_ind]\n",
    "df_val = subset.iloc[val_ind]\n",
    "df_test = subset.iloc[test_ind]"
   ],
   "metadata": {
    "collapsed": false,
    "pycharm": {
     "name": "#%%\n"
    }
   }
  },
  {
   "cell_type": "code",
   "execution_count": 180,
   "outputs": [
    {
     "data": {
      "text/plain": "                   0          1         2         3         4         5    \\\nεἰμί         40.921943  23.975110  6.083791  1.724597  0.787708  1.395476   \nοὗτος        40.370998  23.444483  5.179671  1.611451  0.341264  1.735556   \nλέγω         39.001855  22.120811  3.711950  0.918392  1.452316  0.077037   \nἔχω          39.804302  23.024422  6.199601  2.275942  0.625015  1.243543   \nγίγνομαι     39.347879  22.489298  5.427730  1.608740 -0.299176  1.453300   \n...                ...        ...       ...       ...       ...       ...   \nκύαθος        2.306894  -1.252014  1.967848  0.639823 -0.830738  1.400087   \nσκυτεύς       2.426349  -1.921372  0.401636 -0.442950 -0.050278  0.079601   \nπαραμίγνυμι   2.460930  -1.073599  2.207248  0.563545 -0.814028  1.938490   \nὀφθαλμία      1.968229  -1.475017  1.460325 -0.047004 -0.329035  0.401820   \nκριτία        3.024949  -2.190102 -0.413723 -0.793175  0.007401  0.291926   \n\n                   6         7         8         9    ...       140       141  \\\nεἰμί         10.085121 -3.512090 -2.466157 -0.479203  ...  0.135525  0.116194   \nοὗτος         9.830402 -3.353345 -2.345492 -0.181414  ...  0.139695  0.078060   \nλέγω          9.391213 -2.759150 -2.398183  0.214704  ... -0.031307  0.068023   \nἔχω           9.147309 -3.485462 -2.581793 -0.275819  ...  0.024101  0.063533   \nγίγνομαι      8.521668 -3.282159 -2.755167 -0.361946  ...  0.017706  0.150147   \n...                ...       ...       ...       ...  ...       ...       ...   \nκύαθος        0.623265 -0.022984  1.364765 -1.015133  ...  0.029445  0.035054   \nσκυτεύς       1.183014 -0.539222  0.169868  0.727299  ... -0.379041  0.069706   \nπαραμίγνυμι   0.646300 -0.572682  2.623897 -1.114314  ... -0.005971 -0.170639   \nὀφθαλμία      0.145133 -0.578576 -0.902634  0.095910  ... -0.229633 -0.162759   \nκριτία        0.928121 -0.831658  0.027614  0.053107  ...  0.076820  0.334096   \n\n                  142       143       144       145       146       147  \\\nεἰμί         0.038779  0.028518  0.048852  0.063003 -0.006917 -0.285075   \nοὗτος        0.127660  0.069392  0.060385  0.249957  0.070054 -0.194425   \nλέγω         0.000057  0.069156  0.111072  0.038494  0.002585 -0.019338   \nἔχω          0.134114  0.179058  0.043486  0.113336 -0.036198 -0.342098   \nγίγνομαι    -0.100498  0.024932 -0.241511  0.180704 -0.044182 -0.225451   \n...               ...       ...       ...       ...       ...       ...   \nκύαθος      -0.064084 -0.022086 -0.026919 -0.029758 -0.059165  0.081717   \nσκυτεύς      0.277146  0.071542 -0.010878  0.112946 -0.114023  0.315502   \nπαραμίγνυμι -0.140238  0.136425  0.311922  0.270307 -0.047148 -0.198601   \nὀφθαλμία    -0.336879 -0.035314  0.135483 -0.145982  0.128570 -0.032265   \nκριτία       0.122024  0.005462 -0.073365  0.084474 -0.021100 -0.041049   \n\n                  148       149  \nεἰμί         0.083432  0.050213  \nοὗτος       -0.004014  0.040241  \nλέγω         0.269553 -0.130885  \nἔχω          0.209940 -0.073624  \nγίγνομαι    -0.009623  0.082624  \n...               ...       ...  \nκύαθος       0.070341  0.065586  \nσκυτεύς     -0.062303 -0.036280  \nπαραμίγνυμι -0.085457  0.311602  \nὀφθαλμία    -0.125454 -0.178760  \nκριτία      -0.171185 -0.437135  \n\n[5000 rows x 150 columns]",
      "text/html": "<div>\n<style scoped>\n    .dataframe tbody tr th:only-of-type {\n        vertical-align: middle;\n    }\n\n    .dataframe tbody tr th {\n        vertical-align: top;\n    }\n\n    .dataframe thead th {\n        text-align: right;\n    }\n</style>\n<table border=\"1\" class=\"dataframe\">\n  <thead>\n    <tr style=\"text-align: right;\">\n      <th></th>\n      <th>0</th>\n      <th>1</th>\n      <th>2</th>\n      <th>3</th>\n      <th>4</th>\n      <th>5</th>\n      <th>6</th>\n      <th>7</th>\n      <th>8</th>\n      <th>9</th>\n      <th>...</th>\n      <th>140</th>\n      <th>141</th>\n      <th>142</th>\n      <th>143</th>\n      <th>144</th>\n      <th>145</th>\n      <th>146</th>\n      <th>147</th>\n      <th>148</th>\n      <th>149</th>\n    </tr>\n  </thead>\n  <tbody>\n    <tr>\n      <th>εἰμί</th>\n      <td>40.921943</td>\n      <td>23.975110</td>\n      <td>6.083791</td>\n      <td>1.724597</td>\n      <td>0.787708</td>\n      <td>1.395476</td>\n      <td>10.085121</td>\n      <td>-3.512090</td>\n      <td>-2.466157</td>\n      <td>-0.479203</td>\n      <td>...</td>\n      <td>0.135525</td>\n      <td>0.116194</td>\n      <td>0.038779</td>\n      <td>0.028518</td>\n      <td>0.048852</td>\n      <td>0.063003</td>\n      <td>-0.006917</td>\n      <td>-0.285075</td>\n      <td>0.083432</td>\n      <td>0.050213</td>\n    </tr>\n    <tr>\n      <th>οὗτος</th>\n      <td>40.370998</td>\n      <td>23.444483</td>\n      <td>5.179671</td>\n      <td>1.611451</td>\n      <td>0.341264</td>\n      <td>1.735556</td>\n      <td>9.830402</td>\n      <td>-3.353345</td>\n      <td>-2.345492</td>\n      <td>-0.181414</td>\n      <td>...</td>\n      <td>0.139695</td>\n      <td>0.078060</td>\n      <td>0.127660</td>\n      <td>0.069392</td>\n      <td>0.060385</td>\n      <td>0.249957</td>\n      <td>0.070054</td>\n      <td>-0.194425</td>\n      <td>-0.004014</td>\n      <td>0.040241</td>\n    </tr>\n    <tr>\n      <th>λέγω</th>\n      <td>39.001855</td>\n      <td>22.120811</td>\n      <td>3.711950</td>\n      <td>0.918392</td>\n      <td>1.452316</td>\n      <td>0.077037</td>\n      <td>9.391213</td>\n      <td>-2.759150</td>\n      <td>-2.398183</td>\n      <td>0.214704</td>\n      <td>...</td>\n      <td>-0.031307</td>\n      <td>0.068023</td>\n      <td>0.000057</td>\n      <td>0.069156</td>\n      <td>0.111072</td>\n      <td>0.038494</td>\n      <td>0.002585</td>\n      <td>-0.019338</td>\n      <td>0.269553</td>\n      <td>-0.130885</td>\n    </tr>\n    <tr>\n      <th>ἔχω</th>\n      <td>39.804302</td>\n      <td>23.024422</td>\n      <td>6.199601</td>\n      <td>2.275942</td>\n      <td>0.625015</td>\n      <td>1.243543</td>\n      <td>9.147309</td>\n      <td>-3.485462</td>\n      <td>-2.581793</td>\n      <td>-0.275819</td>\n      <td>...</td>\n      <td>0.024101</td>\n      <td>0.063533</td>\n      <td>0.134114</td>\n      <td>0.179058</td>\n      <td>0.043486</td>\n      <td>0.113336</td>\n      <td>-0.036198</td>\n      <td>-0.342098</td>\n      <td>0.209940</td>\n      <td>-0.073624</td>\n    </tr>\n    <tr>\n      <th>γίγνομαι</th>\n      <td>39.347879</td>\n      <td>22.489298</td>\n      <td>5.427730</td>\n      <td>1.608740</td>\n      <td>-0.299176</td>\n      <td>1.453300</td>\n      <td>8.521668</td>\n      <td>-3.282159</td>\n      <td>-2.755167</td>\n      <td>-0.361946</td>\n      <td>...</td>\n      <td>0.017706</td>\n      <td>0.150147</td>\n      <td>-0.100498</td>\n      <td>0.024932</td>\n      <td>-0.241511</td>\n      <td>0.180704</td>\n      <td>-0.044182</td>\n      <td>-0.225451</td>\n      <td>-0.009623</td>\n      <td>0.082624</td>\n    </tr>\n    <tr>\n      <th>...</th>\n      <td>...</td>\n      <td>...</td>\n      <td>...</td>\n      <td>...</td>\n      <td>...</td>\n      <td>...</td>\n      <td>...</td>\n      <td>...</td>\n      <td>...</td>\n      <td>...</td>\n      <td>...</td>\n      <td>...</td>\n      <td>...</td>\n      <td>...</td>\n      <td>...</td>\n      <td>...</td>\n      <td>...</td>\n      <td>...</td>\n      <td>...</td>\n      <td>...</td>\n      <td>...</td>\n    </tr>\n    <tr>\n      <th>κύαθος</th>\n      <td>2.306894</td>\n      <td>-1.252014</td>\n      <td>1.967848</td>\n      <td>0.639823</td>\n      <td>-0.830738</td>\n      <td>1.400087</td>\n      <td>0.623265</td>\n      <td>-0.022984</td>\n      <td>1.364765</td>\n      <td>-1.015133</td>\n      <td>...</td>\n      <td>0.029445</td>\n      <td>0.035054</td>\n      <td>-0.064084</td>\n      <td>-0.022086</td>\n      <td>-0.026919</td>\n      <td>-0.029758</td>\n      <td>-0.059165</td>\n      <td>0.081717</td>\n      <td>0.070341</td>\n      <td>0.065586</td>\n    </tr>\n    <tr>\n      <th>σκυτεύς</th>\n      <td>2.426349</td>\n      <td>-1.921372</td>\n      <td>0.401636</td>\n      <td>-0.442950</td>\n      <td>-0.050278</td>\n      <td>0.079601</td>\n      <td>1.183014</td>\n      <td>-0.539222</td>\n      <td>0.169868</td>\n      <td>0.727299</td>\n      <td>...</td>\n      <td>-0.379041</td>\n      <td>0.069706</td>\n      <td>0.277146</td>\n      <td>0.071542</td>\n      <td>-0.010878</td>\n      <td>0.112946</td>\n      <td>-0.114023</td>\n      <td>0.315502</td>\n      <td>-0.062303</td>\n      <td>-0.036280</td>\n    </tr>\n    <tr>\n      <th>παραμίγνυμι</th>\n      <td>2.460930</td>\n      <td>-1.073599</td>\n      <td>2.207248</td>\n      <td>0.563545</td>\n      <td>-0.814028</td>\n      <td>1.938490</td>\n      <td>0.646300</td>\n      <td>-0.572682</td>\n      <td>2.623897</td>\n      <td>-1.114314</td>\n      <td>...</td>\n      <td>-0.005971</td>\n      <td>-0.170639</td>\n      <td>-0.140238</td>\n      <td>0.136425</td>\n      <td>0.311922</td>\n      <td>0.270307</td>\n      <td>-0.047148</td>\n      <td>-0.198601</td>\n      <td>-0.085457</td>\n      <td>0.311602</td>\n    </tr>\n    <tr>\n      <th>ὀφθαλμία</th>\n      <td>1.968229</td>\n      <td>-1.475017</td>\n      <td>1.460325</td>\n      <td>-0.047004</td>\n      <td>-0.329035</td>\n      <td>0.401820</td>\n      <td>0.145133</td>\n      <td>-0.578576</td>\n      <td>-0.902634</td>\n      <td>0.095910</td>\n      <td>...</td>\n      <td>-0.229633</td>\n      <td>-0.162759</td>\n      <td>-0.336879</td>\n      <td>-0.035314</td>\n      <td>0.135483</td>\n      <td>-0.145982</td>\n      <td>0.128570</td>\n      <td>-0.032265</td>\n      <td>-0.125454</td>\n      <td>-0.178760</td>\n    </tr>\n    <tr>\n      <th>κριτία</th>\n      <td>3.024949</td>\n      <td>-2.190102</td>\n      <td>-0.413723</td>\n      <td>-0.793175</td>\n      <td>0.007401</td>\n      <td>0.291926</td>\n      <td>0.928121</td>\n      <td>-0.831658</td>\n      <td>0.027614</td>\n      <td>0.053107</td>\n      <td>...</td>\n      <td>0.076820</td>\n      <td>0.334096</td>\n      <td>0.122024</td>\n      <td>0.005462</td>\n      <td>-0.073365</td>\n      <td>0.084474</td>\n      <td>-0.021100</td>\n      <td>-0.041049</td>\n      <td>-0.171185</td>\n      <td>-0.437135</td>\n    </tr>\n  </tbody>\n</table>\n<p>5000 rows × 150 columns</p>\n</div>"
     },
     "execution_count": 180,
     "metadata": {},
     "output_type": "execute_result"
    }
   ],
   "source": [
    "# check embeddings\n",
    "embedding_matrix = cgl_embeddings[3]\n",
    "embedding_matrix"
   ],
   "metadata": {
    "collapsed": false,
    "pycharm": {
     "name": "#%%\n"
    }
   }
  },
  {
   "cell_type": "code",
   "execution_count": 181,
   "outputs": [
    {
     "name": "stdout",
     "output_type": "stream",
     "text": [
      "Model: \"sequential_8\"\n",
      "_________________________________________________________________\n",
      " Layer (type)                Output Shape              Param #   \n",
      "=================================================================\n",
      " embedding_8 (Embedding)     (None, 21, 150)           750000    \n",
      "                                                                 \n",
      " flatten_8 (Flatten)         (None, 3150)              0         \n",
      "                                                                 \n",
      " dense_17 (Dense)            (None, 3150)              9925650   \n",
      "                                                                 \n",
      " dense_18 (Dense)            (None, 1575)              4962825   \n",
      "                                                                 \n",
      " dense_19 (Dense)            (None, 2)                 3152      \n",
      "                                                                 \n",
      "=================================================================\n",
      "Total params: 15,641,627\n",
      "Trainable params: 15,641,627\n",
      "Non-trainable params: 0\n",
      "_________________________________________________________________\n",
      "Epoch 1/10\n",
      "16/16 [==============================] - 2s 74ms/step - loss: 4.2803 - acc: 0.7884 - val_loss: 1.3946 - val_acc: 0.8025\n",
      "Epoch 2/10\n",
      "16/16 [==============================] - 1s 69ms/step - loss: 0.1076 - acc: 0.9710 - val_loss: 2.9333 - val_acc: 0.8025\n",
      "Epoch 3/10\n",
      "16/16 [==============================] - 1s 82ms/step - loss: 0.0594 - acc: 0.9793 - val_loss: 2.5443 - val_acc: 0.7901\n",
      "Epoch 4/10\n",
      "16/16 [==============================] - 1s 74ms/step - loss: 2.9606e-04 - acc: 1.0000 - val_loss: 2.5279 - val_acc: 0.7901\n",
      "Epoch 5/10\n",
      "16/16 [==============================] - 1s 76ms/step - loss: 6.6603e-05 - acc: 1.0000 - val_loss: 2.6228 - val_acc: 0.7901\n",
      "Epoch 6/10\n",
      "16/16 [==============================] - 1s 67ms/step - loss: 2.6787e-05 - acc: 1.0000 - val_loss: 2.6713 - val_acc: 0.7901\n",
      "Epoch 7/10\n",
      "16/16 [==============================] - 1s 71ms/step - loss: 1.1352e-05 - acc: 1.0000 - val_loss: 2.8094 - val_acc: 0.8025\n",
      "Epoch 8/10\n",
      "16/16 [==============================] - 1s 76ms/step - loss: 3.3500e-06 - acc: 1.0000 - val_loss: 3.0566 - val_acc: 0.8025\n",
      "Epoch 9/10\n",
      "16/16 [==============================] - 1s 77ms/step - loss: 9.6005e-07 - acc: 1.0000 - val_loss: 3.2613 - val_acc: 0.8025\n",
      "Epoch 10/10\n",
      "16/16 [==============================] - 1s 74ms/step - loss: 3.2577e-07 - acc: 1.0000 - val_loss: 3.2802 - val_acc: 0.8025\n"
     ]
    }
   ],
   "source": [
    "model = Sequential()\n",
    "model.add(Embedding(5000,  150, input_length=21))\n",
    "model.add(Flatten())\n",
    "model.add(Dense(21*150, activation='relu'))\n",
    "model.add(Dense(21*75, activation='relu'))\n",
    "model.add(Dense(2, activation='sigmoid'))\n",
    "model.summary()\n",
    "\n",
    "model.layers[0].set_weights([embedding_matrix])\n",
    "model.layers[0].trainable = False\n",
    "\n",
    "model.compile(optimizer='rmsprop',\n",
    "              loss='binary_crossentropy',\n",
    "              metrics=[\"acc\"])\n",
    "history = model.fit(np.array(df_train[\"features\"].tolist()),\n",
    "                    np.array(df_train[\"onehot\"].tolist()),\n",
    "                    epochs=10,\n",
    "                    batch_size=16,\n",
    "                    validation_data=(np.array(df_val[\"features\"].tolist()), np.array(df_val[\"onehot\"].tolist())\n",
    "                                     ))\n",
    "model.save_weights('pre_trained_glove_model.h5')"
   ],
   "metadata": {
    "collapsed": false,
    "pycharm": {
     "name": "#%%\n"
    }
   }
  },
  {
   "cell_type": "code",
   "execution_count": 182,
   "outputs": [],
   "source": [
    "test_predict = model.predict(np.array(df_test[\"features\"].tolist())).round().astype(int)"
   ],
   "metadata": {
    "collapsed": false,
    "pycharm": {
     "name": "#%%\n"
    }
   }
  },
  {
   "cell_type": "code",
   "execution_count": 183,
   "outputs": [
    {
     "data": {
      "text/plain": "array([[1, 0],\n       [1, 0],\n       [1, 0],\n       [1, 0],\n       [1, 0],\n       [1, 0],\n       [1, 0],\n       [1, 0],\n       [1, 0],\n       [1, 0],\n       [1, 0],\n       [1, 0],\n       [1, 0],\n       [1, 0],\n       [1, 0],\n       [1, 0],\n       [1, 0],\n       [1, 0],\n       [1, 0],\n       [1, 0],\n       [1, 0],\n       [1, 0],\n       [1, 0],\n       [1, 0],\n       [1, 0],\n       [1, 0],\n       [1, 0],\n       [1, 0],\n       [1, 0],\n       [1, 0],\n       [1, 0],\n       [1, 0],\n       [1, 0],\n       [1, 0],\n       [1, 0],\n       [1, 0],\n       [1, 0],\n       [1, 0],\n       [1, 0],\n       [1, 0],\n       [1, 0],\n       [1, 0],\n       [1, 0],\n       [1, 0],\n       [1, 0],\n       [1, 0],\n       [1, 0],\n       [1, 0],\n       [1, 0],\n       [1, 0],\n       [1, 0],\n       [1, 0],\n       [1, 0],\n       [1, 0],\n       [1, 0],\n       [1, 0],\n       [1, 0],\n       [1, 0],\n       [1, 0],\n       [1, 0],\n       [1, 0],\n       [1, 0],\n       [1, 0],\n       [1, 0],\n       [1, 0],\n       [1, 0],\n       [1, 0],\n       [1, 0],\n       [1, 0],\n       [1, 0],\n       [1, 0],\n       [1, 0],\n       [1, 0],\n       [1, 0],\n       [1, 0],\n       [1, 0],\n       [1, 0],\n       [1, 0],\n       [1, 0],\n       [1, 0]])"
     },
     "execution_count": 183,
     "metadata": {},
     "output_type": "execute_result"
    }
   ],
   "source": [
    "test_predict"
   ],
   "metadata": {
    "collapsed": false,
    "pycharm": {
     "name": "#%%\n"
    }
   }
  },
  {
   "cell_type": "code",
   "execution_count": 174,
   "outputs": [
    {
     "data": {
      "text/plain": "80"
     },
     "execution_count": 174,
     "metadata": {},
     "output_type": "execute_result"
    }
   ],
   "source": [
    "len(test_predict)"
   ],
   "metadata": {
    "collapsed": false,
    "pycharm": {
     "name": "#%%\n"
    }
   }
  },
  {
   "cell_type": "code",
   "execution_count": 166,
   "outputs": [
    {
     "data": {
      "text/plain": "array([[9.999e-01, 1.000e-04],\n       [1.000e+00, 0.000e+00],\n       [1.000e+00, 0.000e+00],\n       [1.000e+00, 0.000e+00],\n       [1.000e+00, 0.000e+00],\n       [1.000e+00, 0.000e+00],\n       [1.000e+00, 0.000e+00],\n       [1.000e+00, 0.000e+00],\n       [1.000e+00, 0.000e+00],\n       [1.000e+00, 0.000e+00],\n       [9.958e-01, 3.000e-03],\n       [1.000e+00, 0.000e+00],\n       [1.000e+00, 0.000e+00],\n       [9.992e-01, 1.000e-03],\n       [1.000e+00, 0.000e+00],\n       [1.000e+00, 0.000e+00],\n       [1.000e+00, 0.000e+00],\n       [1.000e+00, 0.000e+00],\n       [1.000e+00, 0.000e+00],\n       [1.000e+00, 0.000e+00],\n       [1.000e+00, 0.000e+00],\n       [1.000e+00, 0.000e+00],\n       [9.994e-01, 5.000e-04],\n       [1.000e+00, 0.000e+00],\n       [1.000e+00, 0.000e+00],\n       [1.000e+00, 0.000e+00],\n       [9.999e-01, 0.000e+00],\n       [1.000e+00, 0.000e+00],\n       [1.000e+00, 0.000e+00],\n       [1.000e+00, 0.000e+00],\n       [1.000e+00, 0.000e+00],\n       [1.000e+00, 0.000e+00],\n       [7.714e-01, 2.364e-01],\n       [9.826e-01, 3.960e-02],\n       [1.000e+00, 0.000e+00],\n       [1.000e+00, 0.000e+00],\n       [1.000e+00, 0.000e+00],\n       [1.000e+00, 0.000e+00],\n       [1.000e+00, 0.000e+00],\n       [1.000e+00, 0.000e+00],\n       [1.000e+00, 0.000e+00],\n       [1.000e+00, 0.000e+00],\n       [1.000e+00, 0.000e+00],\n       [1.000e+00, 0.000e+00],\n       [9.999e-01, 1.000e-04],\n       [1.000e+00, 0.000e+00],\n       [1.000e+00, 0.000e+00],\n       [9.997e-01, 4.000e-04],\n       [1.000e+00, 0.000e+00],\n       [1.000e+00, 0.000e+00],\n       [1.000e+00, 0.000e+00],\n       [1.000e+00, 0.000e+00],\n       [1.000e+00, 0.000e+00],\n       [1.000e+00, 0.000e+00],\n       [1.000e+00, 0.000e+00],\n       [1.000e+00, 0.000e+00],\n       [1.000e+00, 0.000e+00],\n       [1.000e+00, 0.000e+00],\n       [1.000e+00, 0.000e+00],\n       [1.000e+00, 0.000e+00],\n       [9.999e-01, 1.000e-04],\n       [1.000e+00, 0.000e+00],\n       [1.000e+00, 0.000e+00],\n       [1.000e+00, 0.000e+00],\n       [1.000e+00, 0.000e+00],\n       [1.000e+00, 0.000e+00],\n       [1.000e+00, 0.000e+00],\n       [1.000e+00, 0.000e+00],\n       [1.000e+00, 0.000e+00],\n       [1.000e+00, 0.000e+00],\n       [9.973e-01, 2.500e-03],\n       [1.000e+00, 0.000e+00],\n       [1.000e+00, 0.000e+00],\n       [1.000e+00, 0.000e+00],\n       [1.000e+00, 0.000e+00],\n       [1.000e+00, 0.000e+00],\n       [9.886e-01, 1.850e-02],\n       [1.000e+00, 0.000e+00],\n       [1.000e+00, 0.000e+00],\n       [1.000e+00, 0.000e+00]], dtype=float32)"
     },
     "execution_count": 166,
     "metadata": {},
     "output_type": "execute_result"
    }
   ],
   "source": [
    "test_predict"
   ],
   "metadata": {
    "collapsed": false,
    "pycharm": {
     "name": "#%%\n"
    }
   }
  },
  {
   "cell_type": "code",
   "execution_count": 186,
   "outputs": [
    {
     "name": "stderr",
     "output_type": "stream",
     "text": [
      "/var/folders/zg/zvg9y3rs7j527jxfq9sc2xqc0000gn/T/ipykernel_1997/1387548860.py:1: SettingWithCopyWarning: \n",
      "A value is trying to be set on a copy of a slice from a DataFrame.\n",
      "Try using .loc[row_indexer,col_indexer] = value instead\n",
      "\n",
      "See the caveats in the documentation: https://pandas.pydata.org/pandas-docs/stable/user_guide/indexing.html#returning-a-view-versus-a-copy\n",
      "  df_test[\"predict_round\"] = [el for el in test_predict]\n"
     ]
    }
   ],
   "source": [
    "df_test[\"predict_round\"] = [el for el in test_predict]"
   ],
   "metadata": {
    "collapsed": false,
    "pycharm": {
     "name": "#%%\n"
    }
   }
  },
  {
   "cell_type": "code",
   "execution_count": 187,
   "outputs": [
    {
     "data": {
      "text/plain": "     author_id          doc_id  \\\n1094   tlg0627  tlg0627.tlg001   \n1139   tlg0627  tlg0627.tlg049   \n952    tlg0086  tlg0086.tlg022   \n721    tlg0086  tlg0086.tlg009   \n784    tlg0086  tlg0086.tlg010   \n...        ...             ...   \n813    tlg0086  tlg0086.tlg010   \n860    tlg0086  tlg0086.tlg010   \n685    tlg0086  tlg0086.tlg009   \n773    tlg0086  tlg0086.tlg010   \n899    tlg0086  tlg0086.tlg010   \n\n                                               title  \\\n1094                             On Ancient Medicine   \n1139                                       De medico   \n952                                    Magna Moralia   \n721   Eudemian Ethics (Greek). Machine readable text   \n784                               Nicomachean Ethics   \n...                                              ...   \n813                               Nicomachean Ethics   \n860                               Nicomachean Ethics   \n685   Eudemian Ethics (Greek). Machine readable text   \n773                               Nicomachean Ethics   \n899                               Nicomachean Ethics   \n\n                                                   conc  \\\n1094  [δριμύς, ἀφίημι, τοιοῦτος, ῥώννυμι, νόσημα, πα...   \n1139  [χρῆσις, εἰμί, ἀμφότεροι, εἷς, χρή, ποιέω, ταχ...   \n952   [εἰμί, ἀρετή, πάθος, πάθος, λύπ*, ἡδονή, μέσος...   \n721   [ἐρῶ, βελτίων, διορίζω, φοβερός, λέγω, ποιητικ...   \n784   [ἀπάτη, ἡδονή, ἔοικα, γίγνομαι, εἰμί, ἀγαθός, ...   \n...                                                 ...   \n813   [ὀργιζόμενοι, δεῖ, ἠλίθιος, δοκέω, εἰμί, δεῖ, ...   \n860   [πολύς, λύπ*, φύσις, πόνο*, ζώιον, μαρτύρομαι,...   \n685   [δῆλος, οὗτος, διαίρεσις, πάθος, δύναμις, ἔχω,...   \n773   [λέγω, μέσος, ὑπερβάλλω, πᾶς, μηδείς, ἀναίσχυν...   \n899   [ἕτερος, εἶδος, διαφέρω, εἶδος, εὔλογος, εἰμί,...   \n\n                                                   sent  \\\n1094  ὅταν δὲ παχύτερα καὶ πεπαίτερα γένηται καὶ πάσ...   \n1139  ἐπεὶ γὰρ συμβαίνει τοὺς τεμνομένους πονέειν, τ...   \n952       δῆλον οὖν ὡς καὶ ἡ ἀρετὴ μετὰ λύπης ἢ ἡδονῆς.   \n721   τοιαῦτα δʼ ἐστὶν ὅσα φαίνεται ποιητικὰ λύπης φ...   \n784   αἱροῦνται οὖν τὸ ἡδὺ ὡς ἀγαθόν, τὴν δὲ λύπην ὡ...   \n...                                                 ...   \n813   δοκεῖ γὰρ οὐκ αἰσθάνεσθαι οὐδὲ λυπεῖσθαι, μὴ ὀ...   \n860   ἀεὶ γὰρ πονεῖ τὸ ζῷον, ὥσπερ καὶ οἱ φυσιολόγοι...   \n685   αἱ μὲν γὰρ δυνάμεις καὶ αἱ ἕξεις τῶν παθημάτων...   \n773   νέμεσις δὲ μεσότης φθόνου καὶ ἐπιχαιρεκακίας, ...   \n899   τὰ γὰρ αὐτὰ τοὺς μὲν τέρπει τοὺς δὲ λυπεῖ, καὶ...   \n\n                                               features  onehot predict_round  \n1094  [1384, 243, 17, 3838, 718, 635, 3695, 5, 288, ...  [0, 1]        [1, 0]  \n1139  [1087, 1, 173, 61, 50, 10, 109, 1042, 85, 143,...  [0, 1]        [1, 0]  \n952   [1, 97, 227, 227, 208, 144, 111, 1, 89, 97, 20...  [1, 0]        [1, 0]  \n721   [210, 200, 1177, 888, 3, 797, 377, 17, 40, 797...  [1, 0]        [1, 0]  \n784   [1735, 144, 93, 5, 1, 21, 40, 149, 195, 21, 20...  [1, 0]        [1, 0]  \n...                                                 ...     ...           ...  \n813   [4599, 19, 3002, 16, 1, 19, 466, 19, 16, 283, ...  [1, 0]        [1, 0]  \n860   [6, 208, 44, 143, 417, 1846, 29, 51, 468, 1, 2...  [1, 0]        [1, 0]  \n685   [89, 2, 1042, 227, 79, 4, 79, 4, 939, 227, 208...  [1, 0]        [1, 0]  \n773   [3, 111, 717, 9, 55, 3028, 111, 1624, 1091, 1,...  [1, 0]        [1, 0]  \n899   [25, 117, 128, 117, 1491, 1, 1948, 99, 24, 272...  [1, 0]        [1, 0]  \n\n[80 rows x 8 columns]",
      "text/html": "<div>\n<style scoped>\n    .dataframe tbody tr th:only-of-type {\n        vertical-align: middle;\n    }\n\n    .dataframe tbody tr th {\n        vertical-align: top;\n    }\n\n    .dataframe thead th {\n        text-align: right;\n    }\n</style>\n<table border=\"1\" class=\"dataframe\">\n  <thead>\n    <tr style=\"text-align: right;\">\n      <th></th>\n      <th>author_id</th>\n      <th>doc_id</th>\n      <th>title</th>\n      <th>conc</th>\n      <th>sent</th>\n      <th>features</th>\n      <th>onehot</th>\n      <th>predict_round</th>\n    </tr>\n  </thead>\n  <tbody>\n    <tr>\n      <th>1094</th>\n      <td>tlg0627</td>\n      <td>tlg0627.tlg001</td>\n      <td>On Ancient Medicine</td>\n      <td>[δριμύς, ἀφίημι, τοιοῦτος, ῥώννυμι, νόσημα, πα...</td>\n      <td>ὅταν δὲ παχύτερα καὶ πεπαίτερα γένηται καὶ πάσ...</td>\n      <td>[1384, 243, 17, 3838, 718, 635, 3695, 5, 288, ...</td>\n      <td>[0, 1]</td>\n      <td>[1, 0]</td>\n    </tr>\n    <tr>\n      <th>1139</th>\n      <td>tlg0627</td>\n      <td>tlg0627.tlg049</td>\n      <td>De medico</td>\n      <td>[χρῆσις, εἰμί, ἀμφότεροι, εἷς, χρή, ποιέω, ταχ...</td>\n      <td>ἐπεὶ γὰρ συμβαίνει τοὺς τεμνομένους πονέειν, τ...</td>\n      <td>[1087, 1, 173, 61, 50, 10, 109, 1042, 85, 143,...</td>\n      <td>[0, 1]</td>\n      <td>[1, 0]</td>\n    </tr>\n    <tr>\n      <th>952</th>\n      <td>tlg0086</td>\n      <td>tlg0086.tlg022</td>\n      <td>Magna Moralia</td>\n      <td>[εἰμί, ἀρετή, πάθος, πάθος, λύπ*, ἡδονή, μέσος...</td>\n      <td>δῆλον οὖν ὡς καὶ ἡ ἀρετὴ μετὰ λύπης ἢ ἡδονῆς.</td>\n      <td>[1, 97, 227, 227, 208, 144, 111, 1, 89, 97, 20...</td>\n      <td>[1, 0]</td>\n      <td>[1, 0]</td>\n    </tr>\n    <tr>\n      <th>721</th>\n      <td>tlg0086</td>\n      <td>tlg0086.tlg009</td>\n      <td>Eudemian Ethics (Greek). Machine readable text</td>\n      <td>[ἐρῶ, βελτίων, διορίζω, φοβερός, λέγω, ποιητικ...</td>\n      <td>τοιαῦτα δʼ ἐστὶν ὅσα φαίνεται ποιητικὰ λύπης φ...</td>\n      <td>[210, 200, 1177, 888, 3, 797, 377, 17, 40, 797...</td>\n      <td>[1, 0]</td>\n      <td>[1, 0]</td>\n    </tr>\n    <tr>\n      <th>784</th>\n      <td>tlg0086</td>\n      <td>tlg0086.tlg010</td>\n      <td>Nicomachean Ethics</td>\n      <td>[ἀπάτη, ἡδονή, ἔοικα, γίγνομαι, εἰμί, ἀγαθός, ...</td>\n      <td>αἱροῦνται οὖν τὸ ἡδὺ ὡς ἀγαθόν, τὴν δὲ λύπην ὡ...</td>\n      <td>[1735, 144, 93, 5, 1, 21, 40, 149, 195, 21, 20...</td>\n      <td>[1, 0]</td>\n      <td>[1, 0]</td>\n    </tr>\n    <tr>\n      <th>...</th>\n      <td>...</td>\n      <td>...</td>\n      <td>...</td>\n      <td>...</td>\n      <td>...</td>\n      <td>...</td>\n      <td>...</td>\n      <td>...</td>\n    </tr>\n    <tr>\n      <th>813</th>\n      <td>tlg0086</td>\n      <td>tlg0086.tlg010</td>\n      <td>Nicomachean Ethics</td>\n      <td>[ὀργιζόμενοι, δεῖ, ἠλίθιος, δοκέω, εἰμί, δεῖ, ...</td>\n      <td>δοκεῖ γὰρ οὐκ αἰσθάνεσθαι οὐδὲ λυπεῖσθαι, μὴ ὀ...</td>\n      <td>[4599, 19, 3002, 16, 1, 19, 466, 19, 16, 283, ...</td>\n      <td>[1, 0]</td>\n      <td>[1, 0]</td>\n    </tr>\n    <tr>\n      <th>860</th>\n      <td>tlg0086</td>\n      <td>tlg0086.tlg010</td>\n      <td>Nicomachean Ethics</td>\n      <td>[πολύς, λύπ*, φύσις, πόνο*, ζώιον, μαρτύρομαι,...</td>\n      <td>ἀεὶ γὰρ πονεῖ τὸ ζῷον, ὥσπερ καὶ οἱ φυσιολόγοι...</td>\n      <td>[6, 208, 44, 143, 417, 1846, 29, 51, 468, 1, 2...</td>\n      <td>[1, 0]</td>\n      <td>[1, 0]</td>\n    </tr>\n    <tr>\n      <th>685</th>\n      <td>tlg0086</td>\n      <td>tlg0086.tlg009</td>\n      <td>Eudemian Ethics (Greek). Machine readable text</td>\n      <td>[δῆλος, οὗτος, διαίρεσις, πάθος, δύναμις, ἔχω,...</td>\n      <td>αἱ μὲν γὰρ δυνάμεις καὶ αἱ ἕξεις τῶν παθημάτων...</td>\n      <td>[89, 2, 1042, 227, 79, 4, 79, 4, 939, 227, 208...</td>\n      <td>[1, 0]</td>\n      <td>[1, 0]</td>\n    </tr>\n    <tr>\n      <th>773</th>\n      <td>tlg0086</td>\n      <td>tlg0086.tlg010</td>\n      <td>Nicomachean Ethics</td>\n      <td>[λέγω, μέσος, ὑπερβάλλω, πᾶς, μηδείς, ἀναίσχυν...</td>\n      <td>νέμεσις δὲ μεσότης φθόνου καὶ ἐπιχαιρεκακίας, ...</td>\n      <td>[3, 111, 717, 9, 55, 3028, 111, 1624, 1091, 1,...</td>\n      <td>[1, 0]</td>\n      <td>[1, 0]</td>\n    </tr>\n    <tr>\n      <th>899</th>\n      <td>tlg0086</td>\n      <td>tlg0086.tlg010</td>\n      <td>Nicomachean Ethics</td>\n      <td>[ἕτερος, εἶδος, διαφέρω, εἶδος, εὔλογος, εἰμί,...</td>\n      <td>τὰ γὰρ αὐτὰ τοὺς μὲν τέρπει τοὺς δὲ λυπεῖ, καὶ...</td>\n      <td>[25, 117, 128, 117, 1491, 1, 1948, 99, 24, 272...</td>\n      <td>[1, 0]</td>\n      <td>[1, 0]</td>\n    </tr>\n  </tbody>\n</table>\n<p>80 rows × 8 columns</p>\n</div>"
     },
     "execution_count": 187,
     "metadata": {},
     "output_type": "execute_result"
    }
   ],
   "source": [
    "df_test"
   ],
   "metadata": {
    "collapsed": false,
    "pycharm": {
     "name": "#%%\n"
    }
   }
  },
  {
   "cell_type": "code",
   "execution_count": 194,
   "outputs": [
    {
     "data": {
      "text/plain": "0.8625"
     },
     "execution_count": 194,
     "metadata": {},
     "output_type": "execute_result"
    }
   ],
   "source": [
    "accuracy_score([el[0] for el in df_test[\"onehot\"].tolist()], [el[0] for el in df_test[\"predict_round\"].tolist()])"
   ],
   "metadata": {
    "collapsed": false,
    "pycharm": {
     "name": "#%%\n"
    }
   }
  },
  {
   "cell_type": "code",
   "execution_count": 197,
   "outputs": [
    {
     "data": {
      "text/plain": "0.5"
     },
     "execution_count": 197,
     "metadata": {},
     "output_type": "execute_result"
    }
   ],
   "source": [
    "balanced_accuracy_score([el[0] for el in df_test[\"onehot\"].tolist()], [el[0] for el in df_test[\"predict_round\"].tolist()])"
   ],
   "metadata": {
    "collapsed": false,
    "pycharm": {
     "name": "#%%\n"
    }
   }
  },
  {
   "cell_type": "code",
   "execution_count": 198,
   "outputs": [
    {
     "data": {
      "text/plain": "0.9261744966442953"
     },
     "execution_count": 198,
     "metadata": {},
     "output_type": "execute_result"
    }
   ],
   "source": [
    "f1_score([el[0] for el in df_test[\"onehot\"].tolist()], [el[0] for el in df_test[\"predict_round\"].tolist()])"
   ],
   "metadata": {
    "collapsed": false,
    "pycharm": {
     "name": "#%%\n"
    }
   }
  },
  {
   "cell_type": "code",
   "execution_count": 199,
   "outputs": [
    {
     "data": {
      "text/plain": "     author_id          doc_id  \\\n999    tlg0086  tlg0086.tlg038   \n894    tlg0086  tlg0086.tlg010   \n1000   tlg0086  tlg0086.tlg038   \n1141   tlg0627  tlg0627.tlg049   \n795    tlg0086  tlg0086.tlg010   \n813    tlg0086  tlg0086.tlg010   \n860    tlg0086  tlg0086.tlg010   \n685    tlg0086  tlg0086.tlg009   \n773    tlg0086  tlg0086.tlg010   \n899    tlg0086  tlg0086.tlg010   \n\n                                               title  \\\n999                                         Rhetoric   \n894                               Nicomachean Ethics   \n1000                                        Rhetoric   \n1141                                       De medico   \n795                               Nicomachean Ethics   \n813                               Nicomachean Ethics   \n860                               Nicomachean Ethics   \n685   Eudemian Ethics (Greek). Machine readable text   \n773                               Nicomachean Ethics   \n899                               Nicomachean Ethics   \n\n                                                   conc  \\\n999   [κατασκευάζω, τοιοῦτος, εὔνοια, φιλία, πάθος, ...   \n894   [ποιέω, ἀλλότριος, λυμαίνομαι, δῆλος, πολύς, δ...   \n1000  [ἄλλος, προερέω, πρότασις, οὗτος, ποιέω, διαιρ...   \n1141  [ἀπέχω, τόπος, πλατύς, κύκλος, πολύς, ἄλλος, σ...   \n795   [μέρος, οὗτος, εἰμί, ἀρετή, μεσότης, ἡδονή, σω...   \n813   [ὀργιζόμενοι, δεῖ, ἠλίθιος, δοκέω, εἰμί, δεῖ, ...   \n860   [πολύς, λύπ*, φύσις, πόνο*, ζώιον, μαρτύρομαι,...   \n685   [δῆλος, οὗτος, διαίρεσις, πάθος, δύναμις, ἔχω,...   \n773   [λέγω, μέσος, ὑπερβάλλω, πᾶς, μηδείς, ἀναίσχυν...   \n899   [ἕτερος, εἶδος, διαφέρω, εἶδος, εὔλογος, εἰμί,...   \n\n                                                   sent  \\\n999   ἔστι δὲ τὰ πάθη διʼ ὅσα μεταβάλλοντες διαφέρου...   \n894   σχεδὸν γὰρ αἱ ἀλλότριαι ἡδοναὶ ποιοῦσιν ὅπερ α...   \n1000  ἔστω δὴ ὀργὴ ὄρεξις μετὰ λύπης τιμωρίας φαινομ...   \n1141  ἐπιπροσθεῖν οὖν ξυμβαίνει τὴν ἐντεῦθεν ἑλκομέν...   \n795       ἧττον γὰρ καὶ οὐχ ὁμοίως ἐστὶ περὶ τὰς λύπας·   \n813   δοκεῖ γὰρ οὐκ αἰσθάνεσθαι οὐδὲ λυπεῖσθαι, μὴ ὀ...   \n860   ἀεὶ γὰρ πονεῖ τὸ ζῷον, ὥσπερ καὶ οἱ φυσιολόγοι...   \n685   αἱ μὲν γὰρ δυνάμεις καὶ αἱ ἕξεις τῶν παθημάτων...   \n773   νέμεσις δὲ μεσότης φθόνου καὶ ἐπιχαιρεκακίας, ...   \n899   τὰ γὰρ αὐτὰ τοὺς μὲν τέρπει τοὺς δὲ λυπεῖ, καὶ...   \n\n                                               features  onehot predict_round  \n999   [630, 17, 752, 313, 227, 728, 227, 128, 520, 3...  [1, 0]        [1, 0]  \n894   [10, 525, 2091, 89, 6, 2034, 525, 144, 10, 223...  [1, 0]        [1, 0]  \n1000  [7, 1644, 543, 2, 10, 502, 3, 68, 494, 1557, 2...  [1, 0]        [1, 0]  \n1141  [516, 129, 1374, 281, 6, 7, 329, 85, 2823, 139...  [0, 1]        [1, 0]  \n795   [81, 2, 1, 97, 1624, 144, 621, 3, 134, 1, 208,...  [1, 0]        [1, 0]  \n813   [4599, 19, 3002, 16, 1, 19, 466, 19, 16, 283, ...  [1, 0]        [1, 0]  \n860   [6, 208, 44, 143, 417, 1846, 29, 51, 468, 1, 2...  [1, 0]        [1, 0]  \n685   [89, 2, 1042, 227, 79, 4, 79, 4, 939, 227, 208...  [1, 0]        [1, 0]  \n773   [3, 111, 717, 9, 55, 3028, 111, 1624, 1091, 1,...  [1, 0]        [1, 0]  \n899   [25, 117, 128, 117, 1491, 1, 1948, 99, 24, 272...  [1, 0]        [1, 0]  ",
      "text/html": "<div>\n<style scoped>\n    .dataframe tbody tr th:only-of-type {\n        vertical-align: middle;\n    }\n\n    .dataframe tbody tr th {\n        vertical-align: top;\n    }\n\n    .dataframe thead th {\n        text-align: right;\n    }\n</style>\n<table border=\"1\" class=\"dataframe\">\n  <thead>\n    <tr style=\"text-align: right;\">\n      <th></th>\n      <th>author_id</th>\n      <th>doc_id</th>\n      <th>title</th>\n      <th>conc</th>\n      <th>sent</th>\n      <th>features</th>\n      <th>onehot</th>\n      <th>predict_round</th>\n    </tr>\n  </thead>\n  <tbody>\n    <tr>\n      <th>999</th>\n      <td>tlg0086</td>\n      <td>tlg0086.tlg038</td>\n      <td>Rhetoric</td>\n      <td>[κατασκευάζω, τοιοῦτος, εὔνοια, φιλία, πάθος, ...</td>\n      <td>ἔστι δὲ τὰ πάθη διʼ ὅσα μεταβάλλοντες διαφέρου...</td>\n      <td>[630, 17, 752, 313, 227, 728, 227, 128, 520, 3...</td>\n      <td>[1, 0]</td>\n      <td>[1, 0]</td>\n    </tr>\n    <tr>\n      <th>894</th>\n      <td>tlg0086</td>\n      <td>tlg0086.tlg010</td>\n      <td>Nicomachean Ethics</td>\n      <td>[ποιέω, ἀλλότριος, λυμαίνομαι, δῆλος, πολύς, δ...</td>\n      <td>σχεδὸν γὰρ αἱ ἀλλότριαι ἡδοναὶ ποιοῦσιν ὅπερ α...</td>\n      <td>[10, 525, 2091, 89, 6, 2034, 525, 144, 10, 223...</td>\n      <td>[1, 0]</td>\n      <td>[1, 0]</td>\n    </tr>\n    <tr>\n      <th>1000</th>\n      <td>tlg0086</td>\n      <td>tlg0086.tlg038</td>\n      <td>Rhetoric</td>\n      <td>[ἄλλος, προερέω, πρότασις, οὗτος, ποιέω, διαιρ...</td>\n      <td>ἔστω δὴ ὀργὴ ὄρεξις μετὰ λύπης τιμωρίας φαινομ...</td>\n      <td>[7, 1644, 543, 2, 10, 502, 3, 68, 494, 1557, 2...</td>\n      <td>[1, 0]</td>\n      <td>[1, 0]</td>\n    </tr>\n    <tr>\n      <th>1141</th>\n      <td>tlg0627</td>\n      <td>tlg0627.tlg049</td>\n      <td>De medico</td>\n      <td>[ἀπέχω, τόπος, πλατύς, κύκλος, πολύς, ἄλλος, σ...</td>\n      <td>ἐπιπροσθεῖν οὖν ξυμβαίνει τὴν ἐντεῦθεν ἑλκομέν...</td>\n      <td>[516, 129, 1374, 281, 6, 7, 329, 85, 2823, 139...</td>\n      <td>[0, 1]</td>\n      <td>[1, 0]</td>\n    </tr>\n    <tr>\n      <th>795</th>\n      <td>tlg0086</td>\n      <td>tlg0086.tlg010</td>\n      <td>Nicomachean Ethics</td>\n      <td>[μέρος, οὗτος, εἰμί, ἀρετή, μεσότης, ἡδονή, σω...</td>\n      <td>ἧττον γὰρ καὶ οὐχ ὁμοίως ἐστὶ περὶ τὰς λύπας·</td>\n      <td>[81, 2, 1, 97, 1624, 144, 621, 3, 134, 1, 208,...</td>\n      <td>[1, 0]</td>\n      <td>[1, 0]</td>\n    </tr>\n    <tr>\n      <th>813</th>\n      <td>tlg0086</td>\n      <td>tlg0086.tlg010</td>\n      <td>Nicomachean Ethics</td>\n      <td>[ὀργιζόμενοι, δεῖ, ἠλίθιος, δοκέω, εἰμί, δεῖ, ...</td>\n      <td>δοκεῖ γὰρ οὐκ αἰσθάνεσθαι οὐδὲ λυπεῖσθαι, μὴ ὀ...</td>\n      <td>[4599, 19, 3002, 16, 1, 19, 466, 19, 16, 283, ...</td>\n      <td>[1, 0]</td>\n      <td>[1, 0]</td>\n    </tr>\n    <tr>\n      <th>860</th>\n      <td>tlg0086</td>\n      <td>tlg0086.tlg010</td>\n      <td>Nicomachean Ethics</td>\n      <td>[πολύς, λύπ*, φύσις, πόνο*, ζώιον, μαρτύρομαι,...</td>\n      <td>ἀεὶ γὰρ πονεῖ τὸ ζῷον, ὥσπερ καὶ οἱ φυσιολόγοι...</td>\n      <td>[6, 208, 44, 143, 417, 1846, 29, 51, 468, 1, 2...</td>\n      <td>[1, 0]</td>\n      <td>[1, 0]</td>\n    </tr>\n    <tr>\n      <th>685</th>\n      <td>tlg0086</td>\n      <td>tlg0086.tlg009</td>\n      <td>Eudemian Ethics (Greek). Machine readable text</td>\n      <td>[δῆλος, οὗτος, διαίρεσις, πάθος, δύναμις, ἔχω,...</td>\n      <td>αἱ μὲν γὰρ δυνάμεις καὶ αἱ ἕξεις τῶν παθημάτων...</td>\n      <td>[89, 2, 1042, 227, 79, 4, 79, 4, 939, 227, 208...</td>\n      <td>[1, 0]</td>\n      <td>[1, 0]</td>\n    </tr>\n    <tr>\n      <th>773</th>\n      <td>tlg0086</td>\n      <td>tlg0086.tlg010</td>\n      <td>Nicomachean Ethics</td>\n      <td>[λέγω, μέσος, ὑπερβάλλω, πᾶς, μηδείς, ἀναίσχυν...</td>\n      <td>νέμεσις δὲ μεσότης φθόνου καὶ ἐπιχαιρεκακίας, ...</td>\n      <td>[3, 111, 717, 9, 55, 3028, 111, 1624, 1091, 1,...</td>\n      <td>[1, 0]</td>\n      <td>[1, 0]</td>\n    </tr>\n    <tr>\n      <th>899</th>\n      <td>tlg0086</td>\n      <td>tlg0086.tlg010</td>\n      <td>Nicomachean Ethics</td>\n      <td>[ἕτερος, εἶδος, διαφέρω, εἶδος, εὔλογος, εἰμί,...</td>\n      <td>τὰ γὰρ αὐτὰ τοὺς μὲν τέρπει τοὺς δὲ λυπεῖ, καὶ...</td>\n      <td>[25, 117, 128, 117, 1491, 1, 1948, 99, 24, 272...</td>\n      <td>[1, 0]</td>\n      <td>[1, 0]</td>\n    </tr>\n  </tbody>\n</table>\n</div>"
     },
     "execution_count": 199,
     "metadata": {},
     "output_type": "execute_result"
    }
   ],
   "source": [
    "df_test[-10:]"
   ],
   "metadata": {
    "collapsed": false,
    "pycharm": {
     "name": "#%%\n"
    }
   }
  },
  {
   "cell_type": "code",
   "execution_count": null,
   "outputs": [],
   "source": [],
   "metadata": {
    "collapsed": false,
    "pycharm": {
     "name": "#%%\n"
    }
   }
  },
  {
   "cell_type": "code",
   "execution_count": null,
   "outputs": [],
   "source": [],
   "metadata": {
    "collapsed": false,
    "pycharm": {
     "name": "#%%\n"
    }
   }
  }
 ],
 "metadata": {
  "colab": {
   "collapsed_sections": [],
   "name": "0_EXTRACTING-CORPORA.ipynb",
   "provenance": []
  },
  "kernelspec": {
   "name": "pipa_venv",
   "language": "python",
   "display_name": "pipa_venv"
  },
  "language_info": {
   "codemirror_mode": {
    "name": "ipython",
    "version": 3
   },
   "file_extension": ".py",
   "mimetype": "text/x-python",
   "name": "python",
   "nbconvert_exporter": "python",
   "pygments_lexer": "ipython3",
   "version": "3.6.9"
  }
 },
 "nbformat": 4,
 "nbformat_minor": 1
}