{
 "cells": [
  {
   "cell_type": "code",
   "execution_count": 17,
   "outputs": [],
   "source": [
    "import numpy as np\n",
    "import pandas as pd\n",
    "pd.set_option('display.max_rows', None)\n",
    "pd.set_option('display.max_columns', None)\n",
    "\n",
    "\n",
    "import pickle\n",
    "import re\n",
    "import keras\n",
    "from keras.layers import Embedding\n",
    "\n",
    "from sklearn.metrics import f1_score\n",
    "from sklearn.metrics import accuracy_score\n",
    "from sklearn.metrics import balanced_accuracy_score\n",
    "from sklearn.metrics import confusion_matrix"
   ],
   "metadata": {
    "collapsed": false,
    "pycharm": {
     "name": "#%%\n"
    }
   }
  },
  {
   "cell_type": "code",
   "execution_count": 2,
   "outputs": [
    {
     "name": "stdout",
     "output_type": "stream",
     "text": [
      "endpoint variable has been configured to: https://sciencedata.dk/files/\n"
     ]
    }
   ],
   "source": [
    "# to communicate with google spreadsheet...\n",
    "import gspread\n",
    "from gspread_dataframe import get_as_dataframe\n",
    "from gspread_dataframe import set_with_dataframe\n",
    "from google.oauth2 import service_account # based on google-auth library\n",
    "import sddk\n",
    "\n",
    "s = sddk.cloudSession(\"sciencedata.dk\")\n",
    "# establish connection with gogglesheets...\n",
    "file_data = s.read_file(\"https://sciencedata.dk/files/ServiceAccountsKey.json\", \"dict\") # or load it from a local storage: json.load(open(\"../../ServiceAccountsKey.json\", \"r\"))\n",
    "credentials = service_account.Credentials.from_service_account_info(file_data)\n",
    "gc = gspread.Client(auth=credentials.with_scopes(['https://spreadsheets.google.com/feeds', 'https://www.googleapis.com/auth/drive']))\n",
    "PIPA_data = gc.open_by_url(\"https://docs.google.com/spreadsheets/d/1rV4t0_UV_wcx--UAHVwkqB8Wa_5n9mnpV05yGG1OHqk/edit?usp=sharing\")"
   ],
   "metadata": {
    "collapsed": false,
    "pycharm": {
     "name": "#%%\n"
    }
   }
  },
  {
   "cell_type": "code",
   "execution_count": 3,
   "outputs": [
    {
     "data": {
      "text/plain": "                          filename      author                  title  \\\n1  tlg0003.tlg001.perseus-grc2.xml  Thucydides  The Peloponnesian War   \n6  tlg0006.tlg001.perseus-grc2.xml   Euripides                Cyclops   \n7  tlg0006.tlg004.perseus-grc2.xml   Euripides             Ἡρακλεῖδαι   \n8  tlg0006.tlg005.perseus-grc2.xml   Euripides              Ἱππόλυτος   \n9  tlg0006.tlg006.perseus-grc2.xml   Euripides              Ἀνδρομάχη   \n\n   wordcount author_id          doc_id raw_date  date_avr   date_probs  \\\n1     150118   tlg0003  tlg0003.tlg001   5 B.C.      -4.5  {'-4.5': 1}   \n6       4141   tlg0006  tlg0006.tlg001   5 B.C.      -4.5  {'-4.5': 1}   \n7       6272   tlg0006  tlg0006.tlg004   5 B.C.      -4.5  {'-4.5': 1}   \n8       8257   tlg0006  tlg0006.tlg005   5 B.C.      -4.5  {'-4.5': 1}   \n9       7397   tlg0006  tlg0006.tlg006   5 B.C.      -4.5  {'-4.5': 1}   \n\n   date_manual  ...                                            lemmata  \\\n1         -4.5  ...  [θουκυδίδης, Ἀθηναῖος, συγγράφω, πόλεμος, Πελο...   \n6         -4.5  ...  [Βρόμιος, ἔχω, πόνος, χὥτʼ, ἥβη, ἐμός, εὐσθενέ...   \n7         -4.5  ...  [ποτός, εἰμί, οὗτος, δεδογμένον, δίκαιος, φύω,...   \n8         -4.5  ...  [πολύς, βροτός, ἀνώνυμος, θεά, καλέω, Κύπρις, ...   \n9         -4.5  ...  [Ἀσιανός, γῆ, σχῆμα, θηβαία, πόλις, ἑδνόω, πολ...   \n\n  lemmata_wordcount subcorpus  \\\n1             71863      None   \n6              2535      None   \n7              3545      None   \n8              4898      None   \n9              4420      None   \n\n                                        lemmata_repl  \\\n1  [θουκυδίδης, Ἀθηναῖος, συγγράφω, πόλεμος, Πελο...   \n6  [Βρόμιος, ἔχω, πόνο*, χὥτʼ, ἥβη, ἐμός, εὐσθενέ...   \n7  [ποτός, εἰμί, οὗτος, δεδογμένον, δίκαιος, φύω,...   \n8  [πολύς, βροτός, ἀνώνυμος, θεά, καλέω, Κύπρις, ...   \n9  [Ἀσιανός, γῆ, σχῆμα, θηβαία, πόλις, ἑδνόω, πολ...   \n\n                           lemmatized_sentences_repl count_πόνο*  count_ὀδύν*  \\\n1  [[θουκυδίδης, Ἀθηναῖος, συγγράφω, πόλεμος, Πελ...          31            0   \n6  [[Βρόμιος, ἔχω, πόνο*, χὥτʼ, ἥβη, ἐμός, εὐσθεν...           7            0   \n7  [[ποτός, εἰμί, οὗτος, δεδογμένον], [δίκαιος, φ...          11            0   \n8  [[πολύς, βροτός, ἀνώνυμος, θεά, καλέω, Κύπρις,...           8            3   \n9  [[Ἀσιανός, γῆ, σχῆμα, θηβαία, πόλις, ἑδνόω, πο...           5            0   \n\n  count_ἄλγ* count_λύπ*                                          conc_lype  \n1          6         25  [[μέγας, κινδυνεύοντας, δέχομαι, ἀείμνηστος, μ...  \n6          0          1  [[βοτόν, οὔτις, θύω, θεός, μέγας, γαστήρ, δαίμ...  \n7          1          2  [[εἰμί, πολύς, χαίρω, δυσφημέω, ἅζομαι, θέα, σ...  \n8          8          8  [[κοιτάζω, λέχος, σός, ναυβάτης, τὶς, πλέω, κρ...  \n9          7          4  [[Τροία, πράσσω, μηδείς, ὅδε, αὐχέω, πράσσω, δ...  \n\n[5 rows x 25 columns]",
      "text/html": "<div>\n<style scoped>\n    .dataframe tbody tr th:only-of-type {\n        vertical-align: middle;\n    }\n\n    .dataframe tbody tr th {\n        vertical-align: top;\n    }\n\n    .dataframe thead th {\n        text-align: right;\n    }\n</style>\n<table border=\"1\" class=\"dataframe\">\n  <thead>\n    <tr style=\"text-align: right;\">\n      <th></th>\n      <th>filename</th>\n      <th>author</th>\n      <th>title</th>\n      <th>wordcount</th>\n      <th>author_id</th>\n      <th>doc_id</th>\n      <th>raw_date</th>\n      <th>date_avr</th>\n      <th>date_probs</th>\n      <th>date_manual</th>\n      <th>...</th>\n      <th>lemmata</th>\n      <th>lemmata_wordcount</th>\n      <th>subcorpus</th>\n      <th>lemmata_repl</th>\n      <th>lemmatized_sentences_repl</th>\n      <th>count_πόνο*</th>\n      <th>count_ὀδύν*</th>\n      <th>count_ἄλγ*</th>\n      <th>count_λύπ*</th>\n      <th>conc_lype</th>\n    </tr>\n  </thead>\n  <tbody>\n    <tr>\n      <th>1</th>\n      <td>tlg0003.tlg001.perseus-grc2.xml</td>\n      <td>Thucydides</td>\n      <td>The Peloponnesian War</td>\n      <td>150118</td>\n      <td>tlg0003</td>\n      <td>tlg0003.tlg001</td>\n      <td>5 B.C.</td>\n      <td>-4.5</td>\n      <td>{'-4.5': 1}</td>\n      <td>-4.5</td>\n      <td>...</td>\n      <td>[θουκυδίδης, Ἀθηναῖος, συγγράφω, πόλεμος, Πελο...</td>\n      <td>71863</td>\n      <td>None</td>\n      <td>[θουκυδίδης, Ἀθηναῖος, συγγράφω, πόλεμος, Πελο...</td>\n      <td>[[θουκυδίδης, Ἀθηναῖος, συγγράφω, πόλεμος, Πελ...</td>\n      <td>31</td>\n      <td>0</td>\n      <td>6</td>\n      <td>25</td>\n      <td>[[μέγας, κινδυνεύοντας, δέχομαι, ἀείμνηστος, μ...</td>\n    </tr>\n    <tr>\n      <th>6</th>\n      <td>tlg0006.tlg001.perseus-grc2.xml</td>\n      <td>Euripides</td>\n      <td>Cyclops</td>\n      <td>4141</td>\n      <td>tlg0006</td>\n      <td>tlg0006.tlg001</td>\n      <td>5 B.C.</td>\n      <td>-4.5</td>\n      <td>{'-4.5': 1}</td>\n      <td>-4.5</td>\n      <td>...</td>\n      <td>[Βρόμιος, ἔχω, πόνος, χὥτʼ, ἥβη, ἐμός, εὐσθενέ...</td>\n      <td>2535</td>\n      <td>None</td>\n      <td>[Βρόμιος, ἔχω, πόνο*, χὥτʼ, ἥβη, ἐμός, εὐσθενέ...</td>\n      <td>[[Βρόμιος, ἔχω, πόνο*, χὥτʼ, ἥβη, ἐμός, εὐσθεν...</td>\n      <td>7</td>\n      <td>0</td>\n      <td>0</td>\n      <td>1</td>\n      <td>[[βοτόν, οὔτις, θύω, θεός, μέγας, γαστήρ, δαίμ...</td>\n    </tr>\n    <tr>\n      <th>7</th>\n      <td>tlg0006.tlg004.perseus-grc2.xml</td>\n      <td>Euripides</td>\n      <td>Ἡρακλεῖδαι</td>\n      <td>6272</td>\n      <td>tlg0006</td>\n      <td>tlg0006.tlg004</td>\n      <td>5 B.C.</td>\n      <td>-4.5</td>\n      <td>{'-4.5': 1}</td>\n      <td>-4.5</td>\n      <td>...</td>\n      <td>[ποτός, εἰμί, οὗτος, δεδογμένον, δίκαιος, φύω,...</td>\n      <td>3545</td>\n      <td>None</td>\n      <td>[ποτός, εἰμί, οὗτος, δεδογμένον, δίκαιος, φύω,...</td>\n      <td>[[ποτός, εἰμί, οὗτος, δεδογμένον], [δίκαιος, φ...</td>\n      <td>11</td>\n      <td>0</td>\n      <td>1</td>\n      <td>2</td>\n      <td>[[εἰμί, πολύς, χαίρω, δυσφημέω, ἅζομαι, θέα, σ...</td>\n    </tr>\n    <tr>\n      <th>8</th>\n      <td>tlg0006.tlg005.perseus-grc2.xml</td>\n      <td>Euripides</td>\n      <td>Ἱππόλυτος</td>\n      <td>8257</td>\n      <td>tlg0006</td>\n      <td>tlg0006.tlg005</td>\n      <td>5 B.C.</td>\n      <td>-4.5</td>\n      <td>{'-4.5': 1}</td>\n      <td>-4.5</td>\n      <td>...</td>\n      <td>[πολύς, βροτός, ἀνώνυμος, θεά, καλέω, Κύπρις, ...</td>\n      <td>4898</td>\n      <td>None</td>\n      <td>[πολύς, βροτός, ἀνώνυμος, θεά, καλέω, Κύπρις, ...</td>\n      <td>[[πολύς, βροτός, ἀνώνυμος, θεά, καλέω, Κύπρις,...</td>\n      <td>8</td>\n      <td>3</td>\n      <td>8</td>\n      <td>8</td>\n      <td>[[κοιτάζω, λέχος, σός, ναυβάτης, τὶς, πλέω, κρ...</td>\n    </tr>\n    <tr>\n      <th>9</th>\n      <td>tlg0006.tlg006.perseus-grc2.xml</td>\n      <td>Euripides</td>\n      <td>Ἀνδρομάχη</td>\n      <td>7397</td>\n      <td>tlg0006</td>\n      <td>tlg0006.tlg006</td>\n      <td>5 B.C.</td>\n      <td>-4.5</td>\n      <td>{'-4.5': 1}</td>\n      <td>-4.5</td>\n      <td>...</td>\n      <td>[Ἀσιανός, γῆ, σχῆμα, θηβαία, πόλις, ἑδνόω, πολ...</td>\n      <td>4420</td>\n      <td>None</td>\n      <td>[Ἀσιανός, γῆ, σχῆμα, θηβαία, πόλις, ἑδνόω, πολ...</td>\n      <td>[[Ἀσιανός, γῆ, σχῆμα, θηβαία, πόλις, ἑδνόω, πο...</td>\n      <td>5</td>\n      <td>0</td>\n      <td>7</td>\n      <td>4</td>\n      <td>[[Τροία, πράσσω, μηδείς, ὅδε, αὐχέω, πράσσω, δ...</td>\n    </tr>\n  </tbody>\n</table>\n<p>5 rows × 25 columns</p>\n</div>"
     },
     "execution_count": 3,
     "metadata": {},
     "output_type": "execute_result"
    }
   ],
   "source": [
    "cgl = pd.read_json(\"../data/large_data/cgl.json\")\n",
    "cgl.head()"
   ],
   "metadata": {
    "collapsed": false,
    "pycharm": {
     "name": "#%%\n"
    }
   }
  },
  {
   "cell_type": "code",
   "execution_count": 4,
   "outputs": [],
   "source": [
    "cgl_embeddings = pickle.load(open(\"../data/large_data/cgl_embeddings.pkl\", \"rb\"))"
   ],
   "metadata": {
    "collapsed": false,
    "pycharm": {
     "name": "#%%\n"
    }
   }
  },
  {
   "cell_type": "code",
   "execution_count": 5,
   "outputs": [
    {
     "data": {
      "text/plain": "5000"
     },
     "execution_count": 5,
     "metadata": {},
     "output_type": "execute_result"
    }
   ],
   "source": [
    "len(range(1, len(cgl_embeddings[1])+1))"
   ],
   "metadata": {
    "collapsed": false,
    "pycharm": {
     "name": "#%%\n"
    }
   }
  },
  {
   "cell_type": "code",
   "execution_count": 6,
   "outputs": [
    {
     "data": {
      "text/plain": "[('εἰμί', 1),\n ('οὗτος', 2),\n ('λέγω', 3),\n ('ἔχω', 4),\n ('γίγνομαι', 5),\n ('πολύς', 6),\n ('ἄλλος', 7),\n ('αὐτός', 8),\n ('πᾶς', 9),\n ('ποιέω', 10)]"
     },
     "execution_count": 6,
     "metadata": {},
     "output_type": "execute_result"
    }
   ],
   "source": [
    "word_index = dict(zip(cgl_embeddings[1],range(1, len(cgl_embeddings[1])+1)))\n",
    "list(word_index.items())[:10]"
   ],
   "metadata": {
    "collapsed": false,
    "pycharm": {
     "name": "#%%\n"
    }
   }
  },
  {
   "cell_type": "code",
   "execution_count": 7,
   "outputs": [],
   "source": [
    "# we will generate the concordances again, now focusing on words in the embeddings only\n",
    "def get_concordances(wordlist, keyword, window, vocabulary=None):\n",
    "    half = int(window / 2)\n",
    "    if vocabulary != None:\n",
    "        wordlist = [w for w in wordlist if w in vocabulary]\n",
    "    keyword_indices = [el[0] for el in enumerate(wordlist) if el[1]==keyword]\n",
    "    concordances = [wordlist[i-half:i+half+1] for i in keyword_indices]\n",
    "    #concordances = [c for c in concordances if len(c)==window]\n",
    "    return concordances"
   ],
   "metadata": {
    "collapsed": false,
    "pycharm": {
     "name": "#%%\n"
    }
   }
  },
  {
   "cell_type": "code",
   "execution_count": 8,
   "outputs": [],
   "source": [
    "cgl[\"conc_lype\"] = cgl[\"lemmata_repl\"].apply(lambda x: get_concordances(x, \"λύπ*\", 21, vocabulary=cgl_embeddings[1]))\n",
    "cgl[\"conc_ponos\"] = cgl[\"lemmata_repl\"].apply(lambda x: get_concordances(x, \"πόνο*\", 21, vocabulary=cgl_embeddings[1]))\n"
   ],
   "metadata": {
    "collapsed": false,
    "pycharm": {
     "name": "#%%\n"
    }
   }
  },
  {
   "cell_type": "code",
   "execution_count": 9,
   "outputs": [],
   "source": [
    "v_ud = \"’\"\n",
    "v_agt = \"ʼ\"\n",
    "\n",
    "def get_sentences(string):\n",
    "    splits = re.split(r\"(\\.|\\·|\\:|\\;|\\?|\\!)\" , string)\n",
    "    sentences = []\n",
    "    for n in range(0, len(splits), 2):\n",
    "        try:\n",
    "            sentence = splits[n]+splits[n+1]\n",
    "            sentence = \"\".join([c for c in sentence if re.match(\"[\\w|\\s|\\.|\\,|\\·|\\:|\\;|\\?|\\!]\", c)])\n",
    "            sentence = re.sub(\"^\\s*\", \"\", sentence)\n",
    "            sentence = re.sub(v_ud, v_agt, sentence)\n",
    "            sentences.append(sentence)\n",
    "        except:\n",
    "            sentence = splits[n]\n",
    "            sentence = re.sub(\"^\\s*\", \"\", sentence)\n",
    "            if len(sentence) > 0:\n",
    "                sentences.append(sentence)\n",
    "            break\n",
    "    return sentences\n",
    "cgl[\"sentences\"] = cgl[\"clean_string\"].apply(get_sentences)"
   ],
   "metadata": {
    "collapsed": false,
    "pycharm": {
     "name": "#%%\n"
    }
   }
  },
  {
   "cell_type": "code",
   "execution_count": 10,
   "outputs": [
    {
     "data": {
      "text/plain": "256084"
     },
     "execution_count": 10,
     "metadata": {},
     "output_type": "execute_result"
    }
   ],
   "source": [
    "cgl[\"sentences\"].apply(len).sum()"
   ],
   "metadata": {
    "collapsed": false,
    "pycharm": {
     "name": "#%%\n"
    }
   }
  },
  {
   "cell_type": "code",
   "execution_count": 11,
   "outputs": [
    {
     "data": {
      "text/plain": "256084"
     },
     "execution_count": 11,
     "metadata": {},
     "output_type": "execute_result"
    }
   ],
   "source": [
    "cgl[\"lemmatized_sentences\"].apply(len).sum()"
   ],
   "metadata": {
    "collapsed": false,
    "pycharm": {
     "name": "#%%\n"
    }
   }
  },
  {
   "cell_type": "markdown",
   "source": [
    "perfect, we have the same number of sentences as lemmatized sentences"
   ],
   "metadata": {
    "collapsed": false,
    "pycharm": {
     "name": "#%% md\n"
    }
   }
  },
  {
   "cell_type": "code",
   "execution_count": 12,
   "outputs": [
    {
     "data": {
      "text/plain": "1147"
     },
     "execution_count": 12,
     "metadata": {},
     "output_type": "execute_result"
    }
   ],
   "source": [
    "cgl[\"lemmatized_sentences_repl\"].apply(lambda x: sum([sent.count(\"λύπ*\") for sent in x])).sum()"
   ],
   "metadata": {
    "collapsed": false,
    "pycharm": {
     "name": "#%%\n"
    }
   }
  },
  {
   "cell_type": "code",
   "execution_count": 15,
   "outputs": [
    {
     "data": {
      "text/plain": "1147"
     },
     "execution_count": 15,
     "metadata": {},
     "output_type": "execute_result"
    }
   ],
   "source": [
    "cgl[\"count_λύπ*\"].sum()"
   ],
   "metadata": {
    "collapsed": false,
    "pycharm": {
     "name": "#%%\n"
    }
   }
  },
  {
   "cell_type": "code",
   "execution_count": 14,
   "outputs": [
    {
     "data": {
      "text/plain": "1565"
     },
     "execution_count": 14,
     "metadata": {},
     "output_type": "execute_result"
    }
   ],
   "source": [
    "cgl[\"count_πόνο*\"].sum()"
   ],
   "metadata": {
    "collapsed": false,
    "pycharm": {
     "name": "#%%\n"
    }
   }
  },
  {
   "cell_type": "markdown",
   "source": [
    "perfect, we have the same number of lype instances matched in concordances as in lemmatized sentences..."
   ],
   "metadata": {
    "collapsed": false,
    "pycharm": {
     "name": "#%% md\n"
    }
   }
  },
  {
   "cell_type": "code",
   "execution_count": 110,
   "outputs": [],
   "source": [
    "def sentences_with_lype(work_row):\n",
    "    inds_counts_tups = [(i,j.count(\"λύπ*\")) for i,j in enumerate(work_row[\"lemmatized_sentences_repl\"]) if \"λύπ*\" in j]\n",
    "    sentences = work_row[\"sentences\"]\n",
    "    lype_sentences = []\n",
    "    for tup in inds_counts_tups:\n",
    "        lype_sentences.extend([sentences[tup[0]]] * tup[1])\n",
    "    return lype_sentences"
   ],
   "metadata": {
    "collapsed": false,
    "pycharm": {
     "name": "#%%\n"
    }
   }
  },
  {
   "cell_type": "code",
   "execution_count": 111,
   "outputs": [],
   "source": [
    "cgl[\"sentences_with_lype\"] = cgl.apply(sentences_with_lype, axis=1)"
   ],
   "metadata": {
    "collapsed": false,
    "pycharm": {
     "name": "#%%\n"
    }
   }
  },
  {
   "cell_type": "code",
   "execution_count": 112,
   "outputs": [
    {
     "data": {
      "text/plain": "1147"
     },
     "execution_count": 112,
     "metadata": {},
     "output_type": "execute_result"
    }
   ],
   "source": [
    "cgl[\"sentences_with_lype\"].apply(len).sum()"
   ],
   "metadata": {
    "collapsed": false,
    "pycharm": {
     "name": "#%%\n"
    }
   }
  },
  {
   "cell_type": "code",
   "execution_count": 20,
   "outputs": [
    {
     "data": {
      "text/plain": "author\nHippocrates            657\nEuripides              179\nXenophon               157\nPlato                  121\nAristotle              102\nAeschylus               70\nSophocles               68\nIsocrates               45\nPindar                  33\nThucydides              31\nHerodotus               27\nDemosthenes             21\nAristophanes            21\nAeneas Tacticus          6\nAlcidamas                5\nDemades                  3\nGorgias of Leontini      2\nAeschines                2\nAristoxenus              2\nAristoteles              2\nHyperides                2\nLysias                   2\nLycurgus                 1\nAntiphon                 1\nMatron of Pitana         1\nHomeric hymn             1\nBacchylides              1\nPs. Dicaearchus          1\nAndocides                1\nScylax                   0\nAeschines [Sp.]          0\nAntisthenes              0\nIsaeus                   0\nHeraclides Ponticus      0\nAutolycus                0\nHanno                    0\nName: count_πόνο*, dtype: int64"
     },
     "execution_count": 20,
     "metadata": {},
     "output_type": "execute_result"
    }
   ],
   "source": [
    "cgl.groupby(\"author\").sum().sort_values(\"count_πόνο*\", ascending=False)[\"count_πόνο*\"] # [[\"author\", \"title\", \"doc_id\", \"lype_count\"]]"
   ],
   "metadata": {
    "collapsed": false,
    "pycharm": {
     "name": "#%%\n"
    }
   }
  },
  {
   "cell_type": "code",
   "execution_count": 21,
   "outputs": [
    {
     "data": {
      "text/plain": "                   author                                              title  \\\n1069          Hippocrates                                          De diaeta   \n1055          Hippocrates                                      Coa praesagia   \n1044          Hippocrates                                  Of the Epidemics    \n1061          Hippocrates                                        De morbis I   \n1073          Hippocrates                                     De muliebribus   \n1070          Hippocrates                      De affectionibus interioribus   \n418              Xenophon                                         Cyropaedia   \n694             Aristotle                                 Historia animalium   \n568                 Plato                                               Laws   \n1              Thucydides                              The Peloponnesian War   \n1050          Hippocrates                                         Aphorisms    \n564                 Plato                                           Republic   \n302             Herodotus                                      The Histories   \n680             Aeschylus                                   Prometheus Bound   \n413              Xenophon                                        Memorabilia   \n17              Euripides                                              Ἑλένη   \n425              Xenophon                                         On Hunting   \n709             Aristotle            Politics (Greek). Machine readable text   \n11              Euripides                                           Ἱκέτιδες   \n196             Sophocles                                               Ajax   \n1039          Hippocrates                                On Ancient Medicine   \n12              Euripides                                            Ἡρακλῆς   \n1059          Hippocrates                                        De flatibus   \n417              Xenophon                                           Anabasis   \n1041          Hippocrates                           The Book of Prognostics    \n1042          Hippocrates                      On Regimen in Acute Diseases    \n1062          Hippocrates                                    De natura pueri   \n16              Euripides                               Ἰφιγένεια ἐν Ταύροις   \n19              Euripides                                            Orestes   \n1043          Hippocrates                                         Acut. sp.    \n1063          Hippocrates                                   De affectionibus   \n414              Xenophon                                          Economics   \n13              Euripides                                                Ἴων   \n200             Sophocles                                 Oedipus at Colonus   \n1064          Hippocrates                                 De locis in homine   \n199             Sophocles                                        Philoctetes   \n1047          Hippocrates                                      On Fractures    \n682             Aeschylus                                          Agamemnon   \n7               Euripides                                         Ἡρακλεῖδαι   \n692             Aristotle                                 Nicomachean Ethics   \n1079          Hippocrates                                       De glandulis   \n182             Isocrates                                          Antidosis   \n184             Isocrates                                      Panathenaicus   \n427                Pindar           Odes (Greek). Machine readable text - P.   \n22              Euripides                                              Ῥῆσος   \n424              Xenophon                         On the Art of Horsemanship   \n1054          Hippocrates                                     Prorrheticon I   \n10              Euripides                                              Ἑκάβη   \n423              Xenophon                           On the Cavalry Commander   \n194             Sophocles                                         Trachiniae   \n14              Euripides                                            Τρῳάδες   \n428                Pindar           Odes (Greek). Machine readable text - N.   \n684             Aeschylus                                          Eumenides   \n546                 Plato                                           Phaedrus   \n429                Pindar           Odes (Greek). Machine readable text - I.   \n8               Euripides                                          Ἱππόλυτος   \n18              Euripides                                          Φοίνισσαι   \n15              Euripides                                            Ἠλέκτρα   \n412              Xenophon                                          Hellenica   \n691             Aristotle     Eudemian Ethics (Greek). Machine readable text   \n1053          Hippocrates                                       De humoribus   \n678             Aeschylus                                  Suppliant Maidens   \n6               Euripides                                            Cyclops   \n21              Euripides                                Ἰφιγένεια ἐν Αὐλίδι   \n1071          Hippocrates                                 De natura muliebri   \n711             Aristotle                                           Rhetoric   \n170             Isocrates                                       To Demonicus   \n1048          Hippocrates                              On the Articulations    \n683             Aeschylus                                   Libation Bearers   \n679             Aeschylus                                           Persians   \n20              Euripides                                             Βάκχαι   \n706             Aristotle                              De partibus animalium   \n550                 Plato                                             Lovers   \n350          Aristophanes                                              Peace   \n534       Aeneas Tacticus          Περὶ τοῦ πῶς χρὴ πολιορκουμένους ἀντέχειν   \n426                Pindar           Odes (Greek). Machine readable text - O.   \n420              Xenophon                                          Agesilaus   \n1085          Hippocrates                                          De medico   \n9               Euripides                                          Ἀνδρομάχη   \n570                 Plato                                           Epistles   \n545                 Plato                                          Symposium   \n681             Aeschylus                               Seven Against Thebes   \n415              Xenophon                                          Symposium   \n1088          Hippocrates                                        De crisibus   \n195             Sophocles                                           Antigone   \n197             Sophocles                                   Oedipus Tyrannus   \n565                 Plato                                            Timaeus   \n299           Demosthenes                                προοίμια δημηγορικά   \n201             Sophocles                                          Ichneutae   \n1057          Hippocrates                                  De natura hominis   \n174             Isocrates                                        Panegyricus   \n172             Isocrates                                              Helen   \n699             Aristotle                  De longitudine et brevitate vitae   \n421              Xenophon                 Constitution of the Lacedaemonians   \n247           Demosthenes                                   κατὰ Φιλίππου δ΄   \n544                 Plato                                           Philebus   \n542                 Plato                                          Statesman   \n354          Aristophanes                                              Frogs   \n1072          Hippocrates                                De octimestri partu   \n1032            Alcidamas                                           Odysseus   \n571                 Plato                                       Definitiones   \n198             Sophocles                                            Electra   \n1049          Hippocrates             Mochlicus or Instruments of Reduction    \n178             Isocrates                                           Evagoras   \n349          Aristophanes                                              Wasps   \n915               Demades                               On the Twelve Years    \n705             Aristotle           Economics (Greek). Machine readable text   \n703             Aristotle         Metaphysics (Greek). Machine readable text   \n255           Demosthenes                 ὑπὲρ Κτησιφῶντος περὶ τοῦ στεφάνου   \n1031            Alcidamas                                     Peri Sophiston   \n1027  Gorgias of Leontini                               Defense of Palamedes   \n1090          Hippocrates                     Epistulae, Decretum, Orationes   \n355          Aristophanes                                      Ecclesiazusae   \n541                 Plato                                            Sophist   \n538                 Plato                                             Phaedo   \n569                 Plato                                           Epinomis   \n1087          Hippocrates                                          Precepts    \n751           Aristoxenus                                 Elementa Harmonica   \n536                 Plato                                            Apology   \n300           Demosthenes                              Δημοσθένους ἐπιστολαὶ   \n419              Xenophon                                              Hiero   \n700           Aristoteles                               De animalium incessu   \n364             Aeschines                                Against Ctesiphon\\n   \n169             Isocrates                                        Aegineticus   \n245           Demosthenes                              περὶ τῶν ἐν Χερρονήσῳ   \n348          Aristophanes                                             Clouds   \n1056          Hippocrates                                            De arte   \n384             Hyperides                                    Funeral Speech    \n707             Aristotle                                            Physica   \n422              Xenophon                                     Ways and Means   \n1076          Hippocrates                               De exsectione foetus   \n1082          Hippocrates                                       De alimento    \n1089          Hippocrates                                 De diebus criticis   \n1083          Hippocrates                                            De visu   \n1084          Hippocrates                                   De natura ossium   \n416              Xenophon                                            Apology   \n430              Lycurgus                                 Against Leocrates    \n1040          Hippocrates                            De aere aquis et locis    \n548                 Plato                                       Alcibiades 2   \n1075          Hippocrates                                 De superfoetatione   \n921                Lysias                                  Against Andocides   \n917                Lysias                                    Funeral Oration   \n768           Bacchylides                                  Odes (Greek) - Ep   \n717             Aristotle                                  Virtues and Vices   \n712             Aristotle                            De sophisticis elenchis   \n176             Isocrates                                        To Nicocles   \n701             Aristotle                                      Magna Moralia   \n177             Isocrates                           Nicocles or the Cyprians   \n1045          Hippocrates                            On Injuries of the Head   \n688             Aristotle                                           De caelo   \n179             Isocrates                                         Archidamus   \n180             Isocrates                                       On the Peace   \n181             Isocrates                                      Areopagiticus   \n646       Ps. Dicaearchus  Dicaearchi, ut fertur, potius vero Athenaei De...   \n183             Isocrates                                          To Philip   \n567                 Plato                                              Minos   \n562                 Plato                                          Menexenus   \n208          Homeric hymn                                   Hymn 4 To Hermes   \n557                 Plato                                            Gorgias   \n556                 Plato                                        Protagoras    \n553                 Plato                                             Laches   \n1065          Hippocrates                             On the Sacred Disease    \n1180     Matron of Pitana                                   Δει̑πνον Ἀττικόν   \n353          Aristophanes                                  Thesmophoriazusae   \n279           Demosthenes                     πρὸς Φαίνιππον περὶ ἀντιδόσεως   \n352          Aristophanes                                         Lysistrata   \n346          Aristophanes                                         Acharnians   \n356          Aristophanes                                             Plutus   \n256           Demosthenes                             περὶ τῆς παραπρεσβείας   \n257           Demosthenes                    περὶ τῆς Ἀτελείας πρὸς Λεπτίνην   \n248           Demosthenes                    πρὸς τὴν ἐπιστολήν τὴν Φιλίππου   \n243           Demosthenes                                   κατὰ Φιλίππου β΄   \n260           Demosthenes                                 κατὰ Ἀριστοκράτους   \n241           Demosthenes                                   κατὰ Φιλίππου α΄   \n369             Andocides                                Against Alcibiades    \n347          Aristophanes                                            Knights   \n371              Antiphon                  Anonymous Prosecution for Murder    \n239           Demosthenes                                      Ὀλυνθιακὸς β΄   \n942                Lysias            Against Epicrates and his Fellow-envoys   \n267           Demosthenes                            πρὸς Ὀνήτορα ἐξούλης α΄   \n939                Lysias                        On The Refusal Of A Pension   \n268           Demosthenes                            πρὸς Ὀνήτορα ἐξούλης β΄   \n175             Isocrates                                          Plataicus   \n269           Demosthenes                           πρὸς Ζηνόθεμιν παραγραφή   \n270           Demosthenes                          πρὸς Ἀπατούριον παραγραφή   \n940                Lysias  Defense Against a Charge of Subverting the Dem...   \n941                Lysias                        On the Scrutiny of Evandros   \n271           Demosthenes                         πρὸς Φορμίωνα ὑπὲρ δανείου   \n949                Lysias  Against The Subversion of the Ancestral Consti...   \n943                Lysias                                   Against Ergocles   \n944                Lysias                                Against Philocrates   \n945                Lysias                                 Against Nicomachus   \n946                Lysias                                     Against Philon   \n947                Lysias                                  Against Diogeiton   \n938                Lysias                                   Against Pancleon   \n1021          Antisthenes                                           Odysseus   \n948                Lysias                                    Olympic Oration   \n382             Hyperides                          In Defence of Euxenippus    \n937                Lysias                           Against The Corn-Dealers   \n925                Lysias                              Against Theomnestus 1   \n274           Demosthenes                         παραγραφὴ πρὸς Πανταίνετον   \n916                Lysias                      On the Murder of Eratosthenes   \n273           Demosthenes                           παραγραφὴ ὑπὲρ Φορμίωνος   \n918                Lysias                                      Against Simon   \n919                Lysias                        On A Wound By Premeditation   \n920                Lysias                                        For Callias   \n272           Demosthenes                       πρὸς τὴν Λάκριτον παραγραφὴν   \n922                Lysias           Defense in the Matter of the Olive Stump   \n923                Lysias                              Accusation of Calumny   \n924                Lysias                                    For The Soldier   \n926                Lysias                              Against Theomnestus 2   \n936                Lysias          Defense Against A Charge Of Taking Bribes   \n927                Lysias                               Against Eratosthenes   \n928                Lysias                                   Against Agoratus   \n929                Lysias                               Against Alcibiades 1   \n930                Lysias                               Against Alcibiades 2   \n931                Lysias                           In Defense of Mantitheus   \n932                Lysias                          On The Property Of Eraton   \n933                Lysias  On the Confiscation of the Property Of The Bro...   \n934                Lysias                    On the Property of Aristophanes   \n266           Demosthenes           πρὸς Ἄφοβον ὑπὲρ Φάνου ψευδομαρτυριῶν γ΄   \n935                Lysias                                    For Polystratus   \n173             Isocrates                                            Busiris   \n261           Demosthenes                                   κατὰ Τιμοκράτους   \n171             Isocrates                               Against the Sophists   \n252           Demosthenes                         ὑπὲρ τῆς Ῥοδίων ἐλευθερίας   \n250           Demosthenes                                     περὶ συντάξεως   \n249           Demosthenes                                ἐπιστολή [Φιλίππου]   \n1074          Hippocrates                                 De virginum morbis   \n246           Demosthenes                                   κατὰ Φιλίππου γ΄   \n1077          Hippocrates                                        De anatomia   \n1078          Hippocrates                                      De dentitione   \n244           Demosthenes                                     περὶ Ἀλοννήσου   \n1080          Hippocrates                                        De carnibus   \n1081          Hippocrates                                           De corde   \n242           Demosthenes                                   περὶ τῆς εἰρήνης   \n240           Demosthenes                                      Ὀλυνθιακὸς γ΄   \n1086          Hippocrates                                  De habitu decenti   \n238           Demosthenes                                      Ὀλυνθιακὸς α΄   \n223          Homeric hymn                                     Hymn 19 to Pan   \n211          Homeric hymn                                 Hymn 7 To Dionysus   \n1150            Autolycus                            De Sphaera Quae Movetur   \n1151            Autolycus                            De Ortibus et Occasibus   \n1166  Heraclides Ponticus                           Res Publica Atheniensium   \n1179     Matron of Pitana                                   Δει̑πνον Ἀττικόν   \n251           Demosthenes                                 περὶ τῶν συμμοριῶν   \n253           Demosthenes                                 ὑπὲρ Μεγαλοπολιτῶν   \n265           Demosthenes                                     κατὰ Ἀφόβου β΄   \n1068          Hippocrates                                       On Fistulae    \n1046          Hippocrates                                De officina medici    \n264           Demosthenes                           κατὰ Ἀφόβου ἐπιτροπῆς α΄   \n263           Demosthenes                             κατὰ Ἀριστογείτονος β΄   \n262           Demosthenes                             κατὰ Ἀριστογείτονος α΄   \n275           Demosthenes           παραγραφὴ πρὸς Ναυσίμακον καὶ Ξενοπείθην   \n1051          Hippocrates                                          The Oath    \n1052          Hippocrates                                                Lex   \n168             Isocrates                                       Trapeziticus   \n167             Isocrates                      Concerning the Team of Horses   \n259           Demosthenes                         κατὰ Ἀνδροτίωνος παρανόμων   \n258           Demosthenes                     κατὰ Μειδίου περὶ τοῦ Κονδύλου   \n1058          Hippocrates                                  De salubri diaeta   \n166             Isocrates                                   Against Lochites   \n1060          Hippocrates                                  De liquidorum usu   \n165             Isocrates                                Against Callimachus   \n164             Isocrates                                   Against Euthynus   \n254           Demosthenes                  περὶ τῶν πρὸς Ἀλέξανδρον συνθηκῶν   \n1066          Hippocrates                                         On Ulcers    \n1067          Hippocrates                                    On Hemorrhoids    \n769           Bacchylides                                Odes (Greek) - Dith   \n277           Demosthenes                  πρὸς Βοιωτὸν περὶ προικὸς μητρῴας   \n276           Demosthenes                     πρὸς Βοιωτὸν περὶ τοῦ Ὀνόματος   \n308                Isaeus                      On the Estate of Philoctemon    \n540                 Plato                                         Theaetetus   \n543                 Plato                                         Parmenides   \n351          Aristophanes                                              Birds   \n186             Isocrates                           To the Children of Jason   \n547                 Plato                                       Alcibiades 1   \n549                 Plato                                         Hipparchus   \n551                 Plato                                            Theages   \n552                 Plato                                         Charmides    \n314                Isaeus                           On Behalf of Euphiletus    \n554                 Plato                                              Lysis   \n555                 Plato                                        Euthydemus    \n313                Isaeus                          On the Estate of Hagnias    \n312                Isaeus                      On The Estate Of Aristarchus    \n558                 Plato                                               Meno   \n559                 Plato                                      Hippias Major   \n311                Isaeus                       On the Estate of Astyphilus    \n561                 Plato                                                Ion   \n310                Isaeus                           On The Estate of Ciron\\n   \n563                 Plato                                         Cleitophon   \n185             Isocrates                                       To Dionysius   \n309                Isaeus                      On The Estate of Apollodorus    \n539                 Plato                                           Cratylus   \n362             Aeschines                                 Against Timarchus    \n537                 Plato                                              Crito   \n370              Antiphon       Prosecution Of The Stepmother For Poisoning    \n381             Hyperides                               Against Athenogenes    \n380             Hyperides                                Against Philippides   \n379             Hyperides                           In Defence of Lycophron    \n375              Antiphon                                  On the Choreutes    \n374              Antiphon                             Περὶ τοῦ Ἡρῷδου φόνου    \n373              Antiphon  The Third Tetralogy: Prosecution for Murder Of...   \n193             Isocrates                                      To Philip, II   \n192             Isocrates                                       To Antipater   \n372              Antiphon  The Second Tetralogy: Prosecution for Accident...   \n191             Isocrates                                       To Alexander   \n363             Aeschines                         The Speech on the Embassy    \n190             Isocrates                                       To Philip, I   \n189             Isocrates                                       To Timotheus   \n368             Andocides                         On the Peace with Sparta\\n   \n188             Isocrates                  To the Rulers of the Mytilenaeans   \n187             Isocrates                                      To Archidamus   \n367             Andocides                                     On His Return    \n366             Andocides                                  On the Mysteries    \n365       Aeschines [Sp.]                                          Ἐπιστολαί   \n535                 Plato                                          Euthyphro   \n566                 Plato                                            Critias   \n307                Isaeus                      On the Estate of Dicaeogenes    \n719             Aristotle                             Physica (textus alter)   \n306                Isaeus                      On the Estate of Nicostratus    \n697             Aristotle                                 De interpretatione   \n698             Aristotle        De iuventute et senectute, De vita et morte   \n287           Demosthenes           πρὸς Πολυκλέα περὶ τοῦ ἐπιτριηραρχήματος   \n286           Demosthenes                           πρὸς Τιμόθεον ὑπὲρ χρέως   \n285           Demosthenes                           κατὰ Ὀλυμπιοδώρου βλάβης   \n702             Aristotle                        De memoria et reminiscentia   \n284           Demosthenes        κατὰ Εὐέργου καὶ Μνησιβούλου ψευδομαρτυριῶν   \n704             Aristotle                                      Meteorologica   \n283           Demosthenes                    κατὰ Στεφάνου ψευδομαρτυριῶν β΄   \n282           Demosthenes                    κατὰ Στεφάνου ψευδομαρτυριῶν α΄   \n281           Demosthenes              πρὸς Λεωκάρη περὶ τοῦ Ἀρχιάδου κλήρου   \n708             Aristotle                                        Ars Poetica   \n280           Demosthenes                 πρὸς Μακάρτατον περὶ Ἁγνίου κλήρου   \n710             Aristotle                                    De respiratione   \n278           Demosthenes                         πρὸς Σπουδίαν ὑπὲρ προικός   \n713             Aristotle                           De sensu et sensibilibus   \n714             Aristotle                                De somno et vigilia   \n715             Aristotle                                         De spiritu   \n716             Aristotle                                             Topica   \n383             Hyperides                               Against Demosthenes    \n718             Aristotle  De anima (codicis E fragmenta recensionis a vu...   \n696             Aristotle                                       De insomniis   \n695           Aristoteles                               De animalium motione   \n288           Demosthenes                  περὶ τοῦ Στεφάνου τῆς τριηραρκίας   \n294           Demosthenes                             ἔφεσις πρὸς Εὐβουλίδην   \n305                Isaeus                          On The Estate Of Pyrrhus    \n304                Isaeus                         On the Estate of Menecles    \n644                 Hanno                                  Periplus Hannonis   \n645                Scylax                                  Periplus Scylacis   \n303                Isaeus                        On The Estate of Cleonymus    \n298           Demosthenes                                           ἐρωτικὸς   \n297           Demosthenes                                          ἐπιτάφιος   \n296           Demosthenes                                       κατὰ Νεαίρας   \n295           Demosthenes                            ἔνδειξις κατὰ Θεοκρίνου   \n293           Demosthenes                           κατὰ Διονυσοδώρου βλάβης   \n693             Aristotle                      De generatione et corruptione   \n292           Demosthenes                  πρὸς Καλλικλέα περὶ χωρίου βλάβης   \n685             Aristotle         Aristotelis Analytica Priora et Posteriora   \n686             Aristotle                                           De anima   \n687             Aristotle                              Athenian Constitution   \n291           Demosthenes                               κατὰ Κόνωνος αἰκείας   \n689             Aristotle                                         Categoriae   \n690             Aristotle                          De divinatione per somnum   \n290           Demosthenes  πρὸς Νικόστρατον περὶ ἀνδραπόδων ἀπογραφῆς Ἀρε...   \n289           Demosthenes                                     πρὸς Κάλλιππον   \n560                 Plato                                      Hippias Minor   \n\n              doc_id  count_πόνο*  \n1069  tlg0627.tlg031          124  \n1055  tlg0627.tlg017           71  \n1044  tlg0627.tlg006           67  \n1061  tlg0627.tlg023           66  \n1073  tlg0627.tlg036           54  \n1070  tlg0627.tlg032           46  \n418   tlg0032.tlg007           43  \n694   tlg0086.tlg014           40  \n568   tlg0059.tlg034           38  \n1     tlg0003.tlg001           31  \n1050  tlg0627.tlg012           30  \n564   tlg0059.tlg030           30  \n302   tlg0016.tlg001           27  \n680   tlg0085.tlg003           25  \n413   tlg0032.tlg002           24  \n17    tlg0006.tlg014           19  \n425   tlg0032.tlg014           19  \n709   tlg0086.tlg035           18  \n11    tlg0006.tlg008           18  \n196   tlg0011.tlg003           18  \n1039  tlg0627.tlg001           17  \n12    tlg0006.tlg009           16  \n1059  tlg0627.tlg021           16  \n417   tlg0032.tlg006           15  \n1041  tlg0627.tlg003           15  \n1042  tlg0627.tlg004           13  \n1062  tlg0627.tlg024           13  \n16    tlg0006.tlg013           13  \n19    tlg0006.tlg016           13  \n1043  tlg0627.tlg005           12  \n1063  tlg0627.tlg025           12  \n414   tlg0032.tlg003           12  \n13    tlg0006.tlg010           12  \n200   tlg0011.tlg007           12  \n1064  tlg0627.tlg026           12  \n199   tlg0011.tlg006           12  \n1047  tlg0627.tlg009           12  \n682   tlg0085.tlg005           12  \n7     tlg0006.tlg004           11  \n692   tlg0086.tlg010           11  \n1079  tlg0627.tlg042           11  \n182   tlg0010.tlg019           10  \n184   tlg0010.tlg021           10  \n427   tlg0033.tlg002           10  \n22    tlg0006.tlg019           10  \n424   tlg0032.tlg013           10  \n1054  tlg0627.tlg016           10  \n10    tlg0006.tlg007            9  \n423   tlg0032.tlg012            9  \n194   tlg0011.tlg001            9  \n14    tlg0006.tlg011            9  \n428   tlg0033.tlg003            9  \n684   tlg0085.tlg007            9  \n546   tlg0059.tlg012            9  \n429   tlg0033.tlg004            8  \n8     tlg0006.tlg005            8  \n18    tlg0006.tlg015            8  \n15    tlg0006.tlg012            8  \n412   tlg0032.tlg001            7  \n691   tlg0086.tlg009            7  \n1053  tlg0627.tlg015            7  \n678   tlg0085.tlg001            7  \n6     tlg0006.tlg001            7  \n21    tlg0006.tlg018            7  \n1071  tlg0627.tlg033            7  \n711   tlg0086.tlg038            6  \n170   tlg0010.tlg007            6  \n1048  tlg0627.tlg010            6  \n683   tlg0085.tlg006            6  \n679   tlg0085.tlg002            6  \n20    tlg0006.tlg017            6  \n706   tlg0086.tlg030            6  \n550   tlg0059.tlg016            6  \n350   tlg0019.tlg005            6  \n534   tlg0058.tlg001            6  \n426   tlg0033.tlg001            6  \n420   tlg0032.tlg009            6  \n1085  tlg0627.tlg049            6  \n9     tlg0006.tlg006            5  \n570   tlg0059.tlg036            5  \n545   tlg0059.tlg011            5  \n681   tlg0085.tlg004            5  \n415   tlg0032.tlg004            5  \n1088  tlg0627.tlg052            5  \n195   tlg0011.tlg002            5  \n197   tlg0011.tlg004            5  \n565   tlg0059.tlg031            5  \n299   tlg0014.tlg062            4  \n201   tlg0011.tlg008            4  \n1057  tlg0627.tlg019            4  \n174   tlg0010.tlg011            4  \n172   tlg0010.tlg009            4  \n699   tlg0086.tlg020            3  \n421   tlg0032.tlg010            3  \n247   tlg0014.tlg010            3  \n544   tlg0059.tlg010            3  \n542   tlg0059.tlg008            3  \n354   tlg0019.tlg009            3  \n1072  tlg0627.tlg035            3  \n1032  tlg0610.tlg001            3  \n571   tlg0059.tlg037            3  \n198   tlg0011.tlg005            3  \n1049  tlg0627.tlg011            3  \n178   tlg0010.tlg015            3  \n349   tlg0019.tlg004            3  \n915   tlg0535.tlg001            3  \n705   tlg0086.tlg029            3  \n703   tlg0086.tlg025            2  \n255   tlg0014.tlg018            2  \n1031  tlg0610.perseu            2  \n1027  tlg0593.1st1K0            2  \n1090  tlg0627.tlg055            2  \n355   tlg0019.tlg010            2  \n541   tlg0059.tlg007            2  \n538   tlg0059.tlg004            2  \n569   tlg0059.tlg035            2  \n1087  tlg0627.tlg051            2  \n751   tlg0088.tlg001            2  \n536   tlg0059.tlg002            2  \n300   tlg0014.tlg063            2  \n419   tlg0032.tlg008            2  \n700   tlg0086.tlg021            2  \n364   tlg0026.tlg003            2  \n169   tlg0010.tlg006            2  \n245   tlg0014.tlg008            2  \n348   tlg0019.tlg003            2  \n1056  tlg0627.tlg018            2  \n384   tlg0030.tlg006            2  \n707   tlg0086.tlg031            2  \n422   tlg0032.tlg011            1  \n1076  tlg0627.tlg039            1  \n1082  tlg0627.tlg046            1  \n1089  tlg0627.tlg053            1  \n1083  tlg0627.tlg047            1  \n1084  tlg0627.tlg048            1  \n416   tlg0032.tlg005            1  \n430   tlg0034.tlg001            1  \n1040  tlg0627.tlg002            1  \n548   tlg0059.tlg014            1  \n1075  tlg0627.tlg038            1  \n921   tlg0540.tlg006            1  \n917   tlg0540.tlg002            1  \n768   tlg0199.tlg001            1  \n717   tlg0086.tlg045            1  \n712   tlg0086.tlg040            1  \n176   tlg0010.tlg013            1  \n701   tlg0086.tlg022            1  \n177   tlg0010.tlg014            1  \n1045  tlg0627.tlg007            1  \n688   tlg0086.tlg005            1  \n179   tlg0010.tlg016            1  \n180   tlg0010.tlg017            1  \n181   tlg0010.tlg018            1  \n646   tlg0066.tlg001            1  \n183   tlg0010.tlg020            1  \n567   tlg0059.tlg033            1  \n562   tlg0059.tlg028            1  \n208   tlg0013.tlg004            1  \n557   tlg0059.tlg023            1  \n556   tlg0059.tlg022            1  \n553   tlg0059.tlg019            1  \n1065  tlg0627.tlg027            1  \n1180  tlg1486.tlg002            1  \n353   tlg0019.tlg008            1  \n279   tlg0014.tlg042            1  \n352   tlg0019.tlg007            1  \n346   tlg0019.tlg001            1  \n356   tlg0019.tlg011            1  \n256   tlg0014.tlg019            1  \n257   tlg0014.tlg020            1  \n248   tlg0014.tlg011            1  \n243   tlg0014.tlg006            1  \n260   tlg0014.tlg023            1  \n241   tlg0014.tlg004            1  \n369   tlg0027.tlg004            1  \n347   tlg0019.tlg002            1  \n371   tlg0028.tlg002            1  \n239   tlg0014.tlg002            1  \n942   tlg0540.tlg027            0  \n267   tlg0014.tlg030            0  \n939   tlg0540.tlg024            0  \n268   tlg0014.tlg031            0  \n175   tlg0010.tlg012            0  \n269   tlg0014.tlg032            0  \n270   tlg0014.tlg033            0  \n940   tlg0540.tlg025            0  \n941   tlg0540.tlg026            0  \n271   tlg0014.tlg034            0  \n949   tlg0540.tlg034            0  \n943   tlg0540.tlg028            0  \n944   tlg0540.tlg029            0  \n945   tlg0540.tlg030            0  \n946   tlg0540.tlg031            0  \n947   tlg0540.tlg032            0  \n938   tlg0540.tlg023            0  \n1021  tlg0591.1st1K0            0  \n948   tlg0540.tlg033            0  \n382   tlg0030.tlg004            0  \n937   tlg0540.tlg022            0  \n925   tlg0540.tlg010            0  \n274   tlg0014.tlg037            0  \n916   tlg0540.tlg001            0  \n273   tlg0014.tlg036            0  \n918   tlg0540.tlg003            0  \n919   tlg0540.tlg004            0  \n920   tlg0540.tlg005            0  \n272   tlg0014.tlg035            0  \n922   tlg0540.tlg007            0  \n923   tlg0540.tlg008            0  \n924   tlg0540.tlg009            0  \n926   tlg0540.tlg011            0  \n936   tlg0540.tlg021            0  \n927   tlg0540.tlg012            0  \n928   tlg0540.tlg013            0  \n929   tlg0540.tlg014            0  \n930   tlg0540.tlg015            0  \n931   tlg0540.tlg016            0  \n932   tlg0540.tlg017            0  \n933   tlg0540.tlg018            0  \n934   tlg0540.tlg019            0  \n266   tlg0014.tlg029            0  \n935   tlg0540.tlg020            0  \n173   tlg0010.tlg010            0  \n261   tlg0014.tlg024            0  \n171   tlg0010.tlg008            0  \n252   tlg0014.tlg015            0  \n250   tlg0014.tlg013            0  \n249   tlg0014.tlg012            0  \n1074  tlg0627.tlg037            0  \n246   tlg0014.tlg009            0  \n1077  tlg0627.tlg040            0  \n1078  tlg0627.tlg041            0  \n244   tlg0014.tlg007            0  \n1080  tlg0627.tlg043            0  \n1081  tlg0627.tlg045            0  \n242   tlg0014.tlg005            0  \n240   tlg0014.tlg003            0  \n1086  tlg0627.tlg050            0  \n238   tlg0014.tlg001            0  \n223   tlg0013.tlg019            0  \n211   tlg0013.tlg007            0  \n1150  tlg1210.tlg001            0  \n1151  tlg1210.tlg002            0  \n1166  tlg1409.opp003            0  \n1179  tlg1486.tlg001            0  \n251   tlg0014.tlg014            0  \n253   tlg0014.tlg016            0  \n265   tlg0014.tlg028            0  \n1068  tlg0627.tlg030            0  \n1046  tlg0627.tlg008            0  \n264   tlg0014.tlg027            0  \n263   tlg0014.tlg026            0  \n262   tlg0014.tlg025            0  \n275   tlg0014.tlg038            0  \n1051  tlg0627.tlg013            0  \n1052  tlg0627.tlg014            0  \n168   tlg0010.tlg005            0  \n167   tlg0010.tlg004            0  \n259   tlg0014.tlg022            0  \n258   tlg0014.tlg021            0  \n1058  tlg0627.tlg020            0  \n166   tlg0010.tlg003            0  \n1060  tlg0627.tlg022            0  \n165   tlg0010.tlg002            0  \n164   tlg0010.tlg001            0  \n254   tlg0014.tlg017            0  \n1066  tlg0627.tlg028            0  \n1067  tlg0627.tlg029            0  \n769   tlg0199.tlg002            0  \n277   tlg0014.tlg040            0  \n276   tlg0014.tlg039            0  \n308   tlg0017.tlg006            0  \n540   tlg0059.tlg006            0  \n543   tlg0059.tlg009            0  \n351   tlg0019.tlg006            0  \n186   tlg0010.tlg023            0  \n547   tlg0059.tlg013            0  \n549   tlg0059.tlg015            0  \n551   tlg0059.tlg017            0  \n552   tlg0059.tlg018            0  \n314   tlg0017.tlg012            0  \n554   tlg0059.tlg020            0  \n555   tlg0059.tlg021            0  \n313   tlg0017.tlg011            0  \n312   tlg0017.tlg010            0  \n558   tlg0059.tlg024            0  \n559   tlg0059.tlg025            0  \n311   tlg0017.tlg009            0  \n561   tlg0059.tlg027            0  \n310   tlg0017.tlg008            0  \n563   tlg0059.tlg029            0  \n185   tlg0010.tlg022            0  \n309   tlg0017.tlg007            0  \n539   tlg0059.tlg005            0  \n362   tlg0026.tlg001            0  \n537   tlg0059.tlg003            0  \n370   tlg0028.tlg001            0  \n381   tlg0030.tlg003            0  \n380   tlg0030.tlg002            0  \n379   tlg0030.tlg001            0  \n375   tlg0028.tlg006            0  \n374   tlg0028.tlg005            0  \n373   tlg0028.tlg004            0  \n193   tlg0010.tlg030            0  \n192   tlg0010.tlg029            0  \n372   tlg0028.tlg003            0  \n191   tlg0010.tlg028            0  \n363   tlg0026.tlg002            0  \n190   tlg0010.tlg027            0  \n189   tlg0010.tlg026            0  \n368   tlg0027.tlg003            0  \n188   tlg0010.tlg025            0  \n187   tlg0010.tlg024            0  \n367   tlg0027.tlg002            0  \n366   tlg0027.tlg001            0  \n365   tlg0026.tlg004            0  \n535   tlg0059.tlg001            0  \n566   tlg0059.tlg032            0  \n307   tlg0017.tlg005            0  \n719   tlg0086.tlg054            0  \n306   tlg0017.tlg004            0  \n697   tlg0086.tlg017            0  \n698   tlg0086.tlg018            0  \n287   tlg0014.tlg050            0  \n286   tlg0014.tlg049            0  \n285   tlg0014.tlg048            0  \n702   tlg0086.tlg024            0  \n284   tlg0014.tlg047            0  \n704   tlg0086.tlg026            0  \n283   tlg0014.tlg046            0  \n282   tlg0014.tlg045            0  \n281   tlg0014.tlg044            0  \n708   tlg0086.tlg034            0  \n280   tlg0014.tlg043            0  \n710   tlg0086.tlg037            0  \n278   tlg0014.tlg041            0  \n713   tlg0086.tlg041            0  \n714   tlg0086.tlg042            0  \n715   tlg0086.tlg043            0  \n716   tlg0086.tlg044            0  \n383   tlg0030.tlg005            0  \n718   tlg0086.tlg052            0  \n696   tlg0086.tlg016            0  \n695   tlg0086.tlg015            0  \n288   tlg0014.tlg051            0  \n294   tlg0014.tlg057            0  \n305   tlg0017.tlg003            0  \n304   tlg0017.tlg002            0  \n644   tlg0064.tlg001            0  \n645   tlg0065.tlg001            0  \n303   tlg0017.tlg001            0  \n298   tlg0014.tlg061            0  \n297   tlg0014.tlg060            0  \n296   tlg0014.tlg059            0  \n295   tlg0014.tlg058            0  \n293   tlg0014.tlg056            0  \n693   tlg0086.tlg013            0  \n292   tlg0014.tlg055            0  \n685   tlg0086.tlg001            0  \n686   tlg0086.tlg002            0  \n687   tlg0086.tlg003            0  \n291   tlg0014.tlg054            0  \n689   tlg0086.tlg006            0  \n690   tlg0086.tlg008            0  \n290   tlg0014.tlg053            0  \n289   tlg0014.tlg052            0  \n560   tlg0059.tlg026            0  ",
      "text/html": "<div>\n<style scoped>\n    .dataframe tbody tr th:only-of-type {\n        vertical-align: middle;\n    }\n\n    .dataframe tbody tr th {\n        vertical-align: top;\n    }\n\n    .dataframe thead th {\n        text-align: right;\n    }\n</style>\n<table border=\"1\" class=\"dataframe\">\n  <thead>\n    <tr style=\"text-align: right;\">\n      <th></th>\n      <th>author</th>\n      <th>title</th>\n      <th>doc_id</th>\n      <th>count_πόνο*</th>\n    </tr>\n  </thead>\n  <tbody>\n    <tr>\n      <th>1069</th>\n      <td>Hippocrates</td>\n      <td>De diaeta</td>\n      <td>tlg0627.tlg031</td>\n      <td>124</td>\n    </tr>\n    <tr>\n      <th>1055</th>\n      <td>Hippocrates</td>\n      <td>Coa praesagia</td>\n      <td>tlg0627.tlg017</td>\n      <td>71</td>\n    </tr>\n    <tr>\n      <th>1044</th>\n      <td>Hippocrates</td>\n      <td>Of the Epidemics</td>\n      <td>tlg0627.tlg006</td>\n      <td>67</td>\n    </tr>\n    <tr>\n      <th>1061</th>\n      <td>Hippocrates</td>\n      <td>De morbis I</td>\n      <td>tlg0627.tlg023</td>\n      <td>66</td>\n    </tr>\n    <tr>\n      <th>1073</th>\n      <td>Hippocrates</td>\n      <td>De muliebribus</td>\n      <td>tlg0627.tlg036</td>\n      <td>54</td>\n    </tr>\n    <tr>\n      <th>1070</th>\n      <td>Hippocrates</td>\n      <td>De affectionibus interioribus</td>\n      <td>tlg0627.tlg032</td>\n      <td>46</td>\n    </tr>\n    <tr>\n      <th>418</th>\n      <td>Xenophon</td>\n      <td>Cyropaedia</td>\n      <td>tlg0032.tlg007</td>\n      <td>43</td>\n    </tr>\n    <tr>\n      <th>694</th>\n      <td>Aristotle</td>\n      <td>Historia animalium</td>\n      <td>tlg0086.tlg014</td>\n      <td>40</td>\n    </tr>\n    <tr>\n      <th>568</th>\n      <td>Plato</td>\n      <td>Laws</td>\n      <td>tlg0059.tlg034</td>\n      <td>38</td>\n    </tr>\n    <tr>\n      <th>1</th>\n      <td>Thucydides</td>\n      <td>The Peloponnesian War</td>\n      <td>tlg0003.tlg001</td>\n      <td>31</td>\n    </tr>\n    <tr>\n      <th>1050</th>\n      <td>Hippocrates</td>\n      <td>Aphorisms</td>\n      <td>tlg0627.tlg012</td>\n      <td>30</td>\n    </tr>\n    <tr>\n      <th>564</th>\n      <td>Plato</td>\n      <td>Republic</td>\n      <td>tlg0059.tlg030</td>\n      <td>30</td>\n    </tr>\n    <tr>\n      <th>302</th>\n      <td>Herodotus</td>\n      <td>The Histories</td>\n      <td>tlg0016.tlg001</td>\n      <td>27</td>\n    </tr>\n    <tr>\n      <th>680</th>\n      <td>Aeschylus</td>\n      <td>Prometheus Bound</td>\n      <td>tlg0085.tlg003</td>\n      <td>25</td>\n    </tr>\n    <tr>\n      <th>413</th>\n      <td>Xenophon</td>\n      <td>Memorabilia</td>\n      <td>tlg0032.tlg002</td>\n      <td>24</td>\n    </tr>\n    <tr>\n      <th>17</th>\n      <td>Euripides</td>\n      <td>Ἑλένη</td>\n      <td>tlg0006.tlg014</td>\n      <td>19</td>\n    </tr>\n    <tr>\n      <th>425</th>\n      <td>Xenophon</td>\n      <td>On Hunting</td>\n      <td>tlg0032.tlg014</td>\n      <td>19</td>\n    </tr>\n    <tr>\n      <th>709</th>\n      <td>Aristotle</td>\n      <td>Politics (Greek). Machine readable text</td>\n      <td>tlg0086.tlg035</td>\n      <td>18</td>\n    </tr>\n    <tr>\n      <th>11</th>\n      <td>Euripides</td>\n      <td>Ἱκέτιδες</td>\n      <td>tlg0006.tlg008</td>\n      <td>18</td>\n    </tr>\n    <tr>\n      <th>196</th>\n      <td>Sophocles</td>\n      <td>Ajax</td>\n      <td>tlg0011.tlg003</td>\n      <td>18</td>\n    </tr>\n    <tr>\n      <th>1039</th>\n      <td>Hippocrates</td>\n      <td>On Ancient Medicine</td>\n      <td>tlg0627.tlg001</td>\n      <td>17</td>\n    </tr>\n    <tr>\n      <th>12</th>\n      <td>Euripides</td>\n      <td>Ἡρακλῆς</td>\n      <td>tlg0006.tlg009</td>\n      <td>16</td>\n    </tr>\n    <tr>\n      <th>1059</th>\n      <td>Hippocrates</td>\n      <td>De flatibus</td>\n      <td>tlg0627.tlg021</td>\n      <td>16</td>\n    </tr>\n    <tr>\n      <th>417</th>\n      <td>Xenophon</td>\n      <td>Anabasis</td>\n      <td>tlg0032.tlg006</td>\n      <td>15</td>\n    </tr>\n    <tr>\n      <th>1041</th>\n      <td>Hippocrates</td>\n      <td>The Book of Prognostics</td>\n      <td>tlg0627.tlg003</td>\n      <td>15</td>\n    </tr>\n    <tr>\n      <th>1042</th>\n      <td>Hippocrates</td>\n      <td>On Regimen in Acute Diseases</td>\n      <td>tlg0627.tlg004</td>\n      <td>13</td>\n    </tr>\n    <tr>\n      <th>1062</th>\n      <td>Hippocrates</td>\n      <td>De natura pueri</td>\n      <td>tlg0627.tlg024</td>\n      <td>13</td>\n    </tr>\n    <tr>\n      <th>16</th>\n      <td>Euripides</td>\n      <td>Ἰφιγένεια ἐν Ταύροις</td>\n      <td>tlg0006.tlg013</td>\n      <td>13</td>\n    </tr>\n    <tr>\n      <th>19</th>\n      <td>Euripides</td>\n      <td>Orestes</td>\n      <td>tlg0006.tlg016</td>\n      <td>13</td>\n    </tr>\n    <tr>\n      <th>1043</th>\n      <td>Hippocrates</td>\n      <td>Acut. sp.</td>\n      <td>tlg0627.tlg005</td>\n      <td>12</td>\n    </tr>\n    <tr>\n      <th>1063</th>\n      <td>Hippocrates</td>\n      <td>De affectionibus</td>\n      <td>tlg0627.tlg025</td>\n      <td>12</td>\n    </tr>\n    <tr>\n      <th>414</th>\n      <td>Xenophon</td>\n      <td>Economics</td>\n      <td>tlg0032.tlg003</td>\n      <td>12</td>\n    </tr>\n    <tr>\n      <th>13</th>\n      <td>Euripides</td>\n      <td>Ἴων</td>\n      <td>tlg0006.tlg010</td>\n      <td>12</td>\n    </tr>\n    <tr>\n      <th>200</th>\n      <td>Sophocles</td>\n      <td>Oedipus at Colonus</td>\n      <td>tlg0011.tlg007</td>\n      <td>12</td>\n    </tr>\n    <tr>\n      <th>1064</th>\n      <td>Hippocrates</td>\n      <td>De locis in homine</td>\n      <td>tlg0627.tlg026</td>\n      <td>12</td>\n    </tr>\n    <tr>\n      <th>199</th>\n      <td>Sophocles</td>\n      <td>Philoctetes</td>\n      <td>tlg0011.tlg006</td>\n      <td>12</td>\n    </tr>\n    <tr>\n      <th>1047</th>\n      <td>Hippocrates</td>\n      <td>On Fractures</td>\n      <td>tlg0627.tlg009</td>\n      <td>12</td>\n    </tr>\n    <tr>\n      <th>682</th>\n      <td>Aeschylus</td>\n      <td>Agamemnon</td>\n      <td>tlg0085.tlg005</td>\n      <td>12</td>\n    </tr>\n    <tr>\n      <th>7</th>\n      <td>Euripides</td>\n      <td>Ἡρακλεῖδαι</td>\n      <td>tlg0006.tlg004</td>\n      <td>11</td>\n    </tr>\n    <tr>\n      <th>692</th>\n      <td>Aristotle</td>\n      <td>Nicomachean Ethics</td>\n      <td>tlg0086.tlg010</td>\n      <td>11</td>\n    </tr>\n    <tr>\n      <th>1079</th>\n      <td>Hippocrates</td>\n      <td>De glandulis</td>\n      <td>tlg0627.tlg042</td>\n      <td>11</td>\n    </tr>\n    <tr>\n      <th>182</th>\n      <td>Isocrates</td>\n      <td>Antidosis</td>\n      <td>tlg0010.tlg019</td>\n      <td>10</td>\n    </tr>\n    <tr>\n      <th>184</th>\n      <td>Isocrates</td>\n      <td>Panathenaicus</td>\n      <td>tlg0010.tlg021</td>\n      <td>10</td>\n    </tr>\n    <tr>\n      <th>427</th>\n      <td>Pindar</td>\n      <td>Odes (Greek). Machine readable text - P.</td>\n      <td>tlg0033.tlg002</td>\n      <td>10</td>\n    </tr>\n    <tr>\n      <th>22</th>\n      <td>Euripides</td>\n      <td>Ῥῆσος</td>\n      <td>tlg0006.tlg019</td>\n      <td>10</td>\n    </tr>\n    <tr>\n      <th>424</th>\n      <td>Xenophon</td>\n      <td>On the Art of Horsemanship</td>\n      <td>tlg0032.tlg013</td>\n      <td>10</td>\n    </tr>\n    <tr>\n      <th>1054</th>\n      <td>Hippocrates</td>\n      <td>Prorrheticon I</td>\n      <td>tlg0627.tlg016</td>\n      <td>10</td>\n    </tr>\n    <tr>\n      <th>10</th>\n      <td>Euripides</td>\n      <td>Ἑκάβη</td>\n      <td>tlg0006.tlg007</td>\n      <td>9</td>\n    </tr>\n    <tr>\n      <th>423</th>\n      <td>Xenophon</td>\n      <td>On the Cavalry Commander</td>\n      <td>tlg0032.tlg012</td>\n      <td>9</td>\n    </tr>\n    <tr>\n      <th>194</th>\n      <td>Sophocles</td>\n      <td>Trachiniae</td>\n      <td>tlg0011.tlg001</td>\n      <td>9</td>\n    </tr>\n    <tr>\n      <th>14</th>\n      <td>Euripides</td>\n      <td>Τρῳάδες</td>\n      <td>tlg0006.tlg011</td>\n      <td>9</td>\n    </tr>\n    <tr>\n      <th>428</th>\n      <td>Pindar</td>\n      <td>Odes (Greek). Machine readable text - N.</td>\n      <td>tlg0033.tlg003</td>\n      <td>9</td>\n    </tr>\n    <tr>\n      <th>684</th>\n      <td>Aeschylus</td>\n      <td>Eumenides</td>\n      <td>tlg0085.tlg007</td>\n      <td>9</td>\n    </tr>\n    <tr>\n      <th>546</th>\n      <td>Plato</td>\n      <td>Phaedrus</td>\n      <td>tlg0059.tlg012</td>\n      <td>9</td>\n    </tr>\n    <tr>\n      <th>429</th>\n      <td>Pindar</td>\n      <td>Odes (Greek). Machine readable text - I.</td>\n      <td>tlg0033.tlg004</td>\n      <td>8</td>\n    </tr>\n    <tr>\n      <th>8</th>\n      <td>Euripides</td>\n      <td>Ἱππόλυτος</td>\n      <td>tlg0006.tlg005</td>\n      <td>8</td>\n    </tr>\n    <tr>\n      <th>18</th>\n      <td>Euripides</td>\n      <td>Φοίνισσαι</td>\n      <td>tlg0006.tlg015</td>\n      <td>8</td>\n    </tr>\n    <tr>\n      <th>15</th>\n      <td>Euripides</td>\n      <td>Ἠλέκτρα</td>\n      <td>tlg0006.tlg012</td>\n      <td>8</td>\n    </tr>\n    <tr>\n      <th>412</th>\n      <td>Xenophon</td>\n      <td>Hellenica</td>\n      <td>tlg0032.tlg001</td>\n      <td>7</td>\n    </tr>\n    <tr>\n      <th>691</th>\n      <td>Aristotle</td>\n      <td>Eudemian Ethics (Greek). Machine readable text</td>\n      <td>tlg0086.tlg009</td>\n      <td>7</td>\n    </tr>\n    <tr>\n      <th>1053</th>\n      <td>Hippocrates</td>\n      <td>De humoribus</td>\n      <td>tlg0627.tlg015</td>\n      <td>7</td>\n    </tr>\n    <tr>\n      <th>678</th>\n      <td>Aeschylus</td>\n      <td>Suppliant Maidens</td>\n      <td>tlg0085.tlg001</td>\n      <td>7</td>\n    </tr>\n    <tr>\n      <th>6</th>\n      <td>Euripides</td>\n      <td>Cyclops</td>\n      <td>tlg0006.tlg001</td>\n      <td>7</td>\n    </tr>\n    <tr>\n      <th>21</th>\n      <td>Euripides</td>\n      <td>Ἰφιγένεια ἐν Αὐλίδι</td>\n      <td>tlg0006.tlg018</td>\n      <td>7</td>\n    </tr>\n    <tr>\n      <th>1071</th>\n      <td>Hippocrates</td>\n      <td>De natura muliebri</td>\n      <td>tlg0627.tlg033</td>\n      <td>7</td>\n    </tr>\n    <tr>\n      <th>711</th>\n      <td>Aristotle</td>\n      <td>Rhetoric</td>\n      <td>tlg0086.tlg038</td>\n      <td>6</td>\n    </tr>\n    <tr>\n      <th>170</th>\n      <td>Isocrates</td>\n      <td>To Demonicus</td>\n      <td>tlg0010.tlg007</td>\n      <td>6</td>\n    </tr>\n    <tr>\n      <th>1048</th>\n      <td>Hippocrates</td>\n      <td>On the Articulations</td>\n      <td>tlg0627.tlg010</td>\n      <td>6</td>\n    </tr>\n    <tr>\n      <th>683</th>\n      <td>Aeschylus</td>\n      <td>Libation Bearers</td>\n      <td>tlg0085.tlg006</td>\n      <td>6</td>\n    </tr>\n    <tr>\n      <th>679</th>\n      <td>Aeschylus</td>\n      <td>Persians</td>\n      <td>tlg0085.tlg002</td>\n      <td>6</td>\n    </tr>\n    <tr>\n      <th>20</th>\n      <td>Euripides</td>\n      <td>Βάκχαι</td>\n      <td>tlg0006.tlg017</td>\n      <td>6</td>\n    </tr>\n    <tr>\n      <th>706</th>\n      <td>Aristotle</td>\n      <td>De partibus animalium</td>\n      <td>tlg0086.tlg030</td>\n      <td>6</td>\n    </tr>\n    <tr>\n      <th>550</th>\n      <td>Plato</td>\n      <td>Lovers</td>\n      <td>tlg0059.tlg016</td>\n      <td>6</td>\n    </tr>\n    <tr>\n      <th>350</th>\n      <td>Aristophanes</td>\n      <td>Peace</td>\n      <td>tlg0019.tlg005</td>\n      <td>6</td>\n    </tr>\n    <tr>\n      <th>534</th>\n      <td>Aeneas Tacticus</td>\n      <td>Περὶ τοῦ πῶς χρὴ πολιορκουμένους ἀντέχειν</td>\n      <td>tlg0058.tlg001</td>\n      <td>6</td>\n    </tr>\n    <tr>\n      <th>426</th>\n      <td>Pindar</td>\n      <td>Odes (Greek). Machine readable text - O.</td>\n      <td>tlg0033.tlg001</td>\n      <td>6</td>\n    </tr>\n    <tr>\n      <th>420</th>\n      <td>Xenophon</td>\n      <td>Agesilaus</td>\n      <td>tlg0032.tlg009</td>\n      <td>6</td>\n    </tr>\n    <tr>\n      <th>1085</th>\n      <td>Hippocrates</td>\n      <td>De medico</td>\n      <td>tlg0627.tlg049</td>\n      <td>6</td>\n    </tr>\n    <tr>\n      <th>9</th>\n      <td>Euripides</td>\n      <td>Ἀνδρομάχη</td>\n      <td>tlg0006.tlg006</td>\n      <td>5</td>\n    </tr>\n    <tr>\n      <th>570</th>\n      <td>Plato</td>\n      <td>Epistles</td>\n      <td>tlg0059.tlg036</td>\n      <td>5</td>\n    </tr>\n    <tr>\n      <th>545</th>\n      <td>Plato</td>\n      <td>Symposium</td>\n      <td>tlg0059.tlg011</td>\n      <td>5</td>\n    </tr>\n    <tr>\n      <th>681</th>\n      <td>Aeschylus</td>\n      <td>Seven Against Thebes</td>\n      <td>tlg0085.tlg004</td>\n      <td>5</td>\n    </tr>\n    <tr>\n      <th>415</th>\n      <td>Xenophon</td>\n      <td>Symposium</td>\n      <td>tlg0032.tlg004</td>\n      <td>5</td>\n    </tr>\n    <tr>\n      <th>1088</th>\n      <td>Hippocrates</td>\n      <td>De crisibus</td>\n      <td>tlg0627.tlg052</td>\n      <td>5</td>\n    </tr>\n    <tr>\n      <th>195</th>\n      <td>Sophocles</td>\n      <td>Antigone</td>\n      <td>tlg0011.tlg002</td>\n      <td>5</td>\n    </tr>\n    <tr>\n      <th>197</th>\n      <td>Sophocles</td>\n      <td>Oedipus Tyrannus</td>\n      <td>tlg0011.tlg004</td>\n      <td>5</td>\n    </tr>\n    <tr>\n      <th>565</th>\n      <td>Plato</td>\n      <td>Timaeus</td>\n      <td>tlg0059.tlg031</td>\n      <td>5</td>\n    </tr>\n    <tr>\n      <th>299</th>\n      <td>Demosthenes</td>\n      <td>προοίμια δημηγορικά</td>\n      <td>tlg0014.tlg062</td>\n      <td>4</td>\n    </tr>\n    <tr>\n      <th>201</th>\n      <td>Sophocles</td>\n      <td>Ichneutae</td>\n      <td>tlg0011.tlg008</td>\n      <td>4</td>\n    </tr>\n    <tr>\n      <th>1057</th>\n      <td>Hippocrates</td>\n      <td>De natura hominis</td>\n      <td>tlg0627.tlg019</td>\n      <td>4</td>\n    </tr>\n    <tr>\n      <th>174</th>\n      <td>Isocrates</td>\n      <td>Panegyricus</td>\n      <td>tlg0010.tlg011</td>\n      <td>4</td>\n    </tr>\n    <tr>\n      <th>172</th>\n      <td>Isocrates</td>\n      <td>Helen</td>\n      <td>tlg0010.tlg009</td>\n      <td>4</td>\n    </tr>\n    <tr>\n      <th>699</th>\n      <td>Aristotle</td>\n      <td>De longitudine et brevitate vitae</td>\n      <td>tlg0086.tlg020</td>\n      <td>3</td>\n    </tr>\n    <tr>\n      <th>421</th>\n      <td>Xenophon</td>\n      <td>Constitution of the Lacedaemonians</td>\n      <td>tlg0032.tlg010</td>\n      <td>3</td>\n    </tr>\n    <tr>\n      <th>247</th>\n      <td>Demosthenes</td>\n      <td>κατὰ Φιλίππου δ΄</td>\n      <td>tlg0014.tlg010</td>\n      <td>3</td>\n    </tr>\n    <tr>\n      <th>544</th>\n      <td>Plato</td>\n      <td>Philebus</td>\n      <td>tlg0059.tlg010</td>\n      <td>3</td>\n    </tr>\n    <tr>\n      <th>542</th>\n      <td>Plato</td>\n      <td>Statesman</td>\n      <td>tlg0059.tlg008</td>\n      <td>3</td>\n    </tr>\n    <tr>\n      <th>354</th>\n      <td>Aristophanes</td>\n      <td>Frogs</td>\n      <td>tlg0019.tlg009</td>\n      <td>3</td>\n    </tr>\n    <tr>\n      <th>1072</th>\n      <td>Hippocrates</td>\n      <td>De octimestri partu</td>\n      <td>tlg0627.tlg035</td>\n      <td>3</td>\n    </tr>\n    <tr>\n      <th>1032</th>\n      <td>Alcidamas</td>\n      <td>Odysseus</td>\n      <td>tlg0610.tlg001</td>\n      <td>3</td>\n    </tr>\n    <tr>\n      <th>571</th>\n      <td>Plato</td>\n      <td>Definitiones</td>\n      <td>tlg0059.tlg037</td>\n      <td>3</td>\n    </tr>\n    <tr>\n      <th>198</th>\n      <td>Sophocles</td>\n      <td>Electra</td>\n      <td>tlg0011.tlg005</td>\n      <td>3</td>\n    </tr>\n    <tr>\n      <th>1049</th>\n      <td>Hippocrates</td>\n      <td>Mochlicus or Instruments of Reduction</td>\n      <td>tlg0627.tlg011</td>\n      <td>3</td>\n    </tr>\n    <tr>\n      <th>178</th>\n      <td>Isocrates</td>\n      <td>Evagoras</td>\n      <td>tlg0010.tlg015</td>\n      <td>3</td>\n    </tr>\n    <tr>\n      <th>349</th>\n      <td>Aristophanes</td>\n      <td>Wasps</td>\n      <td>tlg0019.tlg004</td>\n      <td>3</td>\n    </tr>\n    <tr>\n      <th>915</th>\n      <td>Demades</td>\n      <td>On the Twelve Years</td>\n      <td>tlg0535.tlg001</td>\n      <td>3</td>\n    </tr>\n    <tr>\n      <th>705</th>\n      <td>Aristotle</td>\n      <td>Economics (Greek). Machine readable text</td>\n      <td>tlg0086.tlg029</td>\n      <td>3</td>\n    </tr>\n    <tr>\n      <th>703</th>\n      <td>Aristotle</td>\n      <td>Metaphysics (Greek). Machine readable text</td>\n      <td>tlg0086.tlg025</td>\n      <td>2</td>\n    </tr>\n    <tr>\n      <th>255</th>\n      <td>Demosthenes</td>\n      <td>ὑπὲρ Κτησιφῶντος περὶ τοῦ στεφάνου</td>\n      <td>tlg0014.tlg018</td>\n      <td>2</td>\n    </tr>\n    <tr>\n      <th>1031</th>\n      <td>Alcidamas</td>\n      <td>Peri Sophiston</td>\n      <td>tlg0610.perseu</td>\n      <td>2</td>\n    </tr>\n    <tr>\n      <th>1027</th>\n      <td>Gorgias of Leontini</td>\n      <td>Defense of Palamedes</td>\n      <td>tlg0593.1st1K0</td>\n      <td>2</td>\n    </tr>\n    <tr>\n      <th>1090</th>\n      <td>Hippocrates</td>\n      <td>Epistulae, Decretum, Orationes</td>\n      <td>tlg0627.tlg055</td>\n      <td>2</td>\n    </tr>\n    <tr>\n      <th>355</th>\n      <td>Aristophanes</td>\n      <td>Ecclesiazusae</td>\n      <td>tlg0019.tlg010</td>\n      <td>2</td>\n    </tr>\n    <tr>\n      <th>541</th>\n      <td>Plato</td>\n      <td>Sophist</td>\n      <td>tlg0059.tlg007</td>\n      <td>2</td>\n    </tr>\n    <tr>\n      <th>538</th>\n      <td>Plato</td>\n      <td>Phaedo</td>\n      <td>tlg0059.tlg004</td>\n      <td>2</td>\n    </tr>\n    <tr>\n      <th>569</th>\n      <td>Plato</td>\n      <td>Epinomis</td>\n      <td>tlg0059.tlg035</td>\n      <td>2</td>\n    </tr>\n    <tr>\n      <th>1087</th>\n      <td>Hippocrates</td>\n      <td>Precepts</td>\n      <td>tlg0627.tlg051</td>\n      <td>2</td>\n    </tr>\n    <tr>\n      <th>751</th>\n      <td>Aristoxenus</td>\n      <td>Elementa Harmonica</td>\n      <td>tlg0088.tlg001</td>\n      <td>2</td>\n    </tr>\n    <tr>\n      <th>536</th>\n      <td>Plato</td>\n      <td>Apology</td>\n      <td>tlg0059.tlg002</td>\n      <td>2</td>\n    </tr>\n    <tr>\n      <th>300</th>\n      <td>Demosthenes</td>\n      <td>Δημοσθένους ἐπιστολαὶ</td>\n      <td>tlg0014.tlg063</td>\n      <td>2</td>\n    </tr>\n    <tr>\n      <th>419</th>\n      <td>Xenophon</td>\n      <td>Hiero</td>\n      <td>tlg0032.tlg008</td>\n      <td>2</td>\n    </tr>\n    <tr>\n      <th>700</th>\n      <td>Aristoteles</td>\n      <td>De animalium incessu</td>\n      <td>tlg0086.tlg021</td>\n      <td>2</td>\n    </tr>\n    <tr>\n      <th>364</th>\n      <td>Aeschines</td>\n      <td>Against Ctesiphon\\n</td>\n      <td>tlg0026.tlg003</td>\n      <td>2</td>\n    </tr>\n    <tr>\n      <th>169</th>\n      <td>Isocrates</td>\n      <td>Aegineticus</td>\n      <td>tlg0010.tlg006</td>\n      <td>2</td>\n    </tr>\n    <tr>\n      <th>245</th>\n      <td>Demosthenes</td>\n      <td>περὶ τῶν ἐν Χερρονήσῳ</td>\n      <td>tlg0014.tlg008</td>\n      <td>2</td>\n    </tr>\n    <tr>\n      <th>348</th>\n      <td>Aristophanes</td>\n      <td>Clouds</td>\n      <td>tlg0019.tlg003</td>\n      <td>2</td>\n    </tr>\n    <tr>\n      <th>1056</th>\n      <td>Hippocrates</td>\n      <td>De arte</td>\n      <td>tlg0627.tlg018</td>\n      <td>2</td>\n    </tr>\n    <tr>\n      <th>384</th>\n      <td>Hyperides</td>\n      <td>Funeral Speech</td>\n      <td>tlg0030.tlg006</td>\n      <td>2</td>\n    </tr>\n    <tr>\n      <th>707</th>\n      <td>Aristotle</td>\n      <td>Physica</td>\n      <td>tlg0086.tlg031</td>\n      <td>2</td>\n    </tr>\n    <tr>\n      <th>422</th>\n      <td>Xenophon</td>\n      <td>Ways and Means</td>\n      <td>tlg0032.tlg011</td>\n      <td>1</td>\n    </tr>\n    <tr>\n      <th>1076</th>\n      <td>Hippocrates</td>\n      <td>De exsectione foetus</td>\n      <td>tlg0627.tlg039</td>\n      <td>1</td>\n    </tr>\n    <tr>\n      <th>1082</th>\n      <td>Hippocrates</td>\n      <td>De alimento</td>\n      <td>tlg0627.tlg046</td>\n      <td>1</td>\n    </tr>\n    <tr>\n      <th>1089</th>\n      <td>Hippocrates</td>\n      <td>De diebus criticis</td>\n      <td>tlg0627.tlg053</td>\n      <td>1</td>\n    </tr>\n    <tr>\n      <th>1083</th>\n      <td>Hippocrates</td>\n      <td>De visu</td>\n      <td>tlg0627.tlg047</td>\n      <td>1</td>\n    </tr>\n    <tr>\n      <th>1084</th>\n      <td>Hippocrates</td>\n      <td>De natura ossium</td>\n      <td>tlg0627.tlg048</td>\n      <td>1</td>\n    </tr>\n    <tr>\n      <th>416</th>\n      <td>Xenophon</td>\n      <td>Apology</td>\n      <td>tlg0032.tlg005</td>\n      <td>1</td>\n    </tr>\n    <tr>\n      <th>430</th>\n      <td>Lycurgus</td>\n      <td>Against Leocrates</td>\n      <td>tlg0034.tlg001</td>\n      <td>1</td>\n    </tr>\n    <tr>\n      <th>1040</th>\n      <td>Hippocrates</td>\n      <td>De aere aquis et locis</td>\n      <td>tlg0627.tlg002</td>\n      <td>1</td>\n    </tr>\n    <tr>\n      <th>548</th>\n      <td>Plato</td>\n      <td>Alcibiades 2</td>\n      <td>tlg0059.tlg014</td>\n      <td>1</td>\n    </tr>\n    <tr>\n      <th>1075</th>\n      <td>Hippocrates</td>\n      <td>De superfoetatione</td>\n      <td>tlg0627.tlg038</td>\n      <td>1</td>\n    </tr>\n    <tr>\n      <th>921</th>\n      <td>Lysias</td>\n      <td>Against Andocides</td>\n      <td>tlg0540.tlg006</td>\n      <td>1</td>\n    </tr>\n    <tr>\n      <th>917</th>\n      <td>Lysias</td>\n      <td>Funeral Oration</td>\n      <td>tlg0540.tlg002</td>\n      <td>1</td>\n    </tr>\n    <tr>\n      <th>768</th>\n      <td>Bacchylides</td>\n      <td>Odes (Greek) - Ep</td>\n      <td>tlg0199.tlg001</td>\n      <td>1</td>\n    </tr>\n    <tr>\n      <th>717</th>\n      <td>Aristotle</td>\n      <td>Virtues and Vices</td>\n      <td>tlg0086.tlg045</td>\n      <td>1</td>\n    </tr>\n    <tr>\n      <th>712</th>\n      <td>Aristotle</td>\n      <td>De sophisticis elenchis</td>\n      <td>tlg0086.tlg040</td>\n      <td>1</td>\n    </tr>\n    <tr>\n      <th>176</th>\n      <td>Isocrates</td>\n      <td>To Nicocles</td>\n      <td>tlg0010.tlg013</td>\n      <td>1</td>\n    </tr>\n    <tr>\n      <th>701</th>\n      <td>Aristotle</td>\n      <td>Magna Moralia</td>\n      <td>tlg0086.tlg022</td>\n      <td>1</td>\n    </tr>\n    <tr>\n      <th>177</th>\n      <td>Isocrates</td>\n      <td>Nicocles or the Cyprians</td>\n      <td>tlg0010.tlg014</td>\n      <td>1</td>\n    </tr>\n    <tr>\n      <th>1045</th>\n      <td>Hippocrates</td>\n      <td>On Injuries of the Head</td>\n      <td>tlg0627.tlg007</td>\n      <td>1</td>\n    </tr>\n    <tr>\n      <th>688</th>\n      <td>Aristotle</td>\n      <td>De caelo</td>\n      <td>tlg0086.tlg005</td>\n      <td>1</td>\n    </tr>\n    <tr>\n      <th>179</th>\n      <td>Isocrates</td>\n      <td>Archidamus</td>\n      <td>tlg0010.tlg016</td>\n      <td>1</td>\n    </tr>\n    <tr>\n      <th>180</th>\n      <td>Isocrates</td>\n      <td>On the Peace</td>\n      <td>tlg0010.tlg017</td>\n      <td>1</td>\n    </tr>\n    <tr>\n      <th>181</th>\n      <td>Isocrates</td>\n      <td>Areopagiticus</td>\n      <td>tlg0010.tlg018</td>\n      <td>1</td>\n    </tr>\n    <tr>\n      <th>646</th>\n      <td>Ps. Dicaearchus</td>\n      <td>Dicaearchi, ut fertur, potius vero Athenaei De...</td>\n      <td>tlg0066.tlg001</td>\n      <td>1</td>\n    </tr>\n    <tr>\n      <th>183</th>\n      <td>Isocrates</td>\n      <td>To Philip</td>\n      <td>tlg0010.tlg020</td>\n      <td>1</td>\n    </tr>\n    <tr>\n      <th>567</th>\n      <td>Plato</td>\n      <td>Minos</td>\n      <td>tlg0059.tlg033</td>\n      <td>1</td>\n    </tr>\n    <tr>\n      <th>562</th>\n      <td>Plato</td>\n      <td>Menexenus</td>\n      <td>tlg0059.tlg028</td>\n      <td>1</td>\n    </tr>\n    <tr>\n      <th>208</th>\n      <td>Homeric hymn</td>\n      <td>Hymn 4 To Hermes</td>\n      <td>tlg0013.tlg004</td>\n      <td>1</td>\n    </tr>\n    <tr>\n      <th>557</th>\n      <td>Plato</td>\n      <td>Gorgias</td>\n      <td>tlg0059.tlg023</td>\n      <td>1</td>\n    </tr>\n    <tr>\n      <th>556</th>\n      <td>Plato</td>\n      <td>Protagoras</td>\n      <td>tlg0059.tlg022</td>\n      <td>1</td>\n    </tr>\n    <tr>\n      <th>553</th>\n      <td>Plato</td>\n      <td>Laches</td>\n      <td>tlg0059.tlg019</td>\n      <td>1</td>\n    </tr>\n    <tr>\n      <th>1065</th>\n      <td>Hippocrates</td>\n      <td>On the Sacred Disease</td>\n      <td>tlg0627.tlg027</td>\n      <td>1</td>\n    </tr>\n    <tr>\n      <th>1180</th>\n      <td>Matron of Pitana</td>\n      <td>Δει̑πνον Ἀττικόν</td>\n      <td>tlg1486.tlg002</td>\n      <td>1</td>\n    </tr>\n    <tr>\n      <th>353</th>\n      <td>Aristophanes</td>\n      <td>Thesmophoriazusae</td>\n      <td>tlg0019.tlg008</td>\n      <td>1</td>\n    </tr>\n    <tr>\n      <th>279</th>\n      <td>Demosthenes</td>\n      <td>πρὸς Φαίνιππον περὶ ἀντιδόσεως</td>\n      <td>tlg0014.tlg042</td>\n      <td>1</td>\n    </tr>\n    <tr>\n      <th>352</th>\n      <td>Aristophanes</td>\n      <td>Lysistrata</td>\n      <td>tlg0019.tlg007</td>\n      <td>1</td>\n    </tr>\n    <tr>\n      <th>346</th>\n      <td>Aristophanes</td>\n      <td>Acharnians</td>\n      <td>tlg0019.tlg001</td>\n      <td>1</td>\n    </tr>\n    <tr>\n      <th>356</th>\n      <td>Aristophanes</td>\n      <td>Plutus</td>\n      <td>tlg0019.tlg011</td>\n      <td>1</td>\n    </tr>\n    <tr>\n      <th>256</th>\n      <td>Demosthenes</td>\n      <td>περὶ τῆς παραπρεσβείας</td>\n      <td>tlg0014.tlg019</td>\n      <td>1</td>\n    </tr>\n    <tr>\n      <th>257</th>\n      <td>Demosthenes</td>\n      <td>περὶ τῆς Ἀτελείας πρὸς Λεπτίνην</td>\n      <td>tlg0014.tlg020</td>\n      <td>1</td>\n    </tr>\n    <tr>\n      <th>248</th>\n      <td>Demosthenes</td>\n      <td>πρὸς τὴν ἐπιστολήν τὴν Φιλίππου</td>\n      <td>tlg0014.tlg011</td>\n      <td>1</td>\n    </tr>\n    <tr>\n      <th>243</th>\n      <td>Demosthenes</td>\n      <td>κατὰ Φιλίππου β΄</td>\n      <td>tlg0014.tlg006</td>\n      <td>1</td>\n    </tr>\n    <tr>\n      <th>260</th>\n      <td>Demosthenes</td>\n      <td>κατὰ Ἀριστοκράτους</td>\n      <td>tlg0014.tlg023</td>\n      <td>1</td>\n    </tr>\n    <tr>\n      <th>241</th>\n      <td>Demosthenes</td>\n      <td>κατὰ Φιλίππου α΄</td>\n      <td>tlg0014.tlg004</td>\n      <td>1</td>\n    </tr>\n    <tr>\n      <th>369</th>\n      <td>Andocides</td>\n      <td>Against Alcibiades</td>\n      <td>tlg0027.tlg004</td>\n      <td>1</td>\n    </tr>\n    <tr>\n      <th>347</th>\n      <td>Aristophanes</td>\n      <td>Knights</td>\n      <td>tlg0019.tlg002</td>\n      <td>1</td>\n    </tr>\n    <tr>\n      <th>371</th>\n      <td>Antiphon</td>\n      <td>Anonymous Prosecution for Murder</td>\n      <td>tlg0028.tlg002</td>\n      <td>1</td>\n    </tr>\n    <tr>\n      <th>239</th>\n      <td>Demosthenes</td>\n      <td>Ὀλυνθιακὸς β΄</td>\n      <td>tlg0014.tlg002</td>\n      <td>1</td>\n    </tr>\n    <tr>\n      <th>942</th>\n      <td>Lysias</td>\n      <td>Against Epicrates and his Fellow-envoys</td>\n      <td>tlg0540.tlg027</td>\n      <td>0</td>\n    </tr>\n    <tr>\n      <th>267</th>\n      <td>Demosthenes</td>\n      <td>πρὸς Ὀνήτορα ἐξούλης α΄</td>\n      <td>tlg0014.tlg030</td>\n      <td>0</td>\n    </tr>\n    <tr>\n      <th>939</th>\n      <td>Lysias</td>\n      <td>On The Refusal Of A Pension</td>\n      <td>tlg0540.tlg024</td>\n      <td>0</td>\n    </tr>\n    <tr>\n      <th>268</th>\n      <td>Demosthenes</td>\n      <td>πρὸς Ὀνήτορα ἐξούλης β΄</td>\n      <td>tlg0014.tlg031</td>\n      <td>0</td>\n    </tr>\n    <tr>\n      <th>175</th>\n      <td>Isocrates</td>\n      <td>Plataicus</td>\n      <td>tlg0010.tlg012</td>\n      <td>0</td>\n    </tr>\n    <tr>\n      <th>269</th>\n      <td>Demosthenes</td>\n      <td>πρὸς Ζηνόθεμιν παραγραφή</td>\n      <td>tlg0014.tlg032</td>\n      <td>0</td>\n    </tr>\n    <tr>\n      <th>270</th>\n      <td>Demosthenes</td>\n      <td>πρὸς Ἀπατούριον παραγραφή</td>\n      <td>tlg0014.tlg033</td>\n      <td>0</td>\n    </tr>\n    <tr>\n      <th>940</th>\n      <td>Lysias</td>\n      <td>Defense Against a Charge of Subverting the Dem...</td>\n      <td>tlg0540.tlg025</td>\n      <td>0</td>\n    </tr>\n    <tr>\n      <th>941</th>\n      <td>Lysias</td>\n      <td>On the Scrutiny of Evandros</td>\n      <td>tlg0540.tlg026</td>\n      <td>0</td>\n    </tr>\n    <tr>\n      <th>271</th>\n      <td>Demosthenes</td>\n      <td>πρὸς Φορμίωνα ὑπὲρ δανείου</td>\n      <td>tlg0014.tlg034</td>\n      <td>0</td>\n    </tr>\n    <tr>\n      <th>949</th>\n      <td>Lysias</td>\n      <td>Against The Subversion of the Ancestral Consti...</td>\n      <td>tlg0540.tlg034</td>\n      <td>0</td>\n    </tr>\n    <tr>\n      <th>943</th>\n      <td>Lysias</td>\n      <td>Against Ergocles</td>\n      <td>tlg0540.tlg028</td>\n      <td>0</td>\n    </tr>\n    <tr>\n      <th>944</th>\n      <td>Lysias</td>\n      <td>Against Philocrates</td>\n      <td>tlg0540.tlg029</td>\n      <td>0</td>\n    </tr>\n    <tr>\n      <th>945</th>\n      <td>Lysias</td>\n      <td>Against Nicomachus</td>\n      <td>tlg0540.tlg030</td>\n      <td>0</td>\n    </tr>\n    <tr>\n      <th>946</th>\n      <td>Lysias</td>\n      <td>Against Philon</td>\n      <td>tlg0540.tlg031</td>\n      <td>0</td>\n    </tr>\n    <tr>\n      <th>947</th>\n      <td>Lysias</td>\n      <td>Against Diogeiton</td>\n      <td>tlg0540.tlg032</td>\n      <td>0</td>\n    </tr>\n    <tr>\n      <th>938</th>\n      <td>Lysias</td>\n      <td>Against Pancleon</td>\n      <td>tlg0540.tlg023</td>\n      <td>0</td>\n    </tr>\n    <tr>\n      <th>1021</th>\n      <td>Antisthenes</td>\n      <td>Odysseus</td>\n      <td>tlg0591.1st1K0</td>\n      <td>0</td>\n    </tr>\n    <tr>\n      <th>948</th>\n      <td>Lysias</td>\n      <td>Olympic Oration</td>\n      <td>tlg0540.tlg033</td>\n      <td>0</td>\n    </tr>\n    <tr>\n      <th>382</th>\n      <td>Hyperides</td>\n      <td>In Defence of Euxenippus</td>\n      <td>tlg0030.tlg004</td>\n      <td>0</td>\n    </tr>\n    <tr>\n      <th>937</th>\n      <td>Lysias</td>\n      <td>Against The Corn-Dealers</td>\n      <td>tlg0540.tlg022</td>\n      <td>0</td>\n    </tr>\n    <tr>\n      <th>925</th>\n      <td>Lysias</td>\n      <td>Against Theomnestus 1</td>\n      <td>tlg0540.tlg010</td>\n      <td>0</td>\n    </tr>\n    <tr>\n      <th>274</th>\n      <td>Demosthenes</td>\n      <td>παραγραφὴ πρὸς Πανταίνετον</td>\n      <td>tlg0014.tlg037</td>\n      <td>0</td>\n    </tr>\n    <tr>\n      <th>916</th>\n      <td>Lysias</td>\n      <td>On the Murder of Eratosthenes</td>\n      <td>tlg0540.tlg001</td>\n      <td>0</td>\n    </tr>\n    <tr>\n      <th>273</th>\n      <td>Demosthenes</td>\n      <td>παραγραφὴ ὑπὲρ Φορμίωνος</td>\n      <td>tlg0014.tlg036</td>\n      <td>0</td>\n    </tr>\n    <tr>\n      <th>918</th>\n      <td>Lysias</td>\n      <td>Against Simon</td>\n      <td>tlg0540.tlg003</td>\n      <td>0</td>\n    </tr>\n    <tr>\n      <th>919</th>\n      <td>Lysias</td>\n      <td>On A Wound By Premeditation</td>\n      <td>tlg0540.tlg004</td>\n      <td>0</td>\n    </tr>\n    <tr>\n      <th>920</th>\n      <td>Lysias</td>\n      <td>For Callias</td>\n      <td>tlg0540.tlg005</td>\n      <td>0</td>\n    </tr>\n    <tr>\n      <th>272</th>\n      <td>Demosthenes</td>\n      <td>πρὸς τὴν Λάκριτον παραγραφὴν</td>\n      <td>tlg0014.tlg035</td>\n      <td>0</td>\n    </tr>\n    <tr>\n      <th>922</th>\n      <td>Lysias</td>\n      <td>Defense in the Matter of the Olive Stump</td>\n      <td>tlg0540.tlg007</td>\n      <td>0</td>\n    </tr>\n    <tr>\n      <th>923</th>\n      <td>Lysias</td>\n      <td>Accusation of Calumny</td>\n      <td>tlg0540.tlg008</td>\n      <td>0</td>\n    </tr>\n    <tr>\n      <th>924</th>\n      <td>Lysias</td>\n      <td>For The Soldier</td>\n      <td>tlg0540.tlg009</td>\n      <td>0</td>\n    </tr>\n    <tr>\n      <th>926</th>\n      <td>Lysias</td>\n      <td>Against Theomnestus 2</td>\n      <td>tlg0540.tlg011</td>\n      <td>0</td>\n    </tr>\n    <tr>\n      <th>936</th>\n      <td>Lysias</td>\n      <td>Defense Against A Charge Of Taking Bribes</td>\n      <td>tlg0540.tlg021</td>\n      <td>0</td>\n    </tr>\n    <tr>\n      <th>927</th>\n      <td>Lysias</td>\n      <td>Against Eratosthenes</td>\n      <td>tlg0540.tlg012</td>\n      <td>0</td>\n    </tr>\n    <tr>\n      <th>928</th>\n      <td>Lysias</td>\n      <td>Against Agoratus</td>\n      <td>tlg0540.tlg013</td>\n      <td>0</td>\n    </tr>\n    <tr>\n      <th>929</th>\n      <td>Lysias</td>\n      <td>Against Alcibiades 1</td>\n      <td>tlg0540.tlg014</td>\n      <td>0</td>\n    </tr>\n    <tr>\n      <th>930</th>\n      <td>Lysias</td>\n      <td>Against Alcibiades 2</td>\n      <td>tlg0540.tlg015</td>\n      <td>0</td>\n    </tr>\n    <tr>\n      <th>931</th>\n      <td>Lysias</td>\n      <td>In Defense of Mantitheus</td>\n      <td>tlg0540.tlg016</td>\n      <td>0</td>\n    </tr>\n    <tr>\n      <th>932</th>\n      <td>Lysias</td>\n      <td>On The Property Of Eraton</td>\n      <td>tlg0540.tlg017</td>\n      <td>0</td>\n    </tr>\n    <tr>\n      <th>933</th>\n      <td>Lysias</td>\n      <td>On the Confiscation of the Property Of The Bro...</td>\n      <td>tlg0540.tlg018</td>\n      <td>0</td>\n    </tr>\n    <tr>\n      <th>934</th>\n      <td>Lysias</td>\n      <td>On the Property of Aristophanes</td>\n      <td>tlg0540.tlg019</td>\n      <td>0</td>\n    </tr>\n    <tr>\n      <th>266</th>\n      <td>Demosthenes</td>\n      <td>πρὸς Ἄφοβον ὑπὲρ Φάνου ψευδομαρτυριῶν γ΄</td>\n      <td>tlg0014.tlg029</td>\n      <td>0</td>\n    </tr>\n    <tr>\n      <th>935</th>\n      <td>Lysias</td>\n      <td>For Polystratus</td>\n      <td>tlg0540.tlg020</td>\n      <td>0</td>\n    </tr>\n    <tr>\n      <th>173</th>\n      <td>Isocrates</td>\n      <td>Busiris</td>\n      <td>tlg0010.tlg010</td>\n      <td>0</td>\n    </tr>\n    <tr>\n      <th>261</th>\n      <td>Demosthenes</td>\n      <td>κατὰ Τιμοκράτους</td>\n      <td>tlg0014.tlg024</td>\n      <td>0</td>\n    </tr>\n    <tr>\n      <th>171</th>\n      <td>Isocrates</td>\n      <td>Against the Sophists</td>\n      <td>tlg0010.tlg008</td>\n      <td>0</td>\n    </tr>\n    <tr>\n      <th>252</th>\n      <td>Demosthenes</td>\n      <td>ὑπὲρ τῆς Ῥοδίων ἐλευθερίας</td>\n      <td>tlg0014.tlg015</td>\n      <td>0</td>\n    </tr>\n    <tr>\n      <th>250</th>\n      <td>Demosthenes</td>\n      <td>περὶ συντάξεως</td>\n      <td>tlg0014.tlg013</td>\n      <td>0</td>\n    </tr>\n    <tr>\n      <th>249</th>\n      <td>Demosthenes</td>\n      <td>ἐπιστολή [Φιλίππου]</td>\n      <td>tlg0014.tlg012</td>\n      <td>0</td>\n    </tr>\n    <tr>\n      <th>1074</th>\n      <td>Hippocrates</td>\n      <td>De virginum morbis</td>\n      <td>tlg0627.tlg037</td>\n      <td>0</td>\n    </tr>\n    <tr>\n      <th>246</th>\n      <td>Demosthenes</td>\n      <td>κατὰ Φιλίππου γ΄</td>\n      <td>tlg0014.tlg009</td>\n      <td>0</td>\n    </tr>\n    <tr>\n      <th>1077</th>\n      <td>Hippocrates</td>\n      <td>De anatomia</td>\n      <td>tlg0627.tlg040</td>\n      <td>0</td>\n    </tr>\n    <tr>\n      <th>1078</th>\n      <td>Hippocrates</td>\n      <td>De dentitione</td>\n      <td>tlg0627.tlg041</td>\n      <td>0</td>\n    </tr>\n    <tr>\n      <th>244</th>\n      <td>Demosthenes</td>\n      <td>περὶ Ἀλοννήσου</td>\n      <td>tlg0014.tlg007</td>\n      <td>0</td>\n    </tr>\n    <tr>\n      <th>1080</th>\n      <td>Hippocrates</td>\n      <td>De carnibus</td>\n      <td>tlg0627.tlg043</td>\n      <td>0</td>\n    </tr>\n    <tr>\n      <th>1081</th>\n      <td>Hippocrates</td>\n      <td>De corde</td>\n      <td>tlg0627.tlg045</td>\n      <td>0</td>\n    </tr>\n    <tr>\n      <th>242</th>\n      <td>Demosthenes</td>\n      <td>περὶ τῆς εἰρήνης</td>\n      <td>tlg0014.tlg005</td>\n      <td>0</td>\n    </tr>\n    <tr>\n      <th>240</th>\n      <td>Demosthenes</td>\n      <td>Ὀλυνθιακὸς γ΄</td>\n      <td>tlg0014.tlg003</td>\n      <td>0</td>\n    </tr>\n    <tr>\n      <th>1086</th>\n      <td>Hippocrates</td>\n      <td>De habitu decenti</td>\n      <td>tlg0627.tlg050</td>\n      <td>0</td>\n    </tr>\n    <tr>\n      <th>238</th>\n      <td>Demosthenes</td>\n      <td>Ὀλυνθιακὸς α΄</td>\n      <td>tlg0014.tlg001</td>\n      <td>0</td>\n    </tr>\n    <tr>\n      <th>223</th>\n      <td>Homeric hymn</td>\n      <td>Hymn 19 to Pan</td>\n      <td>tlg0013.tlg019</td>\n      <td>0</td>\n    </tr>\n    <tr>\n      <th>211</th>\n      <td>Homeric hymn</td>\n      <td>Hymn 7 To Dionysus</td>\n      <td>tlg0013.tlg007</td>\n      <td>0</td>\n    </tr>\n    <tr>\n      <th>1150</th>\n      <td>Autolycus</td>\n      <td>De Sphaera Quae Movetur</td>\n      <td>tlg1210.tlg001</td>\n      <td>0</td>\n    </tr>\n    <tr>\n      <th>1151</th>\n      <td>Autolycus</td>\n      <td>De Ortibus et Occasibus</td>\n      <td>tlg1210.tlg002</td>\n      <td>0</td>\n    </tr>\n    <tr>\n      <th>1166</th>\n      <td>Heraclides Ponticus</td>\n      <td>Res Publica Atheniensium</td>\n      <td>tlg1409.opp003</td>\n      <td>0</td>\n    </tr>\n    <tr>\n      <th>1179</th>\n      <td>Matron of Pitana</td>\n      <td>Δει̑πνον Ἀττικόν</td>\n      <td>tlg1486.tlg001</td>\n      <td>0</td>\n    </tr>\n    <tr>\n      <th>251</th>\n      <td>Demosthenes</td>\n      <td>περὶ τῶν συμμοριῶν</td>\n      <td>tlg0014.tlg014</td>\n      <td>0</td>\n    </tr>\n    <tr>\n      <th>253</th>\n      <td>Demosthenes</td>\n      <td>ὑπὲρ Μεγαλοπολιτῶν</td>\n      <td>tlg0014.tlg016</td>\n      <td>0</td>\n    </tr>\n    <tr>\n      <th>265</th>\n      <td>Demosthenes</td>\n      <td>κατὰ Ἀφόβου β΄</td>\n      <td>tlg0014.tlg028</td>\n      <td>0</td>\n    </tr>\n    <tr>\n      <th>1068</th>\n      <td>Hippocrates</td>\n      <td>On Fistulae</td>\n      <td>tlg0627.tlg030</td>\n      <td>0</td>\n    </tr>\n    <tr>\n      <th>1046</th>\n      <td>Hippocrates</td>\n      <td>De officina medici</td>\n      <td>tlg0627.tlg008</td>\n      <td>0</td>\n    </tr>\n    <tr>\n      <th>264</th>\n      <td>Demosthenes</td>\n      <td>κατὰ Ἀφόβου ἐπιτροπῆς α΄</td>\n      <td>tlg0014.tlg027</td>\n      <td>0</td>\n    </tr>\n    <tr>\n      <th>263</th>\n      <td>Demosthenes</td>\n      <td>κατὰ Ἀριστογείτονος β΄</td>\n      <td>tlg0014.tlg026</td>\n      <td>0</td>\n    </tr>\n    <tr>\n      <th>262</th>\n      <td>Demosthenes</td>\n      <td>κατὰ Ἀριστογείτονος α΄</td>\n      <td>tlg0014.tlg025</td>\n      <td>0</td>\n    </tr>\n    <tr>\n      <th>275</th>\n      <td>Demosthenes</td>\n      <td>παραγραφὴ πρὸς Ναυσίμακον καὶ Ξενοπείθην</td>\n      <td>tlg0014.tlg038</td>\n      <td>0</td>\n    </tr>\n    <tr>\n      <th>1051</th>\n      <td>Hippocrates</td>\n      <td>The Oath</td>\n      <td>tlg0627.tlg013</td>\n      <td>0</td>\n    </tr>\n    <tr>\n      <th>1052</th>\n      <td>Hippocrates</td>\n      <td>Lex</td>\n      <td>tlg0627.tlg014</td>\n      <td>0</td>\n    </tr>\n    <tr>\n      <th>168</th>\n      <td>Isocrates</td>\n      <td>Trapeziticus</td>\n      <td>tlg0010.tlg005</td>\n      <td>0</td>\n    </tr>\n    <tr>\n      <th>167</th>\n      <td>Isocrates</td>\n      <td>Concerning the Team of Horses</td>\n      <td>tlg0010.tlg004</td>\n      <td>0</td>\n    </tr>\n    <tr>\n      <th>259</th>\n      <td>Demosthenes</td>\n      <td>κατὰ Ἀνδροτίωνος παρανόμων</td>\n      <td>tlg0014.tlg022</td>\n      <td>0</td>\n    </tr>\n    <tr>\n      <th>258</th>\n      <td>Demosthenes</td>\n      <td>κατὰ Μειδίου περὶ τοῦ Κονδύλου</td>\n      <td>tlg0014.tlg021</td>\n      <td>0</td>\n    </tr>\n    <tr>\n      <th>1058</th>\n      <td>Hippocrates</td>\n      <td>De salubri diaeta</td>\n      <td>tlg0627.tlg020</td>\n      <td>0</td>\n    </tr>\n    <tr>\n      <th>166</th>\n      <td>Isocrates</td>\n      <td>Against Lochites</td>\n      <td>tlg0010.tlg003</td>\n      <td>0</td>\n    </tr>\n    <tr>\n      <th>1060</th>\n      <td>Hippocrates</td>\n      <td>De liquidorum usu</td>\n      <td>tlg0627.tlg022</td>\n      <td>0</td>\n    </tr>\n    <tr>\n      <th>165</th>\n      <td>Isocrates</td>\n      <td>Against Callimachus</td>\n      <td>tlg0010.tlg002</td>\n      <td>0</td>\n    </tr>\n    <tr>\n      <th>164</th>\n      <td>Isocrates</td>\n      <td>Against Euthynus</td>\n      <td>tlg0010.tlg001</td>\n      <td>0</td>\n    </tr>\n    <tr>\n      <th>254</th>\n      <td>Demosthenes</td>\n      <td>περὶ τῶν πρὸς Ἀλέξανδρον συνθηκῶν</td>\n      <td>tlg0014.tlg017</td>\n      <td>0</td>\n    </tr>\n    <tr>\n      <th>1066</th>\n      <td>Hippocrates</td>\n      <td>On Ulcers</td>\n      <td>tlg0627.tlg028</td>\n      <td>0</td>\n    </tr>\n    <tr>\n      <th>1067</th>\n      <td>Hippocrates</td>\n      <td>On Hemorrhoids</td>\n      <td>tlg0627.tlg029</td>\n      <td>0</td>\n    </tr>\n    <tr>\n      <th>769</th>\n      <td>Bacchylides</td>\n      <td>Odes (Greek) - Dith</td>\n      <td>tlg0199.tlg002</td>\n      <td>0</td>\n    </tr>\n    <tr>\n      <th>277</th>\n      <td>Demosthenes</td>\n      <td>πρὸς Βοιωτὸν περὶ προικὸς μητρῴας</td>\n      <td>tlg0014.tlg040</td>\n      <td>0</td>\n    </tr>\n    <tr>\n      <th>276</th>\n      <td>Demosthenes</td>\n      <td>πρὸς Βοιωτὸν περὶ τοῦ Ὀνόματος</td>\n      <td>tlg0014.tlg039</td>\n      <td>0</td>\n    </tr>\n    <tr>\n      <th>308</th>\n      <td>Isaeus</td>\n      <td>On the Estate of Philoctemon</td>\n      <td>tlg0017.tlg006</td>\n      <td>0</td>\n    </tr>\n    <tr>\n      <th>540</th>\n      <td>Plato</td>\n      <td>Theaetetus</td>\n      <td>tlg0059.tlg006</td>\n      <td>0</td>\n    </tr>\n    <tr>\n      <th>543</th>\n      <td>Plato</td>\n      <td>Parmenides</td>\n      <td>tlg0059.tlg009</td>\n      <td>0</td>\n    </tr>\n    <tr>\n      <th>351</th>\n      <td>Aristophanes</td>\n      <td>Birds</td>\n      <td>tlg0019.tlg006</td>\n      <td>0</td>\n    </tr>\n    <tr>\n      <th>186</th>\n      <td>Isocrates</td>\n      <td>To the Children of Jason</td>\n      <td>tlg0010.tlg023</td>\n      <td>0</td>\n    </tr>\n    <tr>\n      <th>547</th>\n      <td>Plato</td>\n      <td>Alcibiades 1</td>\n      <td>tlg0059.tlg013</td>\n      <td>0</td>\n    </tr>\n    <tr>\n      <th>549</th>\n      <td>Plato</td>\n      <td>Hipparchus</td>\n      <td>tlg0059.tlg015</td>\n      <td>0</td>\n    </tr>\n    <tr>\n      <th>551</th>\n      <td>Plato</td>\n      <td>Theages</td>\n      <td>tlg0059.tlg017</td>\n      <td>0</td>\n    </tr>\n    <tr>\n      <th>552</th>\n      <td>Plato</td>\n      <td>Charmides</td>\n      <td>tlg0059.tlg018</td>\n      <td>0</td>\n    </tr>\n    <tr>\n      <th>314</th>\n      <td>Isaeus</td>\n      <td>On Behalf of Euphiletus</td>\n      <td>tlg0017.tlg012</td>\n      <td>0</td>\n    </tr>\n    <tr>\n      <th>554</th>\n      <td>Plato</td>\n      <td>Lysis</td>\n      <td>tlg0059.tlg020</td>\n      <td>0</td>\n    </tr>\n    <tr>\n      <th>555</th>\n      <td>Plato</td>\n      <td>Euthydemus</td>\n      <td>tlg0059.tlg021</td>\n      <td>0</td>\n    </tr>\n    <tr>\n      <th>313</th>\n      <td>Isaeus</td>\n      <td>On the Estate of Hagnias</td>\n      <td>tlg0017.tlg011</td>\n      <td>0</td>\n    </tr>\n    <tr>\n      <th>312</th>\n      <td>Isaeus</td>\n      <td>On The Estate Of Aristarchus</td>\n      <td>tlg0017.tlg010</td>\n      <td>0</td>\n    </tr>\n    <tr>\n      <th>558</th>\n      <td>Plato</td>\n      <td>Meno</td>\n      <td>tlg0059.tlg024</td>\n      <td>0</td>\n    </tr>\n    <tr>\n      <th>559</th>\n      <td>Plato</td>\n      <td>Hippias Major</td>\n      <td>tlg0059.tlg025</td>\n      <td>0</td>\n    </tr>\n    <tr>\n      <th>311</th>\n      <td>Isaeus</td>\n      <td>On the Estate of Astyphilus</td>\n      <td>tlg0017.tlg009</td>\n      <td>0</td>\n    </tr>\n    <tr>\n      <th>561</th>\n      <td>Plato</td>\n      <td>Ion</td>\n      <td>tlg0059.tlg027</td>\n      <td>0</td>\n    </tr>\n    <tr>\n      <th>310</th>\n      <td>Isaeus</td>\n      <td>On The Estate of Ciron\\n</td>\n      <td>tlg0017.tlg008</td>\n      <td>0</td>\n    </tr>\n    <tr>\n      <th>563</th>\n      <td>Plato</td>\n      <td>Cleitophon</td>\n      <td>tlg0059.tlg029</td>\n      <td>0</td>\n    </tr>\n    <tr>\n      <th>185</th>\n      <td>Isocrates</td>\n      <td>To Dionysius</td>\n      <td>tlg0010.tlg022</td>\n      <td>0</td>\n    </tr>\n    <tr>\n      <th>309</th>\n      <td>Isaeus</td>\n      <td>On The Estate of Apollodorus</td>\n      <td>tlg0017.tlg007</td>\n      <td>0</td>\n    </tr>\n    <tr>\n      <th>539</th>\n      <td>Plato</td>\n      <td>Cratylus</td>\n      <td>tlg0059.tlg005</td>\n      <td>0</td>\n    </tr>\n    <tr>\n      <th>362</th>\n      <td>Aeschines</td>\n      <td>Against Timarchus</td>\n      <td>tlg0026.tlg001</td>\n      <td>0</td>\n    </tr>\n    <tr>\n      <th>537</th>\n      <td>Plato</td>\n      <td>Crito</td>\n      <td>tlg0059.tlg003</td>\n      <td>0</td>\n    </tr>\n    <tr>\n      <th>370</th>\n      <td>Antiphon</td>\n      <td>Prosecution Of The Stepmother For Poisoning</td>\n      <td>tlg0028.tlg001</td>\n      <td>0</td>\n    </tr>\n    <tr>\n      <th>381</th>\n      <td>Hyperides</td>\n      <td>Against Athenogenes</td>\n      <td>tlg0030.tlg003</td>\n      <td>0</td>\n    </tr>\n    <tr>\n      <th>380</th>\n      <td>Hyperides</td>\n      <td>Against Philippides</td>\n      <td>tlg0030.tlg002</td>\n      <td>0</td>\n    </tr>\n    <tr>\n      <th>379</th>\n      <td>Hyperides</td>\n      <td>In Defence of Lycophron</td>\n      <td>tlg0030.tlg001</td>\n      <td>0</td>\n    </tr>\n    <tr>\n      <th>375</th>\n      <td>Antiphon</td>\n      <td>On the Choreutes</td>\n      <td>tlg0028.tlg006</td>\n      <td>0</td>\n    </tr>\n    <tr>\n      <th>374</th>\n      <td>Antiphon</td>\n      <td>Περὶ τοῦ Ἡρῷδου φόνου</td>\n      <td>tlg0028.tlg005</td>\n      <td>0</td>\n    </tr>\n    <tr>\n      <th>373</th>\n      <td>Antiphon</td>\n      <td>The Third Tetralogy: Prosecution for Murder Of...</td>\n      <td>tlg0028.tlg004</td>\n      <td>0</td>\n    </tr>\n    <tr>\n      <th>193</th>\n      <td>Isocrates</td>\n      <td>To Philip, II</td>\n      <td>tlg0010.tlg030</td>\n      <td>0</td>\n    </tr>\n    <tr>\n      <th>192</th>\n      <td>Isocrates</td>\n      <td>To Antipater</td>\n      <td>tlg0010.tlg029</td>\n      <td>0</td>\n    </tr>\n    <tr>\n      <th>372</th>\n      <td>Antiphon</td>\n      <td>The Second Tetralogy: Prosecution for Accident...</td>\n      <td>tlg0028.tlg003</td>\n      <td>0</td>\n    </tr>\n    <tr>\n      <th>191</th>\n      <td>Isocrates</td>\n      <td>To Alexander</td>\n      <td>tlg0010.tlg028</td>\n      <td>0</td>\n    </tr>\n    <tr>\n      <th>363</th>\n      <td>Aeschines</td>\n      <td>The Speech on the Embassy</td>\n      <td>tlg0026.tlg002</td>\n      <td>0</td>\n    </tr>\n    <tr>\n      <th>190</th>\n      <td>Isocrates</td>\n      <td>To Philip, I</td>\n      <td>tlg0010.tlg027</td>\n      <td>0</td>\n    </tr>\n    <tr>\n      <th>189</th>\n      <td>Isocrates</td>\n      <td>To Timotheus</td>\n      <td>tlg0010.tlg026</td>\n      <td>0</td>\n    </tr>\n    <tr>\n      <th>368</th>\n      <td>Andocides</td>\n      <td>On the Peace with Sparta\\n</td>\n      <td>tlg0027.tlg003</td>\n      <td>0</td>\n    </tr>\n    <tr>\n      <th>188</th>\n      <td>Isocrates</td>\n      <td>To the Rulers of the Mytilenaeans</td>\n      <td>tlg0010.tlg025</td>\n      <td>0</td>\n    </tr>\n    <tr>\n      <th>187</th>\n      <td>Isocrates</td>\n      <td>To Archidamus</td>\n      <td>tlg0010.tlg024</td>\n      <td>0</td>\n    </tr>\n    <tr>\n      <th>367</th>\n      <td>Andocides</td>\n      <td>On His Return</td>\n      <td>tlg0027.tlg002</td>\n      <td>0</td>\n    </tr>\n    <tr>\n      <th>366</th>\n      <td>Andocides</td>\n      <td>On the Mysteries</td>\n      <td>tlg0027.tlg001</td>\n      <td>0</td>\n    </tr>\n    <tr>\n      <th>365</th>\n      <td>Aeschines [Sp.]</td>\n      <td>Ἐπιστολαί</td>\n      <td>tlg0026.tlg004</td>\n      <td>0</td>\n    </tr>\n    <tr>\n      <th>535</th>\n      <td>Plato</td>\n      <td>Euthyphro</td>\n      <td>tlg0059.tlg001</td>\n      <td>0</td>\n    </tr>\n    <tr>\n      <th>566</th>\n      <td>Plato</td>\n      <td>Critias</td>\n      <td>tlg0059.tlg032</td>\n      <td>0</td>\n    </tr>\n    <tr>\n      <th>307</th>\n      <td>Isaeus</td>\n      <td>On the Estate of Dicaeogenes</td>\n      <td>tlg0017.tlg005</td>\n      <td>0</td>\n    </tr>\n    <tr>\n      <th>719</th>\n      <td>Aristotle</td>\n      <td>Physica (textus alter)</td>\n      <td>tlg0086.tlg054</td>\n      <td>0</td>\n    </tr>\n    <tr>\n      <th>306</th>\n      <td>Isaeus</td>\n      <td>On the Estate of Nicostratus</td>\n      <td>tlg0017.tlg004</td>\n      <td>0</td>\n    </tr>\n    <tr>\n      <th>697</th>\n      <td>Aristotle</td>\n      <td>De interpretatione</td>\n      <td>tlg0086.tlg017</td>\n      <td>0</td>\n    </tr>\n    <tr>\n      <th>698</th>\n      <td>Aristotle</td>\n      <td>De iuventute et senectute, De vita et morte</td>\n      <td>tlg0086.tlg018</td>\n      <td>0</td>\n    </tr>\n    <tr>\n      <th>287</th>\n      <td>Demosthenes</td>\n      <td>πρὸς Πολυκλέα περὶ τοῦ ἐπιτριηραρχήματος</td>\n      <td>tlg0014.tlg050</td>\n      <td>0</td>\n    </tr>\n    <tr>\n      <th>286</th>\n      <td>Demosthenes</td>\n      <td>πρὸς Τιμόθεον ὑπὲρ χρέως</td>\n      <td>tlg0014.tlg049</td>\n      <td>0</td>\n    </tr>\n    <tr>\n      <th>285</th>\n      <td>Demosthenes</td>\n      <td>κατὰ Ὀλυμπιοδώρου βλάβης</td>\n      <td>tlg0014.tlg048</td>\n      <td>0</td>\n    </tr>\n    <tr>\n      <th>702</th>\n      <td>Aristotle</td>\n      <td>De memoria et reminiscentia</td>\n      <td>tlg0086.tlg024</td>\n      <td>0</td>\n    </tr>\n    <tr>\n      <th>284</th>\n      <td>Demosthenes</td>\n      <td>κατὰ Εὐέργου καὶ Μνησιβούλου ψευδομαρτυριῶν</td>\n      <td>tlg0014.tlg047</td>\n      <td>0</td>\n    </tr>\n    <tr>\n      <th>704</th>\n      <td>Aristotle</td>\n      <td>Meteorologica</td>\n      <td>tlg0086.tlg026</td>\n      <td>0</td>\n    </tr>\n    <tr>\n      <th>283</th>\n      <td>Demosthenes</td>\n      <td>κατὰ Στεφάνου ψευδομαρτυριῶν β΄</td>\n      <td>tlg0014.tlg046</td>\n      <td>0</td>\n    </tr>\n    <tr>\n      <th>282</th>\n      <td>Demosthenes</td>\n      <td>κατὰ Στεφάνου ψευδομαρτυριῶν α΄</td>\n      <td>tlg0014.tlg045</td>\n      <td>0</td>\n    </tr>\n    <tr>\n      <th>281</th>\n      <td>Demosthenes</td>\n      <td>πρὸς Λεωκάρη περὶ τοῦ Ἀρχιάδου κλήρου</td>\n      <td>tlg0014.tlg044</td>\n      <td>0</td>\n    </tr>\n    <tr>\n      <th>708</th>\n      <td>Aristotle</td>\n      <td>Ars Poetica</td>\n      <td>tlg0086.tlg034</td>\n      <td>0</td>\n    </tr>\n    <tr>\n      <th>280</th>\n      <td>Demosthenes</td>\n      <td>πρὸς Μακάρτατον περὶ Ἁγνίου κλήρου</td>\n      <td>tlg0014.tlg043</td>\n      <td>0</td>\n    </tr>\n    <tr>\n      <th>710</th>\n      <td>Aristotle</td>\n      <td>De respiratione</td>\n      <td>tlg0086.tlg037</td>\n      <td>0</td>\n    </tr>\n    <tr>\n      <th>278</th>\n      <td>Demosthenes</td>\n      <td>πρὸς Σπουδίαν ὑπὲρ προικός</td>\n      <td>tlg0014.tlg041</td>\n      <td>0</td>\n    </tr>\n    <tr>\n      <th>713</th>\n      <td>Aristotle</td>\n      <td>De sensu et sensibilibus</td>\n      <td>tlg0086.tlg041</td>\n      <td>0</td>\n    </tr>\n    <tr>\n      <th>714</th>\n      <td>Aristotle</td>\n      <td>De somno et vigilia</td>\n      <td>tlg0086.tlg042</td>\n      <td>0</td>\n    </tr>\n    <tr>\n      <th>715</th>\n      <td>Aristotle</td>\n      <td>De spiritu</td>\n      <td>tlg0086.tlg043</td>\n      <td>0</td>\n    </tr>\n    <tr>\n      <th>716</th>\n      <td>Aristotle</td>\n      <td>Topica</td>\n      <td>tlg0086.tlg044</td>\n      <td>0</td>\n    </tr>\n    <tr>\n      <th>383</th>\n      <td>Hyperides</td>\n      <td>Against Demosthenes</td>\n      <td>tlg0030.tlg005</td>\n      <td>0</td>\n    </tr>\n    <tr>\n      <th>718</th>\n      <td>Aristotle</td>\n      <td>De anima (codicis E fragmenta recensionis a vu...</td>\n      <td>tlg0086.tlg052</td>\n      <td>0</td>\n    </tr>\n    <tr>\n      <th>696</th>\n      <td>Aristotle</td>\n      <td>De insomniis</td>\n      <td>tlg0086.tlg016</td>\n      <td>0</td>\n    </tr>\n    <tr>\n      <th>695</th>\n      <td>Aristoteles</td>\n      <td>De animalium motione</td>\n      <td>tlg0086.tlg015</td>\n      <td>0</td>\n    </tr>\n    <tr>\n      <th>288</th>\n      <td>Demosthenes</td>\n      <td>περὶ τοῦ Στεφάνου τῆς τριηραρκίας</td>\n      <td>tlg0014.tlg051</td>\n      <td>0</td>\n    </tr>\n    <tr>\n      <th>294</th>\n      <td>Demosthenes</td>\n      <td>ἔφεσις πρὸς Εὐβουλίδην</td>\n      <td>tlg0014.tlg057</td>\n      <td>0</td>\n    </tr>\n    <tr>\n      <th>305</th>\n      <td>Isaeus</td>\n      <td>On The Estate Of Pyrrhus</td>\n      <td>tlg0017.tlg003</td>\n      <td>0</td>\n    </tr>\n    <tr>\n      <th>304</th>\n      <td>Isaeus</td>\n      <td>On the Estate of Menecles</td>\n      <td>tlg0017.tlg002</td>\n      <td>0</td>\n    </tr>\n    <tr>\n      <th>644</th>\n      <td>Hanno</td>\n      <td>Periplus Hannonis</td>\n      <td>tlg0064.tlg001</td>\n      <td>0</td>\n    </tr>\n    <tr>\n      <th>645</th>\n      <td>Scylax</td>\n      <td>Periplus Scylacis</td>\n      <td>tlg0065.tlg001</td>\n      <td>0</td>\n    </tr>\n    <tr>\n      <th>303</th>\n      <td>Isaeus</td>\n      <td>On The Estate of Cleonymus</td>\n      <td>tlg0017.tlg001</td>\n      <td>0</td>\n    </tr>\n    <tr>\n      <th>298</th>\n      <td>Demosthenes</td>\n      <td>ἐρωτικὸς</td>\n      <td>tlg0014.tlg061</td>\n      <td>0</td>\n    </tr>\n    <tr>\n      <th>297</th>\n      <td>Demosthenes</td>\n      <td>ἐπιτάφιος</td>\n      <td>tlg0014.tlg060</td>\n      <td>0</td>\n    </tr>\n    <tr>\n      <th>296</th>\n      <td>Demosthenes</td>\n      <td>κατὰ Νεαίρας</td>\n      <td>tlg0014.tlg059</td>\n      <td>0</td>\n    </tr>\n    <tr>\n      <th>295</th>\n      <td>Demosthenes</td>\n      <td>ἔνδειξις κατὰ Θεοκρίνου</td>\n      <td>tlg0014.tlg058</td>\n      <td>0</td>\n    </tr>\n    <tr>\n      <th>293</th>\n      <td>Demosthenes</td>\n      <td>κατὰ Διονυσοδώρου βλάβης</td>\n      <td>tlg0014.tlg056</td>\n      <td>0</td>\n    </tr>\n    <tr>\n      <th>693</th>\n      <td>Aristotle</td>\n      <td>De generatione et corruptione</td>\n      <td>tlg0086.tlg013</td>\n      <td>0</td>\n    </tr>\n    <tr>\n      <th>292</th>\n      <td>Demosthenes</td>\n      <td>πρὸς Καλλικλέα περὶ χωρίου βλάβης</td>\n      <td>tlg0014.tlg055</td>\n      <td>0</td>\n    </tr>\n    <tr>\n      <th>685</th>\n      <td>Aristotle</td>\n      <td>Aristotelis Analytica Priora et Posteriora</td>\n      <td>tlg0086.tlg001</td>\n      <td>0</td>\n    </tr>\n    <tr>\n      <th>686</th>\n      <td>Aristotle</td>\n      <td>De anima</td>\n      <td>tlg0086.tlg002</td>\n      <td>0</td>\n    </tr>\n    <tr>\n      <th>687</th>\n      <td>Aristotle</td>\n      <td>Athenian Constitution</td>\n      <td>tlg0086.tlg003</td>\n      <td>0</td>\n    </tr>\n    <tr>\n      <th>291</th>\n      <td>Demosthenes</td>\n      <td>κατὰ Κόνωνος αἰκείας</td>\n      <td>tlg0014.tlg054</td>\n      <td>0</td>\n    </tr>\n    <tr>\n      <th>689</th>\n      <td>Aristotle</td>\n      <td>Categoriae</td>\n      <td>tlg0086.tlg006</td>\n      <td>0</td>\n    </tr>\n    <tr>\n      <th>690</th>\n      <td>Aristotle</td>\n      <td>De divinatione per somnum</td>\n      <td>tlg0086.tlg008</td>\n      <td>0</td>\n    </tr>\n    <tr>\n      <th>290</th>\n      <td>Demosthenes</td>\n      <td>πρὸς Νικόστρατον περὶ ἀνδραπόδων ἀπογραφῆς Ἀρε...</td>\n      <td>tlg0014.tlg053</td>\n      <td>0</td>\n    </tr>\n    <tr>\n      <th>289</th>\n      <td>Demosthenes</td>\n      <td>πρὸς Κάλλιππον</td>\n      <td>tlg0014.tlg052</td>\n      <td>0</td>\n    </tr>\n    <tr>\n      <th>560</th>\n      <td>Plato</td>\n      <td>Hippias Minor</td>\n      <td>tlg0059.tlg026</td>\n      <td>0</td>\n    </tr>\n  </tbody>\n</table>\n</div>"
     },
     "execution_count": 21,
     "metadata": {},
     "output_type": "execute_result"
    }
   ],
   "source": [
    "cgl.sort_values(\"count_πόνο*\", ascending=False)[[\"author\", \"title\", \"doc_id\", \"count_πόνο*\"]]"
   ],
   "metadata": {
    "collapsed": false,
    "pycharm": {
     "name": "#%%\n"
    }
   }
  },
  {
   "cell_type": "code",
   "execution_count": 118,
   "outputs": [
    {
     "data": {
      "text/plain": "26"
     },
     "execution_count": 118,
     "metadata": {},
     "output_type": "execute_result"
    }
   ],
   "source": [
    "cgl[cgl[\"doc_id\"].isin(biological_ids)][\"conc_lype\"].apply(len).sum()"
   ],
   "metadata": {
    "collapsed": false,
    "pycharm": {
     "name": "#%%\n"
    }
   }
  },
  {
   "cell_type": "code",
   "execution_count": 119,
   "outputs": [
    {
     "data": {
      "text/plain": "58"
     },
     "execution_count": 119,
     "metadata": {},
     "output_type": "execute_result"
    }
   ],
   "source": [
    "cgl[cgl[\"doc_id\"].isin(medical_ids)][\"conc_lype\"].apply(len).sum()\n"
   ],
   "metadata": {
    "collapsed": false,
    "pycharm": {
     "name": "#%%\n"
    }
   }
  },
  {
   "cell_type": "code",
   "execution_count": 120,
   "outputs": [],
   "source": [
    "lype_author_ids = [el for ellist in cgl.apply(lambda row: [row[\"author_id\"] for conc in row[\"conc_lype\"]], axis=1) for el in ellist]\n",
    "lype_doc_ids = [el for ellist in cgl.apply(lambda row: [row[\"doc_id\"] for conc in row[\"conc_lype\"]], axis=1) for el in ellist]\n",
    "lype_doc_titles = [el for ellist in cgl.apply(lambda row: [row[\"title\"] for conc in row[\"conc_lype\"]], axis=1)  for el in ellist]\n",
    "lype_concs = [el for ellist in cgl[\"conc_lype\"] for el in ellist]\n",
    "lype_sents = [el for ellist in cgl[\"sentences_with_lype\"] for el in ellist]\n",
    "data = np.array([[word_index[w] for w in conc] for conc in lype_concs])"
   ],
   "metadata": {
    "collapsed": false,
    "pycharm": {
     "name": "#%%\n"
    }
   }
  },
  {
   "cell_type": "code",
   "execution_count": 121,
   "outputs": [
    {
     "data": {
      "text/plain": "1147"
     },
     "execution_count": 121,
     "metadata": {},
     "output_type": "execute_result"
    }
   ],
   "source": [
    "len(lype_sents)"
   ],
   "metadata": {
    "collapsed": false,
    "pycharm": {
     "name": "#%%\n"
    }
   }
  },
  {
   "cell_type": "code",
   "execution_count": 122,
   "outputs": [
    {
     "data": {
      "text/plain": "  author_id          doc_id                  title  \\\n0   tlg0003  tlg0003.tlg001  The Peloponnesian War   \n1   tlg0003  tlg0003.tlg001  The Peloponnesian War   \n2   tlg0003  tlg0003.tlg001  The Peloponnesian War   \n3   tlg0003  tlg0003.tlg001  The Peloponnesian War   \n4   tlg0003  tlg0003.tlg001  The Peloponnesian War   \n\n                                                conc  \\\n0  [χάρις, κατατίθημι, ναυτικός, κτέομαι, πολύς, ...   \n1  [ἄνθρωπος, πολύς, ἀρκέω, παρασκευή, δίκαιος, π...   \n2  [Πελοπόννησος, πόλις, ὠφέλιμος, καθίστημι, ἐξη...   \n3  [συμβαίνω, αἰτία, ἄλλος, ἀπόστασις, μέγας, φόρ...   \n4  [κοινός, πολιτεύω, ἡμέρα, ἐπιτήδευμα, ὑποψία, ...   \n\n                                                sent  \\\n0  τίς εὐπραξία σπανιωτέρα ἢ τίς τοῖς πολεμίοις λ...   \n1  ταύτης μέντοι τοιαύτης ἀντικαθεστηκυίας πόλεως...   \n2  καὶ εἰ τότε ὑπομείναντες διὰ παντὸς ἀπήχθεσθε ...   \n3  οἱ γὰρ Ἀθηναῖοι ἀκριβῶς ἔπρασσον καὶ λυπηροὶ ἦ...   \n4  ἐλευθέρως δὲ τά τε πρὸς τὸ κοινὸν πολιτεύομεν ...   \n\n                                            features  \n0  [193, 1264, 690, 421, 6, 452, 4380, 2096, 22, ...  \n1  [24, 6, 1125, 870, 56, 57, 189, 145, 89, 1, 20...  \n2  [711, 13, 812, 142, 2251, 529, 9, 1616, 31, 13...  \n3  [85, 127, 7, 1770, 18, 2150, 98, 5, 70, 57, 20...  \n4  [121, 1182, 66, 798, 2266, 494, 144, 222, 4, 3...  ",
      "text/html": "<div>\n<style scoped>\n    .dataframe tbody tr th:only-of-type {\n        vertical-align: middle;\n    }\n\n    .dataframe tbody tr th {\n        vertical-align: top;\n    }\n\n    .dataframe thead th {\n        text-align: right;\n    }\n</style>\n<table border=\"1\" class=\"dataframe\">\n  <thead>\n    <tr style=\"text-align: right;\">\n      <th></th>\n      <th>author_id</th>\n      <th>doc_id</th>\n      <th>title</th>\n      <th>conc</th>\n      <th>sent</th>\n      <th>features</th>\n    </tr>\n  </thead>\n  <tbody>\n    <tr>\n      <th>0</th>\n      <td>tlg0003</td>\n      <td>tlg0003.tlg001</td>\n      <td>The Peloponnesian War</td>\n      <td>[χάρις, κατατίθημι, ναυτικός, κτέομαι, πολύς, ...</td>\n      <td>τίς εὐπραξία σπανιωτέρα ἢ τίς τοῖς πολεμίοις λ...</td>\n      <td>[193, 1264, 690, 421, 6, 452, 4380, 2096, 22, ...</td>\n    </tr>\n    <tr>\n      <th>1</th>\n      <td>tlg0003</td>\n      <td>tlg0003.tlg001</td>\n      <td>The Peloponnesian War</td>\n      <td>[ἄνθρωπος, πολύς, ἀρκέω, παρασκευή, δίκαιος, π...</td>\n      <td>ταύτης μέντοι τοιαύτης ἀντικαθεστηκυίας πόλεως...</td>\n      <td>[24, 6, 1125, 870, 56, 57, 189, 145, 89, 1, 20...</td>\n    </tr>\n    <tr>\n      <th>2</th>\n      <td>tlg0003</td>\n      <td>tlg0003.tlg001</td>\n      <td>The Peloponnesian War</td>\n      <td>[Πελοπόννησος, πόλις, ὠφέλιμος, καθίστημι, ἐξη...</td>\n      <td>καὶ εἰ τότε ὑπομείναντες διὰ παντὸς ἀπήχθεσθε ...</td>\n      <td>[711, 13, 812, 142, 2251, 529, 9, 1616, 31, 13...</td>\n    </tr>\n    <tr>\n      <th>3</th>\n      <td>tlg0003</td>\n      <td>tlg0003.tlg001</td>\n      <td>The Peloponnesian War</td>\n      <td>[συμβαίνω, αἰτία, ἄλλος, ἀπόστασις, μέγας, φόρ...</td>\n      <td>οἱ γὰρ Ἀθηναῖοι ἀκριβῶς ἔπρασσον καὶ λυπηροὶ ἦ...</td>\n      <td>[85, 127, 7, 1770, 18, 2150, 98, 5, 70, 57, 20...</td>\n    </tr>\n    <tr>\n      <th>4</th>\n      <td>tlg0003</td>\n      <td>tlg0003.tlg001</td>\n      <td>The Peloponnesian War</td>\n      <td>[κοινός, πολιτεύω, ἡμέρα, ἐπιτήδευμα, ὑποψία, ...</td>\n      <td>ἐλευθέρως δὲ τά τε πρὸς τὸ κοινὸν πολιτεύομεν ...</td>\n      <td>[121, 1182, 66, 798, 2266, 494, 144, 222, 4, 3...</td>\n    </tr>\n  </tbody>\n</table>\n</div>"
     },
     "execution_count": 122,
     "metadata": {},
     "output_type": "execute_result"
    }
   ],
   "source": [
    "data_df = pd.DataFrame([lype_author_ids, lype_doc_ids, lype_doc_titles, lype_concs, lype_sents, data]).T\n",
    "data_df.columns = [\"author_id\", \"doc_id\", \"title\", \"conc\", \"sent\", \"features\"]\n",
    "data_df.head(5)"
   ],
   "metadata": {
    "collapsed": false,
    "pycharm": {
     "name": "#%%\n"
    }
   }
  },
  {
   "cell_type": "code",
   "execution_count": 125,
   "outputs": [],
   "source": [
    "# we work only with complete concordances:\n",
    "\n",
    "data_df = data_df[data_df[\"conc\"].apply(len)==data_df[\"conc\"].apply(len).max()].copy()"
   ],
   "metadata": {
    "collapsed": false,
    "pycharm": {
     "name": "#%%\n"
    }
   }
  },
  {
   "cell_type": "markdown",
   "source": [
    "# Focus on subsets"
   ],
   "metadata": {
    "collapsed": false,
    "pycharm": {
     "name": "#%% md\n"
    }
   }
  },
  {
   "cell_type": "code",
   "execution_count": 126,
   "outputs": [],
   "source": [
    "# two types of Aristotle's writings\n",
    "ethical_ids = [\"tlg0086.tlg009\", \"tlg0086.tlg010\", \"tlg0086.tlg022\", \"tlg0086.tlg035\", \"tlg0086.tlg038\",]\n",
    "\n",
    "biological_ids = [\"tlg0086.tlg002\", \"tlg0086.tlg004\", \"tlg0086.tlg007\", \"tlg0086.tlg008\", \"tlg0086.tlg012\", \"tlg0086.tlg014\", \"tlg0086.tlg015\", \"tlg0086.tlg016\", \"tlg0086.tlg018\", \"tlg0086.tlg020\", \"tlg0086.tlg021\", \"tlg0086.tlg24\", \"tlg0086.tlg030\", \"tlg0086.tlg032\", \"tlg0086.tlg037\", \"tlg0086.tlg042\", \"tlg0086.tlg043\"]\n",
    "\n",
    "historians_ids = cgl[cgl[\"author_id\"].isin([\"tlg0003\", \"tlg0016\", \"tlg0032\"])][\"doc_id\"].tolist()\n",
    "rhetorics_ids = cgl[cgl[\"author_id\"].isin([\"tlg0014\", \"tlg0010\", \"tlg0540\", \"tlg0030\", \"tlg0026\"])][\"doc_id\"].tolist()\n",
    "dramatists_ids = cgl[cgl[\"author_id\"].isin([\"tlg0006\", \"tlg0019\", \"tlg0011\", \"tlg0085\"])][\"doc_id\"].tolist()\n",
    "medical_ids = cgl[cgl[\"author_id\"].isin([\"tlg0627\"])][\"doc_id\"].tolist()\n",
    "plato_ids = cgl[cgl[\"author_id\"].isin( [\"tlg0059\"])][\"doc_id\"].tolist()"
   ],
   "metadata": {
    "collapsed": false,
    "pycharm": {
     "name": "#%%\n"
    }
   }
  },
  {
   "cell_type": "code",
   "execution_count": 126,
   "outputs": [],
   "source": [],
   "metadata": {
    "collapsed": false,
    "pycharm": {
     "name": "#%%\n"
    }
   }
  },
  {
   "cell_type": "code",
   "execution_count": 127,
   "outputs": [],
   "source": [
    "def get_classes_and_filter(doc_id, classes=[ethical_ids, medical_ids]):\n",
    "    onehot = np.zeros(len(classes))\n",
    "    for n in range(len(classes)):\n",
    "        if doc_id in classes[n]:\n",
    "            onehot[n] = 1\n",
    "    onehot = onehot.astype(int)\n",
    "    return onehot"
   ],
   "metadata": {
    "collapsed": false,
    "pycharm": {
     "name": "#%%\n"
    }
   }
  },
  {
   "cell_type": "code",
   "execution_count": 128,
   "outputs": [],
   "source": [
    "data_df[\"onehot\"] = data_df[\"doc_id\"].apply(get_classes_and_filter, classes=[ethical_ids, medical_ids])"
   ],
   "metadata": {
    "collapsed": false,
    "pycharm": {
     "name": "#%%\n"
    }
   }
  },
  {
   "cell_type": "code",
   "execution_count": 129,
   "outputs": [
    {
     "data": {
      "text/plain": "     author_id          doc_id                           title  \\\n0      tlg0003  tlg0003.tlg001           The Peloponnesian War   \n1      tlg0003  tlg0003.tlg001           The Peloponnesian War   \n2      tlg0003  tlg0003.tlg001           The Peloponnesian War   \n3      tlg0003  tlg0003.tlg001           The Peloponnesian War   \n4      tlg0003  tlg0003.tlg001           The Peloponnesian War   \n...        ...             ...                             ...   \n1140   tlg0627  tlg0627.tlg049                       De medico   \n1141   tlg0627  tlg0627.tlg049                       De medico   \n1144   tlg0627  tlg0627.tlg055  Epistulae, Decretum, Orationes   \n1145   tlg0627  tlg0627.tlg055  Epistulae, Decretum, Orationes   \n1146   tlg0627  tlg0627.tlg055  Epistulae, Decretum, Orationes   \n\n                                                   conc  \\\n0     [χάρις, κατατίθημι, ναυτικός, κτέομαι, πολύς, ...   \n1     [ἄνθρωπος, πολύς, ἀρκέω, παρασκευή, δίκαιος, π...   \n2     [Πελοπόννησος, πόλις, ὠφέλιμος, καθίστημι, ἐξη...   \n3     [συμβαίνω, αἰτία, ἄλλος, ἀπόστασις, μέγας, φόρ...   \n4     [κοινός, πολιτεύω, ἡμέρα, ἐπιτήδευμα, ὑποψία, ...   \n...                                                 ...   \n1140  [πολύς, σάρξ, ἄλλος, παραπλήσιος, κύκλος, μέγα...   \n1141  [ἀπέχω, τόπος, πλατύς, κύκλος, πολύς, ἄλλος, σ...   \n1144  [θνῄσκω, πᾶς, κακός, ἕκαστος, ὕλη, γέλως, ὑπόκ...   \n1145  [βίος, ἄτακτος, αὐτάρκης, ὑπάρχω, σύμπας, μετα...   \n1146  [γελάω, ναῦς, πολύς, θάλασσα, αὐτός, πλήρης, δ...   \n\n                                                   sent  \\\n0     τίς εὐπραξία σπανιωτέρα ἢ τίς τοῖς πολεμίοις λ...   \n1     ταύτης μέντοι τοιαύτης ἀντικαθεστηκυίας πόλεως...   \n2     καὶ εἰ τότε ὑπομείναντες διὰ παντὸς ἀπήχθεσθε ...   \n3     οἱ γὰρ Ἀθηναῖοι ἀκριβῶς ἔπρασσον καὶ λυπηροὶ ἦ...   \n4     ἐλευθέρως δὲ τά τε πρὸς τὸ κοινὸν πολιτεύομεν ...   \n...                                                 ...   \n1140  οὕτω γὰρ ἐκ πλείστων μερῶν εὑρήσεις ἄγουσαν ἐς...   \n1141  ἐπιπροσθεῖν οὖν ξυμβαίνει τὴν ἐντεῦθεν ἑλκομέν...   \n1144  Οὐ θεομαχεῖς δὲ, εἰ δύο ἐόντων ἐν κόσμῳ, χαρᾶς...   \n1145  Οἱ δʼ ὡς ἐπʼ ἀρηρυίῃ καὶ βεβαίῃ ἐκλελησμένοι π...   \n1146  ἐγὼ μὲν οὐδʼ ἀξίως δοκέω γελῇν, ἐξευρεῖν δὲ κα...   \n\n                                               features  onehot  \n0     [193, 1264, 690, 421, 6, 452, 4380, 2096, 22, ...  [0, 0]  \n1     [24, 6, 1125, 870, 56, 57, 189, 145, 89, 1, 20...  [0, 0]  \n2     [711, 13, 812, 142, 2251, 529, 9, 1616, 31, 13...  [0, 0]  \n3     [85, 127, 7, 1770, 18, 2150, 98, 5, 70, 57, 20...  [0, 0]  \n4     [121, 1182, 66, 798, 2266, 494, 144, 222, 4, 3...  [0, 0]  \n...                                                 ...     ...  \n1140  [6, 329, 7, 892, 281, 18, 6, 81, 158, 19, 208,...  [0, 1]  \n1141  [516, 129, 1374, 281, 6, 7, 329, 85, 2823, 139...  [0, 1]  \n1144  [867, 9, 42, 28, 326, 1307, 788, 1, 657, 3750,...  [0, 1]  \n1145  [137, 3601, 1916, 46, 446, 403, 320, 1651, 227...  [0, 1]  \n1146  [1237, 98, 6, 183, 8, 935, 16, 1036, 8, 91, 20...  [0, 1]  \n\n[1140 rows x 7 columns]",
      "text/html": "<div>\n<style scoped>\n    .dataframe tbody tr th:only-of-type {\n        vertical-align: middle;\n    }\n\n    .dataframe tbody tr th {\n        vertical-align: top;\n    }\n\n    .dataframe thead th {\n        text-align: right;\n    }\n</style>\n<table border=\"1\" class=\"dataframe\">\n  <thead>\n    <tr style=\"text-align: right;\">\n      <th></th>\n      <th>author_id</th>\n      <th>doc_id</th>\n      <th>title</th>\n      <th>conc</th>\n      <th>sent</th>\n      <th>features</th>\n      <th>onehot</th>\n    </tr>\n  </thead>\n  <tbody>\n    <tr>\n      <th>0</th>\n      <td>tlg0003</td>\n      <td>tlg0003.tlg001</td>\n      <td>The Peloponnesian War</td>\n      <td>[χάρις, κατατίθημι, ναυτικός, κτέομαι, πολύς, ...</td>\n      <td>τίς εὐπραξία σπανιωτέρα ἢ τίς τοῖς πολεμίοις λ...</td>\n      <td>[193, 1264, 690, 421, 6, 452, 4380, 2096, 22, ...</td>\n      <td>[0, 0]</td>\n    </tr>\n    <tr>\n      <th>1</th>\n      <td>tlg0003</td>\n      <td>tlg0003.tlg001</td>\n      <td>The Peloponnesian War</td>\n      <td>[ἄνθρωπος, πολύς, ἀρκέω, παρασκευή, δίκαιος, π...</td>\n      <td>ταύτης μέντοι τοιαύτης ἀντικαθεστηκυίας πόλεως...</td>\n      <td>[24, 6, 1125, 870, 56, 57, 189, 145, 89, 1, 20...</td>\n      <td>[0, 0]</td>\n    </tr>\n    <tr>\n      <th>2</th>\n      <td>tlg0003</td>\n      <td>tlg0003.tlg001</td>\n      <td>The Peloponnesian War</td>\n      <td>[Πελοπόννησος, πόλις, ὠφέλιμος, καθίστημι, ἐξη...</td>\n      <td>καὶ εἰ τότε ὑπομείναντες διὰ παντὸς ἀπήχθεσθε ...</td>\n      <td>[711, 13, 812, 142, 2251, 529, 9, 1616, 31, 13...</td>\n      <td>[0, 0]</td>\n    </tr>\n    <tr>\n      <th>3</th>\n      <td>tlg0003</td>\n      <td>tlg0003.tlg001</td>\n      <td>The Peloponnesian War</td>\n      <td>[συμβαίνω, αἰτία, ἄλλος, ἀπόστασις, μέγας, φόρ...</td>\n      <td>οἱ γὰρ Ἀθηναῖοι ἀκριβῶς ἔπρασσον καὶ λυπηροὶ ἦ...</td>\n      <td>[85, 127, 7, 1770, 18, 2150, 98, 5, 70, 57, 20...</td>\n      <td>[0, 0]</td>\n    </tr>\n    <tr>\n      <th>4</th>\n      <td>tlg0003</td>\n      <td>tlg0003.tlg001</td>\n      <td>The Peloponnesian War</td>\n      <td>[κοινός, πολιτεύω, ἡμέρα, ἐπιτήδευμα, ὑποψία, ...</td>\n      <td>ἐλευθέρως δὲ τά τε πρὸς τὸ κοινὸν πολιτεύομεν ...</td>\n      <td>[121, 1182, 66, 798, 2266, 494, 144, 222, 4, 3...</td>\n      <td>[0, 0]</td>\n    </tr>\n    <tr>\n      <th>...</th>\n      <td>...</td>\n      <td>...</td>\n      <td>...</td>\n      <td>...</td>\n      <td>...</td>\n      <td>...</td>\n      <td>...</td>\n    </tr>\n    <tr>\n      <th>1140</th>\n      <td>tlg0627</td>\n      <td>tlg0627.tlg049</td>\n      <td>De medico</td>\n      <td>[πολύς, σάρξ, ἄλλος, παραπλήσιος, κύκλος, μέγα...</td>\n      <td>οὕτω γὰρ ἐκ πλείστων μερῶν εὑρήσεις ἄγουσαν ἐς...</td>\n      <td>[6, 329, 7, 892, 281, 18, 6, 81, 158, 19, 208,...</td>\n      <td>[0, 1]</td>\n    </tr>\n    <tr>\n      <th>1141</th>\n      <td>tlg0627</td>\n      <td>tlg0627.tlg049</td>\n      <td>De medico</td>\n      <td>[ἀπέχω, τόπος, πλατύς, κύκλος, πολύς, ἄλλος, σ...</td>\n      <td>ἐπιπροσθεῖν οὖν ξυμβαίνει τὴν ἐντεῦθεν ἑλκομέν...</td>\n      <td>[516, 129, 1374, 281, 6, 7, 329, 85, 2823, 139...</td>\n      <td>[0, 1]</td>\n    </tr>\n    <tr>\n      <th>1144</th>\n      <td>tlg0627</td>\n      <td>tlg0627.tlg055</td>\n      <td>Epistulae, Decretum, Orationes</td>\n      <td>[θνῄσκω, πᾶς, κακός, ἕκαστος, ὕλη, γέλως, ὑπόκ...</td>\n      <td>Οὐ θεομαχεῖς δὲ, εἰ δύο ἐόντων ἐν κόσμῳ, χαρᾶς...</td>\n      <td>[867, 9, 42, 28, 326, 1307, 788, 1, 657, 3750,...</td>\n      <td>[0, 1]</td>\n    </tr>\n    <tr>\n      <th>1145</th>\n      <td>tlg0627</td>\n      <td>tlg0627.tlg055</td>\n      <td>Epistulae, Decretum, Orationes</td>\n      <td>[βίος, ἄτακτος, αὐτάρκης, ὑπάρχω, σύμπας, μετα...</td>\n      <td>Οἱ δʼ ὡς ἐπʼ ἀρηρυίῃ καὶ βεβαίῃ ἐκλελησμένοι π...</td>\n      <td>[137, 3601, 1916, 46, 446, 403, 320, 1651, 227...</td>\n      <td>[0, 1]</td>\n    </tr>\n    <tr>\n      <th>1146</th>\n      <td>tlg0627</td>\n      <td>tlg0627.tlg055</td>\n      <td>Epistulae, Decretum, Orationes</td>\n      <td>[γελάω, ναῦς, πολύς, θάλασσα, αὐτός, πλήρης, δ...</td>\n      <td>ἐγὼ μὲν οὐδʼ ἀξίως δοκέω γελῇν, ἐξευρεῖν δὲ κα...</td>\n      <td>[1237, 98, 6, 183, 8, 935, 16, 1036, 8, 91, 20...</td>\n      <td>[0, 1]</td>\n    </tr>\n  </tbody>\n</table>\n<p>1140 rows × 7 columns</p>\n</div>"
     },
     "execution_count": 129,
     "metadata": {},
     "output_type": "execute_result"
    }
   ],
   "source": [
    "data_df"
   ],
   "metadata": {
    "collapsed": false,
    "pycharm": {
     "name": "#%%\n"
    }
   }
  },
  {
   "cell_type": "code",
   "execution_count": 130,
   "outputs": [],
   "source": [
    "subset = data_df[data_df[\"onehot\"].apply(sum)>0]"
   ],
   "metadata": {
    "collapsed": false,
    "pycharm": {
     "name": "#%%\n"
    }
   }
  },
  {
   "cell_type": "code",
   "execution_count": 175,
   "outputs": [],
   "source": [
    "# randomized index\n",
    "indices = np.arange(len(subset))\n",
    "np.random.seed(1)\n",
    "np.random.shuffle(indices)"
   ],
   "metadata": {
    "collapsed": false,
    "pycharm": {
     "name": "#%%\n"
    }
   }
  },
  {
   "cell_type": "code",
   "execution_count": 176,
   "outputs": [
    {
     "data": {
      "text/plain": "array([162, 300, 400, 117,  80, 201, 389, 268,  29,  62])"
     },
     "execution_count": 176,
     "metadata": {},
     "output_type": "execute_result"
    }
   ],
   "source": [
    "indices[:10]"
   ],
   "metadata": {
    "collapsed": false,
    "pycharm": {
     "name": "#%%\n"
    }
   }
  },
  {
   "cell_type": "code",
   "execution_count": 177,
   "outputs": [],
   "source": [
    "# reshuffle dataframe:\n",
    "subset = subset.iloc[indices]"
   ],
   "metadata": {
    "collapsed": false,
    "pycharm": {
     "name": "#%%\n"
    }
   }
  },
  {
   "cell_type": "code",
   "execution_count": 178,
   "outputs": [
    {
     "data": {
      "text/plain": "                   0          1         2         3         4         5    \\\nεἰμί         40.921943  23.975110  6.083791  1.724597  0.787708  1.395476   \nοὗτος        40.370998  23.444483  5.179671  1.611451  0.341264  1.735556   \nλέγω         39.001855  22.120811  3.711950  0.918392  1.452316  0.077037   \nἔχω          39.804302  23.024422  6.199601  2.275942  0.625015  1.243543   \nγίγνομαι     39.347879  22.489298  5.427730  1.608740 -0.299176  1.453300   \n...                ...        ...       ...       ...       ...       ...   \nκύαθος        2.306894  -1.252014  1.967848  0.639823 -0.830738  1.400087   \nσκυτεύς       2.426349  -1.921372  0.401636 -0.442950 -0.050278  0.079601   \nπαραμίγνυμι   2.460930  -1.073599  2.207248  0.563545 -0.814028  1.938490   \nὀφθαλμία      1.968229  -1.475017  1.460325 -0.047004 -0.329035  0.401820   \nκριτία        3.024949  -2.190102 -0.413723 -0.793175  0.007401  0.291926   \n\n                   6         7         8         9    ...       140       141  \\\nεἰμί         10.085121 -3.512090 -2.466157 -0.479203  ...  0.135525  0.116194   \nοὗτος         9.830402 -3.353345 -2.345492 -0.181414  ...  0.139695  0.078060   \nλέγω          9.391213 -2.759150 -2.398183  0.214704  ... -0.031307  0.068023   \nἔχω           9.147309 -3.485462 -2.581793 -0.275819  ...  0.024101  0.063533   \nγίγνομαι      8.521668 -3.282159 -2.755167 -0.361946  ...  0.017706  0.150147   \n...                ...       ...       ...       ...  ...       ...       ...   \nκύαθος        0.623265 -0.022984  1.364765 -1.015133  ...  0.029445  0.035054   \nσκυτεύς       1.183014 -0.539222  0.169868  0.727299  ... -0.379041  0.069706   \nπαραμίγνυμι   0.646300 -0.572682  2.623897 -1.114314  ... -0.005971 -0.170639   \nὀφθαλμία      0.145133 -0.578576 -0.902634  0.095910  ... -0.229633 -0.162759   \nκριτία        0.928121 -0.831658  0.027614  0.053107  ...  0.076820  0.334096   \n\n                  142       143       144       145       146       147  \\\nεἰμί         0.038779  0.028518  0.048852  0.063003 -0.006917 -0.285075   \nοὗτος        0.127660  0.069392  0.060385  0.249957  0.070054 -0.194425   \nλέγω         0.000057  0.069156  0.111072  0.038494  0.002585 -0.019338   \nἔχω          0.134114  0.179058  0.043486  0.113336 -0.036198 -0.342098   \nγίγνομαι    -0.100498  0.024932 -0.241511  0.180704 -0.044182 -0.225451   \n...               ...       ...       ...       ...       ...       ...   \nκύαθος      -0.064084 -0.022086 -0.026919 -0.029758 -0.059165  0.081717   \nσκυτεύς      0.277146  0.071542 -0.010878  0.112946 -0.114023  0.315502   \nπαραμίγνυμι -0.140238  0.136425  0.311922  0.270307 -0.047148 -0.198601   \nὀφθαλμία    -0.336879 -0.035314  0.135483 -0.145982  0.128570 -0.032265   \nκριτία       0.122024  0.005462 -0.073365  0.084474 -0.021100 -0.041049   \n\n                  148       149  \nεἰμί         0.083432  0.050213  \nοὗτος       -0.004014  0.040241  \nλέγω         0.269553 -0.130885  \nἔχω          0.209940 -0.073624  \nγίγνομαι    -0.009623  0.082624  \n...               ...       ...  \nκύαθος       0.070341  0.065586  \nσκυτεύς     -0.062303 -0.036280  \nπαραμίγνυμι -0.085457  0.311602  \nὀφθαλμία    -0.125454 -0.178760  \nκριτία      -0.171185 -0.437135  \n\n[5000 rows x 150 columns]",
      "text/html": "<div>\n<style scoped>\n    .dataframe tbody tr th:only-of-type {\n        vertical-align: middle;\n    }\n\n    .dataframe tbody tr th {\n        vertical-align: top;\n    }\n\n    .dataframe thead th {\n        text-align: right;\n    }\n</style>\n<table border=\"1\" class=\"dataframe\">\n  <thead>\n    <tr style=\"text-align: right;\">\n      <th></th>\n      <th>0</th>\n      <th>1</th>\n      <th>2</th>\n      <th>3</th>\n      <th>4</th>\n      <th>5</th>\n      <th>6</th>\n      <th>7</th>\n      <th>8</th>\n      <th>9</th>\n      <th>...</th>\n      <th>140</th>\n      <th>141</th>\n      <th>142</th>\n      <th>143</th>\n      <th>144</th>\n      <th>145</th>\n      <th>146</th>\n      <th>147</th>\n      <th>148</th>\n      <th>149</th>\n    </tr>\n  </thead>\n  <tbody>\n    <tr>\n      <th>εἰμί</th>\n      <td>40.921943</td>\n      <td>23.975110</td>\n      <td>6.083791</td>\n      <td>1.724597</td>\n      <td>0.787708</td>\n      <td>1.395476</td>\n      <td>10.085121</td>\n      <td>-3.512090</td>\n      <td>-2.466157</td>\n      <td>-0.479203</td>\n      <td>...</td>\n      <td>0.135525</td>\n      <td>0.116194</td>\n      <td>0.038779</td>\n      <td>0.028518</td>\n      <td>0.048852</td>\n      <td>0.063003</td>\n      <td>-0.006917</td>\n      <td>-0.285075</td>\n      <td>0.083432</td>\n      <td>0.050213</td>\n    </tr>\n    <tr>\n      <th>οὗτος</th>\n      <td>40.370998</td>\n      <td>23.444483</td>\n      <td>5.179671</td>\n      <td>1.611451</td>\n      <td>0.341264</td>\n      <td>1.735556</td>\n      <td>9.830402</td>\n      <td>-3.353345</td>\n      <td>-2.345492</td>\n      <td>-0.181414</td>\n      <td>...</td>\n      <td>0.139695</td>\n      <td>0.078060</td>\n      <td>0.127660</td>\n      <td>0.069392</td>\n      <td>0.060385</td>\n      <td>0.249957</td>\n      <td>0.070054</td>\n      <td>-0.194425</td>\n      <td>-0.004014</td>\n      <td>0.040241</td>\n    </tr>\n    <tr>\n      <th>λέγω</th>\n      <td>39.001855</td>\n      <td>22.120811</td>\n      <td>3.711950</td>\n      <td>0.918392</td>\n      <td>1.452316</td>\n      <td>0.077037</td>\n      <td>9.391213</td>\n      <td>-2.759150</td>\n      <td>-2.398183</td>\n      <td>0.214704</td>\n      <td>...</td>\n      <td>-0.031307</td>\n      <td>0.068023</td>\n      <td>0.000057</td>\n      <td>0.069156</td>\n      <td>0.111072</td>\n      <td>0.038494</td>\n      <td>0.002585</td>\n      <td>-0.019338</td>\n      <td>0.269553</td>\n      <td>-0.130885</td>\n    </tr>\n    <tr>\n      <th>ἔχω</th>\n      <td>39.804302</td>\n      <td>23.024422</td>\n      <td>6.199601</td>\n      <td>2.275942</td>\n      <td>0.625015</td>\n      <td>1.243543</td>\n      <td>9.147309</td>\n      <td>-3.485462</td>\n      <td>-2.581793</td>\n      <td>-0.275819</td>\n      <td>...</td>\n      <td>0.024101</td>\n      <td>0.063533</td>\n      <td>0.134114</td>\n      <td>0.179058</td>\n      <td>0.043486</td>\n      <td>0.113336</td>\n      <td>-0.036198</td>\n      <td>-0.342098</td>\n      <td>0.209940</td>\n      <td>-0.073624</td>\n    </tr>\n    <tr>\n      <th>γίγνομαι</th>\n      <td>39.347879</td>\n      <td>22.489298</td>\n      <td>5.427730</td>\n      <td>1.608740</td>\n      <td>-0.299176</td>\n      <td>1.453300</td>\n      <td>8.521668</td>\n      <td>-3.282159</td>\n      <td>-2.755167</td>\n      <td>-0.361946</td>\n      <td>...</td>\n      <td>0.017706</td>\n      <td>0.150147</td>\n      <td>-0.100498</td>\n      <td>0.024932</td>\n      <td>-0.241511</td>\n      <td>0.180704</td>\n      <td>-0.044182</td>\n      <td>-0.225451</td>\n      <td>-0.009623</td>\n      <td>0.082624</td>\n    </tr>\n    <tr>\n      <th>...</th>\n      <td>...</td>\n      <td>...</td>\n      <td>...</td>\n      <td>...</td>\n      <td>...</td>\n      <td>...</td>\n      <td>...</td>\n      <td>...</td>\n      <td>...</td>\n      <td>...</td>\n      <td>...</td>\n      <td>...</td>\n      <td>...</td>\n      <td>...</td>\n      <td>...</td>\n      <td>...</td>\n      <td>...</td>\n      <td>...</td>\n      <td>...</td>\n      <td>...</td>\n      <td>...</td>\n    </tr>\n    <tr>\n      <th>κύαθος</th>\n      <td>2.306894</td>\n      <td>-1.252014</td>\n      <td>1.967848</td>\n      <td>0.639823</td>\n      <td>-0.830738</td>\n      <td>1.400087</td>\n      <td>0.623265</td>\n      <td>-0.022984</td>\n      <td>1.364765</td>\n      <td>-1.015133</td>\n      <td>...</td>\n      <td>0.029445</td>\n      <td>0.035054</td>\n      <td>-0.064084</td>\n      <td>-0.022086</td>\n      <td>-0.026919</td>\n      <td>-0.029758</td>\n      <td>-0.059165</td>\n      <td>0.081717</td>\n      <td>0.070341</td>\n      <td>0.065586</td>\n    </tr>\n    <tr>\n      <th>σκυτεύς</th>\n      <td>2.426349</td>\n      <td>-1.921372</td>\n      <td>0.401636</td>\n      <td>-0.442950</td>\n      <td>-0.050278</td>\n      <td>0.079601</td>\n      <td>1.183014</td>\n      <td>-0.539222</td>\n      <td>0.169868</td>\n      <td>0.727299</td>\n      <td>...</td>\n      <td>-0.379041</td>\n      <td>0.069706</td>\n      <td>0.277146</td>\n      <td>0.071542</td>\n      <td>-0.010878</td>\n      <td>0.112946</td>\n      <td>-0.114023</td>\n      <td>0.315502</td>\n      <td>-0.062303</td>\n      <td>-0.036280</td>\n    </tr>\n    <tr>\n      <th>παραμίγνυμι</th>\n      <td>2.460930</td>\n      <td>-1.073599</td>\n      <td>2.207248</td>\n      <td>0.563545</td>\n      <td>-0.814028</td>\n      <td>1.938490</td>\n      <td>0.646300</td>\n      <td>-0.572682</td>\n      <td>2.623897</td>\n      <td>-1.114314</td>\n      <td>...</td>\n      <td>-0.005971</td>\n      <td>-0.170639</td>\n      <td>-0.140238</td>\n      <td>0.136425</td>\n      <td>0.311922</td>\n      <td>0.270307</td>\n      <td>-0.047148</td>\n      <td>-0.198601</td>\n      <td>-0.085457</td>\n      <td>0.311602</td>\n    </tr>\n    <tr>\n      <th>ὀφθαλμία</th>\n      <td>1.968229</td>\n      <td>-1.475017</td>\n      <td>1.460325</td>\n      <td>-0.047004</td>\n      <td>-0.329035</td>\n      <td>0.401820</td>\n      <td>0.145133</td>\n      <td>-0.578576</td>\n      <td>-0.902634</td>\n      <td>0.095910</td>\n      <td>...</td>\n      <td>-0.229633</td>\n      <td>-0.162759</td>\n      <td>-0.336879</td>\n      <td>-0.035314</td>\n      <td>0.135483</td>\n      <td>-0.145982</td>\n      <td>0.128570</td>\n      <td>-0.032265</td>\n      <td>-0.125454</td>\n      <td>-0.178760</td>\n    </tr>\n    <tr>\n      <th>κριτία</th>\n      <td>3.024949</td>\n      <td>-2.190102</td>\n      <td>-0.413723</td>\n      <td>-0.793175</td>\n      <td>0.007401</td>\n      <td>0.291926</td>\n      <td>0.928121</td>\n      <td>-0.831658</td>\n      <td>0.027614</td>\n      <td>0.053107</td>\n      <td>...</td>\n      <td>0.076820</td>\n      <td>0.334096</td>\n      <td>0.122024</td>\n      <td>0.005462</td>\n      <td>-0.073365</td>\n      <td>0.084474</td>\n      <td>-0.021100</td>\n      <td>-0.041049</td>\n      <td>-0.171185</td>\n      <td>-0.437135</td>\n    </tr>\n  </tbody>\n</table>\n<p>5000 rows × 150 columns</p>\n</div>"
     },
     "execution_count": 178,
     "metadata": {},
     "output_type": "execute_result"
    }
   ],
   "source": [
    "cgl_embeddings[3]"
   ],
   "metadata": {
    "collapsed": false,
    "pycharm": {
     "name": "#%%\n"
    }
   }
  },
  {
   "cell_type": "code",
   "execution_count": 179,
   "outputs": [],
   "source": [
    "training_samples = int(len(subset) * 0.6)\n",
    "test_samples = int(len(subset) * 0.2)\n",
    "\n",
    "train_ind = indices[:training_samples]\n",
    "val_ind = indices[training_samples:-test_samples]\n",
    "test_ind = indices[-test_samples:]\n",
    "\n",
    "df_train = subset.iloc[train_ind]\n",
    "df_val = subset.iloc[val_ind]\n",
    "df_test = subset.iloc[test_ind]"
   ],
   "metadata": {
    "collapsed": false,
    "pycharm": {
     "name": "#%%\n"
    }
   }
  },
  {
   "cell_type": "code",
   "execution_count": 180,
   "outputs": [
    {
     "data": {
      "text/plain": "                   0          1         2         3         4         5    \\\nεἰμί         40.921943  23.975110  6.083791  1.724597  0.787708  1.395476   \nοὗτος        40.370998  23.444483  5.179671  1.611451  0.341264  1.735556   \nλέγω         39.001855  22.120811  3.711950  0.918392  1.452316  0.077037   \nἔχω          39.804302  23.024422  6.199601  2.275942  0.625015  1.243543   \nγίγνομαι     39.347879  22.489298  5.427730  1.608740 -0.299176  1.453300   \n...                ...        ...       ...       ...       ...       ...   \nκύαθος        2.306894  -1.252014  1.967848  0.639823 -0.830738  1.400087   \nσκυτεύς       2.426349  -1.921372  0.401636 -0.442950 -0.050278  0.079601   \nπαραμίγνυμι   2.460930  -1.073599  2.207248  0.563545 -0.814028  1.938490   \nὀφθαλμία      1.968229  -1.475017  1.460325 -0.047004 -0.329035  0.401820   \nκριτία        3.024949  -2.190102 -0.413723 -0.793175  0.007401  0.291926   \n\n                   6         7         8         9    ...       140       141  \\\nεἰμί         10.085121 -3.512090 -2.466157 -0.479203  ...  0.135525  0.116194   \nοὗτος         9.830402 -3.353345 -2.345492 -0.181414  ...  0.139695  0.078060   \nλέγω          9.391213 -2.759150 -2.398183  0.214704  ... -0.031307  0.068023   \nἔχω           9.147309 -3.485462 -2.581793 -0.275819  ...  0.024101  0.063533   \nγίγνομαι      8.521668 -3.282159 -2.755167 -0.361946  ...  0.017706  0.150147   \n...                ...       ...       ...       ...  ...       ...       ...   \nκύαθος        0.623265 -0.022984  1.364765 -1.015133  ...  0.029445  0.035054   \nσκυτεύς       1.183014 -0.539222  0.169868  0.727299  ... -0.379041  0.069706   \nπαραμίγνυμι   0.646300 -0.572682  2.623897 -1.114314  ... -0.005971 -0.170639   \nὀφθαλμία      0.145133 -0.578576 -0.902634  0.095910  ... -0.229633 -0.162759   \nκριτία        0.928121 -0.831658  0.027614  0.053107  ...  0.076820  0.334096   \n\n                  142       143       144       145       146       147  \\\nεἰμί         0.038779  0.028518  0.048852  0.063003 -0.006917 -0.285075   \nοὗτος        0.127660  0.069392  0.060385  0.249957  0.070054 -0.194425   \nλέγω         0.000057  0.069156  0.111072  0.038494  0.002585 -0.019338   \nἔχω          0.134114  0.179058  0.043486  0.113336 -0.036198 -0.342098   \nγίγνομαι    -0.100498  0.024932 -0.241511  0.180704 -0.044182 -0.225451   \n...               ...       ...       ...       ...       ...       ...   \nκύαθος      -0.064084 -0.022086 -0.026919 -0.029758 -0.059165  0.081717   \nσκυτεύς      0.277146  0.071542 -0.010878  0.112946 -0.114023  0.315502   \nπαραμίγνυμι -0.140238  0.136425  0.311922  0.270307 -0.047148 -0.198601   \nὀφθαλμία    -0.336879 -0.035314  0.135483 -0.145982  0.128570 -0.032265   \nκριτία       0.122024  0.005462 -0.073365  0.084474 -0.021100 -0.041049   \n\n                  148       149  \nεἰμί         0.083432  0.050213  \nοὗτος       -0.004014  0.040241  \nλέγω         0.269553 -0.130885  \nἔχω          0.209940 -0.073624  \nγίγνομαι    -0.009623  0.082624  \n...               ...       ...  \nκύαθος       0.070341  0.065586  \nσκυτεύς     -0.062303 -0.036280  \nπαραμίγνυμι -0.085457  0.311602  \nὀφθαλμία    -0.125454 -0.178760  \nκριτία      -0.171185 -0.437135  \n\n[5000 rows x 150 columns]",
      "text/html": "<div>\n<style scoped>\n    .dataframe tbody tr th:only-of-type {\n        vertical-align: middle;\n    }\n\n    .dataframe tbody tr th {\n        vertical-align: top;\n    }\n\n    .dataframe thead th {\n        text-align: right;\n    }\n</style>\n<table border=\"1\" class=\"dataframe\">\n  <thead>\n    <tr style=\"text-align: right;\">\n      <th></th>\n      <th>0</th>\n      <th>1</th>\n      <th>2</th>\n      <th>3</th>\n      <th>4</th>\n      <th>5</th>\n      <th>6</th>\n      <th>7</th>\n      <th>8</th>\n      <th>9</th>\n      <th>...</th>\n      <th>140</th>\n      <th>141</th>\n      <th>142</th>\n      <th>143</th>\n      <th>144</th>\n      <th>145</th>\n      <th>146</th>\n      <th>147</th>\n      <th>148</th>\n      <th>149</th>\n    </tr>\n  </thead>\n  <tbody>\n    <tr>\n      <th>εἰμί</th>\n      <td>40.921943</td>\n      <td>23.975110</td>\n      <td>6.083791</td>\n      <td>1.724597</td>\n      <td>0.787708</td>\n      <td>1.395476</td>\n      <td>10.085121</td>\n      <td>-3.512090</td>\n      <td>-2.466157</td>\n      <td>-0.479203</td>\n      <td>...</td>\n      <td>0.135525</td>\n      <td>0.116194</td>\n      <td>0.038779</td>\n      <td>0.028518</td>\n      <td>0.048852</td>\n      <td>0.063003</td>\n      <td>-0.006917</td>\n      <td>-0.285075</td>\n      <td>0.083432</td>\n      <td>0.050213</td>\n    </tr>\n    <tr>\n      <th>οὗτος</th>\n      <td>40.370998</td>\n      <td>23.444483</td>\n      <td>5.179671</td>\n      <td>1.611451</td>\n      <td>0.341264</td>\n      <td>1.735556</td>\n      <td>9.830402</td>\n      <td>-3.353345</td>\n      <td>-2.345492</td>\n      <td>-0.181414</td>\n      <td>...</td>\n      <td>0.139695</td>\n      <td>0.078060</td>\n      <td>0.127660</td>\n      <td>0.069392</td>\n      <td>0.060385</td>\n      <td>0.249957</td>\n      <td>0.070054</td>\n      <td>-0.194425</td>\n      <td>-0.004014</td>\n      <td>0.040241</td>\n    </tr>\n    <tr>\n      <th>λέγω</th>\n      <td>39.001855</td>\n      <td>22.120811</td>\n      <td>3.711950</td>\n      <td>0.918392</td>\n      <td>1.452316</td>\n      <td>0.077037</td>\n      <td>9.391213</td>\n      <td>-2.759150</td>\n      <td>-2.398183</td>\n      <td>0.214704</td>\n      <td>...</td>\n      <td>-0.031307</td>\n      <td>0.068023</td>\n      <td>0.000057</td>\n      <td>0.069156</td>\n      <td>0.111072</td>\n      <td>0.038494</td>\n      <td>0.002585</td>\n      <td>-0.019338</td>\n      <td>0.269553</td>\n      <td>-0.130885</td>\n    </tr>\n    <tr>\n      <th>ἔχω</th>\n      <td>39.804302</td>\n      <td>23.024422</td>\n      <td>6.199601</td>\n      <td>2.275942</td>\n      <td>0.625015</td>\n      <td>1.243543</td>\n      <td>9.147309</td>\n      <td>-3.485462</td>\n      <td>-2.581793</td>\n      <td>-0.275819</td>\n      <td>...</td>\n      <td>0.024101</td>\n      <td>0.063533</td>\n      <td>0.134114</td>\n      <td>0.179058</td>\n      <td>0.043486</td>\n      <td>0.113336</td>\n      <td>-0.036198</td>\n      <td>-0.342098</td>\n      <td>0.209940</td>\n      <td>-0.073624</td>\n    </tr>\n    <tr>\n      <th>γίγνομαι</th>\n      <td>39.347879</td>\n      <td>22.489298</td>\n      <td>5.427730</td>\n      <td>1.608740</td>\n      <td>-0.299176</td>\n      <td>1.453300</td>\n      <td>8.521668</td>\n      <td>-3.282159</td>\n      <td>-2.755167</td>\n      <td>-0.361946</td>\n      <td>...</td>\n      <td>0.017706</td>\n      <td>0.150147</td>\n      <td>-0.100498</td>\n      <td>0.024932</td>\n      <td>-0.241511</td>\n      <td>0.180704</td>\n      <td>-0.044182</td>\n      <td>-0.225451</td>\n      <td>-0.009623</td>\n      <td>0.082624</td>\n    </tr>\n    <tr>\n      <th>...</th>\n      <td>...</td>\n      <td>...</td>\n      <td>...</td>\n      <td>...</td>\n      <td>...</td>\n      <td>...</td>\n      <td>...</td>\n      <td>...</td>\n      <td>...</td>\n      <td>...</td>\n      <td>...</td>\n      <td>...</td>\n      <td>...</td>\n      <td>...</td>\n      <td>...</td>\n      <td>...</td>\n      <td>...</td>\n      <td>...</td>\n      <td>...</td>\n      <td>...</td>\n      <td>...</td>\n    </tr>\n    <tr>\n      <th>κύαθος</th>\n      <td>2.306894</td>\n      <td>-1.252014</td>\n      <td>1.967848</td>\n      <td>0.639823</td>\n      <td>-0.830738</td>\n      <td>1.400087</td>\n      <td>0.623265</td>\n      <td>-0.022984</td>\n      <td>1.364765</td>\n      <td>-1.015133</td>\n      <td>...</td>\n      <td>0.029445</td>\n      <td>0.035054</td>\n      <td>-0.064084</td>\n      <td>-0.022086</td>\n      <td>-0.026919</td>\n      <td>-0.029758</td>\n      <td>-0.059165</td>\n      <td>0.081717</td>\n      <td>0.070341</td>\n      <td>0.065586</td>\n    </tr>\n    <tr>\n      <th>σκυτεύς</th>\n      <td>2.426349</td>\n      <td>-1.921372</td>\n      <td>0.401636</td>\n      <td>-0.442950</td>\n      <td>-0.050278</td>\n      <td>0.079601</td>\n      <td>1.183014</td>\n      <td>-0.539222</td>\n      <td>0.169868</td>\n      <td>0.727299</td>\n      <td>...</td>\n      <td>-0.379041</td>\n      <td>0.069706</td>\n      <td>0.277146</td>\n      <td>0.071542</td>\n      <td>-0.010878</td>\n      <td>0.112946</td>\n      <td>-0.114023</td>\n      <td>0.315502</td>\n      <td>-0.062303</td>\n      <td>-0.036280</td>\n    </tr>\n    <tr>\n      <th>παραμίγνυμι</th>\n      <td>2.460930</td>\n      <td>-1.073599</td>\n      <td>2.207248</td>\n      <td>0.563545</td>\n      <td>-0.814028</td>\n      <td>1.938490</td>\n      <td>0.646300</td>\n      <td>-0.572682</td>\n      <td>2.623897</td>\n      <td>-1.114314</td>\n      <td>...</td>\n      <td>-0.005971</td>\n      <td>-0.170639</td>\n      <td>-0.140238</td>\n      <td>0.136425</td>\n      <td>0.311922</td>\n      <td>0.270307</td>\n      <td>-0.047148</td>\n      <td>-0.198601</td>\n      <td>-0.085457</td>\n      <td>0.311602</td>\n    </tr>\n    <tr>\n      <th>ὀφθαλμία</th>\n      <td>1.968229</td>\n      <td>-1.475017</td>\n      <td>1.460325</td>\n      <td>-0.047004</td>\n      <td>-0.329035</td>\n      <td>0.401820</td>\n      <td>0.145133</td>\n      <td>-0.578576</td>\n      <td>-0.902634</td>\n      <td>0.095910</td>\n      <td>...</td>\n      <td>-0.229633</td>\n      <td>-0.162759</td>\n      <td>-0.336879</td>\n      <td>-0.035314</td>\n      <td>0.135483</td>\n      <td>-0.145982</td>\n      <td>0.128570</td>\n      <td>-0.032265</td>\n      <td>-0.125454</td>\n      <td>-0.178760</td>\n    </tr>\n    <tr>\n      <th>κριτία</th>\n      <td>3.024949</td>\n      <td>-2.190102</td>\n      <td>-0.413723</td>\n      <td>-0.793175</td>\n      <td>0.007401</td>\n      <td>0.291926</td>\n      <td>0.928121</td>\n      <td>-0.831658</td>\n      <td>0.027614</td>\n      <td>0.053107</td>\n      <td>...</td>\n      <td>0.076820</td>\n      <td>0.334096</td>\n      <td>0.122024</td>\n      <td>0.005462</td>\n      <td>-0.073365</td>\n      <td>0.084474</td>\n      <td>-0.021100</td>\n      <td>-0.041049</td>\n      <td>-0.171185</td>\n      <td>-0.437135</td>\n    </tr>\n  </tbody>\n</table>\n<p>5000 rows × 150 columns</p>\n</div>"
     },
     "execution_count": 180,
     "metadata": {},
     "output_type": "execute_result"
    }
   ],
   "source": [
    "# check embeddings\n",
    "embedding_matrix = cgl_embeddings[3]\n",
    "embedding_matrix"
   ],
   "metadata": {
    "collapsed": false,
    "pycharm": {
     "name": "#%%\n"
    }
   }
  },
  {
   "cell_type": "code",
   "execution_count": 181,
   "outputs": [
    {
     "name": "stdout",
     "output_type": "stream",
     "text": [
      "Model: \"sequential_8\"\n",
      "_________________________________________________________________\n",
      " Layer (type)                Output Shape              Param #   \n",
      "=================================================================\n",
      " embedding_8 (Embedding)     (None, 21, 150)           750000    \n",
      "                                                                 \n",
      " flatten_8 (Flatten)         (None, 3150)              0         \n",
      "                                                                 \n",
      " dense_17 (Dense)            (None, 3150)              9925650   \n",
      "                                                                 \n",
      " dense_18 (Dense)            (None, 1575)              4962825   \n",
      "                                                                 \n",
      " dense_19 (Dense)            (None, 2)                 3152      \n",
      "                                                                 \n",
      "=================================================================\n",
      "Total params: 15,641,627\n",
      "Trainable params: 15,641,627\n",
      "Non-trainable params: 0\n",
      "_________________________________________________________________\n",
      "Epoch 1/10\n",
      "16/16 [==============================] - 2s 74ms/step - loss: 4.2803 - acc: 0.7884 - val_loss: 1.3946 - val_acc: 0.8025\n",
      "Epoch 2/10\n",
      "16/16 [==============================] - 1s 69ms/step - loss: 0.1076 - acc: 0.9710 - val_loss: 2.9333 - val_acc: 0.8025\n",
      "Epoch 3/10\n",
      "16/16 [==============================] - 1s 82ms/step - loss: 0.0594 - acc: 0.9793 - val_loss: 2.5443 - val_acc: 0.7901\n",
      "Epoch 4/10\n",
      "16/16 [==============================] - 1s 74ms/step - loss: 2.9606e-04 - acc: 1.0000 - val_loss: 2.5279 - val_acc: 0.7901\n",
      "Epoch 5/10\n",
      "16/16 [==============================] - 1s 76ms/step - loss: 6.6603e-05 - acc: 1.0000 - val_loss: 2.6228 - val_acc: 0.7901\n",
      "Epoch 6/10\n",
      "16/16 [==============================] - 1s 67ms/step - loss: 2.6787e-05 - acc: 1.0000 - val_loss: 2.6713 - val_acc: 0.7901\n",
      "Epoch 7/10\n",
      "16/16 [==============================] - 1s 71ms/step - loss: 1.1352e-05 - acc: 1.0000 - val_loss: 2.8094 - val_acc: 0.8025\n",
      "Epoch 8/10\n",
      "16/16 [==============================] - 1s 76ms/step - loss: 3.3500e-06 - acc: 1.0000 - val_loss: 3.0566 - val_acc: 0.8025\n",
      "Epoch 9/10\n",
      "16/16 [==============================] - 1s 77ms/step - loss: 9.6005e-07 - acc: 1.0000 - val_loss: 3.2613 - val_acc: 0.8025\n",
      "Epoch 10/10\n",
      "16/16 [==============================] - 1s 74ms/step - loss: 3.2577e-07 - acc: 1.0000 - val_loss: 3.2802 - val_acc: 0.8025\n"
     ]
    }
   ],
   "source": [
    "model = Sequential()\n",
    "model.add(Embedding(5000,  150, input_length=21))\n",
    "model.add(Flatten())\n",
    "model.add(Dense(21*150, activation='relu'))\n",
    "model.add(Dense(21*75, activation='relu'))\n",
    "model.add(Dense(2, activation='sigmoid'))\n",
    "model.summary()\n",
    "\n",
    "model.layers[0].set_weights([embedding_matrix])\n",
    "model.layers[0].trainable = False\n",
    "\n",
    "model.compile(optimizer='rmsprop',\n",
    "              loss='binary_crossentropy',\n",
    "              metrics=[\"acc\"])\n",
    "history = model.fit(np.array(df_train[\"features\"].tolist()),\n",
    "                    np.array(df_train[\"onehot\"].tolist()),\n",
    "                    epochs=10,\n",
    "                    batch_size=16,\n",
    "                    validation_data=(np.array(df_val[\"features\"].tolist()), np.array(df_val[\"onehot\"].tolist())\n",
    "                                     ))\n",
    "model.save_weights('pre_trained_glove_model.h5')"
   ],
   "metadata": {
    "collapsed": false,
    "pycharm": {
     "name": "#%%\n"
    }
   }
  },
  {
   "cell_type": "code",
   "execution_count": 182,
   "outputs": [],
   "source": [
    "test_predict = model.predict(np.array(df_test[\"features\"].tolist())).round().astype(int)"
   ],
   "metadata": {
    "collapsed": false,
    "pycharm": {
     "name": "#%%\n"
    }
   }
  },
  {
   "cell_type": "code",
   "execution_count": 183,
   "outputs": [
    {
     "data": {
      "text/plain": "array([[1, 0],\n       [1, 0],\n       [1, 0],\n       [1, 0],\n       [1, 0],\n       [1, 0],\n       [1, 0],\n       [1, 0],\n       [1, 0],\n       [1, 0],\n       [1, 0],\n       [1, 0],\n       [1, 0],\n       [1, 0],\n       [1, 0],\n       [1, 0],\n       [1, 0],\n       [1, 0],\n       [1, 0],\n       [1, 0],\n       [1, 0],\n       [1, 0],\n       [1, 0],\n       [1, 0],\n       [1, 0],\n       [1, 0],\n       [1, 0],\n       [1, 0],\n       [1, 0],\n       [1, 0],\n       [1, 0],\n       [1, 0],\n       [1, 0],\n       [1, 0],\n       [1, 0],\n       [1, 0],\n       [1, 0],\n       [1, 0],\n       [1, 0],\n       [1, 0],\n       [1, 0],\n       [1, 0],\n       [1, 0],\n       [1, 0],\n       [1, 0],\n       [1, 0],\n       [1, 0],\n       [1, 0],\n       [1, 0],\n       [1, 0],\n       [1, 0],\n       [1, 0],\n       [1, 0],\n       [1, 0],\n       [1, 0],\n       [1, 0],\n       [1, 0],\n       [1, 0],\n       [1, 0],\n       [1, 0],\n       [1, 0],\n       [1, 0],\n       [1, 0],\n       [1, 0],\n       [1, 0],\n       [1, 0],\n       [1, 0],\n       [1, 0],\n       [1, 0],\n       [1, 0],\n       [1, 0],\n       [1, 0],\n       [1, 0],\n       [1, 0],\n       [1, 0],\n       [1, 0],\n       [1, 0],\n       [1, 0],\n       [1, 0],\n       [1, 0]])"
     },
     "execution_count": 183,
     "metadata": {},
     "output_type": "execute_result"
    }
   ],
   "source": [
    "test_predict"
   ],
   "metadata": {
    "collapsed": false,
    "pycharm": {
     "name": "#%%\n"
    }
   }
  },
  {
   "cell_type": "code",
   "execution_count": 174,
   "outputs": [
    {
     "data": {
      "text/plain": "80"
     },
     "execution_count": 174,
     "metadata": {},
     "output_type": "execute_result"
    }
   ],
   "source": [
    "len(test_predict)"
   ],
   "metadata": {
    "collapsed": false,
    "pycharm": {
     "name": "#%%\n"
    }
   }
  },
  {
   "cell_type": "code",
   "execution_count": 166,
   "outputs": [
    {
     "data": {
      "text/plain": "array([[9.999e-01, 1.000e-04],\n       [1.000e+00, 0.000e+00],\n       [1.000e+00, 0.000e+00],\n       [1.000e+00, 0.000e+00],\n       [1.000e+00, 0.000e+00],\n       [1.000e+00, 0.000e+00],\n       [1.000e+00, 0.000e+00],\n       [1.000e+00, 0.000e+00],\n       [1.000e+00, 0.000e+00],\n       [1.000e+00, 0.000e+00],\n       [9.958e-01, 3.000e-03],\n       [1.000e+00, 0.000e+00],\n       [1.000e+00, 0.000e+00],\n       [9.992e-01, 1.000e-03],\n       [1.000e+00, 0.000e+00],\n       [1.000e+00, 0.000e+00],\n       [1.000e+00, 0.000e+00],\n       [1.000e+00, 0.000e+00],\n       [1.000e+00, 0.000e+00],\n       [1.000e+00, 0.000e+00],\n       [1.000e+00, 0.000e+00],\n       [1.000e+00, 0.000e+00],\n       [9.994e-01, 5.000e-04],\n       [1.000e+00, 0.000e+00],\n       [1.000e+00, 0.000e+00],\n       [1.000e+00, 0.000e+00],\n       [9.999e-01, 0.000e+00],\n       [1.000e+00, 0.000e+00],\n       [1.000e+00, 0.000e+00],\n       [1.000e+00, 0.000e+00],\n       [1.000e+00, 0.000e+00],\n       [1.000e+00, 0.000e+00],\n       [7.714e-01, 2.364e-01],\n       [9.826e-01, 3.960e-02],\n       [1.000e+00, 0.000e+00],\n       [1.000e+00, 0.000e+00],\n       [1.000e+00, 0.000e+00],\n       [1.000e+00, 0.000e+00],\n       [1.000e+00, 0.000e+00],\n       [1.000e+00, 0.000e+00],\n       [1.000e+00, 0.000e+00],\n       [1.000e+00, 0.000e+00],\n       [1.000e+00, 0.000e+00],\n       [1.000e+00, 0.000e+00],\n       [9.999e-01, 1.000e-04],\n       [1.000e+00, 0.000e+00],\n       [1.000e+00, 0.000e+00],\n       [9.997e-01, 4.000e-04],\n       [1.000e+00, 0.000e+00],\n       [1.000e+00, 0.000e+00],\n       [1.000e+00, 0.000e+00],\n       [1.000e+00, 0.000e+00],\n       [1.000e+00, 0.000e+00],\n       [1.000e+00, 0.000e+00],\n       [1.000e+00, 0.000e+00],\n       [1.000e+00, 0.000e+00],\n       [1.000e+00, 0.000e+00],\n       [1.000e+00, 0.000e+00],\n       [1.000e+00, 0.000e+00],\n       [1.000e+00, 0.000e+00],\n       [9.999e-01, 1.000e-04],\n       [1.000e+00, 0.000e+00],\n       [1.000e+00, 0.000e+00],\n       [1.000e+00, 0.000e+00],\n       [1.000e+00, 0.000e+00],\n       [1.000e+00, 0.000e+00],\n       [1.000e+00, 0.000e+00],\n       [1.000e+00, 0.000e+00],\n       [1.000e+00, 0.000e+00],\n       [1.000e+00, 0.000e+00],\n       [9.973e-01, 2.500e-03],\n       [1.000e+00, 0.000e+00],\n       [1.000e+00, 0.000e+00],\n       [1.000e+00, 0.000e+00],\n       [1.000e+00, 0.000e+00],\n       [1.000e+00, 0.000e+00],\n       [9.886e-01, 1.850e-02],\n       [1.000e+00, 0.000e+00],\n       [1.000e+00, 0.000e+00],\n       [1.000e+00, 0.000e+00]], dtype=float32)"
     },
     "execution_count": 166,
     "metadata": {},
     "output_type": "execute_result"
    }
   ],
   "source": [
    "test_predict"
   ],
   "metadata": {
    "collapsed": false,
    "pycharm": {
     "name": "#%%\n"
    }
   }
  },
  {
   "cell_type": "code",
   "execution_count": 186,
   "outputs": [
    {
     "name": "stderr",
     "output_type": "stream",
     "text": [
      "/var/folders/zg/zvg9y3rs7j527jxfq9sc2xqc0000gn/T/ipykernel_1997/1387548860.py:1: SettingWithCopyWarning: \n",
      "A value is trying to be set on a copy of a slice from a DataFrame.\n",
      "Try using .loc[row_indexer,col_indexer] = value instead\n",
      "\n",
      "See the caveats in the documentation: https://pandas.pydata.org/pandas-docs/stable/user_guide/indexing.html#returning-a-view-versus-a-copy\n",
      "  df_test[\"predict_round\"] = [el for el in test_predict]\n"
     ]
    }
   ],
   "source": [
    "df_test[\"predict_round\"] = [el for el in test_predict]"
   ],
   "metadata": {
    "collapsed": false,
    "pycharm": {
     "name": "#%%\n"
    }
   }
  },
  {
   "cell_type": "code",
   "execution_count": 187,
   "outputs": [
    {
     "data": {
      "text/plain": "     author_id          doc_id  \\\n1094   tlg0627  tlg0627.tlg001   \n1139   tlg0627  tlg0627.tlg049   \n952    tlg0086  tlg0086.tlg022   \n721    tlg0086  tlg0086.tlg009   \n784    tlg0086  tlg0086.tlg010   \n...        ...             ...   \n813    tlg0086  tlg0086.tlg010   \n860    tlg0086  tlg0086.tlg010   \n685    tlg0086  tlg0086.tlg009   \n773    tlg0086  tlg0086.tlg010   \n899    tlg0086  tlg0086.tlg010   \n\n                                               title  \\\n1094                             On Ancient Medicine   \n1139                                       De medico   \n952                                    Magna Moralia   \n721   Eudemian Ethics (Greek). Machine readable text   \n784                               Nicomachean Ethics   \n...                                              ...   \n813                               Nicomachean Ethics   \n860                               Nicomachean Ethics   \n685   Eudemian Ethics (Greek). Machine readable text   \n773                               Nicomachean Ethics   \n899                               Nicomachean Ethics   \n\n                                                   conc  \\\n1094  [δριμύς, ἀφίημι, τοιοῦτος, ῥώννυμι, νόσημα, πα...   \n1139  [χρῆσις, εἰμί, ἀμφότεροι, εἷς, χρή, ποιέω, ταχ...   \n952   [εἰμί, ἀρετή, πάθος, πάθος, λύπ*, ἡδονή, μέσος...   \n721   [ἐρῶ, βελτίων, διορίζω, φοβερός, λέγω, ποιητικ...   \n784   [ἀπάτη, ἡδονή, ἔοικα, γίγνομαι, εἰμί, ἀγαθός, ...   \n...                                                 ...   \n813   [ὀργιζόμενοι, δεῖ, ἠλίθιος, δοκέω, εἰμί, δεῖ, ...   \n860   [πολύς, λύπ*, φύσις, πόνο*, ζώιον, μαρτύρομαι,...   \n685   [δῆλος, οὗτος, διαίρεσις, πάθος, δύναμις, ἔχω,...   \n773   [λέγω, μέσος, ὑπερβάλλω, πᾶς, μηδείς, ἀναίσχυν...   \n899   [ἕτερος, εἶδος, διαφέρω, εἶδος, εὔλογος, εἰμί,...   \n\n                                                   sent  \\\n1094  ὅταν δὲ παχύτερα καὶ πεπαίτερα γένηται καὶ πάσ...   \n1139  ἐπεὶ γὰρ συμβαίνει τοὺς τεμνομένους πονέειν, τ...   \n952       δῆλον οὖν ὡς καὶ ἡ ἀρετὴ μετὰ λύπης ἢ ἡδονῆς.   \n721   τοιαῦτα δʼ ἐστὶν ὅσα φαίνεται ποιητικὰ λύπης φ...   \n784   αἱροῦνται οὖν τὸ ἡδὺ ὡς ἀγαθόν, τὴν δὲ λύπην ὡ...   \n...                                                 ...   \n813   δοκεῖ γὰρ οὐκ αἰσθάνεσθαι οὐδὲ λυπεῖσθαι, μὴ ὀ...   \n860   ἀεὶ γὰρ πονεῖ τὸ ζῷον, ὥσπερ καὶ οἱ φυσιολόγοι...   \n685   αἱ μὲν γὰρ δυνάμεις καὶ αἱ ἕξεις τῶν παθημάτων...   \n773   νέμεσις δὲ μεσότης φθόνου καὶ ἐπιχαιρεκακίας, ...   \n899   τὰ γὰρ αὐτὰ τοὺς μὲν τέρπει τοὺς δὲ λυπεῖ, καὶ...   \n\n                                               features  onehot predict_round  \n1094  [1384, 243, 17, 3838, 718, 635, 3695, 5, 288, ...  [0, 1]        [1, 0]  \n1139  [1087, 1, 173, 61, 50, 10, 109, 1042, 85, 143,...  [0, 1]        [1, 0]  \n952   [1, 97, 227, 227, 208, 144, 111, 1, 89, 97, 20...  [1, 0]        [1, 0]  \n721   [210, 200, 1177, 888, 3, 797, 377, 17, 40, 797...  [1, 0]        [1, 0]  \n784   [1735, 144, 93, 5, 1, 21, 40, 149, 195, 21, 20...  [1, 0]        [1, 0]  \n...                                                 ...     ...           ...  \n813   [4599, 19, 3002, 16, 1, 19, 466, 19, 16, 283, ...  [1, 0]        [1, 0]  \n860   [6, 208, 44, 143, 417, 1846, 29, 51, 468, 1, 2...  [1, 0]        [1, 0]  \n685   [89, 2, 1042, 227, 79, 4, 79, 4, 939, 227, 208...  [1, 0]        [1, 0]  \n773   [3, 111, 717, 9, 55, 3028, 111, 1624, 1091, 1,...  [1, 0]        [1, 0]  \n899   [25, 117, 128, 117, 1491, 1, 1948, 99, 24, 272...  [1, 0]        [1, 0]  \n\n[80 rows x 8 columns]",
      "text/html": "<div>\n<style scoped>\n    .dataframe tbody tr th:only-of-type {\n        vertical-align: middle;\n    }\n\n    .dataframe tbody tr th {\n        vertical-align: top;\n    }\n\n    .dataframe thead th {\n        text-align: right;\n    }\n</style>\n<table border=\"1\" class=\"dataframe\">\n  <thead>\n    <tr style=\"text-align: right;\">\n      <th></th>\n      <th>author_id</th>\n      <th>doc_id</th>\n      <th>title</th>\n      <th>conc</th>\n      <th>sent</th>\n      <th>features</th>\n      <th>onehot</th>\n      <th>predict_round</th>\n    </tr>\n  </thead>\n  <tbody>\n    <tr>\n      <th>1094</th>\n      <td>tlg0627</td>\n      <td>tlg0627.tlg001</td>\n      <td>On Ancient Medicine</td>\n      <td>[δριμύς, ἀφίημι, τοιοῦτος, ῥώννυμι, νόσημα, πα...</td>\n      <td>ὅταν δὲ παχύτερα καὶ πεπαίτερα γένηται καὶ πάσ...</td>\n      <td>[1384, 243, 17, 3838, 718, 635, 3695, 5, 288, ...</td>\n      <td>[0, 1]</td>\n      <td>[1, 0]</td>\n    </tr>\n    <tr>\n      <th>1139</th>\n      <td>tlg0627</td>\n      <td>tlg0627.tlg049</td>\n      <td>De medico</td>\n      <td>[χρῆσις, εἰμί, ἀμφότεροι, εἷς, χρή, ποιέω, ταχ...</td>\n      <td>ἐπεὶ γὰρ συμβαίνει τοὺς τεμνομένους πονέειν, τ...</td>\n      <td>[1087, 1, 173, 61, 50, 10, 109, 1042, 85, 143,...</td>\n      <td>[0, 1]</td>\n      <td>[1, 0]</td>\n    </tr>\n    <tr>\n      <th>952</th>\n      <td>tlg0086</td>\n      <td>tlg0086.tlg022</td>\n      <td>Magna Moralia</td>\n      <td>[εἰμί, ἀρετή, πάθος, πάθος, λύπ*, ἡδονή, μέσος...</td>\n      <td>δῆλον οὖν ὡς καὶ ἡ ἀρετὴ μετὰ λύπης ἢ ἡδονῆς.</td>\n      <td>[1, 97, 227, 227, 208, 144, 111, 1, 89, 97, 20...</td>\n      <td>[1, 0]</td>\n      <td>[1, 0]</td>\n    </tr>\n    <tr>\n      <th>721</th>\n      <td>tlg0086</td>\n      <td>tlg0086.tlg009</td>\n      <td>Eudemian Ethics (Greek). Machine readable text</td>\n      <td>[ἐρῶ, βελτίων, διορίζω, φοβερός, λέγω, ποιητικ...</td>\n      <td>τοιαῦτα δʼ ἐστὶν ὅσα φαίνεται ποιητικὰ λύπης φ...</td>\n      <td>[210, 200, 1177, 888, 3, 797, 377, 17, 40, 797...</td>\n      <td>[1, 0]</td>\n      <td>[1, 0]</td>\n    </tr>\n    <tr>\n      <th>784</th>\n      <td>tlg0086</td>\n      <td>tlg0086.tlg010</td>\n      <td>Nicomachean Ethics</td>\n      <td>[ἀπάτη, ἡδονή, ἔοικα, γίγνομαι, εἰμί, ἀγαθός, ...</td>\n      <td>αἱροῦνται οὖν τὸ ἡδὺ ὡς ἀγαθόν, τὴν δὲ λύπην ὡ...</td>\n      <td>[1735, 144, 93, 5, 1, 21, 40, 149, 195, 21, 20...</td>\n      <td>[1, 0]</td>\n      <td>[1, 0]</td>\n    </tr>\n    <tr>\n      <th>...</th>\n      <td>...</td>\n      <td>...</td>\n      <td>...</td>\n      <td>...</td>\n      <td>...</td>\n      <td>...</td>\n      <td>...</td>\n      <td>...</td>\n    </tr>\n    <tr>\n      <th>813</th>\n      <td>tlg0086</td>\n      <td>tlg0086.tlg010</td>\n      <td>Nicomachean Ethics</td>\n      <td>[ὀργιζόμενοι, δεῖ, ἠλίθιος, δοκέω, εἰμί, δεῖ, ...</td>\n      <td>δοκεῖ γὰρ οὐκ αἰσθάνεσθαι οὐδὲ λυπεῖσθαι, μὴ ὀ...</td>\n      <td>[4599, 19, 3002, 16, 1, 19, 466, 19, 16, 283, ...</td>\n      <td>[1, 0]</td>\n      <td>[1, 0]</td>\n    </tr>\n    <tr>\n      <th>860</th>\n      <td>tlg0086</td>\n      <td>tlg0086.tlg010</td>\n      <td>Nicomachean Ethics</td>\n      <td>[πολύς, λύπ*, φύσις, πόνο*, ζώιον, μαρτύρομαι,...</td>\n      <td>ἀεὶ γὰρ πονεῖ τὸ ζῷον, ὥσπερ καὶ οἱ φυσιολόγοι...</td>\n      <td>[6, 208, 44, 143, 417, 1846, 29, 51, 468, 1, 2...</td>\n      <td>[1, 0]</td>\n      <td>[1, 0]</td>\n    </tr>\n    <tr>\n      <th>685</th>\n      <td>tlg0086</td>\n      <td>tlg0086.tlg009</td>\n      <td>Eudemian Ethics (Greek). Machine readable text</td>\n      <td>[δῆλος, οὗτος, διαίρεσις, πάθος, δύναμις, ἔχω,...</td>\n      <td>αἱ μὲν γὰρ δυνάμεις καὶ αἱ ἕξεις τῶν παθημάτων...</td>\n      <td>[89, 2, 1042, 227, 79, 4, 79, 4, 939, 227, 208...</td>\n      <td>[1, 0]</td>\n      <td>[1, 0]</td>\n    </tr>\n    <tr>\n      <th>773</th>\n      <td>tlg0086</td>\n      <td>tlg0086.tlg010</td>\n      <td>Nicomachean Ethics</td>\n      <td>[λέγω, μέσος, ὑπερβάλλω, πᾶς, μηδείς, ἀναίσχυν...</td>\n      <td>νέμεσις δὲ μεσότης φθόνου καὶ ἐπιχαιρεκακίας, ...</td>\n      <td>[3, 111, 717, 9, 55, 3028, 111, 1624, 1091, 1,...</td>\n      <td>[1, 0]</td>\n      <td>[1, 0]</td>\n    </tr>\n    <tr>\n      <th>899</th>\n      <td>tlg0086</td>\n      <td>tlg0086.tlg010</td>\n      <td>Nicomachean Ethics</td>\n      <td>[ἕτερος, εἶδος, διαφέρω, εἶδος, εὔλογος, εἰμί,...</td>\n      <td>τὰ γὰρ αὐτὰ τοὺς μὲν τέρπει τοὺς δὲ λυπεῖ, καὶ...</td>\n      <td>[25, 117, 128, 117, 1491, 1, 1948, 99, 24, 272...</td>\n      <td>[1, 0]</td>\n      <td>[1, 0]</td>\n    </tr>\n  </tbody>\n</table>\n<p>80 rows × 8 columns</p>\n</div>"
     },
     "execution_count": 187,
     "metadata": {},
     "output_type": "execute_result"
    }
   ],
   "source": [
    "df_test"
   ],
   "metadata": {
    "collapsed": false,
    "pycharm": {
     "name": "#%%\n"
    }
   }
  },
  {
   "cell_type": "code",
   "execution_count": 194,
   "outputs": [
    {
     "data": {
      "text/plain": "0.8625"
     },
     "execution_count": 194,
     "metadata": {},
     "output_type": "execute_result"
    }
   ],
   "source": [
    "accuracy_score([el[0] for el in df_test[\"onehot\"].tolist()], [el[0] for el in df_test[\"predict_round\"].tolist()])"
   ],
   "metadata": {
    "collapsed": false,
    "pycharm": {
     "name": "#%%\n"
    }
   }
  },
  {
   "cell_type": "code",
   "execution_count": 197,
   "outputs": [
    {
     "data": {
      "text/plain": "0.5"
     },
     "execution_count": 197,
     "metadata": {},
     "output_type": "execute_result"
    }
   ],
   "source": [
    "balanced_accuracy_score([el[0] for el in df_test[\"onehot\"].tolist()], [el[0] for el in df_test[\"predict_round\"].tolist()])"
   ],
   "metadata": {
    "collapsed": false,
    "pycharm": {
     "name": "#%%\n"
    }
   }
  },
  {
   "cell_type": "code",
   "execution_count": 198,
   "outputs": [
    {
     "data": {
      "text/plain": "0.9261744966442953"
     },
     "execution_count": 198,
     "metadata": {},
     "output_type": "execute_result"
    }
   ],
   "source": [
    "f1_score([el[0] for el in df_test[\"onehot\"].tolist()], [el[0] for el in df_test[\"predict_round\"].tolist()])"
   ],
   "metadata": {
    "collapsed": false,
    "pycharm": {
     "name": "#%%\n"
    }
   }
  },
  {
   "cell_type": "code",
   "execution_count": 199,
   "outputs": [
    {
     "data": {
      "text/plain": "     author_id          doc_id  \\\n999    tlg0086  tlg0086.tlg038   \n894    tlg0086  tlg0086.tlg010   \n1000   tlg0086  tlg0086.tlg038   \n1141   tlg0627  tlg0627.tlg049   \n795    tlg0086  tlg0086.tlg010   \n813    tlg0086  tlg0086.tlg010   \n860    tlg0086  tlg0086.tlg010   \n685    tlg0086  tlg0086.tlg009   \n773    tlg0086  tlg0086.tlg010   \n899    tlg0086  tlg0086.tlg010   \n\n                                               title  \\\n999                                         Rhetoric   \n894                               Nicomachean Ethics   \n1000                                        Rhetoric   \n1141                                       De medico   \n795                               Nicomachean Ethics   \n813                               Nicomachean Ethics   \n860                               Nicomachean Ethics   \n685   Eudemian Ethics (Greek). Machine readable text   \n773                               Nicomachean Ethics   \n899                               Nicomachean Ethics   \n\n                                                   conc  \\\n999   [κατασκευάζω, τοιοῦτος, εὔνοια, φιλία, πάθος, ...   \n894   [ποιέω, ἀλλότριος, λυμαίνομαι, δῆλος, πολύς, δ...   \n1000  [ἄλλος, προερέω, πρότασις, οὗτος, ποιέω, διαιρ...   \n1141  [ἀπέχω, τόπος, πλατύς, κύκλος, πολύς, ἄλλος, σ...   \n795   [μέρος, οὗτος, εἰμί, ἀρετή, μεσότης, ἡδονή, σω...   \n813   [ὀργιζόμενοι, δεῖ, ἠλίθιος, δοκέω, εἰμί, δεῖ, ...   \n860   [πολύς, λύπ*, φύσις, πόνο*, ζώιον, μαρτύρομαι,...   \n685   [δῆλος, οὗτος, διαίρεσις, πάθος, δύναμις, ἔχω,...   \n773   [λέγω, μέσος, ὑπερβάλλω, πᾶς, μηδείς, ἀναίσχυν...   \n899   [ἕτερος, εἶδος, διαφέρω, εἶδος, εὔλογος, εἰμί,...   \n\n                                                   sent  \\\n999   ἔστι δὲ τὰ πάθη διʼ ὅσα μεταβάλλοντες διαφέρου...   \n894   σχεδὸν γὰρ αἱ ἀλλότριαι ἡδοναὶ ποιοῦσιν ὅπερ α...   \n1000  ἔστω δὴ ὀργὴ ὄρεξις μετὰ λύπης τιμωρίας φαινομ...   \n1141  ἐπιπροσθεῖν οὖν ξυμβαίνει τὴν ἐντεῦθεν ἑλκομέν...   \n795       ἧττον γὰρ καὶ οὐχ ὁμοίως ἐστὶ περὶ τὰς λύπας·   \n813   δοκεῖ γὰρ οὐκ αἰσθάνεσθαι οὐδὲ λυπεῖσθαι, μὴ ὀ...   \n860   ἀεὶ γὰρ πονεῖ τὸ ζῷον, ὥσπερ καὶ οἱ φυσιολόγοι...   \n685   αἱ μὲν γὰρ δυνάμεις καὶ αἱ ἕξεις τῶν παθημάτων...   \n773   νέμεσις δὲ μεσότης φθόνου καὶ ἐπιχαιρεκακίας, ...   \n899   τὰ γὰρ αὐτὰ τοὺς μὲν τέρπει τοὺς δὲ λυπεῖ, καὶ...   \n\n                                               features  onehot predict_round  \n999   [630, 17, 752, 313, 227, 728, 227, 128, 520, 3...  [1, 0]        [1, 0]  \n894   [10, 525, 2091, 89, 6, 2034, 525, 144, 10, 223...  [1, 0]        [1, 0]  \n1000  [7, 1644, 543, 2, 10, 502, 3, 68, 494, 1557, 2...  [1, 0]        [1, 0]  \n1141  [516, 129, 1374, 281, 6, 7, 329, 85, 2823, 139...  [0, 1]        [1, 0]  \n795   [81, 2, 1, 97, 1624, 144, 621, 3, 134, 1, 208,...  [1, 0]        [1, 0]  \n813   [4599, 19, 3002, 16, 1, 19, 466, 19, 16, 283, ...  [1, 0]        [1, 0]  \n860   [6, 208, 44, 143, 417, 1846, 29, 51, 468, 1, 2...  [1, 0]        [1, 0]  \n685   [89, 2, 1042, 227, 79, 4, 79, 4, 939, 227, 208...  [1, 0]        [1, 0]  \n773   [3, 111, 717, 9, 55, 3028, 111, 1624, 1091, 1,...  [1, 0]        [1, 0]  \n899   [25, 117, 128, 117, 1491, 1, 1948, 99, 24, 272...  [1, 0]        [1, 0]  ",
      "text/html": "<div>\n<style scoped>\n    .dataframe tbody tr th:only-of-type {\n        vertical-align: middle;\n    }\n\n    .dataframe tbody tr th {\n        vertical-align: top;\n    }\n\n    .dataframe thead th {\n        text-align: right;\n    }\n</style>\n<table border=\"1\" class=\"dataframe\">\n  <thead>\n    <tr style=\"text-align: right;\">\n      <th></th>\n      <th>author_id</th>\n      <th>doc_id</th>\n      <th>title</th>\n      <th>conc</th>\n      <th>sent</th>\n      <th>features</th>\n      <th>onehot</th>\n      <th>predict_round</th>\n    </tr>\n  </thead>\n  <tbody>\n    <tr>\n      <th>999</th>\n      <td>tlg0086</td>\n      <td>tlg0086.tlg038</td>\n      <td>Rhetoric</td>\n      <td>[κατασκευάζω, τοιοῦτος, εὔνοια, φιλία, πάθος, ...</td>\n      <td>ἔστι δὲ τὰ πάθη διʼ ὅσα μεταβάλλοντες διαφέρου...</td>\n      <td>[630, 17, 752, 313, 227, 728, 227, 128, 520, 3...</td>\n      <td>[1, 0]</td>\n      <td>[1, 0]</td>\n    </tr>\n    <tr>\n      <th>894</th>\n      <td>tlg0086</td>\n      <td>tlg0086.tlg010</td>\n      <td>Nicomachean Ethics</td>\n      <td>[ποιέω, ἀλλότριος, λυμαίνομαι, δῆλος, πολύς, δ...</td>\n      <td>σχεδὸν γὰρ αἱ ἀλλότριαι ἡδοναὶ ποιοῦσιν ὅπερ α...</td>\n      <td>[10, 525, 2091, 89, 6, 2034, 525, 144, 10, 223...</td>\n      <td>[1, 0]</td>\n      <td>[1, 0]</td>\n    </tr>\n    <tr>\n      <th>1000</th>\n      <td>tlg0086</td>\n      <td>tlg0086.tlg038</td>\n      <td>Rhetoric</td>\n      <td>[ἄλλος, προερέω, πρότασις, οὗτος, ποιέω, διαιρ...</td>\n      <td>ἔστω δὴ ὀργὴ ὄρεξις μετὰ λύπης τιμωρίας φαινομ...</td>\n      <td>[7, 1644, 543, 2, 10, 502, 3, 68, 494, 1557, 2...</td>\n      <td>[1, 0]</td>\n      <td>[1, 0]</td>\n    </tr>\n    <tr>\n      <th>1141</th>\n      <td>tlg0627</td>\n      <td>tlg0627.tlg049</td>\n      <td>De medico</td>\n      <td>[ἀπέχω, τόπος, πλατύς, κύκλος, πολύς, ἄλλος, σ...</td>\n      <td>ἐπιπροσθεῖν οὖν ξυμβαίνει τὴν ἐντεῦθεν ἑλκομέν...</td>\n      <td>[516, 129, 1374, 281, 6, 7, 329, 85, 2823, 139...</td>\n      <td>[0, 1]</td>\n      <td>[1, 0]</td>\n    </tr>\n    <tr>\n      <th>795</th>\n      <td>tlg0086</td>\n      <td>tlg0086.tlg010</td>\n      <td>Nicomachean Ethics</td>\n      <td>[μέρος, οὗτος, εἰμί, ἀρετή, μεσότης, ἡδονή, σω...</td>\n      <td>ἧττον γὰρ καὶ οὐχ ὁμοίως ἐστὶ περὶ τὰς λύπας·</td>\n      <td>[81, 2, 1, 97, 1624, 144, 621, 3, 134, 1, 208,...</td>\n      <td>[1, 0]</td>\n      <td>[1, 0]</td>\n    </tr>\n    <tr>\n      <th>813</th>\n      <td>tlg0086</td>\n      <td>tlg0086.tlg010</td>\n      <td>Nicomachean Ethics</td>\n      <td>[ὀργιζόμενοι, δεῖ, ἠλίθιος, δοκέω, εἰμί, δεῖ, ...</td>\n      <td>δοκεῖ γὰρ οὐκ αἰσθάνεσθαι οὐδὲ λυπεῖσθαι, μὴ ὀ...</td>\n      <td>[4599, 19, 3002, 16, 1, 19, 466, 19, 16, 283, ...</td>\n      <td>[1, 0]</td>\n      <td>[1, 0]</td>\n    </tr>\n    <tr>\n      <th>860</th>\n      <td>tlg0086</td>\n      <td>tlg0086.tlg010</td>\n      <td>Nicomachean Ethics</td>\n      <td>[πολύς, λύπ*, φύσις, πόνο*, ζώιον, μαρτύρομαι,...</td>\n      <td>ἀεὶ γὰρ πονεῖ τὸ ζῷον, ὥσπερ καὶ οἱ φυσιολόγοι...</td>\n      <td>[6, 208, 44, 143, 417, 1846, 29, 51, 468, 1, 2...</td>\n      <td>[1, 0]</td>\n      <td>[1, 0]</td>\n    </tr>\n    <tr>\n      <th>685</th>\n      <td>tlg0086</td>\n      <td>tlg0086.tlg009</td>\n      <td>Eudemian Ethics (Greek). Machine readable text</td>\n      <td>[δῆλος, οὗτος, διαίρεσις, πάθος, δύναμις, ἔχω,...</td>\n      <td>αἱ μὲν γὰρ δυνάμεις καὶ αἱ ἕξεις τῶν παθημάτων...</td>\n      <td>[89, 2, 1042, 227, 79, 4, 79, 4, 939, 227, 208...</td>\n      <td>[1, 0]</td>\n      <td>[1, 0]</td>\n    </tr>\n    <tr>\n      <th>773</th>\n      <td>tlg0086</td>\n      <td>tlg0086.tlg010</td>\n      <td>Nicomachean Ethics</td>\n      <td>[λέγω, μέσος, ὑπερβάλλω, πᾶς, μηδείς, ἀναίσχυν...</td>\n      <td>νέμεσις δὲ μεσότης φθόνου καὶ ἐπιχαιρεκακίας, ...</td>\n      <td>[3, 111, 717, 9, 55, 3028, 111, 1624, 1091, 1,...</td>\n      <td>[1, 0]</td>\n      <td>[1, 0]</td>\n    </tr>\n    <tr>\n      <th>899</th>\n      <td>tlg0086</td>\n      <td>tlg0086.tlg010</td>\n      <td>Nicomachean Ethics</td>\n      <td>[ἕτερος, εἶδος, διαφέρω, εἶδος, εὔλογος, εἰμί,...</td>\n      <td>τὰ γὰρ αὐτὰ τοὺς μὲν τέρπει τοὺς δὲ λυπεῖ, καὶ...</td>\n      <td>[25, 117, 128, 117, 1491, 1, 1948, 99, 24, 272...</td>\n      <td>[1, 0]</td>\n      <td>[1, 0]</td>\n    </tr>\n  </tbody>\n</table>\n</div>"
     },
     "execution_count": 199,
     "metadata": {},
     "output_type": "execute_result"
    }
   ],
   "source": [
    "df_test[-10:]"
   ],
   "metadata": {
    "collapsed": false,
    "pycharm": {
     "name": "#%%\n"
    }
   }
  },
  {
   "cell_type": "code",
   "execution_count": null,
   "outputs": [],
   "source": [],
   "metadata": {
    "collapsed": false,
    "pycharm": {
     "name": "#%%\n"
    }
   }
  },
  {
   "cell_type": "code",
   "execution_count": null,
   "outputs": [],
   "source": [],
   "metadata": {
    "collapsed": false,
    "pycharm": {
     "name": "#%%\n"
    }
   }
  }
 ],
 "metadata": {
  "colab": {
   "collapsed_sections": [],
   "name": "0_EXTRACTING-CORPORA.ipynb",
   "provenance": []
  },
  "kernelspec": {
   "name": "pipa_venv",
   "language": "python",
   "display_name": "pipa_venv"
  },
  "language_info": {
   "codemirror_mode": {
    "name": "ipython",
    "version": 3
   },
   "file_extension": ".py",
   "mimetype": "text/x-python",
   "name": "python",
   "nbconvert_exporter": "python",
   "pygments_lexer": "ipython3",
   "version": "3.6.9"
  }
 },
 "nbformat": 4,
 "nbformat_minor": 1
}