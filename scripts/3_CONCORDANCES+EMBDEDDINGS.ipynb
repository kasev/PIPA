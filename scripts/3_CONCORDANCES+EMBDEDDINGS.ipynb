{
 "cells": [
  {
   "cell_type": "code",
   "execution_count": 25,
   "outputs": [],
   "source": [
    "import numpy as np\n",
    "import pandas as pd\n",
    "import pickle\n",
    "import re\n",
    "import keras\n",
    "from keras.layers import Embedding"
   ],
   "metadata": {
    "collapsed": false,
    "pycharm": {
     "name": "#%%\n"
    }
   }
  },
  {
   "cell_type": "code",
   "execution_count": 2,
   "outputs": [
    {
     "name": "stdout",
     "output_type": "stream",
     "text": [
      "endpoint variable has been configured to: https://sciencedata.dk/files/\n"
     ]
    }
   ],
   "source": [
    "# to communicate with google spreadsheet...\n",
    "import gspread\n",
    "from gspread_dataframe import get_as_dataframe\n",
    "from gspread_dataframe import set_with_dataframe\n",
    "from google.oauth2 import service_account # based on google-auth library\n",
    "import sddk\n",
    "\n",
    "s = sddk.cloudSession(\"sciencedata.dk\")\n",
    "# establish connection with gogglesheets...\n",
    "file_data = s.read_file(\"https://sciencedata.dk/files/ServiceAccountsKey.json\", \"dict\") # or load it from a local storage: json.load(open(\"../../ServiceAccountsKey.json\", \"r\"))\n",
    "credentials = service_account.Credentials.from_service_account_info(file_data)\n",
    "gc = gspread.Client(auth=credentials.with_scopes(['https://spreadsheets.google.com/feeds', 'https://www.googleapis.com/auth/drive']))\n",
    "PIPA_data = gc.open_by_url(\"https://docs.google.com/spreadsheets/d/1rV4t0_UV_wcx--UAHVwkqB8Wa_5n9mnpV05yGG1OHqk/edit?usp=sharing\")"
   ],
   "metadata": {
    "collapsed": false,
    "pycharm": {
     "name": "#%%\n"
    }
   }
  },
  {
   "cell_type": "code",
   "execution_count": 3,
   "outputs": [
    {
     "data": {
      "text/plain": "                          filename      author                  title  \\\n1  tlg0003.tlg001.perseus-grc2.xml  Thucydides  The Peloponnesian War   \n6  tlg0006.tlg001.perseus-grc2.xml   Euripides                Cyclops   \n7  tlg0006.tlg004.perseus-grc2.xml   Euripides             Ἡρακλεῖδαι   \n8  tlg0006.tlg005.perseus-grc2.xml   Euripides              Ἱππόλυτος   \n9  tlg0006.tlg006.perseus-grc2.xml   Euripides              Ἀνδρομάχη   \n\n   wordcount author_id          doc_id raw_date  date_avr   date_probs  \\\n1     150118   tlg0003  tlg0003.tlg001   5 B.C.      -4.5  {'-4.5': 1}   \n6       4141   tlg0006  tlg0006.tlg001   5 B.C.      -4.5  {'-4.5': 1}   \n7       6272   tlg0006  tlg0006.tlg004   5 B.C.      -4.5  {'-4.5': 1}   \n8       8257   tlg0006  tlg0006.tlg005   5 B.C.      -4.5  {'-4.5': 1}   \n9       7397   tlg0006  tlg0006.tlg006   5 B.C.      -4.5  {'-4.5': 1}   \n\n   date_manual  ...                                            lemmata  \\\n1         -4.5  ...  [θουκυδίδης, Ἀθηναῖος, συγγράφω, πόλεμος, Πελο...   \n6         -4.5  ...  [Βρόμιος, ἔχω, πόνος, χὥτʼ, ἥβη, ἐμός, εὐσθενέ...   \n7         -4.5  ...  [ποτός, εἰμί, οὗτος, δεδογμένον, δίκαιος, φύω,...   \n8         -4.5  ...  [πολύς, βροτός, ἀνώνυμος, θεά, καλέω, Κύπρις, ...   \n9         -4.5  ...  [Ἀσιανός, γῆ, σχῆμα, θηβαία, πόλις, ἑδνόω, πολ...   \n\n  lemmata_wordcount subcorpus  \\\n1             71863      None   \n6              2535      None   \n7              3545      None   \n8              4898      None   \n9              4420      None   \n\n                                        lemmata_repl  \\\n1  [θουκυδίδης, Ἀθηναῖος, συγγράφω, πόλεμος, Πελο...   \n6  [Βρόμιος, ἔχω, πόνο*, χὥτʼ, ἥβη, ἐμός, εὐσθενέ...   \n7  [ποτός, εἰμί, οὗτος, δεδογμένον, δίκαιος, φύω,...   \n8  [πολύς, βροτός, ἀνώνυμος, θεά, καλέω, Κύπρις, ...   \n9  [Ἀσιανός, γῆ, σχῆμα, θηβαία, πόλις, ἑδνόω, πολ...   \n\n                           lemmatized_sentences_repl count_πόνο*  count_ὀδύν*  \\\n1  [[θουκυδίδης, Ἀθηναῖος, συγγράφω, πόλεμος, Πελ...          31            0   \n6  [[Βρόμιος, ἔχω, πόνο*, χὥτʼ, ἥβη, ἐμός, εὐσθεν...           7            0   \n7  [[ποτός, εἰμί, οὗτος, δεδογμένον], [δίκαιος, φ...          11            0   \n8  [[πολύς, βροτός, ἀνώνυμος, θεά, καλέω, Κύπρις,...           8            3   \n9  [[Ἀσιανός, γῆ, σχῆμα, θηβαία, πόλις, ἑδνόω, πο...           5            0   \n\n  count_ἄλγ* count_λύπ*                                          conc_lype  \n1          6         25  [[μέγας, κινδυνεύοντας, δέχομαι, ἀείμνηστος, μ...  \n6          0          1  [[βοτόν, οὔτις, θύω, θεός, μέγας, γαστήρ, δαίμ...  \n7          1          2  [[εἰμί, πολύς, χαίρω, δυσφημέω, ἅζομαι, θέα, σ...  \n8          8          8  [[κοιτάζω, λέχος, σός, ναυβάτης, τὶς, πλέω, κρ...  \n9          7          4  [[Τροία, πράσσω, μηδείς, ὅδε, αὐχέω, πράσσω, δ...  \n\n[5 rows x 25 columns]",
      "text/html": "<div>\n<style scoped>\n    .dataframe tbody tr th:only-of-type {\n        vertical-align: middle;\n    }\n\n    .dataframe tbody tr th {\n        vertical-align: top;\n    }\n\n    .dataframe thead th {\n        text-align: right;\n    }\n</style>\n<table border=\"1\" class=\"dataframe\">\n  <thead>\n    <tr style=\"text-align: right;\">\n      <th></th>\n      <th>filename</th>\n      <th>author</th>\n      <th>title</th>\n      <th>wordcount</th>\n      <th>author_id</th>\n      <th>doc_id</th>\n      <th>raw_date</th>\n      <th>date_avr</th>\n      <th>date_probs</th>\n      <th>date_manual</th>\n      <th>...</th>\n      <th>lemmata</th>\n      <th>lemmata_wordcount</th>\n      <th>subcorpus</th>\n      <th>lemmata_repl</th>\n      <th>lemmatized_sentences_repl</th>\n      <th>count_πόνο*</th>\n      <th>count_ὀδύν*</th>\n      <th>count_ἄλγ*</th>\n      <th>count_λύπ*</th>\n      <th>conc_lype</th>\n    </tr>\n  </thead>\n  <tbody>\n    <tr>\n      <th>1</th>\n      <td>tlg0003.tlg001.perseus-grc2.xml</td>\n      <td>Thucydides</td>\n      <td>The Peloponnesian War</td>\n      <td>150118</td>\n      <td>tlg0003</td>\n      <td>tlg0003.tlg001</td>\n      <td>5 B.C.</td>\n      <td>-4.5</td>\n      <td>{'-4.5': 1}</td>\n      <td>-4.5</td>\n      <td>...</td>\n      <td>[θουκυδίδης, Ἀθηναῖος, συγγράφω, πόλεμος, Πελο...</td>\n      <td>71863</td>\n      <td>None</td>\n      <td>[θουκυδίδης, Ἀθηναῖος, συγγράφω, πόλεμος, Πελο...</td>\n      <td>[[θουκυδίδης, Ἀθηναῖος, συγγράφω, πόλεμος, Πελ...</td>\n      <td>31</td>\n      <td>0</td>\n      <td>6</td>\n      <td>25</td>\n      <td>[[μέγας, κινδυνεύοντας, δέχομαι, ἀείμνηστος, μ...</td>\n    </tr>\n    <tr>\n      <th>6</th>\n      <td>tlg0006.tlg001.perseus-grc2.xml</td>\n      <td>Euripides</td>\n      <td>Cyclops</td>\n      <td>4141</td>\n      <td>tlg0006</td>\n      <td>tlg0006.tlg001</td>\n      <td>5 B.C.</td>\n      <td>-4.5</td>\n      <td>{'-4.5': 1}</td>\n      <td>-4.5</td>\n      <td>...</td>\n      <td>[Βρόμιος, ἔχω, πόνος, χὥτʼ, ἥβη, ἐμός, εὐσθενέ...</td>\n      <td>2535</td>\n      <td>None</td>\n      <td>[Βρόμιος, ἔχω, πόνο*, χὥτʼ, ἥβη, ἐμός, εὐσθενέ...</td>\n      <td>[[Βρόμιος, ἔχω, πόνο*, χὥτʼ, ἥβη, ἐμός, εὐσθεν...</td>\n      <td>7</td>\n      <td>0</td>\n      <td>0</td>\n      <td>1</td>\n      <td>[[βοτόν, οὔτις, θύω, θεός, μέγας, γαστήρ, δαίμ...</td>\n    </tr>\n    <tr>\n      <th>7</th>\n      <td>tlg0006.tlg004.perseus-grc2.xml</td>\n      <td>Euripides</td>\n      <td>Ἡρακλεῖδαι</td>\n      <td>6272</td>\n      <td>tlg0006</td>\n      <td>tlg0006.tlg004</td>\n      <td>5 B.C.</td>\n      <td>-4.5</td>\n      <td>{'-4.5': 1}</td>\n      <td>-4.5</td>\n      <td>...</td>\n      <td>[ποτός, εἰμί, οὗτος, δεδογμένον, δίκαιος, φύω,...</td>\n      <td>3545</td>\n      <td>None</td>\n      <td>[ποτός, εἰμί, οὗτος, δεδογμένον, δίκαιος, φύω,...</td>\n      <td>[[ποτός, εἰμί, οὗτος, δεδογμένον], [δίκαιος, φ...</td>\n      <td>11</td>\n      <td>0</td>\n      <td>1</td>\n      <td>2</td>\n      <td>[[εἰμί, πολύς, χαίρω, δυσφημέω, ἅζομαι, θέα, σ...</td>\n    </tr>\n    <tr>\n      <th>8</th>\n      <td>tlg0006.tlg005.perseus-grc2.xml</td>\n      <td>Euripides</td>\n      <td>Ἱππόλυτος</td>\n      <td>8257</td>\n      <td>tlg0006</td>\n      <td>tlg0006.tlg005</td>\n      <td>5 B.C.</td>\n      <td>-4.5</td>\n      <td>{'-4.5': 1}</td>\n      <td>-4.5</td>\n      <td>...</td>\n      <td>[πολύς, βροτός, ἀνώνυμος, θεά, καλέω, Κύπρις, ...</td>\n      <td>4898</td>\n      <td>None</td>\n      <td>[πολύς, βροτός, ἀνώνυμος, θεά, καλέω, Κύπρις, ...</td>\n      <td>[[πολύς, βροτός, ἀνώνυμος, θεά, καλέω, Κύπρις,...</td>\n      <td>8</td>\n      <td>3</td>\n      <td>8</td>\n      <td>8</td>\n      <td>[[κοιτάζω, λέχος, σός, ναυβάτης, τὶς, πλέω, κρ...</td>\n    </tr>\n    <tr>\n      <th>9</th>\n      <td>tlg0006.tlg006.perseus-grc2.xml</td>\n      <td>Euripides</td>\n      <td>Ἀνδρομάχη</td>\n      <td>7397</td>\n      <td>tlg0006</td>\n      <td>tlg0006.tlg006</td>\n      <td>5 B.C.</td>\n      <td>-4.5</td>\n      <td>{'-4.5': 1}</td>\n      <td>-4.5</td>\n      <td>...</td>\n      <td>[Ἀσιανός, γῆ, σχῆμα, θηβαία, πόλις, ἑδνόω, πολ...</td>\n      <td>4420</td>\n      <td>None</td>\n      <td>[Ἀσιανός, γῆ, σχῆμα, θηβαία, πόλις, ἑδνόω, πολ...</td>\n      <td>[[Ἀσιανός, γῆ, σχῆμα, θηβαία, πόλις, ἑδνόω, πο...</td>\n      <td>5</td>\n      <td>0</td>\n      <td>7</td>\n      <td>4</td>\n      <td>[[Τροία, πράσσω, μηδείς, ὅδε, αὐχέω, πράσσω, δ...</td>\n    </tr>\n  </tbody>\n</table>\n<p>5 rows × 25 columns</p>\n</div>"
     },
     "execution_count": 3,
     "metadata": {},
     "output_type": "execute_result"
    }
   ],
   "source": [
    "cgl = pd.read_json(\"../data/large_data/cgl.json\")\n",
    "cgl.head()"
   ],
   "metadata": {
    "collapsed": false,
    "pycharm": {
     "name": "#%%\n"
    }
   }
  },
  {
   "cell_type": "code",
   "execution_count": 4,
   "outputs": [],
   "source": [
    "cgl_embeddings = pickle.load(open(\"../data/large_data/cgl_embeddings.pkl\", \"rb\"))"
   ],
   "metadata": {
    "collapsed": false,
    "pycharm": {
     "name": "#%%\n"
    }
   }
  },
  {
   "cell_type": "code",
   "execution_count": 5,
   "outputs": [],
   "source": [
    "from keras.preprocessing.text import Tokenizer\n",
    "from keras.preprocessing.sequence import pad_sequences"
   ],
   "metadata": {
    "collapsed": false,
    "pycharm": {
     "name": "#%%\n"
    }
   }
  },
  {
   "cell_type": "code",
   "execution_count": 6,
   "outputs": [
    {
     "data": {
      "text/plain": "5000"
     },
     "execution_count": 6,
     "metadata": {},
     "output_type": "execute_result"
    }
   ],
   "source": [
    "len(range(1, len(cgl_embeddings[1])+1))"
   ],
   "metadata": {
    "collapsed": false,
    "pycharm": {
     "name": "#%%\n"
    }
   }
  },
  {
   "cell_type": "code",
   "execution_count": 7,
   "outputs": [
    {
     "data": {
      "text/plain": "[('εἰμί', 1),\n ('οὗτος', 2),\n ('λέγω', 3),\n ('ἔχω', 4),\n ('γίγνομαι', 5),\n ('πολύς', 6),\n ('ἄλλος', 7),\n ('αὐτός', 8),\n ('πᾶς', 9),\n ('ποιέω', 10)]"
     },
     "execution_count": 7,
     "metadata": {},
     "output_type": "execute_result"
    }
   ],
   "source": [
    "word_index = dict(zip(cgl_embeddings[1],range(1, len(cgl_embeddings[1])+1)))\n",
    "list(word_index.items())[:10]"
   ],
   "metadata": {
    "collapsed": false,
    "pycharm": {
     "name": "#%%\n"
    }
   }
  },
  {
   "cell_type": "code",
   "execution_count": 41,
   "outputs": [],
   "source": [
    "# we will generate the concordances again, now focusing on words in the embeddings only\n",
    "def get_concordances(wordlist, keyword, window, vocabulary=None):\n",
    "    half = int(window / 2)\n",
    "    if vocabulary != None:\n",
    "        wordlist = [w for w in wordlist if w in vocabulary]\n",
    "    keyword_indices = [el[0] for el in enumerate(wordlist) if el[1]==keyword]\n",
    "    concordances = [wordlist[i-half:i+half+1] for i in keyword_indices]\n",
    "    #concordances = [c for c in concordances if len(c)==window]\n",
    "    return concordances"
   ],
   "metadata": {
    "collapsed": false,
    "pycharm": {
     "name": "#%%\n"
    }
   }
  },
  {
   "cell_type": "code",
   "execution_count": 42,
   "outputs": [],
   "source": [
    "cgl[\"conc_lype\"] = cgl[\"lemmata_repl\"].apply(lambda x: get_concordances(x, \"λύπ*\", 31, vocabulary=cgl_embeddings[1]))"
   ],
   "metadata": {
    "collapsed": false,
    "pycharm": {
     "name": "#%%\n"
    }
   }
  },
  {
   "cell_type": "code",
   "execution_count": 43,
   "outputs": [
    {
     "data": {
      "text/plain": "                            filename       author  \\\n685    tlg0086.tlg001.1st1K-grc2.xml    Aristotle   \n686    tlg0086.tlg002.1st1K-grc2.xml    Aristotle   \n687  tlg0086.tlg003.perseus-grc1.xml    Aristotle   \n688    tlg0086.tlg005.1st1K-grc1.xml    Aristotle   \n689    tlg0086.tlg006.1st1K-grc1.xml    Aristotle   \n690    tlg0086.tlg008.1st1K-grc1.xml    Aristotle   \n691  tlg0086.tlg009.perseus-grc1.xml    Aristotle   \n692  tlg0086.tlg010.perseus-grc1.xml    Aristotle   \n693    tlg0086.tlg013.1st1K-grc2.xml    Aristotle   \n694    tlg0086.tlg014.1st1K-grc1.xml    Aristotle   \n695    tlg0086.tlg015.1st1K-grc1.xml  Aristoteles   \n696    tlg0086.tlg016.1st1K-grc1.xml    Aristotle   \n697    tlg0086.tlg017.1st1K-grc1.xml    Aristotle   \n698    tlg0086.tlg018.1st1K-grc1.xml    Aristotle   \n699    tlg0086.tlg020.1st1K-grc1.xml    Aristotle   \n700    tlg0086.tlg021.1st1K-grc1.xml  Aristoteles   \n701    tlg0086.tlg022.1st1K-grc1.xml    Aristotle   \n702    tlg0086.tlg024.1st1K-grc1.xml    Aristotle   \n703  tlg0086.tlg025.perseus-grc1.xml    Aristotle   \n704    tlg0086.tlg026.1st1K-grc2.xml    Aristotle   \n705  tlg0086.tlg029.perseus-grc1.xml    Aristotle   \n706    tlg0086.tlg030.1st1K-grc1.xml    Aristotle   \n707    tlg0086.tlg031.1st1K-grc1.xml    Aristotle   \n708    tlg0086.tlg034.1st1K-grc1.xml    Aristotle   \n709  tlg0086.tlg035.perseus-grc1.xml    Aristotle   \n710    tlg0086.tlg037.1st1K-grc1.xml    Aristotle   \n711  tlg0086.tlg038.perseus-grc1.xml    Aristotle   \n712    tlg0086.tlg040.1st1K-grc1.xml    Aristotle   \n713    tlg0086.tlg041.1st1K-grc1.xml    Aristotle   \n714    tlg0086.tlg042.1st1K-grc1.xml    Aristotle   \n715    tlg0086.tlg043.1st1K-grc1.xml    Aristotle   \n716    tlg0086.tlg044.1st1K-grc1.xml    Aristotle   \n717  tlg0086.tlg045.perseus-grc2.xml    Aristotle   \n718    tlg0086.tlg052.1st1K-grc1.xml    Aristotle   \n719    tlg0086.tlg054.1st1K-grc1.xml    Aristotle   \n\n                                                 title  wordcount author_id  \\\n685         Aristotelis Analytica Priora et Posteriora      59614   tlg0086   \n686                                           De anima      20912   tlg0086   \n687                              Athenian Constitution      16459   tlg0086   \n688                                           De caelo      30794   tlg0086   \n689                                         Categoriae      10316   tlg0086   \n690                          De divinatione per somnum       1194   tlg0086   \n691     Eudemian Ethics (Greek). Machine readable text      26345   tlg0086   \n692                                 Nicomachean Ethics      56620   tlg0086   \n693                      De generatione et corruptione      16914   tlg0086   \n694                                 Historia animalium      93923   tlg0086   \n695                               De animalium motione       4851   tlg0086   \n696                                       De insomniis       2436   tlg0086   \n697                                 De interpretatione       6271   tlg0086   \n698        De iuventute et senectute, De vita et morte       1845   tlg0086   \n699                  De longitudine et brevitate vitae       1789   tlg0086   \n700                               De animalium incessu       7720   tlg0086   \n701                                      Magna Moralia      32317   tlg0086   \n702                        De memoria et reminiscentia       2515   tlg0086   \n703         Metaphysics (Greek). Machine readable text      78887   tlg0086   \n704                                      Meteorologica      61933   tlg0086   \n705           Economics (Greek). Machine readable text       6226   tlg0086   \n706                              De partibus animalium      40622   tlg0086   \n707                                            Physica      55411   tlg0086   \n708                                        Ars Poetica      10065   tlg0086   \n709            Politics (Greek). Machine readable text      65546   tlg0086   \n710                                    De respiratione       5938   tlg0086   \n711                                           Rhetoric      43385   tlg0086   \n712                            De sophisticis elenchis      14114   tlg0086   \n713                           De sensu et sensibilibus       7798   tlg0086   \n714                                De somno et vigilia       2989   tlg0086   \n715                                         De spiritu       4070   tlg0086   \n716                                             Topica      44116   tlg0086   \n717                                  Virtues and Vices       1497   tlg0086   \n718  De anima (codicis E fragmenta recensionis a vu...       2458   tlg0086   \n719                             Physica (textus alter)       2381   tlg0086   \n\n             doc_id raw_date  date_avr   date_probs  date_manual  ...  \\\n685  tlg0086.tlg001   4 B.C.      -3.5  {'-3.5': 1}         -3.5  ...   \n686  tlg0086.tlg002   4 B.C.      -3.5  {'-3.5': 1}         -3.5  ...   \n687  tlg0086.tlg003   4 B.C.      -3.5  {'-3.5': 1}         -3.5  ...   \n688  tlg0086.tlg005   4 B.C.      -3.5  {'-3.5': 1}         -3.5  ...   \n689  tlg0086.tlg006   4 B.C.      -3.5  {'-3.5': 1}         -3.5  ...   \n690  tlg0086.tlg008   4 B.C.      -3.5  {'-3.5': 1}         -3.5  ...   \n691  tlg0086.tlg009   4 B.C.      -3.5  {'-3.5': 1}         -3.5  ...   \n692  tlg0086.tlg010   4 B.C.      -3.5  {'-3.5': 1}         -3.5  ...   \n693  tlg0086.tlg013   4 B.C.      -3.5  {'-3.5': 1}         -3.5  ...   \n694  tlg0086.tlg014   4 B.C.      -3.5  {'-3.5': 1}         -3.5  ...   \n695  tlg0086.tlg015   4 B.C.      -3.5  {'-3.5': 1}         -3.5  ...   \n696  tlg0086.tlg016   4 B.C.      -3.5  {'-3.5': 1}         -3.5  ...   \n697  tlg0086.tlg017   4 B.C.      -3.5  {'-3.5': 1}         -3.5  ...   \n698  tlg0086.tlg018   4 B.C.      -3.5  {'-3.5': 1}         -3.5  ...   \n699  tlg0086.tlg020   4 B.C.      -3.5  {'-3.5': 1}         -3.5  ...   \n700  tlg0086.tlg021   4 B.C.      -3.5  {'-3.5': 1}         -3.5  ...   \n701  tlg0086.tlg022   4 B.C.      -3.5  {'-3.5': 1}         -3.5  ...   \n702  tlg0086.tlg024   4 B.C.      -3.5  {'-3.5': 1}         -3.5  ...   \n703  tlg0086.tlg025   4 B.C.      -3.5  {'-3.5': 1}         -3.5  ...   \n704  tlg0086.tlg026   4 B.C.      -3.5  {'-3.5': 1}         -3.5  ...   \n705  tlg0086.tlg029   4 B.C.      -3.5  {'-3.5': 1}         -3.5  ...   \n706  tlg0086.tlg030   4 B.C.      -3.5  {'-3.5': 1}         -3.5  ...   \n707  tlg0086.tlg031   4 B.C.      -3.5  {'-3.5': 1}         -3.5  ...   \n708  tlg0086.tlg034   4 B.C.      -3.5  {'-3.5': 1}         -3.5  ...   \n709  tlg0086.tlg035   4 B.C.      -3.5  {'-3.5': 1}         -3.5  ...   \n710  tlg0086.tlg037   4 B.C.      -3.5  {'-3.5': 1}         -3.5  ...   \n711  tlg0086.tlg038   4 B.C.      -3.5  {'-3.5': 1}         -3.5  ...   \n712  tlg0086.tlg040   4 B.C.      -3.5  {'-3.5': 1}         -3.5  ...   \n713  tlg0086.tlg041   4 B.C.      -3.5  {'-3.5': 1}         -3.5  ...   \n714  tlg0086.tlg042   4 B.C.      -3.5  {'-3.5': 1}         -3.5  ...   \n715  tlg0086.tlg043   4 B.C.      -3.5  {'-3.5': 1}         -3.5  ...   \n716  tlg0086.tlg044   4 B.C.      -3.5  {'-3.5': 1}         -3.5  ...   \n717  tlg0086.tlg045   4 B.C.      -3.5  {'-3.5': 1}         -3.5  ...   \n718  tlg0086.tlg052   4 B.C.      -3.5  {'-3.5': 1}         -3.5  ...   \n719  tlg0086.tlg054   4 B.C.      -3.5  {'-3.5': 1}         -3.5  ...   \n\n    lemmata_wordcount        subcorpus  \\\n685             24680  c_aristotelicum   \n686              9395  c_aristotelicum   \n687              8088             None   \n688             13437  c_aristotelicum   \n689              4678  c_aristotelicum   \n690               549  c_aristotelicum   \n691             11564  c_aristotelicum   \n692             25082  c_aristotelicum   \n693              7430             None   \n694             43967  c_aristotelicum   \n695              2059             None   \n696              1095  c_aristotelicum   \n697              2632  c_aristotelicum   \n698               831  c_aristotelicum   \n699               789  c_aristotelicum   \n700              3137  c_aristotelicum   \n701             12354  c_aristotelicum   \n702              1060  c_aristotelicum   \n703             33556  c_aristotelicum   \n704             23448  c_aristotelicum   \n705              3215  c_aristotelicum   \n706             18651  c_aristotelicum   \n707             23182  c_aristotelicum   \n708              4758  c_aristotelicum   \n709             30643  c_aristotelicum   \n710              2753             None   \n711             19687  c_aristotelicum   \n712              6142  c_aristotelicum   \n713              3473  c_aristotelicum   \n714              1363  c_aristotelicum   \n715              1638             None   \n716             19797  c_aristotelicum   \n717               721             None   \n718              1044             None   \n719               950             None   \n\n                                          lemmata_repl  \\\n685  [πρῶτος, λέγω, εἰμί, σκέψις, ἀπόδειξις, ἐπιστή...   \n686  [καλός, τίμιος, εἶδος, ὑπολαμβάνω, ἕτερος, ἕτε...   \n687  [Ἀθηναῖος, ἀρχή, χράω, βασίλειος, συνοικησάντο...   \n688  [φύσις, ἐπιστήμη, πλεῖστος, φαίνω, σῶμα, μέγεθ...   \n689  [ὁμώνυμος, λέγω, ὄνομα, μόνος, κοινός, ὄνομα, ...   \n690  [μαντικός, ὕπνος, γίγνομαι, λέγω, συμβαίνω, ἐν...   \n691  [δῆλος, θεός, ἑαυτοῦ, γνώμη, ἀποφηνάμενος, συγ...   \n692  [τέχνη, πᾶς, μέθοδος, πρᾶξις, προαίρεσις, ἀγαθ...   \n693  [γένεσις, φθορά, φύσις, γίγνομαι, φθειρομένων,...   \n694  [ζῷον, μόριον, εἰμί, ἀσύνθετος, ὅσος, διαιρέω,...   \n695  [κίνησις, ζῷον, ὅσος, ἕκαστος, ὑπάρχω, γένος, ...   \n696  [ἐνύπνιον, ζητητέος, πρῶτος, ψυχή, φαίνω, νοητ...   \n697  [πρῶτος, δεῖ, τίθημι, ὄνομα, ῥῆμα, ἀπόφασις, κ...   \n698  [νεότης, γῆρας, ζωή, θάνατος, λεκτέος, ἀναπνοή...   \n699  [μακρόβια, ζῷον, βραχύβια, ζωή, μῆκος, βραχύτη...   \n700  [χρήσιμος, μόριον, ζῷον, κίνησις, τόπος, ἐπισκ...   \n701  [προαιρέω, λέγω, ἠθικός, πρῶτος, εἰμί, σκεπτέο...   \n702  [αἰσθητήριον, αἰσθητός, τρόπος, ἔχω, ἕκαστος, ...   \n703  [ἄνθρωπος, οἶδα, ὀρέγω, φύσις, σημεῖον, αἴσθησ...   \n704  [πρῶτος, αἴτιος, φύσις, κίνησις, φυσικός, φορά...   \n705  [οἰκονομικός, πολιτικός, διαφέρω, μόνος, τοσοῦ...   \n706  [θεωρία, μέθοδος, ταπεινοτέραν, τίμιος, φαίνω,...   \n707  [ἐπειθὴ, οἶδα, ἐπίσταμαι, συμβαίνω, πᾶς, μεθόδ...   \n708  [ποιητικός, εἰδοί, δύναμις, ἕκαστος, ἔχω, δεῖ,...   \n709  [πόλις, ὁράω, κοινωνία, κοινωνία, ἀγαθός, τὶς,...   \n710  [ἀναπνοή, ὀλίγος, τὶς, πρότερος, φυσικός, λέγω...   \n711  [ῥητορικός, εἰμί, ἀντίστροφος, διαλεκτικός, ἀμ...   \n712  [σοφιστικός, ἔλεγχος, σοφιστικός, ἐλεγχής, φαί...   \n713  [ἔπειμι, ψυχή, ἑαυτοῦ, ὁρίζω, δύναμις, ἕκαστος...   \n714  [ὕπνος, ἐγρηγόρσεως, σκεπτέος, τυγχάνω, εἰμί, ...   \n715  [ἔμφυτος, πνεῦμα, διαμονή, αὔξησις, ὁράω, πολύ...   \n716  [πρόθεσις, πραγματεία, μέθοδος, εὑρίσκω, δύναμ...   \n717  [ἐπαινετός, εἰμί, καλός, ψεκτός, αἰσχρός, καλό...   \n718  [ἐοεὶ, παραδεδομένα, ψυχή, ἄλλος, ἕκαστος, ἀπο...   \n719  [κινούμενον, ἀνάγκη, κινέω, ἔχω, ἀρχή, κίνησις...   \n\n                             lemmatized_sentences_repl count_πόνο*  \\\n685  [[πρῶτος, λέγω, εἰμί, σκέψις, ἀπόδειξις, ἐπιστ...           0   \n686  [[καλός, τίμιος, εἶδος, ὑπολαμβάνω, ἕτερος, ἕτ...           0   \n687  [[Ἀθηναῖος, ἀρχή, χράω, βασίλειος], [συνοικησά...           0   \n688  [[φύσις, ἐπιστήμη, πλεῖστος, φαίνω, σῶμα, μέγε...           1   \n689  [[ὁμώνυμος, λέγω, ὄνομα, μόνος, κοινός, ὄνομα,...           0   \n690  [[μαντικός, ὕπνος, γίγνομαι, λέγω, συμβαίνω, ἐ...           0   \n691  [[δῆλος, θεός, ἑαυτοῦ, γνώμη, ἀποφηνάμενος, συ...           7   \n692  [[τέχνη, πᾶς, μέθοδος, πρᾶξις, προαίρεσις, ἀγα...          11   \n693  [[γένεσις, φθορά, φύσις, γίγνομαι, φθειρομένων...           0   \n694  [[ζῷον, μόριον, εἰμί, ἀσύνθετος, ὅσος, διαιρέω...          40   \n695  [[κίνησις, ζῷον, ὅσος, ἕκαστος, ὑπάρχω, γένος,...           0   \n696  [[ἐνύπνιον, ζητητέος, πρῶτος, ψυχή, φαίνω, νοη...           0   \n697  [[πρῶτος, δεῖ, τίθημι, ὄνομα, ῥῆμα, ἀπόφασις, ...           0   \n698  [[νεότης, γῆρας, ζωή, θάνατος, λεκτέος], [ἀναπ...           0   \n699  [[μακρόβια, ζῷον, βραχύβια, ζωή, μῆκος, βραχύτ...           3   \n700  [[χρήσιμος, μόριον, ζῷον, κίνησις, τόπος, ἐπισ...           2   \n701  [[προαιρέω, λέγω, ἠθικός, πρῶτος, εἰμί, σκεπτέ...           1   \n702  [[αἰσθητήριον, αἰσθητός, τρόπος, ἔχω, ἕκαστος,...           0   \n703  [[ἄνθρωπος, οἶδα, ὀρέγω, φύσις], [σημεῖον, αἴσ...           2   \n704  [[πρῶτος, αἴτιος, φύσις, κίνησις, φυσικός, φορ...           0   \n705  [[οἰκονομικός, πολιτικός, διαφέρω, μόνος, τοσο...           3   \n706  [[θεωρία, μέθοδος, ταπεινοτέραν, τίμιος, φαίνω...           6   \n707  [[ἐπειθὴ, οἶδα, ἐπίσταμαι, συμβαίνω, πᾶς, μεθό...           2   \n708  [[ποιητικός, εἰδοί, δύναμις, ἕκαστος, ἔχω, δεῖ...           0   \n709  [[πόλις, ὁράω, κοινωνία, κοινωνία, ἀγαθός, τὶς...          18   \n710  [[ἀναπνοή, ὀλίγος, τὶς, πρότερος, φυσικός, λέγ...           0   \n711  [[ῥητορικός, εἰμί, ἀντίστροφος, διαλεκτικός], ...           6   \n712  [[σοφιστικός, ἔλεγχος], [σοφιστικός, ἐλεγχής, ...           1   \n713  [[ἔπειμι, ψυχή, ἑαυτοῦ, ὁρίζω, δύναμις, ἕκαστο...           0   \n714  [[ὕπνος, ἐγρηγόρσεως, σκεπτέος, τυγχάνω, εἰμί,...           0   \n715  [[ἔμφυτος, πνεῦμα, διαμονή, αὔξησις], [ὁράω, π...           0   \n716  [[πρόθεσις, πραγματεία, μέθοδος, εὑρίσκω, δύνα...           0   \n717  [[ἐπαινετός, εἰμί, καλός, ψεκτός, αἰσχρός], [κ...           1   \n718  [[], [ἐοεὶ, παραδεδομένα, ψυχή, ἄλλος, ἕκαστος...           0   \n719  [[κινούμενον, ἀνάγκη, κινέω], [ἔχω, ἀρχή, κίνη...           0   \n\n    count_ὀδύν*  count_ἄλγ* count_λύπ*  \\\n685           0           1          0   \n686           0           0         12   \n687           2           1          0   \n688           0           0          0   \n689           0           0          2   \n690           0           0          0   \n691           1           4         76   \n692           0           6        153   \n693           0           0          1   \n694           0          12          5   \n695           0           0          3   \n696           0           0          1   \n697           0           0          0   \n698           0           0          0   \n699           0           0          0   \n700           0           0          0   \n701           0           0         43   \n702           0           0          0   \n703           0           0          4   \n704           0           0          0   \n705           0           0          0   \n706           1           1          4   \n707           0           0          4   \n708           1           0          0   \n709           0           0         11   \n710           0           1          0   \n711           0           4         64   \n712           0           0          0   \n713           0           0          5   \n714           0           0          1   \n715           0           0          0   \n716           0           6         21   \n717           0           0          2   \n718           0           0          1   \n719           0           0          1   \n\n                                             conc_lype  \\\n685                                                 []   \n686  [[κινέω, εἰμί, κινέω, ψυχή, οἷος, κινέω, τόπος...   \n687                                                 []   \n688                                                 []   \n689  [[φυσικός, ἄλλος, σύμπτωμα, γίγνομαι, ἀκίνητος...   \n690                                                 []   \n691  [[εἰμί, αἵρεσις, δίδωμι, γίγνομαι, βίος, ζῶ, π...   \n692  [[ῥοπή, ζωή, μέγας, πολύς, γίγνομαι, μακάριος,...   \n693  [[ἅπτω, κινέω, κινούμενα, ὁμογενής, ἀνάγκη, δο...   \n694  [[κεφαλή, συνόχωκα, αὐτός, οὗτος, τείνω, σφαγή...   \n695  [[σῶμα, διαφορά, οὗτος, ἐναντίος, ἀρχή, λέγω, ...   \n696  [[σῶμα, γίγνομαι, πάθος, οὗτος, καλέω, ὕπνος, ...   \n697                                                 []   \n698                                                 []   \n699                                                 []   \n700                                                 []   \n701  [[φθείρω, ἀρετή, πᾶς, φθείρω, μηδείς, μέτριος,...   \n702                                                 []   \n703  [[νόμος, δηλόω, μέγας, ἰσχύω, γιγνώσκω, ἔθος, ...   \n704                                                 []   \n705                                                 []   \n706  [[δεῖ, λαμβάνω, ἔργον, θερμός, πόσος, πολύς, τ...   \n707  [[ταχύς, ἀλλοίωσις, βίαιος, φυσικός, οἷος, ἡμέ...   \n708                                                 []   \n709  [[ζώιον, μέλιττα, ἀγελαῖος, ζῷον, δῆλος, οὐδεί...   \n710                                                 []   \n711  [[μέλλω, εἰμί, δικαστής, πάρειμι, κρίνω, φιλέω...   \n712                                                 []   \n713  [[μέγας, κοινός, ἴδιος, ζῷον, κοινός, ψυχή, εἰ...   \n714  [[φημί, λύσις, ἄνεσις, φυτόν, οἷος, κοινωνέω, ...   \n715                                                 []   \n716  [[χυμός, ὄγκος, ἁφή, γεύω, διαφωνέω, ὄνομα, ἐν...   \n717  [[παρέπομαι, σωφροσύνη, αἰδώς, εὐλάβεια, ἐγκρά...   \n718  [[ἐρῶ, αἰσθητός, εἰμί, ὀσμή, ψόφος, φῶς, αἴτιο...   \n719  [[ἀποβολή, ἀλλοίωσις, οὗτος, οὐδέτερος, ἀλλοιό...   \n\n                                             sentences  \n685  [Πρῶτον εἰπεῖν περὶ τί καὶ τίνος ἐστὶν ἡ σκέψι...  \n686  [Τῶν καλῶν καὶ τιμίων τὴν εἴδησιν ὑπολαμβάνοντ...  \n687  [Ἀθηναῖοι τὸ μὲν ἐξ ἀρχῆς ἐχρῶντο βασιλείᾳ., σ...  \n688  [Ἡ περὶ φύσεως ἐπιστήμη σχεδὸν ἡ πλείστη φαίνε...  \n689  [ὉΜΩΝΥΜΑ λέγεται ὧν ὄνομα μόνον κοινόν, ὁ δὲ κ...  \n690  [Περὶ δὲ τῆς μαντικῆς τῆς ἐν τοῖς ὕπνοις γινομ...  \n691  [ὁ μὲν ἐν Δήλῳ παρὰ τῷ θεῷ τὴν αὑτοῦ γνώμην ἀπ...  \n692  [πᾶσα τέχνη καὶ πᾶσα μέθοδος, ὁμοίως δὲ πρᾶξίς...  \n693  [Περὶ δὲ γενέσεως καὶ φθορᾶς τῶν φύσει γινομέν...  \n694  [ΤΩΝ ἐν τοῖς ζῴοις μορίων τὰ μέν ἐστιν ἀσύνθετ...  \n695  [Περὶ δὲ κινήσεως τῆς τῶν ζῴων, ὅσα μὲν αὐτῶν ...  \n696  [Μετὰ δὲ ταῦτα περὶ ἐνυπνίου ζητητέον, καὶ πρῶ...  \n697  [ΠΡΩΤΟΝ δεῖ θέσθαι τί ὄνομα καὶ τί ῥῆμα, ἔπειτ...  \n698  [Περὶ δὲ νεότητος καὶ γήρως καὶ περὶ ζωῆς καὶ ...  \n699  [Περὶ δὲ τοῦ τὰ μὲν εἶναι μακρόβια τῶν ζῴων τὰ...  \n700  [Περὶ δὲ τῶν χρησίμων μορίων τοῖς ζῴοις πρὸς τ...  \n701  [Ἐπειδὴ προαιρούμεθα λέγειν ὑπὲρ ἠθικῶν, πρῶτο...  \n702  [Περὶ μὲν οῦν τῶν αἰσθητηρίων καὶ τῶν αἰσθητῶν...  \n703  [πάντες ἄνθρωποι τοῦ εἰδέναι ὀρέγονται φύσει.,...  \n704  [Περὶ μὲν οὖν τῶν πρώτων αἰτίων τῆς φύσεως καὶ...  \n705  [ἡ οἰκονομικὴ καὶ πολιτικὴ διαφέρει οὐ μόνον τ...  \n706  [Περὶ πᾶσαν θεωρίαν τε καὶ μέθοδον, ὁμοίως ταπ...  \n707  [Ἐπειθὴ τὸ εἰδέναι καὶ τὸ ἐπίστασθαι συμβαίνει...  \n708  [Περι ποιητικῆς αὐτῆς τε καὶ τῶν εἰδῶν αὐτῆς, ...  \n709  [ἐπειδὴ πᾶσαν πόλιν ὁρῶμεν κοινωνίαν τινὰ οὖσα...  \n710  [Περὶ γὰρ ἀναπνοῆς ὀλίγοι μέν τινες τῶν πρότερ...  \n711  [ἡ ῥητορική ἐστιν ἀντίστροφος τῇ διαλεκτικῇ·, ...  \n712  [ΠΕΡΙ ΣΟΦΙΣΤΙΚΩΝ ΕΛΕΓΧΩΝ., ΠΕΡΙ δὲ τῶν σοφιστι...  \n713  [ἘΠΕΙ δὲ περὶ ψυχῆς καθʼ αὑτὴν διώρισται καὶ π...  \n714  [Περὶ δὲ ὕπνου καὶ ἐγρηγόρσεως σκεπτέον, τίνα ...  \n715  [Τίς ἡ τοῦ ἐμφύτου πνεύματος διαμονή, καὶ τίς ...  \n716  [Ἡ ΜΕΝ πρόθεσις τῆς πραγματείας μέθοδον εὑρεῖν...  \n717  [ἐπαινετὰ μέν ἐστι τὰ καλά, ψεκτὰ δὲ τὰ αἰσχρά...  \n718  [., ,  Ἐοεὶ δὲ τὰ παραδεδομένα περὶ ψυχῆς παρὰ...  \n719  [Απαν τὸ κινούμενον ἀνάγκη ὑπό τινος κινεῖσθαι...  \n\n[35 rows x 26 columns]",
      "text/html": "<div>\n<style scoped>\n    .dataframe tbody tr th:only-of-type {\n        vertical-align: middle;\n    }\n\n    .dataframe tbody tr th {\n        vertical-align: top;\n    }\n\n    .dataframe thead th {\n        text-align: right;\n    }\n</style>\n<table border=\"1\" class=\"dataframe\">\n  <thead>\n    <tr style=\"text-align: right;\">\n      <th></th>\n      <th>filename</th>\n      <th>author</th>\n      <th>title</th>\n      <th>wordcount</th>\n      <th>author_id</th>\n      <th>doc_id</th>\n      <th>raw_date</th>\n      <th>date_avr</th>\n      <th>date_probs</th>\n      <th>date_manual</th>\n      <th>...</th>\n      <th>lemmata_wordcount</th>\n      <th>subcorpus</th>\n      <th>lemmata_repl</th>\n      <th>lemmatized_sentences_repl</th>\n      <th>count_πόνο*</th>\n      <th>count_ὀδύν*</th>\n      <th>count_ἄλγ*</th>\n      <th>count_λύπ*</th>\n      <th>conc_lype</th>\n      <th>sentences</th>\n    </tr>\n  </thead>\n  <tbody>\n    <tr>\n      <th>685</th>\n      <td>tlg0086.tlg001.1st1K-grc2.xml</td>\n      <td>Aristotle</td>\n      <td>Aristotelis Analytica Priora et Posteriora</td>\n      <td>59614</td>\n      <td>tlg0086</td>\n      <td>tlg0086.tlg001</td>\n      <td>4 B.C.</td>\n      <td>-3.5</td>\n      <td>{'-3.5': 1}</td>\n      <td>-3.5</td>\n      <td>...</td>\n      <td>24680</td>\n      <td>c_aristotelicum</td>\n      <td>[πρῶτος, λέγω, εἰμί, σκέψις, ἀπόδειξις, ἐπιστή...</td>\n      <td>[[πρῶτος, λέγω, εἰμί, σκέψις, ἀπόδειξις, ἐπιστ...</td>\n      <td>0</td>\n      <td>0</td>\n      <td>1</td>\n      <td>0</td>\n      <td>[]</td>\n      <td>[Πρῶτον εἰπεῖν περὶ τί καὶ τίνος ἐστὶν ἡ σκέψι...</td>\n    </tr>\n    <tr>\n      <th>686</th>\n      <td>tlg0086.tlg002.1st1K-grc2.xml</td>\n      <td>Aristotle</td>\n      <td>De anima</td>\n      <td>20912</td>\n      <td>tlg0086</td>\n      <td>tlg0086.tlg002</td>\n      <td>4 B.C.</td>\n      <td>-3.5</td>\n      <td>{'-3.5': 1}</td>\n      <td>-3.5</td>\n      <td>...</td>\n      <td>9395</td>\n      <td>c_aristotelicum</td>\n      <td>[καλός, τίμιος, εἶδος, ὑπολαμβάνω, ἕτερος, ἕτε...</td>\n      <td>[[καλός, τίμιος, εἶδος, ὑπολαμβάνω, ἕτερος, ἕτ...</td>\n      <td>0</td>\n      <td>0</td>\n      <td>0</td>\n      <td>12</td>\n      <td>[[κινέω, εἰμί, κινέω, ψυχή, οἷος, κινέω, τόπος...</td>\n      <td>[Τῶν καλῶν καὶ τιμίων τὴν εἴδησιν ὑπολαμβάνοντ...</td>\n    </tr>\n    <tr>\n      <th>687</th>\n      <td>tlg0086.tlg003.perseus-grc1.xml</td>\n      <td>Aristotle</td>\n      <td>Athenian Constitution</td>\n      <td>16459</td>\n      <td>tlg0086</td>\n      <td>tlg0086.tlg003</td>\n      <td>4 B.C.</td>\n      <td>-3.5</td>\n      <td>{'-3.5': 1}</td>\n      <td>-3.5</td>\n      <td>...</td>\n      <td>8088</td>\n      <td>None</td>\n      <td>[Ἀθηναῖος, ἀρχή, χράω, βασίλειος, συνοικησάντο...</td>\n      <td>[[Ἀθηναῖος, ἀρχή, χράω, βασίλειος], [συνοικησά...</td>\n      <td>0</td>\n      <td>2</td>\n      <td>1</td>\n      <td>0</td>\n      <td>[]</td>\n      <td>[Ἀθηναῖοι τὸ μὲν ἐξ ἀρχῆς ἐχρῶντο βασιλείᾳ., σ...</td>\n    </tr>\n    <tr>\n      <th>688</th>\n      <td>tlg0086.tlg005.1st1K-grc1.xml</td>\n      <td>Aristotle</td>\n      <td>De caelo</td>\n      <td>30794</td>\n      <td>tlg0086</td>\n      <td>tlg0086.tlg005</td>\n      <td>4 B.C.</td>\n      <td>-3.5</td>\n      <td>{'-3.5': 1}</td>\n      <td>-3.5</td>\n      <td>...</td>\n      <td>13437</td>\n      <td>c_aristotelicum</td>\n      <td>[φύσις, ἐπιστήμη, πλεῖστος, φαίνω, σῶμα, μέγεθ...</td>\n      <td>[[φύσις, ἐπιστήμη, πλεῖστος, φαίνω, σῶμα, μέγε...</td>\n      <td>1</td>\n      <td>0</td>\n      <td>0</td>\n      <td>0</td>\n      <td>[]</td>\n      <td>[Ἡ περὶ φύσεως ἐπιστήμη σχεδὸν ἡ πλείστη φαίνε...</td>\n    </tr>\n    <tr>\n      <th>689</th>\n      <td>tlg0086.tlg006.1st1K-grc1.xml</td>\n      <td>Aristotle</td>\n      <td>Categoriae</td>\n      <td>10316</td>\n      <td>tlg0086</td>\n      <td>tlg0086.tlg006</td>\n      <td>4 B.C.</td>\n      <td>-3.5</td>\n      <td>{'-3.5': 1}</td>\n      <td>-3.5</td>\n      <td>...</td>\n      <td>4678</td>\n      <td>c_aristotelicum</td>\n      <td>[ὁμώνυμος, λέγω, ὄνομα, μόνος, κοινός, ὄνομα, ...</td>\n      <td>[[ὁμώνυμος, λέγω, ὄνομα, μόνος, κοινός, ὄνομα,...</td>\n      <td>0</td>\n      <td>0</td>\n      <td>0</td>\n      <td>2</td>\n      <td>[[φυσικός, ἄλλος, σύμπτωμα, γίγνομαι, ἀκίνητος...</td>\n      <td>[ὉΜΩΝΥΜΑ λέγεται ὧν ὄνομα μόνον κοινόν, ὁ δὲ κ...</td>\n    </tr>\n    <tr>\n      <th>690</th>\n      <td>tlg0086.tlg008.1st1K-grc1.xml</td>\n      <td>Aristotle</td>\n      <td>De divinatione per somnum</td>\n      <td>1194</td>\n      <td>tlg0086</td>\n      <td>tlg0086.tlg008</td>\n      <td>4 B.C.</td>\n      <td>-3.5</td>\n      <td>{'-3.5': 1}</td>\n      <td>-3.5</td>\n      <td>...</td>\n      <td>549</td>\n      <td>c_aristotelicum</td>\n      <td>[μαντικός, ὕπνος, γίγνομαι, λέγω, συμβαίνω, ἐν...</td>\n      <td>[[μαντικός, ὕπνος, γίγνομαι, λέγω, συμβαίνω, ἐ...</td>\n      <td>0</td>\n      <td>0</td>\n      <td>0</td>\n      <td>0</td>\n      <td>[]</td>\n      <td>[Περὶ δὲ τῆς μαντικῆς τῆς ἐν τοῖς ὕπνοις γινομ...</td>\n    </tr>\n    <tr>\n      <th>691</th>\n      <td>tlg0086.tlg009.perseus-grc1.xml</td>\n      <td>Aristotle</td>\n      <td>Eudemian Ethics (Greek). Machine readable text</td>\n      <td>26345</td>\n      <td>tlg0086</td>\n      <td>tlg0086.tlg009</td>\n      <td>4 B.C.</td>\n      <td>-3.5</td>\n      <td>{'-3.5': 1}</td>\n      <td>-3.5</td>\n      <td>...</td>\n      <td>11564</td>\n      <td>c_aristotelicum</td>\n      <td>[δῆλος, θεός, ἑαυτοῦ, γνώμη, ἀποφηνάμενος, συγ...</td>\n      <td>[[δῆλος, θεός, ἑαυτοῦ, γνώμη, ἀποφηνάμενος, συ...</td>\n      <td>7</td>\n      <td>1</td>\n      <td>4</td>\n      <td>76</td>\n      <td>[[εἰμί, αἵρεσις, δίδωμι, γίγνομαι, βίος, ζῶ, π...</td>\n      <td>[ὁ μὲν ἐν Δήλῳ παρὰ τῷ θεῷ τὴν αὑτοῦ γνώμην ἀπ...</td>\n    </tr>\n    <tr>\n      <th>692</th>\n      <td>tlg0086.tlg010.perseus-grc1.xml</td>\n      <td>Aristotle</td>\n      <td>Nicomachean Ethics</td>\n      <td>56620</td>\n      <td>tlg0086</td>\n      <td>tlg0086.tlg010</td>\n      <td>4 B.C.</td>\n      <td>-3.5</td>\n      <td>{'-3.5': 1}</td>\n      <td>-3.5</td>\n      <td>...</td>\n      <td>25082</td>\n      <td>c_aristotelicum</td>\n      <td>[τέχνη, πᾶς, μέθοδος, πρᾶξις, προαίρεσις, ἀγαθ...</td>\n      <td>[[τέχνη, πᾶς, μέθοδος, πρᾶξις, προαίρεσις, ἀγα...</td>\n      <td>11</td>\n      <td>0</td>\n      <td>6</td>\n      <td>153</td>\n      <td>[[ῥοπή, ζωή, μέγας, πολύς, γίγνομαι, μακάριος,...</td>\n      <td>[πᾶσα τέχνη καὶ πᾶσα μέθοδος, ὁμοίως δὲ πρᾶξίς...</td>\n    </tr>\n    <tr>\n      <th>693</th>\n      <td>tlg0086.tlg013.1st1K-grc2.xml</td>\n      <td>Aristotle</td>\n      <td>De generatione et corruptione</td>\n      <td>16914</td>\n      <td>tlg0086</td>\n      <td>tlg0086.tlg013</td>\n      <td>4 B.C.</td>\n      <td>-3.5</td>\n      <td>{'-3.5': 1}</td>\n      <td>-3.5</td>\n      <td>...</td>\n      <td>7430</td>\n      <td>None</td>\n      <td>[γένεσις, φθορά, φύσις, γίγνομαι, φθειρομένων,...</td>\n      <td>[[γένεσις, φθορά, φύσις, γίγνομαι, φθειρομένων...</td>\n      <td>0</td>\n      <td>0</td>\n      <td>0</td>\n      <td>1</td>\n      <td>[[ἅπτω, κινέω, κινούμενα, ὁμογενής, ἀνάγκη, δο...</td>\n      <td>[Περὶ δὲ γενέσεως καὶ φθορᾶς τῶν φύσει γινομέν...</td>\n    </tr>\n    <tr>\n      <th>694</th>\n      <td>tlg0086.tlg014.1st1K-grc1.xml</td>\n      <td>Aristotle</td>\n      <td>Historia animalium</td>\n      <td>93923</td>\n      <td>tlg0086</td>\n      <td>tlg0086.tlg014</td>\n      <td>4 B.C.</td>\n      <td>-3.5</td>\n      <td>{'-3.5': 1}</td>\n      <td>-3.5</td>\n      <td>...</td>\n      <td>43967</td>\n      <td>c_aristotelicum</td>\n      <td>[ζῷον, μόριον, εἰμί, ἀσύνθετος, ὅσος, διαιρέω,...</td>\n      <td>[[ζῷον, μόριον, εἰμί, ἀσύνθετος, ὅσος, διαιρέω...</td>\n      <td>40</td>\n      <td>0</td>\n      <td>12</td>\n      <td>5</td>\n      <td>[[κεφαλή, συνόχωκα, αὐτός, οὗτος, τείνω, σφαγή...</td>\n      <td>[ΤΩΝ ἐν τοῖς ζῴοις μορίων τὰ μέν ἐστιν ἀσύνθετ...</td>\n    </tr>\n    <tr>\n      <th>695</th>\n      <td>tlg0086.tlg015.1st1K-grc1.xml</td>\n      <td>Aristoteles</td>\n      <td>De animalium motione</td>\n      <td>4851</td>\n      <td>tlg0086</td>\n      <td>tlg0086.tlg015</td>\n      <td>4 B.C.</td>\n      <td>-3.5</td>\n      <td>{'-3.5': 1}</td>\n      <td>-3.5</td>\n      <td>...</td>\n      <td>2059</td>\n      <td>None</td>\n      <td>[κίνησις, ζῷον, ὅσος, ἕκαστος, ὑπάρχω, γένος, ...</td>\n      <td>[[κίνησις, ζῷον, ὅσος, ἕκαστος, ὑπάρχω, γένος,...</td>\n      <td>0</td>\n      <td>0</td>\n      <td>0</td>\n      <td>3</td>\n      <td>[[σῶμα, διαφορά, οὗτος, ἐναντίος, ἀρχή, λέγω, ...</td>\n      <td>[Περὶ δὲ κινήσεως τῆς τῶν ζῴων, ὅσα μὲν αὐτῶν ...</td>\n    </tr>\n    <tr>\n      <th>696</th>\n      <td>tlg0086.tlg016.1st1K-grc1.xml</td>\n      <td>Aristotle</td>\n      <td>De insomniis</td>\n      <td>2436</td>\n      <td>tlg0086</td>\n      <td>tlg0086.tlg016</td>\n      <td>4 B.C.</td>\n      <td>-3.5</td>\n      <td>{'-3.5': 1}</td>\n      <td>-3.5</td>\n      <td>...</td>\n      <td>1095</td>\n      <td>c_aristotelicum</td>\n      <td>[ἐνύπνιον, ζητητέος, πρῶτος, ψυχή, φαίνω, νοητ...</td>\n      <td>[[ἐνύπνιον, ζητητέος, πρῶτος, ψυχή, φαίνω, νοη...</td>\n      <td>0</td>\n      <td>0</td>\n      <td>0</td>\n      <td>1</td>\n      <td>[[σῶμα, γίγνομαι, πάθος, οὗτος, καλέω, ὕπνος, ...</td>\n      <td>[Μετὰ δὲ ταῦτα περὶ ἐνυπνίου ζητητέον, καὶ πρῶ...</td>\n    </tr>\n    <tr>\n      <th>697</th>\n      <td>tlg0086.tlg017.1st1K-grc1.xml</td>\n      <td>Aristotle</td>\n      <td>De interpretatione</td>\n      <td>6271</td>\n      <td>tlg0086</td>\n      <td>tlg0086.tlg017</td>\n      <td>4 B.C.</td>\n      <td>-3.5</td>\n      <td>{'-3.5': 1}</td>\n      <td>-3.5</td>\n      <td>...</td>\n      <td>2632</td>\n      <td>c_aristotelicum</td>\n      <td>[πρῶτος, δεῖ, τίθημι, ὄνομα, ῥῆμα, ἀπόφασις, κ...</td>\n      <td>[[πρῶτος, δεῖ, τίθημι, ὄνομα, ῥῆμα, ἀπόφασις, ...</td>\n      <td>0</td>\n      <td>0</td>\n      <td>0</td>\n      <td>0</td>\n      <td>[]</td>\n      <td>[ΠΡΩΤΟΝ δεῖ θέσθαι τί ὄνομα καὶ τί ῥῆμα, ἔπειτ...</td>\n    </tr>\n    <tr>\n      <th>698</th>\n      <td>tlg0086.tlg018.1st1K-grc1.xml</td>\n      <td>Aristotle</td>\n      <td>De iuventute et senectute, De vita et morte</td>\n      <td>1845</td>\n      <td>tlg0086</td>\n      <td>tlg0086.tlg018</td>\n      <td>4 B.C.</td>\n      <td>-3.5</td>\n      <td>{'-3.5': 1}</td>\n      <td>-3.5</td>\n      <td>...</td>\n      <td>831</td>\n      <td>c_aristotelicum</td>\n      <td>[νεότης, γῆρας, ζωή, θάνατος, λεκτέος, ἀναπνοή...</td>\n      <td>[[νεότης, γῆρας, ζωή, θάνατος, λεκτέος], [ἀναπ...</td>\n      <td>0</td>\n      <td>0</td>\n      <td>0</td>\n      <td>0</td>\n      <td>[]</td>\n      <td>[Περὶ δὲ νεότητος καὶ γήρως καὶ περὶ ζωῆς καὶ ...</td>\n    </tr>\n    <tr>\n      <th>699</th>\n      <td>tlg0086.tlg020.1st1K-grc1.xml</td>\n      <td>Aristotle</td>\n      <td>De longitudine et brevitate vitae</td>\n      <td>1789</td>\n      <td>tlg0086</td>\n      <td>tlg0086.tlg020</td>\n      <td>4 B.C.</td>\n      <td>-3.5</td>\n      <td>{'-3.5': 1}</td>\n      <td>-3.5</td>\n      <td>...</td>\n      <td>789</td>\n      <td>c_aristotelicum</td>\n      <td>[μακρόβια, ζῷον, βραχύβια, ζωή, μῆκος, βραχύτη...</td>\n      <td>[[μακρόβια, ζῷον, βραχύβια, ζωή, μῆκος, βραχύτ...</td>\n      <td>3</td>\n      <td>0</td>\n      <td>0</td>\n      <td>0</td>\n      <td>[]</td>\n      <td>[Περὶ δὲ τοῦ τὰ μὲν εἶναι μακρόβια τῶν ζῴων τὰ...</td>\n    </tr>\n    <tr>\n      <th>700</th>\n      <td>tlg0086.tlg021.1st1K-grc1.xml</td>\n      <td>Aristoteles</td>\n      <td>De animalium incessu</td>\n      <td>7720</td>\n      <td>tlg0086</td>\n      <td>tlg0086.tlg021</td>\n      <td>4 B.C.</td>\n      <td>-3.5</td>\n      <td>{'-3.5': 1}</td>\n      <td>-3.5</td>\n      <td>...</td>\n      <td>3137</td>\n      <td>c_aristotelicum</td>\n      <td>[χρήσιμος, μόριον, ζῷον, κίνησις, τόπος, ἐπισκ...</td>\n      <td>[[χρήσιμος, μόριον, ζῷον, κίνησις, τόπος, ἐπισ...</td>\n      <td>2</td>\n      <td>0</td>\n      <td>0</td>\n      <td>0</td>\n      <td>[]</td>\n      <td>[Περὶ δὲ τῶν χρησίμων μορίων τοῖς ζῴοις πρὸς τ...</td>\n    </tr>\n    <tr>\n      <th>701</th>\n      <td>tlg0086.tlg022.1st1K-grc1.xml</td>\n      <td>Aristotle</td>\n      <td>Magna Moralia</td>\n      <td>32317</td>\n      <td>tlg0086</td>\n      <td>tlg0086.tlg022</td>\n      <td>4 B.C.</td>\n      <td>-3.5</td>\n      <td>{'-3.5': 1}</td>\n      <td>-3.5</td>\n      <td>...</td>\n      <td>12354</td>\n      <td>c_aristotelicum</td>\n      <td>[προαιρέω, λέγω, ἠθικός, πρῶτος, εἰμί, σκεπτέο...</td>\n      <td>[[προαιρέω, λέγω, ἠθικός, πρῶτος, εἰμί, σκεπτέ...</td>\n      <td>1</td>\n      <td>0</td>\n      <td>0</td>\n      <td>43</td>\n      <td>[[φθείρω, ἀρετή, πᾶς, φθείρω, μηδείς, μέτριος,...</td>\n      <td>[Ἐπειδὴ προαιρούμεθα λέγειν ὑπὲρ ἠθικῶν, πρῶτο...</td>\n    </tr>\n    <tr>\n      <th>702</th>\n      <td>tlg0086.tlg024.1st1K-grc1.xml</td>\n      <td>Aristotle</td>\n      <td>De memoria et reminiscentia</td>\n      <td>2515</td>\n      <td>tlg0086</td>\n      <td>tlg0086.tlg024</td>\n      <td>4 B.C.</td>\n      <td>-3.5</td>\n      <td>{'-3.5': 1}</td>\n      <td>-3.5</td>\n      <td>...</td>\n      <td>1060</td>\n      <td>c_aristotelicum</td>\n      <td>[αἰσθητήριον, αἰσθητός, τρόπος, ἔχω, ἕκαστος, ...</td>\n      <td>[[αἰσθητήριον, αἰσθητός, τρόπος, ἔχω, ἕκαστος,...</td>\n      <td>0</td>\n      <td>0</td>\n      <td>0</td>\n      <td>0</td>\n      <td>[]</td>\n      <td>[Περὶ μὲν οῦν τῶν αἰσθητηρίων καὶ τῶν αἰσθητῶν...</td>\n    </tr>\n    <tr>\n      <th>703</th>\n      <td>tlg0086.tlg025.perseus-grc1.xml</td>\n      <td>Aristotle</td>\n      <td>Metaphysics (Greek). Machine readable text</td>\n      <td>78887</td>\n      <td>tlg0086</td>\n      <td>tlg0086.tlg025</td>\n      <td>4 B.C.</td>\n      <td>-3.5</td>\n      <td>{'-3.5': 1}</td>\n      <td>-3.5</td>\n      <td>...</td>\n      <td>33556</td>\n      <td>c_aristotelicum</td>\n      <td>[ἄνθρωπος, οἶδα, ὀρέγω, φύσις, σημεῖον, αἴσθησ...</td>\n      <td>[[ἄνθρωπος, οἶδα, ὀρέγω, φύσις], [σημεῖον, αἴσ...</td>\n      <td>2</td>\n      <td>0</td>\n      <td>0</td>\n      <td>4</td>\n      <td>[[νόμος, δηλόω, μέγας, ἰσχύω, γιγνώσκω, ἔθος, ...</td>\n      <td>[πάντες ἄνθρωποι τοῦ εἰδέναι ὀρέγονται φύσει.,...</td>\n    </tr>\n    <tr>\n      <th>704</th>\n      <td>tlg0086.tlg026.1st1K-grc2.xml</td>\n      <td>Aristotle</td>\n      <td>Meteorologica</td>\n      <td>61933</td>\n      <td>tlg0086</td>\n      <td>tlg0086.tlg026</td>\n      <td>4 B.C.</td>\n      <td>-3.5</td>\n      <td>{'-3.5': 1}</td>\n      <td>-3.5</td>\n      <td>...</td>\n      <td>23448</td>\n      <td>c_aristotelicum</td>\n      <td>[πρῶτος, αἴτιος, φύσις, κίνησις, φυσικός, φορά...</td>\n      <td>[[πρῶτος, αἴτιος, φύσις, κίνησις, φυσικός, φορ...</td>\n      <td>0</td>\n      <td>0</td>\n      <td>0</td>\n      <td>0</td>\n      <td>[]</td>\n      <td>[Περὶ μὲν οὖν τῶν πρώτων αἰτίων τῆς φύσεως καὶ...</td>\n    </tr>\n    <tr>\n      <th>705</th>\n      <td>tlg0086.tlg029.perseus-grc1.xml</td>\n      <td>Aristotle</td>\n      <td>Economics (Greek). Machine readable text</td>\n      <td>6226</td>\n      <td>tlg0086</td>\n      <td>tlg0086.tlg029</td>\n      <td>4 B.C.</td>\n      <td>-3.5</td>\n      <td>{'-3.5': 1}</td>\n      <td>-3.5</td>\n      <td>...</td>\n      <td>3215</td>\n      <td>c_aristotelicum</td>\n      <td>[οἰκονομικός, πολιτικός, διαφέρω, μόνος, τοσοῦ...</td>\n      <td>[[οἰκονομικός, πολιτικός, διαφέρω, μόνος, τοσο...</td>\n      <td>3</td>\n      <td>0</td>\n      <td>0</td>\n      <td>0</td>\n      <td>[]</td>\n      <td>[ἡ οἰκονομικὴ καὶ πολιτικὴ διαφέρει οὐ μόνον τ...</td>\n    </tr>\n    <tr>\n      <th>706</th>\n      <td>tlg0086.tlg030.1st1K-grc1.xml</td>\n      <td>Aristotle</td>\n      <td>De partibus animalium</td>\n      <td>40622</td>\n      <td>tlg0086</td>\n      <td>tlg0086.tlg030</td>\n      <td>4 B.C.</td>\n      <td>-3.5</td>\n      <td>{'-3.5': 1}</td>\n      <td>-3.5</td>\n      <td>...</td>\n      <td>18651</td>\n      <td>c_aristotelicum</td>\n      <td>[θεωρία, μέθοδος, ταπεινοτέραν, τίμιος, φαίνω,...</td>\n      <td>[[θεωρία, μέθοδος, ταπεινοτέραν, τίμιος, φαίνω...</td>\n      <td>6</td>\n      <td>1</td>\n      <td>1</td>\n      <td>4</td>\n      <td>[[δεῖ, λαμβάνω, ἔργον, θερμός, πόσος, πολύς, τ...</td>\n      <td>[Περὶ πᾶσαν θεωρίαν τε καὶ μέθοδον, ὁμοίως ταπ...</td>\n    </tr>\n    <tr>\n      <th>707</th>\n      <td>tlg0086.tlg031.1st1K-grc1.xml</td>\n      <td>Aristotle</td>\n      <td>Physica</td>\n      <td>55411</td>\n      <td>tlg0086</td>\n      <td>tlg0086.tlg031</td>\n      <td>4 B.C.</td>\n      <td>-3.5</td>\n      <td>{'-3.5': 1}</td>\n      <td>-3.5</td>\n      <td>...</td>\n      <td>23182</td>\n      <td>c_aristotelicum</td>\n      <td>[ἐπειθὴ, οἶδα, ἐπίσταμαι, συμβαίνω, πᾶς, μεθόδ...</td>\n      <td>[[ἐπειθὴ, οἶδα, ἐπίσταμαι, συμβαίνω, πᾶς, μεθό...</td>\n      <td>2</td>\n      <td>0</td>\n      <td>0</td>\n      <td>4</td>\n      <td>[[ταχύς, ἀλλοίωσις, βίαιος, φυσικός, οἷος, ἡμέ...</td>\n      <td>[Ἐπειθὴ τὸ εἰδέναι καὶ τὸ ἐπίστασθαι συμβαίνει...</td>\n    </tr>\n    <tr>\n      <th>708</th>\n      <td>tlg0086.tlg034.1st1K-grc1.xml</td>\n      <td>Aristotle</td>\n      <td>Ars Poetica</td>\n      <td>10065</td>\n      <td>tlg0086</td>\n      <td>tlg0086.tlg034</td>\n      <td>4 B.C.</td>\n      <td>-3.5</td>\n      <td>{'-3.5': 1}</td>\n      <td>-3.5</td>\n      <td>...</td>\n      <td>4758</td>\n      <td>c_aristotelicum</td>\n      <td>[ποιητικός, εἰδοί, δύναμις, ἕκαστος, ἔχω, δεῖ,...</td>\n      <td>[[ποιητικός, εἰδοί, δύναμις, ἕκαστος, ἔχω, δεῖ...</td>\n      <td>0</td>\n      <td>1</td>\n      <td>0</td>\n      <td>0</td>\n      <td>[]</td>\n      <td>[Περι ποιητικῆς αὐτῆς τε καὶ τῶν εἰδῶν αὐτῆς, ...</td>\n    </tr>\n    <tr>\n      <th>709</th>\n      <td>tlg0086.tlg035.perseus-grc1.xml</td>\n      <td>Aristotle</td>\n      <td>Politics (Greek). Machine readable text</td>\n      <td>65546</td>\n      <td>tlg0086</td>\n      <td>tlg0086.tlg035</td>\n      <td>4 B.C.</td>\n      <td>-3.5</td>\n      <td>{'-3.5': 1}</td>\n      <td>-3.5</td>\n      <td>...</td>\n      <td>30643</td>\n      <td>c_aristotelicum</td>\n      <td>[πόλις, ὁράω, κοινωνία, κοινωνία, ἀγαθός, τὶς,...</td>\n      <td>[[πόλις, ὁράω, κοινωνία, κοινωνία, ἀγαθός, τὶς...</td>\n      <td>18</td>\n      <td>0</td>\n      <td>0</td>\n      <td>11</td>\n      <td>[[ζώιον, μέλιττα, ἀγελαῖος, ζῷον, δῆλος, οὐδεί...</td>\n      <td>[ἐπειδὴ πᾶσαν πόλιν ὁρῶμεν κοινωνίαν τινὰ οὖσα...</td>\n    </tr>\n    <tr>\n      <th>710</th>\n      <td>tlg0086.tlg037.1st1K-grc1.xml</td>\n      <td>Aristotle</td>\n      <td>De respiratione</td>\n      <td>5938</td>\n      <td>tlg0086</td>\n      <td>tlg0086.tlg037</td>\n      <td>4 B.C.</td>\n      <td>-3.5</td>\n      <td>{'-3.5': 1}</td>\n      <td>-3.5</td>\n      <td>...</td>\n      <td>2753</td>\n      <td>None</td>\n      <td>[ἀναπνοή, ὀλίγος, τὶς, πρότερος, φυσικός, λέγω...</td>\n      <td>[[ἀναπνοή, ὀλίγος, τὶς, πρότερος, φυσικός, λέγ...</td>\n      <td>0</td>\n      <td>0</td>\n      <td>1</td>\n      <td>0</td>\n      <td>[]</td>\n      <td>[Περὶ γὰρ ἀναπνοῆς ὀλίγοι μέν τινες τῶν πρότερ...</td>\n    </tr>\n    <tr>\n      <th>711</th>\n      <td>tlg0086.tlg038.perseus-grc1.xml</td>\n      <td>Aristotle</td>\n      <td>Rhetoric</td>\n      <td>43385</td>\n      <td>tlg0086</td>\n      <td>tlg0086.tlg038</td>\n      <td>4 B.C.</td>\n      <td>-3.5</td>\n      <td>{'-3.5': 1}</td>\n      <td>-3.5</td>\n      <td>...</td>\n      <td>19687</td>\n      <td>c_aristotelicum</td>\n      <td>[ῥητορικός, εἰμί, ἀντίστροφος, διαλεκτικός, ἀμ...</td>\n      <td>[[ῥητορικός, εἰμί, ἀντίστροφος, διαλεκτικός], ...</td>\n      <td>6</td>\n      <td>0</td>\n      <td>4</td>\n      <td>64</td>\n      <td>[[μέλλω, εἰμί, δικαστής, πάρειμι, κρίνω, φιλέω...</td>\n      <td>[ἡ ῥητορική ἐστιν ἀντίστροφος τῇ διαλεκτικῇ·, ...</td>\n    </tr>\n    <tr>\n      <th>712</th>\n      <td>tlg0086.tlg040.1st1K-grc1.xml</td>\n      <td>Aristotle</td>\n      <td>De sophisticis elenchis</td>\n      <td>14114</td>\n      <td>tlg0086</td>\n      <td>tlg0086.tlg040</td>\n      <td>4 B.C.</td>\n      <td>-3.5</td>\n      <td>{'-3.5': 1}</td>\n      <td>-3.5</td>\n      <td>...</td>\n      <td>6142</td>\n      <td>c_aristotelicum</td>\n      <td>[σοφιστικός, ἔλεγχος, σοφιστικός, ἐλεγχής, φαί...</td>\n      <td>[[σοφιστικός, ἔλεγχος], [σοφιστικός, ἐλεγχής, ...</td>\n      <td>1</td>\n      <td>0</td>\n      <td>0</td>\n      <td>0</td>\n      <td>[]</td>\n      <td>[ΠΕΡΙ ΣΟΦΙΣΤΙΚΩΝ ΕΛΕΓΧΩΝ., ΠΕΡΙ δὲ τῶν σοφιστι...</td>\n    </tr>\n    <tr>\n      <th>713</th>\n      <td>tlg0086.tlg041.1st1K-grc1.xml</td>\n      <td>Aristotle</td>\n      <td>De sensu et sensibilibus</td>\n      <td>7798</td>\n      <td>tlg0086</td>\n      <td>tlg0086.tlg041</td>\n      <td>4 B.C.</td>\n      <td>-3.5</td>\n      <td>{'-3.5': 1}</td>\n      <td>-3.5</td>\n      <td>...</td>\n      <td>3473</td>\n      <td>c_aristotelicum</td>\n      <td>[ἔπειμι, ψυχή, ἑαυτοῦ, ὁρίζω, δύναμις, ἕκαστος...</td>\n      <td>[[ἔπειμι, ψυχή, ἑαυτοῦ, ὁρίζω, δύναμις, ἕκαστο...</td>\n      <td>0</td>\n      <td>0</td>\n      <td>0</td>\n      <td>5</td>\n      <td>[[μέγας, κοινός, ἴδιος, ζῷον, κοινός, ψυχή, εἰ...</td>\n      <td>[ἘΠΕΙ δὲ περὶ ψυχῆς καθʼ αὑτὴν διώρισται καὶ π...</td>\n    </tr>\n    <tr>\n      <th>714</th>\n      <td>tlg0086.tlg042.1st1K-grc1.xml</td>\n      <td>Aristotle</td>\n      <td>De somno et vigilia</td>\n      <td>2989</td>\n      <td>tlg0086</td>\n      <td>tlg0086.tlg042</td>\n      <td>4 B.C.</td>\n      <td>-3.5</td>\n      <td>{'-3.5': 1}</td>\n      <td>-3.5</td>\n      <td>...</td>\n      <td>1363</td>\n      <td>c_aristotelicum</td>\n      <td>[ὕπνος, ἐγρηγόρσεως, σκεπτέος, τυγχάνω, εἰμί, ...</td>\n      <td>[[ὕπνος, ἐγρηγόρσεως, σκεπτέος, τυγχάνω, εἰμί,...</td>\n      <td>0</td>\n      <td>0</td>\n      <td>0</td>\n      <td>1</td>\n      <td>[[φημί, λύσις, ἄνεσις, φυτόν, οἷος, κοινωνέω, ...</td>\n      <td>[Περὶ δὲ ὕπνου καὶ ἐγρηγόρσεως σκεπτέον, τίνα ...</td>\n    </tr>\n    <tr>\n      <th>715</th>\n      <td>tlg0086.tlg043.1st1K-grc1.xml</td>\n      <td>Aristotle</td>\n      <td>De spiritu</td>\n      <td>4070</td>\n      <td>tlg0086</td>\n      <td>tlg0086.tlg043</td>\n      <td>4 B.C.</td>\n      <td>-3.5</td>\n      <td>{'-3.5': 1}</td>\n      <td>-3.5</td>\n      <td>...</td>\n      <td>1638</td>\n      <td>None</td>\n      <td>[ἔμφυτος, πνεῦμα, διαμονή, αὔξησις, ὁράω, πολύ...</td>\n      <td>[[ἔμφυτος, πνεῦμα, διαμονή, αὔξησις], [ὁράω, π...</td>\n      <td>0</td>\n      <td>0</td>\n      <td>0</td>\n      <td>0</td>\n      <td>[]</td>\n      <td>[Τίς ἡ τοῦ ἐμφύτου πνεύματος διαμονή, καὶ τίς ...</td>\n    </tr>\n    <tr>\n      <th>716</th>\n      <td>tlg0086.tlg044.1st1K-grc1.xml</td>\n      <td>Aristotle</td>\n      <td>Topica</td>\n      <td>44116</td>\n      <td>tlg0086</td>\n      <td>tlg0086.tlg044</td>\n      <td>4 B.C.</td>\n      <td>-3.5</td>\n      <td>{'-3.5': 1}</td>\n      <td>-3.5</td>\n      <td>...</td>\n      <td>19797</td>\n      <td>c_aristotelicum</td>\n      <td>[πρόθεσις, πραγματεία, μέθοδος, εὑρίσκω, δύναμ...</td>\n      <td>[[πρόθεσις, πραγματεία, μέθοδος, εὑρίσκω, δύνα...</td>\n      <td>0</td>\n      <td>0</td>\n      <td>6</td>\n      <td>21</td>\n      <td>[[χυμός, ὄγκος, ἁφή, γεύω, διαφωνέω, ὄνομα, ἐν...</td>\n      <td>[Ἡ ΜΕΝ πρόθεσις τῆς πραγματείας μέθοδον εὑρεῖν...</td>\n    </tr>\n    <tr>\n      <th>717</th>\n      <td>tlg0086.tlg045.perseus-grc2.xml</td>\n      <td>Aristotle</td>\n      <td>Virtues and Vices</td>\n      <td>1497</td>\n      <td>tlg0086</td>\n      <td>tlg0086.tlg045</td>\n      <td>4 B.C.</td>\n      <td>-3.5</td>\n      <td>{'-3.5': 1}</td>\n      <td>-3.5</td>\n      <td>...</td>\n      <td>721</td>\n      <td>None</td>\n      <td>[ἐπαινετός, εἰμί, καλός, ψεκτός, αἰσχρός, καλό...</td>\n      <td>[[ἐπαινετός, εἰμί, καλός, ψεκτός, αἰσχρός], [κ...</td>\n      <td>1</td>\n      <td>0</td>\n      <td>0</td>\n      <td>2</td>\n      <td>[[παρέπομαι, σωφροσύνη, αἰδώς, εὐλάβεια, ἐγκρά...</td>\n      <td>[ἐπαινετὰ μέν ἐστι τὰ καλά, ψεκτὰ δὲ τὰ αἰσχρά...</td>\n    </tr>\n    <tr>\n      <th>718</th>\n      <td>tlg0086.tlg052.1st1K-grc1.xml</td>\n      <td>Aristotle</td>\n      <td>De anima (codicis E fragmenta recensionis a vu...</td>\n      <td>2458</td>\n      <td>tlg0086</td>\n      <td>tlg0086.tlg052</td>\n      <td>4 B.C.</td>\n      <td>-3.5</td>\n      <td>{'-3.5': 1}</td>\n      <td>-3.5</td>\n      <td>...</td>\n      <td>1044</td>\n      <td>None</td>\n      <td>[ἐοεὶ, παραδεδομένα, ψυχή, ἄλλος, ἕκαστος, ἀπο...</td>\n      <td>[[], [ἐοεὶ, παραδεδομένα, ψυχή, ἄλλος, ἕκαστος...</td>\n      <td>0</td>\n      <td>0</td>\n      <td>0</td>\n      <td>1</td>\n      <td>[[ἐρῶ, αἰσθητός, εἰμί, ὀσμή, ψόφος, φῶς, αἴτιο...</td>\n      <td>[., ,  Ἐοεὶ δὲ τὰ παραδεδομένα περὶ ψυχῆς παρὰ...</td>\n    </tr>\n    <tr>\n      <th>719</th>\n      <td>tlg0086.tlg054.1st1K-grc1.xml</td>\n      <td>Aristotle</td>\n      <td>Physica (textus alter)</td>\n      <td>2381</td>\n      <td>tlg0086</td>\n      <td>tlg0086.tlg054</td>\n      <td>4 B.C.</td>\n      <td>-3.5</td>\n      <td>{'-3.5': 1}</td>\n      <td>-3.5</td>\n      <td>...</td>\n      <td>950</td>\n      <td>None</td>\n      <td>[κινούμενον, ἀνάγκη, κινέω, ἔχω, ἀρχή, κίνησις...</td>\n      <td>[[κινούμενον, ἀνάγκη, κινέω], [ἔχω, ἀρχή, κίνη...</td>\n      <td>0</td>\n      <td>0</td>\n      <td>0</td>\n      <td>1</td>\n      <td>[[ἀποβολή, ἀλλοίωσις, οὗτος, οὐδέτερος, ἀλλοιό...</td>\n      <td>[Απαν τὸ κινούμενον ἀνάγκη ὑπό τινος κινεῖσθαι...</td>\n    </tr>\n  </tbody>\n</table>\n<p>35 rows × 26 columns</p>\n</div>"
     },
     "execution_count": 43,
     "metadata": {},
     "output_type": "execute_result"
    }
   ],
   "source": [
    "cgl = cgl[cgl[\"author_id\"]==\"tlg0086\"].copy()\n",
    "cgl"
   ],
   "metadata": {
    "collapsed": false,
    "pycharm": {
     "name": "#%%\n"
    }
   }
  },
  {
   "cell_type": "code",
   "execution_count": 44,
   "outputs": [],
   "source": [
    "ethical_ids = [\"tlg0086.tlg009\", \"tlg0086.tlg010\", \"tlg0086.tlg022\", \"tlg0086.tlg035\", \"tlg0086.tlg038\",]"
   ],
   "metadata": {
    "collapsed": false,
    "pycharm": {
     "name": "#%%\n"
    }
   }
  },
  {
   "cell_type": "code",
   "execution_count": 45,
   "outputs": [],
   "source": [],
   "metadata": {
    "collapsed": false,
    "pycharm": {
     "name": "#%%\n"
    }
   }
  },
  {
   "cell_type": "code",
   "execution_count": 46,
   "outputs": [],
   "source": [
    "v_ud = \"’\"\n",
    "v_agt = \"ʼ\"\n",
    "\n",
    "def get_sentences(string):\n",
    "    splits = re.split(r\"(\\.|\\·|\\:|\\;|\\?|\\!)\" , string)\n",
    "    sentences = []\n",
    "    for n in range(0, len(splits), 2):\n",
    "        try:\n",
    "            sentence = splits[n]+splits[n+1]\n",
    "            sentence = \"\".join([c for c in sentence if re.match(\"[\\w|\\s|\\.|\\,|\\·|\\:|\\;|\\?|\\!]\", c)])\n",
    "            sentence = re.sub(\"^\\s*\", \"\", sentence)\n",
    "            sentence = re.sub(v_ud, v_agt, sentence)\n",
    "            sentences.append(sentence)\n",
    "        except:\n",
    "            sentence = splits[n]\n",
    "            sentence = re.sub(\"^\\s*\", \"\", sentence)\n",
    "            if len(sentence) > 0:\n",
    "                sentences.append(sentence)\n",
    "            break\n",
    "    return sentences\n",
    "cgl[\"sentences\"] = cgl[\"clean_string\"].apply(get_sentences)"
   ],
   "metadata": {
    "collapsed": false,
    "pycharm": {
     "name": "#%%\n"
    }
   }
  },
  {
   "cell_type": "code",
   "execution_count": 51,
   "outputs": [
    {
     "data": {
      "text/plain": "60282"
     },
     "execution_count": 51,
     "metadata": {},
     "output_type": "execute_result"
    }
   ],
   "source": [
    "cgl[\"sentences\"].apply(len).sum()"
   ],
   "metadata": {
    "collapsed": false,
    "pycharm": {
     "name": "#%%\n"
    }
   }
  },
  {
   "cell_type": "code",
   "execution_count": 52,
   "outputs": [
    {
     "data": {
      "text/plain": "60282"
     },
     "execution_count": 52,
     "metadata": {},
     "output_type": "execute_result"
    }
   ],
   "source": [
    "cgl[\"lemmatized_sentences\"].apply(len).sum()"
   ],
   "metadata": {
    "collapsed": false,
    "pycharm": {
     "name": "#%%\n"
    }
   }
  },
  {
   "cell_type": "markdown",
   "source": [
    "perfect, we have the same number of sentences as lemmatized sentences"
   ],
   "metadata": {
    "collapsed": false,
    "pycharm": {
     "name": "#%% md\n"
    }
   }
  },
  {
   "cell_type": "code",
   "execution_count": 50,
   "outputs": [
    {
     "data": {
      "text/plain": "414"
     },
     "execution_count": 50,
     "metadata": {},
     "output_type": "execute_result"
    }
   ],
   "source": [
    "cgl[\"lemmatized_sentences_repl\"].apply(lambda x: sum([sent.count(\"λύπ*\") for sent in x])).sum()"
   ],
   "metadata": {
    "collapsed": false,
    "pycharm": {
     "name": "#%%\n"
    }
   }
  },
  {
   "cell_type": "code",
   "execution_count": 49,
   "outputs": [
    {
     "data": {
      "text/plain": "414"
     },
     "execution_count": 49,
     "metadata": {},
     "output_type": "execute_result"
    }
   ],
   "source": [
    "cgl[\"conc_lype\"].apply(lambda x: len(x)).sum()"
   ],
   "metadata": {
    "collapsed": false,
    "pycharm": {
     "name": "#%%\n"
    }
   }
  },
  {
   "cell_type": "markdown",
   "source": [
    "perfect, we have the same number of lype instances matched in concordances as in lemmatized sentences..."
   ],
   "metadata": {
    "collapsed": false,
    "pycharm": {
     "name": "#%% md\n"
    }
   }
  },
  {
   "cell_type": "code",
   "execution_count": 37,
   "outputs": [
    {
     "data": {
      "text/plain": "[['dswd', 'ewewe']]"
     },
     "execution_count": 37,
     "metadata": {},
     "output_type": "execute_result"
    }
   ],
   "source": [
    "[[\"dswd\", \"ewewe\"]] * 1"
   ],
   "metadata": {
    "collapsed": false,
    "pycharm": {
     "name": "#%%\n"
    }
   }
  },
  {
   "cell_type": "code",
   "execution_count": 53,
   "outputs": [
    {
     "data": {
      "text/plain": "685    [0, 0, 0, 0, 0, 0, 0, 0, 0, 0, 0, 0, 0, 0, 0, ...\n686    [0, 0, 0, 0, 0, 0, 0, 0, 0, 0, 0, 0, 0, 0, 0, ...\n687    [0, 0, 0, 0, 0, 0, 0, 0, 0, 0, 0, 0, 0, 0, 0, ...\n688    [0, 0, 0, 0, 0, 0, 0, 0, 0, 0, 0, 0, 0, 0, 0, ...\n689    [0, 0, 0, 0, 0, 0, 0, 0, 0, 0, 0, 0, 0, 0, 0, ...\n690    [0, 0, 0, 0, 0, 0, 0, 0, 0, 0, 0, 0, 0, 0, 0, ...\n691    [0, 0, 0, 0, 0, 0, 0, 0, 0, 0, 0, 0, 0, 0, 0, ...\n692    [0, 0, 0, 0, 0, 0, 0, 0, 0, 0, 0, 0, 0, 0, 0, ...\n693    [0, 0, 0, 0, 0, 0, 0, 0, 0, 0, 0, 0, 0, 0, 0, ...\n694    [0, 0, 0, 0, 0, 0, 0, 0, 0, 0, 0, 0, 0, 0, 0, ...\n695    [0, 0, 0, 0, 0, 0, 0, 0, 0, 0, 0, 0, 0, 0, 0, ...\n696    [0, 0, 0, 0, 0, 0, 0, 0, 0, 0, 0, 0, 0, 0, 0, ...\n697    [0, 0, 0, 0, 0, 0, 0, 0, 0, 0, 0, 0, 0, 0, 0, ...\n698    [0, 0, 0, 0, 0, 0, 0, 0, 0, 0, 0, 0, 0, 0, 0, ...\n699    [0, 0, 0, 0, 0, 0, 0, 0, 0, 0, 0, 0, 0, 0, 0, ...\n700    [0, 0, 0, 0, 0, 0, 0, 0, 0, 0, 0, 0, 0, 0, 0, ...\n701    [0, 0, 0, 0, 0, 0, 0, 0, 0, 0, 0, 0, 0, 0, 0, ...\n702    [0, 0, 0, 0, 0, 0, 0, 0, 0, 0, 0, 0, 0, 0, 0, ...\n703    [0, 0, 0, 0, 0, 0, 0, 0, 0, 0, 0, 0, 0, 0, 0, ...\n704    [0, 0, 0, 0, 0, 0, 0, 0, 0, 0, 0, 0, 0, 0, 0, ...\n705    [0, 0, 0, 0, 0, 0, 0, 0, 0, 0, 0, 0, 0, 0, 0, ...\n706    [0, 0, 0, 0, 0, 0, 0, 0, 0, 0, 0, 0, 0, 0, 0, ...\n707    [0, 0, 0, 0, 0, 0, 0, 0, 0, 0, 0, 0, 0, 0, 0, ...\n708    [0, 0, 0, 0, 0, 0, 0, 0, 0, 0, 0, 0, 0, 0, 0, ...\n709    [0, 0, 0, 0, 0, 0, 0, 0, 0, 0, 0, 0, 0, 0, 0, ...\n710    [0, 0, 0, 0, 0, 0, 0, 0, 0, 0, 0, 0, 0, 0, 0, ...\n711    [0, 0, 0, 0, 0, 0, 0, 0, 0, 0, 0, 0, 0, 0, 0, ...\n712    [0, 0, 0, 0, 0, 0, 0, 0, 0, 0, 0, 0, 0, 0, 0, ...\n713    [0, 0, 1, 0, 0, 0, 0, 0, 0, 0, 0, 0, 0, 0, 0, ...\n714    [0, 0, 0, 0, 0, 0, 0, 0, 0, 0, 0, 0, 0, 0, 0, ...\n715    [0, 0, 0, 0, 0, 0, 0, 0, 0, 0, 0, 0, 0, 0, 0, ...\n716    [0, 0, 0, 0, 0, 0, 0, 0, 0, 0, 0, 0, 0, 0, 0, ...\n717    [0, 0, 0, 0, 0, 0, 0, 0, 0, 0, 0, 0, 0, 0, 0, ...\n718    [0, 0, 0, 0, 0, 0, 0, 0, 0, 0, 0, 0, 0, 0, 0, ...\n719    [0, 0, 0, 0, 0, 0, 0, 0, 0, 0, 0, 0, 0, 0, 0, ...\nName: lemmatized_sentences_repl, dtype: object"
     },
     "execution_count": 53,
     "metadata": {},
     "output_type": "execute_result"
    }
   ],
   "source": [
    "cgl[\"lemmatized_sentences_repl\"].apply(lambda x: [sent.count(\"λύπ*\") for sent in x])\n"
   ],
   "metadata": {
    "collapsed": false,
    "pycharm": {
     "name": "#%%\n"
    }
   }
  },
  {
   "cell_type": "code",
   "execution_count": 62,
   "outputs": [
    {
     "data": {
      "text/plain": "[(257, 1),\n (261, 1),\n (305, 1),\n (477, 1),\n (499, 2),\n (783, 1),\n (1136, 1),\n (1137, 1),\n (1155, 1),\n (1245, 1),\n (1316, 1)]"
     },
     "execution_count": 62,
     "metadata": {},
     "output_type": "execute_result"
    }
   ],
   "source": [
    "cgl[\"lemmatized_sentences_repl\"].apply(lambda x: [(i,j.count(\"λύπ*\")) for i,j in enumerate(x) if \"λύπ*\" in j]).tolist()[1]"
   ],
   "metadata": {
    "collapsed": false,
    "pycharm": {
     "name": "#%%\n"
    }
   }
  },
  {
   "cell_type": "code",
   "execution_count": 66,
   "outputs": [
    {
     "data": {
      "text/plain": "1    sent2\n3    sent4\ndtype: object"
     },
     "execution_count": 66,
     "metadata": {},
     "output_type": "execute_result"
    }
   ],
   "source": [
    "pd.Series([\"sent1\", \"sent2\", \"sent3\", \"sent4\"])[[1,3]]"
   ],
   "metadata": {
    "collapsed": false,
    "pycharm": {
     "name": "#%%\n"
    }
   }
  },
  {
   "cell_type": "code",
   "execution_count": 67,
   "outputs": [
    {
     "data": {
      "text/plain": "'sent1sent1sent1'"
     },
     "execution_count": 67,
     "metadata": {},
     "output_type": "execute_result"
    }
   ],
   "source": [
    "[\"sent1\"] * 3"
   ],
   "metadata": {
    "collapsed": false,
    "pycharm": {
     "name": "#%%\n"
    }
   }
  },
  {
   "cell_type": "code",
   "execution_count": 82,
   "outputs": [],
   "source": [
    "def sentences_with_lype(work_row):\n",
    "    inds_counts_tups = [(i,j.count(\"λύπ*\")) for i,j in enumerate(work_row[\"lemmatized_sentences_repl\"]) if \"λύπ*\" in j]\n",
    "    sentences = work_row[\"sentences\"]\n",
    "    lype_sentences = []\n",
    "    for tup in inds_counts_tups:\n",
    "        lype_sentences.extend([sentences[tup[0]]] * tup[1])\n",
    "    return lype_sentences"
   ],
   "metadata": {
    "collapsed": false,
    "pycharm": {
     "name": "#%%\n"
    }
   }
  },
  {
   "cell_type": "code",
   "execution_count": 83,
   "outputs": [],
   "source": [
    "cgl[\"sentences_with_lype\"] = cgl.apply(sentences_with_lype, axis=1)"
   ],
   "metadata": {
    "collapsed": false,
    "pycharm": {
     "name": "#%%\n"
    }
   }
  },
  {
   "cell_type": "code",
   "execution_count": 86,
   "outputs": [
    {
     "data": {
      "text/plain": "414"
     },
     "execution_count": 86,
     "metadata": {},
     "output_type": "execute_result"
    }
   ],
   "source": [
    "cgl[\"sentences_with_lype\"].apply(len).sum()"
   ],
   "metadata": {
    "collapsed": false,
    "pycharm": {
     "name": "#%%\n"
    }
   }
  },
  {
   "cell_type": "code",
   "execution_count": 87,
   "outputs": [
    {
     "data": {
      "text/plain": "414"
     },
     "execution_count": 87,
     "metadata": {},
     "output_type": "execute_result"
    }
   ],
   "source": [
    "cgl[\"conc_lype\"].apply(len).sum()\n"
   ],
   "metadata": {
    "collapsed": false,
    "pycharm": {
     "name": "#%%\n"
    }
   }
  },
  {
   "cell_type": "code",
   "execution_count": 88,
   "outputs": [
    {
     "data": {
      "text/plain": "['φαμὲν γὰρ τὴν ψυχὴν λυπεῖσθαι χαίρειν, θαρρεῖν φοβεῖσθαι, ἔτι δὲ ὀργίζεσθαί τε καὶ αἰσθάνεσθαι καὶ διανοεῖσθαι·',\n 'εἰ γὰρ καὶ ὅτι μάλιστα τὸ λυπεῖσθαι ἢ χαίρειν ἢ διανοεῖσθαι κινήσεις εἰσί, καὶ ἕκαστον κινεῖσθαι τούτων, τὸ δὲ κινεῖσθαί ἐστιν ὑπὸ τῆς ψυχῆς, οἷον τὸ ὀργίζεσθαι ἢ φοβεῖσθαι τὸ τὴν καρδίαν ὡδὶ κινεῖσθαι, τὸ δὲ διανοεῖσθαι ἢ τὸ τοῦτο ἴσως ἢ ἕτερόν τι, τούτων δὲ συμβαίνει τὰ μὲν κατὰ φορὰν τινῶν κινουμένων, τὰ δὲ κατʼ ἀλλοίωσιν ποῖα δὲ καὶ πῶς, ἕτερός ἐστι λόγος τὸ δὴ λέγειν ὀργίζεσθαι τὴν ψυχὴν ὅμοιον κἂν εἴ τις λέγοι τὴν ψυχὴν ὑφαίνειν ἢ οἰκοδομεῖν·',\n 'δῆλον δʼ εἴ τις ἐπιχειρήσειεν ἐκ τοῦ λόγου τούτου τὰ πάθη καὶ τὰ ἔργα τῆς ψυχῆς ἀποδιδόναι, οἷον λογισμούς, αἰσθήσεις, ἡδονάς, λύπας, ὅσα ἄλλα τοιαῦτα·',\n 'ὅπου μὲν γὰρ αἴσθησις, καὶ λύπη τε καὶ ἡδονή, ὅπου δὲ ταῦτα, ἐξ ἀνάγκης καὶ ἐπιθυμία.',\n 'ὄρεξις μὲν γὰρ ἐπιθυμία καὶ θυμὸς καὶ βούλησις, τὰ δὲ ζῷα πάντʼ ἔχουσι μίαν γε τῶν αἰσθήσεων, τὴν ἁφήν, ᾧ δʼ αἴσθησις ὑπάρχει, τούτῳ ἡδονή τε καὶ λύπη καὶ τὸ ἡδύ τε καὶ λυπηρόν, οἷς δὲ ταῦτα, καὶ ἡ ἐπιθυμία·',\n 'ὄρεξις μὲν γὰρ ἐπιθυμία καὶ θυμὸς καὶ βούλησις, τὰ δὲ ζῷα πάντʼ ἔχουσι μίαν γε τῶν αἰσθήσεων, τὴν ἁφήν, ᾧ δʼ αἴσθησις ὑπάρχει, τούτῳ ἡδονή τε καὶ λύπη καὶ τὸ ἡδύ τε καὶ λυπηρόν, οἷς δὲ ταῦτα, καὶ ἡ ἐπιθυμία·',\n 'φαύλως γὰρ ἄνθρωπος ὀσμᾶται, καὶ οὐθενὸς αἰσθάνεται τῶν ὀσφραντῶν ἄνευ τοῦ λυπηροῦ ἢ τοῦ ἡδέος, ὡς οὐκ ὄντος ἀκριβοῦς τοῦ αἰσθητηρίου.',\n 'ὅταν δὲ ἡδὺ ἢ λυπηρόν, οἶον καταφᾶσα ἢ ἀποφᾶσα διώκει ἢ φεύγει·',\n 'καὶ ἔστι τὸ ἥδεσθαι καὶ λυπεῖσθαι τὸ ἐνεργεῖν τῇ αἰσθητικῇ μεσότητι πρὸς τὸ ἀγαθὸν ἢ κακόν, ἦ τοιαῦτα.',\n 'καὶ ὅταν εἴπῃ ὡς ἐκεῖ τὸ ἡδὺ ἢ λυπηρόν, ἐνταῦθα φεύγει ἢ διώκει καὶ ὅλως ἓν πράξει.',\n 'φαίνεται γὰρ λύπη καὶ ἡδονὴ ἐνοῦσα, εἰ δὲ ταῦτα, καὶ ἐπιθυμίαν ἀνάγκη.',\n 'τὰς δʼ ἄλλας αἰσθήσεις ἔχει τὸ ζῴον, ὥσπερ εἴρηται, οὐ τοῦ εἶναι ἕνεκα ἀλλὰ τοῦ εὖ, οἶον ὄψιν, ἐπεὶ ἐν ἀέρι καὶ ὕδατι, ὅπως ὁρᾷ, ὅλως δʼ ἐπεὶ ἐν διαφανεῖ, γεῦσιν δὲ διὰ τὸ ἡδὺ καὶ λυπηρόν, ἵνα αἰσθάνηται τὸ ἐν τροφῇ καὶ ἐπιθυμῇ καὶ κινῆται, ἀκοὴν δὲ ὅπως σημαίνηταί τι αὐτῷ γλῶτταν δὲ ὅπως σημαίνῃ τι ἑτέρῳ.']"
     },
     "execution_count": 88,
     "metadata": {},
     "output_type": "execute_result"
    }
   ],
   "source": [
    "cgl[\"sentences_with_lype\"].tolist()[1]"
   ],
   "metadata": {
    "collapsed": false,
    "pycharm": {
     "name": "#%%\n"
    }
   }
  },
  {
   "cell_type": "code",
   "execution_count": 97,
   "outputs": [],
   "source": [
    "ethical_ids = [\"tlg0086.tlg009\", \"tlg0086.tlg010\", \"tlg0086.tlg022\", \"tlg0086.tlg035\", \"tlg0086.tlg038\",]"
   ],
   "metadata": {
    "collapsed": false,
    "pycharm": {
     "name": "#%%\n"
    }
   }
  },
  {
   "cell_type": "code",
   "execution_count": 94,
   "outputs": [],
   "source": [
    "lype_doc_ids = [el for ellist in cgl.apply(lambda row: [row[\"doc_id\"] for conc in row[\"conc_lype\"]], axis=1) for el in ellist]\n",
    "lype_doc_titles = [el for ellist in cgl.apply(lambda row: [row[\"title\"] for conc in row[\"conc_lype\"]], axis=1)  for el in ellist]\n",
    "lype_concs = [el for ellist in cgl[\"conc_lype\"] for el in ellist]\n",
    "lype_sents = [el for ellist in cgl[\"sentences_with_lype\"] for el in ellist]"
   ],
   "metadata": {
    "collapsed": false,
    "pycharm": {
     "name": "#%%\n"
    }
   }
  },
  {
   "cell_type": "code",
   "execution_count": 95,
   "outputs": [],
   "source": [
    "# labels\n",
    "labels = [1 if doc_id in ethical_ids else 0 for doc_id in lype_doc_ids]"
   ],
   "metadata": {
    "collapsed": false,
    "pycharm": {
     "name": "#%%\n"
    }
   }
  },
  {
   "cell_type": "code",
   "execution_count": 99,
   "outputs": [],
   "source": [
    "lype_concs_vectorized = np.array([[word_index[w] for w in conc] for conc in lype_concs])"
   ],
   "metadata": {
    "collapsed": false,
    "pycharm": {
     "name": "#%%\n"
    }
   }
  },
  {
   "cell_type": "code",
   "execution_count": 100,
   "outputs": [
    {
     "data": {
      "text/plain": "array([list([103, 1, 103, 78, 20, 103, 129, 8, 1491, 636, 22, 17, 1776, 11, 78, 208, 268, 832, 309, 1040, 283, 700, 2, 9, 126, 1, 16, 45, 8, 103, 1]),\n       list([832, 309, 1040, 283, 700, 2, 9, 126, 1, 16, 45, 8, 103, 1, 110, 208, 268, 700, 126, 1, 28, 103, 103, 78, 20, 1040, 309, 553, 103, 700, 2]),\n       list([17, 1, 1022, 89, 22, 312, 12, 227, 75, 78, 156, 20, 864, 263, 144, 208, 59, 7, 17, 413, 48, 2728, 255, 68, 307, 398, 78, 552, 103, 67, 36]),\n       list([25, 308, 78, 85, 2522, 263, 159, 81, 4, 126, 129, 263, 1791, 1557, 263, 208, 144, 52, 431, 209, 2598, 79, 15, 112, 93, 78, 65, 25, 1, 34, 162]),\n       list([1971, 1557, 431, 612, 1636, 155, 9, 4, 61, 263, 1696, 263, 46, 2, 144, 208, 195, 208, 431, 195, 1557, 2, 218, 263, 4, 218, 263, 351, 187, 171, 282])],\n      dtype=object)"
     },
     "execution_count": 100,
     "metadata": {},
     "output_type": "execute_result"
    }
   ],
   "source": [
    "lype_concs_vectorized[:5]"
   ],
   "metadata": {
    "collapsed": false,
    "pycharm": {
     "name": "#%%\n"
    }
   }
  },
  {
   "cell_type": "code",
   "execution_count": 169,
   "outputs": [],
   "source": [
    "indices = np.arange(len(concs_tups))\n",
    "np.random.seed(0)\n",
    "np.random.shuffle(indices)"
   ],
   "metadata": {
    "collapsed": false,
    "pycharm": {
     "name": "#%%\n"
    }
   }
  },
  {
   "cell_type": "code",
   "execution_count": 214,
   "outputs": [],
   "source": [
    "data = np.array([conc[1] for conc in concs_tups])\n",
    "labels = []\n",
    "for conc in concs_tups:\n",
    "    if conc[0] in ethical_ids:\n",
    "        labels.append(1)\n",
    "    else:\n",
    "        labels.append(0)\n",
    "labels = np.array(labels)"
   ],
   "metadata": {
    "collapsed": false,
    "pycharm": {
     "name": "#%%\n"
    }
   }
  },
  {
   "cell_type": "code",
   "execution_count": 215,
   "outputs": [],
   "source": [
    "data = data[indices]\n",
    "#data = np.array([conc[10:-10] for conc in data])\n",
    "labels = labels[indices]"
   ],
   "metadata": {
    "collapsed": false,
    "pycharm": {
     "name": "#%%\n"
    }
   }
  },
  {
   "cell_type": "code",
   "execution_count": 216,
   "outputs": [
    {
     "data": {
      "text/plain": "array([1, 1, 1, 1, 1, 0, 1, 0, 1, 1, 1, 1, 1, 1, 1, 1, 1, 1, 0, 1, 1, 1,\n       0, 1, 1, 1, 1, 0, 1, 0, 1, 1, 1, 1, 0, 1, 0, 1, 1, 1, 1, 1, 1, 1,\n       0, 1, 1, 0, 1, 1, 0, 0, 0, 1, 1, 1, 1, 1, 1, 1, 1, 1, 1, 1, 1, 1,\n       1, 1, 1, 1, 1, 0, 0, 1, 1, 1, 0, 1, 1, 1, 0, 1, 1, 0, 1, 0, 1, 1,\n       1, 1, 1, 1, 1, 1, 1, 0, 1, 0, 1, 1, 0, 1, 1, 0, 1, 1, 1, 0, 1, 1,\n       1, 1, 1, 1, 1, 1, 1, 1, 1, 1, 1, 1, 1, 1, 0, 1, 1, 0, 1, 1, 1, 1,\n       0, 1, 1, 1, 1, 1, 1, 1, 1, 1, 1, 1, 0, 1, 1, 1, 1, 1, 1, 1, 1, 1,\n       1, 1, 1, 1, 1, 1, 1, 0, 1, 1, 1, 1, 1, 1, 1, 1, 1, 1, 0, 1, 1, 0,\n       1, 1, 1, 1, 1, 1, 0, 0, 0, 0, 1, 1, 1, 1, 0, 1, 1, 1, 0, 1, 1, 1,\n       1, 0, 1, 1, 1, 1, 1, 0, 1, 1, 1, 0, 1, 1, 1, 1, 1, 1, 1, 1, 1, 1,\n       1, 1, 1, 1, 1, 1, 0, 1, 1, 1, 1, 1, 1, 1, 1, 1, 1, 1, 1, 1, 0, 1,\n       1, 1, 1, 1, 1, 1, 0, 1, 1, 1, 1, 1, 1, 1, 0, 0, 1, 1, 1, 1, 1, 1,\n       1, 1, 1, 1, 1, 0, 1, 1, 1, 1, 1, 0, 1, 1, 1, 1, 1, 0, 1, 1, 1, 1,\n       1, 1, 0, 1, 1, 1, 1, 0, 1, 1, 1, 1, 1, 1, 1, 1, 1, 1, 1, 1, 1, 1,\n       1, 1, 0, 1, 1, 1, 0, 0, 1, 1, 1, 1, 1, 1, 1, 1, 0, 1, 1, 1, 1, 1,\n       1, 1, 1, 1, 0, 1, 1, 1, 1, 1, 1, 1, 1, 1, 1, 1, 1, 1, 1, 1, 1, 1,\n       1, 1, 1, 1, 1, 1, 0, 1, 1, 1, 1, 1, 1, 0, 1, 1, 1, 1, 1, 0, 1, 1,\n       1, 1, 0, 1, 1, 1, 1, 1, 0, 1, 1, 1, 1, 1, 1, 1, 0, 1, 0, 1, 1, 1,\n       0, 1, 1, 1, 1, 0, 1, 1, 0, 1, 1, 0, 1, 1, 1, 1, 1])"
     },
     "execution_count": 216,
     "metadata": {},
     "output_type": "execute_result"
    }
   ],
   "source": [
    "labels"
   ],
   "metadata": {
    "collapsed": false,
    "pycharm": {
     "name": "#%%\n"
    }
   }
  },
  {
   "cell_type": "code",
   "execution_count": 217,
   "outputs": [
    {
     "data": {
      "text/plain": "array([1, 1, 1, 1, 1, 0, 1, 0, 1, 1, 1, 1, 1, 1, 1, 1, 1, 1, 0, 1, 1, 1,\n       0, 1, 1, 1, 1, 0, 1, 0, 1, 1, 1, 1, 0, 1, 0, 1, 1, 1, 1, 1, 1, 1,\n       0, 1, 1, 0, 1, 1, 0, 0, 0, 1, 1, 1, 1, 1, 1, 1, 1, 1, 1, 1, 1, 1,\n       1, 1, 1, 1, 1, 0, 0, 1, 1, 1, 0, 1, 1, 1, 0, 1, 1, 0, 1, 0, 1, 1,\n       1, 1, 1, 1, 1, 1, 1, 0, 1, 0, 1, 1, 0, 1, 1, 0, 1, 1, 1, 0, 1, 1,\n       1, 1, 1, 1, 1, 1, 1, 1, 1, 1, 1, 1, 1, 1, 0, 1, 1, 0, 1, 1, 1, 1,\n       0, 1, 1, 1, 1, 1, 1, 1, 1, 1, 1, 1, 0, 1, 1, 1, 1, 1, 1, 1, 1, 1,\n       1, 1, 1, 1, 1, 1, 1, 0, 1, 1, 1, 1, 1, 1, 1, 1, 1, 1, 0, 1, 1, 0,\n       1, 1, 1, 1, 1, 1, 0, 0, 0, 0, 1, 1, 1, 1, 0, 1, 1, 1, 0, 1, 1, 1,\n       1, 0, 1, 1, 1, 1, 1, 0, 1, 1, 1, 0, 1, 1, 1, 1, 1, 1, 1, 1, 1, 1,\n       1, 1, 1, 1, 1, 1, 0, 1, 1, 1, 1, 1, 1, 1, 1, 1, 1, 1, 1, 1, 0, 1,\n       1, 1, 1, 1, 1, 1, 0, 1, 1, 1, 1, 1, 1, 1, 0, 0, 1, 1, 1, 1, 1, 1,\n       1, 1, 1, 1, 1, 0, 1, 1, 1, 1, 1, 0, 1, 1, 1, 1, 1, 0, 1, 1, 1, 1,\n       1, 1, 0, 1, 1, 1, 1, 0, 1, 1, 1, 1, 1, 1, 1, 1, 1, 1, 1, 1, 1, 1,\n       1, 1, 0, 1, 1, 1, 0, 0, 1, 1, 1, 1, 1, 1, 1, 1, 0, 1, 1, 1, 1, 1,\n       1, 1, 1, 1, 0, 1, 1, 1, 1, 1, 1, 1, 1, 1, 1, 1, 1, 1, 1, 1, 1, 1,\n       1, 1, 1, 1, 1, 1, 0, 1, 1, 1, 1, 1, 1, 0, 1, 1, 1, 1, 1, 0, 1, 1,\n       1, 1, 0, 1, 1, 1, 1, 1, 0, 1, 1, 1, 1, 1, 1, 1, 0, 1, 0, 1, 1, 1,\n       0, 1, 1, 1, 1, 0, 1, 1, 0, 1, 1, 0, 1, 1, 1, 1, 1])"
     },
     "execution_count": 217,
     "metadata": {},
     "output_type": "execute_result"
    }
   ],
   "source": [
    "labels"
   ],
   "metadata": {
    "collapsed": false,
    "pycharm": {
     "name": "#%%\n"
    }
   }
  },
  {
   "cell_type": "code",
   "execution_count": 218,
   "outputs": [
    {
     "data": {
      "text/plain": "                   0          1         2         3         4         5    \\\nεἰμί         40.921943  23.975110  6.083791  1.724597  0.787708  1.395476   \nοὗτος        40.370998  23.444483  5.179671  1.611451  0.341264  1.735556   \nλέγω         39.001855  22.120811  3.711950  0.918392  1.452316  0.077037   \nἔχω          39.804302  23.024422  6.199601  2.275942  0.625015  1.243543   \nγίγνομαι     39.347879  22.489298  5.427730  1.608740 -0.299176  1.453300   \n...                ...        ...       ...       ...       ...       ...   \nκύαθος        2.306894  -1.252014  1.967848  0.639823 -0.830738  1.400087   \nσκυτεύς       2.426349  -1.921372  0.401636 -0.442950 -0.050278  0.079601   \nπαραμίγνυμι   2.460930  -1.073599  2.207248  0.563545 -0.814028  1.938490   \nὀφθαλμία      1.968229  -1.475017  1.460325 -0.047004 -0.329035  0.401820   \nκριτία        3.024949  -2.190102 -0.413723 -0.793175  0.007401  0.291926   \n\n                   6         7         8         9    ...       140       141  \\\nεἰμί         10.085121 -3.512090 -2.466157 -0.479203  ...  0.135525  0.116194   \nοὗτος         9.830402 -3.353345 -2.345492 -0.181414  ...  0.139695  0.078060   \nλέγω          9.391213 -2.759150 -2.398183  0.214704  ... -0.031307  0.068023   \nἔχω           9.147309 -3.485462 -2.581793 -0.275819  ...  0.024101  0.063533   \nγίγνομαι      8.521668 -3.282159 -2.755167 -0.361946  ...  0.017706  0.150147   \n...                ...       ...       ...       ...  ...       ...       ...   \nκύαθος        0.623265 -0.022984  1.364765 -1.015133  ...  0.029445  0.035054   \nσκυτεύς       1.183014 -0.539222  0.169868  0.727299  ... -0.379041  0.069706   \nπαραμίγνυμι   0.646300 -0.572682  2.623897 -1.114314  ... -0.005971 -0.170639   \nὀφθαλμία      0.145133 -0.578576 -0.902634  0.095910  ... -0.229633 -0.162759   \nκριτία        0.928121 -0.831658  0.027614  0.053107  ...  0.076820  0.334096   \n\n                  142       143       144       145       146       147  \\\nεἰμί         0.038779  0.028518  0.048852  0.063003 -0.006917 -0.285075   \nοὗτος        0.127660  0.069392  0.060385  0.249957  0.070054 -0.194425   \nλέγω         0.000057  0.069156  0.111072  0.038494  0.002585 -0.019338   \nἔχω          0.134114  0.179058  0.043486  0.113336 -0.036198 -0.342098   \nγίγνομαι    -0.100498  0.024932 -0.241511  0.180704 -0.044182 -0.225451   \n...               ...       ...       ...       ...       ...       ...   \nκύαθος      -0.064084 -0.022086 -0.026919 -0.029758 -0.059165  0.081717   \nσκυτεύς      0.277146  0.071542 -0.010878  0.112946 -0.114023  0.315502   \nπαραμίγνυμι -0.140238  0.136425  0.311922  0.270307 -0.047148 -0.198601   \nὀφθαλμία    -0.336879 -0.035314  0.135483 -0.145982  0.128570 -0.032265   \nκριτία       0.122024  0.005462 -0.073365  0.084474 -0.021100 -0.041049   \n\n                  148       149  \nεἰμί         0.083432  0.050213  \nοὗτος       -0.004014  0.040241  \nλέγω         0.269553 -0.130885  \nἔχω          0.209940 -0.073624  \nγίγνομαι    -0.009623  0.082624  \n...               ...       ...  \nκύαθος       0.070341  0.065586  \nσκυτεύς     -0.062303 -0.036280  \nπαραμίγνυμι -0.085457  0.311602  \nὀφθαλμία    -0.125454 -0.178760  \nκριτία      -0.171185 -0.437135  \n\n[5000 rows x 150 columns]",
      "text/html": "<div>\n<style scoped>\n    .dataframe tbody tr th:only-of-type {\n        vertical-align: middle;\n    }\n\n    .dataframe tbody tr th {\n        vertical-align: top;\n    }\n\n    .dataframe thead th {\n        text-align: right;\n    }\n</style>\n<table border=\"1\" class=\"dataframe\">\n  <thead>\n    <tr style=\"text-align: right;\">\n      <th></th>\n      <th>0</th>\n      <th>1</th>\n      <th>2</th>\n      <th>3</th>\n      <th>4</th>\n      <th>5</th>\n      <th>6</th>\n      <th>7</th>\n      <th>8</th>\n      <th>9</th>\n      <th>...</th>\n      <th>140</th>\n      <th>141</th>\n      <th>142</th>\n      <th>143</th>\n      <th>144</th>\n      <th>145</th>\n      <th>146</th>\n      <th>147</th>\n      <th>148</th>\n      <th>149</th>\n    </tr>\n  </thead>\n  <tbody>\n    <tr>\n      <th>εἰμί</th>\n      <td>40.921943</td>\n      <td>23.975110</td>\n      <td>6.083791</td>\n      <td>1.724597</td>\n      <td>0.787708</td>\n      <td>1.395476</td>\n      <td>10.085121</td>\n      <td>-3.512090</td>\n      <td>-2.466157</td>\n      <td>-0.479203</td>\n      <td>...</td>\n      <td>0.135525</td>\n      <td>0.116194</td>\n      <td>0.038779</td>\n      <td>0.028518</td>\n      <td>0.048852</td>\n      <td>0.063003</td>\n      <td>-0.006917</td>\n      <td>-0.285075</td>\n      <td>0.083432</td>\n      <td>0.050213</td>\n    </tr>\n    <tr>\n      <th>οὗτος</th>\n      <td>40.370998</td>\n      <td>23.444483</td>\n      <td>5.179671</td>\n      <td>1.611451</td>\n      <td>0.341264</td>\n      <td>1.735556</td>\n      <td>9.830402</td>\n      <td>-3.353345</td>\n      <td>-2.345492</td>\n      <td>-0.181414</td>\n      <td>...</td>\n      <td>0.139695</td>\n      <td>0.078060</td>\n      <td>0.127660</td>\n      <td>0.069392</td>\n      <td>0.060385</td>\n      <td>0.249957</td>\n      <td>0.070054</td>\n      <td>-0.194425</td>\n      <td>-0.004014</td>\n      <td>0.040241</td>\n    </tr>\n    <tr>\n      <th>λέγω</th>\n      <td>39.001855</td>\n      <td>22.120811</td>\n      <td>3.711950</td>\n      <td>0.918392</td>\n      <td>1.452316</td>\n      <td>0.077037</td>\n      <td>9.391213</td>\n      <td>-2.759150</td>\n      <td>-2.398183</td>\n      <td>0.214704</td>\n      <td>...</td>\n      <td>-0.031307</td>\n      <td>0.068023</td>\n      <td>0.000057</td>\n      <td>0.069156</td>\n      <td>0.111072</td>\n      <td>0.038494</td>\n      <td>0.002585</td>\n      <td>-0.019338</td>\n      <td>0.269553</td>\n      <td>-0.130885</td>\n    </tr>\n    <tr>\n      <th>ἔχω</th>\n      <td>39.804302</td>\n      <td>23.024422</td>\n      <td>6.199601</td>\n      <td>2.275942</td>\n      <td>0.625015</td>\n      <td>1.243543</td>\n      <td>9.147309</td>\n      <td>-3.485462</td>\n      <td>-2.581793</td>\n      <td>-0.275819</td>\n      <td>...</td>\n      <td>0.024101</td>\n      <td>0.063533</td>\n      <td>0.134114</td>\n      <td>0.179058</td>\n      <td>0.043486</td>\n      <td>0.113336</td>\n      <td>-0.036198</td>\n      <td>-0.342098</td>\n      <td>0.209940</td>\n      <td>-0.073624</td>\n    </tr>\n    <tr>\n      <th>γίγνομαι</th>\n      <td>39.347879</td>\n      <td>22.489298</td>\n      <td>5.427730</td>\n      <td>1.608740</td>\n      <td>-0.299176</td>\n      <td>1.453300</td>\n      <td>8.521668</td>\n      <td>-3.282159</td>\n      <td>-2.755167</td>\n      <td>-0.361946</td>\n      <td>...</td>\n      <td>0.017706</td>\n      <td>0.150147</td>\n      <td>-0.100498</td>\n      <td>0.024932</td>\n      <td>-0.241511</td>\n      <td>0.180704</td>\n      <td>-0.044182</td>\n      <td>-0.225451</td>\n      <td>-0.009623</td>\n      <td>0.082624</td>\n    </tr>\n    <tr>\n      <th>...</th>\n      <td>...</td>\n      <td>...</td>\n      <td>...</td>\n      <td>...</td>\n      <td>...</td>\n      <td>...</td>\n      <td>...</td>\n      <td>...</td>\n      <td>...</td>\n      <td>...</td>\n      <td>...</td>\n      <td>...</td>\n      <td>...</td>\n      <td>...</td>\n      <td>...</td>\n      <td>...</td>\n      <td>...</td>\n      <td>...</td>\n      <td>...</td>\n      <td>...</td>\n      <td>...</td>\n    </tr>\n    <tr>\n      <th>κύαθος</th>\n      <td>2.306894</td>\n      <td>-1.252014</td>\n      <td>1.967848</td>\n      <td>0.639823</td>\n      <td>-0.830738</td>\n      <td>1.400087</td>\n      <td>0.623265</td>\n      <td>-0.022984</td>\n      <td>1.364765</td>\n      <td>-1.015133</td>\n      <td>...</td>\n      <td>0.029445</td>\n      <td>0.035054</td>\n      <td>-0.064084</td>\n      <td>-0.022086</td>\n      <td>-0.026919</td>\n      <td>-0.029758</td>\n      <td>-0.059165</td>\n      <td>0.081717</td>\n      <td>0.070341</td>\n      <td>0.065586</td>\n    </tr>\n    <tr>\n      <th>σκυτεύς</th>\n      <td>2.426349</td>\n      <td>-1.921372</td>\n      <td>0.401636</td>\n      <td>-0.442950</td>\n      <td>-0.050278</td>\n      <td>0.079601</td>\n      <td>1.183014</td>\n      <td>-0.539222</td>\n      <td>0.169868</td>\n      <td>0.727299</td>\n      <td>...</td>\n      <td>-0.379041</td>\n      <td>0.069706</td>\n      <td>0.277146</td>\n      <td>0.071542</td>\n      <td>-0.010878</td>\n      <td>0.112946</td>\n      <td>-0.114023</td>\n      <td>0.315502</td>\n      <td>-0.062303</td>\n      <td>-0.036280</td>\n    </tr>\n    <tr>\n      <th>παραμίγνυμι</th>\n      <td>2.460930</td>\n      <td>-1.073599</td>\n      <td>2.207248</td>\n      <td>0.563545</td>\n      <td>-0.814028</td>\n      <td>1.938490</td>\n      <td>0.646300</td>\n      <td>-0.572682</td>\n      <td>2.623897</td>\n      <td>-1.114314</td>\n      <td>...</td>\n      <td>-0.005971</td>\n      <td>-0.170639</td>\n      <td>-0.140238</td>\n      <td>0.136425</td>\n      <td>0.311922</td>\n      <td>0.270307</td>\n      <td>-0.047148</td>\n      <td>-0.198601</td>\n      <td>-0.085457</td>\n      <td>0.311602</td>\n    </tr>\n    <tr>\n      <th>ὀφθαλμία</th>\n      <td>1.968229</td>\n      <td>-1.475017</td>\n      <td>1.460325</td>\n      <td>-0.047004</td>\n      <td>-0.329035</td>\n      <td>0.401820</td>\n      <td>0.145133</td>\n      <td>-0.578576</td>\n      <td>-0.902634</td>\n      <td>0.095910</td>\n      <td>...</td>\n      <td>-0.229633</td>\n      <td>-0.162759</td>\n      <td>-0.336879</td>\n      <td>-0.035314</td>\n      <td>0.135483</td>\n      <td>-0.145982</td>\n      <td>0.128570</td>\n      <td>-0.032265</td>\n      <td>-0.125454</td>\n      <td>-0.178760</td>\n    </tr>\n    <tr>\n      <th>κριτία</th>\n      <td>3.024949</td>\n      <td>-2.190102</td>\n      <td>-0.413723</td>\n      <td>-0.793175</td>\n      <td>0.007401</td>\n      <td>0.291926</td>\n      <td>0.928121</td>\n      <td>-0.831658</td>\n      <td>0.027614</td>\n      <td>0.053107</td>\n      <td>...</td>\n      <td>0.076820</td>\n      <td>0.334096</td>\n      <td>0.122024</td>\n      <td>0.005462</td>\n      <td>-0.073365</td>\n      <td>0.084474</td>\n      <td>-0.021100</td>\n      <td>-0.041049</td>\n      <td>-0.171185</td>\n      <td>-0.437135</td>\n    </tr>\n  </tbody>\n</table>\n<p>5000 rows × 150 columns</p>\n</div>"
     },
     "execution_count": 218,
     "metadata": {},
     "output_type": "execute_result"
    }
   ],
   "source": [
    "cgl_embeddings[3]"
   ],
   "metadata": {
    "collapsed": false,
    "pycharm": {
     "name": "#%%\n"
    }
   }
  },
  {
   "cell_type": "code",
   "execution_count": 219,
   "outputs": [],
   "source": [
    "training_samples = int(len(data) * 0.70)\n",
    "test_samples = int(len(data) * 0.1)\n",
    "\n",
    "x_train = data[:training_samples]\n",
    "y_train = labels[:training_samples]\n",
    "x_val = data[training_samples:-test_samples]\n",
    "y_val = labels[training_samples:-test_samples]\n",
    "\n",
    "x_test = data[-test_samples:]\n",
    "y_test = labels[-test_samples:]"
   ],
   "metadata": {
    "collapsed": false,
    "pycharm": {
     "name": "#%%\n"
    }
   }
  },
  {
   "cell_type": "code",
   "execution_count": 220,
   "outputs": [
    {
     "data": {
      "text/plain": "                   0          1         2         3         4         5    \\\nεἰμί         40.921943  23.975110  6.083791  1.724597  0.787708  1.395476   \nοὗτος        40.370998  23.444483  5.179671  1.611451  0.341264  1.735556   \nλέγω         39.001855  22.120811  3.711950  0.918392  1.452316  0.077037   \nἔχω          39.804302  23.024422  6.199601  2.275942  0.625015  1.243543   \nγίγνομαι     39.347879  22.489298  5.427730  1.608740 -0.299176  1.453300   \n...                ...        ...       ...       ...       ...       ...   \nκύαθος        2.306894  -1.252014  1.967848  0.639823 -0.830738  1.400087   \nσκυτεύς       2.426349  -1.921372  0.401636 -0.442950 -0.050278  0.079601   \nπαραμίγνυμι   2.460930  -1.073599  2.207248  0.563545 -0.814028  1.938490   \nὀφθαλμία      1.968229  -1.475017  1.460325 -0.047004 -0.329035  0.401820   \nκριτία        3.024949  -2.190102 -0.413723 -0.793175  0.007401  0.291926   \n\n                   6         7         8         9    ...       140       141  \\\nεἰμί         10.085121 -3.512090 -2.466157 -0.479203  ...  0.135525  0.116194   \nοὗτος         9.830402 -3.353345 -2.345492 -0.181414  ...  0.139695  0.078060   \nλέγω          9.391213 -2.759150 -2.398183  0.214704  ... -0.031307  0.068023   \nἔχω           9.147309 -3.485462 -2.581793 -0.275819  ...  0.024101  0.063533   \nγίγνομαι      8.521668 -3.282159 -2.755167 -0.361946  ...  0.017706  0.150147   \n...                ...       ...       ...       ...  ...       ...       ...   \nκύαθος        0.623265 -0.022984  1.364765 -1.015133  ...  0.029445  0.035054   \nσκυτεύς       1.183014 -0.539222  0.169868  0.727299  ... -0.379041  0.069706   \nπαραμίγνυμι   0.646300 -0.572682  2.623897 -1.114314  ... -0.005971 -0.170639   \nὀφθαλμία      0.145133 -0.578576 -0.902634  0.095910  ... -0.229633 -0.162759   \nκριτία        0.928121 -0.831658  0.027614  0.053107  ...  0.076820  0.334096   \n\n                  142       143       144       145       146       147  \\\nεἰμί         0.038779  0.028518  0.048852  0.063003 -0.006917 -0.285075   \nοὗτος        0.127660  0.069392  0.060385  0.249957  0.070054 -0.194425   \nλέγω         0.000057  0.069156  0.111072  0.038494  0.002585 -0.019338   \nἔχω          0.134114  0.179058  0.043486  0.113336 -0.036198 -0.342098   \nγίγνομαι    -0.100498  0.024932 -0.241511  0.180704 -0.044182 -0.225451   \n...               ...       ...       ...       ...       ...       ...   \nκύαθος      -0.064084 -0.022086 -0.026919 -0.029758 -0.059165  0.081717   \nσκυτεύς      0.277146  0.071542 -0.010878  0.112946 -0.114023  0.315502   \nπαραμίγνυμι -0.140238  0.136425  0.311922  0.270307 -0.047148 -0.198601   \nὀφθαλμία    -0.336879 -0.035314  0.135483 -0.145982  0.128570 -0.032265   \nκριτία       0.122024  0.005462 -0.073365  0.084474 -0.021100 -0.041049   \n\n                  148       149  \nεἰμί         0.083432  0.050213  \nοὗτος       -0.004014  0.040241  \nλέγω         0.269553 -0.130885  \nἔχω          0.209940 -0.073624  \nγίγνομαι    -0.009623  0.082624  \n...               ...       ...  \nκύαθος       0.070341  0.065586  \nσκυτεύς     -0.062303 -0.036280  \nπαραμίγνυμι -0.085457  0.311602  \nὀφθαλμία    -0.125454 -0.178760  \nκριτία      -0.171185 -0.437135  \n\n[5000 rows x 150 columns]",
      "text/html": "<div>\n<style scoped>\n    .dataframe tbody tr th:only-of-type {\n        vertical-align: middle;\n    }\n\n    .dataframe tbody tr th {\n        vertical-align: top;\n    }\n\n    .dataframe thead th {\n        text-align: right;\n    }\n</style>\n<table border=\"1\" class=\"dataframe\">\n  <thead>\n    <tr style=\"text-align: right;\">\n      <th></th>\n      <th>0</th>\n      <th>1</th>\n      <th>2</th>\n      <th>3</th>\n      <th>4</th>\n      <th>5</th>\n      <th>6</th>\n      <th>7</th>\n      <th>8</th>\n      <th>9</th>\n      <th>...</th>\n      <th>140</th>\n      <th>141</th>\n      <th>142</th>\n      <th>143</th>\n      <th>144</th>\n      <th>145</th>\n      <th>146</th>\n      <th>147</th>\n      <th>148</th>\n      <th>149</th>\n    </tr>\n  </thead>\n  <tbody>\n    <tr>\n      <th>εἰμί</th>\n      <td>40.921943</td>\n      <td>23.975110</td>\n      <td>6.083791</td>\n      <td>1.724597</td>\n      <td>0.787708</td>\n      <td>1.395476</td>\n      <td>10.085121</td>\n      <td>-3.512090</td>\n      <td>-2.466157</td>\n      <td>-0.479203</td>\n      <td>...</td>\n      <td>0.135525</td>\n      <td>0.116194</td>\n      <td>0.038779</td>\n      <td>0.028518</td>\n      <td>0.048852</td>\n      <td>0.063003</td>\n      <td>-0.006917</td>\n      <td>-0.285075</td>\n      <td>0.083432</td>\n      <td>0.050213</td>\n    </tr>\n    <tr>\n      <th>οὗτος</th>\n      <td>40.370998</td>\n      <td>23.444483</td>\n      <td>5.179671</td>\n      <td>1.611451</td>\n      <td>0.341264</td>\n      <td>1.735556</td>\n      <td>9.830402</td>\n      <td>-3.353345</td>\n      <td>-2.345492</td>\n      <td>-0.181414</td>\n      <td>...</td>\n      <td>0.139695</td>\n      <td>0.078060</td>\n      <td>0.127660</td>\n      <td>0.069392</td>\n      <td>0.060385</td>\n      <td>0.249957</td>\n      <td>0.070054</td>\n      <td>-0.194425</td>\n      <td>-0.004014</td>\n      <td>0.040241</td>\n    </tr>\n    <tr>\n      <th>λέγω</th>\n      <td>39.001855</td>\n      <td>22.120811</td>\n      <td>3.711950</td>\n      <td>0.918392</td>\n      <td>1.452316</td>\n      <td>0.077037</td>\n      <td>9.391213</td>\n      <td>-2.759150</td>\n      <td>-2.398183</td>\n      <td>0.214704</td>\n      <td>...</td>\n      <td>-0.031307</td>\n      <td>0.068023</td>\n      <td>0.000057</td>\n      <td>0.069156</td>\n      <td>0.111072</td>\n      <td>0.038494</td>\n      <td>0.002585</td>\n      <td>-0.019338</td>\n      <td>0.269553</td>\n      <td>-0.130885</td>\n    </tr>\n    <tr>\n      <th>ἔχω</th>\n      <td>39.804302</td>\n      <td>23.024422</td>\n      <td>6.199601</td>\n      <td>2.275942</td>\n      <td>0.625015</td>\n      <td>1.243543</td>\n      <td>9.147309</td>\n      <td>-3.485462</td>\n      <td>-2.581793</td>\n      <td>-0.275819</td>\n      <td>...</td>\n      <td>0.024101</td>\n      <td>0.063533</td>\n      <td>0.134114</td>\n      <td>0.179058</td>\n      <td>0.043486</td>\n      <td>0.113336</td>\n      <td>-0.036198</td>\n      <td>-0.342098</td>\n      <td>0.209940</td>\n      <td>-0.073624</td>\n    </tr>\n    <tr>\n      <th>γίγνομαι</th>\n      <td>39.347879</td>\n      <td>22.489298</td>\n      <td>5.427730</td>\n      <td>1.608740</td>\n      <td>-0.299176</td>\n      <td>1.453300</td>\n      <td>8.521668</td>\n      <td>-3.282159</td>\n      <td>-2.755167</td>\n      <td>-0.361946</td>\n      <td>...</td>\n      <td>0.017706</td>\n      <td>0.150147</td>\n      <td>-0.100498</td>\n      <td>0.024932</td>\n      <td>-0.241511</td>\n      <td>0.180704</td>\n      <td>-0.044182</td>\n      <td>-0.225451</td>\n      <td>-0.009623</td>\n      <td>0.082624</td>\n    </tr>\n    <tr>\n      <th>...</th>\n      <td>...</td>\n      <td>...</td>\n      <td>...</td>\n      <td>...</td>\n      <td>...</td>\n      <td>...</td>\n      <td>...</td>\n      <td>...</td>\n      <td>...</td>\n      <td>...</td>\n      <td>...</td>\n      <td>...</td>\n      <td>...</td>\n      <td>...</td>\n      <td>...</td>\n      <td>...</td>\n      <td>...</td>\n      <td>...</td>\n      <td>...</td>\n      <td>...</td>\n      <td>...</td>\n    </tr>\n    <tr>\n      <th>κύαθος</th>\n      <td>2.306894</td>\n      <td>-1.252014</td>\n      <td>1.967848</td>\n      <td>0.639823</td>\n      <td>-0.830738</td>\n      <td>1.400087</td>\n      <td>0.623265</td>\n      <td>-0.022984</td>\n      <td>1.364765</td>\n      <td>-1.015133</td>\n      <td>...</td>\n      <td>0.029445</td>\n      <td>0.035054</td>\n      <td>-0.064084</td>\n      <td>-0.022086</td>\n      <td>-0.026919</td>\n      <td>-0.029758</td>\n      <td>-0.059165</td>\n      <td>0.081717</td>\n      <td>0.070341</td>\n      <td>0.065586</td>\n    </tr>\n    <tr>\n      <th>σκυτεύς</th>\n      <td>2.426349</td>\n      <td>-1.921372</td>\n      <td>0.401636</td>\n      <td>-0.442950</td>\n      <td>-0.050278</td>\n      <td>0.079601</td>\n      <td>1.183014</td>\n      <td>-0.539222</td>\n      <td>0.169868</td>\n      <td>0.727299</td>\n      <td>...</td>\n      <td>-0.379041</td>\n      <td>0.069706</td>\n      <td>0.277146</td>\n      <td>0.071542</td>\n      <td>-0.010878</td>\n      <td>0.112946</td>\n      <td>-0.114023</td>\n      <td>0.315502</td>\n      <td>-0.062303</td>\n      <td>-0.036280</td>\n    </tr>\n    <tr>\n      <th>παραμίγνυμι</th>\n      <td>2.460930</td>\n      <td>-1.073599</td>\n      <td>2.207248</td>\n      <td>0.563545</td>\n      <td>-0.814028</td>\n      <td>1.938490</td>\n      <td>0.646300</td>\n      <td>-0.572682</td>\n      <td>2.623897</td>\n      <td>-1.114314</td>\n      <td>...</td>\n      <td>-0.005971</td>\n      <td>-0.170639</td>\n      <td>-0.140238</td>\n      <td>0.136425</td>\n      <td>0.311922</td>\n      <td>0.270307</td>\n      <td>-0.047148</td>\n      <td>-0.198601</td>\n      <td>-0.085457</td>\n      <td>0.311602</td>\n    </tr>\n    <tr>\n      <th>ὀφθαλμία</th>\n      <td>1.968229</td>\n      <td>-1.475017</td>\n      <td>1.460325</td>\n      <td>-0.047004</td>\n      <td>-0.329035</td>\n      <td>0.401820</td>\n      <td>0.145133</td>\n      <td>-0.578576</td>\n      <td>-0.902634</td>\n      <td>0.095910</td>\n      <td>...</td>\n      <td>-0.229633</td>\n      <td>-0.162759</td>\n      <td>-0.336879</td>\n      <td>-0.035314</td>\n      <td>0.135483</td>\n      <td>-0.145982</td>\n      <td>0.128570</td>\n      <td>-0.032265</td>\n      <td>-0.125454</td>\n      <td>-0.178760</td>\n    </tr>\n    <tr>\n      <th>κριτία</th>\n      <td>3.024949</td>\n      <td>-2.190102</td>\n      <td>-0.413723</td>\n      <td>-0.793175</td>\n      <td>0.007401</td>\n      <td>0.291926</td>\n      <td>0.928121</td>\n      <td>-0.831658</td>\n      <td>0.027614</td>\n      <td>0.053107</td>\n      <td>...</td>\n      <td>0.076820</td>\n      <td>0.334096</td>\n      <td>0.122024</td>\n      <td>0.005462</td>\n      <td>-0.073365</td>\n      <td>0.084474</td>\n      <td>-0.021100</td>\n      <td>-0.041049</td>\n      <td>-0.171185</td>\n      <td>-0.437135</td>\n    </tr>\n  </tbody>\n</table>\n<p>5000 rows × 150 columns</p>\n</div>"
     },
     "execution_count": 220,
     "metadata": {},
     "output_type": "execute_result"
    }
   ],
   "source": [
    "embedding_matrix = cgl_embeddings[3]\n",
    "embedding_matrix"
   ],
   "metadata": {
    "collapsed": false,
    "pycharm": {
     "name": "#%%\n"
    }
   }
  },
  {
   "cell_type": "code",
   "execution_count": 221,
   "outputs": [
    {
     "name": "stdout",
     "output_type": "stream",
     "text": [
      "Model: \"sequential_14\"\n",
      "_________________________________________________________________\n",
      " Layer (type)                Output Shape              Param #   \n",
      "=================================================================\n",
      " embedding_13 (Embedding)    (None, 31, 150)           750000    \n",
      "                                                                 \n",
      " flatten_13 (Flatten)        (None, 4650)              0         \n",
      "                                                                 \n",
      " dense_26 (Dense)            (None, 32)                148832    \n",
      "                                                                 \n",
      " dense_27 (Dense)            (None, 1)                 33        \n",
      "                                                                 \n",
      "=================================================================\n",
      "Total params: 898,865\n",
      "Trainable params: 898,865\n",
      "Non-trainable params: 0\n",
      "_________________________________________________________________\n"
     ]
    }
   ],
   "source": [
    "from keras.models import Sequential\n",
    "from keras.layers import Embedding, Flatten, Dense\n",
    "\n",
    "model = Sequential()\n",
    "model.add(Embedding(5000,  150, input_length=31))\n",
    "model.add(Flatten())\n",
    "model.add(Dense(32, activation='relu'))\n",
    "model.add(Dense(1, activation='sigmoid'))\n",
    "model.summary()"
   ],
   "metadata": {
    "collapsed": false,
    "pycharm": {
     "name": "#%%\n"
    }
   }
  },
  {
   "cell_type": "code",
   "execution_count": 222,
   "outputs": [],
   "source": [
    "model.layers[0].set_weights([embedding_matrix])\n",
    "model.layers[0].trainable = False"
   ],
   "metadata": {
    "collapsed": false,
    "pycharm": {
     "name": "#%%\n"
    }
   }
  },
  {
   "cell_type": "code",
   "execution_count": 223,
   "outputs": [
    {
     "name": "stdout",
     "output_type": "stream",
     "text": [
      "Epoch 1/10\n",
      "10/10 [==============================] - 0s 8ms/step - loss: 0.8321 - acc: 0.7128 - val_loss: 0.4622 - val_acc: 0.8795\n",
      "Epoch 2/10\n",
      "10/10 [==============================] - 0s 2ms/step - loss: 0.1681 - acc: 0.9377 - val_loss: 0.4432 - val_acc: 0.8795\n",
      "Epoch 3/10\n",
      "10/10 [==============================] - 0s 2ms/step - loss: 0.0796 - acc: 0.9792 - val_loss: 0.4991 - val_acc: 0.8916\n",
      "Epoch 4/10\n",
      "10/10 [==============================] - 0s 3ms/step - loss: 0.0417 - acc: 0.9896 - val_loss: 0.4900 - val_acc: 0.8795\n",
      "Epoch 5/10\n",
      "10/10 [==============================] - 0s 2ms/step - loss: 0.0169 - acc: 1.0000 - val_loss: 0.5388 - val_acc: 0.8795\n",
      "Epoch 6/10\n",
      "10/10 [==============================] - 0s 3ms/step - loss: 0.0090 - acc: 1.0000 - val_loss: 0.5771 - val_acc: 0.8795\n",
      "Epoch 7/10\n",
      "10/10 [==============================] - 0s 2ms/step - loss: 0.0053 - acc: 1.0000 - val_loss: 0.5617 - val_acc: 0.8675\n",
      "Epoch 8/10\n",
      "10/10 [==============================] - 0s 3ms/step - loss: 0.0027 - acc: 1.0000 - val_loss: 0.6787 - val_acc: 0.8795\n",
      "Epoch 9/10\n",
      "10/10 [==============================] - 0s 2ms/step - loss: 0.0022 - acc: 1.0000 - val_loss: 0.7313 - val_acc: 0.8795\n",
      "Epoch 10/10\n",
      "10/10 [==============================] - 0s 2ms/step - loss: 9.1984e-04 - acc: 1.0000 - val_loss: 0.7270 - val_acc: 0.8795\n"
     ]
    }
   ],
   "source": [
    "model.compile(optimizer='rmsprop',\n",
    "              loss='binary_crossentropy',\n",
    "              metrics=['acc'])\n",
    "history = model.fit(x_train, y_train,\n",
    "                    epochs=10,\n",
    "                    batch_size=32,\n",
    "                    validation_data=(x_val, y_val))\n",
    "model.save_weights('pre_trained_glove_model.h5')"
   ],
   "metadata": {
    "collapsed": false,
    "pycharm": {
     "name": "#%%\n"
    }
   }
  },
  {
   "cell_type": "code",
   "execution_count": 224,
   "outputs": [],
   "source": [
    "test_predict = model.predict(x_test)"
   ],
   "metadata": {
    "collapsed": false,
    "pycharm": {
     "name": "#%%\n"
    }
   }
  },
  {
   "cell_type": "code",
   "execution_count": 225,
   "outputs": [
    {
     "data": {
      "text/plain": "    reality  model_prob\n0         1    0.999414\n1         1    0.999607\n2         1    0.999993\n3         1    0.997477\n4         0    0.981670\n5         1    0.904934\n6         1    0.999976\n7         1    0.999139\n8         1    0.991690\n9         1    0.999179\n10        0    0.999597\n11        1    0.999966\n12        1    0.999998\n13        1    0.999565\n14        1    0.999535\n15        1    0.999855\n16        1    0.291761\n17        1    0.998971\n18        0    0.976839\n19        1    0.994381\n20        0    0.217187\n21        1    0.983035\n22        1    0.999850\n23        1    0.959813\n24        0    0.882484\n25        1    0.996098\n26        1    0.994730\n27        1    0.999998\n28        1    0.999891\n29        0    0.958541\n30        1    0.998824\n31        1    0.999972\n32        0    0.985051\n33        1    0.999678\n34        1    0.999282\n35        0    0.998128\n36        1    0.999254\n37        1    0.998646\n38        1    0.995494\n39        1    0.998960\n40        1    0.998937",
      "text/html": "<div>\n<style scoped>\n    .dataframe tbody tr th:only-of-type {\n        vertical-align: middle;\n    }\n\n    .dataframe tbody tr th {\n        vertical-align: top;\n    }\n\n    .dataframe thead th {\n        text-align: right;\n    }\n</style>\n<table border=\"1\" class=\"dataframe\">\n  <thead>\n    <tr style=\"text-align: right;\">\n      <th></th>\n      <th>reality</th>\n      <th>model_prob</th>\n    </tr>\n  </thead>\n  <tbody>\n    <tr>\n      <th>0</th>\n      <td>1</td>\n      <td>0.999414</td>\n    </tr>\n    <tr>\n      <th>1</th>\n      <td>1</td>\n      <td>0.999607</td>\n    </tr>\n    <tr>\n      <th>2</th>\n      <td>1</td>\n      <td>0.999993</td>\n    </tr>\n    <tr>\n      <th>3</th>\n      <td>1</td>\n      <td>0.997477</td>\n    </tr>\n    <tr>\n      <th>4</th>\n      <td>0</td>\n      <td>0.981670</td>\n    </tr>\n    <tr>\n      <th>5</th>\n      <td>1</td>\n      <td>0.904934</td>\n    </tr>\n    <tr>\n      <th>6</th>\n      <td>1</td>\n      <td>0.999976</td>\n    </tr>\n    <tr>\n      <th>7</th>\n      <td>1</td>\n      <td>0.999139</td>\n    </tr>\n    <tr>\n      <th>8</th>\n      <td>1</td>\n      <td>0.991690</td>\n    </tr>\n    <tr>\n      <th>9</th>\n      <td>1</td>\n      <td>0.999179</td>\n    </tr>\n    <tr>\n      <th>10</th>\n      <td>0</td>\n      <td>0.999597</td>\n    </tr>\n    <tr>\n      <th>11</th>\n      <td>1</td>\n      <td>0.999966</td>\n    </tr>\n    <tr>\n      <th>12</th>\n      <td>1</td>\n      <td>0.999998</td>\n    </tr>\n    <tr>\n      <th>13</th>\n      <td>1</td>\n      <td>0.999565</td>\n    </tr>\n    <tr>\n      <th>14</th>\n      <td>1</td>\n      <td>0.999535</td>\n    </tr>\n    <tr>\n      <th>15</th>\n      <td>1</td>\n      <td>0.999855</td>\n    </tr>\n    <tr>\n      <th>16</th>\n      <td>1</td>\n      <td>0.291761</td>\n    </tr>\n    <tr>\n      <th>17</th>\n      <td>1</td>\n      <td>0.998971</td>\n    </tr>\n    <tr>\n      <th>18</th>\n      <td>0</td>\n      <td>0.976839</td>\n    </tr>\n    <tr>\n      <th>19</th>\n      <td>1</td>\n      <td>0.994381</td>\n    </tr>\n    <tr>\n      <th>20</th>\n      <td>0</td>\n      <td>0.217187</td>\n    </tr>\n    <tr>\n      <th>21</th>\n      <td>1</td>\n      <td>0.983035</td>\n    </tr>\n    <tr>\n      <th>22</th>\n      <td>1</td>\n      <td>0.999850</td>\n    </tr>\n    <tr>\n      <th>23</th>\n      <td>1</td>\n      <td>0.959813</td>\n    </tr>\n    <tr>\n      <th>24</th>\n      <td>0</td>\n      <td>0.882484</td>\n    </tr>\n    <tr>\n      <th>25</th>\n      <td>1</td>\n      <td>0.996098</td>\n    </tr>\n    <tr>\n      <th>26</th>\n      <td>1</td>\n      <td>0.994730</td>\n    </tr>\n    <tr>\n      <th>27</th>\n      <td>1</td>\n      <td>0.999998</td>\n    </tr>\n    <tr>\n      <th>28</th>\n      <td>1</td>\n      <td>0.999891</td>\n    </tr>\n    <tr>\n      <th>29</th>\n      <td>0</td>\n      <td>0.958541</td>\n    </tr>\n    <tr>\n      <th>30</th>\n      <td>1</td>\n      <td>0.998824</td>\n    </tr>\n    <tr>\n      <th>31</th>\n      <td>1</td>\n      <td>0.999972</td>\n    </tr>\n    <tr>\n      <th>32</th>\n      <td>0</td>\n      <td>0.985051</td>\n    </tr>\n    <tr>\n      <th>33</th>\n      <td>1</td>\n      <td>0.999678</td>\n    </tr>\n    <tr>\n      <th>34</th>\n      <td>1</td>\n      <td>0.999282</td>\n    </tr>\n    <tr>\n      <th>35</th>\n      <td>0</td>\n      <td>0.998128</td>\n    </tr>\n    <tr>\n      <th>36</th>\n      <td>1</td>\n      <td>0.999254</td>\n    </tr>\n    <tr>\n      <th>37</th>\n      <td>1</td>\n      <td>0.998646</td>\n    </tr>\n    <tr>\n      <th>38</th>\n      <td>1</td>\n      <td>0.995494</td>\n    </tr>\n    <tr>\n      <th>39</th>\n      <td>1</td>\n      <td>0.998960</td>\n    </tr>\n    <tr>\n      <th>40</th>\n      <td>1</td>\n      <td>0.998937</td>\n    </tr>\n  </tbody>\n</table>\n</div>"
     },
     "execution_count": 225,
     "metadata": {},
     "output_type": "execute_result"
    }
   ],
   "source": [
    "pred_df = pd.DataFrame(test_predict, y_test).reset_index().rename(columns={\"index\":\"reality\", 0: \"model_prob\"})\n",
    "pred_df"
   ],
   "metadata": {
    "collapsed": false,
    "pycharm": {
     "name": "#%%\n"
    }
   }
  },
  {
   "cell_type": "code",
   "execution_count": null,
   "outputs": [],
   "source": [],
   "metadata": {
    "collapsed": false,
    "pycharm": {
     "name": "#%%\n"
    }
   }
  }
 ],
 "metadata": {
  "colab": {
   "collapsed_sections": [],
   "name": "0_EXTRACTING-CORPORA.ipynb",
   "provenance": []
  },
  "kernelspec": {
   "name": "pipa_venv",
   "language": "python",
   "display_name": "pipa_venv"
  },
  "language_info": {
   "codemirror_mode": {
    "name": "ipython",
    "version": 3
   },
   "file_extension": ".py",
   "mimetype": "text/x-python",
   "name": "python",
   "nbconvert_exporter": "python",
   "pygments_lexer": "ipython3",
   "version": "3.6.9"
  }
 },
 "nbformat": 4,
 "nbformat_minor": 1
}