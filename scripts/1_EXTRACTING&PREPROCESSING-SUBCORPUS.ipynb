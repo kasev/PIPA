{
 "cells": [
  {
   "cell_type": "code",
   "execution_count": 1,
   "metadata": {
    "pycharm": {
     "name": "#%%\n"
    }
   },
   "outputs": [],
   "source": [
    "import pandas as pd\n",
    "import requests\n",
    "import re"
   ]
  },
  {
   "cell_type": "code",
   "execution_count": 23,
   "outputs": [
    {
     "name": "stdout",
     "output_type": "stream",
     "text": [
      "endpoint variable has been configured to: https://sciencedata.dk/files/\n"
     ]
    }
   ],
   "source": [
    "# to communicate with google spreadsheet...\n",
    "import gspread\n",
    "from gspread_dataframe import get_as_dataframe\n",
    "from gspread_dataframe import set_with_dataframe\n",
    "from google.oauth2 import service_account # based on google-auth library\n",
    "import sddk\n",
    "\n",
    "s = sddk.cloudSession(\"sciencedata.dk\")\n",
    "# establish connection with gogglesheets...\n",
    "file_data = s.read_file(\"https://sciencedata.dk/files/ServiceAccountsKey.json\", \"dict\") # or load it from a local storage: json.load(open(\"../../ServiceAccountsKey.json\", \"r\"))\n",
    "credentials = service_account.Credentials.from_service_account_info(file_data)\n",
    "gc = gspread.Client(auth=credentials.with_scopes(['https://spreadsheets.google.com/feeds', 'https://www.googleapis.com/auth/drive']))\n",
    "PIPA_data = gc.open_by_url(\"https://docs.google.com/spreadsheets/d/1rV4t0_UV_wcx--UAHVwkqB8Wa_5n9mnpV05yGG1OHqk/edit?usp=sharing\")"
   ],
   "metadata": {
    "collapsed": false,
    "pycharm": {
     "name": "#%%\n"
    }
   }
  },
  {
   "cell_type": "markdown",
   "metadata": {
    "colab_type": "text",
    "id": "CMR9KfVlwJbR",
    "pycharm": {
     "name": "#%% md\n"
    }
   },
   "source": [
    "# Load the main dataset of ancient Greek texts"
   ]
  },
  {
   "cell_type": "code",
   "execution_count": 2,
   "outputs": [
    {
     "name": "stdout",
     "output_type": "stream",
     "text": [
      "['/Users/kasev/Projects/paul/data/large_files/LIRE_v1-0.json']\n"
     ]
    }
   ],
   "source": [
    "# find local version of the input dataset\n",
    "local_paths = !find ~/Projects -name \"LIRE_v1-0.json\"\n",
    "print(local_paths)"
   ],
   "metadata": {
    "collapsed": false,
    "pycharm": {
     "name": "#%%\n"
    }
   }
  },
  {
   "cell_type": "code",
   "execution_count": 3,
   "outputs": [],
   "source": [
    "# LAGT (v1.0.1) dataset directly from Zenodo\n",
    "try:\n",
    "    LAGT = pd.read_json(local_paths[0])\n",
    "except:\n",
    "    resp = requests.get(\"https://zenodo.org/record/4971946/files/LAGT_v1-0.json?download=1\")\n",
    "    # save it for next time\n",
    "    LAGT = pd.DataFrame(resp.json())\n",
    "    LAGT.to_json(\"../data/large_files/LIRE_v1-0.json\")"
   ],
   "metadata": {
    "collapsed": false,
    "pycharm": {
     "name": "#%%\n"
    }
   }
  },
  {
   "cell_type": "code",
   "execution_count": null,
   "outputs": [],
   "source": [],
   "metadata": {
    "collapsed": false,
    "pycharm": {
     "name": "#%%\n"
    }
   }
  },
  {
   "cell_type": "code",
   "execution_count": 5,
   "metadata": {
    "colab": {
     "base_uri": "https://localhost:8080/",
     "height": 547
    },
    "colab_type": "code",
    "executionInfo": {
     "elapsed": 570,
     "status": "ok",
     "timestamp": 1588854060391,
     "user": {
      "displayName": "Vojtěch Kaše",
      "photoUrl": "https://lh3.googleusercontent.com/a-/AOh14Ggz3jS9e7I3GdIEbyBKFtqr9tPdNCwyLBEJwbK8cw=s64",
      "userId": "01399835024022498543"
     },
     "user_tz": -120
    },
    "id": "4E38A84hUqqU",
    "outputId": "b67a6b21-c1ef-4c18-db4a-78c0e2a4153c",
    "pycharm": {
     "name": "#%%\n"
    }
   },
   "outputs": [
    {
     "data": {
      "text/plain": "                          filename              author  \\\n0  tlg0001.tlg001.perseus-grc2.xml  Apollonius Rhodius   \n1  tlg0003.tlg001.perseus-grc2.xml          Thucydides   \n2  tlg0004.tlg001.perseus-grc1.xml   Diogenes Laertius   \n3  tlg0005.tlg001.perseus-grc1.xml          Theocritus   \n4  tlg0005.tlg002.perseus-grc1.xml          Theocritus   \n\n                           title  wordcount author_id          doc_id  \\\n0                    Argonautica      38822   tlg0001  tlg0001.tlg001   \n1          The Peloponnesian War     150118   tlg0003  tlg0003.tlg001   \n2  Lives of Eminent Philosophers     110763   tlg0004  tlg0004.tlg001   \n3                        Idylls       19200   tlg0005  tlg0005.tlg001   \n4                      Epigrams        1734   tlg0005  tlg0005.tlg002   \n\n   raw_date  date_avr                  date_probs  date_manual provenience  \\\n0    3 B.C.      -2.5                 {'-2.5': 1}         -2.5       pagan   \n1    5 B.C.      -4.5                 {'-4.5': 1}         -4.5       pagan   \n2    A.D. 3       2.5                  {'2.5': 1}          NaN               \n3  4-3 B.C.      -3.0  {'-3.5': 0.5, '-2.5': 0.5}          NaN               \n4  4-3 B.C.      -3.0  {'-3.5': 0.5, '-2.5': 0.5}          NaN               \n\n     tlg_epithet                                       clean_string  \\\n0      Epici/-ae  ἀρχόμενος σέο, Φοῖβε, παλαιγενέων κλέα φωτῶν μ...   \n1  Historici/-ae   Θουκυδίδης Ἀθηναῖος ξυνέγραψε τὸν πόλεμον τῶν...   \n2      Biographi  Τὸ τῆς φιλοσοφίας ἔργον ἔνιοί φασιν ἀπὸ βαρβάρ...   \n3       Bucolici   ̔Αδύ τι τὸ ψιθύρισμα καὶ ἁ πίτυς αἰπόλε τήνα,...   \n4       Bucolici  τὰ ῥόδα τὰ δροσόεντα καὶ ἁ κατάπυκνος ἐκείνα ἕ...   \n\n   n_sentences                               lemmatized_sentences  \n0         3252  [[ἄρχω, Φοῖβος, παλαιγενής, κλέος, φώς, μιμνήσ...  \n1         6068  [[θουκυδίδης, Ἀθηναῖος, συγγράφω, πόλεμος, Πελ...  \n2        10245  [[φιλοσοφία, ἔργον, ἔνιοι, φημί, βάρβαρος, ἄρχ...  \n3         1982  [[αδύ, ψιθύρισμα, πίτυς, αἰπόλος, τῆνος, πηγή,...  \n4          152  [[ῥόδον, δροσόεντα, κατάπυκνος, ἐκεῖνος, ἕρπυλ...  ",
      "text/html": "<div>\n<style scoped>\n    .dataframe tbody tr th:only-of-type {\n        vertical-align: middle;\n    }\n\n    .dataframe tbody tr th {\n        vertical-align: top;\n    }\n\n    .dataframe thead th {\n        text-align: right;\n    }\n</style>\n<table border=\"1\" class=\"dataframe\">\n  <thead>\n    <tr style=\"text-align: right;\">\n      <th></th>\n      <th>filename</th>\n      <th>author</th>\n      <th>title</th>\n      <th>wordcount</th>\n      <th>author_id</th>\n      <th>doc_id</th>\n      <th>raw_date</th>\n      <th>date_avr</th>\n      <th>date_probs</th>\n      <th>date_manual</th>\n      <th>provenience</th>\n      <th>tlg_epithet</th>\n      <th>clean_string</th>\n      <th>n_sentences</th>\n      <th>lemmatized_sentences</th>\n    </tr>\n  </thead>\n  <tbody>\n    <tr>\n      <th>0</th>\n      <td>tlg0001.tlg001.perseus-grc2.xml</td>\n      <td>Apollonius Rhodius</td>\n      <td>Argonautica</td>\n      <td>38822</td>\n      <td>tlg0001</td>\n      <td>tlg0001.tlg001</td>\n      <td>3 B.C.</td>\n      <td>-2.5</td>\n      <td>{'-2.5': 1}</td>\n      <td>-2.5</td>\n      <td>pagan</td>\n      <td>Epici/-ae</td>\n      <td>ἀρχόμενος σέο, Φοῖβε, παλαιγενέων κλέα φωτῶν μ...</td>\n      <td>3252</td>\n      <td>[[ἄρχω, Φοῖβος, παλαιγενής, κλέος, φώς, μιμνήσ...</td>\n    </tr>\n    <tr>\n      <th>1</th>\n      <td>tlg0003.tlg001.perseus-grc2.xml</td>\n      <td>Thucydides</td>\n      <td>The Peloponnesian War</td>\n      <td>150118</td>\n      <td>tlg0003</td>\n      <td>tlg0003.tlg001</td>\n      <td>5 B.C.</td>\n      <td>-4.5</td>\n      <td>{'-4.5': 1}</td>\n      <td>-4.5</td>\n      <td>pagan</td>\n      <td>Historici/-ae</td>\n      <td>Θουκυδίδης Ἀθηναῖος ξυνέγραψε τὸν πόλεμον τῶν...</td>\n      <td>6068</td>\n      <td>[[θουκυδίδης, Ἀθηναῖος, συγγράφω, πόλεμος, Πελ...</td>\n    </tr>\n    <tr>\n      <th>2</th>\n      <td>tlg0004.tlg001.perseus-grc1.xml</td>\n      <td>Diogenes Laertius</td>\n      <td>Lives of Eminent Philosophers</td>\n      <td>110763</td>\n      <td>tlg0004</td>\n      <td>tlg0004.tlg001</td>\n      <td>A.D. 3</td>\n      <td>2.5</td>\n      <td>{'2.5': 1}</td>\n      <td>NaN</td>\n      <td></td>\n      <td>Biographi</td>\n      <td>Τὸ τῆς φιλοσοφίας ἔργον ἔνιοί φασιν ἀπὸ βαρβάρ...</td>\n      <td>10245</td>\n      <td>[[φιλοσοφία, ἔργον, ἔνιοι, φημί, βάρβαρος, ἄρχ...</td>\n    </tr>\n    <tr>\n      <th>3</th>\n      <td>tlg0005.tlg001.perseus-grc1.xml</td>\n      <td>Theocritus</td>\n      <td>Idylls</td>\n      <td>19200</td>\n      <td>tlg0005</td>\n      <td>tlg0005.tlg001</td>\n      <td>4-3 B.C.</td>\n      <td>-3.0</td>\n      <td>{'-3.5': 0.5, '-2.5': 0.5}</td>\n      <td>NaN</td>\n      <td></td>\n      <td>Bucolici</td>\n      <td>̔Αδύ τι τὸ ψιθύρισμα καὶ ἁ πίτυς αἰπόλε τήνα,...</td>\n      <td>1982</td>\n      <td>[[αδύ, ψιθύρισμα, πίτυς, αἰπόλος, τῆνος, πηγή,...</td>\n    </tr>\n    <tr>\n      <th>4</th>\n      <td>tlg0005.tlg002.perseus-grc1.xml</td>\n      <td>Theocritus</td>\n      <td>Epigrams</td>\n      <td>1734</td>\n      <td>tlg0005</td>\n      <td>tlg0005.tlg002</td>\n      <td>4-3 B.C.</td>\n      <td>-3.0</td>\n      <td>{'-3.5': 0.5, '-2.5': 0.5}</td>\n      <td>NaN</td>\n      <td></td>\n      <td>Bucolici</td>\n      <td>τὰ ῥόδα τὰ δροσόεντα καὶ ἁ κατάπυκνος ἐκείνα ἕ...</td>\n      <td>152</td>\n      <td>[[ῥόδον, δροσόεντα, κατάπυκνος, ἐκεῖνος, ἕρπυλ...</td>\n    </tr>\n  </tbody>\n</table>\n</div>"
     },
     "execution_count": 4,
     "metadata": {},
     "output_type": "execute_result"
    },
    {
     "data": {
      "text/plain": "                          filename              author  \\\n0  tlg0001.tlg001.perseus-grc2.xml  Apollonius Rhodius   \n1  tlg0003.tlg001.perseus-grc2.xml          Thucydides   \n2  tlg0004.tlg001.perseus-grc1.xml   Diogenes Laertius   \n3  tlg0005.tlg001.perseus-grc1.xml          Theocritus   \n4  tlg0005.tlg002.perseus-grc1.xml          Theocritus   \n\n                           title  wordcount author_id          doc_id  \\\n0                    Argonautica      38822   tlg0001  tlg0001.tlg001   \n1          The Peloponnesian War     150118   tlg0003  tlg0003.tlg001   \n2  Lives of Eminent Philosophers     110763   tlg0004  tlg0004.tlg001   \n3                        Idylls       19200   tlg0005  tlg0005.tlg001   \n4                      Epigrams        1734   tlg0005  tlg0005.tlg002   \n\n   raw_date  date_avr                  date_probs  date_manual provenience  \\\n0    3 B.C.      -2.5                 {'-2.5': 1}         -2.5       pagan   \n1    5 B.C.      -4.5                 {'-4.5': 1}         -4.5       pagan   \n2    A.D. 3       2.5                  {'2.5': 1}          NaN               \n3  4-3 B.C.      -3.0  {'-3.5': 0.5, '-2.5': 0.5}          NaN               \n4  4-3 B.C.      -3.0  {'-3.5': 0.5, '-2.5': 0.5}          NaN               \n\n     tlg_epithet                                       clean_string  \\\n0      Epici/-ae  ἀρχόμενος σέο, Φοῖβε, παλαιγενέων κλέα φωτῶν μ...   \n1  Historici/-ae   Θουκυδίδης Ἀθηναῖος ξυνέγραψε τὸν πόλεμον τῶν...   \n2      Biographi  Τὸ τῆς φιλοσοφίας ἔργον ἔνιοί φασιν ἀπὸ βαρβάρ...   \n3       Bucolici   ̔Αδύ τι τὸ ψιθύρισμα καὶ ἁ πίτυς αἰπόλε τήνα,...   \n4       Bucolici  τὰ ῥόδα τὰ δροσόεντα καὶ ἁ κατάπυκνος ἐκείνα ἕ...   \n\n   n_sentences                               lemmatized_sentences  \n0         3252  [[ἄρχω, Φοῖβος, παλαιγενής, κλέος, φώς, μιμνήσ...  \n1         6068  [[θουκυδίδης, Ἀθηναῖος, συγγράφω, πόλεμος, Πελ...  \n2        10245  [[φιλοσοφία, ἔργον, ἔνιοι, φημί, βάρβαρος, ἄρχ...  \n3         1982  [[αδύ, ψιθύρισμα, πίτυς, αἰπόλος, τῆνος, πηγή,...  \n4          152  [[ῥόδον, δροσόεντα, κατάπυκνος, ἐκεῖνος, ἕρπυλ...  ",
      "text/html": "<div>\n<style scoped>\n    .dataframe tbody tr th:only-of-type {\n        vertical-align: middle;\n    }\n\n    .dataframe tbody tr th {\n        vertical-align: top;\n    }\n\n    .dataframe thead th {\n        text-align: right;\n    }\n</style>\n<table border=\"1\" class=\"dataframe\">\n  <thead>\n    <tr style=\"text-align: right;\">\n      <th></th>\n      <th>filename</th>\n      <th>author</th>\n      <th>title</th>\n      <th>wordcount</th>\n      <th>author_id</th>\n      <th>doc_id</th>\n      <th>raw_date</th>\n      <th>date_avr</th>\n      <th>date_probs</th>\n      <th>date_manual</th>\n      <th>provenience</th>\n      <th>tlg_epithet</th>\n      <th>clean_string</th>\n      <th>n_sentences</th>\n      <th>lemmatized_sentences</th>\n    </tr>\n  </thead>\n  <tbody>\n    <tr>\n      <th>0</th>\n      <td>tlg0001.tlg001.perseus-grc2.xml</td>\n      <td>Apollonius Rhodius</td>\n      <td>Argonautica</td>\n      <td>38822</td>\n      <td>tlg0001</td>\n      <td>tlg0001.tlg001</td>\n      <td>3 B.C.</td>\n      <td>-2.5</td>\n      <td>{'-2.5': 1}</td>\n      <td>-2.5</td>\n      <td>pagan</td>\n      <td>Epici/-ae</td>\n      <td>ἀρχόμενος σέο, Φοῖβε, παλαιγενέων κλέα φωτῶν μ...</td>\n      <td>3252</td>\n      <td>[[ἄρχω, Φοῖβος, παλαιγενής, κλέος, φώς, μιμνήσ...</td>\n    </tr>\n    <tr>\n      <th>1</th>\n      <td>tlg0003.tlg001.perseus-grc2.xml</td>\n      <td>Thucydides</td>\n      <td>The Peloponnesian War</td>\n      <td>150118</td>\n      <td>tlg0003</td>\n      <td>tlg0003.tlg001</td>\n      <td>5 B.C.</td>\n      <td>-4.5</td>\n      <td>{'-4.5': 1}</td>\n      <td>-4.5</td>\n      <td>pagan</td>\n      <td>Historici/-ae</td>\n      <td>Θουκυδίδης Ἀθηναῖος ξυνέγραψε τὸν πόλεμον τῶν...</td>\n      <td>6068</td>\n      <td>[[θουκυδίδης, Ἀθηναῖος, συγγράφω, πόλεμος, Πελ...</td>\n    </tr>\n    <tr>\n      <th>2</th>\n      <td>tlg0004.tlg001.perseus-grc1.xml</td>\n      <td>Diogenes Laertius</td>\n      <td>Lives of Eminent Philosophers</td>\n      <td>110763</td>\n      <td>tlg0004</td>\n      <td>tlg0004.tlg001</td>\n      <td>A.D. 3</td>\n      <td>2.5</td>\n      <td>{'2.5': 1}</td>\n      <td>NaN</td>\n      <td></td>\n      <td>Biographi</td>\n      <td>Τὸ τῆς φιλοσοφίας ἔργον ἔνιοί φασιν ἀπὸ βαρβάρ...</td>\n      <td>10245</td>\n      <td>[[φιλοσοφία, ἔργον, ἔνιοι, φημί, βάρβαρος, ἄρχ...</td>\n    </tr>\n    <tr>\n      <th>3</th>\n      <td>tlg0005.tlg001.perseus-grc1.xml</td>\n      <td>Theocritus</td>\n      <td>Idylls</td>\n      <td>19200</td>\n      <td>tlg0005</td>\n      <td>tlg0005.tlg001</td>\n      <td>4-3 B.C.</td>\n      <td>-3.0</td>\n      <td>{'-3.5': 0.5, '-2.5': 0.5}</td>\n      <td>NaN</td>\n      <td></td>\n      <td>Bucolici</td>\n      <td>̔Αδύ τι τὸ ψιθύρισμα καὶ ἁ πίτυς αἰπόλε τήνα,...</td>\n      <td>1982</td>\n      <td>[[αδύ, ψιθύρισμα, πίτυς, αἰπόλος, τῆνος, πηγή,...</td>\n    </tr>\n    <tr>\n      <th>4</th>\n      <td>tlg0005.tlg002.perseus-grc1.xml</td>\n      <td>Theocritus</td>\n      <td>Epigrams</td>\n      <td>1734</td>\n      <td>tlg0005</td>\n      <td>tlg0005.tlg002</td>\n      <td>4-3 B.C.</td>\n      <td>-3.0</td>\n      <td>{'-3.5': 0.5, '-2.5': 0.5}</td>\n      <td>NaN</td>\n      <td></td>\n      <td>Bucolici</td>\n      <td>τὰ ῥόδα τὰ δροσόεντα καὶ ἁ κατάπυκνος ἐκείνα ἕ...</td>\n      <td>152</td>\n      <td>[[ῥόδον, δροσόεντα, κατάπυκνος, ἐκεῖνος, ἕρπυλ...</td>\n    </tr>\n  </tbody>\n</table>\n</div>"
     },
     "execution_count": 5,
     "metadata": {},
     "output_type": "execute_result"
    }
   ],
   "source": [
    "# get some overview of the shape of the data\n",
    "LAGT.head(5)"
   ]
  },
  {
   "cell_type": "code",
   "execution_count": 6,
   "metadata": {
    "pycharm": {
     "name": "#%%\n"
    }
   },
   "outputs": [
    {
     "data": {
      "text/plain": "14383627"
     },
     "execution_count": 6,
     "metadata": {},
     "output_type": "execute_result"
    }
   ],
   "source": [
    "def flat_lemmata(sentences):\n",
    "    lemmata = [word for sent in sentences for word in sent]\n",
    "    return lemmata\n",
    "LAGT[\"lemmata\"] = LAGT[\"lemmatized_sentences\"].apply(flat_lemmata)\n",
    "\n",
    "LAGT[\"lemmata_wordcount\"] = LAGT[\"lemmata\"].apply(lambda x: len(x))\n",
    "LAGT[\"lemmata_wordcount\"].sum() # previously we had 13925726, then 13713183, finally 14756899"
   ]
  },
  {
   "cell_type": "markdown",
   "metadata": {
    "colab_type": "text",
    "id": "KsuVLaw4gzvC",
    "pycharm": {
     "name": "#%% md\n"
    }
   },
   "source": [
    "# Extract subcorpus\n",
    "\n"
   ]
  },
  {
   "cell_type": "code",
   "execution_count": 7,
   "metadata": {
    "colab": {
     "base_uri": "https://localhost:8080/",
     "height": 34
    },
    "colab_type": "code",
    "executionInfo": {
     "elapsed": 528,
     "status": "ok",
     "timestamp": 1588854160205,
     "user": {
      "displayName": "Vojtěch Kaše",
      "photoUrl": "https://lh3.googleusercontent.com/a-/AOh14Ggz3jS9e7I3GdIEbyBKFtqr9tPdNCwyLBEJwbK8cw=s64",
      "userId": "01399835024022498543"
     },
     "user_tz": -120
    },
    "id": "RS_FkWQCiMiw",
    "outputId": "246b1e31-bd07-42c5-8ba2-491e32774357",
    "pycharm": {
     "name": "#%%\n"
    }
   },
   "outputs": [
    {
     "data": {
      "text/plain": "1457"
     },
     "execution_count": 7,
     "metadata": {},
     "output_type": "execute_result"
    }
   ],
   "source": [
    "### how many documents we have\n",
    "len(LAGT)"
   ]
  },
  {
   "cell_type": "code",
   "execution_count": 15,
   "outputs": [
    {
     "data": {
      "text/plain": "                            filename        author  \\\n208  tlg0013.tlg004.perseus-grc2.xml  Homeric hymn   \n211  tlg0013.tlg007.perseus-grc2.xml  Homeric hymn   \n223  tlg0013.tlg019.perseus-grc2.xml  Homeric hymn   \n426  tlg0033.tlg001.perseus-grc2.xml        Pindar   \n427  tlg0033.tlg002.perseus-grc2.xml        Pindar   \n428  tlg0033.tlg003.perseus-grc2.xml        Pindar   \n429  tlg0033.tlg004.perseus-grc2.xml        Pindar   \n678  tlg0085.tlg001.perseus-grc2.xml     Aeschylus   \n679  tlg0085.tlg002.perseus-grc2.xml     Aeschylus   \n680  tlg0085.tlg003.perseus-grc2.xml     Aeschylus   \n681  tlg0085.tlg004.perseus-grc2.xml     Aeschylus   \n682  tlg0085.tlg005.perseus-grc2.xml     Aeschylus   \n683  tlg0085.tlg006.perseus-grc2.xml     Aeschylus   \n684  tlg0085.tlg007.perseus-grc2.xml     Aeschylus   \n\n                                        title  wordcount    author_id  \\\n208                          Hymn 4 To Hermes       4031  tlg0013herm   \n211                        Hymn 7 To Dionysus        425  tlg0013dyo2   \n223                            Hymn 19 to Pan        336   tlg0013pan   \n426  Odes (Greek). Machine readable text - O.       5875      tlg0033   \n427  Odes (Greek). Machine readable text - P.       7427      tlg0033   \n428  Odes (Greek). Machine readable text - N.       4944      tlg0033   \n429  Odes (Greek). Machine readable text - I.       2899      tlg0033   \n678                         Suppliant Maidens       4977      tlg0085   \n679                                  Persians       5221      tlg0085   \n680                          Prometheus Bound       5943      tlg0085   \n681                      Seven Against Thebes       5157      tlg0085   \n682                                 Agamemnon       8254      tlg0085   \n683                          Libation Bearers       5463      tlg0085   \n684                                 Eumenides       5320      tlg0085   \n\n             doc_id  raw_date  date_avr  \\\n208  tlg0013.tlg004  8-6 B.C.      -5.0   \n211  tlg0013.tlg007  8-6 B.C.      -5.0   \n223  tlg0013.tlg019  8-6 B.C.      -5.0   \n426  tlg0033.tlg001  6-5 B.C.      -5.0   \n427  tlg0033.tlg002  6-5 B.C.      -5.0   \n428  tlg0033.tlg003  6-5 B.C.      -5.0   \n429  tlg0033.tlg004  6-5 B.C.      -5.0   \n678  tlg0085.tlg001  6-5 B.C.      -5.0   \n679  tlg0085.tlg002  6-5 B.C.      -5.0   \n680  tlg0085.tlg003  6-5 B.C.      -5.0   \n681  tlg0085.tlg004  6-5 B.C.      -5.0   \n682  tlg0085.tlg005  6-5 B.C.      -5.0   \n683  tlg0085.tlg006  6-5 B.C.      -5.0   \n684  tlg0085.tlg007  6-5 B.C.      -5.0   \n\n                                            date_probs  date_manual  \\\n208  {'-7.5': 0.33330000000000004, '-6.5': 0.333300...         -7.0   \n211  {'-7.5': 0.33330000000000004, '-6.5': 0.333300...         -7.0   \n223  {'-7.5': 0.33330000000000004, '-6.5': 0.333300...         -7.0   \n426                         {'-5.5': 0.5, '-4.5': 0.5}         -4.5   \n427                         {'-5.5': 0.5, '-4.5': 0.5}         -4.5   \n428                         {'-5.5': 0.5, '-4.5': 0.5}         -4.5   \n429                         {'-5.5': 0.5, '-4.5': 0.5}         -4.5   \n678                         {'-5.5': 0.5, '-4.5': 0.5}         -4.5   \n679                         {'-5.5': 0.5, '-4.5': 0.5}         -4.5   \n680                         {'-5.5': 0.5, '-4.5': 0.5}         -4.5   \n681                         {'-5.5': 0.5, '-4.5': 0.5}         -4.5   \n682                         {'-5.5': 0.5, '-4.5': 0.5}         -4.5   \n683                         {'-5.5': 0.5, '-4.5': 0.5}         -4.5   \n684                         {'-5.5': 0.5, '-4.5': 0.5}         -4.5   \n\n    provenience tlg_epithet  \\\n208       pagan          []   \n211       pagan          []   \n223       pagan          []   \n426       pagan  Lyrici/-ae   \n427       pagan  Lyrici/-ae   \n428       pagan  Lyrici/-ae   \n429       pagan  Lyrici/-ae   \n678       pagan     Tragici   \n679       pagan     Tragici   \n680       pagan     Tragici   \n681       pagan     Tragici   \n682       pagan     Tragici   \n683       pagan     Tragici   \n684       pagan     Tragici   \n\n                                          clean_string  n_sentences  \\\n208  Ἑρμῆν ὕμνει, Μοῦσα, Διὸς καὶ Μαιάδος υἱόν, Κυλ...          332   \n211  ἀμφὶ Διώνυσον, Σεμέλης ἐρικυδέος υἱόν, μνήσομα...           42   \n223  ἀμφί μοι Ἑρμείαο φίλον γόνον ἔννεπε, Μοῦσα, αἰ...           19   \n426   ἄριστον μὲν ὕδωρ, ὁ δὲ χρυσὸς αἰθόμενον πῦρ ἅ...          427   \n427   χρυσέα φόρμιγξ, Ἀπόλλωνος καὶ ἰοπλοκάμων σύνδ...          595   \n428   ἄμπνευμα σεμνὸν Ἀλφεοῦ, κλεινᾶν Συρακοσσᾶν θά...          402   \n429   μᾶτερ ἐμά, τὸ τεόν, χρύσασπι Θήβα, πρᾶγμα καὶ...          222   \n678  Ζεὺς μὲν ἀφίκτωρ ἐπίδοι προφρόνως στόλον ἡμέτε...          527   \n679  Τάδε μὲν Περσῶν τῶν οἰχομένων Ἑλλάδʼ ἐς αἶαν π...          481   \n680  Χθονὸς μὲν ἐς τηλουρὸν ἥκομεν πέδον, Σκύθην ἐς...          590   \n681  Κάδμου πολῖται, χρὴ λέγειν τὰ καίρια ὅστις φυλ...          523   \n682  Φύλαξ θεοὺς μὲν αἰτῶ τῶνδʼ ἀπαλλαγὴν πόνων φρο...          807   \n683   Ἑρμῆ χθόνιε, πατρῷʼ ἐποπτεύων κράτη, σωτὴρ γε...          571   \n684  πρῶτον μὲν εὐχῇ τῇδε πρεσβεύω θεῶν τὴν πρωτόμα...          521   \n\n                                  lemmatized_sentences  \\\n208  [[Ἑρμῆς, ὑμνέω, Μοῦσα, Ζεύς, Μαιάς, υἱός, Κυλλ...   \n211  [[Διόνυσος, σεμέλης, ἐρικυδής, υἱός, μιμνήσκω,...   \n223  [[Ἑρμῆς, φίλος, γόνος, ἐνέπω, Μοῦσα, αἰγιπόδης...   \n426  [[ἀγαθός, ὕδωρ, χρυσός, αἴθω, πῦρ, διαπρέπω, ν...   \n427  [[χρύσεος, φόρμιγξ, Ἀπόλλων, ἰοπλοκάμων, σύνδι...   \n428  [[ἀνάπνευμα, σεμνός, ἀλφεοῦ, κλεινός, συρακοσσ...   \n429  [[μήτηρ, ἐμός, τεός, χρύσασπις, θήβα, πρᾶγμα, ...   \n678  [[Ζεύς, ἀφίκτωρ, ἐπεῖδον, στόλος, ἡμέτερος, νή...   \n679  [[Πέρσης, οἴχομαι, Ἑλλάς, αἶα, πιστός, καλέω, ...   \n680  [[χθών, τηλουρός, ἥκω, πέδον, Σκύθης, οἷμον, ἄ...   \n681  [[Κάδμος, πολίτης, χρή, λέγω, καίριος, φυλάσσω...   \n682  [[φύλαξ, θεός, αἰτέω, ὅδε, ἀπαλλαγή, πόνος, φρ...   \n683  [[Ἑρμῆς, χθόνιος, πατρῷος, ἐποπτεύων, κράτος, ...   \n684  [[πρῶτος, εὐχή, πρεσβεύω, θεός, πρωτόμαντις, γ...   \n\n                                               lemmata  lemmata_wordcount  \n208  [Ἑρμῆς, ὑμνέω, Μοῦσα, Ζεύς, Μαιάς, υἱός, Κυλλή...               2562  \n211  [Διόνυσος, σεμέλης, ἐρικυδής, υἱός, μιμνήσκω, ...                262  \n223  [Ἑρμῆς, φίλος, γόνος, ἐνέπω, Μοῦσα, αἰγιπόδης,...                220  \n426  [ἀγαθός, ὕδωρ, χρυσός, αἴθω, πῦρ, διαπρέπω, νύ...               4025  \n427  [χρύσεος, φόρμιγξ, Ἀπόλλων, ἰοπλοκάμων, σύνδικ...               5152  \n428  [ἀνάπνευμα, σεμνός, ἀλφεοῦ, κλεινός, συρακοσσᾶ...               3393  \n429  [μήτηρ, ἐμός, τεός, χρύσασπις, θήβα, πρᾶγμα, ἀ...               1989  \n678  [Ζεύς, ἀφίκτωρ, ἐπεῖδον, στόλος, ἡμέτερος, νήι...               3276  \n679  [Πέρσης, οἴχομαι, Ἑλλάς, αἶα, πιστός, καλέω, ἀ...               3482  \n680  [χθών, τηλουρός, ἥκω, πέδον, Σκύθης, οἷμον, ἄβ...               3586  \n681  [Κάδμος, πολίτης, χρή, λέγω, καίριος, φυλάσσω,...               3413  \n682  [φύλαξ, θεός, αἰτέω, ὅδε, ἀπαλλαγή, πόνος, φρο...               5310  \n683  [Ἑρμῆς, χθόνιος, πατρῷος, ἐποπτεύων, κράτος, σ...               3454  \n684  [πρῶτος, εὐχή, πρεσβεύω, θεός, πρωτόμαντις, γα...               3327  ",
      "text/html": "<div>\n<style scoped>\n    .dataframe tbody tr th:only-of-type {\n        vertical-align: middle;\n    }\n\n    .dataframe tbody tr th {\n        vertical-align: top;\n    }\n\n    .dataframe thead th {\n        text-align: right;\n    }\n</style>\n<table border=\"1\" class=\"dataframe\">\n  <thead>\n    <tr style=\"text-align: right;\">\n      <th></th>\n      <th>filename</th>\n      <th>author</th>\n      <th>title</th>\n      <th>wordcount</th>\n      <th>author_id</th>\n      <th>doc_id</th>\n      <th>raw_date</th>\n      <th>date_avr</th>\n      <th>date_probs</th>\n      <th>date_manual</th>\n      <th>provenience</th>\n      <th>tlg_epithet</th>\n      <th>clean_string</th>\n      <th>n_sentences</th>\n      <th>lemmatized_sentences</th>\n      <th>lemmata</th>\n      <th>lemmata_wordcount</th>\n    </tr>\n  </thead>\n  <tbody>\n    <tr>\n      <th>208</th>\n      <td>tlg0013.tlg004.perseus-grc2.xml</td>\n      <td>Homeric hymn</td>\n      <td>Hymn 4 To Hermes</td>\n      <td>4031</td>\n      <td>tlg0013herm</td>\n      <td>tlg0013.tlg004</td>\n      <td>8-6 B.C.</td>\n      <td>-5.0</td>\n      <td>{'-7.5': 0.33330000000000004, '-6.5': 0.333300...</td>\n      <td>-7.0</td>\n      <td>pagan</td>\n      <td>[]</td>\n      <td>Ἑρμῆν ὕμνει, Μοῦσα, Διὸς καὶ Μαιάδος υἱόν, Κυλ...</td>\n      <td>332</td>\n      <td>[[Ἑρμῆς, ὑμνέω, Μοῦσα, Ζεύς, Μαιάς, υἱός, Κυλλ...</td>\n      <td>[Ἑρμῆς, ὑμνέω, Μοῦσα, Ζεύς, Μαιάς, υἱός, Κυλλή...</td>\n      <td>2562</td>\n    </tr>\n    <tr>\n      <th>211</th>\n      <td>tlg0013.tlg007.perseus-grc2.xml</td>\n      <td>Homeric hymn</td>\n      <td>Hymn 7 To Dionysus</td>\n      <td>425</td>\n      <td>tlg0013dyo2</td>\n      <td>tlg0013.tlg007</td>\n      <td>8-6 B.C.</td>\n      <td>-5.0</td>\n      <td>{'-7.5': 0.33330000000000004, '-6.5': 0.333300...</td>\n      <td>-7.0</td>\n      <td>pagan</td>\n      <td>[]</td>\n      <td>ἀμφὶ Διώνυσον, Σεμέλης ἐρικυδέος υἱόν, μνήσομα...</td>\n      <td>42</td>\n      <td>[[Διόνυσος, σεμέλης, ἐρικυδής, υἱός, μιμνήσκω,...</td>\n      <td>[Διόνυσος, σεμέλης, ἐρικυδής, υἱός, μιμνήσκω, ...</td>\n      <td>262</td>\n    </tr>\n    <tr>\n      <th>223</th>\n      <td>tlg0013.tlg019.perseus-grc2.xml</td>\n      <td>Homeric hymn</td>\n      <td>Hymn 19 to Pan</td>\n      <td>336</td>\n      <td>tlg0013pan</td>\n      <td>tlg0013.tlg019</td>\n      <td>8-6 B.C.</td>\n      <td>-5.0</td>\n      <td>{'-7.5': 0.33330000000000004, '-6.5': 0.333300...</td>\n      <td>-7.0</td>\n      <td>pagan</td>\n      <td>[]</td>\n      <td>ἀμφί μοι Ἑρμείαο φίλον γόνον ἔννεπε, Μοῦσα, αἰ...</td>\n      <td>19</td>\n      <td>[[Ἑρμῆς, φίλος, γόνος, ἐνέπω, Μοῦσα, αἰγιπόδης...</td>\n      <td>[Ἑρμῆς, φίλος, γόνος, ἐνέπω, Μοῦσα, αἰγιπόδης,...</td>\n      <td>220</td>\n    </tr>\n    <tr>\n      <th>426</th>\n      <td>tlg0033.tlg001.perseus-grc2.xml</td>\n      <td>Pindar</td>\n      <td>Odes (Greek). Machine readable text - O.</td>\n      <td>5875</td>\n      <td>tlg0033</td>\n      <td>tlg0033.tlg001</td>\n      <td>6-5 B.C.</td>\n      <td>-5.0</td>\n      <td>{'-5.5': 0.5, '-4.5': 0.5}</td>\n      <td>-4.5</td>\n      <td>pagan</td>\n      <td>Lyrici/-ae</td>\n      <td>ἄριστον μὲν ὕδωρ, ὁ δὲ χρυσὸς αἰθόμενον πῦρ ἅ...</td>\n      <td>427</td>\n      <td>[[ἀγαθός, ὕδωρ, χρυσός, αἴθω, πῦρ, διαπρέπω, ν...</td>\n      <td>[ἀγαθός, ὕδωρ, χρυσός, αἴθω, πῦρ, διαπρέπω, νύ...</td>\n      <td>4025</td>\n    </tr>\n    <tr>\n      <th>427</th>\n      <td>tlg0033.tlg002.perseus-grc2.xml</td>\n      <td>Pindar</td>\n      <td>Odes (Greek). Machine readable text - P.</td>\n      <td>7427</td>\n      <td>tlg0033</td>\n      <td>tlg0033.tlg002</td>\n      <td>6-5 B.C.</td>\n      <td>-5.0</td>\n      <td>{'-5.5': 0.5, '-4.5': 0.5}</td>\n      <td>-4.5</td>\n      <td>pagan</td>\n      <td>Lyrici/-ae</td>\n      <td>χρυσέα φόρμιγξ, Ἀπόλλωνος καὶ ἰοπλοκάμων σύνδ...</td>\n      <td>595</td>\n      <td>[[χρύσεος, φόρμιγξ, Ἀπόλλων, ἰοπλοκάμων, σύνδι...</td>\n      <td>[χρύσεος, φόρμιγξ, Ἀπόλλων, ἰοπλοκάμων, σύνδικ...</td>\n      <td>5152</td>\n    </tr>\n    <tr>\n      <th>428</th>\n      <td>tlg0033.tlg003.perseus-grc2.xml</td>\n      <td>Pindar</td>\n      <td>Odes (Greek). Machine readable text - N.</td>\n      <td>4944</td>\n      <td>tlg0033</td>\n      <td>tlg0033.tlg003</td>\n      <td>6-5 B.C.</td>\n      <td>-5.0</td>\n      <td>{'-5.5': 0.5, '-4.5': 0.5}</td>\n      <td>-4.5</td>\n      <td>pagan</td>\n      <td>Lyrici/-ae</td>\n      <td>ἄμπνευμα σεμνὸν Ἀλφεοῦ, κλεινᾶν Συρακοσσᾶν θά...</td>\n      <td>402</td>\n      <td>[[ἀνάπνευμα, σεμνός, ἀλφεοῦ, κλεινός, συρακοσσ...</td>\n      <td>[ἀνάπνευμα, σεμνός, ἀλφεοῦ, κλεινός, συρακοσσᾶ...</td>\n      <td>3393</td>\n    </tr>\n    <tr>\n      <th>429</th>\n      <td>tlg0033.tlg004.perseus-grc2.xml</td>\n      <td>Pindar</td>\n      <td>Odes (Greek). Machine readable text - I.</td>\n      <td>2899</td>\n      <td>tlg0033</td>\n      <td>tlg0033.tlg004</td>\n      <td>6-5 B.C.</td>\n      <td>-5.0</td>\n      <td>{'-5.5': 0.5, '-4.5': 0.5}</td>\n      <td>-4.5</td>\n      <td>pagan</td>\n      <td>Lyrici/-ae</td>\n      <td>μᾶτερ ἐμά, τὸ τεόν, χρύσασπι Θήβα, πρᾶγμα καὶ...</td>\n      <td>222</td>\n      <td>[[μήτηρ, ἐμός, τεός, χρύσασπις, θήβα, πρᾶγμα, ...</td>\n      <td>[μήτηρ, ἐμός, τεός, χρύσασπις, θήβα, πρᾶγμα, ἀ...</td>\n      <td>1989</td>\n    </tr>\n    <tr>\n      <th>678</th>\n      <td>tlg0085.tlg001.perseus-grc2.xml</td>\n      <td>Aeschylus</td>\n      <td>Suppliant Maidens</td>\n      <td>4977</td>\n      <td>tlg0085</td>\n      <td>tlg0085.tlg001</td>\n      <td>6-5 B.C.</td>\n      <td>-5.0</td>\n      <td>{'-5.5': 0.5, '-4.5': 0.5}</td>\n      <td>-4.5</td>\n      <td>pagan</td>\n      <td>Tragici</td>\n      <td>Ζεὺς μὲν ἀφίκτωρ ἐπίδοι προφρόνως στόλον ἡμέτε...</td>\n      <td>527</td>\n      <td>[[Ζεύς, ἀφίκτωρ, ἐπεῖδον, στόλος, ἡμέτερος, νή...</td>\n      <td>[Ζεύς, ἀφίκτωρ, ἐπεῖδον, στόλος, ἡμέτερος, νήι...</td>\n      <td>3276</td>\n    </tr>\n    <tr>\n      <th>679</th>\n      <td>tlg0085.tlg002.perseus-grc2.xml</td>\n      <td>Aeschylus</td>\n      <td>Persians</td>\n      <td>5221</td>\n      <td>tlg0085</td>\n      <td>tlg0085.tlg002</td>\n      <td>6-5 B.C.</td>\n      <td>-5.0</td>\n      <td>{'-5.5': 0.5, '-4.5': 0.5}</td>\n      <td>-4.5</td>\n      <td>pagan</td>\n      <td>Tragici</td>\n      <td>Τάδε μὲν Περσῶν τῶν οἰχομένων Ἑλλάδʼ ἐς αἶαν π...</td>\n      <td>481</td>\n      <td>[[Πέρσης, οἴχομαι, Ἑλλάς, αἶα, πιστός, καλέω, ...</td>\n      <td>[Πέρσης, οἴχομαι, Ἑλλάς, αἶα, πιστός, καλέω, ἀ...</td>\n      <td>3482</td>\n    </tr>\n    <tr>\n      <th>680</th>\n      <td>tlg0085.tlg003.perseus-grc2.xml</td>\n      <td>Aeschylus</td>\n      <td>Prometheus Bound</td>\n      <td>5943</td>\n      <td>tlg0085</td>\n      <td>tlg0085.tlg003</td>\n      <td>6-5 B.C.</td>\n      <td>-5.0</td>\n      <td>{'-5.5': 0.5, '-4.5': 0.5}</td>\n      <td>-4.5</td>\n      <td>pagan</td>\n      <td>Tragici</td>\n      <td>Χθονὸς μὲν ἐς τηλουρὸν ἥκομεν πέδον, Σκύθην ἐς...</td>\n      <td>590</td>\n      <td>[[χθών, τηλουρός, ἥκω, πέδον, Σκύθης, οἷμον, ἄ...</td>\n      <td>[χθών, τηλουρός, ἥκω, πέδον, Σκύθης, οἷμον, ἄβ...</td>\n      <td>3586</td>\n    </tr>\n    <tr>\n      <th>681</th>\n      <td>tlg0085.tlg004.perseus-grc2.xml</td>\n      <td>Aeschylus</td>\n      <td>Seven Against Thebes</td>\n      <td>5157</td>\n      <td>tlg0085</td>\n      <td>tlg0085.tlg004</td>\n      <td>6-5 B.C.</td>\n      <td>-5.0</td>\n      <td>{'-5.5': 0.5, '-4.5': 0.5}</td>\n      <td>-4.5</td>\n      <td>pagan</td>\n      <td>Tragici</td>\n      <td>Κάδμου πολῖται, χρὴ λέγειν τὰ καίρια ὅστις φυλ...</td>\n      <td>523</td>\n      <td>[[Κάδμος, πολίτης, χρή, λέγω, καίριος, φυλάσσω...</td>\n      <td>[Κάδμος, πολίτης, χρή, λέγω, καίριος, φυλάσσω,...</td>\n      <td>3413</td>\n    </tr>\n    <tr>\n      <th>682</th>\n      <td>tlg0085.tlg005.perseus-grc2.xml</td>\n      <td>Aeschylus</td>\n      <td>Agamemnon</td>\n      <td>8254</td>\n      <td>tlg0085</td>\n      <td>tlg0085.tlg005</td>\n      <td>6-5 B.C.</td>\n      <td>-5.0</td>\n      <td>{'-5.5': 0.5, '-4.5': 0.5}</td>\n      <td>-4.5</td>\n      <td>pagan</td>\n      <td>Tragici</td>\n      <td>Φύλαξ θεοὺς μὲν αἰτῶ τῶνδʼ ἀπαλλαγὴν πόνων φρο...</td>\n      <td>807</td>\n      <td>[[φύλαξ, θεός, αἰτέω, ὅδε, ἀπαλλαγή, πόνος, φρ...</td>\n      <td>[φύλαξ, θεός, αἰτέω, ὅδε, ἀπαλλαγή, πόνος, φρο...</td>\n      <td>5310</td>\n    </tr>\n    <tr>\n      <th>683</th>\n      <td>tlg0085.tlg006.perseus-grc2.xml</td>\n      <td>Aeschylus</td>\n      <td>Libation Bearers</td>\n      <td>5463</td>\n      <td>tlg0085</td>\n      <td>tlg0085.tlg006</td>\n      <td>6-5 B.C.</td>\n      <td>-5.0</td>\n      <td>{'-5.5': 0.5, '-4.5': 0.5}</td>\n      <td>-4.5</td>\n      <td>pagan</td>\n      <td>Tragici</td>\n      <td>Ἑρμῆ χθόνιε, πατρῷʼ ἐποπτεύων κράτη, σωτὴρ γε...</td>\n      <td>571</td>\n      <td>[[Ἑρμῆς, χθόνιος, πατρῷος, ἐποπτεύων, κράτος, ...</td>\n      <td>[Ἑρμῆς, χθόνιος, πατρῷος, ἐποπτεύων, κράτος, σ...</td>\n      <td>3454</td>\n    </tr>\n    <tr>\n      <th>684</th>\n      <td>tlg0085.tlg007.perseus-grc2.xml</td>\n      <td>Aeschylus</td>\n      <td>Eumenides</td>\n      <td>5320</td>\n      <td>tlg0085</td>\n      <td>tlg0085.tlg007</td>\n      <td>6-5 B.C.</td>\n      <td>-5.0</td>\n      <td>{'-5.5': 0.5, '-4.5': 0.5}</td>\n      <td>-4.5</td>\n      <td>pagan</td>\n      <td>Tragici</td>\n      <td>πρῶτον μὲν εὐχῇ τῇδε πρεσβεύω θεῶν τὴν πρωτόμα...</td>\n      <td>521</td>\n      <td>[[πρῶτος, εὐχή, πρεσβεύω, θεός, πρωτόμαντις, γ...</td>\n      <td>[πρῶτος, εὐχή, πρεσβεύω, θεός, πρωτόμαντις, γα...</td>\n      <td>3327</td>\n    </tr>\n  </tbody>\n</table>\n</div>"
     },
     "execution_count": 15,
     "metadata": {},
     "output_type": "execute_result"
    }
   ],
   "source": [
    "LAGT[(LAGT[\"date_avr\"]==-5)]\n"
   ],
   "metadata": {
    "collapsed": false,
    "pycharm": {
     "name": "#%%\n"
    }
   }
  },
  {
   "cell_type": "code",
   "execution_count": 16,
   "outputs": [],
   "source": [
    "cgl = LAGT[(LAGT[\"date_avr\"]>=-5) & (LAGT[\"date_avr\"]<-3)].copy()"
   ],
   "metadata": {
    "collapsed": false,
    "pycharm": {
     "name": "#%%\n"
    }
   }
  },
  {
   "cell_type": "code",
   "execution_count": 17,
   "outputs": [
    {
     "data": {
      "text/plain": "1680907"
     },
     "execution_count": 17,
     "metadata": {},
     "output_type": "execute_result"
    }
   ],
   "source": [
    "cgl[\"lemmata_wordcount\"].sum()"
   ],
   "metadata": {
    "collapsed": false,
    "pycharm": {
     "name": "#%%\n"
    }
   }
  },
  {
   "cell_type": "markdown",
   "source": [
    "# Subcorpora"
   ],
   "metadata": {
    "collapsed": false,
    "pycharm": {
     "name": "#%% md\n"
    }
   }
  },
  {
   "cell_type": "code",
   "execution_count": 19,
   "outputs": [],
   "source": [
    "# However in the case of Aristotle, we are interested only in a subselection of works associated with his name\n",
    "# we coded them manually in the \"include\" column\n",
    "c_aristotelicum_coded = pd.read_csv(\"../data/c_aristotelicum_OVERVIEW.csv\")"
   ],
   "metadata": {
    "collapsed": false,
    "pycharm": {
     "name": "#%%\n"
    }
   }
  },
  {
   "cell_type": "code",
   "execution_count": 20,
   "outputs": [
    {
     "data": {
      "text/plain": "['tlg0086.tlg001',\n 'tlg0086.tlg002',\n 'tlg0086.tlg005',\n 'tlg0086.tlg006',\n 'tlg0086.tlg008',\n 'tlg0086.tlg009',\n 'tlg0086.tlg010',\n 'tlg0086.tlg014',\n 'tlg0086.tlg016',\n 'tlg0086.tlg017']"
     },
     "execution_count": 20,
     "metadata": {},
     "output_type": "execute_result"
    }
   ],
   "source": [
    "c_arist_doc_ids = c_aristotelicum_coded[c_aristotelicum_coded[\"include?\"] == \"y\"][\"doc_id\"].tolist()\n",
    "c_arist_doc_ids[:10]"
   ],
   "metadata": {
    "collapsed": false,
    "pycharm": {
     "name": "#%%\n"
    }
   }
  },
  {
   "cell_type": "code",
   "execution_count": 21,
   "outputs": [],
   "source": [
    "def assign_subcorpus(row):\n",
    "    subcorp = None\n",
    "    if row[\"author_id\"] == \"tlg0086\":\n",
    "        if row[\"doc_id\"] in c_arist_doc_ids:\n",
    "            subcorp = \"c_aristotelicum\"\n",
    "    if row[\"author_id\"] == \"tlg0627\":\n",
    "        subcorp = \"c_hippocraticum\"\n",
    "    if row[\"author_id\"] == \"tlg0059\":\n",
    "        subcorp = \"c_platonicum\"\n",
    "    return subcorp"
   ],
   "metadata": {
    "collapsed": false,
    "pycharm": {
     "name": "#%%\n"
    }
   }
  },
  {
   "cell_type": "code",
   "execution_count": 22,
   "outputs": [],
   "source": [
    "cgl[\"subcorpus\"] = cgl.apply(assign_subcorpus, axis=1)"
   ],
   "metadata": {
    "collapsed": false,
    "pycharm": {
     "name": "#%%\n"
    }
   }
  },
  {
   "cell_type": "code",
   "execution_count": 23,
   "outputs": [
    {
     "data": {
      "text/plain": "                            filename       author  \\\n685    tlg0086.tlg001.1st1K-grc2.xml    Aristotle   \n686    tlg0086.tlg002.1st1K-grc2.xml    Aristotle   \n688    tlg0086.tlg005.1st1K-grc1.xml    Aristotle   \n689    tlg0086.tlg006.1st1K-grc1.xml    Aristotle   \n690    tlg0086.tlg008.1st1K-grc1.xml    Aristotle   \n691  tlg0086.tlg009.perseus-grc1.xml    Aristotle   \n692  tlg0086.tlg010.perseus-grc1.xml    Aristotle   \n694    tlg0086.tlg014.1st1K-grc1.xml    Aristotle   \n696    tlg0086.tlg016.1st1K-grc1.xml    Aristotle   \n697    tlg0086.tlg017.1st1K-grc1.xml    Aristotle   \n698    tlg0086.tlg018.1st1K-grc1.xml    Aristotle   \n699    tlg0086.tlg020.1st1K-grc1.xml    Aristotle   \n700    tlg0086.tlg021.1st1K-grc1.xml  Aristoteles   \n701    tlg0086.tlg022.1st1K-grc1.xml    Aristotle   \n702    tlg0086.tlg024.1st1K-grc1.xml    Aristotle   \n703  tlg0086.tlg025.perseus-grc1.xml    Aristotle   \n704    tlg0086.tlg026.1st1K-grc2.xml    Aristotle   \n705  tlg0086.tlg029.perseus-grc1.xml    Aristotle   \n706    tlg0086.tlg030.1st1K-grc1.xml    Aristotle   \n707    tlg0086.tlg031.1st1K-grc1.xml    Aristotle   \n708    tlg0086.tlg034.1st1K-grc1.xml    Aristotle   \n709  tlg0086.tlg035.perseus-grc1.xml    Aristotle   \n711  tlg0086.tlg038.perseus-grc1.xml    Aristotle   \n712    tlg0086.tlg040.1st1K-grc1.xml    Aristotle   \n713    tlg0086.tlg041.1st1K-grc1.xml    Aristotle   \n714    tlg0086.tlg042.1st1K-grc1.xml    Aristotle   \n716    tlg0086.tlg044.1st1K-grc1.xml    Aristotle   \n\n                                              title  wordcount author_id  \\\n685      Aristotelis Analytica Priora et Posteriora      59614   tlg0086   \n686                                        De anima      20912   tlg0086   \n688                                        De caelo      30794   tlg0086   \n689                                      Categoriae      10316   tlg0086   \n690                       De divinatione per somnum       1194   tlg0086   \n691  Eudemian Ethics (Greek). Machine readable text      26345   tlg0086   \n692                              Nicomachean Ethics      56620   tlg0086   \n694                              Historia animalium      93923   tlg0086   \n696                                    De insomniis       2436   tlg0086   \n697                              De interpretatione       6271   tlg0086   \n698     De iuventute et senectute, De vita et morte       1845   tlg0086   \n699               De longitudine et brevitate vitae       1789   tlg0086   \n700                            De animalium incessu       7720   tlg0086   \n701                                   Magna Moralia      32317   tlg0086   \n702                     De memoria et reminiscentia       2515   tlg0086   \n703      Metaphysics (Greek). Machine readable text      78887   tlg0086   \n704                                   Meteorologica      61933   tlg0086   \n705        Economics (Greek). Machine readable text       6226   tlg0086   \n706                           De partibus animalium      40622   tlg0086   \n707                                         Physica      55411   tlg0086   \n708                                     Ars Poetica      10065   tlg0086   \n709         Politics (Greek). Machine readable text      65546   tlg0086   \n711                                        Rhetoric      43385   tlg0086   \n712                         De sophisticis elenchis      14114   tlg0086   \n713                        De sensu et sensibilibus       7798   tlg0086   \n714                             De somno et vigilia       2989   tlg0086   \n716                                          Topica      44116   tlg0086   \n\n             doc_id raw_date  date_avr   date_probs  date_manual provenience  \\\n685  tlg0086.tlg001   4 B.C.      -3.5  {'-3.5': 1}         -3.5       pagan   \n686  tlg0086.tlg002   4 B.C.      -3.5  {'-3.5': 1}         -3.5       pagan   \n688  tlg0086.tlg005   4 B.C.      -3.5  {'-3.5': 1}         -3.5       pagan   \n689  tlg0086.tlg006   4 B.C.      -3.5  {'-3.5': 1}         -3.5       pagan   \n690  tlg0086.tlg008   4 B.C.      -3.5  {'-3.5': 1}         -3.5       pagan   \n691  tlg0086.tlg009   4 B.C.      -3.5  {'-3.5': 1}         -3.5       pagan   \n692  tlg0086.tlg010   4 B.C.      -3.5  {'-3.5': 1}         -3.5       pagan   \n694  tlg0086.tlg014   4 B.C.      -3.5  {'-3.5': 1}         -3.5       pagan   \n696  tlg0086.tlg016   4 B.C.      -3.5  {'-3.5': 1}         -3.5       pagan   \n697  tlg0086.tlg017   4 B.C.      -3.5  {'-3.5': 1}         -3.5       pagan   \n698  tlg0086.tlg018   4 B.C.      -3.5  {'-3.5': 1}         -3.5       pagan   \n699  tlg0086.tlg020   4 B.C.      -3.5  {'-3.5': 1}         -3.5       pagan   \n700  tlg0086.tlg021   4 B.C.      -3.5  {'-3.5': 1}         -3.5       pagan   \n701  tlg0086.tlg022   4 B.C.      -3.5  {'-3.5': 1}         -3.5       pagan   \n702  tlg0086.tlg024   4 B.C.      -3.5  {'-3.5': 1}         -3.5       pagan   \n703  tlg0086.tlg025   4 B.C.      -3.5  {'-3.5': 1}         -3.5       pagan   \n704  tlg0086.tlg026   4 B.C.      -3.5  {'-3.5': 1}         -3.5       pagan   \n705  tlg0086.tlg029   4 B.C.      -3.5  {'-3.5': 1}         -3.5       pagan   \n706  tlg0086.tlg030   4 B.C.      -3.5  {'-3.5': 1}         -3.5       pagan   \n707  tlg0086.tlg031   4 B.C.      -3.5  {'-3.5': 1}         -3.5       pagan   \n708  tlg0086.tlg034   4 B.C.      -3.5  {'-3.5': 1}         -3.5       pagan   \n709  tlg0086.tlg035   4 B.C.      -3.5  {'-3.5': 1}         -3.5       pagan   \n711  tlg0086.tlg038   4 B.C.      -3.5  {'-3.5': 1}         -3.5       pagan   \n712  tlg0086.tlg040   4 B.C.      -3.5  {'-3.5': 1}         -3.5       pagan   \n713  tlg0086.tlg041   4 B.C.      -3.5  {'-3.5': 1}         -3.5       pagan   \n714  tlg0086.tlg042   4 B.C.      -3.5  {'-3.5': 1}         -3.5       pagan   \n716  tlg0086.tlg044   4 B.C.      -3.5  {'-3.5': 1}         -3.5       pagan   \n\n          tlg_epithet                                       clean_string  \\\n685  Philosophici/-ae  Πρῶτον εἰπεῖν περὶ τί καὶ τίνος ἐστὶν ἡ σκέψις...   \n686  Philosophici/-ae  Τῶν καλῶν καὶ τιμίων τὴν εἴδησιν ὑπολαμβάνοντε...   \n688  Philosophici/-ae  Ἡ περὶ φύσεως ἐπιστήμη σχεδὸν ἡ πλείστη φαίνετ...   \n689  Philosophici/-ae  ὉΜΩΝΥΜΑ λέγεται ὧν ὄνομα μόνον κοινόν, ὁ δὲ κα...   \n690  Philosophici/-ae  Περὶ δὲ τῆς μαντικῆς τῆς ἐν τοῖς ὕπνοις γινομέ...   \n691  Philosophici/-ae   ὁ μὲν ἐν Δήλῳ παρὰ τῷ θεῷ τὴν αὑτοῦ γνώμην ἀπ...   \n692  Philosophici/-ae  πᾶσα τέχνη καὶ πᾶσα μέθοδος, ὁμοίως δὲ πρᾶξίς ...   \n694  Philosophici/-ae  ΤΩΝ ἐν τοῖς ζῴοις μορίων τὰ μέν ἐστιν ἀσύνθετα...   \n696  Philosophici/-ae  Μετὰ δὲ ταῦτα περὶ ἐνυπνίου ζητητέον, καὶ πρῶτ...   \n697  Philosophici/-ae  ΠΡΩΤΟΝ δεῖ θέσθαι τί ὄνομα καὶ τί ῥῆμα, ἔπειτα...   \n698  Philosophici/-ae  Περὶ δὲ νεότητος καὶ γήρως καὶ περὶ ζωῆς καὶ θ...   \n699  Philosophici/-ae  Περὶ δὲ τοῦ τὰ μὲν εἶναι μακρόβια τῶν ζῴων τὰ ...   \n700  Philosophici/-ae  Περὶ δὲ τῶν χρησίμων μορίων τοῖς ζῴοις πρὸς τὴ...   \n701  Philosophici/-ae   Ἐπειδὴ προαιρούμεθα λέγειν ὑπὲρ ἠθικῶν, πρῶτο...   \n702  Philosophici/-ae  Περὶ μὲν οῦν τῶν αἰσθητηρίων καὶ τῶν αἰσθητῶν ...   \n703  Philosophici/-ae   πάντες ἄνθρωποι τοῦ εἰδέναι ὀρέγονται φύσει. ...   \n704  Philosophici/-ae   Περὶ μὲν οὖν τῶν πρώτων αἰτίων τῆς φύσεως καὶ...   \n705  Philosophici/-ae   ἡ οἰκονομικὴ καὶ πολιτικὴ διαφέρει οὐ μόνον τ...   \n706  Philosophici/-ae  Περὶ πᾶσαν θεωρίαν τε καὶ μέθοδον, ὁμοίως ταπε...   \n707  Philosophici/-ae  Ἐπειθὴ τὸ εἰδέναι καὶ τὸ ἐπίστασθαι συμβαίνει ...   \n708  Philosophici/-ae  Περι ποιητικῆς αὐτῆς τε καὶ τῶν εἰδῶν αὐτῆς, ἥ...   \n709  Philosophici/-ae   ἐπειδὴ πᾶσαν πόλιν ὁρῶμεν κοινωνίαν τινὰ οὖσα...   \n711  Philosophici/-ae  ἡ ῥητορική ἐστιν ἀντίστροφος τῇ διαλεκτικῇ· ἀμ...   \n712  Philosophici/-ae  ΠΕΡΙ ΣΟΦΙΣΤΙΚΩΝ ΕΛΕΓΧΩΝ. ΠΕΡΙ δὲ τῶν σοφιστικῶ...   \n713  Philosophici/-ae  ἘΠΕΙ δὲ περὶ ψυχῆς καθʼ αὑτὴν διώρισται καὶ πε...   \n714  Philosophici/-ae  Περὶ δὲ ὕπνου καὶ ἐγρηγόρσεως σκεπτέον, τίνα τ...   \n716  Philosophici/-ae  Ἡ ΜΕΝ πρόθεσις τῆς πραγματείας μέθοδον εὑρεῖν,...   \n\n     n_sentences                               lemmatized_sentences  \\\n685         3710  [[πρῶτος, λέγω, εἰμί, σκέψις, ἀπόδειξις, ἐπιστ...   \n686         1317  [[καλός, τίμιος, εἶδος, ὑπολαμβάνω, ἕτερος, ἕτ...   \n688         2276  [[φύσις, ἐπιστήμη, πλεῖστος, φαίνω, σῶμα, μέγε...   \n689          660  [[ὁμώνυμος, λέγω, ὄνομα, μόνος, κοινός, ὄνομα,...   \n690           68  [[μαντικός, ὕπνος, γίγνομαι, λέγω, συμβαίνω, ἐ...   \n691         1683  [[δῆλος, θεός, ἑαυτοῦ, γνώμη, ἀποφηνάμενος, συ...   \n692         3920  [[τέχνη, πᾶς, μέθοδος, πρᾶξις, προαίρεσις, ἀγα...   \n694         6337  [[ζῷον, μόριον, εἰμί, ἀσύνθετος, ὅσος, διαιρέω...   \n696          129  [[ἐνύπνιον, ζητητέος, πρῶτος, ψυχή, φαίνω, νοη...   \n697          396  [[πρῶτος, δεῖ, τίθημι, ὄνομα, ῥῆμα, ἀπόφασις, ...   \n698           95  [[νεότης, γῆρας, ζωή, θάνατος, λεκτέος], [ἀναπ...   \n699          133  [[μακρόβια, ζῷον, βραχύβια, ζωή, μῆκος, βραχύτ...   \n700          473  [[χρήσιμος, μόριον, ζῷον, κίνησις, τόπος, ἐπισ...   \n701         5370  [[προαιρέω, λέγω, ἠθικός, πρῶτος, εἰμί, σκεπτέ...   \n702          171  [[αἰσθητήριον, αἰσθητός, τρόπος, ἔχω, ἕκαστος,...   \n703         4265  [[ἄνθρωπος, οἶδα, ὀρέγω, φύσις], [σημεῖον, αἴσ...   \n704         8512  [[πρῶτος, αἴτιος, φύσις, κίνησις, φυσικός, φορ...   \n705          369  [[οἰκονομικός, πολιτικός, διαφέρω, μόνος, τοσο...   \n706         2310  [[θεωρία, μέθοδος, ταπεινοτέραν, τίμιος, φαίνω...   \n707         3363  [[ἐπειθὴ, οἶδα, ἐπίσταμαι, συμβαίνω, πᾶς, μεθό...   \n708          598  [[ποιητικός, εἰδοί, δύναμις, ἕκαστος, ἔχω, δεῖ...   \n709         3218  [[πόλις, ὁράω, κοινωνία, κοινωνία, ἀγαθός, τὶς...   \n711         2911  [[ῥητορικός, εἰμί, ἀντίστροφος, διαλεκτικός], ...   \n712          989  [[σοφιστικός, ἔλεγχος], [σοφιστικός, ἐλεγχής, ...   \n713          495  [[ἔπειμι, ψυχή, ἑαυτοῦ, ὁρίζω, δύναμις, ἕκαστο...   \n714          183  [[ὕπνος, ἐγρηγόρσεως, σκεπτέος, τυγχάνω, εἰμί,...   \n716         2786  [[πρόθεσις, πραγματεία, μέθοδος, εὑρίσκω, δύνα...   \n\n                                               lemmata  lemmata_wordcount  \\\n685  [πρῶτος, λέγω, εἰμί, σκέψις, ἀπόδειξις, ἐπιστή...              24680   \n686  [καλός, τίμιος, εἶδος, ὑπολαμβάνω, ἕτερος, ἕτε...               9395   \n688  [φύσις, ἐπιστήμη, πλεῖστος, φαίνω, σῶμα, μέγεθ...              13437   \n689  [ὁμώνυμος, λέγω, ὄνομα, μόνος, κοινός, ὄνομα, ...               4678   \n690  [μαντικός, ὕπνος, γίγνομαι, λέγω, συμβαίνω, ἐν...                549   \n691  [δῆλος, θεός, ἑαυτοῦ, γνώμη, ἀποφηνάμενος, συγ...              11564   \n692  [τέχνη, πᾶς, μέθοδος, πρᾶξις, προαίρεσις, ἀγαθ...              25082   \n694  [ζῷον, μόριον, εἰμί, ἀσύνθετος, ὅσος, διαιρέω,...              43967   \n696  [ἐνύπνιον, ζητητέος, πρῶτος, ψυχή, φαίνω, νοητ...               1095   \n697  [πρῶτος, δεῖ, τίθημι, ὄνομα, ῥῆμα, ἀπόφασις, κ...               2632   \n698  [νεότης, γῆρας, ζωή, θάνατος, λεκτέος, ἀναπνοή...                831   \n699  [μακρόβια, ζῷον, βραχύβια, ζωή, μῆκος, βραχύτη...                789   \n700  [χρήσιμος, μόριον, ζῷον, κίνησις, τόπος, ἐπισκ...               3137   \n701  [προαιρέω, λέγω, ἠθικός, πρῶτος, εἰμί, σκεπτέο...              12354   \n702  [αἰσθητήριον, αἰσθητός, τρόπος, ἔχω, ἕκαστος, ...               1060   \n703  [ἄνθρωπος, οἶδα, ὀρέγω, φύσις, σημεῖον, αἴσθησ...              33556   \n704  [πρῶτος, αἴτιος, φύσις, κίνησις, φυσικός, φορά...              23448   \n705  [οἰκονομικός, πολιτικός, διαφέρω, μόνος, τοσοῦ...               3215   \n706  [θεωρία, μέθοδος, ταπεινοτέραν, τίμιος, φαίνω,...              18651   \n707  [ἐπειθὴ, οἶδα, ἐπίσταμαι, συμβαίνω, πᾶς, μεθόδ...              23182   \n708  [ποιητικός, εἰδοί, δύναμις, ἕκαστος, ἔχω, δεῖ,...               4758   \n709  [πόλις, ὁράω, κοινωνία, κοινωνία, ἀγαθός, τὶς,...              30643   \n711  [ῥητορικός, εἰμί, ἀντίστροφος, διαλεκτικός, ἀμ...              19687   \n712  [σοφιστικός, ἔλεγχος, σοφιστικός, ἐλεγχής, φαί...               6142   \n713  [ἔπειμι, ψυχή, ἑαυτοῦ, ὁρίζω, δύναμις, ἕκαστος...               3473   \n714  [ὕπνος, ἐγρηγόρσεως, σκεπτέος, τυγχάνω, εἰμί, ...               1363   \n716  [πρόθεσις, πραγματεία, μέθοδος, εὑρίσκω, δύναμ...              19797   \n\n           subcorpus  \n685  c_aristotelicum  \n686  c_aristotelicum  \n688  c_aristotelicum  \n689  c_aristotelicum  \n690  c_aristotelicum  \n691  c_aristotelicum  \n692  c_aristotelicum  \n694  c_aristotelicum  \n696  c_aristotelicum  \n697  c_aristotelicum  \n698  c_aristotelicum  \n699  c_aristotelicum  \n700  c_aristotelicum  \n701  c_aristotelicum  \n702  c_aristotelicum  \n703  c_aristotelicum  \n704  c_aristotelicum  \n705  c_aristotelicum  \n706  c_aristotelicum  \n707  c_aristotelicum  \n708  c_aristotelicum  \n709  c_aristotelicum  \n711  c_aristotelicum  \n712  c_aristotelicum  \n713  c_aristotelicum  \n714  c_aristotelicum  \n716  c_aristotelicum  ",
      "text/html": "<div>\n<style scoped>\n    .dataframe tbody tr th:only-of-type {\n        vertical-align: middle;\n    }\n\n    .dataframe tbody tr th {\n        vertical-align: top;\n    }\n\n    .dataframe thead th {\n        text-align: right;\n    }\n</style>\n<table border=\"1\" class=\"dataframe\">\n  <thead>\n    <tr style=\"text-align: right;\">\n      <th></th>\n      <th>filename</th>\n      <th>author</th>\n      <th>title</th>\n      <th>wordcount</th>\n      <th>author_id</th>\n      <th>doc_id</th>\n      <th>raw_date</th>\n      <th>date_avr</th>\n      <th>date_probs</th>\n      <th>date_manual</th>\n      <th>provenience</th>\n      <th>tlg_epithet</th>\n      <th>clean_string</th>\n      <th>n_sentences</th>\n      <th>lemmatized_sentences</th>\n      <th>lemmata</th>\n      <th>lemmata_wordcount</th>\n      <th>subcorpus</th>\n    </tr>\n  </thead>\n  <tbody>\n    <tr>\n      <th>685</th>\n      <td>tlg0086.tlg001.1st1K-grc2.xml</td>\n      <td>Aristotle</td>\n      <td>Aristotelis Analytica Priora et Posteriora</td>\n      <td>59614</td>\n      <td>tlg0086</td>\n      <td>tlg0086.tlg001</td>\n      <td>4 B.C.</td>\n      <td>-3.5</td>\n      <td>{'-3.5': 1}</td>\n      <td>-3.5</td>\n      <td>pagan</td>\n      <td>Philosophici/-ae</td>\n      <td>Πρῶτον εἰπεῖν περὶ τί καὶ τίνος ἐστὶν ἡ σκέψις...</td>\n      <td>3710</td>\n      <td>[[πρῶτος, λέγω, εἰμί, σκέψις, ἀπόδειξις, ἐπιστ...</td>\n      <td>[πρῶτος, λέγω, εἰμί, σκέψις, ἀπόδειξις, ἐπιστή...</td>\n      <td>24680</td>\n      <td>c_aristotelicum</td>\n    </tr>\n    <tr>\n      <th>686</th>\n      <td>tlg0086.tlg002.1st1K-grc2.xml</td>\n      <td>Aristotle</td>\n      <td>De anima</td>\n      <td>20912</td>\n      <td>tlg0086</td>\n      <td>tlg0086.tlg002</td>\n      <td>4 B.C.</td>\n      <td>-3.5</td>\n      <td>{'-3.5': 1}</td>\n      <td>-3.5</td>\n      <td>pagan</td>\n      <td>Philosophici/-ae</td>\n      <td>Τῶν καλῶν καὶ τιμίων τὴν εἴδησιν ὑπολαμβάνοντε...</td>\n      <td>1317</td>\n      <td>[[καλός, τίμιος, εἶδος, ὑπολαμβάνω, ἕτερος, ἕτ...</td>\n      <td>[καλός, τίμιος, εἶδος, ὑπολαμβάνω, ἕτερος, ἕτε...</td>\n      <td>9395</td>\n      <td>c_aristotelicum</td>\n    </tr>\n    <tr>\n      <th>688</th>\n      <td>tlg0086.tlg005.1st1K-grc1.xml</td>\n      <td>Aristotle</td>\n      <td>De caelo</td>\n      <td>30794</td>\n      <td>tlg0086</td>\n      <td>tlg0086.tlg005</td>\n      <td>4 B.C.</td>\n      <td>-3.5</td>\n      <td>{'-3.5': 1}</td>\n      <td>-3.5</td>\n      <td>pagan</td>\n      <td>Philosophici/-ae</td>\n      <td>Ἡ περὶ φύσεως ἐπιστήμη σχεδὸν ἡ πλείστη φαίνετ...</td>\n      <td>2276</td>\n      <td>[[φύσις, ἐπιστήμη, πλεῖστος, φαίνω, σῶμα, μέγε...</td>\n      <td>[φύσις, ἐπιστήμη, πλεῖστος, φαίνω, σῶμα, μέγεθ...</td>\n      <td>13437</td>\n      <td>c_aristotelicum</td>\n    </tr>\n    <tr>\n      <th>689</th>\n      <td>tlg0086.tlg006.1st1K-grc1.xml</td>\n      <td>Aristotle</td>\n      <td>Categoriae</td>\n      <td>10316</td>\n      <td>tlg0086</td>\n      <td>tlg0086.tlg006</td>\n      <td>4 B.C.</td>\n      <td>-3.5</td>\n      <td>{'-3.5': 1}</td>\n      <td>-3.5</td>\n      <td>pagan</td>\n      <td>Philosophici/-ae</td>\n      <td>ὉΜΩΝΥΜΑ λέγεται ὧν ὄνομα μόνον κοινόν, ὁ δὲ κα...</td>\n      <td>660</td>\n      <td>[[ὁμώνυμος, λέγω, ὄνομα, μόνος, κοινός, ὄνομα,...</td>\n      <td>[ὁμώνυμος, λέγω, ὄνομα, μόνος, κοινός, ὄνομα, ...</td>\n      <td>4678</td>\n      <td>c_aristotelicum</td>\n    </tr>\n    <tr>\n      <th>690</th>\n      <td>tlg0086.tlg008.1st1K-grc1.xml</td>\n      <td>Aristotle</td>\n      <td>De divinatione per somnum</td>\n      <td>1194</td>\n      <td>tlg0086</td>\n      <td>tlg0086.tlg008</td>\n      <td>4 B.C.</td>\n      <td>-3.5</td>\n      <td>{'-3.5': 1}</td>\n      <td>-3.5</td>\n      <td>pagan</td>\n      <td>Philosophici/-ae</td>\n      <td>Περὶ δὲ τῆς μαντικῆς τῆς ἐν τοῖς ὕπνοις γινομέ...</td>\n      <td>68</td>\n      <td>[[μαντικός, ὕπνος, γίγνομαι, λέγω, συμβαίνω, ἐ...</td>\n      <td>[μαντικός, ὕπνος, γίγνομαι, λέγω, συμβαίνω, ἐν...</td>\n      <td>549</td>\n      <td>c_aristotelicum</td>\n    </tr>\n    <tr>\n      <th>691</th>\n      <td>tlg0086.tlg009.perseus-grc1.xml</td>\n      <td>Aristotle</td>\n      <td>Eudemian Ethics (Greek). Machine readable text</td>\n      <td>26345</td>\n      <td>tlg0086</td>\n      <td>tlg0086.tlg009</td>\n      <td>4 B.C.</td>\n      <td>-3.5</td>\n      <td>{'-3.5': 1}</td>\n      <td>-3.5</td>\n      <td>pagan</td>\n      <td>Philosophici/-ae</td>\n      <td>ὁ μὲν ἐν Δήλῳ παρὰ τῷ θεῷ τὴν αὑτοῦ γνώμην ἀπ...</td>\n      <td>1683</td>\n      <td>[[δῆλος, θεός, ἑαυτοῦ, γνώμη, ἀποφηνάμενος, συ...</td>\n      <td>[δῆλος, θεός, ἑαυτοῦ, γνώμη, ἀποφηνάμενος, συγ...</td>\n      <td>11564</td>\n      <td>c_aristotelicum</td>\n    </tr>\n    <tr>\n      <th>692</th>\n      <td>tlg0086.tlg010.perseus-grc1.xml</td>\n      <td>Aristotle</td>\n      <td>Nicomachean Ethics</td>\n      <td>56620</td>\n      <td>tlg0086</td>\n      <td>tlg0086.tlg010</td>\n      <td>4 B.C.</td>\n      <td>-3.5</td>\n      <td>{'-3.5': 1}</td>\n      <td>-3.5</td>\n      <td>pagan</td>\n      <td>Philosophici/-ae</td>\n      <td>πᾶσα τέχνη καὶ πᾶσα μέθοδος, ὁμοίως δὲ πρᾶξίς ...</td>\n      <td>3920</td>\n      <td>[[τέχνη, πᾶς, μέθοδος, πρᾶξις, προαίρεσις, ἀγα...</td>\n      <td>[τέχνη, πᾶς, μέθοδος, πρᾶξις, προαίρεσις, ἀγαθ...</td>\n      <td>25082</td>\n      <td>c_aristotelicum</td>\n    </tr>\n    <tr>\n      <th>694</th>\n      <td>tlg0086.tlg014.1st1K-grc1.xml</td>\n      <td>Aristotle</td>\n      <td>Historia animalium</td>\n      <td>93923</td>\n      <td>tlg0086</td>\n      <td>tlg0086.tlg014</td>\n      <td>4 B.C.</td>\n      <td>-3.5</td>\n      <td>{'-3.5': 1}</td>\n      <td>-3.5</td>\n      <td>pagan</td>\n      <td>Philosophici/-ae</td>\n      <td>ΤΩΝ ἐν τοῖς ζῴοις μορίων τὰ μέν ἐστιν ἀσύνθετα...</td>\n      <td>6337</td>\n      <td>[[ζῷον, μόριον, εἰμί, ἀσύνθετος, ὅσος, διαιρέω...</td>\n      <td>[ζῷον, μόριον, εἰμί, ἀσύνθετος, ὅσος, διαιρέω,...</td>\n      <td>43967</td>\n      <td>c_aristotelicum</td>\n    </tr>\n    <tr>\n      <th>696</th>\n      <td>tlg0086.tlg016.1st1K-grc1.xml</td>\n      <td>Aristotle</td>\n      <td>De insomniis</td>\n      <td>2436</td>\n      <td>tlg0086</td>\n      <td>tlg0086.tlg016</td>\n      <td>4 B.C.</td>\n      <td>-3.5</td>\n      <td>{'-3.5': 1}</td>\n      <td>-3.5</td>\n      <td>pagan</td>\n      <td>Philosophici/-ae</td>\n      <td>Μετὰ δὲ ταῦτα περὶ ἐνυπνίου ζητητέον, καὶ πρῶτ...</td>\n      <td>129</td>\n      <td>[[ἐνύπνιον, ζητητέος, πρῶτος, ψυχή, φαίνω, νοη...</td>\n      <td>[ἐνύπνιον, ζητητέος, πρῶτος, ψυχή, φαίνω, νοητ...</td>\n      <td>1095</td>\n      <td>c_aristotelicum</td>\n    </tr>\n    <tr>\n      <th>697</th>\n      <td>tlg0086.tlg017.1st1K-grc1.xml</td>\n      <td>Aristotle</td>\n      <td>De interpretatione</td>\n      <td>6271</td>\n      <td>tlg0086</td>\n      <td>tlg0086.tlg017</td>\n      <td>4 B.C.</td>\n      <td>-3.5</td>\n      <td>{'-3.5': 1}</td>\n      <td>-3.5</td>\n      <td>pagan</td>\n      <td>Philosophici/-ae</td>\n      <td>ΠΡΩΤΟΝ δεῖ θέσθαι τί ὄνομα καὶ τί ῥῆμα, ἔπειτα...</td>\n      <td>396</td>\n      <td>[[πρῶτος, δεῖ, τίθημι, ὄνομα, ῥῆμα, ἀπόφασις, ...</td>\n      <td>[πρῶτος, δεῖ, τίθημι, ὄνομα, ῥῆμα, ἀπόφασις, κ...</td>\n      <td>2632</td>\n      <td>c_aristotelicum</td>\n    </tr>\n    <tr>\n      <th>698</th>\n      <td>tlg0086.tlg018.1st1K-grc1.xml</td>\n      <td>Aristotle</td>\n      <td>De iuventute et senectute, De vita et morte</td>\n      <td>1845</td>\n      <td>tlg0086</td>\n      <td>tlg0086.tlg018</td>\n      <td>4 B.C.</td>\n      <td>-3.5</td>\n      <td>{'-3.5': 1}</td>\n      <td>-3.5</td>\n      <td>pagan</td>\n      <td>Philosophici/-ae</td>\n      <td>Περὶ δὲ νεότητος καὶ γήρως καὶ περὶ ζωῆς καὶ θ...</td>\n      <td>95</td>\n      <td>[[νεότης, γῆρας, ζωή, θάνατος, λεκτέος], [ἀναπ...</td>\n      <td>[νεότης, γῆρας, ζωή, θάνατος, λεκτέος, ἀναπνοή...</td>\n      <td>831</td>\n      <td>c_aristotelicum</td>\n    </tr>\n    <tr>\n      <th>699</th>\n      <td>tlg0086.tlg020.1st1K-grc1.xml</td>\n      <td>Aristotle</td>\n      <td>De longitudine et brevitate vitae</td>\n      <td>1789</td>\n      <td>tlg0086</td>\n      <td>tlg0086.tlg020</td>\n      <td>4 B.C.</td>\n      <td>-3.5</td>\n      <td>{'-3.5': 1}</td>\n      <td>-3.5</td>\n      <td>pagan</td>\n      <td>Philosophici/-ae</td>\n      <td>Περὶ δὲ τοῦ τὰ μὲν εἶναι μακρόβια τῶν ζῴων τὰ ...</td>\n      <td>133</td>\n      <td>[[μακρόβια, ζῷον, βραχύβια, ζωή, μῆκος, βραχύτ...</td>\n      <td>[μακρόβια, ζῷον, βραχύβια, ζωή, μῆκος, βραχύτη...</td>\n      <td>789</td>\n      <td>c_aristotelicum</td>\n    </tr>\n    <tr>\n      <th>700</th>\n      <td>tlg0086.tlg021.1st1K-grc1.xml</td>\n      <td>Aristoteles</td>\n      <td>De animalium incessu</td>\n      <td>7720</td>\n      <td>tlg0086</td>\n      <td>tlg0086.tlg021</td>\n      <td>4 B.C.</td>\n      <td>-3.5</td>\n      <td>{'-3.5': 1}</td>\n      <td>-3.5</td>\n      <td>pagan</td>\n      <td>Philosophici/-ae</td>\n      <td>Περὶ δὲ τῶν χρησίμων μορίων τοῖς ζῴοις πρὸς τὴ...</td>\n      <td>473</td>\n      <td>[[χρήσιμος, μόριον, ζῷον, κίνησις, τόπος, ἐπισ...</td>\n      <td>[χρήσιμος, μόριον, ζῷον, κίνησις, τόπος, ἐπισκ...</td>\n      <td>3137</td>\n      <td>c_aristotelicum</td>\n    </tr>\n    <tr>\n      <th>701</th>\n      <td>tlg0086.tlg022.1st1K-grc1.xml</td>\n      <td>Aristotle</td>\n      <td>Magna Moralia</td>\n      <td>32317</td>\n      <td>tlg0086</td>\n      <td>tlg0086.tlg022</td>\n      <td>4 B.C.</td>\n      <td>-3.5</td>\n      <td>{'-3.5': 1}</td>\n      <td>-3.5</td>\n      <td>pagan</td>\n      <td>Philosophici/-ae</td>\n      <td>Ἐπειδὴ προαιρούμεθα λέγειν ὑπὲρ ἠθικῶν, πρῶτο...</td>\n      <td>5370</td>\n      <td>[[προαιρέω, λέγω, ἠθικός, πρῶτος, εἰμί, σκεπτέ...</td>\n      <td>[προαιρέω, λέγω, ἠθικός, πρῶτος, εἰμί, σκεπτέο...</td>\n      <td>12354</td>\n      <td>c_aristotelicum</td>\n    </tr>\n    <tr>\n      <th>702</th>\n      <td>tlg0086.tlg024.1st1K-grc1.xml</td>\n      <td>Aristotle</td>\n      <td>De memoria et reminiscentia</td>\n      <td>2515</td>\n      <td>tlg0086</td>\n      <td>tlg0086.tlg024</td>\n      <td>4 B.C.</td>\n      <td>-3.5</td>\n      <td>{'-3.5': 1}</td>\n      <td>-3.5</td>\n      <td>pagan</td>\n      <td>Philosophici/-ae</td>\n      <td>Περὶ μὲν οῦν τῶν αἰσθητηρίων καὶ τῶν αἰσθητῶν ...</td>\n      <td>171</td>\n      <td>[[αἰσθητήριον, αἰσθητός, τρόπος, ἔχω, ἕκαστος,...</td>\n      <td>[αἰσθητήριον, αἰσθητός, τρόπος, ἔχω, ἕκαστος, ...</td>\n      <td>1060</td>\n      <td>c_aristotelicum</td>\n    </tr>\n    <tr>\n      <th>703</th>\n      <td>tlg0086.tlg025.perseus-grc1.xml</td>\n      <td>Aristotle</td>\n      <td>Metaphysics (Greek). Machine readable text</td>\n      <td>78887</td>\n      <td>tlg0086</td>\n      <td>tlg0086.tlg025</td>\n      <td>4 B.C.</td>\n      <td>-3.5</td>\n      <td>{'-3.5': 1}</td>\n      <td>-3.5</td>\n      <td>pagan</td>\n      <td>Philosophici/-ae</td>\n      <td>πάντες ἄνθρωποι τοῦ εἰδέναι ὀρέγονται φύσει. ...</td>\n      <td>4265</td>\n      <td>[[ἄνθρωπος, οἶδα, ὀρέγω, φύσις], [σημεῖον, αἴσ...</td>\n      <td>[ἄνθρωπος, οἶδα, ὀρέγω, φύσις, σημεῖον, αἴσθησ...</td>\n      <td>33556</td>\n      <td>c_aristotelicum</td>\n    </tr>\n    <tr>\n      <th>704</th>\n      <td>tlg0086.tlg026.1st1K-grc2.xml</td>\n      <td>Aristotle</td>\n      <td>Meteorologica</td>\n      <td>61933</td>\n      <td>tlg0086</td>\n      <td>tlg0086.tlg026</td>\n      <td>4 B.C.</td>\n      <td>-3.5</td>\n      <td>{'-3.5': 1}</td>\n      <td>-3.5</td>\n      <td>pagan</td>\n      <td>Philosophici/-ae</td>\n      <td>Περὶ μὲν οὖν τῶν πρώτων αἰτίων τῆς φύσεως καὶ...</td>\n      <td>8512</td>\n      <td>[[πρῶτος, αἴτιος, φύσις, κίνησις, φυσικός, φορ...</td>\n      <td>[πρῶτος, αἴτιος, φύσις, κίνησις, φυσικός, φορά...</td>\n      <td>23448</td>\n      <td>c_aristotelicum</td>\n    </tr>\n    <tr>\n      <th>705</th>\n      <td>tlg0086.tlg029.perseus-grc1.xml</td>\n      <td>Aristotle</td>\n      <td>Economics (Greek). Machine readable text</td>\n      <td>6226</td>\n      <td>tlg0086</td>\n      <td>tlg0086.tlg029</td>\n      <td>4 B.C.</td>\n      <td>-3.5</td>\n      <td>{'-3.5': 1}</td>\n      <td>-3.5</td>\n      <td>pagan</td>\n      <td>Philosophici/-ae</td>\n      <td>ἡ οἰκονομικὴ καὶ πολιτικὴ διαφέρει οὐ μόνον τ...</td>\n      <td>369</td>\n      <td>[[οἰκονομικός, πολιτικός, διαφέρω, μόνος, τοσο...</td>\n      <td>[οἰκονομικός, πολιτικός, διαφέρω, μόνος, τοσοῦ...</td>\n      <td>3215</td>\n      <td>c_aristotelicum</td>\n    </tr>\n    <tr>\n      <th>706</th>\n      <td>tlg0086.tlg030.1st1K-grc1.xml</td>\n      <td>Aristotle</td>\n      <td>De partibus animalium</td>\n      <td>40622</td>\n      <td>tlg0086</td>\n      <td>tlg0086.tlg030</td>\n      <td>4 B.C.</td>\n      <td>-3.5</td>\n      <td>{'-3.5': 1}</td>\n      <td>-3.5</td>\n      <td>pagan</td>\n      <td>Philosophici/-ae</td>\n      <td>Περὶ πᾶσαν θεωρίαν τε καὶ μέθοδον, ὁμοίως ταπε...</td>\n      <td>2310</td>\n      <td>[[θεωρία, μέθοδος, ταπεινοτέραν, τίμιος, φαίνω...</td>\n      <td>[θεωρία, μέθοδος, ταπεινοτέραν, τίμιος, φαίνω,...</td>\n      <td>18651</td>\n      <td>c_aristotelicum</td>\n    </tr>\n    <tr>\n      <th>707</th>\n      <td>tlg0086.tlg031.1st1K-grc1.xml</td>\n      <td>Aristotle</td>\n      <td>Physica</td>\n      <td>55411</td>\n      <td>tlg0086</td>\n      <td>tlg0086.tlg031</td>\n      <td>4 B.C.</td>\n      <td>-3.5</td>\n      <td>{'-3.5': 1}</td>\n      <td>-3.5</td>\n      <td>pagan</td>\n      <td>Philosophici/-ae</td>\n      <td>Ἐπειθὴ τὸ εἰδέναι καὶ τὸ ἐπίστασθαι συμβαίνει ...</td>\n      <td>3363</td>\n      <td>[[ἐπειθὴ, οἶδα, ἐπίσταμαι, συμβαίνω, πᾶς, μεθό...</td>\n      <td>[ἐπειθὴ, οἶδα, ἐπίσταμαι, συμβαίνω, πᾶς, μεθόδ...</td>\n      <td>23182</td>\n      <td>c_aristotelicum</td>\n    </tr>\n    <tr>\n      <th>708</th>\n      <td>tlg0086.tlg034.1st1K-grc1.xml</td>\n      <td>Aristotle</td>\n      <td>Ars Poetica</td>\n      <td>10065</td>\n      <td>tlg0086</td>\n      <td>tlg0086.tlg034</td>\n      <td>4 B.C.</td>\n      <td>-3.5</td>\n      <td>{'-3.5': 1}</td>\n      <td>-3.5</td>\n      <td>pagan</td>\n      <td>Philosophici/-ae</td>\n      <td>Περι ποιητικῆς αὐτῆς τε καὶ τῶν εἰδῶν αὐτῆς, ἥ...</td>\n      <td>598</td>\n      <td>[[ποιητικός, εἰδοί, δύναμις, ἕκαστος, ἔχω, δεῖ...</td>\n      <td>[ποιητικός, εἰδοί, δύναμις, ἕκαστος, ἔχω, δεῖ,...</td>\n      <td>4758</td>\n      <td>c_aristotelicum</td>\n    </tr>\n    <tr>\n      <th>709</th>\n      <td>tlg0086.tlg035.perseus-grc1.xml</td>\n      <td>Aristotle</td>\n      <td>Politics (Greek). Machine readable text</td>\n      <td>65546</td>\n      <td>tlg0086</td>\n      <td>tlg0086.tlg035</td>\n      <td>4 B.C.</td>\n      <td>-3.5</td>\n      <td>{'-3.5': 1}</td>\n      <td>-3.5</td>\n      <td>pagan</td>\n      <td>Philosophici/-ae</td>\n      <td>ἐπειδὴ πᾶσαν πόλιν ὁρῶμεν κοινωνίαν τινὰ οὖσα...</td>\n      <td>3218</td>\n      <td>[[πόλις, ὁράω, κοινωνία, κοινωνία, ἀγαθός, τὶς...</td>\n      <td>[πόλις, ὁράω, κοινωνία, κοινωνία, ἀγαθός, τὶς,...</td>\n      <td>30643</td>\n      <td>c_aristotelicum</td>\n    </tr>\n    <tr>\n      <th>711</th>\n      <td>tlg0086.tlg038.perseus-grc1.xml</td>\n      <td>Aristotle</td>\n      <td>Rhetoric</td>\n      <td>43385</td>\n      <td>tlg0086</td>\n      <td>tlg0086.tlg038</td>\n      <td>4 B.C.</td>\n      <td>-3.5</td>\n      <td>{'-3.5': 1}</td>\n      <td>-3.5</td>\n      <td>pagan</td>\n      <td>Philosophici/-ae</td>\n      <td>ἡ ῥητορική ἐστιν ἀντίστροφος τῇ διαλεκτικῇ· ἀμ...</td>\n      <td>2911</td>\n      <td>[[ῥητορικός, εἰμί, ἀντίστροφος, διαλεκτικός], ...</td>\n      <td>[ῥητορικός, εἰμί, ἀντίστροφος, διαλεκτικός, ἀμ...</td>\n      <td>19687</td>\n      <td>c_aristotelicum</td>\n    </tr>\n    <tr>\n      <th>712</th>\n      <td>tlg0086.tlg040.1st1K-grc1.xml</td>\n      <td>Aristotle</td>\n      <td>De sophisticis elenchis</td>\n      <td>14114</td>\n      <td>tlg0086</td>\n      <td>tlg0086.tlg040</td>\n      <td>4 B.C.</td>\n      <td>-3.5</td>\n      <td>{'-3.5': 1}</td>\n      <td>-3.5</td>\n      <td>pagan</td>\n      <td>Philosophici/-ae</td>\n      <td>ΠΕΡΙ ΣΟΦΙΣΤΙΚΩΝ ΕΛΕΓΧΩΝ. ΠΕΡΙ δὲ τῶν σοφιστικῶ...</td>\n      <td>989</td>\n      <td>[[σοφιστικός, ἔλεγχος], [σοφιστικός, ἐλεγχής, ...</td>\n      <td>[σοφιστικός, ἔλεγχος, σοφιστικός, ἐλεγχής, φαί...</td>\n      <td>6142</td>\n      <td>c_aristotelicum</td>\n    </tr>\n    <tr>\n      <th>713</th>\n      <td>tlg0086.tlg041.1st1K-grc1.xml</td>\n      <td>Aristotle</td>\n      <td>De sensu et sensibilibus</td>\n      <td>7798</td>\n      <td>tlg0086</td>\n      <td>tlg0086.tlg041</td>\n      <td>4 B.C.</td>\n      <td>-3.5</td>\n      <td>{'-3.5': 1}</td>\n      <td>-3.5</td>\n      <td>pagan</td>\n      <td>Philosophici/-ae</td>\n      <td>ἘΠΕΙ δὲ περὶ ψυχῆς καθʼ αὑτὴν διώρισται καὶ πε...</td>\n      <td>495</td>\n      <td>[[ἔπειμι, ψυχή, ἑαυτοῦ, ὁρίζω, δύναμις, ἕκαστο...</td>\n      <td>[ἔπειμι, ψυχή, ἑαυτοῦ, ὁρίζω, δύναμις, ἕκαστος...</td>\n      <td>3473</td>\n      <td>c_aristotelicum</td>\n    </tr>\n    <tr>\n      <th>714</th>\n      <td>tlg0086.tlg042.1st1K-grc1.xml</td>\n      <td>Aristotle</td>\n      <td>De somno et vigilia</td>\n      <td>2989</td>\n      <td>tlg0086</td>\n      <td>tlg0086.tlg042</td>\n      <td>4 B.C.</td>\n      <td>-3.5</td>\n      <td>{'-3.5': 1}</td>\n      <td>-3.5</td>\n      <td>pagan</td>\n      <td>Philosophici/-ae</td>\n      <td>Περὶ δὲ ὕπνου καὶ ἐγρηγόρσεως σκεπτέον, τίνα τ...</td>\n      <td>183</td>\n      <td>[[ὕπνος, ἐγρηγόρσεως, σκεπτέος, τυγχάνω, εἰμί,...</td>\n      <td>[ὕπνος, ἐγρηγόρσεως, σκεπτέος, τυγχάνω, εἰμί, ...</td>\n      <td>1363</td>\n      <td>c_aristotelicum</td>\n    </tr>\n    <tr>\n      <th>716</th>\n      <td>tlg0086.tlg044.1st1K-grc1.xml</td>\n      <td>Aristotle</td>\n      <td>Topica</td>\n      <td>44116</td>\n      <td>tlg0086</td>\n      <td>tlg0086.tlg044</td>\n      <td>4 B.C.</td>\n      <td>-3.5</td>\n      <td>{'-3.5': 1}</td>\n      <td>-3.5</td>\n      <td>pagan</td>\n      <td>Philosophici/-ae</td>\n      <td>Ἡ ΜΕΝ πρόθεσις τῆς πραγματείας μέθοδον εὑρεῖν,...</td>\n      <td>2786</td>\n      <td>[[πρόθεσις, πραγματεία, μέθοδος, εὑρίσκω, δύνα...</td>\n      <td>[πρόθεσις, πραγματεία, μέθοδος, εὑρίσκω, δύναμ...</td>\n      <td>19797</td>\n      <td>c_aristotelicum</td>\n    </tr>\n  </tbody>\n</table>\n</div>"
     },
     "execution_count": 23,
     "metadata": {},
     "output_type": "execute_result"
    }
   ],
   "source": [
    "# test\n",
    "cgl[cgl[\"subcorpus\"]==\"c_aristotelicum\"]\n"
   ],
   "metadata": {
    "collapsed": false,
    "pycharm": {
     "name": "#%%\n"
    }
   }
  },
  {
   "cell_type": "markdown",
   "source": [
    "# Testing replacements"
   ],
   "metadata": {
    "collapsed": false,
    "pycharm": {
     "name": "#%% md\n"
    }
   }
  },
  {
   "cell_type": "code",
   "execution_count": 24,
   "outputs": [],
   "source": [
    "cgl_list = []\n",
    "for list_element in cgl[\"lemmata\"].tolist():\n",
    "    cgl_list.extend(list_element)"
   ],
   "metadata": {
    "collapsed": false,
    "pycharm": {
     "name": "#%%\n"
    }
   }
  },
  {
   "cell_type": "code",
   "execution_count": 25,
   "outputs": [],
   "source": [
    "keyterm_patterns = [(\"^λ[υ|ύ]π.+\", \"λύπ*\"), (\"[α|ά|ἀ|ἄ]λγ.+\", \"ἄλγ*\"), (\"^[ὀ|ὠ]δ[ύ|υ]ν.\", \"ὀδύν*\"), (\"^π[ό|ο]ν[ο|ό|έ|ε|η|ή|ῆ](?!ρ).+\", \"πόνο*\")]"
   ],
   "metadata": {
    "collapsed": false,
    "pycharm": {
     "name": "#%%\n"
    }
   }
  },
  {
   "cell_type": "code",
   "execution_count": 26,
   "outputs": [
    {
     "data": {
      "text/plain": "                            pattern replacement       match  cgl\n0                        ^λ[υ|ύ]π.+        λύπ*    λυπέουσα    1\n1                        ^λ[υ|ύ]π.+        λύπ*      λυπέον    8\n2                        ^λ[υ|ύ]π.+        λύπ*    λυποδίαν    1\n3                        ^λ[υ|ύ]π.+        λύπ*     λυπέωσι    1\n4                        ^λ[υ|ύ]π.+        λύπ*   λυπούμενα    2\n..                              ...         ...         ...  ...\n225  ^π[ό|ο]ν[ο|ό|έ|ε|η|ή|ῆ](?!ρ).+       πόνο*       πονέω  301\n226  ^π[ό|ο]ν[ο|ό|έ|ε|η|ή|ῆ](?!ρ).+       πόνο*     πονέεις    1\n227  ^π[ό|ο]ν[ο|ό|έ|ε|η|ή|ῆ](?!ρ).+       πόνο*     πονοῦσʼ    1\n228  ^π[ό|ο]ν[ο|ό|έ|ε|η|ή|ῆ](?!ρ).+       πόνο*   πονοῦντος    2\n229  ^π[ό|ο]ν[ο|ό|έ|ε|η|ή|ῆ](?!ρ).+       πόνο*  πονεόμενον    1\n\n[230 rows x 4 columns]",
      "text/html": "<div>\n<style scoped>\n    .dataframe tbody tr th:only-of-type {\n        vertical-align: middle;\n    }\n\n    .dataframe tbody tr th {\n        vertical-align: top;\n    }\n\n    .dataframe thead th {\n        text-align: right;\n    }\n</style>\n<table border=\"1\" class=\"dataframe\">\n  <thead>\n    <tr style=\"text-align: right;\">\n      <th></th>\n      <th>pattern</th>\n      <th>replacement</th>\n      <th>match</th>\n      <th>cgl</th>\n    </tr>\n  </thead>\n  <tbody>\n    <tr>\n      <th>0</th>\n      <td>^λ[υ|ύ]π.+</td>\n      <td>λύπ*</td>\n      <td>λυπέουσα</td>\n      <td>1</td>\n    </tr>\n    <tr>\n      <th>1</th>\n      <td>^λ[υ|ύ]π.+</td>\n      <td>λύπ*</td>\n      <td>λυπέον</td>\n      <td>8</td>\n    </tr>\n    <tr>\n      <th>2</th>\n      <td>^λ[υ|ύ]π.+</td>\n      <td>λύπ*</td>\n      <td>λυποδίαν</td>\n      <td>1</td>\n    </tr>\n    <tr>\n      <th>3</th>\n      <td>^λ[υ|ύ]π.+</td>\n      <td>λύπ*</td>\n      <td>λυπέωσι</td>\n      <td>1</td>\n    </tr>\n    <tr>\n      <th>4</th>\n      <td>^λ[υ|ύ]π.+</td>\n      <td>λύπ*</td>\n      <td>λυπούμενα</td>\n      <td>2</td>\n    </tr>\n    <tr>\n      <th>...</th>\n      <td>...</td>\n      <td>...</td>\n      <td>...</td>\n      <td>...</td>\n    </tr>\n    <tr>\n      <th>225</th>\n      <td>^π[ό|ο]ν[ο|ό|έ|ε|η|ή|ῆ](?!ρ).+</td>\n      <td>πόνο*</td>\n      <td>πονέω</td>\n      <td>301</td>\n    </tr>\n    <tr>\n      <th>226</th>\n      <td>^π[ό|ο]ν[ο|ό|έ|ε|η|ή|ῆ](?!ρ).+</td>\n      <td>πόνο*</td>\n      <td>πονέεις</td>\n      <td>1</td>\n    </tr>\n    <tr>\n      <th>227</th>\n      <td>^π[ό|ο]ν[ο|ό|έ|ε|η|ή|ῆ](?!ρ).+</td>\n      <td>πόνο*</td>\n      <td>πονοῦσʼ</td>\n      <td>1</td>\n    </tr>\n    <tr>\n      <th>228</th>\n      <td>^π[ό|ο]ν[ο|ό|έ|ε|η|ή|ῆ](?!ρ).+</td>\n      <td>πόνο*</td>\n      <td>πονοῦντος</td>\n      <td>2</td>\n    </tr>\n    <tr>\n      <th>229</th>\n      <td>^π[ό|ο]ν[ο|ό|έ|ε|η|ή|ῆ](?!ρ).+</td>\n      <td>πόνο*</td>\n      <td>πονεόμενον</td>\n      <td>1</td>\n    </tr>\n  </tbody>\n</table>\n<p>230 rows × 4 columns</p>\n</div>"
     },
     "execution_count": 26,
     "metadata": {},
     "output_type": "execute_result"
    }
   ],
   "source": [
    "# unique word forms\n",
    "matches = []\n",
    "for pattern_tuple in keyterm_patterns:\n",
    "    r = re.compile(pattern_tuple[0])\n",
    "    matches.extend([(pattern_tuple[0], pattern_tuple[1], match, cgl_list.count(match)) for match in list(filter(r.search, list(set(cgl_list))))])\n",
    "matches_df = pd.DataFrame(matches, columns=[\"pattern\", \"replacement\", \"match\", \"cgl\",]) #, \"translation\"])\n",
    "matches_df"
   ],
   "metadata": {
    "collapsed": false,
    "pycharm": {
     "name": "#%%\n"
    }
   }
  },
  {
   "cell_type": "code",
   "execution_count": 27,
   "outputs": [],
   "source": [
    "# set_with_dataframe(PIPA_data.add_worksheet(\"matches_20220517\", 1,1), matches_df)"
   ],
   "metadata": {
    "collapsed": false,
    "pycharm": {
     "name": "#%%\n"
    }
   }
  },
  {
   "cell_type": "markdown",
   "source": [
    "# Make the actual replacement within the texts"
   ],
   "metadata": {
    "collapsed": false,
    "pycharm": {
     "name": "#%% md\n"
    }
   }
  },
  {
   "cell_type": "code",
   "execution_count": 28,
   "outputs": [],
   "source": [
    "# use these regular expressions to make replacements in the list of lemmata\n",
    "def replacer_word_list(pattern, product, word_list):\n",
    "    return [re.sub(pattern, product, word) for word in word_list]\n",
    "\n",
    "def replace_keywords(list_of_words, list_of_tuples):\n",
    "    for pattern in list_of_tuples:\n",
    "        list_of_words = replacer_word_list(pattern[0], pattern[1], list_of_words)\n",
    "    return list_of_words"
   ],
   "metadata": {
    "collapsed": false,
    "pycharm": {
     "name": "#%%\n"
    }
   }
  },
  {
   "cell_type": "code",
   "execution_count": 29,
   "outputs": [
    {
     "data": {
      "text/plain": "['βοοκ',\n 'πᾶς',\n 'μέλυπρᾷ',\n 'ἄλγ*',\n 'τέχνη',\n 'πᾶς',\n 'μέθοδος',\n 'ὅμοιος',\n 'λύπ*',\n 'πρᾶξίς',\n 'προαίρεσις',\n 'ἀγαθός',\n 'ἐφίημι']"
     },
     "execution_count": 29,
     "metadata": {},
     "output_type": "execute_result"
    }
   ],
   "source": [
    "### test (includes artificial words):\n",
    "word_list_test = ['βοοκ', 'πᾶς', 'μέλυπρᾷ', \"ἄλγτέχνη\",'τέχνη' ,'πᾶς', 'μέθοδος', 'ὅμοιος', \"λύπη\",'πρᾶξίς', 'προαίρεσις', 'ἀγαθός', 'ἐφίημι']\n",
    "replace_keywords(word_list_test, keyterm_patterns)"
   ],
   "metadata": {
    "collapsed": false,
    "pycharm": {
     "name": "#%%\n"
    }
   }
  },
  {
   "cell_type": "code",
   "execution_count": 30,
   "outputs": [],
   "source": [
    "# apply the replacement on the level of individual words\n",
    "cgl[\"lemmata_repl\"] = cgl[\"lemmata\"].apply(lambda x: replace_keywords(x, keyterm_patterns))"
   ],
   "metadata": {
    "collapsed": false,
    "pycharm": {
     "name": "#%%\n"
    }
   }
  },
  {
   "cell_type": "code",
   "execution_count": 31,
   "outputs": [],
   "source": [
    "# apply the replacement on the sentences\n",
    "def replace_in_sentences(list_of_sentences):\n",
    "    return [replace_keywords(sentence, keyterm_patterns) for sentence in list_of_sentences]\n",
    "\n",
    "cgl[\"lemmatized_sentences_repl\"] = cgl[\"lemmatized_sentences\"].apply(replace_in_sentences)"
   ],
   "metadata": {
    "collapsed": false,
    "pycharm": {
     "name": "#%%\n"
    }
   }
  },
  {
   "cell_type": "markdown",
   "source": [
    "# Pain words overview"
   ],
   "metadata": {
    "collapsed": false,
    "pycharm": {
     "name": "#%% md\n"
    }
   }
  },
  {
   "cell_type": "code",
   "execution_count": 33,
   "outputs": [],
   "source": [
    "keywords = ['πόνο*', 'ὀδύν*', 'ἄλγ*', 'λύπ*']\n",
    "for keyword in keywords:\n",
    "    cgl[\"count_\" + keyword] = cgl[\"lemmata_repl\"].apply(lambda x: x.count(keyword))"
   ],
   "metadata": {
    "collapsed": false,
    "pycharm": {
     "name": "#%%\n"
    }
   }
  },
  {
   "cell_type": "code",
   "execution_count": 34,
   "outputs": [
    {
     "data": {
      "text/plain": "                     wordcount  n_sentences  lemmata_wordcount  count_πόνο*  \\\nauthor                                                                        \nAeneas Tacticus          13993          745               6902            6   \nAeschines                47136         3281              23031            2   \nAeschines [Sp.]           4273          188               2055            0   \nAeschylus                40335         4020              25848           70   \nAlcidamas                 5983          263               3016            5   \nAndocides                18987         1958               8902            1   \nAntiphon                 22136         2405               9936            1   \nAntisthenes                924           61                417            0   \nAristophanes             94897        11585              50255           21   \nAristoteles              12571          792               5196            2   \nAristotle               827700        59490             362652          102   \nAristoxenus              19792         2510               8395            2   \nAutolycus                18219         1097               8117            0   \nBacchylides               5142          553               3446            1   \nDemades                   2092          207               1084            3   \nDemosthenes             294362        14564             143390           21   \nEuripides               134129        14482              81439          179   \nGorgias of Leontini       2451          249               1204            2   \nHanno                      644           64                383            0   \nHeraclides Ponticus        378           61                179            0   \nHerodotus               184947        10149              94799           27   \nHippocrates             333443        24456             171332          657   \nHomeric hymn              4792          393               3044            1   \nHyperides                12025         1392               5939            2   \nIsaeus                   34075         2986              16836            0   \nIsocrates               119155         4681              56497           45   \nLycurgus                 12400         1382               5928            1   \nLysias                   58875         4258              28254            2   \nMatron of Pitana          4136         1235               1713            1   \nPindar                   21145         1646              14559           33   \nPlato                   574294        52384             272931          121   \nPs. Dicaearchus           2757          207               1434            1   \nScylax                    8685         1087               5137            0   \nSophocles                61793         6197              34437           68   \nThucydides              150118         6068              71863           31   \nXenophon                312187        18988             150357          157   \n\n                     count_ὀδύν*  count_ἄλγ*  count_λύπ*  \nauthor                                                    \nAeneas Tacticus                0           0           0  \nAeschines                      0           1           5  \nAeschines [Sp.]                0           2           0  \nAeschylus                      3          34           6  \nAlcidamas                      0           0           1  \nAndocides                      0           0           2  \nAntiphon                       0           0           1  \nAntisthenes                    0           0           0  \nAristophanes                   4          13          18  \nAristoteles                    0           0           3  \nAristotle                      5          36         411  \nAristoxenus                    0           0           0  \nAutolycus                      0           0           0  \nBacchylides                    0           1           0  \nDemades                        0           0           3  \nDemosthenes                    0           7          40  \nEuripides                     11          74          74  \nGorgias of Leontini            0           0           0  \nHanno                          0           0           0  \nHeraclides Ponticus            0           0           0  \nHerodotus                      1          10          12  \nHippocrates                  645         315          58  \nHomeric hymn                   0           0           0  \nHyperides                      0           0           4  \nIsaeus                         0           0           1  \nIsocrates                      0          11          47  \nLycurgus                       0           1           0  \nLysias                         0           1           9  \nMatron of Pitana               0           0           0  \nPindar                         1           0           0  \nPlato                         14          67         316  \nPs. Dicaearchus                0           0           1  \nScylax                         0           0           0  \nSophocles                      7          60          35  \nThucydides                     0           6          25  \nXenophon                       3          12          75  ",
      "text/html": "<div>\n<style scoped>\n    .dataframe tbody tr th:only-of-type {\n        vertical-align: middle;\n    }\n\n    .dataframe tbody tr th {\n        vertical-align: top;\n    }\n\n    .dataframe thead th {\n        text-align: right;\n    }\n</style>\n<table border=\"1\" class=\"dataframe\">\n  <thead>\n    <tr style=\"text-align: right;\">\n      <th></th>\n      <th>wordcount</th>\n      <th>n_sentences</th>\n      <th>lemmata_wordcount</th>\n      <th>count_πόνο*</th>\n      <th>count_ὀδύν*</th>\n      <th>count_ἄλγ*</th>\n      <th>count_λύπ*</th>\n    </tr>\n    <tr>\n      <th>author</th>\n      <th></th>\n      <th></th>\n      <th></th>\n      <th></th>\n      <th></th>\n      <th></th>\n      <th></th>\n    </tr>\n  </thead>\n  <tbody>\n    <tr>\n      <th>Aeneas Tacticus</th>\n      <td>13993</td>\n      <td>745</td>\n      <td>6902</td>\n      <td>6</td>\n      <td>0</td>\n      <td>0</td>\n      <td>0</td>\n    </tr>\n    <tr>\n      <th>Aeschines</th>\n      <td>47136</td>\n      <td>3281</td>\n      <td>23031</td>\n      <td>2</td>\n      <td>0</td>\n      <td>1</td>\n      <td>5</td>\n    </tr>\n    <tr>\n      <th>Aeschines [Sp.]</th>\n      <td>4273</td>\n      <td>188</td>\n      <td>2055</td>\n      <td>0</td>\n      <td>0</td>\n      <td>2</td>\n      <td>0</td>\n    </tr>\n    <tr>\n      <th>Aeschylus</th>\n      <td>40335</td>\n      <td>4020</td>\n      <td>25848</td>\n      <td>70</td>\n      <td>3</td>\n      <td>34</td>\n      <td>6</td>\n    </tr>\n    <tr>\n      <th>Alcidamas</th>\n      <td>5983</td>\n      <td>263</td>\n      <td>3016</td>\n      <td>5</td>\n      <td>0</td>\n      <td>0</td>\n      <td>1</td>\n    </tr>\n    <tr>\n      <th>Andocides</th>\n      <td>18987</td>\n      <td>1958</td>\n      <td>8902</td>\n      <td>1</td>\n      <td>0</td>\n      <td>0</td>\n      <td>2</td>\n    </tr>\n    <tr>\n      <th>Antiphon</th>\n      <td>22136</td>\n      <td>2405</td>\n      <td>9936</td>\n      <td>1</td>\n      <td>0</td>\n      <td>0</td>\n      <td>1</td>\n    </tr>\n    <tr>\n      <th>Antisthenes</th>\n      <td>924</td>\n      <td>61</td>\n      <td>417</td>\n      <td>0</td>\n      <td>0</td>\n      <td>0</td>\n      <td>0</td>\n    </tr>\n    <tr>\n      <th>Aristophanes</th>\n      <td>94897</td>\n      <td>11585</td>\n      <td>50255</td>\n      <td>21</td>\n      <td>4</td>\n      <td>13</td>\n      <td>18</td>\n    </tr>\n    <tr>\n      <th>Aristoteles</th>\n      <td>12571</td>\n      <td>792</td>\n      <td>5196</td>\n      <td>2</td>\n      <td>0</td>\n      <td>0</td>\n      <td>3</td>\n    </tr>\n    <tr>\n      <th>Aristotle</th>\n      <td>827700</td>\n      <td>59490</td>\n      <td>362652</td>\n      <td>102</td>\n      <td>5</td>\n      <td>36</td>\n      <td>411</td>\n    </tr>\n    <tr>\n      <th>Aristoxenus</th>\n      <td>19792</td>\n      <td>2510</td>\n      <td>8395</td>\n      <td>2</td>\n      <td>0</td>\n      <td>0</td>\n      <td>0</td>\n    </tr>\n    <tr>\n      <th>Autolycus</th>\n      <td>18219</td>\n      <td>1097</td>\n      <td>8117</td>\n      <td>0</td>\n      <td>0</td>\n      <td>0</td>\n      <td>0</td>\n    </tr>\n    <tr>\n      <th>Bacchylides</th>\n      <td>5142</td>\n      <td>553</td>\n      <td>3446</td>\n      <td>1</td>\n      <td>0</td>\n      <td>1</td>\n      <td>0</td>\n    </tr>\n    <tr>\n      <th>Demades</th>\n      <td>2092</td>\n      <td>207</td>\n      <td>1084</td>\n      <td>3</td>\n      <td>0</td>\n      <td>0</td>\n      <td>3</td>\n    </tr>\n    <tr>\n      <th>Demosthenes</th>\n      <td>294362</td>\n      <td>14564</td>\n      <td>143390</td>\n      <td>21</td>\n      <td>0</td>\n      <td>7</td>\n      <td>40</td>\n    </tr>\n    <tr>\n      <th>Euripides</th>\n      <td>134129</td>\n      <td>14482</td>\n      <td>81439</td>\n      <td>179</td>\n      <td>11</td>\n      <td>74</td>\n      <td>74</td>\n    </tr>\n    <tr>\n      <th>Gorgias of Leontini</th>\n      <td>2451</td>\n      <td>249</td>\n      <td>1204</td>\n      <td>2</td>\n      <td>0</td>\n      <td>0</td>\n      <td>0</td>\n    </tr>\n    <tr>\n      <th>Hanno</th>\n      <td>644</td>\n      <td>64</td>\n      <td>383</td>\n      <td>0</td>\n      <td>0</td>\n      <td>0</td>\n      <td>0</td>\n    </tr>\n    <tr>\n      <th>Heraclides Ponticus</th>\n      <td>378</td>\n      <td>61</td>\n      <td>179</td>\n      <td>0</td>\n      <td>0</td>\n      <td>0</td>\n      <td>0</td>\n    </tr>\n    <tr>\n      <th>Herodotus</th>\n      <td>184947</td>\n      <td>10149</td>\n      <td>94799</td>\n      <td>27</td>\n      <td>1</td>\n      <td>10</td>\n      <td>12</td>\n    </tr>\n    <tr>\n      <th>Hippocrates</th>\n      <td>333443</td>\n      <td>24456</td>\n      <td>171332</td>\n      <td>657</td>\n      <td>645</td>\n      <td>315</td>\n      <td>58</td>\n    </tr>\n    <tr>\n      <th>Homeric hymn</th>\n      <td>4792</td>\n      <td>393</td>\n      <td>3044</td>\n      <td>1</td>\n      <td>0</td>\n      <td>0</td>\n      <td>0</td>\n    </tr>\n    <tr>\n      <th>Hyperides</th>\n      <td>12025</td>\n      <td>1392</td>\n      <td>5939</td>\n      <td>2</td>\n      <td>0</td>\n      <td>0</td>\n      <td>4</td>\n    </tr>\n    <tr>\n      <th>Isaeus</th>\n      <td>34075</td>\n      <td>2986</td>\n      <td>16836</td>\n      <td>0</td>\n      <td>0</td>\n      <td>0</td>\n      <td>1</td>\n    </tr>\n    <tr>\n      <th>Isocrates</th>\n      <td>119155</td>\n      <td>4681</td>\n      <td>56497</td>\n      <td>45</td>\n      <td>0</td>\n      <td>11</td>\n      <td>47</td>\n    </tr>\n    <tr>\n      <th>Lycurgus</th>\n      <td>12400</td>\n      <td>1382</td>\n      <td>5928</td>\n      <td>1</td>\n      <td>0</td>\n      <td>1</td>\n      <td>0</td>\n    </tr>\n    <tr>\n      <th>Lysias</th>\n      <td>58875</td>\n      <td>4258</td>\n      <td>28254</td>\n      <td>2</td>\n      <td>0</td>\n      <td>1</td>\n      <td>9</td>\n    </tr>\n    <tr>\n      <th>Matron of Pitana</th>\n      <td>4136</td>\n      <td>1235</td>\n      <td>1713</td>\n      <td>1</td>\n      <td>0</td>\n      <td>0</td>\n      <td>0</td>\n    </tr>\n    <tr>\n      <th>Pindar</th>\n      <td>21145</td>\n      <td>1646</td>\n      <td>14559</td>\n      <td>33</td>\n      <td>1</td>\n      <td>0</td>\n      <td>0</td>\n    </tr>\n    <tr>\n      <th>Plato</th>\n      <td>574294</td>\n      <td>52384</td>\n      <td>272931</td>\n      <td>121</td>\n      <td>14</td>\n      <td>67</td>\n      <td>316</td>\n    </tr>\n    <tr>\n      <th>Ps. Dicaearchus</th>\n      <td>2757</td>\n      <td>207</td>\n      <td>1434</td>\n      <td>1</td>\n      <td>0</td>\n      <td>0</td>\n      <td>1</td>\n    </tr>\n    <tr>\n      <th>Scylax</th>\n      <td>8685</td>\n      <td>1087</td>\n      <td>5137</td>\n      <td>0</td>\n      <td>0</td>\n      <td>0</td>\n      <td>0</td>\n    </tr>\n    <tr>\n      <th>Sophocles</th>\n      <td>61793</td>\n      <td>6197</td>\n      <td>34437</td>\n      <td>68</td>\n      <td>7</td>\n      <td>60</td>\n      <td>35</td>\n    </tr>\n    <tr>\n      <th>Thucydides</th>\n      <td>150118</td>\n      <td>6068</td>\n      <td>71863</td>\n      <td>31</td>\n      <td>0</td>\n      <td>6</td>\n      <td>25</td>\n    </tr>\n    <tr>\n      <th>Xenophon</th>\n      <td>312187</td>\n      <td>18988</td>\n      <td>150357</td>\n      <td>157</td>\n      <td>3</td>\n      <td>12</td>\n      <td>75</td>\n    </tr>\n  </tbody>\n</table>\n</div>"
     },
     "execution_count": 34,
     "metadata": {},
     "output_type": "execute_result"
    }
   ],
   "source": [
    "authors_overview = cgl.groupby(\"author\").sum().drop([\"date_avr\", \"date_manual\"], axis=1)\n",
    "authors_overview"
   ],
   "metadata": {
    "collapsed": false,
    "pycharm": {
     "name": "#%%\n"
    }
   }
  },
  {
   "cell_type": "code",
   "execution_count": null,
   "outputs": [],
   "source": [
    "#set_with_dataframe(PIPA_data.add_worksheet(\"authors_overview\",1,1), authors_overview, include_index=True)"
   ],
   "metadata": {
    "collapsed": false,
    "pycharm": {
     "name": "#%%\n"
    }
   }
  },
  {
   "cell_type": "code",
   "execution_count": 35,
   "outputs": [
    {
     "data": {
      "text/plain": "                 wordcount  n_sentences  lemmata_wordcount  count_πόνο*  \\\nsubcorpus                                                                 \nc_aristotelicum     785703        56737             343165          103   \nc_hippocraticum     333443        24456             171332          657   \nc_platonicum        574294        52384             272931          121   \n\n                 count_ὀδύν*  count_ἄλγ*  count_λύπ*  \nsubcorpus                                             \nc_aristotelicum            3          34         406  \nc_hippocraticum          645         315          58  \nc_platonicum              14          67         316  ",
      "text/html": "<div>\n<style scoped>\n    .dataframe tbody tr th:only-of-type {\n        vertical-align: middle;\n    }\n\n    .dataframe tbody tr th {\n        vertical-align: top;\n    }\n\n    .dataframe thead th {\n        text-align: right;\n    }\n</style>\n<table border=\"1\" class=\"dataframe\">\n  <thead>\n    <tr style=\"text-align: right;\">\n      <th></th>\n      <th>wordcount</th>\n      <th>n_sentences</th>\n      <th>lemmata_wordcount</th>\n      <th>count_πόνο*</th>\n      <th>count_ὀδύν*</th>\n      <th>count_ἄλγ*</th>\n      <th>count_λύπ*</th>\n    </tr>\n    <tr>\n      <th>subcorpus</th>\n      <th></th>\n      <th></th>\n      <th></th>\n      <th></th>\n      <th></th>\n      <th></th>\n      <th></th>\n    </tr>\n  </thead>\n  <tbody>\n    <tr>\n      <th>c_aristotelicum</th>\n      <td>785703</td>\n      <td>56737</td>\n      <td>343165</td>\n      <td>103</td>\n      <td>3</td>\n      <td>34</td>\n      <td>406</td>\n    </tr>\n    <tr>\n      <th>c_hippocraticum</th>\n      <td>333443</td>\n      <td>24456</td>\n      <td>171332</td>\n      <td>657</td>\n      <td>645</td>\n      <td>315</td>\n      <td>58</td>\n    </tr>\n    <tr>\n      <th>c_platonicum</th>\n      <td>574294</td>\n      <td>52384</td>\n      <td>272931</td>\n      <td>121</td>\n      <td>14</td>\n      <td>67</td>\n      <td>316</td>\n    </tr>\n  </tbody>\n</table>\n</div>"
     },
     "execution_count": 35,
     "metadata": {},
     "output_type": "execute_result"
    }
   ],
   "source": [
    "subcorpora_overview_simple = cgl.groupby(\"subcorpus\").sum().drop([\"date_avr\", \"date_manual\"], axis=1)\n",
    "subcorpora_overview_simple"
   ],
   "metadata": {
    "collapsed": false,
    "pycharm": {
     "name": "#%%\n"
    }
   }
  },
  {
   "cell_type": "code",
   "execution_count": null,
   "outputs": [],
   "source": [
    "#set_with_dataframe(PIPA_data.add_worksheet(\"subcorpora_overview_simple\", 1,1), subcorpora_overview_simple, include_index=True)"
   ],
   "metadata": {
    "collapsed": false,
    "pycharm": {
     "name": "#%%\n"
    }
   }
  },
  {
   "cell_type": "code",
   "execution_count": null,
   "outputs": [],
   "source": [
    "subcorpora_overview = cgl[cgl[\"subcorpus\"].notnull()][['subcorpus', 'title', 'wordcount', 'n_sentences', 'lemmata_wordcount', 'count_πόνο*','count_ὀδύν*', 'count_ἄλγ*', 'count_λύπ*']]\n",
    "subcorpora_overview"
   ],
   "metadata": {
    "collapsed": false,
    "pycharm": {
     "name": "#%%\n"
    }
   }
  },
  {
   "cell_type": "code",
   "execution_count": null,
   "outputs": [],
   "source": [
    "#set_with_dataframe(PIPA_data.add_worksheet(\"subcorpora_overview\", 1,1), subcorpora_overview)"
   ],
   "metadata": {
    "collapsed": false,
    "pycharm": {
     "name": "#%%\n"
    }
   }
  },
  {
   "cell_type": "markdown",
   "source": [
    "# Extract concordances with lypé"
   ],
   "metadata": {
    "collapsed": false,
    "pycharm": {
     "name": "#%% md\n"
    }
   }
  },
  {
   "cell_type": "code",
   "execution_count": 37,
   "outputs": [
    {
     "data": {
      "text/plain": "                          filename      author                  title  \\\n1  tlg0003.tlg001.perseus-grc2.xml  Thucydides  The Peloponnesian War   \n6  tlg0006.tlg001.perseus-grc2.xml   Euripides                Cyclops   \n7  tlg0006.tlg004.perseus-grc2.xml   Euripides             Ἡρακλεῖδαι   \n8  tlg0006.tlg005.perseus-grc2.xml   Euripides              Ἱππόλυτος   \n9  tlg0006.tlg006.perseus-grc2.xml   Euripides              Ἀνδρομάχη   \n\n   wordcount author_id          doc_id raw_date  date_avr   date_probs  \\\n1     150118   tlg0003  tlg0003.tlg001   5 B.C.      -4.5  {'-4.5': 1}   \n6       4141   tlg0006  tlg0006.tlg001   5 B.C.      -4.5  {'-4.5': 1}   \n7       6272   tlg0006  tlg0006.tlg004   5 B.C.      -4.5  {'-4.5': 1}   \n8       8257   tlg0006  tlg0006.tlg005   5 B.C.      -4.5  {'-4.5': 1}   \n9       7397   tlg0006  tlg0006.tlg006   5 B.C.      -4.5  {'-4.5': 1}   \n\n   date_manual  ...                               lemmatized_sentences  \\\n1         -4.5  ...  [[θουκυδίδης, Ἀθηναῖος, συγγράφω, πόλεμος, Πελ...   \n6         -4.5  ...  [[Βρόμιος, ἔχω, πόνος, χὥτʼ, ἥβη, ἐμός, εὐσθεν...   \n7         -4.5  ...  [[ποτός, εἰμί, οὗτος, δεδογμένον], [δίκαιος, φ...   \n8         -4.5  ...  [[πολύς, βροτός, ἀνώνυμος, θεά, καλέω, Κύπρις,...   \n9         -4.5  ...  [[Ἀσιανός, γῆ, σχῆμα, θηβαία, πόλις, ἑδνόω, πο...   \n\n                                             lemmata lemmata_wordcount  \\\n1  [θουκυδίδης, Ἀθηναῖος, συγγράφω, πόλεμος, Πελο...             71863   \n6  [Βρόμιος, ἔχω, πόνος, χὥτʼ, ἥβη, ἐμός, εὐσθενέ...              2535   \n7  [ποτός, εἰμί, οὗτος, δεδογμένον, δίκαιος, φύω,...              3545   \n8  [πολύς, βροτός, ἀνώνυμος, θεά, καλέω, Κύπρις, ...              4898   \n9  [Ἀσιανός, γῆ, σχῆμα, θηβαία, πόλις, ἑδνόω, πολ...              4420   \n\n   subcorpus                                       lemmata_repl  \\\n1       None  [θουκυδίδης, Ἀθηναῖος, συγγράφω, πόλεμος, Πελο...   \n6       None  [Βρόμιος, ἔχω, πόνο*, χὥτʼ, ἥβη, ἐμός, εὐσθενέ...   \n7       None  [ποτός, εἰμί, οὗτος, δεδογμένον, δίκαιος, φύω,...   \n8       None  [πολύς, βροτός, ἀνώνυμος, θεά, καλέω, Κύπρις, ...   \n9       None  [Ἀσιανός, γῆ, σχῆμα, θηβαία, πόλις, ἑδνόω, πολ...   \n\n                           lemmatized_sentences_repl  count_πόνο* count_ὀδύν*  \\\n1  [[θουκυδίδης, Ἀθηναῖος, συγγράφω, πόλεμος, Πελ...           31           0   \n6  [[Βρόμιος, ἔχω, πόνο*, χὥτʼ, ἥβη, ἐμός, εὐσθεν...            7           0   \n7  [[ποτός, εἰμί, οὗτος, δεδογμένον], [δίκαιος, φ...           11           0   \n8  [[πολύς, βροτός, ἀνώνυμος, θεά, καλέω, Κύπρις,...            8           3   \n9  [[Ἀσιανός, γῆ, σχῆμα, θηβαία, πόλις, ἑδνόω, πο...            5           0   \n\n  count_ἄλγ* count_λύπ*  \n1          6         25  \n6          0          1  \n7          1          2  \n8          8          8  \n9          7          4  \n\n[5 rows x 24 columns]",
      "text/html": "<div>\n<style scoped>\n    .dataframe tbody tr th:only-of-type {\n        vertical-align: middle;\n    }\n\n    .dataframe tbody tr th {\n        vertical-align: top;\n    }\n\n    .dataframe thead th {\n        text-align: right;\n    }\n</style>\n<table border=\"1\" class=\"dataframe\">\n  <thead>\n    <tr style=\"text-align: right;\">\n      <th></th>\n      <th>filename</th>\n      <th>author</th>\n      <th>title</th>\n      <th>wordcount</th>\n      <th>author_id</th>\n      <th>doc_id</th>\n      <th>raw_date</th>\n      <th>date_avr</th>\n      <th>date_probs</th>\n      <th>date_manual</th>\n      <th>...</th>\n      <th>lemmatized_sentences</th>\n      <th>lemmata</th>\n      <th>lemmata_wordcount</th>\n      <th>subcorpus</th>\n      <th>lemmata_repl</th>\n      <th>lemmatized_sentences_repl</th>\n      <th>count_πόνο*</th>\n      <th>count_ὀδύν*</th>\n      <th>count_ἄλγ*</th>\n      <th>count_λύπ*</th>\n    </tr>\n  </thead>\n  <tbody>\n    <tr>\n      <th>1</th>\n      <td>tlg0003.tlg001.perseus-grc2.xml</td>\n      <td>Thucydides</td>\n      <td>The Peloponnesian War</td>\n      <td>150118</td>\n      <td>tlg0003</td>\n      <td>tlg0003.tlg001</td>\n      <td>5 B.C.</td>\n      <td>-4.5</td>\n      <td>{'-4.5': 1}</td>\n      <td>-4.5</td>\n      <td>...</td>\n      <td>[[θουκυδίδης, Ἀθηναῖος, συγγράφω, πόλεμος, Πελ...</td>\n      <td>[θουκυδίδης, Ἀθηναῖος, συγγράφω, πόλεμος, Πελο...</td>\n      <td>71863</td>\n      <td>None</td>\n      <td>[θουκυδίδης, Ἀθηναῖος, συγγράφω, πόλεμος, Πελο...</td>\n      <td>[[θουκυδίδης, Ἀθηναῖος, συγγράφω, πόλεμος, Πελ...</td>\n      <td>31</td>\n      <td>0</td>\n      <td>6</td>\n      <td>25</td>\n    </tr>\n    <tr>\n      <th>6</th>\n      <td>tlg0006.tlg001.perseus-grc2.xml</td>\n      <td>Euripides</td>\n      <td>Cyclops</td>\n      <td>4141</td>\n      <td>tlg0006</td>\n      <td>tlg0006.tlg001</td>\n      <td>5 B.C.</td>\n      <td>-4.5</td>\n      <td>{'-4.5': 1}</td>\n      <td>-4.5</td>\n      <td>...</td>\n      <td>[[Βρόμιος, ἔχω, πόνος, χὥτʼ, ἥβη, ἐμός, εὐσθεν...</td>\n      <td>[Βρόμιος, ἔχω, πόνος, χὥτʼ, ἥβη, ἐμός, εὐσθενέ...</td>\n      <td>2535</td>\n      <td>None</td>\n      <td>[Βρόμιος, ἔχω, πόνο*, χὥτʼ, ἥβη, ἐμός, εὐσθενέ...</td>\n      <td>[[Βρόμιος, ἔχω, πόνο*, χὥτʼ, ἥβη, ἐμός, εὐσθεν...</td>\n      <td>7</td>\n      <td>0</td>\n      <td>0</td>\n      <td>1</td>\n    </tr>\n    <tr>\n      <th>7</th>\n      <td>tlg0006.tlg004.perseus-grc2.xml</td>\n      <td>Euripides</td>\n      <td>Ἡρακλεῖδαι</td>\n      <td>6272</td>\n      <td>tlg0006</td>\n      <td>tlg0006.tlg004</td>\n      <td>5 B.C.</td>\n      <td>-4.5</td>\n      <td>{'-4.5': 1}</td>\n      <td>-4.5</td>\n      <td>...</td>\n      <td>[[ποτός, εἰμί, οὗτος, δεδογμένον], [δίκαιος, φ...</td>\n      <td>[ποτός, εἰμί, οὗτος, δεδογμένον, δίκαιος, φύω,...</td>\n      <td>3545</td>\n      <td>None</td>\n      <td>[ποτός, εἰμί, οὗτος, δεδογμένον, δίκαιος, φύω,...</td>\n      <td>[[ποτός, εἰμί, οὗτος, δεδογμένον], [δίκαιος, φ...</td>\n      <td>11</td>\n      <td>0</td>\n      <td>1</td>\n      <td>2</td>\n    </tr>\n    <tr>\n      <th>8</th>\n      <td>tlg0006.tlg005.perseus-grc2.xml</td>\n      <td>Euripides</td>\n      <td>Ἱππόλυτος</td>\n      <td>8257</td>\n      <td>tlg0006</td>\n      <td>tlg0006.tlg005</td>\n      <td>5 B.C.</td>\n      <td>-4.5</td>\n      <td>{'-4.5': 1}</td>\n      <td>-4.5</td>\n      <td>...</td>\n      <td>[[πολύς, βροτός, ἀνώνυμος, θεά, καλέω, Κύπρις,...</td>\n      <td>[πολύς, βροτός, ἀνώνυμος, θεά, καλέω, Κύπρις, ...</td>\n      <td>4898</td>\n      <td>None</td>\n      <td>[πολύς, βροτός, ἀνώνυμος, θεά, καλέω, Κύπρις, ...</td>\n      <td>[[πολύς, βροτός, ἀνώνυμος, θεά, καλέω, Κύπρις,...</td>\n      <td>8</td>\n      <td>3</td>\n      <td>8</td>\n      <td>8</td>\n    </tr>\n    <tr>\n      <th>9</th>\n      <td>tlg0006.tlg006.perseus-grc2.xml</td>\n      <td>Euripides</td>\n      <td>Ἀνδρομάχη</td>\n      <td>7397</td>\n      <td>tlg0006</td>\n      <td>tlg0006.tlg006</td>\n      <td>5 B.C.</td>\n      <td>-4.5</td>\n      <td>{'-4.5': 1}</td>\n      <td>-4.5</td>\n      <td>...</td>\n      <td>[[Ἀσιανός, γῆ, σχῆμα, θηβαία, πόλις, ἑδνόω, πο...</td>\n      <td>[Ἀσιανός, γῆ, σχῆμα, θηβαία, πόλις, ἑδνόω, πολ...</td>\n      <td>4420</td>\n      <td>None</td>\n      <td>[Ἀσιανός, γῆ, σχῆμα, θηβαία, πόλις, ἑδνόω, πολ...</td>\n      <td>[[Ἀσιανός, γῆ, σχῆμα, θηβαία, πόλις, ἑδνόω, πο...</td>\n      <td>5</td>\n      <td>0</td>\n      <td>7</td>\n      <td>4</td>\n    </tr>\n  </tbody>\n</table>\n<p>5 rows × 24 columns</p>\n</div>"
     },
     "execution_count": 37,
     "metadata": {},
     "output_type": "execute_result"
    }
   ],
   "source": [
    "cgl.head(5)"
   ],
   "metadata": {
    "collapsed": false,
    "pycharm": {
     "name": "#%%\n"
    }
   }
  },
  {
   "cell_type": "code",
   "execution_count": 50,
   "outputs": [
    {
     "data": {
      "text/plain": "[3, 10]"
     },
     "execution_count": 50,
     "metadata": {},
     "output_type": "execute_result"
    }
   ],
   "source": [
    "# how to get index for searched elements:\n",
    "wordlist = [\"a\", \"b\", \"c\", \"d\", \"e\", \"f\", \"g\", \"a\", \"b\", \"c\", \"d\", \"e\", \"f\", \"g\", \"h\"]\n",
    "indeces = [el[0] for el in enumerate(wordlist) if el[1]==\"d\"]\n",
    "indeces"
   ],
   "metadata": {
    "collapsed": false,
    "pycharm": {
     "name": "#%%\n"
    }
   }
  },
  {
   "cell_type": "code",
   "execution_count": 67,
   "outputs": [],
   "source": [
    "def get_concordances(wordlist, keyword, window):\n",
    "    half = int(window / 2)\n",
    "    keyword_indices = [el[0] for el in enumerate(wordlist) if el[1]==keyword]\n",
    "    concordances = [wordlist[i-half:i+half+1] for i in keyword_indices]\n",
    "    concordances = [c for c in concordances if len(c)==window]\n",
    "    return concordances"
   ],
   "metadata": {
    "collapsed": false,
    "pycharm": {
     "name": "#%%\n"
    }
   }
  },
  {
   "cell_type": "code",
   "execution_count": 68,
   "outputs": [
    {
     "data": {
      "text/plain": "[['g', 'a', 'b', 'c', 'd']]"
     },
     "execution_count": 68,
     "metadata": {},
     "output_type": "execute_result"
    }
   ],
   "source": [
    "get_concordances(wordlist, \"b\", 5)"
   ],
   "metadata": {
    "collapsed": false,
    "pycharm": {
     "name": "#%%\n"
    }
   }
  },
  {
   "cell_type": "code",
   "execution_count": null,
   "outputs": [],
   "source": [],
   "metadata": {
    "collapsed": false,
    "pycharm": {
     "name": "#%%\n"
    }
   }
  },
  {
   "cell_type": "code",
   "execution_count": 73,
   "outputs": [],
   "source": [
    "cgl[\"conc_lype\"] = cgl[\"lemmata_repl\"].apply(lambda x: get_concordances(x, \"λύπ*\", 31))"
   ],
   "metadata": {
    "collapsed": false,
    "pycharm": {
     "name": "#%%\n"
    }
   }
  },
  {
   "cell_type": "code",
   "execution_count": 77,
   "outputs": [
    {
     "data": {
      "text/plain": "[['μέγας',\n  'κινδυνεύοντας',\n  'δέχομαι',\n  'ἀείμνηστος',\n  'μαρτύριον',\n  'χάρις',\n  'κατατίθημι',\n  'ναυτικός',\n  'κτέομαι',\n  'πολύς',\n  'σκέπτομαι',\n  'εὐπραξία',\n  'σπάνιος',\n  'τὶς',\n  'πολέμιος',\n  'λύπ*',\n  'πολύς',\n  'χρῆμα',\n  'χάρις',\n  'τιμάω',\n  'δύναμις',\n  'προσγίγνομαι',\n  'οὗτος',\n  'πάρειμι',\n  'αὐτεπάγγελτος',\n  'κίνδυνος',\n  'δαπάνη',\n  'διδοῦσα',\n  'φέρω',\n  'πολύς',\n  'ἀρετή'],\n ['Λακεδαιμόνιος',\n  'διαμέλλω',\n  'οἴομαι',\n  'ἡσυχία',\n  'ἄνθρωπος',\n  'πολύς',\n  'ἀρκέω',\n  'παρασκευή',\n  'δίκαιος',\n  'πράσσω',\n  'γνώμη',\n  'ἀδικέω',\n  'δῆλος',\n  'εἰμί',\n  'ἐπιτρέψοντες',\n  'λύπ*',\n  'ἄλλος',\n  'αὐτός',\n  'ἀμύνω',\n  'βλάπτω',\n  'ἴσος',\n  'νέμω',\n  'πόλις',\n  'ὅμοιος',\n  'παροικοῦντες',\n  'τυγχάνω',\n  'οὗτος',\n  'δηλόω',\n  'ἀρχαιότροπος',\n  'ἐπιτήδευμα',\n  'εἰμί'],\n ['μέγας',\n  'κίνδυνος',\n  'τίθημι',\n  'Λακεδαιμόνιος',\n  'Πελοπόννησος',\n  'πόλις',\n  'ὠφέλιμος',\n  'καθίστημι',\n  'ἐξηγέομαι',\n  'ὑπομένω',\n  'πᾶς',\n  'ἀπέχθομαι',\n  'ἡγεμονία',\n  'οἶδα',\n  'ἥσσων',\n  'λύπ*',\n  'γίγνομαι',\n  'συμμαχέω',\n  'ἀναγκασθέντας',\n  'ἄρχω',\n  'αὐτός',\n  'κινδυνεύω',\n  'θαυμαστός',\n  'οὐδείς',\n  'ποιέω',\n  'ἀνθρώπειος',\n  'τρόπος',\n  'ἀρχή',\n  'διδομένην',\n  'δέχομαι',\n  'οὗτος'],\n ['δουλόω',\n  'ἄλλος',\n  'ἕκαστος',\n  'συμβαίνω',\n  'αἰτία',\n  'ἄλλος',\n  'ἀπόστασις',\n  'μέγας',\n  'φόρος',\n  'ναῦς',\n  'ἔκδεια',\n  'λιποστράτιον',\n  'γίγνομαι',\n  'Ἀθηναῖος',\n  'πράσσω',\n  'λύπ*',\n  'εἰωθόσιν',\n  'βούλομαι',\n  'ταλαιπωρέω',\n  'προσάγοντες',\n  'ἀνάγκη',\n  'Ἀθηναῖος',\n  'ἡδονή',\n  'ἄρχων',\n  'συστρατεύω',\n  'ἴσος',\n  'ῥᾴδιος',\n  'προσάγω',\n  'εἰμί',\n  'ἀφίστημι',\n  'αὐτός'],\n ['δράω',\n  'πόλις',\n  'ἀξίωμα',\n  'ἀφάνεια',\n  'κωλύω',\n  'κοινός',\n  'πολιτεύω',\n  'ἡμέρα',\n  'ἐπιτήδευμα',\n  'ὑποψία',\n  'ὀργή',\n  'ἡδονή',\n  'δράω',\n  'ἔχω',\n  'ἀζήμιος',\n  'λύπ*',\n  'ὄψος',\n  'ἀχθηδών',\n  'προστιθέμενοι',\n  'ἴδιος',\n  'προσομιλοῦντες',\n  'δημόσιος',\n  'δέος',\n  'παρανομέω',\n  'ἀρχή',\n  'ἀκρόασις',\n  'νόμος',\n  'ὠφέλεια',\n  'ἀδικέω',\n  'κεῖμαι',\n  'ἄγραφος'],\n ['φέρω',\n  'πόνο*',\n  'πολύς',\n  'ἀνάπαυλα',\n  'γνώμη',\n  'πορίζω',\n  'ἀγών',\n  'θυσία',\n  'διετήσιος',\n  'νομίζω',\n  'ἴδιος',\n  'κατασκευή',\n  'εὐπρεπής',\n  'ἡμέρα',\n  'τέρψις',\n  'λύπ*',\n  'ἐκπλήσσω',\n  'ἐπεισέρχομαι',\n  'μέγεθος',\n  'πόλις',\n  'γῆ',\n  'πᾶς',\n  'συμβαίνω',\n  'οἰκεῖος',\n  'ἀπόλαυσις',\n  'ἀγαθός',\n  'γιγνόμενα',\n  'καρπόω',\n  'ἄλλος',\n  'ἄνθρωπος',\n  'διαφέρω'],\n ['ἀναίσθητος',\n  'θάνατος',\n  'τοκεύς',\n  'ὅσος',\n  'παρίστημι',\n  'ὀλοφύρομαι',\n  'παραμυθέομαι',\n  'πολύτροπος',\n  'συμφορά',\n  'ἐπίσταμαι',\n  'τραφέντες',\n  'εὐτυχής',\n  'εὐπρεπής',\n  'λαγχάνω',\n  'τελευτή',\n  'λύπ*',\n  'ἐνευδαιμονέω',\n  'βίος',\n  'ἐντελευτάω',\n  'συμμετρέω',\n  'χαλεπός',\n  'οἶδα',\n  'πείθω',\n  'ὄν',\n  'ἔχω',\n  'ὑπόμνημα',\n  'ἄλλος',\n  'εὐτυχία',\n  'αὐτός',\n  'ἀγάλλω',\n  'λύπ*'],\n ['λύπ*',\n  'ἐνευδαιμονέω',\n  'βίος',\n  'ἐντελευτάω',\n  'συμμετρέω',\n  'χαλεπός',\n  'οἶδα',\n  'πείθω',\n  'ὄν',\n  'ἔχω',\n  'ὑπόμνημα',\n  'ἄλλος',\n  'εὐτυχία',\n  'αὐτός',\n  'ἀγάλλω',\n  'λύπ*',\n  'τὶς',\n  'πειρασάμενος',\n  'ἀγαθός',\n  'στερίσκω',\n  'ἐθάς',\n  'γίγνομαι',\n  'ἀφαιρέω',\n  'καρτερέω',\n  'χρή',\n  'ἄλλος',\n  'παῖς',\n  'ἐλπίς',\n  'ἡλικία',\n  'τέκνωσις',\n  'ποιέω'],\n ['αὐτός',\n  'ἐξίστημι',\n  'μεταβάλλω',\n  'συμβαίνω',\n  'πείθω',\n  'ἀκέραιος',\n  'μεταμέλειν',\n  'κακουμένοις',\n  'ἐμός',\n  'λόγος',\n  'ὑμέτερος',\n  'ἀσθενέω',\n  'γνώμη',\n  'ὀρθός',\n  'φαίνω',\n  'λύπ*',\n  'ἔχω',\n  'αἴσθησις',\n  'ἕκαστος',\n  'ὠφέλεια',\n  'ἄπειμι',\n  'δήλωσις',\n  'ἅπας',\n  'μεταβολή',\n  'μέγας',\n  'οὗτος',\n  'ὀλίγος',\n  'ἐμπεσούσης',\n  'ταπεινός',\n  'διάνοια',\n  'ἐγκαρτερέω'],\n ['πόλις',\n  'πᾶς',\n  'εὔπορος',\n  'μέγας',\n  'οἰκέω',\n  'οὗτος',\n  'ἀπράγμων',\n  'μέμφομαι',\n  'δράω',\n  'αὐτός',\n  'βούλομαι',\n  'ζηλόω',\n  'κτάομαι',\n  'φθονέω',\n  'μισέω',\n  'λύπ*',\n  'πάρειμι',\n  'πᾶς',\n  'ὑπάρχω',\n  'ἕτερος',\n  'ἕτερος',\n  'ἀξιόω',\n  'ἄρχω',\n  'μέγας',\n  'ἐπίφθονος',\n  'λαμβάνω',\n  'βουλεύω',\n  'μῖσος',\n  'πολύς',\n  'ἀντέχω',\n  'λαμπρότης'],\n ['προγνόντες',\n  'αἰσχρός',\n  'πρόθυμος',\n  'ἀμφότεροι',\n  'κτάομαι',\n  'Λακεδαιμόνιος',\n  'ἐπικηρυκεύομαι',\n  'ἔνδηλος',\n  'εἰμί',\n  'πείρω',\n  'πόνο*',\n  'βαρυνόμενοι',\n  'συμφορεύς',\n  'γνώμη',\n  'ἥκιστος',\n  'λύπ*',\n  'ἔργον',\n  'ἀντέχω',\n  'πόλις',\n  'ἰδιώτης',\n  'κράτιστος',\n  'εἰμί',\n  'τοιοῦτος',\n  'Περικλῆς',\n  'λέγω',\n  'πειράω',\n  'Ἀθηναῖος',\n  'ὀργή',\n  'παραλύω',\n  'πάρειμι',\n  'δεινός'],\n ['Ἀθηναῖος',\n  'ὀργή',\n  'παραλύω',\n  'πάρειμι',\n  'δεινός',\n  'ἀπάγω',\n  'γνώμη',\n  'λόγος',\n  'ἀναπείθω',\n  'Λακεδαιμόνιος',\n  'πέμπω',\n  'πόλεμος',\n  'ὁρμέω',\n  'ἴδιος',\n  'πάθημα',\n  'λύπ*',\n  'δῆμος',\n  'ἐλάσσων',\n  'ὁρμάω',\n  'στερέω',\n  'δυνατός',\n  'καλός',\n  'κτῆμα',\n  'χώρα',\n  'οἰκοδομία',\n  'πολυτελής',\n  'κατασκευή',\n  'ἀπολωλεκότες',\n  'μέγας',\n  'πόλεμος',\n  'εἰρήνη'],\n ['διαβαίνω',\n  'ἔτος',\n  'ὁπλίτης',\n  'φρουρά',\n  'διαπέμπω',\n  'πολύς',\n  'ἐπιμέλεια',\n  'ποιέω',\n  'Αἴγυπτος',\n  'Λιβύη',\n  'ὁλκάς',\n  'προσβολή',\n  'λῃστής',\n  'Λακωνικός',\n  'ἥσσων',\n  'λύπ*',\n  'θάλασσα',\n  'μόνος',\n  'οἷος',\n  'κακουργέω',\n  'ἀνέχω',\n  'Σικελικός',\n  'Κρητικός',\n  'πέλαγος',\n  'κατέχω',\n  'Ἀθηναῖος',\n  'στρατός',\n  'ναῦς',\n  'δισχίλιοι',\n  'Μιλήσιος',\n  'ὁπλίτης'],\n ['λίθος',\n  'μέγας',\n  'ἄνθρωπος',\n  'πολύς',\n  'ἀναβαίνω',\n  'οἴκημα',\n  'λαμβάνω',\n  'μέγας',\n  'ἄχθος',\n  'καταρρήγνυμι',\n  'ψόφος',\n  'πολύς',\n  'γίγνομαι',\n  'ὁρῶντας',\n  'Ἀθηναῖος',\n  'λύπ*',\n  'φοβέω',\n  'πολύς',\n  'νομίζω',\n  'ἁλίσκομαι',\n  'χωρίον',\n  'φυγή',\n  'θάλασσα',\n  'ναῦς',\n  'ὁρμάω',\n  'βρασίδας',\n  'αἰσθάνομαι',\n  'ἀπολείποντάς',\n  'ἔπαλξις',\n  'γίγνομαι',\n  'ὁράω'],\n ['ὅμοιος',\n  'τὶς',\n  'ἀνέχω',\n  'εὐπραγέω',\n  'ὑπερφρονούμενος',\n  'ἴσος',\n  'νέμω',\n  'ὅμοιος',\n  'ἀνταξιόω',\n  'οἶδα',\n  'τοιοῦτος',\n  'ὅσος',\n  'λαμπρότης',\n  'προέχω',\n  'βίος',\n  'λύπ*',\n  'εἰμί',\n  'ὅμοιος',\n  'ἄλλος',\n  'ξυνόντας',\n  'ἄνθρωπος',\n  'προσποίησις',\n  'γενειάω',\n  'εἰμί',\n  'καταλείπω',\n  'εἰμί',\n  'πατρίς',\n  'οὗτος',\n  'αὔχησις',\n  'ἀλλότριος',\n  'ἁμαρτάνω'],\n ['λέγω',\n  'ἔοικα',\n  'αὐτός',\n  'ἀποκνέω',\n  'σύμμαχος',\n  'σκήπτω',\n  'βοηθέω',\n  'χρῆ',\n  'συνόμνυμι',\n  'ἐπαμύνω',\n  'ἀντιτίθημι',\n  'ἐκεῖνος',\n  'ἀντιβοηθέω',\n  'προστίθημι',\n  'ἐχθρός',\n  'λύπ*',\n  'κωλύω',\n  'αὐτός',\n  'ἔπειμι',\n  'ἀρχή',\n  'κτέομαι',\n  'ὅσος',\n  'ἄλλος',\n  'ἄρχω',\n  'παραγιγνόμενοι',\n  'βάρβαρος',\n  'Ἕλλην',\n  'ἐπικαλέω',\n  'ἡσυχάζω',\n  'πᾶς',\n  'φυλοκρινέω'],\n ['ἔργον',\n  'πρόοιδα',\n  'ὁράω',\n  'τὶς',\n  'συνωμότης',\n  'διαλέγομαι',\n  'ἱππίας',\n  'πᾶς',\n  'εὐπρόσοδος',\n  'ἵππιος',\n  'δείδω',\n  'νομίζω',\n  'μεμηνῦσθαί',\n  'ὅσος',\n  'συλλαμβάνω',\n  'λύπ*',\n  'πᾶς',\n  'κινδυνεύω',\n  'βούλομαι',\n  'πρότερος',\n  'δύναμαι',\n  'προτιμωρέω',\n  'ἔχω',\n  'ὁρμάω',\n  'πύλη',\n  'περιτυγχάνω',\n  'Ἵππαρχος',\n  'λεωκόρειον',\n  'καλέω',\n  'προσπίτνω',\n  'ὀργή'],\n ['ὑπολαμβάνω',\n  'ἐκλέγω',\n  'ἐπαιτιάομαι',\n  'τὶς',\n  'εὑρίσκω',\n  'ἐγχειρίδιος',\n  'ἔχω',\n  'ἀσπίς',\n  'δόρυ',\n  'ἔθω',\n  'πομπή',\n  'ποιέω',\n  'τοιοῦτος',\n  'τρόπος',\n  'ἐρωτικός',\n  'λύπ*',\n  'ἀρχή',\n  'ἐπιβουλή',\n  'ἀλόγιστος',\n  'τόλμα',\n  'περιδεής',\n  'ἁρμόδιος',\n  'ἀριστογείτονι',\n  'γίγνομαι',\n  'Ἀθήναιος',\n  'χαλεπός',\n  'οὗτος',\n  'τυραννίς',\n  'καθίστημι',\n  'ἵππιος',\n  'φόβος'],\n ['εἰμί',\n  'ὁδός',\n  'ἡσυχία',\n  'καθίζω',\n  'στράτευμα',\n  'χωρίον',\n  'ἐπιτήδειος',\n  'μάχη',\n  'ἄρχω',\n  'μέλλω',\n  'βούλομαι',\n  'ἱππεύς',\n  'Συρακούσιος',\n  'ἥκιστος',\n  'ἔργον',\n  'λύπ*',\n  'τειχίον',\n  'οἰκία',\n  'ἔργω',\n  'δένδρον',\n  'λίμνη',\n  'κρημνός',\n  'δένδρον',\n  'κόπτω',\n  'κατενεγκόντες',\n  'θάλασσα',\n  'ναῦς',\n  'σταύρωμα',\n  'πήγνυμι',\n  'δάσκωνι',\n  'ἔρυμα'],\n ['δύναμις',\n  'Πελοποννήσιοι',\n  'βλάπτω',\n  'οὗτος',\n  'προσήκω',\n  'μέγας',\n  'Λεοντῖνοι',\n  'εὔλογος',\n  'κατοικίζω',\n  'ὑπήκοος',\n  'συγγενής',\n  'Εὔβοια',\n  'δυνατός',\n  'σφέτερος',\n  'ὅμορος',\n  'λύπ*',\n  'εἰμί',\n  'αὐτός',\n  'ἀρκέω',\n  'πολέμιος',\n  'χαλκιδεύς',\n  'φημί',\n  'δουλωσαμένους',\n  'ἐλευθερόω',\n  'σύμφορος',\n  'ἀπαράσκευος',\n  'χρῆμα',\n  'μόνος',\n  'φέρω',\n  'λεοντῖνοι',\n  'ἄλλος'],\n ['ἀπολιμπάνω',\n  'στρατόπεδον',\n  'συμβαίνω',\n  'ὄψος',\n  'ἕκαστος',\n  'ἄλγ*',\n  'γνώμη',\n  'αἰσθάνομαι',\n  'νεκρός',\n  'ἄταφος',\n  'εἰμί',\n  'ὁράω',\n  'τὶς',\n  'ἐπιτήδειος',\n  'κεῖμαι',\n  'λύπ*',\n  'φόβος',\n  'καθίστημι',\n  'ζῶ',\n  'καταλειπόμενοι',\n  'τραυματίης',\n  'ἀσθενής',\n  'πολύς',\n  'τεθνεώτων',\n  'ζῶ',\n  'λύπ*',\n  'ἀπολωλότων',\n  'ἄθλιος',\n  'ἀντιβολία',\n  'ὀλοφυρμός',\n  'τραπόμενοι'],\n ['εἰμί',\n  'ὁράω',\n  'τὶς',\n  'ἐπιτήδειος',\n  'κεῖμαι',\n  'λύπ*',\n  'φόβος',\n  'καθίστημι',\n  'ζῶ',\n  'καταλειπόμενοι',\n  'τραυματίης',\n  'ἀσθενής',\n  'πολύς',\n  'τεθνεώτων',\n  'ζῶ',\n  'λύπ*',\n  'ἀπολωλότων',\n  'ἄθλιος',\n  'ἀντιβολία',\n  'ὀλοφυρμός',\n  'τραπόμενοι',\n  'ἀπορία',\n  'καθίστημι',\n  'ἄγω',\n  'ἀξιόω',\n  'εἷς',\n  'ἕκαστος',\n  'ἐπιβοώμενοι',\n  'τὶς',\n  'ὁράω',\n  'ἑταῖρος'],\n ['ἀρετή',\n  'νενομισμένην',\n  'ἐπιτήδευσις',\n  'λιθοτομία',\n  'Συρακούσιος',\n  'πρῶτος',\n  'χρόνος',\n  'μεταχειρίζω',\n  'κοῖλος',\n  'χωρίον',\n  'ὀλίγος',\n  'πολύς',\n  'ἥλιος',\n  'πρῶτος',\n  'πνῖγος',\n  'λύπ*',\n  'ἀστέγαστος',\n  'νύξ',\n  'ἐπιγιγνόμεναι',\n  'μετοπωρινός',\n  'ψυχρός',\n  'μεταβολή',\n  'ἀσθένεια',\n  'νεωτερίζω',\n  'πᾶς',\n  'ποιέω',\n  'στενοχωρία',\n  'νεκρός',\n  'ἀλλήλων',\n  'ξυννενημένων',\n  'τραῦμα'],\n ['χαλεπός',\n  'εἰμί',\n  'ξυμπροθυμηθεῖσι',\n  'ῥήτωρ',\n  'ἔκπλοος',\n  'ψηφισάμενοι',\n  'ὀργίζω',\n  'χρησμολόγος',\n  'μάντις',\n  'ὁπόσος',\n  'θειάσαντες',\n  'ἐπελπίζω',\n  'λαμβάνω',\n  'Σικελία',\n  'πᾶς',\n  'λύπ*',\n  'περιίστημι',\n  'γεγενημένῳ',\n  'φόβος',\n  'κατάπληξις',\n  'μέγας',\n  'στερόμενοι',\n  'ἴδιος',\n  'ἕκαστος',\n  'πόλις',\n  'ὁπλίτης',\n  'πολύς',\n  'ἱππεύς',\n  'ἡλικία',\n  'οἷος',\n  'ἕτερος'],\n ['Ἕλλην',\n  'πολύς',\n  'μισθός',\n  'πορίζοντα',\n  'αὐτός',\n  'γῆ',\n  'θάλασσα',\n  'κράτος',\n  'δίδωμι',\n  'ἔχω',\n  'ἀμφότεροι',\n  'ἐάω',\n  'ἀρχή',\n  'βασιλεύς',\n  'ἔξεστι',\n  'λύπ*',\n  'ἕτερος',\n  'ἐπάγω',\n  'γίγνομαι',\n  'γῆ',\n  'θάλασσα',\n  'ἀρχή',\n  'ἀπορέω',\n  'ἑός',\n  'κρατέω',\n  'συγκαθαιρέω',\n  'αὐτός',\n  'βούλομαι',\n  'μέγας',\n  'δαπάνη',\n  'κίνδυνος']]"
     },
     "execution_count": 77,
     "metadata": {},
     "output_type": "execute_result"
    }
   ],
   "source": [
    "cgl[\"conc_lype\"].tolist()[0]"
   ],
   "metadata": {
    "collapsed": false,
    "pycharm": {
     "name": "#%%\n"
    }
   }
  },
  {
   "cell_type": "markdown",
   "metadata": {
    "colab_type": "text",
    "id": "pcN5UAlv20oP",
    "pycharm": {
     "name": "#%% md\n"
    }
   },
   "source": [
    "# Export the subcorpus for future usage"
   ]
  },
  {
   "cell_type": "code",
   "execution_count": 78,
   "outputs": [],
   "source": [
    "cgl.to_json(\"../data/large_data/cgl.json\")"
   ],
   "metadata": {
    "collapsed": false,
    "pycharm": {
     "name": "#%%\n"
    }
   }
  },
  {
   "cell_type": "code",
   "execution_count": null,
   "outputs": [],
   "source": [],
   "metadata": {
    "collapsed": false,
    "pycharm": {
     "name": "#%%\n"
    }
   }
  }
 ],
 "metadata": {
  "colab": {
   "collapsed_sections": [],
   "name": "0_EXTRACTING-CORPORA.ipynb",
   "provenance": []
  },
  "kernelspec": {
   "name": "pipa_venv",
   "language": "python",
   "display_name": "pipa_venv"
  },
  "language_info": {
   "codemirror_mode": {
    "name": "ipython",
    "version": 3
   },
   "file_extension": ".py",
   "mimetype": "text/x-python",
   "name": "python",
   "nbconvert_exporter": "python",
   "pygments_lexer": "ipython3",
   "version": "3.6.9"
  }
 },
 "nbformat": 4,
 "nbformat_minor": 1
}