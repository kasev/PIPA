{
 "cells": [
  {
   "cell_type": "code",
   "execution_count": 1,
   "metadata": {},
   "outputs": [],
   "source": [
    "import pandas as pd\n",
    "import requests\n",
    "import re\n",
    "from bs4 import BeautifulSoup"
   ]
  },
  {
   "cell_type": "code",
   "execution_count": 2,
   "outputs": [
    {
     "name": "stdout",
     "output_type": "stream",
     "text": [
      "endpoint variable has been configured to: https://sciencedata.dk/files/\n"
     ]
    }
   ],
   "source": [
    "# to communicate with google spreadsheet...\n",
    "import gspread\n",
    "from gspread_dataframe import get_as_dataframe\n",
    "from gspread_dataframe import set_with_dataframe\n",
    "from google.oauth2 import service_account # based on google-auth library\n",
    "import sddk\n",
    "\n",
    "s = sddk.cloudSession(\"sciencedata.dk\")\n",
    "# establish connection with gogglesheets...\n",
    "file_data = s.read_file(\"https://sciencedata.dk/files/ServiceAccountsKey.json\", \"dict\") # or load it from a local storage: json.load(open(\"../../ServiceAccountsKey.json\", \"r\"))\n",
    "credentials = service_account.Credentials.from_service_account_info(file_data)\n",
    "gc = gspread.Client(auth=credentials.with_scopes(['https://spreadsheets.google.com/feeds', 'https://www.googleapis.com/auth/drive']))\n",
    "PIPA_data = gc.open_by_url(\"https://docs.google.com/spreadsheets/d/1rV4t0_UV_wcx--UAHVwkqB8Wa_5n9mnpV05yGG1OHqk/edit?usp=sharing\")"
   ],
   "metadata": {
    "collapsed": false
   }
  },
  {
   "cell_type": "markdown",
   "metadata": {
    "colab_type": "text",
    "id": "CMR9KfVlwJbR"
   },
   "source": [
    "# Load the main dataset of ancient Greek texts"
   ]
  },
  {
   "cell_type": "code",
   "execution_count": 3,
   "outputs": [
    {
     "name": "stdout",
     "output_type": "stream",
     "text": [
      "['/Users/kasev/Projects/LAGT/data/large_files/LAGT_v2-0.json']\n"
     ]
    }
   ],
   "source": [
    "# find local version of the input dataset\n",
    "local_paths = !find ~/Projects -name \"LAGT_v2-0.json\"\n",
    "print(local_paths)"
   ],
   "metadata": {
    "collapsed": false
   }
  },
  {
   "cell_type": "code",
   "execution_count": 4,
   "outputs": [],
   "source": [
    "# LAGT (v1.0.1) dataset directly from Zenodo\n",
    "try:\n",
    "    LAGT = pd.read_json(local_paths[0])\n",
    "except:\n",
    "    resp = requests.get(\"https://zenodo.org/record/7221150/files/LAGT_v2-0.json?download=1\")\n",
    "    # save it for next time\n",
    "    LAGT = pd.DataFrame(resp.json())\n",
    "    LAGT.to_json(\"../data/large_files/LIRE_v1-0.json\")"
   ],
   "metadata": {
    "collapsed": false
   }
  },
  {
   "cell_type": "code",
   "execution_count": 5,
   "metadata": {
    "colab": {
     "base_uri": "https://localhost:8080/",
     "height": 547
    },
    "colab_type": "code",
    "executionInfo": {
     "elapsed": 570,
     "status": "ok",
     "timestamp": 1588854060391,
     "user": {
      "displayName": "Vojtěch Kaše",
      "photoUrl": "https://lh3.googleusercontent.com/a-/AOh14Ggz3jS9e7I3GdIEbyBKFtqr9tPdNCwyLBEJwbK8cw=s64",
      "userId": "01399835024022498543"
     },
     "user_tz": -120
    },
    "id": "4E38A84hUqqU",
    "outputId": "b67a6b21-c1ef-4c18-db4a-78c0e2a4153c"
   },
   "outputs": [
    {
     "data": {
      "text/plain": "                           filename              author  \\\n0   tlg0001.tlg001.perseus-grc2.xml  Apollonius Rhodius   \n1   tlg0003.tlg001.perseus-grc2.xml          Thucydides   \n2   tlg0004.tlg001.perseus-grc1.xml   Diogenes Laertius   \n3   tlg0005.tlg001.perseus-grc1.xml          Theocritus   \n4   tlg0005.tlg002.perseus-grc1.xml          Theocritus   \n5     tlg0005.tlg003.1st1K-grc1.xml          Theocritus   \n6   tlg0006.tlg001.perseus-grc2.xml           Euripides   \n7   tlg0006.tlg004.perseus-grc2.xml           Euripides   \n8   tlg0006.tlg005.perseus-grc2.xml           Euripides   \n9   tlg0006.tlg006.perseus-grc2.xml           Euripides   \n10  tlg0006.tlg007.perseus-grc2.xml           Euripides   \n11  tlg0006.tlg008.perseus-grc2.xml           Euripides   \n12  tlg0006.tlg009.perseus-grc2.xml           Euripides   \n13  tlg0006.tlg010.perseus-grc2.xml           Euripides   \n14  tlg0006.tlg011.perseus-grc2.xml           Euripides   \n15  tlg0006.tlg012.perseus-grc2.xml           Euripides   \n16  tlg0006.tlg013.perseus-grc2.xml           Euripides   \n17  tlg0006.tlg014.perseus-grc2.xml           Euripides   \n18  tlg0006.tlg015.perseus-grc2.xml           Euripides   \n19  tlg0006.tlg016.perseus-grc2.xml           Euripides   \n\n                            title  wordcount author_id          doc_id  \\\n0                     Argonautica      38822   tlg0001  tlg0001.tlg001   \n1           The Peloponnesian War     150118   tlg0003  tlg0003.tlg001   \n2   Lives of Eminent Philosophers     110763   tlg0004  tlg0004.tlg001   \n3                         Idylls       19200   tlg0005  tlg0005.tlg001   \n4                       Epigrams        1734   tlg0005  tlg0005.tlg002   \n5                          Syrinx         77   tlg0005  tlg0005.tlg003   \n6                         Cyclops       4141   tlg0006  tlg0006.tlg001   \n7                      Ἡρακλεῖδαι       6272   tlg0006  tlg0006.tlg004   \n8                       Ἱππόλυτος       8257   tlg0006  tlg0006.tlg005   \n9                       Ἀνδρομάχη       7397   tlg0006  tlg0006.tlg006   \n10                          Ἑκάβη       7340   tlg0006  tlg0006.tlg007   \n11                       Ἱκέτιδες       7166   tlg0006  tlg0006.tlg008   \n12                        Ἡρακλῆς       7977   tlg0006  tlg0006.tlg009   \n13                            Ἴων       9339   tlg0006  tlg0006.tlg010   \n14                        Τρῳάδες       7230   tlg0006  tlg0006.tlg011   \n15                        Ἠλέκτρα       7781   tlg0006  tlg0006.tlg012   \n16           Ἰφιγένεια ἐν Ταύροις       8497   tlg0006  tlg0006.tlg013   \n17                          Ἑλένη       9982   tlg0006  tlg0006.tlg014   \n18                      Φοίνισσαι       9951   tlg0006  tlg0006.tlg015   \n19                        Orestes      10115   tlg0006  tlg0006.tlg016   \n\n    raw_date  date_avr                  date_probs  date_manual provenience  \\\n0     3 B.C.      -2.5                 {'-2.5': 1}         -2.5       pagan   \n1     5 B.C.      -4.5                 {'-4.5': 1}         -4.5       pagan   \n2     A.D. 3       2.5                  {'2.5': 1}          NaN               \n3   4-3 B.C.      -3.0  {'-3.5': 0.5, '-2.5': 0.5}          NaN               \n4   4-3 B.C.      -3.0  {'-3.5': 0.5, '-2.5': 0.5}          NaN               \n5   4-3 B.C.      -3.0  {'-3.5': 0.5, '-2.5': 0.5}          NaN               \n6     5 B.C.      -4.5                 {'-4.5': 1}         -4.5       pagan   \n7     5 B.C.      -4.5                 {'-4.5': 1}         -4.5       pagan   \n8     5 B.C.      -4.5                 {'-4.5': 1}         -4.5       pagan   \n9     5 B.C.      -4.5                 {'-4.5': 1}         -4.5       pagan   \n10    5 B.C.      -4.5                 {'-4.5': 1}         -4.5       pagan   \n11    5 B.C.      -4.5                 {'-4.5': 1}         -4.5       pagan   \n12    5 B.C.      -4.5                 {'-4.5': 1}         -4.5       pagan   \n13    5 B.C.      -4.5                 {'-4.5': 1}         -4.5       pagan   \n14    5 B.C.      -4.5                 {'-4.5': 1}         -4.5       pagan   \n15    5 B.C.      -4.5                 {'-4.5': 1}         -4.5       pagan   \n16    5 B.C.      -4.5                 {'-4.5': 1}         -4.5       pagan   \n17    5 B.C.      -4.5                 {'-4.5': 1}         -4.5       pagan   \n18    5 B.C.      -4.5                 {'-4.5': 1}         -4.5       pagan   \n19    5 B.C.      -4.5                 {'-4.5': 1}         -4.5       pagan   \n\n      tlg_epithet                                       clean_string  \\\n0       Epici/-ae  ἀρχόμενος σέο, Φοῖβε, παλαιγενέων κλέα φωτῶν μ...   \n1   Historici/-ae   Θουκυδίδης Ἀθηναῖος ξυνέγραψε τὸν πόλεμον τῶν...   \n2       Biographi  Τὸ τῆς φιλοσοφίας ἔργον ἔνιοί φασιν ἀπὸ βαρβάρ...   \n3        Bucolici   ̔Αδύ τι τὸ ψιθύρισμα καὶ ἁ πίτυς αἰπόλε τήνα,...   \n4        Bucolici  τὰ ῥόδα τὰ δροσόεντα καὶ ἁ κατάπυκνος ἐκείνα ἕ...   \n5        Bucolici  Οὐδενὸς εὐνάτειρα Μακροπτολέμοιο δὲ μάτηρ μαία...   \n6         Tragici  Ὦ Βρόμιε, διὰ σὲ μυρίους ἔχω πόνους νῦν χὥτʼ ἐ...   \n7         Tragici   Πάλαι ποτʼ ἐστὶ τοῦτʼ ἐμοὶ δεδογμένον· ὁ μὲν ...   \n8         Tragici   Πολλὴ μὲν ἐν βροτοῖσι κοὐκ ἀνώνυμος, θεὰ κέκλ...   \n9         Tragici   Ἀσιάτιδος γῆς σχῆμα, Θηβαία πόλι, ὅθεν ποθʼ ἕ...   \n10        Tragici  Ἥκω νεκρῶν κευθμῶνα καὶ σκότου πύλας λιπών, ἵν...   \n11        Tragici   Δήμητερ ἑστιοῦχʼ Ἐλευσῖνος χθονὸς τῆσδʼ, οἵ τ...   \n12        Tragici   Τίς τὸν Διὸς σύλλεκτρον οὐκ οἶδεν βροτῶν, Ἀργ...   \n13        Tragici   Ἄτλας, ὁ χαλκέοισι νώτοις οὐρανὸν θεῶν παλαιὸ...   \n14        Tragici   Ἥκω λιπὼν Αἴγαιον ἁλμυρὸν βάθος πόντου Ποσειδ...   \n15        Tragici   ὦ γῆς παλαιὸν ἄργος, Ἰνάχου ῥοαί, ὅθεν ποτʼ ἄ...   \n16        Tragici   Πέλοψ ὁ Ταντάλειος ἐς Πῖσαν μολὼν θοαῖσιν ἵππ...   \n17        Tragici  Νείλου μὲν αἵδε καλλιπάρθενοι ῥοαί, ὃς ἀντὶ δί...   \n18        Tragici   ὦ τὴν ἐν ἄστροις οὐρανοῦ τέμνων ὁδὸν καὶ χρυσ...   \n19        Tragici   Οὐκ ἔστιν οὐδὲν δεινὸν ὧδʼ εἰπεῖν ἔπος οὐδὲ π...   \n\n    n_sentences                               lemmatized_sentences  GLAUx?  \n0          3252  [[ἄρχω, Φοῖβος, παλαιγενής, κλέος, φώς, μιμνῄσ...    True  \n1          6068  [[Θουκυδίδης, Ἀθηναῖος, συγγράφω, πόλεμος, Πελ...    True  \n2         10245  [[φιλοσοφία, ἔργον, ἔνιοι, φημί, βάρβαρος, ἄρχ...   False  \n3          1982  [[ἡδύς, τις, ψιθύρισμα, πίτυς, αἰπόλος, ἐκεῖνο...    True  \n4           152  [[ῥόδον, δροσόεις, κατάπυκνος, ἐκεῖνος, ἕρπυλλ...    True  \n5             3  [[εὐνητήρ, μακροπτολέμοιο, μήτηρ, Μαιάς, ἀντιπ...   False  \n6           529  [[Βρόμιος, ἔχω, πόνος, χὥτʼ, ἥβη, ἐμός, εὐσθεν...   False  \n7           662  [[ποτός, εἰμί, οὗτος, δεδογμένον], [δίκαιος, φ...   False  \n8           918  [[πολύς, βροτός, ἀνώνυμος, θεά, καλέω, Κύπρις,...   False  \n9           712  [[Ἀσιανός, γῆ, σχῆμα, θηβαία, πόλις, ἑδνόω, πο...   False  \n10          754  [[ἥκω, νεκρός, κευθμών, σκότος, πύλη, λείπω, Ἅ...    True  \n11          721  [[Δημήτηρ, ἑστιοῦχος, Ἐλευσίς, χθών, ὅδε, ναός...    True  \n12          842  [[τίς, Ζεύς, σύλλεκτρος, οἶδα, βροτός, Ἀργεῖος...    True  \n13         1090  [[Ἄτλας, χαλκοῦς, νῶτον, οὐρανός, θεός, παλαιό...    True  \n14          690  [[ἥκω, λείπω, Αἴγαιον, ἁλμυρός, βάθος, πόντος,...    True  \n15          862  [[γῆ, παλαιός, ἄργος, Ἴναχος, ῥοή, αἴρω, ναῦς,...    True  \n16          903  [[Πέλοψ, Ταντάλειος, Πῖσα, βλώσκω, θοός, ἵππος...    True  \n17         1109  [[Νεῖλος, ὅδε, καλλιπάρθενος, ῥοή, δῖος, ψακάς...    True  \n18         1055  [[ἄστρον, οὐρανός, τέμνω, ὁδός, χρυσοκόλλητος,...    True  \n19         1183  [[εἰμί, οὐδείς, δεινός, λέγω, ἔπος, πάθος, συμ...    True  ",
      "text/html": "<div>\n<style scoped>\n    .dataframe tbody tr th:only-of-type {\n        vertical-align: middle;\n    }\n\n    .dataframe tbody tr th {\n        vertical-align: top;\n    }\n\n    .dataframe thead th {\n        text-align: right;\n    }\n</style>\n<table border=\"1\" class=\"dataframe\">\n  <thead>\n    <tr style=\"text-align: right;\">\n      <th></th>\n      <th>filename</th>\n      <th>author</th>\n      <th>title</th>\n      <th>wordcount</th>\n      <th>author_id</th>\n      <th>doc_id</th>\n      <th>raw_date</th>\n      <th>date_avr</th>\n      <th>date_probs</th>\n      <th>date_manual</th>\n      <th>provenience</th>\n      <th>tlg_epithet</th>\n      <th>clean_string</th>\n      <th>n_sentences</th>\n      <th>lemmatized_sentences</th>\n      <th>GLAUx?</th>\n    </tr>\n  </thead>\n  <tbody>\n    <tr>\n      <th>0</th>\n      <td>tlg0001.tlg001.perseus-grc2.xml</td>\n      <td>Apollonius Rhodius</td>\n      <td>Argonautica</td>\n      <td>38822</td>\n      <td>tlg0001</td>\n      <td>tlg0001.tlg001</td>\n      <td>3 B.C.</td>\n      <td>-2.5</td>\n      <td>{'-2.5': 1}</td>\n      <td>-2.5</td>\n      <td>pagan</td>\n      <td>Epici/-ae</td>\n      <td>ἀρχόμενος σέο, Φοῖβε, παλαιγενέων κλέα φωτῶν μ...</td>\n      <td>3252</td>\n      <td>[[ἄρχω, Φοῖβος, παλαιγενής, κλέος, φώς, μιμνῄσ...</td>\n      <td>True</td>\n    </tr>\n    <tr>\n      <th>1</th>\n      <td>tlg0003.tlg001.perseus-grc2.xml</td>\n      <td>Thucydides</td>\n      <td>The Peloponnesian War</td>\n      <td>150118</td>\n      <td>tlg0003</td>\n      <td>tlg0003.tlg001</td>\n      <td>5 B.C.</td>\n      <td>-4.5</td>\n      <td>{'-4.5': 1}</td>\n      <td>-4.5</td>\n      <td>pagan</td>\n      <td>Historici/-ae</td>\n      <td>Θουκυδίδης Ἀθηναῖος ξυνέγραψε τὸν πόλεμον τῶν...</td>\n      <td>6068</td>\n      <td>[[Θουκυδίδης, Ἀθηναῖος, συγγράφω, πόλεμος, Πελ...</td>\n      <td>True</td>\n    </tr>\n    <tr>\n      <th>2</th>\n      <td>tlg0004.tlg001.perseus-grc1.xml</td>\n      <td>Diogenes Laertius</td>\n      <td>Lives of Eminent Philosophers</td>\n      <td>110763</td>\n      <td>tlg0004</td>\n      <td>tlg0004.tlg001</td>\n      <td>A.D. 3</td>\n      <td>2.5</td>\n      <td>{'2.5': 1}</td>\n      <td>NaN</td>\n      <td></td>\n      <td>Biographi</td>\n      <td>Τὸ τῆς φιλοσοφίας ἔργον ἔνιοί φασιν ἀπὸ βαρβάρ...</td>\n      <td>10245</td>\n      <td>[[φιλοσοφία, ἔργον, ἔνιοι, φημί, βάρβαρος, ἄρχ...</td>\n      <td>False</td>\n    </tr>\n    <tr>\n      <th>3</th>\n      <td>tlg0005.tlg001.perseus-grc1.xml</td>\n      <td>Theocritus</td>\n      <td>Idylls</td>\n      <td>19200</td>\n      <td>tlg0005</td>\n      <td>tlg0005.tlg001</td>\n      <td>4-3 B.C.</td>\n      <td>-3.0</td>\n      <td>{'-3.5': 0.5, '-2.5': 0.5}</td>\n      <td>NaN</td>\n      <td></td>\n      <td>Bucolici</td>\n      <td>̔Αδύ τι τὸ ψιθύρισμα καὶ ἁ πίτυς αἰπόλε τήνα,...</td>\n      <td>1982</td>\n      <td>[[ἡδύς, τις, ψιθύρισμα, πίτυς, αἰπόλος, ἐκεῖνο...</td>\n      <td>True</td>\n    </tr>\n    <tr>\n      <th>4</th>\n      <td>tlg0005.tlg002.perseus-grc1.xml</td>\n      <td>Theocritus</td>\n      <td>Epigrams</td>\n      <td>1734</td>\n      <td>tlg0005</td>\n      <td>tlg0005.tlg002</td>\n      <td>4-3 B.C.</td>\n      <td>-3.0</td>\n      <td>{'-3.5': 0.5, '-2.5': 0.5}</td>\n      <td>NaN</td>\n      <td></td>\n      <td>Bucolici</td>\n      <td>τὰ ῥόδα τὰ δροσόεντα καὶ ἁ κατάπυκνος ἐκείνα ἕ...</td>\n      <td>152</td>\n      <td>[[ῥόδον, δροσόεις, κατάπυκνος, ἐκεῖνος, ἕρπυλλ...</td>\n      <td>True</td>\n    </tr>\n    <tr>\n      <th>5</th>\n      <td>tlg0005.tlg003.1st1K-grc1.xml</td>\n      <td>Theocritus</td>\n      <td>Syrinx</td>\n      <td>77</td>\n      <td>tlg0005</td>\n      <td>tlg0005.tlg003</td>\n      <td>4-3 B.C.</td>\n      <td>-3.0</td>\n      <td>{'-3.5': 0.5, '-2.5': 0.5}</td>\n      <td>NaN</td>\n      <td></td>\n      <td>Bucolici</td>\n      <td>Οὐδενὸς εὐνάτειρα Μακροπτολέμοιο δὲ μάτηρ μαία...</td>\n      <td>3</td>\n      <td>[[εὐνητήρ, μακροπτολέμοιο, μήτηρ, Μαιάς, ἀντιπ...</td>\n      <td>False</td>\n    </tr>\n    <tr>\n      <th>6</th>\n      <td>tlg0006.tlg001.perseus-grc2.xml</td>\n      <td>Euripides</td>\n      <td>Cyclops</td>\n      <td>4141</td>\n      <td>tlg0006</td>\n      <td>tlg0006.tlg001</td>\n      <td>5 B.C.</td>\n      <td>-4.5</td>\n      <td>{'-4.5': 1}</td>\n      <td>-4.5</td>\n      <td>pagan</td>\n      <td>Tragici</td>\n      <td>Ὦ Βρόμιε, διὰ σὲ μυρίους ἔχω πόνους νῦν χὥτʼ ἐ...</td>\n      <td>529</td>\n      <td>[[Βρόμιος, ἔχω, πόνος, χὥτʼ, ἥβη, ἐμός, εὐσθεν...</td>\n      <td>False</td>\n    </tr>\n    <tr>\n      <th>7</th>\n      <td>tlg0006.tlg004.perseus-grc2.xml</td>\n      <td>Euripides</td>\n      <td>Ἡρακλεῖδαι</td>\n      <td>6272</td>\n      <td>tlg0006</td>\n      <td>tlg0006.tlg004</td>\n      <td>5 B.C.</td>\n      <td>-4.5</td>\n      <td>{'-4.5': 1}</td>\n      <td>-4.5</td>\n      <td>pagan</td>\n      <td>Tragici</td>\n      <td>Πάλαι ποτʼ ἐστὶ τοῦτʼ ἐμοὶ δεδογμένον· ὁ μὲν ...</td>\n      <td>662</td>\n      <td>[[ποτός, εἰμί, οὗτος, δεδογμένον], [δίκαιος, φ...</td>\n      <td>False</td>\n    </tr>\n    <tr>\n      <th>8</th>\n      <td>tlg0006.tlg005.perseus-grc2.xml</td>\n      <td>Euripides</td>\n      <td>Ἱππόλυτος</td>\n      <td>8257</td>\n      <td>tlg0006</td>\n      <td>tlg0006.tlg005</td>\n      <td>5 B.C.</td>\n      <td>-4.5</td>\n      <td>{'-4.5': 1}</td>\n      <td>-4.5</td>\n      <td>pagan</td>\n      <td>Tragici</td>\n      <td>Πολλὴ μὲν ἐν βροτοῖσι κοὐκ ἀνώνυμος, θεὰ κέκλ...</td>\n      <td>918</td>\n      <td>[[πολύς, βροτός, ἀνώνυμος, θεά, καλέω, Κύπρις,...</td>\n      <td>False</td>\n    </tr>\n    <tr>\n      <th>9</th>\n      <td>tlg0006.tlg006.perseus-grc2.xml</td>\n      <td>Euripides</td>\n      <td>Ἀνδρομάχη</td>\n      <td>7397</td>\n      <td>tlg0006</td>\n      <td>tlg0006.tlg006</td>\n      <td>5 B.C.</td>\n      <td>-4.5</td>\n      <td>{'-4.5': 1}</td>\n      <td>-4.5</td>\n      <td>pagan</td>\n      <td>Tragici</td>\n      <td>Ἀσιάτιδος γῆς σχῆμα, Θηβαία πόλι, ὅθεν ποθʼ ἕ...</td>\n      <td>712</td>\n      <td>[[Ἀσιανός, γῆ, σχῆμα, θηβαία, πόλις, ἑδνόω, πο...</td>\n      <td>False</td>\n    </tr>\n    <tr>\n      <th>10</th>\n      <td>tlg0006.tlg007.perseus-grc2.xml</td>\n      <td>Euripides</td>\n      <td>Ἑκάβη</td>\n      <td>7340</td>\n      <td>tlg0006</td>\n      <td>tlg0006.tlg007</td>\n      <td>5 B.C.</td>\n      <td>-4.5</td>\n      <td>{'-4.5': 1}</td>\n      <td>-4.5</td>\n      <td>pagan</td>\n      <td>Tragici</td>\n      <td>Ἥκω νεκρῶν κευθμῶνα καὶ σκότου πύλας λιπών, ἵν...</td>\n      <td>754</td>\n      <td>[[ἥκω, νεκρός, κευθμών, σκότος, πύλη, λείπω, Ἅ...</td>\n      <td>True</td>\n    </tr>\n    <tr>\n      <th>11</th>\n      <td>tlg0006.tlg008.perseus-grc2.xml</td>\n      <td>Euripides</td>\n      <td>Ἱκέτιδες</td>\n      <td>7166</td>\n      <td>tlg0006</td>\n      <td>tlg0006.tlg008</td>\n      <td>5 B.C.</td>\n      <td>-4.5</td>\n      <td>{'-4.5': 1}</td>\n      <td>-4.5</td>\n      <td>pagan</td>\n      <td>Tragici</td>\n      <td>Δήμητερ ἑστιοῦχʼ Ἐλευσῖνος χθονὸς τῆσδʼ, οἵ τ...</td>\n      <td>721</td>\n      <td>[[Δημήτηρ, ἑστιοῦχος, Ἐλευσίς, χθών, ὅδε, ναός...</td>\n      <td>True</td>\n    </tr>\n    <tr>\n      <th>12</th>\n      <td>tlg0006.tlg009.perseus-grc2.xml</td>\n      <td>Euripides</td>\n      <td>Ἡρακλῆς</td>\n      <td>7977</td>\n      <td>tlg0006</td>\n      <td>tlg0006.tlg009</td>\n      <td>5 B.C.</td>\n      <td>-4.5</td>\n      <td>{'-4.5': 1}</td>\n      <td>-4.5</td>\n      <td>pagan</td>\n      <td>Tragici</td>\n      <td>Τίς τὸν Διὸς σύλλεκτρον οὐκ οἶδεν βροτῶν, Ἀργ...</td>\n      <td>842</td>\n      <td>[[τίς, Ζεύς, σύλλεκτρος, οἶδα, βροτός, Ἀργεῖος...</td>\n      <td>True</td>\n    </tr>\n    <tr>\n      <th>13</th>\n      <td>tlg0006.tlg010.perseus-grc2.xml</td>\n      <td>Euripides</td>\n      <td>Ἴων</td>\n      <td>9339</td>\n      <td>tlg0006</td>\n      <td>tlg0006.tlg010</td>\n      <td>5 B.C.</td>\n      <td>-4.5</td>\n      <td>{'-4.5': 1}</td>\n      <td>-4.5</td>\n      <td>pagan</td>\n      <td>Tragici</td>\n      <td>Ἄτλας, ὁ χαλκέοισι νώτοις οὐρανὸν θεῶν παλαιὸ...</td>\n      <td>1090</td>\n      <td>[[Ἄτλας, χαλκοῦς, νῶτον, οὐρανός, θεός, παλαιό...</td>\n      <td>True</td>\n    </tr>\n    <tr>\n      <th>14</th>\n      <td>tlg0006.tlg011.perseus-grc2.xml</td>\n      <td>Euripides</td>\n      <td>Τρῳάδες</td>\n      <td>7230</td>\n      <td>tlg0006</td>\n      <td>tlg0006.tlg011</td>\n      <td>5 B.C.</td>\n      <td>-4.5</td>\n      <td>{'-4.5': 1}</td>\n      <td>-4.5</td>\n      <td>pagan</td>\n      <td>Tragici</td>\n      <td>Ἥκω λιπὼν Αἴγαιον ἁλμυρὸν βάθος πόντου Ποσειδ...</td>\n      <td>690</td>\n      <td>[[ἥκω, λείπω, Αἴγαιον, ἁλμυρός, βάθος, πόντος,...</td>\n      <td>True</td>\n    </tr>\n    <tr>\n      <th>15</th>\n      <td>tlg0006.tlg012.perseus-grc2.xml</td>\n      <td>Euripides</td>\n      <td>Ἠλέκτρα</td>\n      <td>7781</td>\n      <td>tlg0006</td>\n      <td>tlg0006.tlg012</td>\n      <td>5 B.C.</td>\n      <td>-4.5</td>\n      <td>{'-4.5': 1}</td>\n      <td>-4.5</td>\n      <td>pagan</td>\n      <td>Tragici</td>\n      <td>ὦ γῆς παλαιὸν ἄργος, Ἰνάχου ῥοαί, ὅθεν ποτʼ ἄ...</td>\n      <td>862</td>\n      <td>[[γῆ, παλαιός, ἄργος, Ἴναχος, ῥοή, αἴρω, ναῦς,...</td>\n      <td>True</td>\n    </tr>\n    <tr>\n      <th>16</th>\n      <td>tlg0006.tlg013.perseus-grc2.xml</td>\n      <td>Euripides</td>\n      <td>Ἰφιγένεια ἐν Ταύροις</td>\n      <td>8497</td>\n      <td>tlg0006</td>\n      <td>tlg0006.tlg013</td>\n      <td>5 B.C.</td>\n      <td>-4.5</td>\n      <td>{'-4.5': 1}</td>\n      <td>-4.5</td>\n      <td>pagan</td>\n      <td>Tragici</td>\n      <td>Πέλοψ ὁ Ταντάλειος ἐς Πῖσαν μολὼν θοαῖσιν ἵππ...</td>\n      <td>903</td>\n      <td>[[Πέλοψ, Ταντάλειος, Πῖσα, βλώσκω, θοός, ἵππος...</td>\n      <td>True</td>\n    </tr>\n    <tr>\n      <th>17</th>\n      <td>tlg0006.tlg014.perseus-grc2.xml</td>\n      <td>Euripides</td>\n      <td>Ἑλένη</td>\n      <td>9982</td>\n      <td>tlg0006</td>\n      <td>tlg0006.tlg014</td>\n      <td>5 B.C.</td>\n      <td>-4.5</td>\n      <td>{'-4.5': 1}</td>\n      <td>-4.5</td>\n      <td>pagan</td>\n      <td>Tragici</td>\n      <td>Νείλου μὲν αἵδε καλλιπάρθενοι ῥοαί, ὃς ἀντὶ δί...</td>\n      <td>1109</td>\n      <td>[[Νεῖλος, ὅδε, καλλιπάρθενος, ῥοή, δῖος, ψακάς...</td>\n      <td>True</td>\n    </tr>\n    <tr>\n      <th>18</th>\n      <td>tlg0006.tlg015.perseus-grc2.xml</td>\n      <td>Euripides</td>\n      <td>Φοίνισσαι</td>\n      <td>9951</td>\n      <td>tlg0006</td>\n      <td>tlg0006.tlg015</td>\n      <td>5 B.C.</td>\n      <td>-4.5</td>\n      <td>{'-4.5': 1}</td>\n      <td>-4.5</td>\n      <td>pagan</td>\n      <td>Tragici</td>\n      <td>ὦ τὴν ἐν ἄστροις οὐρανοῦ τέμνων ὁδὸν καὶ χρυσ...</td>\n      <td>1055</td>\n      <td>[[ἄστρον, οὐρανός, τέμνω, ὁδός, χρυσοκόλλητος,...</td>\n      <td>True</td>\n    </tr>\n    <tr>\n      <th>19</th>\n      <td>tlg0006.tlg016.perseus-grc2.xml</td>\n      <td>Euripides</td>\n      <td>Orestes</td>\n      <td>10115</td>\n      <td>tlg0006</td>\n      <td>tlg0006.tlg016</td>\n      <td>5 B.C.</td>\n      <td>-4.5</td>\n      <td>{'-4.5': 1}</td>\n      <td>-4.5</td>\n      <td>pagan</td>\n      <td>Tragici</td>\n      <td>Οὐκ ἔστιν οὐδὲν δεινὸν ὧδʼ εἰπεῖν ἔπος οὐδὲ π...</td>\n      <td>1183</td>\n      <td>[[εἰμί, οὐδείς, δεινός, λέγω, ἔπος, πάθος, συμ...</td>\n      <td>True</td>\n    </tr>\n  </tbody>\n</table>\n</div>"
     },
     "execution_count": 5,
     "metadata": {},
     "output_type": "execute_result"
    }
   ],
   "source": [
    "# get some overview of the shape of the data\n",
    "LAGT.head(20)"
   ]
  },
  {
   "cell_type": "code",
   "execution_count": 6,
   "metadata": {},
   "outputs": [
    {
     "data": {
      "text/plain": "14824665"
     },
     "execution_count": 6,
     "metadata": {},
     "output_type": "execute_result"
    }
   ],
   "source": [
    "def flat_lemmata(sentences):\n",
    "    lemmata = [word for sent in sentences for word in sent]\n",
    "    return lemmata\n",
    "LAGT[\"lemmata\"] = LAGT[\"lemmatized_sentences\"].apply(flat_lemmata)\n",
    "\n",
    "LAGT[\"lemmata_wordcount\"] = LAGT[\"lemmata\"].apply(lambda x: len(x))\n",
    "LAGT[\"lemmata_wordcount\"].sum() # previously we had 13925726, then 13713183, finally 14756899"
   ]
  },
  {
   "cell_type": "markdown",
   "metadata": {
    "colab_type": "text",
    "id": "KsuVLaw4gzvC"
   },
   "source": [
    "# Extract subcorpus\n",
    "\n"
   ]
  },
  {
   "cell_type": "code",
   "execution_count": 7,
   "metadata": {
    "colab": {
     "base_uri": "https://localhost:8080/",
     "height": 34
    },
    "colab_type": "code",
    "executionInfo": {
     "elapsed": 528,
     "status": "ok",
     "timestamp": 1588854160205,
     "user": {
      "displayName": "Vojtěch Kaše",
      "photoUrl": "https://lh3.googleusercontent.com/a-/AOh14Ggz3jS9e7I3GdIEbyBKFtqr9tPdNCwyLBEJwbK8cw=s64",
      "userId": "01399835024022498543"
     },
     "user_tz": -120
    },
    "id": "RS_FkWQCiMiw",
    "outputId": "246b1e31-bd07-42c5-8ba2-491e32774357"
   },
   "outputs": [
    {
     "data": {
      "text/plain": "1457"
     },
     "execution_count": 7,
     "metadata": {},
     "output_type": "execute_result"
    }
   ],
   "source": [
    "### how many documents we have\n",
    "len(LAGT)"
   ]
  },
  {
   "cell_type": "code",
   "execution_count": 8,
   "outputs": [
    {
     "data": {
      "text/plain": "                            filename        author  \\\n208  tlg0013.tlg004.perseus-grc2.xml  Homeric hymn   \n211  tlg0013.tlg007.perseus-grc2.xml  Homeric hymn   \n223  tlg0013.tlg019.perseus-grc2.xml  Homeric hymn   \n426  tlg0033.tlg001.perseus-grc2.xml        Pindar   \n427  tlg0033.tlg002.perseus-grc2.xml        Pindar   \n428  tlg0033.tlg003.perseus-grc2.xml        Pindar   \n429  tlg0033.tlg004.perseus-grc2.xml        Pindar   \n678  tlg0085.tlg001.perseus-grc2.xml     Aeschylus   \n679  tlg0085.tlg002.perseus-grc2.xml     Aeschylus   \n680  tlg0085.tlg003.perseus-grc2.xml     Aeschylus   \n681  tlg0085.tlg004.perseus-grc2.xml     Aeschylus   \n682  tlg0085.tlg005.perseus-grc2.xml     Aeschylus   \n683  tlg0085.tlg006.perseus-grc2.xml     Aeschylus   \n684  tlg0085.tlg007.perseus-grc2.xml     Aeschylus   \n\n                                        title  wordcount    author_id  \\\n208                          Hymn 4 To Hermes       4031  tlg0013herm   \n211                        Hymn 7 To Dionysus        425  tlg0013dyo2   \n223                            Hymn 19 to Pan        336   tlg0013pan   \n426  Odes (Greek). Machine readable text - O.       5875      tlg0033   \n427  Odes (Greek). Machine readable text - P.       7427      tlg0033   \n428  Odes (Greek). Machine readable text - N.       4944      tlg0033   \n429  Odes (Greek). Machine readable text - I.       2899      tlg0033   \n678                         Suppliant Maidens       4977      tlg0085   \n679                                  Persians       5221      tlg0085   \n680                          Prometheus Bound       5943      tlg0085   \n681                      Seven Against Thebes       5157      tlg0085   \n682                                 Agamemnon       8254      tlg0085   \n683                          Libation Bearers       5463      tlg0085   \n684                                 Eumenides       5320      tlg0085   \n\n             doc_id  raw_date  date_avr  \\\n208  tlg0013.tlg004  8-6 B.C.      -5.0   \n211  tlg0013.tlg007  8-6 B.C.      -5.0   \n223  tlg0013.tlg019  8-6 B.C.      -5.0   \n426  tlg0033.tlg001  6-5 B.C.      -5.0   \n427  tlg0033.tlg002  6-5 B.C.      -5.0   \n428  tlg0033.tlg003  6-5 B.C.      -5.0   \n429  tlg0033.tlg004  6-5 B.C.      -5.0   \n678  tlg0085.tlg001  6-5 B.C.      -5.0   \n679  tlg0085.tlg002  6-5 B.C.      -5.0   \n680  tlg0085.tlg003  6-5 B.C.      -5.0   \n681  tlg0085.tlg004  6-5 B.C.      -5.0   \n682  tlg0085.tlg005  6-5 B.C.      -5.0   \n683  tlg0085.tlg006  6-5 B.C.      -5.0   \n684  tlg0085.tlg007  6-5 B.C.      -5.0   \n\n                                            date_probs  date_manual  \\\n208  {'-7.5': 0.33330000000000004, '-6.5': 0.333300...         -7.0   \n211  {'-7.5': 0.33330000000000004, '-6.5': 0.333300...         -7.0   \n223  {'-7.5': 0.33330000000000004, '-6.5': 0.333300...         -7.0   \n426                         {'-5.5': 0.5, '-4.5': 0.5}         -4.5   \n427                         {'-5.5': 0.5, '-4.5': 0.5}         -4.5   \n428                         {'-5.5': 0.5, '-4.5': 0.5}         -4.5   \n429                         {'-5.5': 0.5, '-4.5': 0.5}         -4.5   \n678                         {'-5.5': 0.5, '-4.5': 0.5}         -4.5   \n679                         {'-5.5': 0.5, '-4.5': 0.5}         -4.5   \n680                         {'-5.5': 0.5, '-4.5': 0.5}         -4.5   \n681                         {'-5.5': 0.5, '-4.5': 0.5}         -4.5   \n682                         {'-5.5': 0.5, '-4.5': 0.5}         -4.5   \n683                         {'-5.5': 0.5, '-4.5': 0.5}         -4.5   \n684                         {'-5.5': 0.5, '-4.5': 0.5}         -4.5   \n\n    provenience tlg_epithet  \\\n208       pagan          []   \n211       pagan          []   \n223       pagan          []   \n426       pagan  Lyrici/-ae   \n427       pagan  Lyrici/-ae   \n428       pagan  Lyrici/-ae   \n429       pagan  Lyrici/-ae   \n678       pagan     Tragici   \n679       pagan     Tragici   \n680       pagan     Tragici   \n681       pagan     Tragici   \n682       pagan     Tragici   \n683       pagan     Tragici   \n684       pagan     Tragici   \n\n                                          clean_string  n_sentences  \\\n208  Ἑρμῆν ὕμνει, Μοῦσα, Διὸς καὶ Μαιάδος υἱόν, Κυλ...          332   \n211  ἀμφὶ Διώνυσον, Σεμέλης ἐρικυδέος υἱόν, μνήσομα...           42   \n223  ἀμφί μοι Ἑρμείαο φίλον γόνον ἔννεπε, Μοῦσα, αἰ...           19   \n426   ἄριστον μὲν ὕδωρ, ὁ δὲ χρυσὸς αἰθόμενον πῦρ ἅ...          427   \n427   χρυσέα φόρμιγξ, Ἀπόλλωνος καὶ ἰοπλοκάμων σύνδ...          595   \n428   ἄμπνευμα σεμνὸν Ἀλφεοῦ, κλεινᾶν Συρακοσσᾶν θά...          402   \n429   μᾶτερ ἐμά, τὸ τεόν, χρύσασπι Θήβα, πρᾶγμα καὶ...          222   \n678  Ζεὺς μὲν ἀφίκτωρ ἐπίδοι προφρόνως στόλον ἡμέτε...          527   \n679  Τάδε μὲν Περσῶν τῶν οἰχομένων Ἑλλάδʼ ἐς αἶαν π...          481   \n680  Χθονὸς μὲν ἐς τηλουρὸν ἥκομεν πέδον, Σκύθην ἐς...          590   \n681  Κάδμου πολῖται, χρὴ λέγειν τὰ καίρια ὅστις φυλ...          523   \n682  Φύλαξ θεοὺς μὲν αἰτῶ τῶνδʼ ἀπαλλαγὴν πόνων φρο...          807   \n683   Ἑρμῆ χθόνιε, πατρῷʼ ἐποπτεύων κράτη, σωτὴρ γε...          571   \n684  πρῶτον μὲν εὐχῇ τῇδε πρεσβεύω θεῶν τὴν πρωτόμα...          521   \n\n                                  lemmatized_sentences  GLAUx?  \\\n208  [[Ἑρμῆς, ὑμνέω, Μοῦσα, Ζεύς, Μαιάς, υἱός, Κυλλ...    True   \n211  [[Διόνυσος, Σεμέλη, ἐρικυδής, υἱός, μιμνῄσκω, ...    True   \n223  [[Ἑρμῆς, φίλος, γόνος, ἐνέπω, Μοῦσα, αἰγιπόδης...    True   \n426  [[ἀγαθός, ὕδωρ, χρυσός, αἴθω, πῦρ, διαπρέπω, ν...    True   \n427  [[χρύσεος, φόρμιγξ, Ἀπόλλων, ἰοπλόκαμος, σύνδι...    True   \n428  [[ἀνάπνευμα, σεμνός, Ἀλφεός, κλεινός, Σύρακοσσ...    True   \n429  [[μήτηρ, ἐμός, τεός, χρύσασπις, Θήβη, πρᾶγμα, ...    True   \n678  [[Ζεύς, ἀφίκτωρ, ἐφοράω, στόλος, ἡμέτερος, νήι...    True   \n679  [[Πέρσης, οἴχομαι, Ἑλλάς, αἶα, πιστός, καλέω, ...    True   \n680  [[Χθών, τηλουρός, ἥκω, πέδον, Σκύθης, οἷμος, ἄ...    True   \n681  [[Κάδμος, πολίτης, χρή, λέγω, καίριος, φυλάσσω...    True   \n682  [[Φύλαξ, θεός, αἰτέω, ὅδε, ἀπαλλαγή, πόνος, φρ...    True   \n683  [[Ἑρμῆς, χθόνιος, πατρῷος, ἐποπτεύω, κράτος, σ...    True   \n684  [[πρῶτος, εὐχή, ὅδε, πρεσβεύω, θεός, πρωτόμαντ...    True   \n\n                                               lemmata  lemmata_wordcount  \n208  [Ἑρμῆς, ὑμνέω, Μοῦσα, Ζεύς, Μαιάς, υἱός, Κυλλή...               2599  \n211  [Διόνυσος, Σεμέλη, ἐρικυδής, υἱός, μιμνῄσκω, φ...                267  \n223  [Ἑρμῆς, φίλος, γόνος, ἐνέπω, Μοῦσα, αἰγιπόδης,...                218  \n426  [ἀγαθός, ὕδωρ, χρυσός, αἴθω, πῦρ, διαπρέπω, νύ...               4094  \n427  [χρύσεος, φόρμιγξ, Ἀπόλλων, ἰοπλόκαμος, σύνδικ...               5204  \n428  [ἀνάπνευμα, σεμνός, Ἀλφεός, κλεινός, Σύρακοσσα...               3440  \n429  [μήτηρ, ἐμός, τεός, χρύσασπις, Θήβη, πρᾶγμα, ἀ...               2020  \n678  [Ζεύς, ἀφίκτωρ, ἐφοράω, στόλος, ἡμέτερος, νήιο...               3403  \n679  [Πέρσης, οἴχομαι, Ἑλλάς, αἶα, πιστός, καλέω, ἀ...               3575  \n680  [Χθών, τηλουρός, ἥκω, πέδον, Σκύθης, οἷμος, ἄβ...               3760  \n681  [Κάδμος, πολίτης, χρή, λέγω, καίριος, φυλάσσω,...               3517  \n682  [Φύλαξ, θεός, αἰτέω, ὅδε, ἀπαλλαγή, πόνος, φρο...               5510  \n683  [Ἑρμῆς, χθόνιος, πατρῷος, ἐποπτεύω, κράτος, σω...               3613  \n684  [πρῶτος, εὐχή, ὅδε, πρεσβεύω, θεός, πρωτόμαντι...               3488  ",
      "text/html": "<div>\n<style scoped>\n    .dataframe tbody tr th:only-of-type {\n        vertical-align: middle;\n    }\n\n    .dataframe tbody tr th {\n        vertical-align: top;\n    }\n\n    .dataframe thead th {\n        text-align: right;\n    }\n</style>\n<table border=\"1\" class=\"dataframe\">\n  <thead>\n    <tr style=\"text-align: right;\">\n      <th></th>\n      <th>filename</th>\n      <th>author</th>\n      <th>title</th>\n      <th>wordcount</th>\n      <th>author_id</th>\n      <th>doc_id</th>\n      <th>raw_date</th>\n      <th>date_avr</th>\n      <th>date_probs</th>\n      <th>date_manual</th>\n      <th>provenience</th>\n      <th>tlg_epithet</th>\n      <th>clean_string</th>\n      <th>n_sentences</th>\n      <th>lemmatized_sentences</th>\n      <th>GLAUx?</th>\n      <th>lemmata</th>\n      <th>lemmata_wordcount</th>\n    </tr>\n  </thead>\n  <tbody>\n    <tr>\n      <th>208</th>\n      <td>tlg0013.tlg004.perseus-grc2.xml</td>\n      <td>Homeric hymn</td>\n      <td>Hymn 4 To Hermes</td>\n      <td>4031</td>\n      <td>tlg0013herm</td>\n      <td>tlg0013.tlg004</td>\n      <td>8-6 B.C.</td>\n      <td>-5.0</td>\n      <td>{'-7.5': 0.33330000000000004, '-6.5': 0.333300...</td>\n      <td>-7.0</td>\n      <td>pagan</td>\n      <td>[]</td>\n      <td>Ἑρμῆν ὕμνει, Μοῦσα, Διὸς καὶ Μαιάδος υἱόν, Κυλ...</td>\n      <td>332</td>\n      <td>[[Ἑρμῆς, ὑμνέω, Μοῦσα, Ζεύς, Μαιάς, υἱός, Κυλλ...</td>\n      <td>True</td>\n      <td>[Ἑρμῆς, ὑμνέω, Μοῦσα, Ζεύς, Μαιάς, υἱός, Κυλλή...</td>\n      <td>2599</td>\n    </tr>\n    <tr>\n      <th>211</th>\n      <td>tlg0013.tlg007.perseus-grc2.xml</td>\n      <td>Homeric hymn</td>\n      <td>Hymn 7 To Dionysus</td>\n      <td>425</td>\n      <td>tlg0013dyo2</td>\n      <td>tlg0013.tlg007</td>\n      <td>8-6 B.C.</td>\n      <td>-5.0</td>\n      <td>{'-7.5': 0.33330000000000004, '-6.5': 0.333300...</td>\n      <td>-7.0</td>\n      <td>pagan</td>\n      <td>[]</td>\n      <td>ἀμφὶ Διώνυσον, Σεμέλης ἐρικυδέος υἱόν, μνήσομα...</td>\n      <td>42</td>\n      <td>[[Διόνυσος, Σεμέλη, ἐρικυδής, υἱός, μιμνῄσκω, ...</td>\n      <td>True</td>\n      <td>[Διόνυσος, Σεμέλη, ἐρικυδής, υἱός, μιμνῄσκω, φ...</td>\n      <td>267</td>\n    </tr>\n    <tr>\n      <th>223</th>\n      <td>tlg0013.tlg019.perseus-grc2.xml</td>\n      <td>Homeric hymn</td>\n      <td>Hymn 19 to Pan</td>\n      <td>336</td>\n      <td>tlg0013pan</td>\n      <td>tlg0013.tlg019</td>\n      <td>8-6 B.C.</td>\n      <td>-5.0</td>\n      <td>{'-7.5': 0.33330000000000004, '-6.5': 0.333300...</td>\n      <td>-7.0</td>\n      <td>pagan</td>\n      <td>[]</td>\n      <td>ἀμφί μοι Ἑρμείαο φίλον γόνον ἔννεπε, Μοῦσα, αἰ...</td>\n      <td>19</td>\n      <td>[[Ἑρμῆς, φίλος, γόνος, ἐνέπω, Μοῦσα, αἰγιπόδης...</td>\n      <td>True</td>\n      <td>[Ἑρμῆς, φίλος, γόνος, ἐνέπω, Μοῦσα, αἰγιπόδης,...</td>\n      <td>218</td>\n    </tr>\n    <tr>\n      <th>426</th>\n      <td>tlg0033.tlg001.perseus-grc2.xml</td>\n      <td>Pindar</td>\n      <td>Odes (Greek). Machine readable text - O.</td>\n      <td>5875</td>\n      <td>tlg0033</td>\n      <td>tlg0033.tlg001</td>\n      <td>6-5 B.C.</td>\n      <td>-5.0</td>\n      <td>{'-5.5': 0.5, '-4.5': 0.5}</td>\n      <td>-4.5</td>\n      <td>pagan</td>\n      <td>Lyrici/-ae</td>\n      <td>ἄριστον μὲν ὕδωρ, ὁ δὲ χρυσὸς αἰθόμενον πῦρ ἅ...</td>\n      <td>427</td>\n      <td>[[ἀγαθός, ὕδωρ, χρυσός, αἴθω, πῦρ, διαπρέπω, ν...</td>\n      <td>True</td>\n      <td>[ἀγαθός, ὕδωρ, χρυσός, αἴθω, πῦρ, διαπρέπω, νύ...</td>\n      <td>4094</td>\n    </tr>\n    <tr>\n      <th>427</th>\n      <td>tlg0033.tlg002.perseus-grc2.xml</td>\n      <td>Pindar</td>\n      <td>Odes (Greek). Machine readable text - P.</td>\n      <td>7427</td>\n      <td>tlg0033</td>\n      <td>tlg0033.tlg002</td>\n      <td>6-5 B.C.</td>\n      <td>-5.0</td>\n      <td>{'-5.5': 0.5, '-4.5': 0.5}</td>\n      <td>-4.5</td>\n      <td>pagan</td>\n      <td>Lyrici/-ae</td>\n      <td>χρυσέα φόρμιγξ, Ἀπόλλωνος καὶ ἰοπλοκάμων σύνδ...</td>\n      <td>595</td>\n      <td>[[χρύσεος, φόρμιγξ, Ἀπόλλων, ἰοπλόκαμος, σύνδι...</td>\n      <td>True</td>\n      <td>[χρύσεος, φόρμιγξ, Ἀπόλλων, ἰοπλόκαμος, σύνδικ...</td>\n      <td>5204</td>\n    </tr>\n    <tr>\n      <th>428</th>\n      <td>tlg0033.tlg003.perseus-grc2.xml</td>\n      <td>Pindar</td>\n      <td>Odes (Greek). Machine readable text - N.</td>\n      <td>4944</td>\n      <td>tlg0033</td>\n      <td>tlg0033.tlg003</td>\n      <td>6-5 B.C.</td>\n      <td>-5.0</td>\n      <td>{'-5.5': 0.5, '-4.5': 0.5}</td>\n      <td>-4.5</td>\n      <td>pagan</td>\n      <td>Lyrici/-ae</td>\n      <td>ἄμπνευμα σεμνὸν Ἀλφεοῦ, κλεινᾶν Συρακοσσᾶν θά...</td>\n      <td>402</td>\n      <td>[[ἀνάπνευμα, σεμνός, Ἀλφεός, κλεινός, Σύρακοσσ...</td>\n      <td>True</td>\n      <td>[ἀνάπνευμα, σεμνός, Ἀλφεός, κλεινός, Σύρακοσσα...</td>\n      <td>3440</td>\n    </tr>\n    <tr>\n      <th>429</th>\n      <td>tlg0033.tlg004.perseus-grc2.xml</td>\n      <td>Pindar</td>\n      <td>Odes (Greek). Machine readable text - I.</td>\n      <td>2899</td>\n      <td>tlg0033</td>\n      <td>tlg0033.tlg004</td>\n      <td>6-5 B.C.</td>\n      <td>-5.0</td>\n      <td>{'-5.5': 0.5, '-4.5': 0.5}</td>\n      <td>-4.5</td>\n      <td>pagan</td>\n      <td>Lyrici/-ae</td>\n      <td>μᾶτερ ἐμά, τὸ τεόν, χρύσασπι Θήβα, πρᾶγμα καὶ...</td>\n      <td>222</td>\n      <td>[[μήτηρ, ἐμός, τεός, χρύσασπις, Θήβη, πρᾶγμα, ...</td>\n      <td>True</td>\n      <td>[μήτηρ, ἐμός, τεός, χρύσασπις, Θήβη, πρᾶγμα, ἀ...</td>\n      <td>2020</td>\n    </tr>\n    <tr>\n      <th>678</th>\n      <td>tlg0085.tlg001.perseus-grc2.xml</td>\n      <td>Aeschylus</td>\n      <td>Suppliant Maidens</td>\n      <td>4977</td>\n      <td>tlg0085</td>\n      <td>tlg0085.tlg001</td>\n      <td>6-5 B.C.</td>\n      <td>-5.0</td>\n      <td>{'-5.5': 0.5, '-4.5': 0.5}</td>\n      <td>-4.5</td>\n      <td>pagan</td>\n      <td>Tragici</td>\n      <td>Ζεὺς μὲν ἀφίκτωρ ἐπίδοι προφρόνως στόλον ἡμέτε...</td>\n      <td>527</td>\n      <td>[[Ζεύς, ἀφίκτωρ, ἐφοράω, στόλος, ἡμέτερος, νήι...</td>\n      <td>True</td>\n      <td>[Ζεύς, ἀφίκτωρ, ἐφοράω, στόλος, ἡμέτερος, νήιο...</td>\n      <td>3403</td>\n    </tr>\n    <tr>\n      <th>679</th>\n      <td>tlg0085.tlg002.perseus-grc2.xml</td>\n      <td>Aeschylus</td>\n      <td>Persians</td>\n      <td>5221</td>\n      <td>tlg0085</td>\n      <td>tlg0085.tlg002</td>\n      <td>6-5 B.C.</td>\n      <td>-5.0</td>\n      <td>{'-5.5': 0.5, '-4.5': 0.5}</td>\n      <td>-4.5</td>\n      <td>pagan</td>\n      <td>Tragici</td>\n      <td>Τάδε μὲν Περσῶν τῶν οἰχομένων Ἑλλάδʼ ἐς αἶαν π...</td>\n      <td>481</td>\n      <td>[[Πέρσης, οἴχομαι, Ἑλλάς, αἶα, πιστός, καλέω, ...</td>\n      <td>True</td>\n      <td>[Πέρσης, οἴχομαι, Ἑλλάς, αἶα, πιστός, καλέω, ἀ...</td>\n      <td>3575</td>\n    </tr>\n    <tr>\n      <th>680</th>\n      <td>tlg0085.tlg003.perseus-grc2.xml</td>\n      <td>Aeschylus</td>\n      <td>Prometheus Bound</td>\n      <td>5943</td>\n      <td>tlg0085</td>\n      <td>tlg0085.tlg003</td>\n      <td>6-5 B.C.</td>\n      <td>-5.0</td>\n      <td>{'-5.5': 0.5, '-4.5': 0.5}</td>\n      <td>-4.5</td>\n      <td>pagan</td>\n      <td>Tragici</td>\n      <td>Χθονὸς μὲν ἐς τηλουρὸν ἥκομεν πέδον, Σκύθην ἐς...</td>\n      <td>590</td>\n      <td>[[Χθών, τηλουρός, ἥκω, πέδον, Σκύθης, οἷμος, ἄ...</td>\n      <td>True</td>\n      <td>[Χθών, τηλουρός, ἥκω, πέδον, Σκύθης, οἷμος, ἄβ...</td>\n      <td>3760</td>\n    </tr>\n    <tr>\n      <th>681</th>\n      <td>tlg0085.tlg004.perseus-grc2.xml</td>\n      <td>Aeschylus</td>\n      <td>Seven Against Thebes</td>\n      <td>5157</td>\n      <td>tlg0085</td>\n      <td>tlg0085.tlg004</td>\n      <td>6-5 B.C.</td>\n      <td>-5.0</td>\n      <td>{'-5.5': 0.5, '-4.5': 0.5}</td>\n      <td>-4.5</td>\n      <td>pagan</td>\n      <td>Tragici</td>\n      <td>Κάδμου πολῖται, χρὴ λέγειν τὰ καίρια ὅστις φυλ...</td>\n      <td>523</td>\n      <td>[[Κάδμος, πολίτης, χρή, λέγω, καίριος, φυλάσσω...</td>\n      <td>True</td>\n      <td>[Κάδμος, πολίτης, χρή, λέγω, καίριος, φυλάσσω,...</td>\n      <td>3517</td>\n    </tr>\n    <tr>\n      <th>682</th>\n      <td>tlg0085.tlg005.perseus-grc2.xml</td>\n      <td>Aeschylus</td>\n      <td>Agamemnon</td>\n      <td>8254</td>\n      <td>tlg0085</td>\n      <td>tlg0085.tlg005</td>\n      <td>6-5 B.C.</td>\n      <td>-5.0</td>\n      <td>{'-5.5': 0.5, '-4.5': 0.5}</td>\n      <td>-4.5</td>\n      <td>pagan</td>\n      <td>Tragici</td>\n      <td>Φύλαξ θεοὺς μὲν αἰτῶ τῶνδʼ ἀπαλλαγὴν πόνων φρο...</td>\n      <td>807</td>\n      <td>[[Φύλαξ, θεός, αἰτέω, ὅδε, ἀπαλλαγή, πόνος, φρ...</td>\n      <td>True</td>\n      <td>[Φύλαξ, θεός, αἰτέω, ὅδε, ἀπαλλαγή, πόνος, φρο...</td>\n      <td>5510</td>\n    </tr>\n    <tr>\n      <th>683</th>\n      <td>tlg0085.tlg006.perseus-grc2.xml</td>\n      <td>Aeschylus</td>\n      <td>Libation Bearers</td>\n      <td>5463</td>\n      <td>tlg0085</td>\n      <td>tlg0085.tlg006</td>\n      <td>6-5 B.C.</td>\n      <td>-5.0</td>\n      <td>{'-5.5': 0.5, '-4.5': 0.5}</td>\n      <td>-4.5</td>\n      <td>pagan</td>\n      <td>Tragici</td>\n      <td>Ἑρμῆ χθόνιε, πατρῷʼ ἐποπτεύων κράτη, σωτὴρ γε...</td>\n      <td>571</td>\n      <td>[[Ἑρμῆς, χθόνιος, πατρῷος, ἐποπτεύω, κράτος, σ...</td>\n      <td>True</td>\n      <td>[Ἑρμῆς, χθόνιος, πατρῷος, ἐποπτεύω, κράτος, σω...</td>\n      <td>3613</td>\n    </tr>\n    <tr>\n      <th>684</th>\n      <td>tlg0085.tlg007.perseus-grc2.xml</td>\n      <td>Aeschylus</td>\n      <td>Eumenides</td>\n      <td>5320</td>\n      <td>tlg0085</td>\n      <td>tlg0085.tlg007</td>\n      <td>6-5 B.C.</td>\n      <td>-5.0</td>\n      <td>{'-5.5': 0.5, '-4.5': 0.5}</td>\n      <td>-4.5</td>\n      <td>pagan</td>\n      <td>Tragici</td>\n      <td>πρῶτον μὲν εὐχῇ τῇδε πρεσβεύω θεῶν τὴν πρωτόμα...</td>\n      <td>521</td>\n      <td>[[πρῶτος, εὐχή, ὅδε, πρεσβεύω, θεός, πρωτόμαντ...</td>\n      <td>True</td>\n      <td>[πρῶτος, εὐχή, ὅδε, πρεσβεύω, θεός, πρωτόμαντι...</td>\n      <td>3488</td>\n    </tr>\n  </tbody>\n</table>\n</div>"
     },
     "execution_count": 8,
     "metadata": {},
     "output_type": "execute_result"
    }
   ],
   "source": [
    "LAGT[(LAGT[\"date_avr\"]==-5)]"
   ],
   "metadata": {
    "collapsed": false
   }
  },
  {
   "cell_type": "code",
   "execution_count": 9,
   "outputs": [
    {
     "data": {
      "text/plain": "                              filename                author  \\\n3      tlg0005.tlg001.perseus-grc1.xml            Theocritus   \n4      tlg0005.tlg002.perseus-grc1.xml            Theocritus   \n5        tlg0005.tlg003.1st1K-grc1.xml            Theocritus   \n376    tlg0029.tlg004.perseus-grc1.xml             Dinarchus   \n377    tlg0029.tlg005.perseus-grc1.xml             Dinarchus   \n378    tlg0029.tlg006.perseus-grc1.xml             Dinarchus   \n754      tlg0093.ogl001.1st1K-grc1.xml          Theophrastus   \n755      tlg0093.ogl002.1st1K-grc1.xml          Theophrastus   \n756      tlg0093.tlg001.1st1K-grc1.xml          Theophrastus   \n757      tlg0093.tlg003.1st1K-grc1.xml          Theophrastus   \n758      tlg0093.tlg004.1st1K-grc1.xml          Theophrastus   \n759      tlg0093.tlg005.1st1K-grc1.xml          Theophrastus   \n760      tlg0093.tlg006.1st1K-grc1.xml          Theophrastus   \n761    tlg0093.tlg009.perseus-grc1.xml          Theophrastus   \n762   tlg0093.tlg010x09.1st1K-grc1.xml          Theophrastus   \n829    tlg0341.tlg002.perseus-grc1.xml             Lycophron   \n907    tlg0533.tlg003.perseus-grc1.xml           Callimachus   \n908    tlg0533.tlg004.perseus-grc1.xml           Callimachus   \n909    tlg0533.tlg015.perseus-grc2.xml           Callimachus   \n910    tlg0533.tlg016.perseus-grc2.xml           Callimachus   \n911    tlg0533.tlg017.perseus-grc2.xml           Callimachus   \n912    tlg0533.tlg018.perseus-grc2.xml           Callimachus   \n913    tlg0533.tlg019.perseus-grc2.xml           Callimachus   \n914    tlg0533.tlg020.perseus-grc2.xml           Callimachus   \n950      tlg0541.tlg042.1st1K-grc3.xml       pseudo-Menander   \n1116   tlg0653.tlg001.perseus-grc1.xml       Aratus Solensis   \n1146     tlg0751.tlg034.1st1K-grc1.xml    pseudo-Hippocrates   \n1147     tlg1181.tlg001.1st1K-grc1.xml  Aristarchus of Samos   \n\n                                                  title  wordcount author_id  \\\n3                                               Idylls       19200   tlg0005   \n4                                             Epigrams        1734   tlg0005   \n5                                                Syrinx         77   tlg0005   \n376                                Against Demosthenes        8434   tlg0029   \n377                                Against Aristogiton        2035   tlg0029   \n378                                  Against Philocles        1632   tlg0029   \n754                                   Concerning Odours       5880   tlg0093   \n755                                 Enquiry into Plants       4032   tlg0093   \n756                                 Enquiry into Plants      81451   tlg0093   \n757                            De sensu et sensibilibus       9044   tlg0093   \n758                                        De lapidibus       4290   tlg0093   \n759                                          Περὶ πυρός       6089   tlg0093   \n760                               Ἐκ τῶν μετὰ τὰ φυσικά       3372   tlg0093   \n761                                          Characters       6656   tlg0093   \n762                            Fragmenta varia (13-190)      14685   tlg0093   \n829                                           Alexandra       7477   tlg0341   \n907                                            Epigrams       1951   tlg0533   \n908                                 Epigrams, Fragmenta       4582   tlg0533   \n909                                        Hymn to Zeus        703   tlg0533   \n910                                      Hymn to Apollo        783   tlg0533   \n911                                     Hymn to Artemis       1856   tlg0533   \n912                                       Hymn to Delos       2165   tlg0533   \n913                                      Hymn to Athena        916   tlg0533   \n914                                     Hymn to Demeter        971   tlg0533   \n950   Sententiae (corresponds to quotes from Gregory...        144   tlg0541   \n1116                                         Phaenomena       7811   tlg0653   \n1146                               De septimestri partu       1680   tlg0751   \n1147     De magnitudinibus et distantiis solis et lunae       8032   tlg1181   \n\n              doc_id   raw_date  date_avr  \\\n3     tlg0005.tlg001   4-3 B.C.      -3.0   \n4     tlg0005.tlg002   4-3 B.C.      -3.0   \n5     tlg0005.tlg003   4-3 B.C.      -3.0   \n376   tlg0029.tlg004   4-3 B.C.      -3.0   \n377   tlg0029.tlg005   4-3 B.C.      -3.0   \n378   tlg0029.tlg006   4-3 B.C.      -3.0   \n754   tlg0093.ogl001   4-3 B.C.      -3.0   \n755   tlg0093.ogl002   4-3 B.C.      -3.0   \n756   tlg0093.tlg001   4-3 B.C.      -3.0   \n757   tlg0093.tlg003   4-3 B.C.      -3.0   \n758   tlg0093.tlg004   4-3 B.C.      -3.0   \n759   tlg0093.tlg005   4-3 B.C.      -3.0   \n760   tlg0093.tlg006   4-3 B.C.      -3.0   \n761   tlg0093.tlg009   4-3 B.C.      -3.0   \n762   tlg0093.tlg010   4-3 B.C.      -3.0   \n829   tlg0341.tlg002   4-3 B.C.      -3.0   \n907   tlg0533.tlg003   4-3 B.C.      -3.0   \n908   tlg0533.tlg004   4-3 B.C.      -3.0   \n909   tlg0533.tlg015   4-3 B.C.      -3.0   \n910   tlg0533.tlg016   4-3 B.C.      -3.0   \n911   tlg0533.tlg017   4-3 B.C.      -3.0   \n912   tlg0533.tlg018   4-3 B.C.      -3.0   \n913   tlg0533.tlg019   4-3 B.C.      -3.0   \n914   tlg0533.tlg020   4-3 B.C.      -3.0   \n950   tlg0541.tlg042   4-3 B.C.      -3.0   \n1116  tlg0653.tlg001   4-3 B.C.      -3.0   \n1146  tlg0751.tlg034  p. 5 B.C.      -3.0   \n1147  tlg1181.tlg001   4-3 B.C.      -3.0   \n\n                                             date_probs  date_manual  \\\n3                            {'-3.5': 0.5, '-2.5': 0.5}          NaN   \n4                            {'-3.5': 0.5, '-2.5': 0.5}          NaN   \n5                            {'-3.5': 0.5, '-2.5': 0.5}          NaN   \n376                          {'-3.5': 0.5, '-2.5': 0.5}          NaN   \n377                          {'-3.5': 0.5, '-2.5': 0.5}          NaN   \n378                          {'-3.5': 0.5, '-2.5': 0.5}          NaN   \n754                          {'-3.5': 0.5, '-2.5': 0.5}         -3.5   \n755                          {'-3.5': 0.5, '-2.5': 0.5}         -3.5   \n756                          {'-3.5': 0.5, '-2.5': 0.5}         -3.5   \n757                          {'-3.5': 0.5, '-2.5': 0.5}         -3.5   \n758                          {'-3.5': 0.5, '-2.5': 0.5}         -3.5   \n759                          {'-3.5': 0.5, '-2.5': 0.5}         -3.5   \n760                          {'-3.5': 0.5, '-2.5': 0.5}         -3.5   \n761                          {'-3.5': 0.5, '-2.5': 0.5}         -3.5   \n762                          {'-3.5': 0.5, '-2.5': 0.5}         -3.5   \n829                          {'-3.5': 0.5, '-2.5': 0.5}          NaN   \n907                          {'-3.5': 0.5, '-2.5': 0.5}          NaN   \n908                          {'-3.5': 0.5, '-2.5': 0.5}          NaN   \n909                          {'-3.5': 0.5, '-2.5': 0.5}          NaN   \n910                          {'-3.5': 0.5, '-2.5': 0.5}          NaN   \n911                          {'-3.5': 0.5, '-2.5': 0.5}          NaN   \n912                          {'-3.5': 0.5, '-2.5': 0.5}          NaN   \n913                          {'-3.5': 0.5, '-2.5': 0.5}          NaN   \n914                          {'-3.5': 0.5, '-2.5': 0.5}          NaN   \n950                          {'-3.5': 0.5, '-2.5': 0.5}          NaN   \n1116                         {'-3.5': 0.5, '-2.5': 0.5}          NaN   \n1146  {'14.5': 0.0, '13.5': 0.0, '12.5': 0.0, '11.5'...          NaN   \n1147                         {'-3.5': 0.5, '-2.5': 0.5}          NaN   \n\n     provenience       tlg_epithet  \\\n3                         Bucolici   \n4                         Bucolici   \n5                         Bucolici   \n376                       Oratores   \n377                       Oratores   \n378                       Oratores   \n754        pagan  Philosophici/-ae   \n755        pagan  Philosophici/-ae   \n756        pagan  Philosophici/-ae   \n757        pagan  Philosophici/-ae   \n758        pagan  Philosophici/-ae   \n759        pagan  Philosophici/-ae   \n760        pagan  Philosophici/-ae   \n761        pagan  Philosophici/-ae   \n762        pagan  Philosophici/-ae   \n829                        Tragici   \n907                      Philologi   \n908                      Philologi   \n909                      Philologi   \n910                      Philologi   \n911                      Philologi   \n912                      Philologi   \n913                      Philologi   \n914                      Philologi   \n950                         Comici   \n1116                     Epici/-ae   \n1146                        Medici   \n1147                   Astronomici   \n\n                                           clean_string  n_sentences  \\\n3      ̔Αδύ τι τὸ ψιθύρισμα καὶ ἁ πίτυς αἰπόλε τήνα,...         1982   \n4     τὰ ῥόδα τὰ δροσόεντα καὶ ἁ κατάπυκνος ἐκείνα ἕ...          152   \n5     Οὐδενὸς εὐνάτειρα Μακροπτολέμοιο δὲ μάτηρ μαία...            3   \n376   ὁ μὲν δημαγωγὸς ὑμῖν, ὦ Ἀθηναῖοι, καὶ θανάτου ...          883   \n377   πάνθʼ, ὡς ἔοικεν, ὦ Ἀθηναῖοι, προσδοκητέα ἐστὶ...          216   \n378   τί χρὴ λέγειν πρὸς τῶν θεῶν περὶ τοιούτων ἀνθρ...          186   \n754   Ι. Αἱ ὀσμαὶ τὸ μὲν ὅλον ἐκ μίξεώς εἰσι καθάπερ...          704   \n755   . Σημεῖα ὑδάτων καὶ πνευμάτων καὶ χειμώνων καὶ...          558   \n756   Ι. Τῶν φυτῶν τὰς διαφορὰς καὶ τὴν ἄλλην φύσιν ...        12309   \n757   . . Περὶ δʼ αἰσθήσεως αἱ μὲν πολλαὶ καὶθόλου δ...          662   \n758   . . Τῶν ἐν τῇ γῇ συνισταμένων τά μεν ἐστιν ὕδα...          330   \n759   Ἡ τοῦ πυρὸς φύσις ἰδιαιτάτας ἔχει δυνάμεις τῶν...          388   \n760   Πῶς ἀφορίσαι δεῖ καὶ ποίοις τὴν ὑπὲρ τῶν πρώτω...          196   \n761   ἤδη μὲν καὶ πρότερον πολλάκις ἐπιστήσας τὴν δι...          463   \n762   Θεόφραστος δὲ τὴν αἴσθησιν ἀρχὴν εἶναι πίστεώς...         1844   \n829   λέξω τὰ πάντα νητρεκῶς, ἅ μʼ ἱστορεῖς, ἀρχῆς ἀ...          336   \n907    ξεῖνος Ἀταρνείτης τις ἀνήρετο Πιττακὸν οὕτω τ...          192   \n908    ξεῖνος Ἀταρνείτης τις ἀνείρετο Πιττακὸν οὕτω ...          856   \n909    Ζηνὸς ἔοι τί κεν ἄλλο παρὰ σπονδῆισιν ἀείδειν...           62   \n910    οἷον ὁ τὠπόλλωνος ἐσείσατο δάφνινος ὅρπηξ, οἷ...           71   \n911    Ἄρτεμιν (οὐ γὰρ ἐλαφρὸν ἀειδόντεσσι λαθέσθαι)...          129   \n912    τὴν ἱερήν, ὦ θυμέ, τίνα χρόνον ἢ πότʼ ἀείσεις...          159   \n913    Όσσαι λωτροχόοι τᾶς Παλλάδος ἔξιτε πᾶσαι, ἔξι...           74   \n914    τῶ καλάθω κατιόντος ἐπιφθέγξασθε γυναῖκες ʼΔά...           72   \n950    ἀρχὴν ἁπάντων καὶ τέλος ποιοῦ Θεόν. βίου τὸ κ...           23   \n1116  ἐκ Διὸς ἀρχώμεσθα, τὸν οὐδέποτʼ ἄνδρες ἐῶμεν ἄ...          611   \n1146  . Οἱ δὲ ἑπτάμηνοι γίνονται ἐκ τῶν ἑκατὸν ἡμερέ...           97   \n1147  σ΄. Τὴν σελήνην παρὰ τοῦ ἡλίου τὸ φῶς λαμβάνει...          833   \n\n                                   lemmatized_sentences  GLAUx?  \\\n3     [[ἡδύς, τις, ψιθύρισμα, πίτυς, αἰπόλος, ἐκεῖνο...    True   \n4     [[ῥόδον, δροσόεις, κατάπυκνος, ἐκεῖνος, ἕρπυλλ...    True   \n5     [[εὐνητήρ, μακροπτολέμοιο, μήτηρ, Μαιάς, ἀντιπ...   False   \n376   [[δημαγωγός, Ἀθηναῖος, θάνατος, τιμάω, ἐξελέγχ...    True   \n377   [[πᾶς, ἔοικα, Ἀθηναῖος, προσδοκητέος, εἰμί, ἀκ...    True   \n378   [[τίς, χρή, λέγω, θεός, τοιοῦτος, ἄνθρωπος, χρ...    True   \n754   [[ι], [ὀσμή, ὅλος, μίξεώς, χυμός], [ἄμικτος, ἅ...   False   \n755   [[], [σημεῖον, ὕδωρ, πνεῦμα, χειμών, εὔδιος, γ...   False   \n756   [[ι], [φυτόν, διαφορά, ἄλλος, φύσις, ληπτέος, ...   False   \n757   [[], [], [αἴσθησις, πολύς, καὶθόλου, δοκέω, εἰ...   False   \n758   [[], [], [γῆ, συνισταμένων, ὕδωρ, γῆ], [ὕδωρ, ...   False   \n759   [[πῦρ, φύσις, ἰδιαιτάτας, ἔχω, δύναμις, ἁπλόος...   False   \n760   [[ἀφορίζω, δεῖ, ποῖος, πρῶτος, θεωρία], [φύσις...   False   \n761   [[ἐφίστημι, διάνοια, θαυμάζω, παύω, θαυμάζω, τ...    True   \n762   [[Θεόφραστος, αἴσθησις, ἀρχή, εἰμί, πίστις, φη...   False   \n829   [[λέγω, πᾶς, ἱστορέω, ἀρχή, ἄκρα], [μηκύνω, λό...    True   \n907   [[ξένος, Ἀταρνείτης, τις, ἀνέρομαι, Πιττακός, ...    True   \n908   [[ξένος, Ἀταρνείτης, τις, ἀναλέγω, Πιττακός, Μ...    True   \n909   [[Ζεύς, εἰμί, τίς, ἄλλος, σπονδῆισις, ἀείδω, λ...    True   \n910   [[Ἀπόλλων, εἰσέρχομαι, δάφνινος, ὄρπηξ, ὅλος, ...    True   \n911   [[Ἄρτεμις, ἐλαφρός, ἀείδω, λανθάνω, ὑμνέω, τῆι...    True   \n912   [[ἱερός, θυμός, τίς, χρόνος, ἀείδω, δῆλος, Ἀπό...    True   \n913   [[λωτροχόος, Παλλάς, ἐξέρχομαι, πᾶς, ἐξέρχομαι...    True   \n914   [[κάλαθος, κατέρχομαι, ἐπιφθέγγομαι, γυνή, Δημ...    True   \n950   [[ἀρχή, ἅπας, τέλος, ποῖος, θεός], [βίος, κέρδ...   False   \n1116  [[Ζεύς, ἄρχω, ἀνήρ, ἐάω, ἄρρητος], [μεστός, Ζε...    True   \n1146  [[ἑπτάμηνος, γίγνομαι, ἑκατόν, ἡμέρα, ὀγδοήκον...    True   \n1147  [[σελήνη, ἥλιος, φάος, λαμβάνω], [γῆ, σημειόω,...    True   \n\n                                                lemmata  lemmata_wordcount  \n3     [ἡδύς, τις, ψιθύρισμα, πίτυς, αἰπόλος, ἐκεῖνος...              12016  \n4     [ῥόδον, δροσόεις, κατάπυκνος, ἐκεῖνος, ἕρπυλλο...               1109  \n5     [εὐνητήρ, μακροπτολέμοιο, μήτηρ, Μαιάς, ἀντιπέ...                 60  \n376   [δημαγωγός, Ἀθηναῖος, θάνατος, τιμάω, ἐξελέγχω...               4030  \n377   [πᾶς, ἔοικα, Ἀθηναῖος, προσδοκητέος, εἰμί, ἀκο...                952  \n378   [τίς, χρή, λέγω, θεός, τοιοῦτος, ἄνθρωπος, χρά...                716  \n754   [ι, ὀσμή, ὅλος, μίξεώς, χυμός, ἄμικτος, ἅπας, ...               2477  \n755   [σημεῖον, ὕδωρ, πνεῦμα, χειμών, εὔδιος, γράφω,...               2113  \n756   [ι, φυτόν, διαφορά, ἄλλος, φύσις, ληπτέος, μέρ...              35095  \n757   [αἴσθησις, πολύς, καὶθόλου, δοκέω, εἰμί, ὅμοιο...               3968  \n758   [γῆ, συνισταμένων, ὕδωρ, γῆ, ὕδωρ, μεταλλευόμε...               1928  \n759   [πῦρ, φύσις, ἰδιαιτάτας, ἔχω, δύναμις, ἁπλόος,...               2715  \n760   [ἀφορίζω, δεῖ, ποῖος, πρῶτος, θεωρία, φύσις, π...               1359  \n761   [ἐφίστημι, διάνοια, θαυμάζω, παύω, θαυμάζω, τί...               3645  \n762   [Θεόφραστος, αἴσθησις, ἀρχή, εἰμί, πίστις, φημ...               6451  \n829   [λέγω, πᾶς, ἱστορέω, ἀρχή, ἄκρα, μηκύνω, λόγος...               5587  \n907   [ξένος, Ἀταρνείτης, τις, ἀνέρομαι, Πιττακός, Μ...               1211  \n908   [ξένος, Ἀταρνείτης, τις, ἀναλέγω, Πιττακός, Μυ...               1260  \n909   [Ζεύς, εἰμί, τίς, ἄλλος, σπονδῆισις, ἀείδω, λώ...                425  \n910   [Ἀπόλλων, εἰσέρχομαι, δάφνινος, ὄρπηξ, ὅλος, μ...                507  \n911   [Ἄρτεμις, ἐλαφρός, ἀείδω, λανθάνω, ὑμνέω, τῆι,...               1142  \n912   [ἱερός, θυμός, τίς, χρόνος, ἀείδω, δῆλος, Ἀπόλ...               1366  \n913   [λωτροχόος, Παλλάς, ἐξέρχομαι, πᾶς, ἐξέρχομαι,...                579  \n914   [κάλαθος, κατέρχομαι, ἐπιφθέγγομαι, γυνή, Δημή...                612  \n950   [ἀρχή, ἅπας, τέλος, ποῖος, θεός, βίος, κέρδος,...                 95  \n1116  [Ζεύς, ἄρχω, ἀνήρ, ἐάω, ἄρρητος, μεστός, Ζεύς,...               4555  \n1146  [ἑπτάμηνος, γίγνομαι, ἑκατόν, ἡμέρα, ὀγδοήκοντ...                828  \n1147  [σελήνη, ἥλιος, φάος, λαμβάνω, γῆ, σημειόω, κε...               3403  ",
      "text/html": "<div>\n<style scoped>\n    .dataframe tbody tr th:only-of-type {\n        vertical-align: middle;\n    }\n\n    .dataframe tbody tr th {\n        vertical-align: top;\n    }\n\n    .dataframe thead th {\n        text-align: right;\n    }\n</style>\n<table border=\"1\" class=\"dataframe\">\n  <thead>\n    <tr style=\"text-align: right;\">\n      <th></th>\n      <th>filename</th>\n      <th>author</th>\n      <th>title</th>\n      <th>wordcount</th>\n      <th>author_id</th>\n      <th>doc_id</th>\n      <th>raw_date</th>\n      <th>date_avr</th>\n      <th>date_probs</th>\n      <th>date_manual</th>\n      <th>provenience</th>\n      <th>tlg_epithet</th>\n      <th>clean_string</th>\n      <th>n_sentences</th>\n      <th>lemmatized_sentences</th>\n      <th>GLAUx?</th>\n      <th>lemmata</th>\n      <th>lemmata_wordcount</th>\n    </tr>\n  </thead>\n  <tbody>\n    <tr>\n      <th>3</th>\n      <td>tlg0005.tlg001.perseus-grc1.xml</td>\n      <td>Theocritus</td>\n      <td>Idylls</td>\n      <td>19200</td>\n      <td>tlg0005</td>\n      <td>tlg0005.tlg001</td>\n      <td>4-3 B.C.</td>\n      <td>-3.0</td>\n      <td>{'-3.5': 0.5, '-2.5': 0.5}</td>\n      <td>NaN</td>\n      <td></td>\n      <td>Bucolici</td>\n      <td>̔Αδύ τι τὸ ψιθύρισμα καὶ ἁ πίτυς αἰπόλε τήνα,...</td>\n      <td>1982</td>\n      <td>[[ἡδύς, τις, ψιθύρισμα, πίτυς, αἰπόλος, ἐκεῖνο...</td>\n      <td>True</td>\n      <td>[ἡδύς, τις, ψιθύρισμα, πίτυς, αἰπόλος, ἐκεῖνος...</td>\n      <td>12016</td>\n    </tr>\n    <tr>\n      <th>4</th>\n      <td>tlg0005.tlg002.perseus-grc1.xml</td>\n      <td>Theocritus</td>\n      <td>Epigrams</td>\n      <td>1734</td>\n      <td>tlg0005</td>\n      <td>tlg0005.tlg002</td>\n      <td>4-3 B.C.</td>\n      <td>-3.0</td>\n      <td>{'-3.5': 0.5, '-2.5': 0.5}</td>\n      <td>NaN</td>\n      <td></td>\n      <td>Bucolici</td>\n      <td>τὰ ῥόδα τὰ δροσόεντα καὶ ἁ κατάπυκνος ἐκείνα ἕ...</td>\n      <td>152</td>\n      <td>[[ῥόδον, δροσόεις, κατάπυκνος, ἐκεῖνος, ἕρπυλλ...</td>\n      <td>True</td>\n      <td>[ῥόδον, δροσόεις, κατάπυκνος, ἐκεῖνος, ἕρπυλλο...</td>\n      <td>1109</td>\n    </tr>\n    <tr>\n      <th>5</th>\n      <td>tlg0005.tlg003.1st1K-grc1.xml</td>\n      <td>Theocritus</td>\n      <td>Syrinx</td>\n      <td>77</td>\n      <td>tlg0005</td>\n      <td>tlg0005.tlg003</td>\n      <td>4-3 B.C.</td>\n      <td>-3.0</td>\n      <td>{'-3.5': 0.5, '-2.5': 0.5}</td>\n      <td>NaN</td>\n      <td></td>\n      <td>Bucolici</td>\n      <td>Οὐδενὸς εὐνάτειρα Μακροπτολέμοιο δὲ μάτηρ μαία...</td>\n      <td>3</td>\n      <td>[[εὐνητήρ, μακροπτολέμοιο, μήτηρ, Μαιάς, ἀντιπ...</td>\n      <td>False</td>\n      <td>[εὐνητήρ, μακροπτολέμοιο, μήτηρ, Μαιάς, ἀντιπέ...</td>\n      <td>60</td>\n    </tr>\n    <tr>\n      <th>376</th>\n      <td>tlg0029.tlg004.perseus-grc1.xml</td>\n      <td>Dinarchus</td>\n      <td>Against Demosthenes</td>\n      <td>8434</td>\n      <td>tlg0029</td>\n      <td>tlg0029.tlg004</td>\n      <td>4-3 B.C.</td>\n      <td>-3.0</td>\n      <td>{'-3.5': 0.5, '-2.5': 0.5}</td>\n      <td>NaN</td>\n      <td></td>\n      <td>Oratores</td>\n      <td>ὁ μὲν δημαγωγὸς ὑμῖν, ὦ Ἀθηναῖοι, καὶ θανάτου ...</td>\n      <td>883</td>\n      <td>[[δημαγωγός, Ἀθηναῖος, θάνατος, τιμάω, ἐξελέγχ...</td>\n      <td>True</td>\n      <td>[δημαγωγός, Ἀθηναῖος, θάνατος, τιμάω, ἐξελέγχω...</td>\n      <td>4030</td>\n    </tr>\n    <tr>\n      <th>377</th>\n      <td>tlg0029.tlg005.perseus-grc1.xml</td>\n      <td>Dinarchus</td>\n      <td>Against Aristogiton</td>\n      <td>2035</td>\n      <td>tlg0029</td>\n      <td>tlg0029.tlg005</td>\n      <td>4-3 B.C.</td>\n      <td>-3.0</td>\n      <td>{'-3.5': 0.5, '-2.5': 0.5}</td>\n      <td>NaN</td>\n      <td></td>\n      <td>Oratores</td>\n      <td>πάνθʼ, ὡς ἔοικεν, ὦ Ἀθηναῖοι, προσδοκητέα ἐστὶ...</td>\n      <td>216</td>\n      <td>[[πᾶς, ἔοικα, Ἀθηναῖος, προσδοκητέος, εἰμί, ἀκ...</td>\n      <td>True</td>\n      <td>[πᾶς, ἔοικα, Ἀθηναῖος, προσδοκητέος, εἰμί, ἀκο...</td>\n      <td>952</td>\n    </tr>\n    <tr>\n      <th>378</th>\n      <td>tlg0029.tlg006.perseus-grc1.xml</td>\n      <td>Dinarchus</td>\n      <td>Against Philocles</td>\n      <td>1632</td>\n      <td>tlg0029</td>\n      <td>tlg0029.tlg006</td>\n      <td>4-3 B.C.</td>\n      <td>-3.0</td>\n      <td>{'-3.5': 0.5, '-2.5': 0.5}</td>\n      <td>NaN</td>\n      <td></td>\n      <td>Oratores</td>\n      <td>τί χρὴ λέγειν πρὸς τῶν θεῶν περὶ τοιούτων ἀνθρ...</td>\n      <td>186</td>\n      <td>[[τίς, χρή, λέγω, θεός, τοιοῦτος, ἄνθρωπος, χρ...</td>\n      <td>True</td>\n      <td>[τίς, χρή, λέγω, θεός, τοιοῦτος, ἄνθρωπος, χρά...</td>\n      <td>716</td>\n    </tr>\n    <tr>\n      <th>754</th>\n      <td>tlg0093.ogl001.1st1K-grc1.xml</td>\n      <td>Theophrastus</td>\n      <td>Concerning Odours</td>\n      <td>5880</td>\n      <td>tlg0093</td>\n      <td>tlg0093.ogl001</td>\n      <td>4-3 B.C.</td>\n      <td>-3.0</td>\n      <td>{'-3.5': 0.5, '-2.5': 0.5}</td>\n      <td>-3.5</td>\n      <td>pagan</td>\n      <td>Philosophici/-ae</td>\n      <td>Ι. Αἱ ὀσμαὶ τὸ μὲν ὅλον ἐκ μίξεώς εἰσι καθάπερ...</td>\n      <td>704</td>\n      <td>[[ι], [ὀσμή, ὅλος, μίξεώς, χυμός], [ἄμικτος, ἅ...</td>\n      <td>False</td>\n      <td>[ι, ὀσμή, ὅλος, μίξεώς, χυμός, ἄμικτος, ἅπας, ...</td>\n      <td>2477</td>\n    </tr>\n    <tr>\n      <th>755</th>\n      <td>tlg0093.ogl002.1st1K-grc1.xml</td>\n      <td>Theophrastus</td>\n      <td>Enquiry into Plants</td>\n      <td>4032</td>\n      <td>tlg0093</td>\n      <td>tlg0093.ogl002</td>\n      <td>4-3 B.C.</td>\n      <td>-3.0</td>\n      <td>{'-3.5': 0.5, '-2.5': 0.5}</td>\n      <td>-3.5</td>\n      <td>pagan</td>\n      <td>Philosophici/-ae</td>\n      <td>. Σημεῖα ὑδάτων καὶ πνευμάτων καὶ χειμώνων καὶ...</td>\n      <td>558</td>\n      <td>[[], [σημεῖον, ὕδωρ, πνεῦμα, χειμών, εὔδιος, γ...</td>\n      <td>False</td>\n      <td>[σημεῖον, ὕδωρ, πνεῦμα, χειμών, εὔδιος, γράφω,...</td>\n      <td>2113</td>\n    </tr>\n    <tr>\n      <th>756</th>\n      <td>tlg0093.tlg001.1st1K-grc1.xml</td>\n      <td>Theophrastus</td>\n      <td>Enquiry into Plants</td>\n      <td>81451</td>\n      <td>tlg0093</td>\n      <td>tlg0093.tlg001</td>\n      <td>4-3 B.C.</td>\n      <td>-3.0</td>\n      <td>{'-3.5': 0.5, '-2.5': 0.5}</td>\n      <td>-3.5</td>\n      <td>pagan</td>\n      <td>Philosophici/-ae</td>\n      <td>Ι. Τῶν φυτῶν τὰς διαφορὰς καὶ τὴν ἄλλην φύσιν ...</td>\n      <td>12309</td>\n      <td>[[ι], [φυτόν, διαφορά, ἄλλος, φύσις, ληπτέος, ...</td>\n      <td>False</td>\n      <td>[ι, φυτόν, διαφορά, ἄλλος, φύσις, ληπτέος, μέρ...</td>\n      <td>35095</td>\n    </tr>\n    <tr>\n      <th>757</th>\n      <td>tlg0093.tlg003.1st1K-grc1.xml</td>\n      <td>Theophrastus</td>\n      <td>De sensu et sensibilibus</td>\n      <td>9044</td>\n      <td>tlg0093</td>\n      <td>tlg0093.tlg003</td>\n      <td>4-3 B.C.</td>\n      <td>-3.0</td>\n      <td>{'-3.5': 0.5, '-2.5': 0.5}</td>\n      <td>-3.5</td>\n      <td>pagan</td>\n      <td>Philosophici/-ae</td>\n      <td>. . Περὶ δʼ αἰσθήσεως αἱ μὲν πολλαὶ καὶθόλου δ...</td>\n      <td>662</td>\n      <td>[[], [], [αἴσθησις, πολύς, καὶθόλου, δοκέω, εἰ...</td>\n      <td>False</td>\n      <td>[αἴσθησις, πολύς, καὶθόλου, δοκέω, εἰμί, ὅμοιο...</td>\n      <td>3968</td>\n    </tr>\n    <tr>\n      <th>758</th>\n      <td>tlg0093.tlg004.1st1K-grc1.xml</td>\n      <td>Theophrastus</td>\n      <td>De lapidibus</td>\n      <td>4290</td>\n      <td>tlg0093</td>\n      <td>tlg0093.tlg004</td>\n      <td>4-3 B.C.</td>\n      <td>-3.0</td>\n      <td>{'-3.5': 0.5, '-2.5': 0.5}</td>\n      <td>-3.5</td>\n      <td>pagan</td>\n      <td>Philosophici/-ae</td>\n      <td>. . Τῶν ἐν τῇ γῇ συνισταμένων τά μεν ἐστιν ὕδα...</td>\n      <td>330</td>\n      <td>[[], [], [γῆ, συνισταμένων, ὕδωρ, γῆ], [ὕδωρ, ...</td>\n      <td>False</td>\n      <td>[γῆ, συνισταμένων, ὕδωρ, γῆ, ὕδωρ, μεταλλευόμε...</td>\n      <td>1928</td>\n    </tr>\n    <tr>\n      <th>759</th>\n      <td>tlg0093.tlg005.1st1K-grc1.xml</td>\n      <td>Theophrastus</td>\n      <td>Περὶ πυρός</td>\n      <td>6089</td>\n      <td>tlg0093</td>\n      <td>tlg0093.tlg005</td>\n      <td>4-3 B.C.</td>\n      <td>-3.0</td>\n      <td>{'-3.5': 0.5, '-2.5': 0.5}</td>\n      <td>-3.5</td>\n      <td>pagan</td>\n      <td>Philosophici/-ae</td>\n      <td>Ἡ τοῦ πυρὸς φύσις ἰδιαιτάτας ἔχει δυνάμεις τῶν...</td>\n      <td>388</td>\n      <td>[[πῦρ, φύσις, ἰδιαιτάτας, ἔχω, δύναμις, ἁπλόος...</td>\n      <td>False</td>\n      <td>[πῦρ, φύσις, ἰδιαιτάτας, ἔχω, δύναμις, ἁπλόος,...</td>\n      <td>2715</td>\n    </tr>\n    <tr>\n      <th>760</th>\n      <td>tlg0093.tlg006.1st1K-grc1.xml</td>\n      <td>Theophrastus</td>\n      <td>Ἐκ τῶν μετὰ τὰ φυσικά</td>\n      <td>3372</td>\n      <td>tlg0093</td>\n      <td>tlg0093.tlg006</td>\n      <td>4-3 B.C.</td>\n      <td>-3.0</td>\n      <td>{'-3.5': 0.5, '-2.5': 0.5}</td>\n      <td>-3.5</td>\n      <td>pagan</td>\n      <td>Philosophici/-ae</td>\n      <td>Πῶς ἀφορίσαι δεῖ καὶ ποίοις τὴν ὑπὲρ τῶν πρώτω...</td>\n      <td>196</td>\n      <td>[[ἀφορίζω, δεῖ, ποῖος, πρῶτος, θεωρία], [φύσις...</td>\n      <td>False</td>\n      <td>[ἀφορίζω, δεῖ, ποῖος, πρῶτος, θεωρία, φύσις, π...</td>\n      <td>1359</td>\n    </tr>\n    <tr>\n      <th>761</th>\n      <td>tlg0093.tlg009.perseus-grc1.xml</td>\n      <td>Theophrastus</td>\n      <td>Characters</td>\n      <td>6656</td>\n      <td>tlg0093</td>\n      <td>tlg0093.tlg009</td>\n      <td>4-3 B.C.</td>\n      <td>-3.0</td>\n      <td>{'-3.5': 0.5, '-2.5': 0.5}</td>\n      <td>-3.5</td>\n      <td>pagan</td>\n      <td>Philosophici/-ae</td>\n      <td>ἤδη μὲν καὶ πρότερον πολλάκις ἐπιστήσας τὴν δι...</td>\n      <td>463</td>\n      <td>[[ἐφίστημι, διάνοια, θαυμάζω, παύω, θαυμάζω, τ...</td>\n      <td>True</td>\n      <td>[ἐφίστημι, διάνοια, θαυμάζω, παύω, θαυμάζω, τί...</td>\n      <td>3645</td>\n    </tr>\n    <tr>\n      <th>762</th>\n      <td>tlg0093.tlg010x09.1st1K-grc1.xml</td>\n      <td>Theophrastus</td>\n      <td>Fragmenta varia (13-190)</td>\n      <td>14685</td>\n      <td>tlg0093</td>\n      <td>tlg0093.tlg010</td>\n      <td>4-3 B.C.</td>\n      <td>-3.0</td>\n      <td>{'-3.5': 0.5, '-2.5': 0.5}</td>\n      <td>-3.5</td>\n      <td>pagan</td>\n      <td>Philosophici/-ae</td>\n      <td>Θεόφραστος δὲ τὴν αἴσθησιν ἀρχὴν εἶναι πίστεώς...</td>\n      <td>1844</td>\n      <td>[[Θεόφραστος, αἴσθησις, ἀρχή, εἰμί, πίστις, φη...</td>\n      <td>False</td>\n      <td>[Θεόφραστος, αἴσθησις, ἀρχή, εἰμί, πίστις, φημ...</td>\n      <td>6451</td>\n    </tr>\n    <tr>\n      <th>829</th>\n      <td>tlg0341.tlg002.perseus-grc1.xml</td>\n      <td>Lycophron</td>\n      <td>Alexandra</td>\n      <td>7477</td>\n      <td>tlg0341</td>\n      <td>tlg0341.tlg002</td>\n      <td>4-3 B.C.</td>\n      <td>-3.0</td>\n      <td>{'-3.5': 0.5, '-2.5': 0.5}</td>\n      <td>NaN</td>\n      <td></td>\n      <td>Tragici</td>\n      <td>λέξω τὰ πάντα νητρεκῶς, ἅ μʼ ἱστορεῖς, ἀρχῆς ἀ...</td>\n      <td>336</td>\n      <td>[[λέγω, πᾶς, ἱστορέω, ἀρχή, ἄκρα], [μηκύνω, λό...</td>\n      <td>True</td>\n      <td>[λέγω, πᾶς, ἱστορέω, ἀρχή, ἄκρα, μηκύνω, λόγος...</td>\n      <td>5587</td>\n    </tr>\n    <tr>\n      <th>907</th>\n      <td>tlg0533.tlg003.perseus-grc1.xml</td>\n      <td>Callimachus</td>\n      <td>Epigrams</td>\n      <td>1951</td>\n      <td>tlg0533</td>\n      <td>tlg0533.tlg003</td>\n      <td>4-3 B.C.</td>\n      <td>-3.0</td>\n      <td>{'-3.5': 0.5, '-2.5': 0.5}</td>\n      <td>NaN</td>\n      <td></td>\n      <td>Philologi</td>\n      <td>ξεῖνος Ἀταρνείτης τις ἀνήρετο Πιττακὸν οὕτω τ...</td>\n      <td>192</td>\n      <td>[[ξένος, Ἀταρνείτης, τις, ἀνέρομαι, Πιττακός, ...</td>\n      <td>True</td>\n      <td>[ξένος, Ἀταρνείτης, τις, ἀνέρομαι, Πιττακός, Μ...</td>\n      <td>1211</td>\n    </tr>\n    <tr>\n      <th>908</th>\n      <td>tlg0533.tlg004.perseus-grc1.xml</td>\n      <td>Callimachus</td>\n      <td>Epigrams, Fragmenta</td>\n      <td>4582</td>\n      <td>tlg0533</td>\n      <td>tlg0533.tlg004</td>\n      <td>4-3 B.C.</td>\n      <td>-3.0</td>\n      <td>{'-3.5': 0.5, '-2.5': 0.5}</td>\n      <td>NaN</td>\n      <td></td>\n      <td>Philologi</td>\n      <td>ξεῖνος Ἀταρνείτης τις ἀνείρετο Πιττακὸν οὕτω ...</td>\n      <td>856</td>\n      <td>[[ξένος, Ἀταρνείτης, τις, ἀναλέγω, Πιττακός, Μ...</td>\n      <td>True</td>\n      <td>[ξένος, Ἀταρνείτης, τις, ἀναλέγω, Πιττακός, Μυ...</td>\n      <td>1260</td>\n    </tr>\n    <tr>\n      <th>909</th>\n      <td>tlg0533.tlg015.perseus-grc2.xml</td>\n      <td>Callimachus</td>\n      <td>Hymn to Zeus</td>\n      <td>703</td>\n      <td>tlg0533</td>\n      <td>tlg0533.tlg015</td>\n      <td>4-3 B.C.</td>\n      <td>-3.0</td>\n      <td>{'-3.5': 0.5, '-2.5': 0.5}</td>\n      <td>NaN</td>\n      <td></td>\n      <td>Philologi</td>\n      <td>Ζηνὸς ἔοι τί κεν ἄλλο παρὰ σπονδῆισιν ἀείδειν...</td>\n      <td>62</td>\n      <td>[[Ζεύς, εἰμί, τίς, ἄλλος, σπονδῆισις, ἀείδω, λ...</td>\n      <td>True</td>\n      <td>[Ζεύς, εἰμί, τίς, ἄλλος, σπονδῆισις, ἀείδω, λώ...</td>\n      <td>425</td>\n    </tr>\n    <tr>\n      <th>910</th>\n      <td>tlg0533.tlg016.perseus-grc2.xml</td>\n      <td>Callimachus</td>\n      <td>Hymn to Apollo</td>\n      <td>783</td>\n      <td>tlg0533</td>\n      <td>tlg0533.tlg016</td>\n      <td>4-3 B.C.</td>\n      <td>-3.0</td>\n      <td>{'-3.5': 0.5, '-2.5': 0.5}</td>\n      <td>NaN</td>\n      <td></td>\n      <td>Philologi</td>\n      <td>οἷον ὁ τὠπόλλωνος ἐσείσατο δάφνινος ὅρπηξ, οἷ...</td>\n      <td>71</td>\n      <td>[[Ἀπόλλων, εἰσέρχομαι, δάφνινος, ὄρπηξ, ὅλος, ...</td>\n      <td>True</td>\n      <td>[Ἀπόλλων, εἰσέρχομαι, δάφνινος, ὄρπηξ, ὅλος, μ...</td>\n      <td>507</td>\n    </tr>\n    <tr>\n      <th>911</th>\n      <td>tlg0533.tlg017.perseus-grc2.xml</td>\n      <td>Callimachus</td>\n      <td>Hymn to Artemis</td>\n      <td>1856</td>\n      <td>tlg0533</td>\n      <td>tlg0533.tlg017</td>\n      <td>4-3 B.C.</td>\n      <td>-3.0</td>\n      <td>{'-3.5': 0.5, '-2.5': 0.5}</td>\n      <td>NaN</td>\n      <td></td>\n      <td>Philologi</td>\n      <td>Ἄρτεμιν (οὐ γὰρ ἐλαφρὸν ἀειδόντεσσι λαθέσθαι)...</td>\n      <td>129</td>\n      <td>[[Ἄρτεμις, ἐλαφρός, ἀείδω, λανθάνω, ὑμνέω, τῆι...</td>\n      <td>True</td>\n      <td>[Ἄρτεμις, ἐλαφρός, ἀείδω, λανθάνω, ὑμνέω, τῆι,...</td>\n      <td>1142</td>\n    </tr>\n    <tr>\n      <th>912</th>\n      <td>tlg0533.tlg018.perseus-grc2.xml</td>\n      <td>Callimachus</td>\n      <td>Hymn to Delos</td>\n      <td>2165</td>\n      <td>tlg0533</td>\n      <td>tlg0533.tlg018</td>\n      <td>4-3 B.C.</td>\n      <td>-3.0</td>\n      <td>{'-3.5': 0.5, '-2.5': 0.5}</td>\n      <td>NaN</td>\n      <td></td>\n      <td>Philologi</td>\n      <td>τὴν ἱερήν, ὦ θυμέ, τίνα χρόνον ἢ πότʼ ἀείσεις...</td>\n      <td>159</td>\n      <td>[[ἱερός, θυμός, τίς, χρόνος, ἀείδω, δῆλος, Ἀπό...</td>\n      <td>True</td>\n      <td>[ἱερός, θυμός, τίς, χρόνος, ἀείδω, δῆλος, Ἀπόλ...</td>\n      <td>1366</td>\n    </tr>\n    <tr>\n      <th>913</th>\n      <td>tlg0533.tlg019.perseus-grc2.xml</td>\n      <td>Callimachus</td>\n      <td>Hymn to Athena</td>\n      <td>916</td>\n      <td>tlg0533</td>\n      <td>tlg0533.tlg019</td>\n      <td>4-3 B.C.</td>\n      <td>-3.0</td>\n      <td>{'-3.5': 0.5, '-2.5': 0.5}</td>\n      <td>NaN</td>\n      <td></td>\n      <td>Philologi</td>\n      <td>Όσσαι λωτροχόοι τᾶς Παλλάδος ἔξιτε πᾶσαι, ἔξι...</td>\n      <td>74</td>\n      <td>[[λωτροχόος, Παλλάς, ἐξέρχομαι, πᾶς, ἐξέρχομαι...</td>\n      <td>True</td>\n      <td>[λωτροχόος, Παλλάς, ἐξέρχομαι, πᾶς, ἐξέρχομαι,...</td>\n      <td>579</td>\n    </tr>\n    <tr>\n      <th>914</th>\n      <td>tlg0533.tlg020.perseus-grc2.xml</td>\n      <td>Callimachus</td>\n      <td>Hymn to Demeter</td>\n      <td>971</td>\n      <td>tlg0533</td>\n      <td>tlg0533.tlg020</td>\n      <td>4-3 B.C.</td>\n      <td>-3.0</td>\n      <td>{'-3.5': 0.5, '-2.5': 0.5}</td>\n      <td>NaN</td>\n      <td></td>\n      <td>Philologi</td>\n      <td>τῶ καλάθω κατιόντος ἐπιφθέγξασθε γυναῖκες ʼΔά...</td>\n      <td>72</td>\n      <td>[[κάλαθος, κατέρχομαι, ἐπιφθέγγομαι, γυνή, Δημ...</td>\n      <td>True</td>\n      <td>[κάλαθος, κατέρχομαι, ἐπιφθέγγομαι, γυνή, Δημή...</td>\n      <td>612</td>\n    </tr>\n    <tr>\n      <th>950</th>\n      <td>tlg0541.tlg042.1st1K-grc3.xml</td>\n      <td>pseudo-Menander</td>\n      <td>Sententiae (corresponds to quotes from Gregory...</td>\n      <td>144</td>\n      <td>tlg0541</td>\n      <td>tlg0541.tlg042</td>\n      <td>4-3 B.C.</td>\n      <td>-3.0</td>\n      <td>{'-3.5': 0.5, '-2.5': 0.5}</td>\n      <td>NaN</td>\n      <td></td>\n      <td>Comici</td>\n      <td>ἀρχὴν ἁπάντων καὶ τέλος ποιοῦ Θεόν. βίου τὸ κ...</td>\n      <td>23</td>\n      <td>[[ἀρχή, ἅπας, τέλος, ποῖος, θεός], [βίος, κέρδ...</td>\n      <td>False</td>\n      <td>[ἀρχή, ἅπας, τέλος, ποῖος, θεός, βίος, κέρδος,...</td>\n      <td>95</td>\n    </tr>\n    <tr>\n      <th>1116</th>\n      <td>tlg0653.tlg001.perseus-grc1.xml</td>\n      <td>Aratus Solensis</td>\n      <td>Phaenomena</td>\n      <td>7811</td>\n      <td>tlg0653</td>\n      <td>tlg0653.tlg001</td>\n      <td>4-3 B.C.</td>\n      <td>-3.0</td>\n      <td>{'-3.5': 0.5, '-2.5': 0.5}</td>\n      <td>NaN</td>\n      <td></td>\n      <td>Epici/-ae</td>\n      <td>ἐκ Διὸς ἀρχώμεσθα, τὸν οὐδέποτʼ ἄνδρες ἐῶμεν ἄ...</td>\n      <td>611</td>\n      <td>[[Ζεύς, ἄρχω, ἀνήρ, ἐάω, ἄρρητος], [μεστός, Ζε...</td>\n      <td>True</td>\n      <td>[Ζεύς, ἄρχω, ἀνήρ, ἐάω, ἄρρητος, μεστός, Ζεύς,...</td>\n      <td>4555</td>\n    </tr>\n    <tr>\n      <th>1146</th>\n      <td>tlg0751.tlg034.1st1K-grc1.xml</td>\n      <td>pseudo-Hippocrates</td>\n      <td>De septimestri partu</td>\n      <td>1680</td>\n      <td>tlg0751</td>\n      <td>tlg0751.tlg034</td>\n      <td>p. 5 B.C.</td>\n      <td>-3.0</td>\n      <td>{'14.5': 0.0, '13.5': 0.0, '12.5': 0.0, '11.5'...</td>\n      <td>NaN</td>\n      <td></td>\n      <td>Medici</td>\n      <td>. Οἱ δὲ ἑπτάμηνοι γίνονται ἐκ τῶν ἑκατὸν ἡμερέ...</td>\n      <td>97</td>\n      <td>[[ἑπτάμηνος, γίγνομαι, ἑκατόν, ἡμέρα, ὀγδοήκον...</td>\n      <td>True</td>\n      <td>[ἑπτάμηνος, γίγνομαι, ἑκατόν, ἡμέρα, ὀγδοήκοντ...</td>\n      <td>828</td>\n    </tr>\n    <tr>\n      <th>1147</th>\n      <td>tlg1181.tlg001.1st1K-grc1.xml</td>\n      <td>Aristarchus of Samos</td>\n      <td>De magnitudinibus et distantiis solis et lunae</td>\n      <td>8032</td>\n      <td>tlg1181</td>\n      <td>tlg1181.tlg001</td>\n      <td>4-3 B.C.</td>\n      <td>-3.0</td>\n      <td>{'-3.5': 0.5, '-2.5': 0.5}</td>\n      <td>NaN</td>\n      <td></td>\n      <td>Astronomici</td>\n      <td>σ΄. Τὴν σελήνην παρὰ τοῦ ἡλίου τὸ φῶς λαμβάνει...</td>\n      <td>833</td>\n      <td>[[σελήνη, ἥλιος, φάος, λαμβάνω], [γῆ, σημειόω,...</td>\n      <td>True</td>\n      <td>[σελήνη, ἥλιος, φάος, λαμβάνω, γῆ, σημειόω, κε...</td>\n      <td>3403</td>\n    </tr>\n  </tbody>\n</table>\n</div>"
     },
     "execution_count": 9,
     "metadata": {},
     "output_type": "execute_result"
    }
   ],
   "source": [
    "LAGT[LAGT[\"date_avr\"]==-3]"
   ],
   "metadata": {
    "collapsed": false
   }
  },
  {
   "cell_type": "code",
   "execution_count": 10,
   "outputs": [],
   "source": [
    "border_authors = \"tlg0093\", \"tlg0085\", \"tlg0093\", \"tlg0341\", \"tlg0751\""
   ],
   "metadata": {
    "collapsed": false
   }
  },
  {
   "cell_type": "code",
   "execution_count": 11,
   "outputs": [
    {
     "data": {
      "text/plain": "371"
     },
     "execution_count": 11,
     "metadata": {},
     "output_type": "execute_result"
    }
   ],
   "source": [
    "cgl = LAGT[((LAGT[\"date_avr\"]>-5) & (LAGT[\"date_avr\"]<-3)) | (LAGT[\"author_id\"].isin(border_authors))].copy()\n",
    "len(cgl)"
   ],
   "metadata": {
    "collapsed": false
   }
  },
  {
   "cell_type": "code",
   "execution_count": 12,
   "outputs": [
    {
     "data": {
      "text/plain": "1828293"
     },
     "execution_count": 12,
     "metadata": {},
     "output_type": "execute_result"
    }
   ],
   "source": [
    "cgl[\"lemmata_wordcount\"].sum()"
   ],
   "metadata": {
    "collapsed": false
   }
  },
  {
   "cell_type": "markdown",
   "source": [
    "# Subcorpora"
   ],
   "metadata": {
    "collapsed": false
   }
  },
  {
   "cell_type": "code",
   "execution_count": 13,
   "outputs": [
    {
     "data": {
      "text/plain": "                           filename include?       author  \\\n0     tlg0086.tlg001.1st1K-grc2.xml        y    Aristotle   \n1     tlg0086.tlg002.1st1K-grc2.xml        y    Aristotle   \n2   tlg0086.tlg003.perseus-grc1.xml      NaN    Aristotle   \n3     tlg0086.tlg005.1st1K-grc1.xml        y    Aristotle   \n4     tlg0086.tlg006.1st1K-grc1.xml        y    Aristotle   \n5     tlg0086.tlg008.1st1K-grc1.xml        y    Aristotle   \n6   tlg0086.tlg009.perseus-grc1.xml        y    Aristotle   \n7   tlg0086.tlg010.perseus-grc1.xml        y    Aristotle   \n8     tlg0086.tlg013.1st1K-grc2.xml      NaN    Aristotle   \n9     tlg0086.tlg014.1st1K-grc1.xml        y    Aristotle   \n10    tlg0086.tlg015.1st1K-grc1.xml      NaN  Aristoteles   \n11    tlg0086.tlg016.1st1K-grc1.xml        y    Aristotle   \n12    tlg0086.tlg017.1st1K-grc1.xml        y    Aristotle   \n13    tlg0086.tlg018.1st1K-grc1.xml        y    Aristotle   \n14    tlg0086.tlg020.1st1K-grc1.xml        y    Aristotle   \n15    tlg0086.tlg021.1st1K-grc1.xml        y  Aristoteles   \n16    tlg0086.tlg022.1st1K-grc1.xml        y    Aristotle   \n17    tlg0086.tlg024.1st1K-grc1.xml        y    Aristotle   \n18  tlg0086.tlg025.perseus-grc1.xml        y    Aristotle   \n19    tlg0086.tlg026.1st1K-grc2.xml        y    Aristotle   \n20  tlg0086.tlg029.perseus-grc1.xml        y    Aristotle   \n21    tlg0086.tlg030.1st1K-grc1.xml        y    Aristotle   \n22    tlg0086.tlg031.1st1K-grc1.xml        y    Aristotle   \n23    tlg0086.tlg034.1st1K-grc1.xml        y    Aristotle   \n24  tlg0086.tlg035.perseus-grc1.xml        y    Aristotle   \n25    tlg0086.tlg037.1st1K-grc1.xml      NaN    Aristotle   \n26  tlg0086.tlg038.perseus-grc1.xml        y    Aristotle   \n27    tlg0086.tlg040.1st1K-grc1.xml        y    Aristotle   \n28    tlg0086.tlg041.1st1K-grc1.xml        y    Aristotle   \n29    tlg0086.tlg042.1st1K-grc1.xml        y    Aristotle   \n30    tlg0086.tlg043.1st1K-grc1.xml      NaN  Aristoteles   \n31    tlg0086.tlg044.1st1K-grc1.xml        y    Aristotle   \n32  tlg0086.tlg045.perseus-grc2.xml      NaN    Aristotle   \n33    tlg0086.tlg052.1st1K-grc1.xml      NaN    Aristotle   \n34    tlg0086.tlg054.1st1K-grc1.xml      NaN    Aristotle   \n\n                                                title author_id  \\\n0   Aristotelis Analytica Priora et Posteriora; Ar...   tlg0086   \n1                       De anima; Aritoteles De anima   tlg0086   \n2   Athenian Constitution; Machine readable text; ...   tlg0086   \n3   De caelo; Aristoteles De coelo et De generatio...   tlg0086   \n4                       Categoriae; Aristotelis Opera   tlg0086   \n5        De divinatione per somnum; Aristotelis Opera   tlg0086   \n6   Eudemian Ethics (Greek). Machine readable text...   tlg0086   \n7   Nicomachean Ethics; Machine readable text; ed....   tlg0086   \n8   De generatione et corruptione; Aristoteles De ...   tlg0086   \n9               Historia animalium; Aristotelis Opera   tlg0086   \n10  De animalium motione; Aristotelis De animalium...   tlg0086   \n11                    De insomniis; Aristotelis Opera   tlg0086   \n12              De interpretatione; Aristotelis Opera   tlg0086   \n13  De iuventute et senectute, De vita et morte; A...   tlg0086   \n14  De longitudine et brevitate vitae; Aristotelis...   tlg0086   \n15  De animalium incessu; Aristotelis De animalium...   tlg0086   \n16  Magna Moralia; Aristotelis Quae Feruntur Magna...   tlg0086   \n17     De memoria et reminiscentia; Aristotelis Opera   tlg0086   \n18  Metaphysics (Greek). Machine readable text; Ar...   tlg0086   \n19  Meteorologica; Aristotelis Meteorologicorum Li...   tlg0086   \n20  Economics (Greek). Machine readable text; Aris...   tlg0086   \n21  De partibus animalium; Aristotelis De Partibus...   tlg0086   \n22                       Physica; Aristotelis Physica   tlg0086   \n23                     Ars Poetica; Aristotelis Opera   tlg0086   \n24  Politics (Greek). Machine readable text; ed. W...   tlg0086   \n25                 De respiratione; Aristotelis Opera   tlg0086   \n26                            Rhetoric; Ars Rhetorica   tlg0086   \n27         De sophisticis elenchis; Aristotelis Opera   tlg0086   \n28        De sensu et sensibilibus; Aristotelis Opera   tlg0086   \n29             De somno et vigilia; Aristotelis Opera   tlg0086   \n30  De spiritu; Aristotelis De animalium motione e...   tlg0086   \n31                          Topica; Aristotelis Opera   tlg0086   \n32  Virtues and Vices; Machine readable text; Aris...   tlg0086   \n33  De anima (codicis E fragmenta recensionis a vu...   tlg0086   \n34        Physica (textus alter); Aristotelis Physica   tlg0086   \n\n            doc_id  wordcount  lemmata_wordcount  num_of_sents  \n0   tlg0086.tlg001      59772              12287          3384  \n1   tlg0086.tlg002      20988               5579          1250  \n2   tlg0086.tlg003      16536               4243           817  \n3   tlg0086.tlg005      31395               8370          1856  \n4   tlg0086.tlg006      10317               2865           646  \n5   tlg0086.tlg008       1207                305            66  \n6   tlg0086.tlg009      26361               7183          1604  \n7   tlg0086.tlg010      56638              14995          3715  \n8   tlg0086.tlg013      17173               4452          1025  \n9   tlg0086.tlg014      94068              26141          6094  \n10  tlg0086.tlg015       5689               1188           284  \n11  tlg0086.tlg016       2436                574           121  \n12  tlg0086.tlg017       6273               1500           355  \n13  tlg0086.tlg018       1853                501            94  \n14  tlg0086.tlg020       1793                504           126  \n15  tlg0086.tlg021       9233               1926           415  \n16  tlg0086.tlg022      35300               6144          2024  \n17  tlg0086.tlg024       2519                530           156  \n18  tlg0086.tlg025      77373              19438          4043  \n19  tlg0086.tlg026      74190              12512          4100  \n20  tlg0086.tlg029       6228               1674           355  \n21  tlg0086.tlg030      41267              11032          2222  \n22  tlg0086.tlg031      55568              13295          3122  \n23  tlg0086.tlg034      10228               2690           579  \n24  tlg0086.tlg035      65555              19175          3129  \n25  tlg0086.tlg037       6112               1533           365  \n26  tlg0086.tlg038      43419              10729          2575  \n27  tlg0086.tlg040      14114               3084           874  \n28  tlg0086.tlg041       7872               2126           476  \n29  tlg0086.tlg042       2993                747           176  \n30  tlg0086.tlg043       4900               1114           302  \n31  tlg0086.tlg044      44125              11620          2668  \n32  tlg0086.tlg045       1497                504            77  \n33  tlg0086.tlg052       2476                647           145  \n34  tlg0086.tlg054       2392                508           131  ",
      "text/html": "<div>\n<style scoped>\n    .dataframe tbody tr th:only-of-type {\n        vertical-align: middle;\n    }\n\n    .dataframe tbody tr th {\n        vertical-align: top;\n    }\n\n    .dataframe thead th {\n        text-align: right;\n    }\n</style>\n<table border=\"1\" class=\"dataframe\">\n  <thead>\n    <tr style=\"text-align: right;\">\n      <th></th>\n      <th>filename</th>\n      <th>include?</th>\n      <th>author</th>\n      <th>title</th>\n      <th>author_id</th>\n      <th>doc_id</th>\n      <th>wordcount</th>\n      <th>lemmata_wordcount</th>\n      <th>num_of_sents</th>\n    </tr>\n  </thead>\n  <tbody>\n    <tr>\n      <th>0</th>\n      <td>tlg0086.tlg001.1st1K-grc2.xml</td>\n      <td>y</td>\n      <td>Aristotle</td>\n      <td>Aristotelis Analytica Priora et Posteriora; Ar...</td>\n      <td>tlg0086</td>\n      <td>tlg0086.tlg001</td>\n      <td>59772</td>\n      <td>12287</td>\n      <td>3384</td>\n    </tr>\n    <tr>\n      <th>1</th>\n      <td>tlg0086.tlg002.1st1K-grc2.xml</td>\n      <td>y</td>\n      <td>Aristotle</td>\n      <td>De anima; Aritoteles De anima</td>\n      <td>tlg0086</td>\n      <td>tlg0086.tlg002</td>\n      <td>20988</td>\n      <td>5579</td>\n      <td>1250</td>\n    </tr>\n    <tr>\n      <th>2</th>\n      <td>tlg0086.tlg003.perseus-grc1.xml</td>\n      <td>NaN</td>\n      <td>Aristotle</td>\n      <td>Athenian Constitution; Machine readable text; ...</td>\n      <td>tlg0086</td>\n      <td>tlg0086.tlg003</td>\n      <td>16536</td>\n      <td>4243</td>\n      <td>817</td>\n    </tr>\n    <tr>\n      <th>3</th>\n      <td>tlg0086.tlg005.1st1K-grc1.xml</td>\n      <td>y</td>\n      <td>Aristotle</td>\n      <td>De caelo; Aristoteles De coelo et De generatio...</td>\n      <td>tlg0086</td>\n      <td>tlg0086.tlg005</td>\n      <td>31395</td>\n      <td>8370</td>\n      <td>1856</td>\n    </tr>\n    <tr>\n      <th>4</th>\n      <td>tlg0086.tlg006.1st1K-grc1.xml</td>\n      <td>y</td>\n      <td>Aristotle</td>\n      <td>Categoriae; Aristotelis Opera</td>\n      <td>tlg0086</td>\n      <td>tlg0086.tlg006</td>\n      <td>10317</td>\n      <td>2865</td>\n      <td>646</td>\n    </tr>\n    <tr>\n      <th>5</th>\n      <td>tlg0086.tlg008.1st1K-grc1.xml</td>\n      <td>y</td>\n      <td>Aristotle</td>\n      <td>De divinatione per somnum; Aristotelis Opera</td>\n      <td>tlg0086</td>\n      <td>tlg0086.tlg008</td>\n      <td>1207</td>\n      <td>305</td>\n      <td>66</td>\n    </tr>\n    <tr>\n      <th>6</th>\n      <td>tlg0086.tlg009.perseus-grc1.xml</td>\n      <td>y</td>\n      <td>Aristotle</td>\n      <td>Eudemian Ethics (Greek). Machine readable text...</td>\n      <td>tlg0086</td>\n      <td>tlg0086.tlg009</td>\n      <td>26361</td>\n      <td>7183</td>\n      <td>1604</td>\n    </tr>\n    <tr>\n      <th>7</th>\n      <td>tlg0086.tlg010.perseus-grc1.xml</td>\n      <td>y</td>\n      <td>Aristotle</td>\n      <td>Nicomachean Ethics; Machine readable text; ed....</td>\n      <td>tlg0086</td>\n      <td>tlg0086.tlg010</td>\n      <td>56638</td>\n      <td>14995</td>\n      <td>3715</td>\n    </tr>\n    <tr>\n      <th>8</th>\n      <td>tlg0086.tlg013.1st1K-grc2.xml</td>\n      <td>NaN</td>\n      <td>Aristotle</td>\n      <td>De generatione et corruptione; Aristoteles De ...</td>\n      <td>tlg0086</td>\n      <td>tlg0086.tlg013</td>\n      <td>17173</td>\n      <td>4452</td>\n      <td>1025</td>\n    </tr>\n    <tr>\n      <th>9</th>\n      <td>tlg0086.tlg014.1st1K-grc1.xml</td>\n      <td>y</td>\n      <td>Aristotle</td>\n      <td>Historia animalium; Aristotelis Opera</td>\n      <td>tlg0086</td>\n      <td>tlg0086.tlg014</td>\n      <td>94068</td>\n      <td>26141</td>\n      <td>6094</td>\n    </tr>\n    <tr>\n      <th>10</th>\n      <td>tlg0086.tlg015.1st1K-grc1.xml</td>\n      <td>NaN</td>\n      <td>Aristoteles</td>\n      <td>De animalium motione; Aristotelis De animalium...</td>\n      <td>tlg0086</td>\n      <td>tlg0086.tlg015</td>\n      <td>5689</td>\n      <td>1188</td>\n      <td>284</td>\n    </tr>\n    <tr>\n      <th>11</th>\n      <td>tlg0086.tlg016.1st1K-grc1.xml</td>\n      <td>y</td>\n      <td>Aristotle</td>\n      <td>De insomniis; Aristotelis Opera</td>\n      <td>tlg0086</td>\n      <td>tlg0086.tlg016</td>\n      <td>2436</td>\n      <td>574</td>\n      <td>121</td>\n    </tr>\n    <tr>\n      <th>12</th>\n      <td>tlg0086.tlg017.1st1K-grc1.xml</td>\n      <td>y</td>\n      <td>Aristotle</td>\n      <td>De interpretatione; Aristotelis Opera</td>\n      <td>tlg0086</td>\n      <td>tlg0086.tlg017</td>\n      <td>6273</td>\n      <td>1500</td>\n      <td>355</td>\n    </tr>\n    <tr>\n      <th>13</th>\n      <td>tlg0086.tlg018.1st1K-grc1.xml</td>\n      <td>y</td>\n      <td>Aristotle</td>\n      <td>De iuventute et senectute, De vita et morte; A...</td>\n      <td>tlg0086</td>\n      <td>tlg0086.tlg018</td>\n      <td>1853</td>\n      <td>501</td>\n      <td>94</td>\n    </tr>\n    <tr>\n      <th>14</th>\n      <td>tlg0086.tlg020.1st1K-grc1.xml</td>\n      <td>y</td>\n      <td>Aristotle</td>\n      <td>De longitudine et brevitate vitae; Aristotelis...</td>\n      <td>tlg0086</td>\n      <td>tlg0086.tlg020</td>\n      <td>1793</td>\n      <td>504</td>\n      <td>126</td>\n    </tr>\n    <tr>\n      <th>15</th>\n      <td>tlg0086.tlg021.1st1K-grc1.xml</td>\n      <td>y</td>\n      <td>Aristoteles</td>\n      <td>De animalium incessu; Aristotelis De animalium...</td>\n      <td>tlg0086</td>\n      <td>tlg0086.tlg021</td>\n      <td>9233</td>\n      <td>1926</td>\n      <td>415</td>\n    </tr>\n    <tr>\n      <th>16</th>\n      <td>tlg0086.tlg022.1st1K-grc1.xml</td>\n      <td>y</td>\n      <td>Aristotle</td>\n      <td>Magna Moralia; Aristotelis Quae Feruntur Magna...</td>\n      <td>tlg0086</td>\n      <td>tlg0086.tlg022</td>\n      <td>35300</td>\n      <td>6144</td>\n      <td>2024</td>\n    </tr>\n    <tr>\n      <th>17</th>\n      <td>tlg0086.tlg024.1st1K-grc1.xml</td>\n      <td>y</td>\n      <td>Aristotle</td>\n      <td>De memoria et reminiscentia; Aristotelis Opera</td>\n      <td>tlg0086</td>\n      <td>tlg0086.tlg024</td>\n      <td>2519</td>\n      <td>530</td>\n      <td>156</td>\n    </tr>\n    <tr>\n      <th>18</th>\n      <td>tlg0086.tlg025.perseus-grc1.xml</td>\n      <td>y</td>\n      <td>Aristotle</td>\n      <td>Metaphysics (Greek). Machine readable text; Ar...</td>\n      <td>tlg0086</td>\n      <td>tlg0086.tlg025</td>\n      <td>77373</td>\n      <td>19438</td>\n      <td>4043</td>\n    </tr>\n    <tr>\n      <th>19</th>\n      <td>tlg0086.tlg026.1st1K-grc2.xml</td>\n      <td>y</td>\n      <td>Aristotle</td>\n      <td>Meteorologica; Aristotelis Meteorologicorum Li...</td>\n      <td>tlg0086</td>\n      <td>tlg0086.tlg026</td>\n      <td>74190</td>\n      <td>12512</td>\n      <td>4100</td>\n    </tr>\n    <tr>\n      <th>20</th>\n      <td>tlg0086.tlg029.perseus-grc1.xml</td>\n      <td>y</td>\n      <td>Aristotle</td>\n      <td>Economics (Greek). Machine readable text; Aris...</td>\n      <td>tlg0086</td>\n      <td>tlg0086.tlg029</td>\n      <td>6228</td>\n      <td>1674</td>\n      <td>355</td>\n    </tr>\n    <tr>\n      <th>21</th>\n      <td>tlg0086.tlg030.1st1K-grc1.xml</td>\n      <td>y</td>\n      <td>Aristotle</td>\n      <td>De partibus animalium; Aristotelis De Partibus...</td>\n      <td>tlg0086</td>\n      <td>tlg0086.tlg030</td>\n      <td>41267</td>\n      <td>11032</td>\n      <td>2222</td>\n    </tr>\n    <tr>\n      <th>22</th>\n      <td>tlg0086.tlg031.1st1K-grc1.xml</td>\n      <td>y</td>\n      <td>Aristotle</td>\n      <td>Physica; Aristotelis Physica</td>\n      <td>tlg0086</td>\n      <td>tlg0086.tlg031</td>\n      <td>55568</td>\n      <td>13295</td>\n      <td>3122</td>\n    </tr>\n    <tr>\n      <th>23</th>\n      <td>tlg0086.tlg034.1st1K-grc1.xml</td>\n      <td>y</td>\n      <td>Aristotle</td>\n      <td>Ars Poetica; Aristotelis Opera</td>\n      <td>tlg0086</td>\n      <td>tlg0086.tlg034</td>\n      <td>10228</td>\n      <td>2690</td>\n      <td>579</td>\n    </tr>\n    <tr>\n      <th>24</th>\n      <td>tlg0086.tlg035.perseus-grc1.xml</td>\n      <td>y</td>\n      <td>Aristotle</td>\n      <td>Politics (Greek). Machine readable text; ed. W...</td>\n      <td>tlg0086</td>\n      <td>tlg0086.tlg035</td>\n      <td>65555</td>\n      <td>19175</td>\n      <td>3129</td>\n    </tr>\n    <tr>\n      <th>25</th>\n      <td>tlg0086.tlg037.1st1K-grc1.xml</td>\n      <td>NaN</td>\n      <td>Aristotle</td>\n      <td>De respiratione; Aristotelis Opera</td>\n      <td>tlg0086</td>\n      <td>tlg0086.tlg037</td>\n      <td>6112</td>\n      <td>1533</td>\n      <td>365</td>\n    </tr>\n    <tr>\n      <th>26</th>\n      <td>tlg0086.tlg038.perseus-grc1.xml</td>\n      <td>y</td>\n      <td>Aristotle</td>\n      <td>Rhetoric; Ars Rhetorica</td>\n      <td>tlg0086</td>\n      <td>tlg0086.tlg038</td>\n      <td>43419</td>\n      <td>10729</td>\n      <td>2575</td>\n    </tr>\n    <tr>\n      <th>27</th>\n      <td>tlg0086.tlg040.1st1K-grc1.xml</td>\n      <td>y</td>\n      <td>Aristotle</td>\n      <td>De sophisticis elenchis; Aristotelis Opera</td>\n      <td>tlg0086</td>\n      <td>tlg0086.tlg040</td>\n      <td>14114</td>\n      <td>3084</td>\n      <td>874</td>\n    </tr>\n    <tr>\n      <th>28</th>\n      <td>tlg0086.tlg041.1st1K-grc1.xml</td>\n      <td>y</td>\n      <td>Aristotle</td>\n      <td>De sensu et sensibilibus; Aristotelis Opera</td>\n      <td>tlg0086</td>\n      <td>tlg0086.tlg041</td>\n      <td>7872</td>\n      <td>2126</td>\n      <td>476</td>\n    </tr>\n    <tr>\n      <th>29</th>\n      <td>tlg0086.tlg042.1st1K-grc1.xml</td>\n      <td>y</td>\n      <td>Aristotle</td>\n      <td>De somno et vigilia; Aristotelis Opera</td>\n      <td>tlg0086</td>\n      <td>tlg0086.tlg042</td>\n      <td>2993</td>\n      <td>747</td>\n      <td>176</td>\n    </tr>\n    <tr>\n      <th>30</th>\n      <td>tlg0086.tlg043.1st1K-grc1.xml</td>\n      <td>NaN</td>\n      <td>Aristoteles</td>\n      <td>De spiritu; Aristotelis De animalium motione e...</td>\n      <td>tlg0086</td>\n      <td>tlg0086.tlg043</td>\n      <td>4900</td>\n      <td>1114</td>\n      <td>302</td>\n    </tr>\n    <tr>\n      <th>31</th>\n      <td>tlg0086.tlg044.1st1K-grc1.xml</td>\n      <td>y</td>\n      <td>Aristotle</td>\n      <td>Topica; Aristotelis Opera</td>\n      <td>tlg0086</td>\n      <td>tlg0086.tlg044</td>\n      <td>44125</td>\n      <td>11620</td>\n      <td>2668</td>\n    </tr>\n    <tr>\n      <th>32</th>\n      <td>tlg0086.tlg045.perseus-grc2.xml</td>\n      <td>NaN</td>\n      <td>Aristotle</td>\n      <td>Virtues and Vices; Machine readable text; Aris...</td>\n      <td>tlg0086</td>\n      <td>tlg0086.tlg045</td>\n      <td>1497</td>\n      <td>504</td>\n      <td>77</td>\n    </tr>\n    <tr>\n      <th>33</th>\n      <td>tlg0086.tlg052.1st1K-grc1.xml</td>\n      <td>NaN</td>\n      <td>Aristotle</td>\n      <td>De anima (codicis E fragmenta recensionis a vu...</td>\n      <td>tlg0086</td>\n      <td>tlg0086.tlg052</td>\n      <td>2476</td>\n      <td>647</td>\n      <td>145</td>\n    </tr>\n    <tr>\n      <th>34</th>\n      <td>tlg0086.tlg054.1st1K-grc1.xml</td>\n      <td>NaN</td>\n      <td>Aristotle</td>\n      <td>Physica (textus alter); Aristotelis Physica</td>\n      <td>tlg0086</td>\n      <td>tlg0086.tlg054</td>\n      <td>2392</td>\n      <td>508</td>\n      <td>131</td>\n    </tr>\n  </tbody>\n</table>\n</div>"
     },
     "execution_count": 13,
     "metadata": {},
     "output_type": "execute_result"
    }
   ],
   "source": [
    "# However in the case of Aristotle, we are interested only in a subselection of works associated with his name\n",
    "# we coded them manually in the \"include\" column\n",
    "c_aristotelicum_coded = pd.read_csv(\"../data/c_aristotelicum_OVERVIEW.csv\")\n",
    "c_aristotelicum_coded"
   ],
   "metadata": {
    "collapsed": false
   }
  },
  {
   "cell_type": "code",
   "execution_count": 14,
   "outputs": [
    {
     "data": {
      "text/plain": "['tlg0086.tlg001',\n 'tlg0086.tlg002',\n 'tlg0086.tlg005',\n 'tlg0086.tlg006',\n 'tlg0086.tlg008',\n 'tlg0086.tlg009',\n 'tlg0086.tlg010',\n 'tlg0086.tlg014',\n 'tlg0086.tlg016',\n 'tlg0086.tlg017']"
     },
     "execution_count": 14,
     "metadata": {},
     "output_type": "execute_result"
    }
   ],
   "source": [
    "c_arist_doc_ids = c_aristotelicum_coded[c_aristotelicum_coded[\"include?\"] == \"y\"][\"doc_id\"].tolist()\n",
    "c_arist_doc_ids[:10]"
   ],
   "metadata": {
    "collapsed": false
   }
  },
  {
   "cell_type": "code",
   "execution_count": 15,
   "outputs": [],
   "source": [
    "def assign_subcorpus(row):\n",
    "    subcorp = None\n",
    "    if row[\"author_id\"] == \"tlg0086\":\n",
    "        if row[\"doc_id\"] in c_arist_doc_ids:\n",
    "            subcorp = \"c_aristotelicum\"\n",
    "    if row[\"author_id\"] == \"tlg0627\":\n",
    "        subcorp = \"c_hippocraticum\"\n",
    "    if row[\"author_id\"] == \"tlg0059\":\n",
    "        subcorp = \"c_platonicum\"\n",
    "    return subcorp"
   ],
   "metadata": {
    "collapsed": false
   }
  },
  {
   "cell_type": "code",
   "execution_count": 16,
   "outputs": [],
   "source": [
    "cgl[\"subcorpus\"] = cgl.apply(assign_subcorpus, axis=1)"
   ],
   "metadata": {
    "collapsed": false
   }
  },
  {
   "cell_type": "code",
   "execution_count": 17,
   "outputs": [
    {
     "data": {
      "text/plain": "                            filename       author  \\\n685    tlg0086.tlg001.1st1K-grc2.xml    Aristotle   \n686    tlg0086.tlg002.1st1K-grc2.xml    Aristotle   \n688    tlg0086.tlg005.1st1K-grc1.xml    Aristotle   \n689    tlg0086.tlg006.1st1K-grc1.xml    Aristotle   \n690    tlg0086.tlg008.1st1K-grc1.xml    Aristotle   \n691  tlg0086.tlg009.perseus-grc1.xml    Aristotle   \n692  tlg0086.tlg010.perseus-grc1.xml    Aristotle   \n694    tlg0086.tlg014.1st1K-grc1.xml    Aristotle   \n696    tlg0086.tlg016.1st1K-grc1.xml    Aristotle   \n697    tlg0086.tlg017.1st1K-grc1.xml    Aristotle   \n698    tlg0086.tlg018.1st1K-grc1.xml    Aristotle   \n699    tlg0086.tlg020.1st1K-grc1.xml    Aristotle   \n700    tlg0086.tlg021.1st1K-grc1.xml  Aristoteles   \n701    tlg0086.tlg022.1st1K-grc1.xml    Aristotle   \n702    tlg0086.tlg024.1st1K-grc1.xml    Aristotle   \n703  tlg0086.tlg025.perseus-grc1.xml    Aristotle   \n704    tlg0086.tlg026.1st1K-grc2.xml    Aristotle   \n705  tlg0086.tlg029.perseus-grc1.xml    Aristotle   \n706    tlg0086.tlg030.1st1K-grc1.xml    Aristotle   \n707    tlg0086.tlg031.1st1K-grc1.xml    Aristotle   \n708    tlg0086.tlg034.1st1K-grc1.xml    Aristotle   \n709  tlg0086.tlg035.perseus-grc1.xml    Aristotle   \n711  tlg0086.tlg038.perseus-grc1.xml    Aristotle   \n712    tlg0086.tlg040.1st1K-grc1.xml    Aristotle   \n713    tlg0086.tlg041.1st1K-grc1.xml    Aristotle   \n714    tlg0086.tlg042.1st1K-grc1.xml    Aristotle   \n716    tlg0086.tlg044.1st1K-grc1.xml    Aristotle   \n\n                                              title  wordcount author_id  \\\n685      Aristotelis Analytica Priora et Posteriora      59614   tlg0086   \n686                                        De anima      20912   tlg0086   \n688                                        De caelo      30794   tlg0086   \n689                                      Categoriae      10316   tlg0086   \n690                       De divinatione per somnum       1194   tlg0086   \n691  Eudemian Ethics (Greek). Machine readable text      26345   tlg0086   \n692                              Nicomachean Ethics      56620   tlg0086   \n694                              Historia animalium      93923   tlg0086   \n696                                    De insomniis       2436   tlg0086   \n697                              De interpretatione       6271   tlg0086   \n698     De iuventute et senectute, De vita et morte       1845   tlg0086   \n699               De longitudine et brevitate vitae       1789   tlg0086   \n700                            De animalium incessu       7720   tlg0086   \n701                                   Magna Moralia      32317   tlg0086   \n702                     De memoria et reminiscentia       2515   tlg0086   \n703      Metaphysics (Greek). Machine readable text      78887   tlg0086   \n704                                   Meteorologica      61933   tlg0086   \n705        Economics (Greek). Machine readable text       6226   tlg0086   \n706                           De partibus animalium      40622   tlg0086   \n707                                         Physica      55411   tlg0086   \n708                                     Ars Poetica      10065   tlg0086   \n709         Politics (Greek). Machine readable text      65546   tlg0086   \n711                                        Rhetoric      43385   tlg0086   \n712                         De sophisticis elenchis      14114   tlg0086   \n713                        De sensu et sensibilibus       7798   tlg0086   \n714                             De somno et vigilia       2989   tlg0086   \n716                                          Topica      44116   tlg0086   \n\n             doc_id raw_date  date_avr   date_probs  date_manual provenience  \\\n685  tlg0086.tlg001   4 B.C.      -3.5  {'-3.5': 1}         -3.5       pagan   \n686  tlg0086.tlg002   4 B.C.      -3.5  {'-3.5': 1}         -3.5       pagan   \n688  tlg0086.tlg005   4 B.C.      -3.5  {'-3.5': 1}         -3.5       pagan   \n689  tlg0086.tlg006   4 B.C.      -3.5  {'-3.5': 1}         -3.5       pagan   \n690  tlg0086.tlg008   4 B.C.      -3.5  {'-3.5': 1}         -3.5       pagan   \n691  tlg0086.tlg009   4 B.C.      -3.5  {'-3.5': 1}         -3.5       pagan   \n692  tlg0086.tlg010   4 B.C.      -3.5  {'-3.5': 1}         -3.5       pagan   \n694  tlg0086.tlg014   4 B.C.      -3.5  {'-3.5': 1}         -3.5       pagan   \n696  tlg0086.tlg016   4 B.C.      -3.5  {'-3.5': 1}         -3.5       pagan   \n697  tlg0086.tlg017   4 B.C.      -3.5  {'-3.5': 1}         -3.5       pagan   \n698  tlg0086.tlg018   4 B.C.      -3.5  {'-3.5': 1}         -3.5       pagan   \n699  tlg0086.tlg020   4 B.C.      -3.5  {'-3.5': 1}         -3.5       pagan   \n700  tlg0086.tlg021   4 B.C.      -3.5  {'-3.5': 1}         -3.5       pagan   \n701  tlg0086.tlg022   4 B.C.      -3.5  {'-3.5': 1}         -3.5       pagan   \n702  tlg0086.tlg024   4 B.C.      -3.5  {'-3.5': 1}         -3.5       pagan   \n703  tlg0086.tlg025   4 B.C.      -3.5  {'-3.5': 1}         -3.5       pagan   \n704  tlg0086.tlg026   4 B.C.      -3.5  {'-3.5': 1}         -3.5       pagan   \n705  tlg0086.tlg029   4 B.C.      -3.5  {'-3.5': 1}         -3.5       pagan   \n706  tlg0086.tlg030   4 B.C.      -3.5  {'-3.5': 1}         -3.5       pagan   \n707  tlg0086.tlg031   4 B.C.      -3.5  {'-3.5': 1}         -3.5       pagan   \n708  tlg0086.tlg034   4 B.C.      -3.5  {'-3.5': 1}         -3.5       pagan   \n709  tlg0086.tlg035   4 B.C.      -3.5  {'-3.5': 1}         -3.5       pagan   \n711  tlg0086.tlg038   4 B.C.      -3.5  {'-3.5': 1}         -3.5       pagan   \n712  tlg0086.tlg040   4 B.C.      -3.5  {'-3.5': 1}         -3.5       pagan   \n713  tlg0086.tlg041   4 B.C.      -3.5  {'-3.5': 1}         -3.5       pagan   \n714  tlg0086.tlg042   4 B.C.      -3.5  {'-3.5': 1}         -3.5       pagan   \n716  tlg0086.tlg044   4 B.C.      -3.5  {'-3.5': 1}         -3.5       pagan   \n\n          tlg_epithet                                       clean_string  \\\n685  Philosophici/-ae  Πρῶτον εἰπεῖν περὶ τί καὶ τίνος ἐστὶν ἡ σκέψις...   \n686  Philosophici/-ae  Τῶν καλῶν καὶ τιμίων τὴν εἴδησιν ὑπολαμβάνοντε...   \n688  Philosophici/-ae  Ἡ περὶ φύσεως ἐπιστήμη σχεδὸν ἡ πλείστη φαίνετ...   \n689  Philosophici/-ae  ὉΜΩΝΥΜΑ λέγεται ὧν ὄνομα μόνον κοινόν, ὁ δὲ κα...   \n690  Philosophici/-ae  Περὶ δὲ τῆς μαντικῆς τῆς ἐν τοῖς ὕπνοις γινομέ...   \n691  Philosophici/-ae   ὁ μὲν ἐν Δήλῳ παρὰ τῷ θεῷ τὴν αὑτοῦ γνώμην ἀπ...   \n692  Philosophici/-ae  πᾶσα τέχνη καὶ πᾶσα μέθοδος, ὁμοίως δὲ πρᾶξίς ...   \n694  Philosophici/-ae  ΤΩΝ ἐν τοῖς ζῴοις μορίων τὰ μέν ἐστιν ἀσύνθετα...   \n696  Philosophici/-ae  Μετὰ δὲ ταῦτα περὶ ἐνυπνίου ζητητέον, καὶ πρῶτ...   \n697  Philosophici/-ae  ΠΡΩΤΟΝ δεῖ θέσθαι τί ὄνομα καὶ τί ῥῆμα, ἔπειτα...   \n698  Philosophici/-ae  Περὶ δὲ νεότητος καὶ γήρως καὶ περὶ ζωῆς καὶ θ...   \n699  Philosophici/-ae  Περὶ δὲ τοῦ τὰ μὲν εἶναι μακρόβια τῶν ζῴων τὰ ...   \n700  Philosophici/-ae  Περὶ δὲ τῶν χρησίμων μορίων τοῖς ζῴοις πρὸς τὴ...   \n701  Philosophici/-ae   Ἐπειδὴ προαιρούμεθα λέγειν ὑπὲρ ἠθικῶν, πρῶτο...   \n702  Philosophici/-ae  Περὶ μὲν οῦν τῶν αἰσθητηρίων καὶ τῶν αἰσθητῶν ...   \n703  Philosophici/-ae   πάντες ἄνθρωποι τοῦ εἰδέναι ὀρέγονται φύσει. ...   \n704  Philosophici/-ae   Περὶ μὲν οὖν τῶν πρώτων αἰτίων τῆς φύσεως καὶ...   \n705  Philosophici/-ae   ἡ οἰκονομικὴ καὶ πολιτικὴ διαφέρει οὐ μόνον τ...   \n706  Philosophici/-ae  Περὶ πᾶσαν θεωρίαν τε καὶ μέθοδον, ὁμοίως ταπε...   \n707  Philosophici/-ae  Ἐπειθὴ τὸ εἰδέναι καὶ τὸ ἐπίστασθαι συμβαίνει ...   \n708  Philosophici/-ae  Περι ποιητικῆς αὐτῆς τε καὶ τῶν εἰδῶν αὐτῆς, ἥ...   \n709  Philosophici/-ae   ἐπειδὴ πᾶσαν πόλιν ὁρῶμεν κοινωνίαν τινὰ οὖσα...   \n711  Philosophici/-ae  ἡ ῥητορική ἐστιν ἀντίστροφος τῇ διαλεκτικῇ· ἀμ...   \n712  Philosophici/-ae  ΠΕΡΙ ΣΟΦΙΣΤΙΚΩΝ ΕΛΕΓΧΩΝ. ΠΕΡΙ δὲ τῶν σοφιστικῶ...   \n713  Philosophici/-ae  ἘΠΕΙ δὲ περὶ ψυχῆς καθʼ αὑτὴν διώρισται καὶ πε...   \n714  Philosophici/-ae  Περὶ δὲ ὕπνου καὶ ἐγρηγόρσεως σκεπτέον, τίνα τ...   \n716  Philosophici/-ae  Ἡ ΜΕΝ πρόθεσις τῆς πραγματείας μέθοδον εὑρεῖν,...   \n\n     n_sentences                               lemmatized_sentences  GLAUx?  \\\n685         3710  [[πρῶτος, λέγω, τίς, τίς, εἰμί, σκέψις, ἀπόδει...    True   \n686         1317  [[καλός, τίμιος, εἴδησις, ὑπολαμβάνω, ἕτερος, ...    True   \n688         2276  [[φύσις, ἐπιστήμη, πλεῖστος, φαίνω, σῶμα, μέγε...   False   \n689          660  [[ὀμώνυμος, λέγω, ὄνομα, κοινός, ὄνομα, λόγος,...    True   \n690           68  [[μαντικός, ὕπνος, γίγνομαι, λέγω, συμβαίνω, ἐ...    True   \n691         1683  [[Δῆλος, θεός, γνώμη, ἀποφαίνω, συγγράφω, προπ...    True   \n692         3920  [[πᾶς, τέχνη, πᾶς, μέθοδος, πρᾶξις, προαίρεσις...    True   \n694         6337  [[ζῷον, μόριον, εἰμί, ἀσύνθετος, διαιρέω, ὁμοι...    True   \n696          129  [[οὗτος, ἐνύπνιον, ζητέω, πρῶτος, τίς, ψυχή, φ...    True   \n697          396  [[πρῶτος, δέω, τίθημι, τίς, ὄνομα, τίς, ῥῆμα, ...    True   \n698           95  [[νεότης, γῆρας, ζωή, θάνατος, λέγω], [ἀναπνοή...    True   \n699          133  [[εἰμί, μακρόβιος, ζῷον, βραχύβιος, ζωή, μῆκος...    True   \n700          473  [[χρήσιμος, μόριον, ζῷον, κίνησις, τόπος, ἐπισ...    True   \n701         5370  [[προαιρέω, λέγω, ἠθικός, πρῶτος, εἰμί, σκεπτέ...   False   \n702          171  [[αἰσθητήριον, αἰσθητός, τίς, τρόπος, ἔχω, ἕκα...    True   \n703         4265  [[πᾶς, ἄνθρωπος, οἶδα, ὀρέγω, φύσις], [σημεῖον...    True   \n704         8512  [[πρῶτος, αἴτιος, φύσις, πᾶς, κίνησις, φυσικός...    True   \n705          369  [[οἰκονομικός, πολιτικός, διαφέρω, τοσοῦτος, ο...    True   \n706         2310  [[θεωρία, μέθοδος, ταπεινοτέραν, τίμιος, φαίνω...   False   \n707         3363  [[ἐπειθὴ, οἶδα, ἐπίσταμαι, συμβαίνω, πᾶς, μεθό...   False   \n708          598  [[ποιητικός, αὐτός, εἶδος, αὐτός, τις, δύναμις...    True   \n709         3218  [[πᾶς, πόλις, ὁράω, κοινωνία, τις, εἰμί, πᾶς, ...    True   \n711         2911  [[ῥητορικός, εἰμί, ἀντίστροφος, διαλεκτικός], ...    True   \n712          989  [[σοφιστικός, ἔλεγχος, φαίνω, ἔλεγχος, εἰμί, π...    True   \n713          495  [[ψυχή, διορίζω, δύναμις, ἕκαστος, μόριον, αὐτ...    True   \n714          183  [[ὕπνος, ἐγρήγορσις, σκέπτομαι, τίς, τυγχάνω, ...    True   \n716         2786  [[πρόθεσις, πραγματεία, μέθοδος, εὑρίσκω, δύνα...    True   \n\n                                               lemmata  lemmata_wordcount  \\\n685  [πρῶτος, λέγω, τίς, τίς, εἰμί, σκέψις, ἀπόδειξ...              28821   \n686  [καλός, τίμιος, εἴδησις, ὑπολαμβάνω, ἕτερος, ἕ...              10123   \n688  [φύσις, ἐπιστήμη, πλεῖστος, φαίνω, σῶμα, μέγεθ...              13437   \n689  [ὀμώνυμος, λέγω, ὄνομα, κοινός, ὄνομα, λόγος, ...               5095   \n690  [μαντικός, ὕπνος, γίγνομαι, λέγω, συμβαίνω, ἐν...                586   \n691  [Δῆλος, θεός, γνώμη, ἀποφαίνω, συγγράφω, προπύ...              12306   \n692  [πᾶς, τέχνη, πᾶς, μέθοδος, πρᾶξις, προαίρεσις,...              26642   \n694  [ζῷον, μόριον, εἰμί, ἀσύνθετος, διαιρέω, ὁμοιο...              45626   \n696  [οὗτος, ἐνύπνιον, ζητέω, πρῶτος, τίς, ψυχή, φα...               1163   \n697  [πρῶτος, δέω, τίθημι, τίς, ὄνομα, τίς, ῥῆμα, τ...               2986   \n698  [νεότης, γῆρας, ζωή, θάνατος, λέγω, ἀναπνοή, ἀ...                892   \n699  [εἰμί, μακρόβιος, ζῷον, βραχύβιος, ζωή, μῆκος,...                823   \n700  [χρήσιμος, μόριον, ζῷον, κίνησις, τόπος, ἐπισκ...               2871   \n701  [προαιρέω, λέγω, ἠθικός, πρῶτος, εἰμί, σκεπτέο...              12354   \n702  [αἰσθητήριον, αἰσθητός, τίς, τρόπος, ἔχω, ἕκασ...               1164   \n703  [πᾶς, ἄνθρωπος, οἶδα, ὀρέγω, φύσις, σημεῖον, α...              37797   \n704  [πρῶτος, αἴτιος, φύσις, πᾶς, κίνησις, φυσικός,...              16497   \n705  [οἰκονομικός, πολιτικός, διαφέρω, τοσοῦτος, οἰ...               3466   \n706  [θεωρία, μέθοδος, ταπεινοτέραν, τίμιος, φαίνω,...              18651   \n707  [ἐπειθὴ, οἶδα, ἐπίσταμαι, συμβαίνω, πᾶς, μεθόδ...              23182   \n708  [ποιητικός, αὐτός, εἶδος, αὐτός, τις, δύναμις,...               4967   \n709  [πᾶς, πόλις, ὁράω, κοινωνία, τις, εἰμί, πᾶς, κ...              32784   \n711  [ῥητορικός, εἰμί, ἀντίστροφος, διαλεκτικός, ἀμ...              20604   \n712  [σοφιστικός, ἔλεγχος, φαίνω, ἔλεγχος, εἰμί, πα...               6653   \n713  [ψυχή, διορίζω, δύναμις, ἕκαστος, μόριον, αὐτό...               3755   \n714  [ὕπνος, ἐγρήγορσις, σκέπτομαι, τίς, τυγχάνω, ε...               1475   \n716  [πρόθεσις, πραγματεία, μέθοδος, εὑρίσκω, δύναμ...              20963   \n\n           subcorpus  \n685  c_aristotelicum  \n686  c_aristotelicum  \n688  c_aristotelicum  \n689  c_aristotelicum  \n690  c_aristotelicum  \n691  c_aristotelicum  \n692  c_aristotelicum  \n694  c_aristotelicum  \n696  c_aristotelicum  \n697  c_aristotelicum  \n698  c_aristotelicum  \n699  c_aristotelicum  \n700  c_aristotelicum  \n701  c_aristotelicum  \n702  c_aristotelicum  \n703  c_aristotelicum  \n704  c_aristotelicum  \n705  c_aristotelicum  \n706  c_aristotelicum  \n707  c_aristotelicum  \n708  c_aristotelicum  \n709  c_aristotelicum  \n711  c_aristotelicum  \n712  c_aristotelicum  \n713  c_aristotelicum  \n714  c_aristotelicum  \n716  c_aristotelicum  ",
      "text/html": "<div>\n<style scoped>\n    .dataframe tbody tr th:only-of-type {\n        vertical-align: middle;\n    }\n\n    .dataframe tbody tr th {\n        vertical-align: top;\n    }\n\n    .dataframe thead th {\n        text-align: right;\n    }\n</style>\n<table border=\"1\" class=\"dataframe\">\n  <thead>\n    <tr style=\"text-align: right;\">\n      <th></th>\n      <th>filename</th>\n      <th>author</th>\n      <th>title</th>\n      <th>wordcount</th>\n      <th>author_id</th>\n      <th>doc_id</th>\n      <th>raw_date</th>\n      <th>date_avr</th>\n      <th>date_probs</th>\n      <th>date_manual</th>\n      <th>provenience</th>\n      <th>tlg_epithet</th>\n      <th>clean_string</th>\n      <th>n_sentences</th>\n      <th>lemmatized_sentences</th>\n      <th>GLAUx?</th>\n      <th>lemmata</th>\n      <th>lemmata_wordcount</th>\n      <th>subcorpus</th>\n    </tr>\n  </thead>\n  <tbody>\n    <tr>\n      <th>685</th>\n      <td>tlg0086.tlg001.1st1K-grc2.xml</td>\n      <td>Aristotle</td>\n      <td>Aristotelis Analytica Priora et Posteriora</td>\n      <td>59614</td>\n      <td>tlg0086</td>\n      <td>tlg0086.tlg001</td>\n      <td>4 B.C.</td>\n      <td>-3.5</td>\n      <td>{'-3.5': 1}</td>\n      <td>-3.5</td>\n      <td>pagan</td>\n      <td>Philosophici/-ae</td>\n      <td>Πρῶτον εἰπεῖν περὶ τί καὶ τίνος ἐστὶν ἡ σκέψις...</td>\n      <td>3710</td>\n      <td>[[πρῶτος, λέγω, τίς, τίς, εἰμί, σκέψις, ἀπόδει...</td>\n      <td>True</td>\n      <td>[πρῶτος, λέγω, τίς, τίς, εἰμί, σκέψις, ἀπόδειξ...</td>\n      <td>28821</td>\n      <td>c_aristotelicum</td>\n    </tr>\n    <tr>\n      <th>686</th>\n      <td>tlg0086.tlg002.1st1K-grc2.xml</td>\n      <td>Aristotle</td>\n      <td>De anima</td>\n      <td>20912</td>\n      <td>tlg0086</td>\n      <td>tlg0086.tlg002</td>\n      <td>4 B.C.</td>\n      <td>-3.5</td>\n      <td>{'-3.5': 1}</td>\n      <td>-3.5</td>\n      <td>pagan</td>\n      <td>Philosophici/-ae</td>\n      <td>Τῶν καλῶν καὶ τιμίων τὴν εἴδησιν ὑπολαμβάνοντε...</td>\n      <td>1317</td>\n      <td>[[καλός, τίμιος, εἴδησις, ὑπολαμβάνω, ἕτερος, ...</td>\n      <td>True</td>\n      <td>[καλός, τίμιος, εἴδησις, ὑπολαμβάνω, ἕτερος, ἕ...</td>\n      <td>10123</td>\n      <td>c_aristotelicum</td>\n    </tr>\n    <tr>\n      <th>688</th>\n      <td>tlg0086.tlg005.1st1K-grc1.xml</td>\n      <td>Aristotle</td>\n      <td>De caelo</td>\n      <td>30794</td>\n      <td>tlg0086</td>\n      <td>tlg0086.tlg005</td>\n      <td>4 B.C.</td>\n      <td>-3.5</td>\n      <td>{'-3.5': 1}</td>\n      <td>-3.5</td>\n      <td>pagan</td>\n      <td>Philosophici/-ae</td>\n      <td>Ἡ περὶ φύσεως ἐπιστήμη σχεδὸν ἡ πλείστη φαίνετ...</td>\n      <td>2276</td>\n      <td>[[φύσις, ἐπιστήμη, πλεῖστος, φαίνω, σῶμα, μέγε...</td>\n      <td>False</td>\n      <td>[φύσις, ἐπιστήμη, πλεῖστος, φαίνω, σῶμα, μέγεθ...</td>\n      <td>13437</td>\n      <td>c_aristotelicum</td>\n    </tr>\n    <tr>\n      <th>689</th>\n      <td>tlg0086.tlg006.1st1K-grc1.xml</td>\n      <td>Aristotle</td>\n      <td>Categoriae</td>\n      <td>10316</td>\n      <td>tlg0086</td>\n      <td>tlg0086.tlg006</td>\n      <td>4 B.C.</td>\n      <td>-3.5</td>\n      <td>{'-3.5': 1}</td>\n      <td>-3.5</td>\n      <td>pagan</td>\n      <td>Philosophici/-ae</td>\n      <td>ὉΜΩΝΥΜΑ λέγεται ὧν ὄνομα μόνον κοινόν, ὁ δὲ κα...</td>\n      <td>660</td>\n      <td>[[ὀμώνυμος, λέγω, ὄνομα, κοινός, ὄνομα, λόγος,...</td>\n      <td>True</td>\n      <td>[ὀμώνυμος, λέγω, ὄνομα, κοινός, ὄνομα, λόγος, ...</td>\n      <td>5095</td>\n      <td>c_aristotelicum</td>\n    </tr>\n    <tr>\n      <th>690</th>\n      <td>tlg0086.tlg008.1st1K-grc1.xml</td>\n      <td>Aristotle</td>\n      <td>De divinatione per somnum</td>\n      <td>1194</td>\n      <td>tlg0086</td>\n      <td>tlg0086.tlg008</td>\n      <td>4 B.C.</td>\n      <td>-3.5</td>\n      <td>{'-3.5': 1}</td>\n      <td>-3.5</td>\n      <td>pagan</td>\n      <td>Philosophici/-ae</td>\n      <td>Περὶ δὲ τῆς μαντικῆς τῆς ἐν τοῖς ὕπνοις γινομέ...</td>\n      <td>68</td>\n      <td>[[μαντικός, ὕπνος, γίγνομαι, λέγω, συμβαίνω, ἐ...</td>\n      <td>True</td>\n      <td>[μαντικός, ὕπνος, γίγνομαι, λέγω, συμβαίνω, ἐν...</td>\n      <td>586</td>\n      <td>c_aristotelicum</td>\n    </tr>\n    <tr>\n      <th>691</th>\n      <td>tlg0086.tlg009.perseus-grc1.xml</td>\n      <td>Aristotle</td>\n      <td>Eudemian Ethics (Greek). Machine readable text</td>\n      <td>26345</td>\n      <td>tlg0086</td>\n      <td>tlg0086.tlg009</td>\n      <td>4 B.C.</td>\n      <td>-3.5</td>\n      <td>{'-3.5': 1}</td>\n      <td>-3.5</td>\n      <td>pagan</td>\n      <td>Philosophici/-ae</td>\n      <td>ὁ μὲν ἐν Δήλῳ παρὰ τῷ θεῷ τὴν αὑτοῦ γνώμην ἀπ...</td>\n      <td>1683</td>\n      <td>[[Δῆλος, θεός, γνώμη, ἀποφαίνω, συγγράφω, προπ...</td>\n      <td>True</td>\n      <td>[Δῆλος, θεός, γνώμη, ἀποφαίνω, συγγράφω, προπύ...</td>\n      <td>12306</td>\n      <td>c_aristotelicum</td>\n    </tr>\n    <tr>\n      <th>692</th>\n      <td>tlg0086.tlg010.perseus-grc1.xml</td>\n      <td>Aristotle</td>\n      <td>Nicomachean Ethics</td>\n      <td>56620</td>\n      <td>tlg0086</td>\n      <td>tlg0086.tlg010</td>\n      <td>4 B.C.</td>\n      <td>-3.5</td>\n      <td>{'-3.5': 1}</td>\n      <td>-3.5</td>\n      <td>pagan</td>\n      <td>Philosophici/-ae</td>\n      <td>πᾶσα τέχνη καὶ πᾶσα μέθοδος, ὁμοίως δὲ πρᾶξίς ...</td>\n      <td>3920</td>\n      <td>[[πᾶς, τέχνη, πᾶς, μέθοδος, πρᾶξις, προαίρεσις...</td>\n      <td>True</td>\n      <td>[πᾶς, τέχνη, πᾶς, μέθοδος, πρᾶξις, προαίρεσις,...</td>\n      <td>26642</td>\n      <td>c_aristotelicum</td>\n    </tr>\n    <tr>\n      <th>694</th>\n      <td>tlg0086.tlg014.1st1K-grc1.xml</td>\n      <td>Aristotle</td>\n      <td>Historia animalium</td>\n      <td>93923</td>\n      <td>tlg0086</td>\n      <td>tlg0086.tlg014</td>\n      <td>4 B.C.</td>\n      <td>-3.5</td>\n      <td>{'-3.5': 1}</td>\n      <td>-3.5</td>\n      <td>pagan</td>\n      <td>Philosophici/-ae</td>\n      <td>ΤΩΝ ἐν τοῖς ζῴοις μορίων τὰ μέν ἐστιν ἀσύνθετα...</td>\n      <td>6337</td>\n      <td>[[ζῷον, μόριον, εἰμί, ἀσύνθετος, διαιρέω, ὁμοι...</td>\n      <td>True</td>\n      <td>[ζῷον, μόριον, εἰμί, ἀσύνθετος, διαιρέω, ὁμοιο...</td>\n      <td>45626</td>\n      <td>c_aristotelicum</td>\n    </tr>\n    <tr>\n      <th>696</th>\n      <td>tlg0086.tlg016.1st1K-grc1.xml</td>\n      <td>Aristotle</td>\n      <td>De insomniis</td>\n      <td>2436</td>\n      <td>tlg0086</td>\n      <td>tlg0086.tlg016</td>\n      <td>4 B.C.</td>\n      <td>-3.5</td>\n      <td>{'-3.5': 1}</td>\n      <td>-3.5</td>\n      <td>pagan</td>\n      <td>Philosophici/-ae</td>\n      <td>Μετὰ δὲ ταῦτα περὶ ἐνυπνίου ζητητέον, καὶ πρῶτ...</td>\n      <td>129</td>\n      <td>[[οὗτος, ἐνύπνιον, ζητέω, πρῶτος, τίς, ψυχή, φ...</td>\n      <td>True</td>\n      <td>[οὗτος, ἐνύπνιον, ζητέω, πρῶτος, τίς, ψυχή, φα...</td>\n      <td>1163</td>\n      <td>c_aristotelicum</td>\n    </tr>\n    <tr>\n      <th>697</th>\n      <td>tlg0086.tlg017.1st1K-grc1.xml</td>\n      <td>Aristotle</td>\n      <td>De interpretatione</td>\n      <td>6271</td>\n      <td>tlg0086</td>\n      <td>tlg0086.tlg017</td>\n      <td>4 B.C.</td>\n      <td>-3.5</td>\n      <td>{'-3.5': 1}</td>\n      <td>-3.5</td>\n      <td>pagan</td>\n      <td>Philosophici/-ae</td>\n      <td>ΠΡΩΤΟΝ δεῖ θέσθαι τί ὄνομα καὶ τί ῥῆμα, ἔπειτα...</td>\n      <td>396</td>\n      <td>[[πρῶτος, δέω, τίθημι, τίς, ὄνομα, τίς, ῥῆμα, ...</td>\n      <td>True</td>\n      <td>[πρῶτος, δέω, τίθημι, τίς, ὄνομα, τίς, ῥῆμα, τ...</td>\n      <td>2986</td>\n      <td>c_aristotelicum</td>\n    </tr>\n    <tr>\n      <th>698</th>\n      <td>tlg0086.tlg018.1st1K-grc1.xml</td>\n      <td>Aristotle</td>\n      <td>De iuventute et senectute, De vita et morte</td>\n      <td>1845</td>\n      <td>tlg0086</td>\n      <td>tlg0086.tlg018</td>\n      <td>4 B.C.</td>\n      <td>-3.5</td>\n      <td>{'-3.5': 1}</td>\n      <td>-3.5</td>\n      <td>pagan</td>\n      <td>Philosophici/-ae</td>\n      <td>Περὶ δὲ νεότητος καὶ γήρως καὶ περὶ ζωῆς καὶ θ...</td>\n      <td>95</td>\n      <td>[[νεότης, γῆρας, ζωή, θάνατος, λέγω], [ἀναπνοή...</td>\n      <td>True</td>\n      <td>[νεότης, γῆρας, ζωή, θάνατος, λέγω, ἀναπνοή, ἀ...</td>\n      <td>892</td>\n      <td>c_aristotelicum</td>\n    </tr>\n    <tr>\n      <th>699</th>\n      <td>tlg0086.tlg020.1st1K-grc1.xml</td>\n      <td>Aristotle</td>\n      <td>De longitudine et brevitate vitae</td>\n      <td>1789</td>\n      <td>tlg0086</td>\n      <td>tlg0086.tlg020</td>\n      <td>4 B.C.</td>\n      <td>-3.5</td>\n      <td>{'-3.5': 1}</td>\n      <td>-3.5</td>\n      <td>pagan</td>\n      <td>Philosophici/-ae</td>\n      <td>Περὶ δὲ τοῦ τὰ μὲν εἶναι μακρόβια τῶν ζῴων τὰ ...</td>\n      <td>133</td>\n      <td>[[εἰμί, μακρόβιος, ζῷον, βραχύβιος, ζωή, μῆκος...</td>\n      <td>True</td>\n      <td>[εἰμί, μακρόβιος, ζῷον, βραχύβιος, ζωή, μῆκος,...</td>\n      <td>823</td>\n      <td>c_aristotelicum</td>\n    </tr>\n    <tr>\n      <th>700</th>\n      <td>tlg0086.tlg021.1st1K-grc1.xml</td>\n      <td>Aristoteles</td>\n      <td>De animalium incessu</td>\n      <td>7720</td>\n      <td>tlg0086</td>\n      <td>tlg0086.tlg021</td>\n      <td>4 B.C.</td>\n      <td>-3.5</td>\n      <td>{'-3.5': 1}</td>\n      <td>-3.5</td>\n      <td>pagan</td>\n      <td>Philosophici/-ae</td>\n      <td>Περὶ δὲ τῶν χρησίμων μορίων τοῖς ζῴοις πρὸς τὴ...</td>\n      <td>473</td>\n      <td>[[χρήσιμος, μόριον, ζῷον, κίνησις, τόπος, ἐπισ...</td>\n      <td>True</td>\n      <td>[χρήσιμος, μόριον, ζῷον, κίνησις, τόπος, ἐπισκ...</td>\n      <td>2871</td>\n      <td>c_aristotelicum</td>\n    </tr>\n    <tr>\n      <th>701</th>\n      <td>tlg0086.tlg022.1st1K-grc1.xml</td>\n      <td>Aristotle</td>\n      <td>Magna Moralia</td>\n      <td>32317</td>\n      <td>tlg0086</td>\n      <td>tlg0086.tlg022</td>\n      <td>4 B.C.</td>\n      <td>-3.5</td>\n      <td>{'-3.5': 1}</td>\n      <td>-3.5</td>\n      <td>pagan</td>\n      <td>Philosophici/-ae</td>\n      <td>Ἐπειδὴ προαιρούμεθα λέγειν ὑπὲρ ἠθικῶν, πρῶτο...</td>\n      <td>5370</td>\n      <td>[[προαιρέω, λέγω, ἠθικός, πρῶτος, εἰμί, σκεπτέ...</td>\n      <td>False</td>\n      <td>[προαιρέω, λέγω, ἠθικός, πρῶτος, εἰμί, σκεπτέο...</td>\n      <td>12354</td>\n      <td>c_aristotelicum</td>\n    </tr>\n    <tr>\n      <th>702</th>\n      <td>tlg0086.tlg024.1st1K-grc1.xml</td>\n      <td>Aristotle</td>\n      <td>De memoria et reminiscentia</td>\n      <td>2515</td>\n      <td>tlg0086</td>\n      <td>tlg0086.tlg024</td>\n      <td>4 B.C.</td>\n      <td>-3.5</td>\n      <td>{'-3.5': 1}</td>\n      <td>-3.5</td>\n      <td>pagan</td>\n      <td>Philosophici/-ae</td>\n      <td>Περὶ μὲν οῦν τῶν αἰσθητηρίων καὶ τῶν αἰσθητῶν ...</td>\n      <td>171</td>\n      <td>[[αἰσθητήριον, αἰσθητός, τίς, τρόπος, ἔχω, ἕκα...</td>\n      <td>True</td>\n      <td>[αἰσθητήριον, αἰσθητός, τίς, τρόπος, ἔχω, ἕκασ...</td>\n      <td>1164</td>\n      <td>c_aristotelicum</td>\n    </tr>\n    <tr>\n      <th>703</th>\n      <td>tlg0086.tlg025.perseus-grc1.xml</td>\n      <td>Aristotle</td>\n      <td>Metaphysics (Greek). Machine readable text</td>\n      <td>78887</td>\n      <td>tlg0086</td>\n      <td>tlg0086.tlg025</td>\n      <td>4 B.C.</td>\n      <td>-3.5</td>\n      <td>{'-3.5': 1}</td>\n      <td>-3.5</td>\n      <td>pagan</td>\n      <td>Philosophici/-ae</td>\n      <td>πάντες ἄνθρωποι τοῦ εἰδέναι ὀρέγονται φύσει. ...</td>\n      <td>4265</td>\n      <td>[[πᾶς, ἄνθρωπος, οἶδα, ὀρέγω, φύσις], [σημεῖον...</td>\n      <td>True</td>\n      <td>[πᾶς, ἄνθρωπος, οἶδα, ὀρέγω, φύσις, σημεῖον, α...</td>\n      <td>37797</td>\n      <td>c_aristotelicum</td>\n    </tr>\n    <tr>\n      <th>704</th>\n      <td>tlg0086.tlg026.1st1K-grc2.xml</td>\n      <td>Aristotle</td>\n      <td>Meteorologica</td>\n      <td>61933</td>\n      <td>tlg0086</td>\n      <td>tlg0086.tlg026</td>\n      <td>4 B.C.</td>\n      <td>-3.5</td>\n      <td>{'-3.5': 1}</td>\n      <td>-3.5</td>\n      <td>pagan</td>\n      <td>Philosophici/-ae</td>\n      <td>Περὶ μὲν οὖν τῶν πρώτων αἰτίων τῆς φύσεως καὶ...</td>\n      <td>8512</td>\n      <td>[[πρῶτος, αἴτιος, φύσις, πᾶς, κίνησις, φυσικός...</td>\n      <td>True</td>\n      <td>[πρῶτος, αἴτιος, φύσις, πᾶς, κίνησις, φυσικός,...</td>\n      <td>16497</td>\n      <td>c_aristotelicum</td>\n    </tr>\n    <tr>\n      <th>705</th>\n      <td>tlg0086.tlg029.perseus-grc1.xml</td>\n      <td>Aristotle</td>\n      <td>Economics (Greek). Machine readable text</td>\n      <td>6226</td>\n      <td>tlg0086</td>\n      <td>tlg0086.tlg029</td>\n      <td>4 B.C.</td>\n      <td>-3.5</td>\n      <td>{'-3.5': 1}</td>\n      <td>-3.5</td>\n      <td>pagan</td>\n      <td>Philosophici/-ae</td>\n      <td>ἡ οἰκονομικὴ καὶ πολιτικὴ διαφέρει οὐ μόνον τ...</td>\n      <td>369</td>\n      <td>[[οἰκονομικός, πολιτικός, διαφέρω, τοσοῦτος, ο...</td>\n      <td>True</td>\n      <td>[οἰκονομικός, πολιτικός, διαφέρω, τοσοῦτος, οἰ...</td>\n      <td>3466</td>\n      <td>c_aristotelicum</td>\n    </tr>\n    <tr>\n      <th>706</th>\n      <td>tlg0086.tlg030.1st1K-grc1.xml</td>\n      <td>Aristotle</td>\n      <td>De partibus animalium</td>\n      <td>40622</td>\n      <td>tlg0086</td>\n      <td>tlg0086.tlg030</td>\n      <td>4 B.C.</td>\n      <td>-3.5</td>\n      <td>{'-3.5': 1}</td>\n      <td>-3.5</td>\n      <td>pagan</td>\n      <td>Philosophici/-ae</td>\n      <td>Περὶ πᾶσαν θεωρίαν τε καὶ μέθοδον, ὁμοίως ταπε...</td>\n      <td>2310</td>\n      <td>[[θεωρία, μέθοδος, ταπεινοτέραν, τίμιος, φαίνω...</td>\n      <td>False</td>\n      <td>[θεωρία, μέθοδος, ταπεινοτέραν, τίμιος, φαίνω,...</td>\n      <td>18651</td>\n      <td>c_aristotelicum</td>\n    </tr>\n    <tr>\n      <th>707</th>\n      <td>tlg0086.tlg031.1st1K-grc1.xml</td>\n      <td>Aristotle</td>\n      <td>Physica</td>\n      <td>55411</td>\n      <td>tlg0086</td>\n      <td>tlg0086.tlg031</td>\n      <td>4 B.C.</td>\n      <td>-3.5</td>\n      <td>{'-3.5': 1}</td>\n      <td>-3.5</td>\n      <td>pagan</td>\n      <td>Philosophici/-ae</td>\n      <td>Ἐπειθὴ τὸ εἰδέναι καὶ τὸ ἐπίστασθαι συμβαίνει ...</td>\n      <td>3363</td>\n      <td>[[ἐπειθὴ, οἶδα, ἐπίσταμαι, συμβαίνω, πᾶς, μεθό...</td>\n      <td>False</td>\n      <td>[ἐπειθὴ, οἶδα, ἐπίσταμαι, συμβαίνω, πᾶς, μεθόδ...</td>\n      <td>23182</td>\n      <td>c_aristotelicum</td>\n    </tr>\n    <tr>\n      <th>708</th>\n      <td>tlg0086.tlg034.1st1K-grc1.xml</td>\n      <td>Aristotle</td>\n      <td>Ars Poetica</td>\n      <td>10065</td>\n      <td>tlg0086</td>\n      <td>tlg0086.tlg034</td>\n      <td>4 B.C.</td>\n      <td>-3.5</td>\n      <td>{'-3.5': 1}</td>\n      <td>-3.5</td>\n      <td>pagan</td>\n      <td>Philosophici/-ae</td>\n      <td>Περι ποιητικῆς αὐτῆς τε καὶ τῶν εἰδῶν αὐτῆς, ἥ...</td>\n      <td>598</td>\n      <td>[[ποιητικός, αὐτός, εἶδος, αὐτός, τις, δύναμις...</td>\n      <td>True</td>\n      <td>[ποιητικός, αὐτός, εἶδος, αὐτός, τις, δύναμις,...</td>\n      <td>4967</td>\n      <td>c_aristotelicum</td>\n    </tr>\n    <tr>\n      <th>709</th>\n      <td>tlg0086.tlg035.perseus-grc1.xml</td>\n      <td>Aristotle</td>\n      <td>Politics (Greek). Machine readable text</td>\n      <td>65546</td>\n      <td>tlg0086</td>\n      <td>tlg0086.tlg035</td>\n      <td>4 B.C.</td>\n      <td>-3.5</td>\n      <td>{'-3.5': 1}</td>\n      <td>-3.5</td>\n      <td>pagan</td>\n      <td>Philosophici/-ae</td>\n      <td>ἐπειδὴ πᾶσαν πόλιν ὁρῶμεν κοινωνίαν τινὰ οὖσα...</td>\n      <td>3218</td>\n      <td>[[πᾶς, πόλις, ὁράω, κοινωνία, τις, εἰμί, πᾶς, ...</td>\n      <td>True</td>\n      <td>[πᾶς, πόλις, ὁράω, κοινωνία, τις, εἰμί, πᾶς, κ...</td>\n      <td>32784</td>\n      <td>c_aristotelicum</td>\n    </tr>\n    <tr>\n      <th>711</th>\n      <td>tlg0086.tlg038.perseus-grc1.xml</td>\n      <td>Aristotle</td>\n      <td>Rhetoric</td>\n      <td>43385</td>\n      <td>tlg0086</td>\n      <td>tlg0086.tlg038</td>\n      <td>4 B.C.</td>\n      <td>-3.5</td>\n      <td>{'-3.5': 1}</td>\n      <td>-3.5</td>\n      <td>pagan</td>\n      <td>Philosophici/-ae</td>\n      <td>ἡ ῥητορική ἐστιν ἀντίστροφος τῇ διαλεκτικῇ· ἀμ...</td>\n      <td>2911</td>\n      <td>[[ῥητορικός, εἰμί, ἀντίστροφος, διαλεκτικός], ...</td>\n      <td>True</td>\n      <td>[ῥητορικός, εἰμί, ἀντίστροφος, διαλεκτικός, ἀμ...</td>\n      <td>20604</td>\n      <td>c_aristotelicum</td>\n    </tr>\n    <tr>\n      <th>712</th>\n      <td>tlg0086.tlg040.1st1K-grc1.xml</td>\n      <td>Aristotle</td>\n      <td>De sophisticis elenchis</td>\n      <td>14114</td>\n      <td>tlg0086</td>\n      <td>tlg0086.tlg040</td>\n      <td>4 B.C.</td>\n      <td>-3.5</td>\n      <td>{'-3.5': 1}</td>\n      <td>-3.5</td>\n      <td>pagan</td>\n      <td>Philosophici/-ae</td>\n      <td>ΠΕΡΙ ΣΟΦΙΣΤΙΚΩΝ ΕΛΕΓΧΩΝ. ΠΕΡΙ δὲ τῶν σοφιστικῶ...</td>\n      <td>989</td>\n      <td>[[σοφιστικός, ἔλεγχος, φαίνω, ἔλεγχος, εἰμί, π...</td>\n      <td>True</td>\n      <td>[σοφιστικός, ἔλεγχος, φαίνω, ἔλεγχος, εἰμί, πα...</td>\n      <td>6653</td>\n      <td>c_aristotelicum</td>\n    </tr>\n    <tr>\n      <th>713</th>\n      <td>tlg0086.tlg041.1st1K-grc1.xml</td>\n      <td>Aristotle</td>\n      <td>De sensu et sensibilibus</td>\n      <td>7798</td>\n      <td>tlg0086</td>\n      <td>tlg0086.tlg041</td>\n      <td>4 B.C.</td>\n      <td>-3.5</td>\n      <td>{'-3.5': 1}</td>\n      <td>-3.5</td>\n      <td>pagan</td>\n      <td>Philosophici/-ae</td>\n      <td>ἘΠΕΙ δὲ περὶ ψυχῆς καθʼ αὑτὴν διώρισται καὶ πε...</td>\n      <td>495</td>\n      <td>[[ψυχή, διορίζω, δύναμις, ἕκαστος, μόριον, αὐτ...</td>\n      <td>True</td>\n      <td>[ψυχή, διορίζω, δύναμις, ἕκαστος, μόριον, αὐτό...</td>\n      <td>3755</td>\n      <td>c_aristotelicum</td>\n    </tr>\n    <tr>\n      <th>714</th>\n      <td>tlg0086.tlg042.1st1K-grc1.xml</td>\n      <td>Aristotle</td>\n      <td>De somno et vigilia</td>\n      <td>2989</td>\n      <td>tlg0086</td>\n      <td>tlg0086.tlg042</td>\n      <td>4 B.C.</td>\n      <td>-3.5</td>\n      <td>{'-3.5': 1}</td>\n      <td>-3.5</td>\n      <td>pagan</td>\n      <td>Philosophici/-ae</td>\n      <td>Περὶ δὲ ὕπνου καὶ ἐγρηγόρσεως σκεπτέον, τίνα τ...</td>\n      <td>183</td>\n      <td>[[ὕπνος, ἐγρήγορσις, σκέπτομαι, τίς, τυγχάνω, ...</td>\n      <td>True</td>\n      <td>[ὕπνος, ἐγρήγορσις, σκέπτομαι, τίς, τυγχάνω, ε...</td>\n      <td>1475</td>\n      <td>c_aristotelicum</td>\n    </tr>\n    <tr>\n      <th>716</th>\n      <td>tlg0086.tlg044.1st1K-grc1.xml</td>\n      <td>Aristotle</td>\n      <td>Topica</td>\n      <td>44116</td>\n      <td>tlg0086</td>\n      <td>tlg0086.tlg044</td>\n      <td>4 B.C.</td>\n      <td>-3.5</td>\n      <td>{'-3.5': 1}</td>\n      <td>-3.5</td>\n      <td>pagan</td>\n      <td>Philosophici/-ae</td>\n      <td>Ἡ ΜΕΝ πρόθεσις τῆς πραγματείας μέθοδον εὑρεῖν,...</td>\n      <td>2786</td>\n      <td>[[πρόθεσις, πραγματεία, μέθοδος, εὑρίσκω, δύνα...</td>\n      <td>True</td>\n      <td>[πρόθεσις, πραγματεία, μέθοδος, εὑρίσκω, δύναμ...</td>\n      <td>20963</td>\n      <td>c_aristotelicum</td>\n    </tr>\n  </tbody>\n</table>\n</div>"
     },
     "execution_count": 17,
     "metadata": {},
     "output_type": "execute_result"
    }
   ],
   "source": [
    "# test\n",
    "cgl[cgl[\"subcorpus\"]==\"c_aristotelicum\"]\n"
   ],
   "metadata": {
    "collapsed": false
   }
  },
  {
   "cell_type": "code",
   "execution_count": 18,
   "outputs": [
    {
     "data": {
      "text/plain": "340"
     },
     "execution_count": 18,
     "metadata": {},
     "output_type": "execute_result"
    }
   ],
   "source": [
    "cgl[\"GLAUx?\"].sum()"
   ],
   "metadata": {
    "collapsed": false
   }
  },
  {
   "cell_type": "markdown",
   "source": [
    "# Testing replacements"
   ],
   "metadata": {
    "collapsed": false
   }
  },
  {
   "cell_type": "code",
   "execution_count": 19,
   "outputs": [],
   "source": [
    "cgl_list = []\n",
    "for list_element in cgl[\"lemmata\"].tolist():\n",
    "    cgl_list.extend(list_element)"
   ],
   "metadata": {
    "collapsed": false
   }
  },
  {
   "cell_type": "code",
   "execution_count": 20,
   "outputs": [],
   "source": [
    "keyterm_patterns = [(\"^λ[υ|ύ]π.+\", \"λύπ*\"), (\"[α|ά|ἀ|ἄ]λγ.+\", \"ἄλγ*\"), (\"^[ὀ|ὠ]δ[ύ|υ]ν.\", \"ὀδύν*\"), (\"^π[ό|ο]ν[ο|ό|έ|ε|η|ή|ῆ](?!ρ).+\", \"πόνο*\")]"
   ],
   "metadata": {
    "collapsed": false
   }
  },
  {
   "cell_type": "code",
   "execution_count": 21,
   "outputs": [
    {
     "data": {
      "text/plain": "                           pattern replacement      match  cgl\n0                       ^λ[υ|ύ]π.+        λύπ*   λυποδίαν    1\n1                       ^λ[υ|ύ]π.+        λύπ*     λυπρός   31\n2                       ^λ[υ|ύ]π.+        λύπ*  λυπητικός    1\n3                       ^λ[υ|ύ]π.+        λύπ*      λυπέω  447\n4                       ^λ[υ|ύ]π.+        λύπ*   λυπητέον    1\n..                             ...         ...        ...  ...\n81  ^π[ό|ο]ν[ο|ό|έ|ε|η|ή|ῆ](?!ρ).+       πόνο*   πονέομαι    2\n82  ^π[ό|ο]ν[ο|ό|έ|ε|η|ή|ῆ](?!ρ).+       πόνο*   πονητάων    1\n83  ^π[ό|ο]ν[ο|ό|έ|ε|η|ή|ῆ](?!ρ).+       πόνο*    πόνους#    1\n84  ^π[ό|ο]ν[ο|ό|έ|ε|η|ή|ῆ](?!ρ).+       πόνο*      πονον    1\n85  ^π[ό|ο]ν[ο|ό|έ|ε|η|ή|ῆ](?!ρ).+       πόνο*   πονέεται    1\n\n[86 rows x 4 columns]",
      "text/html": "<div>\n<style scoped>\n    .dataframe tbody tr th:only-of-type {\n        vertical-align: middle;\n    }\n\n    .dataframe tbody tr th {\n        vertical-align: top;\n    }\n\n    .dataframe thead th {\n        text-align: right;\n    }\n</style>\n<table border=\"1\" class=\"dataframe\">\n  <thead>\n    <tr style=\"text-align: right;\">\n      <th></th>\n      <th>pattern</th>\n      <th>replacement</th>\n      <th>match</th>\n      <th>cgl</th>\n    </tr>\n  </thead>\n  <tbody>\n    <tr>\n      <th>0</th>\n      <td>^λ[υ|ύ]π.+</td>\n      <td>λύπ*</td>\n      <td>λυποδίαν</td>\n      <td>1</td>\n    </tr>\n    <tr>\n      <th>1</th>\n      <td>^λ[υ|ύ]π.+</td>\n      <td>λύπ*</td>\n      <td>λυπρός</td>\n      <td>31</td>\n    </tr>\n    <tr>\n      <th>2</th>\n      <td>^λ[υ|ύ]π.+</td>\n      <td>λύπ*</td>\n      <td>λυπητικός</td>\n      <td>1</td>\n    </tr>\n    <tr>\n      <th>3</th>\n      <td>^λ[υ|ύ]π.+</td>\n      <td>λύπ*</td>\n      <td>λυπέω</td>\n      <td>447</td>\n    </tr>\n    <tr>\n      <th>4</th>\n      <td>^λ[υ|ύ]π.+</td>\n      <td>λύπ*</td>\n      <td>λυπητέον</td>\n      <td>1</td>\n    </tr>\n    <tr>\n      <th>...</th>\n      <td>...</td>\n      <td>...</td>\n      <td>...</td>\n      <td>...</td>\n    </tr>\n    <tr>\n      <th>81</th>\n      <td>^π[ό|ο]ν[ο|ό|έ|ε|η|ή|ῆ](?!ρ).+</td>\n      <td>πόνο*</td>\n      <td>πονέομαι</td>\n      <td>2</td>\n    </tr>\n    <tr>\n      <th>82</th>\n      <td>^π[ό|ο]ν[ο|ό|έ|ε|η|ή|ῆ](?!ρ).+</td>\n      <td>πόνο*</td>\n      <td>πονητάων</td>\n      <td>1</td>\n    </tr>\n    <tr>\n      <th>83</th>\n      <td>^π[ό|ο]ν[ο|ό|έ|ε|η|ή|ῆ](?!ρ).+</td>\n      <td>πόνο*</td>\n      <td>πόνους#</td>\n      <td>1</td>\n    </tr>\n    <tr>\n      <th>84</th>\n      <td>^π[ό|ο]ν[ο|ό|έ|ε|η|ή|ῆ](?!ρ).+</td>\n      <td>πόνο*</td>\n      <td>πονον</td>\n      <td>1</td>\n    </tr>\n    <tr>\n      <th>85</th>\n      <td>^π[ό|ο]ν[ο|ό|έ|ε|η|ή|ῆ](?!ρ).+</td>\n      <td>πόνο*</td>\n      <td>πονέεται</td>\n      <td>1</td>\n    </tr>\n  </tbody>\n</table>\n<p>86 rows × 4 columns</p>\n</div>"
     },
     "execution_count": 21,
     "metadata": {},
     "output_type": "execute_result"
    }
   ],
   "source": [
    "# unique word forms\n",
    "matches = []\n",
    "for pattern_tuple in keyterm_patterns:\n",
    "    r = re.compile(pattern_tuple[0])\n",
    "    matches.extend([(pattern_tuple[0], pattern_tuple[1], match, cgl_list.count(match)) for match in list(filter(r.search, list(set(cgl_list))))])\n",
    "matches_df = pd.DataFrame(matches, columns=[\"pattern\", \"replacement\", \"match\", \"cgl\",]) #, \"translation\"])\n",
    "matches_df"
   ],
   "metadata": {
    "collapsed": false
   }
  },
  {
   "cell_type": "code",
   "execution_count": 22,
   "outputs": [],
   "source": [
    "set_with_dataframe(PIPA_data.add_worksheet(\"matches_20221018\", 1,1), matches_df)"
   ],
   "metadata": {
    "collapsed": false
   }
  },
  {
   "cell_type": "code",
   "execution_count": 27,
   "outputs": [],
   "source": [
    "# set_with_dataframe(PIPA_data.add_worksheet(\"matches_20220517\", 1,1), matches_df)"
   ],
   "metadata": {
    "collapsed": false
   }
  },
  {
   "cell_type": "markdown",
   "source": [
    "# Make the actual replacement within the texts"
   ],
   "metadata": {
    "collapsed": false
   }
  },
  {
   "cell_type": "code",
   "execution_count": 30,
   "outputs": [],
   "source": [
    "# use these regular expressions to make replacements in the list of lemmata\n",
    "def replacer_word_list(pattern, product, word_list):\n",
    "    return [re.sub(pattern, product, word) for word in word_list]\n",
    "\n",
    "def replace_keywords(list_of_words, list_of_tuples):\n",
    "    for pattern in list_of_tuples:\n",
    "        list_of_words = replacer_word_list(pattern[0], pattern[1], list_of_words)\n",
    "    return list_of_words"
   ],
   "metadata": {
    "collapsed": false
   }
  },
  {
   "cell_type": "code",
   "execution_count": 31,
   "outputs": [
    {
     "data": {
      "text/plain": "['βοοκ',\n 'πᾶς',\n 'μέλυπρᾷ',\n 'ἄλγ*',\n 'τέχνη',\n 'πᾶς',\n 'μέθοδος',\n 'ὅμοιος',\n 'λύπ*',\n 'πρᾶξίς',\n 'προαίρεσις',\n 'ἀγαθός',\n 'ἐφίημι']"
     },
     "execution_count": 31,
     "metadata": {},
     "output_type": "execute_result"
    }
   ],
   "source": [
    "### test (includes artificial words):\n",
    "word_list_test = ['βοοκ', 'πᾶς', 'μέλυπρᾷ', \"ἄλγτέχνη\",'τέχνη' ,'πᾶς', 'μέθοδος', 'ὅμοιος', \"λύπη\",'πρᾶξίς', 'προαίρεσις', 'ἀγαθός', 'ἐφίημι']\n",
    "replace_keywords(word_list_test, keyterm_patterns)"
   ],
   "metadata": {
    "collapsed": false
   }
  },
  {
   "cell_type": "code",
   "execution_count": 32,
   "outputs": [],
   "source": [
    "# apply the replacement on the level of individual words\n",
    "cgl[\"lemmata_repl\"] = cgl[\"lemmata\"].apply(lambda x: replace_keywords(x, keyterm_patterns))"
   ],
   "metadata": {
    "collapsed": false
   }
  },
  {
   "cell_type": "code",
   "execution_count": 33,
   "outputs": [],
   "source": [
    "# apply the replacement on the sentences\n",
    "def replace_in_sentences(list_of_sentences):\n",
    "    return [replace_keywords(sentence, keyterm_patterns) for sentence in list_of_sentences]\n",
    "\n",
    "cgl[\"lemmatized_sentences_repl\"] = cgl[\"lemmatized_sentences\"].apply(replace_in_sentences)"
   ],
   "metadata": {
    "collapsed": false
   }
  },
  {
   "cell_type": "code",
   "execution_count": 33,
   "outputs": [],
   "source": [],
   "metadata": {
    "collapsed": false
   }
  },
  {
   "cell_type": "markdown",
   "source": [
    "# Pain words overview"
   ],
   "metadata": {
    "collapsed": false
   }
  },
  {
   "cell_type": "code",
   "execution_count": 34,
   "outputs": [],
   "source": [
    "keywords = ['πόνο*', 'ὀδύν*', 'ἄλγ*', 'λύπ*']\n",
    "for keyword in keywords:\n",
    "    cgl[\"count_\" + keyword] = cgl[\"lemmata_repl\"].apply(lambda x: x.count(keyword))"
   ],
   "metadata": {
    "collapsed": false
   }
  },
  {
   "cell_type": "code",
   "execution_count": 36,
   "outputs": [
    {
     "data": {
      "text/plain": "           wordcount  n_sentences  lemmata_wordcount  count_πόνο*  \\\nauthor_id                                                           \ntlg0003       150118         6068              71863           31   \ntlg0006       134129        14482              81439          179   \ntlg0010       119155         4681              56497           45   \ntlg0011        61793         6197              34437           68   \ntlg0014       294362        14564             143390           21   \ntlg0016       184947        10149              94799           27   \ntlg0017        34075         2986              16836            0   \ntlg0019        94897        11585              50255           21   \ntlg0026        51409         3469              25086            2   \ntlg0027        18987         1958               8902            1   \ntlg0028        22136         2405               9936            1   \ntlg0030        12025         1392               5939            2   \ntlg0032       312187        18988             150357          157   \ntlg0034        12400         1382               5928            1   \ntlg0058        13993          745               6902            6   \ntlg0059       574294        52384             272931          121   \ntlg0064          644           64                383            0   \ntlg0065         8685         1087               5137            0   \ntlg0066         2757          207               1434            1   \ntlg0085        40335         4020              25848           70   \ntlg0086       840271        60282             367848          104   \ntlg0088        19792         2510               8395            2   \ntlg0093       135499        17454              59617           16   \ntlg0199         5142          553               3446            1   \ntlg0341         7477          336               5584            2   \ntlg0535         2092          207               1084            3   \ntlg0540        58875         4258              28254            2   \ntlg0591          924           61                417            0   \ntlg0593         2451          249               1204            2   \ntlg0610         5983          263               3016            5   \ntlg0627       333443        24456             171332          657   \ntlg0751         1680           97                760            6   \ntlg1210        18219         1097               8117            0   \ntlg1409          378           61                179            0   \ntlg1486         4136         1235               1713            1   \n\n           count_ὀδύν*  count_ἄλγ*  count_λύπ*  \nauthor_id                                       \ntlg0003              0           6          25  \ntlg0006             11          74          74  \ntlg0010              0          11          47  \ntlg0011              7          60          35  \ntlg0014              0           7          40  \ntlg0016              1          10          12  \ntlg0017              0           0           1  \ntlg0019              4          13          18  \ntlg0026              0           3           5  \ntlg0027              0           0           2  \ntlg0028              0           0           1  \ntlg0030              0           0           4  \ntlg0032              3          12          75  \ntlg0034              0           1           0  \ntlg0058              0           0           0  \ntlg0059             14          67         316  \ntlg0064              0           0           0  \ntlg0065              0           0           0  \ntlg0066              0           0           1  \ntlg0085              3          34           6  \ntlg0086              5          36         414  \ntlg0088              0           0           0  \ntlg0093              2           3          39  \ntlg0199              0           1           0  \ntlg0341              0           4           5  \ntlg0535              0           0           3  \ntlg0540              0           1           9  \ntlg0591              0           0           0  \ntlg0593              0           0           0  \ntlg0610              0           0           1  \ntlg0627            645         315          58  \ntlg0751              1           0           0  \ntlg1210              0           0           0  \ntlg1409              0           0           0  \ntlg1486              0           0           0  ",
      "text/html": "<div>\n<style scoped>\n    .dataframe tbody tr th:only-of-type {\n        vertical-align: middle;\n    }\n\n    .dataframe tbody tr th {\n        vertical-align: top;\n    }\n\n    .dataframe thead th {\n        text-align: right;\n    }\n</style>\n<table border=\"1\" class=\"dataframe\">\n  <thead>\n    <tr style=\"text-align: right;\">\n      <th></th>\n      <th>wordcount</th>\n      <th>n_sentences</th>\n      <th>lemmata_wordcount</th>\n      <th>count_πόνο*</th>\n      <th>count_ὀδύν*</th>\n      <th>count_ἄλγ*</th>\n      <th>count_λύπ*</th>\n    </tr>\n    <tr>\n      <th>author_id</th>\n      <th></th>\n      <th></th>\n      <th></th>\n      <th></th>\n      <th></th>\n      <th></th>\n      <th></th>\n    </tr>\n  </thead>\n  <tbody>\n    <tr>\n      <th>tlg0003</th>\n      <td>150118</td>\n      <td>6068</td>\n      <td>71863</td>\n      <td>31</td>\n      <td>0</td>\n      <td>6</td>\n      <td>25</td>\n    </tr>\n    <tr>\n      <th>tlg0006</th>\n      <td>134129</td>\n      <td>14482</td>\n      <td>81439</td>\n      <td>179</td>\n      <td>11</td>\n      <td>74</td>\n      <td>74</td>\n    </tr>\n    <tr>\n      <th>tlg0010</th>\n      <td>119155</td>\n      <td>4681</td>\n      <td>56497</td>\n      <td>45</td>\n      <td>0</td>\n      <td>11</td>\n      <td>47</td>\n    </tr>\n    <tr>\n      <th>tlg0011</th>\n      <td>61793</td>\n      <td>6197</td>\n      <td>34437</td>\n      <td>68</td>\n      <td>7</td>\n      <td>60</td>\n      <td>35</td>\n    </tr>\n    <tr>\n      <th>tlg0014</th>\n      <td>294362</td>\n      <td>14564</td>\n      <td>143390</td>\n      <td>21</td>\n      <td>0</td>\n      <td>7</td>\n      <td>40</td>\n    </tr>\n    <tr>\n      <th>tlg0016</th>\n      <td>184947</td>\n      <td>10149</td>\n      <td>94799</td>\n      <td>27</td>\n      <td>1</td>\n      <td>10</td>\n      <td>12</td>\n    </tr>\n    <tr>\n      <th>tlg0017</th>\n      <td>34075</td>\n      <td>2986</td>\n      <td>16836</td>\n      <td>0</td>\n      <td>0</td>\n      <td>0</td>\n      <td>1</td>\n    </tr>\n    <tr>\n      <th>tlg0019</th>\n      <td>94897</td>\n      <td>11585</td>\n      <td>50255</td>\n      <td>21</td>\n      <td>4</td>\n      <td>13</td>\n      <td>18</td>\n    </tr>\n    <tr>\n      <th>tlg0026</th>\n      <td>51409</td>\n      <td>3469</td>\n      <td>25086</td>\n      <td>2</td>\n      <td>0</td>\n      <td>3</td>\n      <td>5</td>\n    </tr>\n    <tr>\n      <th>tlg0027</th>\n      <td>18987</td>\n      <td>1958</td>\n      <td>8902</td>\n      <td>1</td>\n      <td>0</td>\n      <td>0</td>\n      <td>2</td>\n    </tr>\n    <tr>\n      <th>tlg0028</th>\n      <td>22136</td>\n      <td>2405</td>\n      <td>9936</td>\n      <td>1</td>\n      <td>0</td>\n      <td>0</td>\n      <td>1</td>\n    </tr>\n    <tr>\n      <th>tlg0030</th>\n      <td>12025</td>\n      <td>1392</td>\n      <td>5939</td>\n      <td>2</td>\n      <td>0</td>\n      <td>0</td>\n      <td>4</td>\n    </tr>\n    <tr>\n      <th>tlg0032</th>\n      <td>312187</td>\n      <td>18988</td>\n      <td>150357</td>\n      <td>157</td>\n      <td>3</td>\n      <td>12</td>\n      <td>75</td>\n    </tr>\n    <tr>\n      <th>tlg0034</th>\n      <td>12400</td>\n      <td>1382</td>\n      <td>5928</td>\n      <td>1</td>\n      <td>0</td>\n      <td>1</td>\n      <td>0</td>\n    </tr>\n    <tr>\n      <th>tlg0058</th>\n      <td>13993</td>\n      <td>745</td>\n      <td>6902</td>\n      <td>6</td>\n      <td>0</td>\n      <td>0</td>\n      <td>0</td>\n    </tr>\n    <tr>\n      <th>tlg0059</th>\n      <td>574294</td>\n      <td>52384</td>\n      <td>272931</td>\n      <td>121</td>\n      <td>14</td>\n      <td>67</td>\n      <td>316</td>\n    </tr>\n    <tr>\n      <th>tlg0064</th>\n      <td>644</td>\n      <td>64</td>\n      <td>383</td>\n      <td>0</td>\n      <td>0</td>\n      <td>0</td>\n      <td>0</td>\n    </tr>\n    <tr>\n      <th>tlg0065</th>\n      <td>8685</td>\n      <td>1087</td>\n      <td>5137</td>\n      <td>0</td>\n      <td>0</td>\n      <td>0</td>\n      <td>0</td>\n    </tr>\n    <tr>\n      <th>tlg0066</th>\n      <td>2757</td>\n      <td>207</td>\n      <td>1434</td>\n      <td>1</td>\n      <td>0</td>\n      <td>0</td>\n      <td>1</td>\n    </tr>\n    <tr>\n      <th>tlg0085</th>\n      <td>40335</td>\n      <td>4020</td>\n      <td>25848</td>\n      <td>70</td>\n      <td>3</td>\n      <td>34</td>\n      <td>6</td>\n    </tr>\n    <tr>\n      <th>tlg0086</th>\n      <td>840271</td>\n      <td>60282</td>\n      <td>367848</td>\n      <td>104</td>\n      <td>5</td>\n      <td>36</td>\n      <td>414</td>\n    </tr>\n    <tr>\n      <th>tlg0088</th>\n      <td>19792</td>\n      <td>2510</td>\n      <td>8395</td>\n      <td>2</td>\n      <td>0</td>\n      <td>0</td>\n      <td>0</td>\n    </tr>\n    <tr>\n      <th>tlg0093</th>\n      <td>135499</td>\n      <td>17454</td>\n      <td>59617</td>\n      <td>16</td>\n      <td>2</td>\n      <td>3</td>\n      <td>39</td>\n    </tr>\n    <tr>\n      <th>tlg0199</th>\n      <td>5142</td>\n      <td>553</td>\n      <td>3446</td>\n      <td>1</td>\n      <td>0</td>\n      <td>1</td>\n      <td>0</td>\n    </tr>\n    <tr>\n      <th>tlg0341</th>\n      <td>7477</td>\n      <td>336</td>\n      <td>5584</td>\n      <td>2</td>\n      <td>0</td>\n      <td>4</td>\n      <td>5</td>\n    </tr>\n    <tr>\n      <th>tlg0535</th>\n      <td>2092</td>\n      <td>207</td>\n      <td>1084</td>\n      <td>3</td>\n      <td>0</td>\n      <td>0</td>\n      <td>3</td>\n    </tr>\n    <tr>\n      <th>tlg0540</th>\n      <td>58875</td>\n      <td>4258</td>\n      <td>28254</td>\n      <td>2</td>\n      <td>0</td>\n      <td>1</td>\n      <td>9</td>\n    </tr>\n    <tr>\n      <th>tlg0591</th>\n      <td>924</td>\n      <td>61</td>\n      <td>417</td>\n      <td>0</td>\n      <td>0</td>\n      <td>0</td>\n      <td>0</td>\n    </tr>\n    <tr>\n      <th>tlg0593</th>\n      <td>2451</td>\n      <td>249</td>\n      <td>1204</td>\n      <td>2</td>\n      <td>0</td>\n      <td>0</td>\n      <td>0</td>\n    </tr>\n    <tr>\n      <th>tlg0610</th>\n      <td>5983</td>\n      <td>263</td>\n      <td>3016</td>\n      <td>5</td>\n      <td>0</td>\n      <td>0</td>\n      <td>1</td>\n    </tr>\n    <tr>\n      <th>tlg0627</th>\n      <td>333443</td>\n      <td>24456</td>\n      <td>171332</td>\n      <td>657</td>\n      <td>645</td>\n      <td>315</td>\n      <td>58</td>\n    </tr>\n    <tr>\n      <th>tlg0751</th>\n      <td>1680</td>\n      <td>97</td>\n      <td>760</td>\n      <td>6</td>\n      <td>1</td>\n      <td>0</td>\n      <td>0</td>\n    </tr>\n    <tr>\n      <th>tlg1210</th>\n      <td>18219</td>\n      <td>1097</td>\n      <td>8117</td>\n      <td>0</td>\n      <td>0</td>\n      <td>0</td>\n      <td>0</td>\n    </tr>\n    <tr>\n      <th>tlg1409</th>\n      <td>378</td>\n      <td>61</td>\n      <td>179</td>\n      <td>0</td>\n      <td>0</td>\n      <td>0</td>\n      <td>0</td>\n    </tr>\n    <tr>\n      <th>tlg1486</th>\n      <td>4136</td>\n      <td>1235</td>\n      <td>1713</td>\n      <td>1</td>\n      <td>0</td>\n      <td>0</td>\n      <td>0</td>\n    </tr>\n  </tbody>\n</table>\n</div>"
     },
     "execution_count": 36,
     "metadata": {},
     "output_type": "execute_result"
    }
   ],
   "source": [
    "authors_overview = cgl.groupby(\"author_id\").sum().drop([\"date_avr\", \"date_manual\"], axis=1)\n",
    "authors_overview"
   ],
   "metadata": {
    "collapsed": false
   }
  },
  {
   "cell_type": "code",
   "execution_count": 44,
   "outputs": [],
   "source": [
    "author_id_dict = dict(zip(cgl[\"author_id\"].tolist(), cgl[\"author\"].tolist()))"
   ],
   "metadata": {
    "collapsed": false
   }
  },
  {
   "cell_type": "code",
   "execution_count": 57,
   "outputs": [],
   "source": [
    "authors = authors_overview.reset_index()[\"author_id\"].apply(lambda x: author_id_dict[x])\n",
    "authors = authors.tolist()"
   ],
   "metadata": {
    "collapsed": false
   }
  },
  {
   "cell_type": "code",
   "execution_count": 58,
   "outputs": [],
   "source": [
    "authors_overview[\"author\"] = authors"
   ],
   "metadata": {
    "collapsed": false
   }
  },
  {
   "cell_type": "code",
   "execution_count": 59,
   "outputs": [
    {
     "data": {
      "text/plain": "           wordcount  n_sentences  lemmata_wordcount  count_πόνο*  \\\nauthor_id                                                           \ntlg0003       150118         6068              71863           31   \ntlg0006       134129        14482              81439          179   \ntlg0010       119155         4681              56497           45   \ntlg0011        61793         6197              34437           68   \ntlg0014       294362        14564             143390           21   \ntlg0016       184947        10149              94799           27   \ntlg0017        34075         2986              16836            0   \ntlg0019        94897        11585              50255           21   \ntlg0026        51409         3469              25086            2   \ntlg0027        18987         1958               8902            1   \ntlg0028        22136         2405               9936            1   \ntlg0030        12025         1392               5939            2   \ntlg0032       312187        18988             150357          157   \ntlg0034        12400         1382               5928            1   \ntlg0058        13993          745               6902            6   \ntlg0059       574294        52384             272931          121   \ntlg0064          644           64                383            0   \ntlg0065         8685         1087               5137            0   \ntlg0066         2757          207               1434            1   \ntlg0085        40335         4020              25848           70   \ntlg0086       840271        60282             367848          104   \ntlg0088        19792         2510               8395            2   \ntlg0093       135499        17454              59617           16   \ntlg0199         5142          553               3446            1   \ntlg0341         7477          336               5584            2   \ntlg0535         2092          207               1084            3   \ntlg0540        58875         4258              28254            2   \ntlg0591          924           61                417            0   \ntlg0593         2451          249               1204            2   \ntlg0610         5983          263               3016            5   \ntlg0627       333443        24456             171332          657   \ntlg0751         1680           97                760            6   \ntlg1210        18219         1097               8117            0   \ntlg1409          378           61                179            0   \ntlg1486         4136         1235               1713            1   \n\n           count_ὀδύν*  count_ἄλγ*  count_λύπ*               author  \nauthor_id                                                            \ntlg0003              0           6          25           Thucydides  \ntlg0006             11          74          74            Euripides  \ntlg0010              0          11          47            Isocrates  \ntlg0011              7          60          35            Sophocles  \ntlg0014              0           7          40          Demosthenes  \ntlg0016              1          10          12            Herodotus  \ntlg0017              0           0           1               Isaeus  \ntlg0019              4          13          18         Aristophanes  \ntlg0026              0           3           5      Aeschines [Sp.]  \ntlg0027              0           0           2            Andocides  \ntlg0028              0           0           1             Antiphon  \ntlg0030              0           0           4            Hyperides  \ntlg0032              3          12          75             Xenophon  \ntlg0034              0           1           0             Lycurgus  \ntlg0058              0           0           0      Aeneas Tacticus  \ntlg0059             14          67         316                Plato  \ntlg0064              0           0           0                Hanno  \ntlg0065              0           0           0               Scylax  \ntlg0066              0           0           1      Ps. Dicaearchus  \ntlg0085              3          34           6            Aeschylus  \ntlg0086              5          36         414            Aristotle  \ntlg0088              0           0           0          Aristoxenus  \ntlg0093              2           3          39         Theophrastus  \ntlg0199              0           1           0          Bacchylides  \ntlg0341              0           4           5            Lycophron  \ntlg0535              0           0           3              Demades  \ntlg0540              0           1           9               Lysias  \ntlg0591              0           0           0          Antisthenes  \ntlg0593              0           0           0  Gorgias of Leontini  \ntlg0610              0           0           1            Alcidamas  \ntlg0627            645         315          58          Hippocrates  \ntlg0751              1           0           0   pseudo-Hippocrates  \ntlg1210              0           0           0            Autolycus  \ntlg1409              0           0           0  Heraclides Ponticus  \ntlg1486              0           0           0     Matron of Pitana  ",
      "text/html": "<div>\n<style scoped>\n    .dataframe tbody tr th:only-of-type {\n        vertical-align: middle;\n    }\n\n    .dataframe tbody tr th {\n        vertical-align: top;\n    }\n\n    .dataframe thead th {\n        text-align: right;\n    }\n</style>\n<table border=\"1\" class=\"dataframe\">\n  <thead>\n    <tr style=\"text-align: right;\">\n      <th></th>\n      <th>wordcount</th>\n      <th>n_sentences</th>\n      <th>lemmata_wordcount</th>\n      <th>count_πόνο*</th>\n      <th>count_ὀδύν*</th>\n      <th>count_ἄλγ*</th>\n      <th>count_λύπ*</th>\n      <th>author</th>\n    </tr>\n    <tr>\n      <th>author_id</th>\n      <th></th>\n      <th></th>\n      <th></th>\n      <th></th>\n      <th></th>\n      <th></th>\n      <th></th>\n      <th></th>\n    </tr>\n  </thead>\n  <tbody>\n    <tr>\n      <th>tlg0003</th>\n      <td>150118</td>\n      <td>6068</td>\n      <td>71863</td>\n      <td>31</td>\n      <td>0</td>\n      <td>6</td>\n      <td>25</td>\n      <td>Thucydides</td>\n    </tr>\n    <tr>\n      <th>tlg0006</th>\n      <td>134129</td>\n      <td>14482</td>\n      <td>81439</td>\n      <td>179</td>\n      <td>11</td>\n      <td>74</td>\n      <td>74</td>\n      <td>Euripides</td>\n    </tr>\n    <tr>\n      <th>tlg0010</th>\n      <td>119155</td>\n      <td>4681</td>\n      <td>56497</td>\n      <td>45</td>\n      <td>0</td>\n      <td>11</td>\n      <td>47</td>\n      <td>Isocrates</td>\n    </tr>\n    <tr>\n      <th>tlg0011</th>\n      <td>61793</td>\n      <td>6197</td>\n      <td>34437</td>\n      <td>68</td>\n      <td>7</td>\n      <td>60</td>\n      <td>35</td>\n      <td>Sophocles</td>\n    </tr>\n    <tr>\n      <th>tlg0014</th>\n      <td>294362</td>\n      <td>14564</td>\n      <td>143390</td>\n      <td>21</td>\n      <td>0</td>\n      <td>7</td>\n      <td>40</td>\n      <td>Demosthenes</td>\n    </tr>\n    <tr>\n      <th>tlg0016</th>\n      <td>184947</td>\n      <td>10149</td>\n      <td>94799</td>\n      <td>27</td>\n      <td>1</td>\n      <td>10</td>\n      <td>12</td>\n      <td>Herodotus</td>\n    </tr>\n    <tr>\n      <th>tlg0017</th>\n      <td>34075</td>\n      <td>2986</td>\n      <td>16836</td>\n      <td>0</td>\n      <td>0</td>\n      <td>0</td>\n      <td>1</td>\n      <td>Isaeus</td>\n    </tr>\n    <tr>\n      <th>tlg0019</th>\n      <td>94897</td>\n      <td>11585</td>\n      <td>50255</td>\n      <td>21</td>\n      <td>4</td>\n      <td>13</td>\n      <td>18</td>\n      <td>Aristophanes</td>\n    </tr>\n    <tr>\n      <th>tlg0026</th>\n      <td>51409</td>\n      <td>3469</td>\n      <td>25086</td>\n      <td>2</td>\n      <td>0</td>\n      <td>3</td>\n      <td>5</td>\n      <td>Aeschines [Sp.]</td>\n    </tr>\n    <tr>\n      <th>tlg0027</th>\n      <td>18987</td>\n      <td>1958</td>\n      <td>8902</td>\n      <td>1</td>\n      <td>0</td>\n      <td>0</td>\n      <td>2</td>\n      <td>Andocides</td>\n    </tr>\n    <tr>\n      <th>tlg0028</th>\n      <td>22136</td>\n      <td>2405</td>\n      <td>9936</td>\n      <td>1</td>\n      <td>0</td>\n      <td>0</td>\n      <td>1</td>\n      <td>Antiphon</td>\n    </tr>\n    <tr>\n      <th>tlg0030</th>\n      <td>12025</td>\n      <td>1392</td>\n      <td>5939</td>\n      <td>2</td>\n      <td>0</td>\n      <td>0</td>\n      <td>4</td>\n      <td>Hyperides</td>\n    </tr>\n    <tr>\n      <th>tlg0032</th>\n      <td>312187</td>\n      <td>18988</td>\n      <td>150357</td>\n      <td>157</td>\n      <td>3</td>\n      <td>12</td>\n      <td>75</td>\n      <td>Xenophon</td>\n    </tr>\n    <tr>\n      <th>tlg0034</th>\n      <td>12400</td>\n      <td>1382</td>\n      <td>5928</td>\n      <td>1</td>\n      <td>0</td>\n      <td>1</td>\n      <td>0</td>\n      <td>Lycurgus</td>\n    </tr>\n    <tr>\n      <th>tlg0058</th>\n      <td>13993</td>\n      <td>745</td>\n      <td>6902</td>\n      <td>6</td>\n      <td>0</td>\n      <td>0</td>\n      <td>0</td>\n      <td>Aeneas Tacticus</td>\n    </tr>\n    <tr>\n      <th>tlg0059</th>\n      <td>574294</td>\n      <td>52384</td>\n      <td>272931</td>\n      <td>121</td>\n      <td>14</td>\n      <td>67</td>\n      <td>316</td>\n      <td>Plato</td>\n    </tr>\n    <tr>\n      <th>tlg0064</th>\n      <td>644</td>\n      <td>64</td>\n      <td>383</td>\n      <td>0</td>\n      <td>0</td>\n      <td>0</td>\n      <td>0</td>\n      <td>Hanno</td>\n    </tr>\n    <tr>\n      <th>tlg0065</th>\n      <td>8685</td>\n      <td>1087</td>\n      <td>5137</td>\n      <td>0</td>\n      <td>0</td>\n      <td>0</td>\n      <td>0</td>\n      <td>Scylax</td>\n    </tr>\n    <tr>\n      <th>tlg0066</th>\n      <td>2757</td>\n      <td>207</td>\n      <td>1434</td>\n      <td>1</td>\n      <td>0</td>\n      <td>0</td>\n      <td>1</td>\n      <td>Ps. Dicaearchus</td>\n    </tr>\n    <tr>\n      <th>tlg0085</th>\n      <td>40335</td>\n      <td>4020</td>\n      <td>25848</td>\n      <td>70</td>\n      <td>3</td>\n      <td>34</td>\n      <td>6</td>\n      <td>Aeschylus</td>\n    </tr>\n    <tr>\n      <th>tlg0086</th>\n      <td>840271</td>\n      <td>60282</td>\n      <td>367848</td>\n      <td>104</td>\n      <td>5</td>\n      <td>36</td>\n      <td>414</td>\n      <td>Aristotle</td>\n    </tr>\n    <tr>\n      <th>tlg0088</th>\n      <td>19792</td>\n      <td>2510</td>\n      <td>8395</td>\n      <td>2</td>\n      <td>0</td>\n      <td>0</td>\n      <td>0</td>\n      <td>Aristoxenus</td>\n    </tr>\n    <tr>\n      <th>tlg0093</th>\n      <td>135499</td>\n      <td>17454</td>\n      <td>59617</td>\n      <td>16</td>\n      <td>2</td>\n      <td>3</td>\n      <td>39</td>\n      <td>Theophrastus</td>\n    </tr>\n    <tr>\n      <th>tlg0199</th>\n      <td>5142</td>\n      <td>553</td>\n      <td>3446</td>\n      <td>1</td>\n      <td>0</td>\n      <td>1</td>\n      <td>0</td>\n      <td>Bacchylides</td>\n    </tr>\n    <tr>\n      <th>tlg0341</th>\n      <td>7477</td>\n      <td>336</td>\n      <td>5584</td>\n      <td>2</td>\n      <td>0</td>\n      <td>4</td>\n      <td>5</td>\n      <td>Lycophron</td>\n    </tr>\n    <tr>\n      <th>tlg0535</th>\n      <td>2092</td>\n      <td>207</td>\n      <td>1084</td>\n      <td>3</td>\n      <td>0</td>\n      <td>0</td>\n      <td>3</td>\n      <td>Demades</td>\n    </tr>\n    <tr>\n      <th>tlg0540</th>\n      <td>58875</td>\n      <td>4258</td>\n      <td>28254</td>\n      <td>2</td>\n      <td>0</td>\n      <td>1</td>\n      <td>9</td>\n      <td>Lysias</td>\n    </tr>\n    <tr>\n      <th>tlg0591</th>\n      <td>924</td>\n      <td>61</td>\n      <td>417</td>\n      <td>0</td>\n      <td>0</td>\n      <td>0</td>\n      <td>0</td>\n      <td>Antisthenes</td>\n    </tr>\n    <tr>\n      <th>tlg0593</th>\n      <td>2451</td>\n      <td>249</td>\n      <td>1204</td>\n      <td>2</td>\n      <td>0</td>\n      <td>0</td>\n      <td>0</td>\n      <td>Gorgias of Leontini</td>\n    </tr>\n    <tr>\n      <th>tlg0610</th>\n      <td>5983</td>\n      <td>263</td>\n      <td>3016</td>\n      <td>5</td>\n      <td>0</td>\n      <td>0</td>\n      <td>1</td>\n      <td>Alcidamas</td>\n    </tr>\n    <tr>\n      <th>tlg0627</th>\n      <td>333443</td>\n      <td>24456</td>\n      <td>171332</td>\n      <td>657</td>\n      <td>645</td>\n      <td>315</td>\n      <td>58</td>\n      <td>Hippocrates</td>\n    </tr>\n    <tr>\n      <th>tlg0751</th>\n      <td>1680</td>\n      <td>97</td>\n      <td>760</td>\n      <td>6</td>\n      <td>1</td>\n      <td>0</td>\n      <td>0</td>\n      <td>pseudo-Hippocrates</td>\n    </tr>\n    <tr>\n      <th>tlg1210</th>\n      <td>18219</td>\n      <td>1097</td>\n      <td>8117</td>\n      <td>0</td>\n      <td>0</td>\n      <td>0</td>\n      <td>0</td>\n      <td>Autolycus</td>\n    </tr>\n    <tr>\n      <th>tlg1409</th>\n      <td>378</td>\n      <td>61</td>\n      <td>179</td>\n      <td>0</td>\n      <td>0</td>\n      <td>0</td>\n      <td>0</td>\n      <td>Heraclides Ponticus</td>\n    </tr>\n    <tr>\n      <th>tlg1486</th>\n      <td>4136</td>\n      <td>1235</td>\n      <td>1713</td>\n      <td>1</td>\n      <td>0</td>\n      <td>0</td>\n      <td>0</td>\n      <td>Matron of Pitana</td>\n    </tr>\n  </tbody>\n</table>\n</div>"
     },
     "execution_count": 59,
     "metadata": {},
     "output_type": "execute_result"
    }
   ],
   "source": [
    "authors_overview"
   ],
   "metadata": {
    "collapsed": false
   }
  },
  {
   "cell_type": "code",
   "execution_count": 66,
   "outputs": [
    {
     "data": {
      "text/plain": "Index(['wordcount', 'n_sentences', 'lemmata_wordcount', 'count_πόνο*',\n       'count_ὀδύν*', 'count_ἄλγ*', 'count_λύπ*', 'author'],\n      dtype='object')"
     },
     "execution_count": 66,
     "metadata": {},
     "output_type": "execute_result"
    }
   ],
   "source": [
    "authors_overview.columns"
   ],
   "metadata": {
    "collapsed": false
   }
  },
  {
   "cell_type": "code",
   "execution_count": 67,
   "outputs": [],
   "source": [
    "num_cols = ['wordcount', 'n_sentences', 'lemmata_wordcount', 'count_πόνο*',\n",
    "'count_ὀδύν*', 'count_ἄλγ*', 'count_λύπ*']"
   ],
   "metadata": {
    "collapsed": false
   }
  },
  {
   "cell_type": "code",
   "execution_count": 71,
   "outputs": [
    {
     "data": {
      "text/plain": "wordcount            3579690\nn_sentences           271932\nlemmata_wordcount    1729265\ncount_πόνο*             1555\ncount_ὀδύν*              696\ncount_ἄλγ*               658\ncount_λύπ*              1191\ndtype: object"
     },
     "execution_count": 71,
     "metadata": {},
     "output_type": "execute_result"
    }
   ],
   "source": [
    "authors_overview.sum()[num_cols]"
   ],
   "metadata": {
    "collapsed": false
   }
  },
  {
   "cell_type": "code",
   "execution_count": 68,
   "outputs": [
    {
     "data": {
      "text/plain": "wordcount            0.093149\nn_sentences          0.089934\nlemmata_wordcount    0.099078\ncount_πόνο*          0.422508\ncount_ὀδύν*          0.926724\ncount_ἄλγ*           0.478723\ncount_λύπ*           0.048699\ndtype: object"
     },
     "execution_count": 68,
     "metadata": {},
     "output_type": "execute_result"
    }
   ],
   "source": [
    "authors_overview.loc[\"tlg0627\"][num_cols] / authors_overview.sum()[num_cols]"
   ],
   "metadata": {
    "collapsed": false
   }
  },
  {
   "cell_type": "code",
   "execution_count": 70,
   "outputs": [
    {
     "data": {
      "text/plain": "wordcount            0.234733\nn_sentences           0.22168\nlemmata_wordcount    0.212719\ncount_πόνο*          0.066881\ncount_ὀδύν*          0.007184\ncount_ἄλγ*           0.054711\ncount_λύπ*           0.347607\ndtype: object"
     },
     "execution_count": 70,
     "metadata": {},
     "output_type": "execute_result"
    }
   ],
   "source": [
    "authors_overview.loc[\"tlg0086\"][num_cols] / authors_overview.sum()[num_cols]\n"
   ],
   "metadata": {
    "collapsed": false
   }
  },
  {
   "cell_type": "code",
   "execution_count": 61,
   "outputs": [
    {
     "data": {
      "text/plain": "wordcount                                                      3579690\nn_sentences                                                     271932\nlemmata_wordcount                                              1729265\ncount_πόνο*                                                       1555\ncount_ὀδύν*                                                        696\ncount_ἄλγ*                                                         658\ncount_λύπ*                                                        1191\nauthor               ThucydidesEuripidesIsocratesSophoclesDemosthen...\ndtype: object"
     },
     "execution_count": 61,
     "metadata": {},
     "output_type": "execute_result"
    }
   ],
   "source": [
    "authors_overview.sum()"
   ],
   "metadata": {
    "collapsed": false
   }
  },
  {
   "cell_type": "code",
   "execution_count": 72,
   "outputs": [
    {
     "data": {
      "text/plain": "['wordcount',\n 'n_sentences',\n 'lemmata_wordcount',\n 'count_πόνο*',\n 'count_ὀδύν*',\n 'count_ἄλγ*',\n 'count_λύπ*']"
     },
     "execution_count": 72,
     "metadata": {},
     "output_type": "execute_result"
    }
   ],
   "source": [
    "num_cols"
   ],
   "metadata": {
    "collapsed": false
   }
  },
  {
   "cell_type": "code",
   "execution_count": 73,
   "outputs": [],
   "source": [
    "authors_users = {}\n",
    "for col in ['count_πόνο*','count_ὀδύν*','count_ἄλγ*', 'count_λύπ*']:\n",
    "    authors_users[col.rpartition(\"_\")[2] + \"_authors\"] = authors_overview.sort_values(col, ascending=False)[\"author\"].tolist()[:10]"
   ],
   "metadata": {
    "collapsed": false
   }
  },
  {
   "cell_type": "code",
   "execution_count": 74,
   "outputs": [
    {
     "data": {
      "text/plain": "  πόνο*_authors ὀδύν*_authors  ἄλγ*_authors  λύπ*_authors\n0   Hippocrates   Hippocrates   Hippocrates     Aristotle\n1     Euripides         Plato     Euripides         Plato\n2      Xenophon     Euripides         Plato      Xenophon\n3         Plato     Sophocles     Sophocles     Euripides\n4     Aristotle     Aristotle     Aristotle   Hippocrates\n5     Aeschylus  Aristophanes     Aeschylus     Isocrates\n6     Sophocles     Aeschylus  Aristophanes   Demosthenes\n7     Isocrates      Xenophon      Xenophon  Theophrastus\n8    Thucydides  Theophrastus     Isocrates     Sophocles\n9     Herodotus     Herodotus     Herodotus    Thucydides",
      "text/html": "<div>\n<style scoped>\n    .dataframe tbody tr th:only-of-type {\n        vertical-align: middle;\n    }\n\n    .dataframe tbody tr th {\n        vertical-align: top;\n    }\n\n    .dataframe thead th {\n        text-align: right;\n    }\n</style>\n<table border=\"1\" class=\"dataframe\">\n  <thead>\n    <tr style=\"text-align: right;\">\n      <th></th>\n      <th>πόνο*_authors</th>\n      <th>ὀδύν*_authors</th>\n      <th>ἄλγ*_authors</th>\n      <th>λύπ*_authors</th>\n    </tr>\n  </thead>\n  <tbody>\n    <tr>\n      <th>0</th>\n      <td>Hippocrates</td>\n      <td>Hippocrates</td>\n      <td>Hippocrates</td>\n      <td>Aristotle</td>\n    </tr>\n    <tr>\n      <th>1</th>\n      <td>Euripides</td>\n      <td>Plato</td>\n      <td>Euripides</td>\n      <td>Plato</td>\n    </tr>\n    <tr>\n      <th>2</th>\n      <td>Xenophon</td>\n      <td>Euripides</td>\n      <td>Plato</td>\n      <td>Xenophon</td>\n    </tr>\n    <tr>\n      <th>3</th>\n      <td>Plato</td>\n      <td>Sophocles</td>\n      <td>Sophocles</td>\n      <td>Euripides</td>\n    </tr>\n    <tr>\n      <th>4</th>\n      <td>Aristotle</td>\n      <td>Aristotle</td>\n      <td>Aristotle</td>\n      <td>Hippocrates</td>\n    </tr>\n    <tr>\n      <th>5</th>\n      <td>Aeschylus</td>\n      <td>Aristophanes</td>\n      <td>Aeschylus</td>\n      <td>Isocrates</td>\n    </tr>\n    <tr>\n      <th>6</th>\n      <td>Sophocles</td>\n      <td>Aeschylus</td>\n      <td>Aristophanes</td>\n      <td>Demosthenes</td>\n    </tr>\n    <tr>\n      <th>7</th>\n      <td>Isocrates</td>\n      <td>Xenophon</td>\n      <td>Xenophon</td>\n      <td>Theophrastus</td>\n    </tr>\n    <tr>\n      <th>8</th>\n      <td>Thucydides</td>\n      <td>Theophrastus</td>\n      <td>Isocrates</td>\n      <td>Sophocles</td>\n    </tr>\n    <tr>\n      <th>9</th>\n      <td>Herodotus</td>\n      <td>Herodotus</td>\n      <td>Herodotus</td>\n      <td>Thucydides</td>\n    </tr>\n  </tbody>\n</table>\n</div>"
     },
     "execution_count": 74,
     "metadata": {},
     "output_type": "execute_result"
    }
   ],
   "source": [
    "pd.DataFrame(authors_users)"
   ],
   "metadata": {
    "collapsed": false
   }
  },
  {
   "cell_type": "code",
   "execution_count": null,
   "outputs": [],
   "source": [],
   "metadata": {
    "collapsed": false
   }
  },
  {
   "cell_type": "code",
   "execution_count": null,
   "outputs": [],
   "source": [
    "#set_with_dataframe(PIPA_data.add_worksheet(\"authors_overview\",1,1), authors_overview, include_index=True)"
   ],
   "metadata": {
    "collapsed": false
   }
  },
  {
   "cell_type": "code",
   "execution_count": 35,
   "outputs": [
    {
     "data": {
      "text/plain": "                 wordcount  n_sentences  lemmata_wordcount  count_πόνο*  \\\nsubcorpus                                                                 \nc_aristotelicum     785703        56737             343165          103   \nc_hippocraticum     333443        24456             171332          657   \nc_platonicum        574294        52384             272931          121   \n\n                 count_ὀδύν*  count_ἄλγ*  count_λύπ*  \nsubcorpus                                             \nc_aristotelicum            3          34         406  \nc_hippocraticum          645         315          58  \nc_platonicum              14          67         316  ",
      "text/html": "<div>\n<style scoped>\n    .dataframe tbody tr th:only-of-type {\n        vertical-align: middle;\n    }\n\n    .dataframe tbody tr th {\n        vertical-align: top;\n    }\n\n    .dataframe thead th {\n        text-align: right;\n    }\n</style>\n<table border=\"1\" class=\"dataframe\">\n  <thead>\n    <tr style=\"text-align: right;\">\n      <th></th>\n      <th>wordcount</th>\n      <th>n_sentences</th>\n      <th>lemmata_wordcount</th>\n      <th>count_πόνο*</th>\n      <th>count_ὀδύν*</th>\n      <th>count_ἄλγ*</th>\n      <th>count_λύπ*</th>\n    </tr>\n    <tr>\n      <th>subcorpus</th>\n      <th></th>\n      <th></th>\n      <th></th>\n      <th></th>\n      <th></th>\n      <th></th>\n      <th></th>\n    </tr>\n  </thead>\n  <tbody>\n    <tr>\n      <th>c_aristotelicum</th>\n      <td>785703</td>\n      <td>56737</td>\n      <td>343165</td>\n      <td>103</td>\n      <td>3</td>\n      <td>34</td>\n      <td>406</td>\n    </tr>\n    <tr>\n      <th>c_hippocraticum</th>\n      <td>333443</td>\n      <td>24456</td>\n      <td>171332</td>\n      <td>657</td>\n      <td>645</td>\n      <td>315</td>\n      <td>58</td>\n    </tr>\n    <tr>\n      <th>c_platonicum</th>\n      <td>574294</td>\n      <td>52384</td>\n      <td>272931</td>\n      <td>121</td>\n      <td>14</td>\n      <td>67</td>\n      <td>316</td>\n    </tr>\n  </tbody>\n</table>\n</div>"
     },
     "execution_count": 35,
     "metadata": {},
     "output_type": "execute_result"
    }
   ],
   "source": [
    "subcorpora_overview_simple = cgl.groupby(\"subcorpus\").sum().drop([\"date_avr\", \"date_manual\"], axis=1)\n",
    "subcorpora_overview_simple"
   ],
   "metadata": {
    "collapsed": false
   }
  },
  {
   "cell_type": "code",
   "execution_count": null,
   "outputs": [],
   "source": [
    "#set_with_dataframe(PIPA_data.add_worksheet(\"subcorpora_overview_simple\", 1,1), subcorpora_overview_simple, include_index=True)"
   ],
   "metadata": {
    "collapsed": false
   }
  },
  {
   "cell_type": "code",
   "execution_count": null,
   "outputs": [],
   "source": [
    "subcorpora_overview = cgl[cgl[\"subcorpus\"].notnull()][['subcorpus', 'title', 'wordcount', 'n_sentences', 'lemmata_wordcount', 'count_πόνο*','count_ὀδύν*', 'count_ἄλγ*', 'count_λύπ*']]\n",
    "subcorpora_overview"
   ],
   "metadata": {
    "collapsed": false
   }
  },
  {
   "cell_type": "code",
   "execution_count": null,
   "outputs": [],
   "source": [
    "#set_with_dataframe(PIPA_data.add_worksheet(\"subcorpora_overview\", 1,1), subcorpora_overview)"
   ],
   "metadata": {
    "collapsed": false
   }
  },
  {
   "cell_type": "markdown",
   "source": [
    "# Extract concordances with lypé"
   ],
   "metadata": {
    "collapsed": false
   }
  },
  {
   "cell_type": "code",
   "execution_count": 37,
   "outputs": [
    {
     "data": {
      "text/plain": "                          filename      author                  title  \\\n1  tlg0003.tlg001.perseus-grc2.xml  Thucydides  The Peloponnesian War   \n6  tlg0006.tlg001.perseus-grc2.xml   Euripides                Cyclops   \n7  tlg0006.tlg004.perseus-grc2.xml   Euripides             Ἡρακλεῖδαι   \n8  tlg0006.tlg005.perseus-grc2.xml   Euripides              Ἱππόλυτος   \n9  tlg0006.tlg006.perseus-grc2.xml   Euripides              Ἀνδρομάχη   \n\n   wordcount author_id          doc_id raw_date  date_avr   date_probs  \\\n1     150118   tlg0003  tlg0003.tlg001   5 B.C.      -4.5  {'-4.5': 1}   \n6       4141   tlg0006  tlg0006.tlg001   5 B.C.      -4.5  {'-4.5': 1}   \n7       6272   tlg0006  tlg0006.tlg004   5 B.C.      -4.5  {'-4.5': 1}   \n8       8257   tlg0006  tlg0006.tlg005   5 B.C.      -4.5  {'-4.5': 1}   \n9       7397   tlg0006  tlg0006.tlg006   5 B.C.      -4.5  {'-4.5': 1}   \n\n   date_manual  ...                               lemmatized_sentences  \\\n1         -4.5  ...  [[θουκυδίδης, Ἀθηναῖος, συγγράφω, πόλεμος, Πελ...   \n6         -4.5  ...  [[Βρόμιος, ἔχω, πόνος, χὥτʼ, ἥβη, ἐμός, εὐσθεν...   \n7         -4.5  ...  [[ποτός, εἰμί, οὗτος, δεδογμένον], [δίκαιος, φ...   \n8         -4.5  ...  [[πολύς, βροτός, ἀνώνυμος, θεά, καλέω, Κύπρις,...   \n9         -4.5  ...  [[Ἀσιανός, γῆ, σχῆμα, θηβαία, πόλις, ἑδνόω, πο...   \n\n                                             lemmata lemmata_wordcount  \\\n1  [θουκυδίδης, Ἀθηναῖος, συγγράφω, πόλεμος, Πελο...             71863   \n6  [Βρόμιος, ἔχω, πόνος, χὥτʼ, ἥβη, ἐμός, εὐσθενέ...              2535   \n7  [ποτός, εἰμί, οὗτος, δεδογμένον, δίκαιος, φύω,...              3545   \n8  [πολύς, βροτός, ἀνώνυμος, θεά, καλέω, Κύπρις, ...              4898   \n9  [Ἀσιανός, γῆ, σχῆμα, θηβαία, πόλις, ἑδνόω, πολ...              4420   \n\n   subcorpus                                       lemmata_repl  \\\n1       None  [θουκυδίδης, Ἀθηναῖος, συγγράφω, πόλεμος, Πελο...   \n6       None  [Βρόμιος, ἔχω, πόνο*, χὥτʼ, ἥβη, ἐμός, εὐσθενέ...   \n7       None  [ποτός, εἰμί, οὗτος, δεδογμένον, δίκαιος, φύω,...   \n8       None  [πολύς, βροτός, ἀνώνυμος, θεά, καλέω, Κύπρις, ...   \n9       None  [Ἀσιανός, γῆ, σχῆμα, θηβαία, πόλις, ἑδνόω, πολ...   \n\n                           lemmatized_sentences_repl  count_πόνο* count_ὀδύν*  \\\n1  [[θουκυδίδης, Ἀθηναῖος, συγγράφω, πόλεμος, Πελ...           31           0   \n6  [[Βρόμιος, ἔχω, πόνο*, χὥτʼ, ἥβη, ἐμός, εὐσθεν...            7           0   \n7  [[ποτός, εἰμί, οὗτος, δεδογμένον], [δίκαιος, φ...           11           0   \n8  [[πολύς, βροτός, ἀνώνυμος, θεά, καλέω, Κύπρις,...            8           3   \n9  [[Ἀσιανός, γῆ, σχῆμα, θηβαία, πόλις, ἑδνόω, πο...            5           0   \n\n  count_ἄλγ* count_λύπ*  \n1          6         25  \n6          0          1  \n7          1          2  \n8          8          8  \n9          7          4  \n\n[5 rows x 24 columns]",
      "text/html": "<div>\n<style scoped>\n    .dataframe tbody tr th:only-of-type {\n        vertical-align: middle;\n    }\n\n    .dataframe tbody tr th {\n        vertical-align: top;\n    }\n\n    .dataframe thead th {\n        text-align: right;\n    }\n</style>\n<table border=\"1\" class=\"dataframe\">\n  <thead>\n    <tr style=\"text-align: right;\">\n      <th></th>\n      <th>filename</th>\n      <th>author</th>\n      <th>title</th>\n      <th>wordcount</th>\n      <th>author_id</th>\n      <th>doc_id</th>\n      <th>raw_date</th>\n      <th>date_avr</th>\n      <th>date_probs</th>\n      <th>date_manual</th>\n      <th>...</th>\n      <th>lemmatized_sentences</th>\n      <th>lemmata</th>\n      <th>lemmata_wordcount</th>\n      <th>subcorpus</th>\n      <th>lemmata_repl</th>\n      <th>lemmatized_sentences_repl</th>\n      <th>count_πόνο*</th>\n      <th>count_ὀδύν*</th>\n      <th>count_ἄλγ*</th>\n      <th>count_λύπ*</th>\n    </tr>\n  </thead>\n  <tbody>\n    <tr>\n      <th>1</th>\n      <td>tlg0003.tlg001.perseus-grc2.xml</td>\n      <td>Thucydides</td>\n      <td>The Peloponnesian War</td>\n      <td>150118</td>\n      <td>tlg0003</td>\n      <td>tlg0003.tlg001</td>\n      <td>5 B.C.</td>\n      <td>-4.5</td>\n      <td>{'-4.5': 1}</td>\n      <td>-4.5</td>\n      <td>...</td>\n      <td>[[θουκυδίδης, Ἀθηναῖος, συγγράφω, πόλεμος, Πελ...</td>\n      <td>[θουκυδίδης, Ἀθηναῖος, συγγράφω, πόλεμος, Πελο...</td>\n      <td>71863</td>\n      <td>None</td>\n      <td>[θουκυδίδης, Ἀθηναῖος, συγγράφω, πόλεμος, Πελο...</td>\n      <td>[[θουκυδίδης, Ἀθηναῖος, συγγράφω, πόλεμος, Πελ...</td>\n      <td>31</td>\n      <td>0</td>\n      <td>6</td>\n      <td>25</td>\n    </tr>\n    <tr>\n      <th>6</th>\n      <td>tlg0006.tlg001.perseus-grc2.xml</td>\n      <td>Euripides</td>\n      <td>Cyclops</td>\n      <td>4141</td>\n      <td>tlg0006</td>\n      <td>tlg0006.tlg001</td>\n      <td>5 B.C.</td>\n      <td>-4.5</td>\n      <td>{'-4.5': 1}</td>\n      <td>-4.5</td>\n      <td>...</td>\n      <td>[[Βρόμιος, ἔχω, πόνος, χὥτʼ, ἥβη, ἐμός, εὐσθεν...</td>\n      <td>[Βρόμιος, ἔχω, πόνος, χὥτʼ, ἥβη, ἐμός, εὐσθενέ...</td>\n      <td>2535</td>\n      <td>None</td>\n      <td>[Βρόμιος, ἔχω, πόνο*, χὥτʼ, ἥβη, ἐμός, εὐσθενέ...</td>\n      <td>[[Βρόμιος, ἔχω, πόνο*, χὥτʼ, ἥβη, ἐμός, εὐσθεν...</td>\n      <td>7</td>\n      <td>0</td>\n      <td>0</td>\n      <td>1</td>\n    </tr>\n    <tr>\n      <th>7</th>\n      <td>tlg0006.tlg004.perseus-grc2.xml</td>\n      <td>Euripides</td>\n      <td>Ἡρακλεῖδαι</td>\n      <td>6272</td>\n      <td>tlg0006</td>\n      <td>tlg0006.tlg004</td>\n      <td>5 B.C.</td>\n      <td>-4.5</td>\n      <td>{'-4.5': 1}</td>\n      <td>-4.5</td>\n      <td>...</td>\n      <td>[[ποτός, εἰμί, οὗτος, δεδογμένον], [δίκαιος, φ...</td>\n      <td>[ποτός, εἰμί, οὗτος, δεδογμένον, δίκαιος, φύω,...</td>\n      <td>3545</td>\n      <td>None</td>\n      <td>[ποτός, εἰμί, οὗτος, δεδογμένον, δίκαιος, φύω,...</td>\n      <td>[[ποτός, εἰμί, οὗτος, δεδογμένον], [δίκαιος, φ...</td>\n      <td>11</td>\n      <td>0</td>\n      <td>1</td>\n      <td>2</td>\n    </tr>\n    <tr>\n      <th>8</th>\n      <td>tlg0006.tlg005.perseus-grc2.xml</td>\n      <td>Euripides</td>\n      <td>Ἱππόλυτος</td>\n      <td>8257</td>\n      <td>tlg0006</td>\n      <td>tlg0006.tlg005</td>\n      <td>5 B.C.</td>\n      <td>-4.5</td>\n      <td>{'-4.5': 1}</td>\n      <td>-4.5</td>\n      <td>...</td>\n      <td>[[πολύς, βροτός, ἀνώνυμος, θεά, καλέω, Κύπρις,...</td>\n      <td>[πολύς, βροτός, ἀνώνυμος, θεά, καλέω, Κύπρις, ...</td>\n      <td>4898</td>\n      <td>None</td>\n      <td>[πολύς, βροτός, ἀνώνυμος, θεά, καλέω, Κύπρις, ...</td>\n      <td>[[πολύς, βροτός, ἀνώνυμος, θεά, καλέω, Κύπρις,...</td>\n      <td>8</td>\n      <td>3</td>\n      <td>8</td>\n      <td>8</td>\n    </tr>\n    <tr>\n      <th>9</th>\n      <td>tlg0006.tlg006.perseus-grc2.xml</td>\n      <td>Euripides</td>\n      <td>Ἀνδρομάχη</td>\n      <td>7397</td>\n      <td>tlg0006</td>\n      <td>tlg0006.tlg006</td>\n      <td>5 B.C.</td>\n      <td>-4.5</td>\n      <td>{'-4.5': 1}</td>\n      <td>-4.5</td>\n      <td>...</td>\n      <td>[[Ἀσιανός, γῆ, σχῆμα, θηβαία, πόλις, ἑδνόω, πο...</td>\n      <td>[Ἀσιανός, γῆ, σχῆμα, θηβαία, πόλις, ἑδνόω, πολ...</td>\n      <td>4420</td>\n      <td>None</td>\n      <td>[Ἀσιανός, γῆ, σχῆμα, θηβαία, πόλις, ἑδνόω, πολ...</td>\n      <td>[[Ἀσιανός, γῆ, σχῆμα, θηβαία, πόλις, ἑδνόω, πο...</td>\n      <td>5</td>\n      <td>0</td>\n      <td>7</td>\n      <td>4</td>\n    </tr>\n  </tbody>\n</table>\n<p>5 rows × 24 columns</p>\n</div>"
     },
     "execution_count": 37,
     "metadata": {},
     "output_type": "execute_result"
    }
   ],
   "source": [
    "cgl.head(5)"
   ],
   "metadata": {
    "collapsed": false
   }
  },
  {
   "cell_type": "code",
   "execution_count": 50,
   "outputs": [
    {
     "data": {
      "text/plain": "[3, 10]"
     },
     "execution_count": 50,
     "metadata": {},
     "output_type": "execute_result"
    }
   ],
   "source": [
    "# how to get index for searched elements:\n",
    "wordlist = [\"a\", \"b\", \"c\", \"d\", \"e\", \"f\", \"g\", \"a\", \"b\", \"c\", \"d\", \"e\", \"f\", \"g\", \"h\"]\n",
    "indeces = [el[0] for el in enumerate(wordlist) if el[1]==\"d\"]\n",
    "indeces"
   ],
   "metadata": {
    "collapsed": false
   }
  },
  {
   "cell_type": "code",
   "execution_count": 67,
   "outputs": [],
   "source": [
    "def get_concordances(wordlist, keyword, window):\n",
    "    half = int(window / 2)\n",
    "    keyword_indices = [el[0] for el in enumerate(wordlist) if el[1]==keyword]\n",
    "    concordances = [wordlist[i-half:i+half+1] for i in keyword_indices]\n",
    "    concordances = [c for c in concordances if len(c)==window]\n",
    "    return concordances"
   ],
   "metadata": {
    "collapsed": false
   }
  },
  {
   "cell_type": "code",
   "execution_count": 68,
   "outputs": [
    {
     "data": {
      "text/plain": "[['g', 'a', 'b', 'c', 'd']]"
     },
     "execution_count": 68,
     "metadata": {},
     "output_type": "execute_result"
    }
   ],
   "source": [
    "get_concordances(wordlist, \"b\", 5)"
   ],
   "metadata": {
    "collapsed": false
   }
  },
  {
   "cell_type": "code",
   "execution_count": null,
   "outputs": [],
   "source": [],
   "metadata": {
    "collapsed": false
   }
  },
  {
   "cell_type": "code",
   "execution_count": 73,
   "outputs": [],
   "source": [
    "cgl[\"conc_lype\"] = cgl[\"lemmata_repl\"].apply(lambda x: get_concordances(x, \"λύπ*\", 31))"
   ],
   "metadata": {
    "collapsed": false
   }
  },
  {
   "cell_type": "code",
   "execution_count": 77,
   "outputs": [
    {
     "data": {
      "text/plain": "[['μέγας',\n  'κινδυνεύοντας',\n  'δέχομαι',\n  'ἀείμνηστος',\n  'μαρτύριον',\n  'χάρις',\n  'κατατίθημι',\n  'ναυτικός',\n  'κτέομαι',\n  'πολύς',\n  'σκέπτομαι',\n  'εὐπραξία',\n  'σπάνιος',\n  'τὶς',\n  'πολέμιος',\n  'λύπ*',\n  'πολύς',\n  'χρῆμα',\n  'χάρις',\n  'τιμάω',\n  'δύναμις',\n  'προσγίγνομαι',\n  'οὗτος',\n  'πάρειμι',\n  'αὐτεπάγγελτος',\n  'κίνδυνος',\n  'δαπάνη',\n  'διδοῦσα',\n  'φέρω',\n  'πολύς',\n  'ἀρετή'],\n ['Λακεδαιμόνιος',\n  'διαμέλλω',\n  'οἴομαι',\n  'ἡσυχία',\n  'ἄνθρωπος',\n  'πολύς',\n  'ἀρκέω',\n  'παρασκευή',\n  'δίκαιος',\n  'πράσσω',\n  'γνώμη',\n  'ἀδικέω',\n  'δῆλος',\n  'εἰμί',\n  'ἐπιτρέψοντες',\n  'λύπ*',\n  'ἄλλος',\n  'αὐτός',\n  'ἀμύνω',\n  'βλάπτω',\n  'ἴσος',\n  'νέμω',\n  'πόλις',\n  'ὅμοιος',\n  'παροικοῦντες',\n  'τυγχάνω',\n  'οὗτος',\n  'δηλόω',\n  'ἀρχαιότροπος',\n  'ἐπιτήδευμα',\n  'εἰμί'],\n ['μέγας',\n  'κίνδυνος',\n  'τίθημι',\n  'Λακεδαιμόνιος',\n  'Πελοπόννησος',\n  'πόλις',\n  'ὠφέλιμος',\n  'καθίστημι',\n  'ἐξηγέομαι',\n  'ὑπομένω',\n  'πᾶς',\n  'ἀπέχθομαι',\n  'ἡγεμονία',\n  'οἶδα',\n  'ἥσσων',\n  'λύπ*',\n  'γίγνομαι',\n  'συμμαχέω',\n  'ἀναγκασθέντας',\n  'ἄρχω',\n  'αὐτός',\n  'κινδυνεύω',\n  'θαυμαστός',\n  'οὐδείς',\n  'ποιέω',\n  'ἀνθρώπειος',\n  'τρόπος',\n  'ἀρχή',\n  'διδομένην',\n  'δέχομαι',\n  'οὗτος'],\n ['δουλόω',\n  'ἄλλος',\n  'ἕκαστος',\n  'συμβαίνω',\n  'αἰτία',\n  'ἄλλος',\n  'ἀπόστασις',\n  'μέγας',\n  'φόρος',\n  'ναῦς',\n  'ἔκδεια',\n  'λιποστράτιον',\n  'γίγνομαι',\n  'Ἀθηναῖος',\n  'πράσσω',\n  'λύπ*',\n  'εἰωθόσιν',\n  'βούλομαι',\n  'ταλαιπωρέω',\n  'προσάγοντες',\n  'ἀνάγκη',\n  'Ἀθηναῖος',\n  'ἡδονή',\n  'ἄρχων',\n  'συστρατεύω',\n  'ἴσος',\n  'ῥᾴδιος',\n  'προσάγω',\n  'εἰμί',\n  'ἀφίστημι',\n  'αὐτός'],\n ['δράω',\n  'πόλις',\n  'ἀξίωμα',\n  'ἀφάνεια',\n  'κωλύω',\n  'κοινός',\n  'πολιτεύω',\n  'ἡμέρα',\n  'ἐπιτήδευμα',\n  'ὑποψία',\n  'ὀργή',\n  'ἡδονή',\n  'δράω',\n  'ἔχω',\n  'ἀζήμιος',\n  'λύπ*',\n  'ὄψος',\n  'ἀχθηδών',\n  'προστιθέμενοι',\n  'ἴδιος',\n  'προσομιλοῦντες',\n  'δημόσιος',\n  'δέος',\n  'παρανομέω',\n  'ἀρχή',\n  'ἀκρόασις',\n  'νόμος',\n  'ὠφέλεια',\n  'ἀδικέω',\n  'κεῖμαι',\n  'ἄγραφος'],\n ['φέρω',\n  'πόνο*',\n  'πολύς',\n  'ἀνάπαυλα',\n  'γνώμη',\n  'πορίζω',\n  'ἀγών',\n  'θυσία',\n  'διετήσιος',\n  'νομίζω',\n  'ἴδιος',\n  'κατασκευή',\n  'εὐπρεπής',\n  'ἡμέρα',\n  'τέρψις',\n  'λύπ*',\n  'ἐκπλήσσω',\n  'ἐπεισέρχομαι',\n  'μέγεθος',\n  'πόλις',\n  'γῆ',\n  'πᾶς',\n  'συμβαίνω',\n  'οἰκεῖος',\n  'ἀπόλαυσις',\n  'ἀγαθός',\n  'γιγνόμενα',\n  'καρπόω',\n  'ἄλλος',\n  'ἄνθρωπος',\n  'διαφέρω'],\n ['ἀναίσθητος',\n  'θάνατος',\n  'τοκεύς',\n  'ὅσος',\n  'παρίστημι',\n  'ὀλοφύρομαι',\n  'παραμυθέομαι',\n  'πολύτροπος',\n  'συμφορά',\n  'ἐπίσταμαι',\n  'τραφέντες',\n  'εὐτυχής',\n  'εὐπρεπής',\n  'λαγχάνω',\n  'τελευτή',\n  'λύπ*',\n  'ἐνευδαιμονέω',\n  'βίος',\n  'ἐντελευτάω',\n  'συμμετρέω',\n  'χαλεπός',\n  'οἶδα',\n  'πείθω',\n  'ὄν',\n  'ἔχω',\n  'ὑπόμνημα',\n  'ἄλλος',\n  'εὐτυχία',\n  'αὐτός',\n  'ἀγάλλω',\n  'λύπ*'],\n ['λύπ*',\n  'ἐνευδαιμονέω',\n  'βίος',\n  'ἐντελευτάω',\n  'συμμετρέω',\n  'χαλεπός',\n  'οἶδα',\n  'πείθω',\n  'ὄν',\n  'ἔχω',\n  'ὑπόμνημα',\n  'ἄλλος',\n  'εὐτυχία',\n  'αὐτός',\n  'ἀγάλλω',\n  'λύπ*',\n  'τὶς',\n  'πειρασάμενος',\n  'ἀγαθός',\n  'στερίσκω',\n  'ἐθάς',\n  'γίγνομαι',\n  'ἀφαιρέω',\n  'καρτερέω',\n  'χρή',\n  'ἄλλος',\n  'παῖς',\n  'ἐλπίς',\n  'ἡλικία',\n  'τέκνωσις',\n  'ποιέω'],\n ['αὐτός',\n  'ἐξίστημι',\n  'μεταβάλλω',\n  'συμβαίνω',\n  'πείθω',\n  'ἀκέραιος',\n  'μεταμέλειν',\n  'κακουμένοις',\n  'ἐμός',\n  'λόγος',\n  'ὑμέτερος',\n  'ἀσθενέω',\n  'γνώμη',\n  'ὀρθός',\n  'φαίνω',\n  'λύπ*',\n  'ἔχω',\n  'αἴσθησις',\n  'ἕκαστος',\n  'ὠφέλεια',\n  'ἄπειμι',\n  'δήλωσις',\n  'ἅπας',\n  'μεταβολή',\n  'μέγας',\n  'οὗτος',\n  'ὀλίγος',\n  'ἐμπεσούσης',\n  'ταπεινός',\n  'διάνοια',\n  'ἐγκαρτερέω'],\n ['πόλις',\n  'πᾶς',\n  'εὔπορος',\n  'μέγας',\n  'οἰκέω',\n  'οὗτος',\n  'ἀπράγμων',\n  'μέμφομαι',\n  'δράω',\n  'αὐτός',\n  'βούλομαι',\n  'ζηλόω',\n  'κτάομαι',\n  'φθονέω',\n  'μισέω',\n  'λύπ*',\n  'πάρειμι',\n  'πᾶς',\n  'ὑπάρχω',\n  'ἕτερος',\n  'ἕτερος',\n  'ἀξιόω',\n  'ἄρχω',\n  'μέγας',\n  'ἐπίφθονος',\n  'λαμβάνω',\n  'βουλεύω',\n  'μῖσος',\n  'πολύς',\n  'ἀντέχω',\n  'λαμπρότης'],\n ['προγνόντες',\n  'αἰσχρός',\n  'πρόθυμος',\n  'ἀμφότεροι',\n  'κτάομαι',\n  'Λακεδαιμόνιος',\n  'ἐπικηρυκεύομαι',\n  'ἔνδηλος',\n  'εἰμί',\n  'πείρω',\n  'πόνο*',\n  'βαρυνόμενοι',\n  'συμφορεύς',\n  'γνώμη',\n  'ἥκιστος',\n  'λύπ*',\n  'ἔργον',\n  'ἀντέχω',\n  'πόλις',\n  'ἰδιώτης',\n  'κράτιστος',\n  'εἰμί',\n  'τοιοῦτος',\n  'Περικλῆς',\n  'λέγω',\n  'πειράω',\n  'Ἀθηναῖος',\n  'ὀργή',\n  'παραλύω',\n  'πάρειμι',\n  'δεινός'],\n ['Ἀθηναῖος',\n  'ὀργή',\n  'παραλύω',\n  'πάρειμι',\n  'δεινός',\n  'ἀπάγω',\n  'γνώμη',\n  'λόγος',\n  'ἀναπείθω',\n  'Λακεδαιμόνιος',\n  'πέμπω',\n  'πόλεμος',\n  'ὁρμέω',\n  'ἴδιος',\n  'πάθημα',\n  'λύπ*',\n  'δῆμος',\n  'ἐλάσσων',\n  'ὁρμάω',\n  'στερέω',\n  'δυνατός',\n  'καλός',\n  'κτῆμα',\n  'χώρα',\n  'οἰκοδομία',\n  'πολυτελής',\n  'κατασκευή',\n  'ἀπολωλεκότες',\n  'μέγας',\n  'πόλεμος',\n  'εἰρήνη'],\n ['διαβαίνω',\n  'ἔτος',\n  'ὁπλίτης',\n  'φρουρά',\n  'διαπέμπω',\n  'πολύς',\n  'ἐπιμέλεια',\n  'ποιέω',\n  'Αἴγυπτος',\n  'Λιβύη',\n  'ὁλκάς',\n  'προσβολή',\n  'λῃστής',\n  'Λακωνικός',\n  'ἥσσων',\n  'λύπ*',\n  'θάλασσα',\n  'μόνος',\n  'οἷος',\n  'κακουργέω',\n  'ἀνέχω',\n  'Σικελικός',\n  'Κρητικός',\n  'πέλαγος',\n  'κατέχω',\n  'Ἀθηναῖος',\n  'στρατός',\n  'ναῦς',\n  'δισχίλιοι',\n  'Μιλήσιος',\n  'ὁπλίτης'],\n ['λίθος',\n  'μέγας',\n  'ἄνθρωπος',\n  'πολύς',\n  'ἀναβαίνω',\n  'οἴκημα',\n  'λαμβάνω',\n  'μέγας',\n  'ἄχθος',\n  'καταρρήγνυμι',\n  'ψόφος',\n  'πολύς',\n  'γίγνομαι',\n  'ὁρῶντας',\n  'Ἀθηναῖος',\n  'λύπ*',\n  'φοβέω',\n  'πολύς',\n  'νομίζω',\n  'ἁλίσκομαι',\n  'χωρίον',\n  'φυγή',\n  'θάλασσα',\n  'ναῦς',\n  'ὁρμάω',\n  'βρασίδας',\n  'αἰσθάνομαι',\n  'ἀπολείποντάς',\n  'ἔπαλξις',\n  'γίγνομαι',\n  'ὁράω'],\n ['ὅμοιος',\n  'τὶς',\n  'ἀνέχω',\n  'εὐπραγέω',\n  'ὑπερφρονούμενος',\n  'ἴσος',\n  'νέμω',\n  'ὅμοιος',\n  'ἀνταξιόω',\n  'οἶδα',\n  'τοιοῦτος',\n  'ὅσος',\n  'λαμπρότης',\n  'προέχω',\n  'βίος',\n  'λύπ*',\n  'εἰμί',\n  'ὅμοιος',\n  'ἄλλος',\n  'ξυνόντας',\n  'ἄνθρωπος',\n  'προσποίησις',\n  'γενειάω',\n  'εἰμί',\n  'καταλείπω',\n  'εἰμί',\n  'πατρίς',\n  'οὗτος',\n  'αὔχησις',\n  'ἀλλότριος',\n  'ἁμαρτάνω'],\n ['λέγω',\n  'ἔοικα',\n  'αὐτός',\n  'ἀποκνέω',\n  'σύμμαχος',\n  'σκήπτω',\n  'βοηθέω',\n  'χρῆ',\n  'συνόμνυμι',\n  'ἐπαμύνω',\n  'ἀντιτίθημι',\n  'ἐκεῖνος',\n  'ἀντιβοηθέω',\n  'προστίθημι',\n  'ἐχθρός',\n  'λύπ*',\n  'κωλύω',\n  'αὐτός',\n  'ἔπειμι',\n  'ἀρχή',\n  'κτέομαι',\n  'ὅσος',\n  'ἄλλος',\n  'ἄρχω',\n  'παραγιγνόμενοι',\n  'βάρβαρος',\n  'Ἕλλην',\n  'ἐπικαλέω',\n  'ἡσυχάζω',\n  'πᾶς',\n  'φυλοκρινέω'],\n ['ἔργον',\n  'πρόοιδα',\n  'ὁράω',\n  'τὶς',\n  'συνωμότης',\n  'διαλέγομαι',\n  'ἱππίας',\n  'πᾶς',\n  'εὐπρόσοδος',\n  'ἵππιος',\n  'δείδω',\n  'νομίζω',\n  'μεμηνῦσθαί',\n  'ὅσος',\n  'συλλαμβάνω',\n  'λύπ*',\n  'πᾶς',\n  'κινδυνεύω',\n  'βούλομαι',\n  'πρότερος',\n  'δύναμαι',\n  'προτιμωρέω',\n  'ἔχω',\n  'ὁρμάω',\n  'πύλη',\n  'περιτυγχάνω',\n  'Ἵππαρχος',\n  'λεωκόρειον',\n  'καλέω',\n  'προσπίτνω',\n  'ὀργή'],\n ['ὑπολαμβάνω',\n  'ἐκλέγω',\n  'ἐπαιτιάομαι',\n  'τὶς',\n  'εὑρίσκω',\n  'ἐγχειρίδιος',\n  'ἔχω',\n  'ἀσπίς',\n  'δόρυ',\n  'ἔθω',\n  'πομπή',\n  'ποιέω',\n  'τοιοῦτος',\n  'τρόπος',\n  'ἐρωτικός',\n  'λύπ*',\n  'ἀρχή',\n  'ἐπιβουλή',\n  'ἀλόγιστος',\n  'τόλμα',\n  'περιδεής',\n  'ἁρμόδιος',\n  'ἀριστογείτονι',\n  'γίγνομαι',\n  'Ἀθήναιος',\n  'χαλεπός',\n  'οὗτος',\n  'τυραννίς',\n  'καθίστημι',\n  'ἵππιος',\n  'φόβος'],\n ['εἰμί',\n  'ὁδός',\n  'ἡσυχία',\n  'καθίζω',\n  'στράτευμα',\n  'χωρίον',\n  'ἐπιτήδειος',\n  'μάχη',\n  'ἄρχω',\n  'μέλλω',\n  'βούλομαι',\n  'ἱππεύς',\n  'Συρακούσιος',\n  'ἥκιστος',\n  'ἔργον',\n  'λύπ*',\n  'τειχίον',\n  'οἰκία',\n  'ἔργω',\n  'δένδρον',\n  'λίμνη',\n  'κρημνός',\n  'δένδρον',\n  'κόπτω',\n  'κατενεγκόντες',\n  'θάλασσα',\n  'ναῦς',\n  'σταύρωμα',\n  'πήγνυμι',\n  'δάσκωνι',\n  'ἔρυμα'],\n ['δύναμις',\n  'Πελοποννήσιοι',\n  'βλάπτω',\n  'οὗτος',\n  'προσήκω',\n  'μέγας',\n  'Λεοντῖνοι',\n  'εὔλογος',\n  'κατοικίζω',\n  'ὑπήκοος',\n  'συγγενής',\n  'Εὔβοια',\n  'δυνατός',\n  'σφέτερος',\n  'ὅμορος',\n  'λύπ*',\n  'εἰμί',\n  'αὐτός',\n  'ἀρκέω',\n  'πολέμιος',\n  'χαλκιδεύς',\n  'φημί',\n  'δουλωσαμένους',\n  'ἐλευθερόω',\n  'σύμφορος',\n  'ἀπαράσκευος',\n  'χρῆμα',\n  'μόνος',\n  'φέρω',\n  'λεοντῖνοι',\n  'ἄλλος'],\n ['ἀπολιμπάνω',\n  'στρατόπεδον',\n  'συμβαίνω',\n  'ὄψος',\n  'ἕκαστος',\n  'ἄλγ*',\n  'γνώμη',\n  'αἰσθάνομαι',\n  'νεκρός',\n  'ἄταφος',\n  'εἰμί',\n  'ὁράω',\n  'τὶς',\n  'ἐπιτήδειος',\n  'κεῖμαι',\n  'λύπ*',\n  'φόβος',\n  'καθίστημι',\n  'ζῶ',\n  'καταλειπόμενοι',\n  'τραυματίης',\n  'ἀσθενής',\n  'πολύς',\n  'τεθνεώτων',\n  'ζῶ',\n  'λύπ*',\n  'ἀπολωλότων',\n  'ἄθλιος',\n  'ἀντιβολία',\n  'ὀλοφυρμός',\n  'τραπόμενοι'],\n ['εἰμί',\n  'ὁράω',\n  'τὶς',\n  'ἐπιτήδειος',\n  'κεῖμαι',\n  'λύπ*',\n  'φόβος',\n  'καθίστημι',\n  'ζῶ',\n  'καταλειπόμενοι',\n  'τραυματίης',\n  'ἀσθενής',\n  'πολύς',\n  'τεθνεώτων',\n  'ζῶ',\n  'λύπ*',\n  'ἀπολωλότων',\n  'ἄθλιος',\n  'ἀντιβολία',\n  'ὀλοφυρμός',\n  'τραπόμενοι',\n  'ἀπορία',\n  'καθίστημι',\n  'ἄγω',\n  'ἀξιόω',\n  'εἷς',\n  'ἕκαστος',\n  'ἐπιβοώμενοι',\n  'τὶς',\n  'ὁράω',\n  'ἑταῖρος'],\n ['ἀρετή',\n  'νενομισμένην',\n  'ἐπιτήδευσις',\n  'λιθοτομία',\n  'Συρακούσιος',\n  'πρῶτος',\n  'χρόνος',\n  'μεταχειρίζω',\n  'κοῖλος',\n  'χωρίον',\n  'ὀλίγος',\n  'πολύς',\n  'ἥλιος',\n  'πρῶτος',\n  'πνῖγος',\n  'λύπ*',\n  'ἀστέγαστος',\n  'νύξ',\n  'ἐπιγιγνόμεναι',\n  'μετοπωρινός',\n  'ψυχρός',\n  'μεταβολή',\n  'ἀσθένεια',\n  'νεωτερίζω',\n  'πᾶς',\n  'ποιέω',\n  'στενοχωρία',\n  'νεκρός',\n  'ἀλλήλων',\n  'ξυννενημένων',\n  'τραῦμα'],\n ['χαλεπός',\n  'εἰμί',\n  'ξυμπροθυμηθεῖσι',\n  'ῥήτωρ',\n  'ἔκπλοος',\n  'ψηφισάμενοι',\n  'ὀργίζω',\n  'χρησμολόγος',\n  'μάντις',\n  'ὁπόσος',\n  'θειάσαντες',\n  'ἐπελπίζω',\n  'λαμβάνω',\n  'Σικελία',\n  'πᾶς',\n  'λύπ*',\n  'περιίστημι',\n  'γεγενημένῳ',\n  'φόβος',\n  'κατάπληξις',\n  'μέγας',\n  'στερόμενοι',\n  'ἴδιος',\n  'ἕκαστος',\n  'πόλις',\n  'ὁπλίτης',\n  'πολύς',\n  'ἱππεύς',\n  'ἡλικία',\n  'οἷος',\n  'ἕτερος'],\n ['Ἕλλην',\n  'πολύς',\n  'μισθός',\n  'πορίζοντα',\n  'αὐτός',\n  'γῆ',\n  'θάλασσα',\n  'κράτος',\n  'δίδωμι',\n  'ἔχω',\n  'ἀμφότεροι',\n  'ἐάω',\n  'ἀρχή',\n  'βασιλεύς',\n  'ἔξεστι',\n  'λύπ*',\n  'ἕτερος',\n  'ἐπάγω',\n  'γίγνομαι',\n  'γῆ',\n  'θάλασσα',\n  'ἀρχή',\n  'ἀπορέω',\n  'ἑός',\n  'κρατέω',\n  'συγκαθαιρέω',\n  'αὐτός',\n  'βούλομαι',\n  'μέγας',\n  'δαπάνη',\n  'κίνδυνος']]"
     },
     "execution_count": 77,
     "metadata": {},
     "output_type": "execute_result"
    }
   ],
   "source": [
    "cgl[\"conc_lype\"].tolist()[0]"
   ],
   "metadata": {
    "collapsed": false
   }
  },
  {
   "cell_type": "markdown",
   "metadata": {
    "colab_type": "text",
    "id": "pcN5UAlv20oP"
   },
   "source": [
    "# Export the subcorpus for future usage"
   ]
  },
  {
   "cell_type": "code",
   "execution_count": 78,
   "outputs": [],
   "source": [
    "cgl.to_json(\"../data/large_data/cgl.json\")"
   ],
   "metadata": {
    "collapsed": false
   }
  },
  {
   "cell_type": "code",
   "execution_count": null,
   "outputs": [],
   "source": [],
   "metadata": {
    "collapsed": false
   }
  }
 ],
 "metadata": {
  "colab": {
   "collapsed_sections": [],
   "name": "0_EXTRACTING-CORPORA.ipynb",
   "provenance": []
  },
  "kernelspec": {
   "name": "pipa_venv",
   "language": "python",
   "display_name": "pipa_venv"
  },
  "language_info": {
   "codemirror_mode": {
    "name": "ipython",
    "version": 3
   },
   "file_extension": ".py",
   "mimetype": "text/x-python",
   "name": "python",
   "nbconvert_exporter": "python",
   "pygments_lexer": "ipython3",
   "version": "3.6.9"
  }
 },
 "nbformat": 4,
 "nbformat_minor": 1
}
