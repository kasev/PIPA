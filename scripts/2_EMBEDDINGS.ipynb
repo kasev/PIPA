{
 "cells": [
  {
   "cell_type": "code",
   "execution_count": 40,
   "metadata": {
    "pycharm": {
     "name": "#%%\n"
    }
   },
   "outputs": [],
   "source": [
    "import numpy as np\n",
    "import pandas as pd\n",
    "import requests\n",
    "import re\n",
    "import nltk\n",
    "from sklearn.feature_extraction.text import CountVectorizer\n",
    "from sklearn.decomposition import TruncatedSVD\n",
    "from sklearn.metrics.pairwise import cosine_similarity\n",
    "import pickle"
   ]
  },
  {
   "cell_type": "code",
   "execution_count": 23,
   "outputs": [
    {
     "name": "stdout",
     "output_type": "stream",
     "text": [
      "endpoint variable has been configured to: https://sciencedata.dk/files/\n"
     ]
    }
   ],
   "source": [
    "# to communicate with google spreadsheet...\n",
    "import gspread\n",
    "from gspread_dataframe import get_as_dataframe\n",
    "from gspread_dataframe import set_with_dataframe\n",
    "from google.oauth2 import service_account # based on google-auth library\n",
    "import sddk\n",
    "\n",
    "s = sddk.cloudSession(\"sciencedata.dk\")\n",
    "# establish connection with gogglesheets...\n",
    "file_data = s.read_file(\"https://sciencedata.dk/files/ServiceAccountsKey.json\", \"dict\") # or load it from a local storage: json.load(open(\"../../ServiceAccountsKey.json\", \"r\"))\n",
    "credentials = service_account.Credentials.from_service_account_info(file_data)\n",
    "gc = gspread.Client(auth=credentials.with_scopes(['https://spreadsheets.google.com/feeds', 'https://www.googleapis.com/auth/drive']))\n",
    "PIPA_data = gc.open_by_url(\"https://docs.google.com/spreadsheets/d/1rV4t0_UV_wcx--UAHVwkqB8Wa_5n9mnpV05yGG1OHqk/edit?usp=sharing\")"
   ],
   "metadata": {
    "collapsed": false,
    "pycharm": {
     "name": "#%%\n"
    }
   }
  },
  {
   "cell_type": "markdown",
   "metadata": {
    "colab_type": "text",
    "id": "CMR9KfVlwJbR",
    "pycharm": {
     "name": "#%% md\n"
    }
   },
   "source": [
    "# Load the main dataset of ancient Greek texts"
   ]
  },
  {
   "cell_type": "code",
   "execution_count": 2,
   "outputs": [
    {
     "data": {
      "text/plain": "                          filename      author                  title  \\\n1  tlg0003.tlg001.perseus-grc2.xml  Thucydides  The Peloponnesian War   \n6  tlg0006.tlg001.perseus-grc2.xml   Euripides                Cyclops   \n7  tlg0006.tlg004.perseus-grc2.xml   Euripides             Ἡρακλεῖδαι   \n8  tlg0006.tlg005.perseus-grc2.xml   Euripides              Ἱππόλυτος   \n9  tlg0006.tlg006.perseus-grc2.xml   Euripides              Ἀνδρομάχη   \n\n   wordcount author_id          doc_id raw_date  date_avr   date_probs  \\\n1     150118   tlg0003  tlg0003.tlg001   5 B.C.      -4.5  {'-4.5': 1}   \n6       4141   tlg0006  tlg0006.tlg001   5 B.C.      -4.5  {'-4.5': 1}   \n7       6272   tlg0006  tlg0006.tlg004   5 B.C.      -4.5  {'-4.5': 1}   \n8       8257   tlg0006  tlg0006.tlg005   5 B.C.      -4.5  {'-4.5': 1}   \n9       7397   tlg0006  tlg0006.tlg006   5 B.C.      -4.5  {'-4.5': 1}   \n\n   date_manual  ...                                            lemmata  \\\n1         -4.5  ...  [θουκυδίδης, Ἀθηναῖος, συγγράφω, πόλεμος, Πελο...   \n6         -4.5  ...  [Βρόμιος, ἔχω, πόνος, χὥτʼ, ἥβη, ἐμός, εὐσθενέ...   \n7         -4.5  ...  [ποτός, εἰμί, οὗτος, δεδογμένον, δίκαιος, φύω,...   \n8         -4.5  ...  [πολύς, βροτός, ἀνώνυμος, θεά, καλέω, Κύπρις, ...   \n9         -4.5  ...  [Ἀσιανός, γῆ, σχῆμα, θηβαία, πόλις, ἑδνόω, πολ...   \n\n  lemmata_wordcount subcorpus  \\\n1             71863      None   \n6              2535      None   \n7              3545      None   \n8              4898      None   \n9              4420      None   \n\n                                        lemmata_repl  \\\n1  [θουκυδίδης, Ἀθηναῖος, συγγράφω, πόλεμος, Πελο...   \n6  [Βρόμιος, ἔχω, πόνο*, χὥτʼ, ἥβη, ἐμός, εὐσθενέ...   \n7  [ποτός, εἰμί, οὗτος, δεδογμένον, δίκαιος, φύω,...   \n8  [πολύς, βροτός, ἀνώνυμος, θεά, καλέω, Κύπρις, ...   \n9  [Ἀσιανός, γῆ, σχῆμα, θηβαία, πόλις, ἑδνόω, πολ...   \n\n                           lemmatized_sentences_repl count_πόνο*  count_ὀδύν*  \\\n1  [[θουκυδίδης, Ἀθηναῖος, συγγράφω, πόλεμος, Πελ...          31            0   \n6  [[Βρόμιος, ἔχω, πόνο*, χὥτʼ, ἥβη, ἐμός, εὐσθεν...           7            0   \n7  [[ποτός, εἰμί, οὗτος, δεδογμένον], [δίκαιος, φ...          11            0   \n8  [[πολύς, βροτός, ἀνώνυμος, θεά, καλέω, Κύπρις,...           8            3   \n9  [[Ἀσιανός, γῆ, σχῆμα, θηβαία, πόλις, ἑδνόω, πο...           5            0   \n\n  count_ἄλγ* count_λύπ*                                          conc_lype  \n1          6         25  [[μέγας, κινδυνεύοντας, δέχομαι, ἀείμνηστος, μ...  \n6          0          1  [[βοτόν, οὔτις, θύω, θεός, μέγας, γαστήρ, δαίμ...  \n7          1          2  [[εἰμί, πολύς, χαίρω, δυσφημέω, ἅζομαι, θέα, σ...  \n8          8          8  [[κοιτάζω, λέχος, σός, ναυβάτης, τὶς, πλέω, κρ...  \n9          7          4  [[Τροία, πράσσω, μηδείς, ὅδε, αὐχέω, πράσσω, δ...  \n\n[5 rows x 25 columns]",
      "text/html": "<div>\n<style scoped>\n    .dataframe tbody tr th:only-of-type {\n        vertical-align: middle;\n    }\n\n    .dataframe tbody tr th {\n        vertical-align: top;\n    }\n\n    .dataframe thead th {\n        text-align: right;\n    }\n</style>\n<table border=\"1\" class=\"dataframe\">\n  <thead>\n    <tr style=\"text-align: right;\">\n      <th></th>\n      <th>filename</th>\n      <th>author</th>\n      <th>title</th>\n      <th>wordcount</th>\n      <th>author_id</th>\n      <th>doc_id</th>\n      <th>raw_date</th>\n      <th>date_avr</th>\n      <th>date_probs</th>\n      <th>date_manual</th>\n      <th>...</th>\n      <th>lemmata</th>\n      <th>lemmata_wordcount</th>\n      <th>subcorpus</th>\n      <th>lemmata_repl</th>\n      <th>lemmatized_sentences_repl</th>\n      <th>count_πόνο*</th>\n      <th>count_ὀδύν*</th>\n      <th>count_ἄλγ*</th>\n      <th>count_λύπ*</th>\n      <th>conc_lype</th>\n    </tr>\n  </thead>\n  <tbody>\n    <tr>\n      <th>1</th>\n      <td>tlg0003.tlg001.perseus-grc2.xml</td>\n      <td>Thucydides</td>\n      <td>The Peloponnesian War</td>\n      <td>150118</td>\n      <td>tlg0003</td>\n      <td>tlg0003.tlg001</td>\n      <td>5 B.C.</td>\n      <td>-4.5</td>\n      <td>{'-4.5': 1}</td>\n      <td>-4.5</td>\n      <td>...</td>\n      <td>[θουκυδίδης, Ἀθηναῖος, συγγράφω, πόλεμος, Πελο...</td>\n      <td>71863</td>\n      <td>None</td>\n      <td>[θουκυδίδης, Ἀθηναῖος, συγγράφω, πόλεμος, Πελο...</td>\n      <td>[[θουκυδίδης, Ἀθηναῖος, συγγράφω, πόλεμος, Πελ...</td>\n      <td>31</td>\n      <td>0</td>\n      <td>6</td>\n      <td>25</td>\n      <td>[[μέγας, κινδυνεύοντας, δέχομαι, ἀείμνηστος, μ...</td>\n    </tr>\n    <tr>\n      <th>6</th>\n      <td>tlg0006.tlg001.perseus-grc2.xml</td>\n      <td>Euripides</td>\n      <td>Cyclops</td>\n      <td>4141</td>\n      <td>tlg0006</td>\n      <td>tlg0006.tlg001</td>\n      <td>5 B.C.</td>\n      <td>-4.5</td>\n      <td>{'-4.5': 1}</td>\n      <td>-4.5</td>\n      <td>...</td>\n      <td>[Βρόμιος, ἔχω, πόνος, χὥτʼ, ἥβη, ἐμός, εὐσθενέ...</td>\n      <td>2535</td>\n      <td>None</td>\n      <td>[Βρόμιος, ἔχω, πόνο*, χὥτʼ, ἥβη, ἐμός, εὐσθενέ...</td>\n      <td>[[Βρόμιος, ἔχω, πόνο*, χὥτʼ, ἥβη, ἐμός, εὐσθεν...</td>\n      <td>7</td>\n      <td>0</td>\n      <td>0</td>\n      <td>1</td>\n      <td>[[βοτόν, οὔτις, θύω, θεός, μέγας, γαστήρ, δαίμ...</td>\n    </tr>\n    <tr>\n      <th>7</th>\n      <td>tlg0006.tlg004.perseus-grc2.xml</td>\n      <td>Euripides</td>\n      <td>Ἡρακλεῖδαι</td>\n      <td>6272</td>\n      <td>tlg0006</td>\n      <td>tlg0006.tlg004</td>\n      <td>5 B.C.</td>\n      <td>-4.5</td>\n      <td>{'-4.5': 1}</td>\n      <td>-4.5</td>\n      <td>...</td>\n      <td>[ποτός, εἰμί, οὗτος, δεδογμένον, δίκαιος, φύω,...</td>\n      <td>3545</td>\n      <td>None</td>\n      <td>[ποτός, εἰμί, οὗτος, δεδογμένον, δίκαιος, φύω,...</td>\n      <td>[[ποτός, εἰμί, οὗτος, δεδογμένον], [δίκαιος, φ...</td>\n      <td>11</td>\n      <td>0</td>\n      <td>1</td>\n      <td>2</td>\n      <td>[[εἰμί, πολύς, χαίρω, δυσφημέω, ἅζομαι, θέα, σ...</td>\n    </tr>\n    <tr>\n      <th>8</th>\n      <td>tlg0006.tlg005.perseus-grc2.xml</td>\n      <td>Euripides</td>\n      <td>Ἱππόλυτος</td>\n      <td>8257</td>\n      <td>tlg0006</td>\n      <td>tlg0006.tlg005</td>\n      <td>5 B.C.</td>\n      <td>-4.5</td>\n      <td>{'-4.5': 1}</td>\n      <td>-4.5</td>\n      <td>...</td>\n      <td>[πολύς, βροτός, ἀνώνυμος, θεά, καλέω, Κύπρις, ...</td>\n      <td>4898</td>\n      <td>None</td>\n      <td>[πολύς, βροτός, ἀνώνυμος, θεά, καλέω, Κύπρις, ...</td>\n      <td>[[πολύς, βροτός, ἀνώνυμος, θεά, καλέω, Κύπρις,...</td>\n      <td>8</td>\n      <td>3</td>\n      <td>8</td>\n      <td>8</td>\n      <td>[[κοιτάζω, λέχος, σός, ναυβάτης, τὶς, πλέω, κρ...</td>\n    </tr>\n    <tr>\n      <th>9</th>\n      <td>tlg0006.tlg006.perseus-grc2.xml</td>\n      <td>Euripides</td>\n      <td>Ἀνδρομάχη</td>\n      <td>7397</td>\n      <td>tlg0006</td>\n      <td>tlg0006.tlg006</td>\n      <td>5 B.C.</td>\n      <td>-4.5</td>\n      <td>{'-4.5': 1}</td>\n      <td>-4.5</td>\n      <td>...</td>\n      <td>[Ἀσιανός, γῆ, σχῆμα, θηβαία, πόλις, ἑδνόω, πολ...</td>\n      <td>4420</td>\n      <td>None</td>\n      <td>[Ἀσιανός, γῆ, σχῆμα, θηβαία, πόλις, ἑδνόω, πολ...</td>\n      <td>[[Ἀσιανός, γῆ, σχῆμα, θηβαία, πόλις, ἑδνόω, πο...</td>\n      <td>5</td>\n      <td>0</td>\n      <td>7</td>\n      <td>4</td>\n      <td>[[Τροία, πράσσω, μηδείς, ὅδε, αὐχέω, πράσσω, δ...</td>\n    </tr>\n  </tbody>\n</table>\n<p>5 rows × 25 columns</p>\n</div>"
     },
     "execution_count": 2,
     "metadata": {},
     "output_type": "execute_result"
    }
   ],
   "source": [
    "cgl = pd.read_json(\"../data/large_data/cgl.json\")\n",
    "cgl.head()"
   ],
   "metadata": {
    "collapsed": false,
    "pycharm": {
     "name": "#%%\n"
    }
   }
  },
  {
   "cell_type": "code",
   "execution_count": 3,
   "outputs": [],
   "source": [
    "sents = [sen for work in cgl[\"lemmatized_sentences_repl\"] for sen in work]"
   ],
   "metadata": {
    "collapsed": false,
    "pycharm": {
     "name": "#%%\n"
    }
   }
  },
  {
   "cell_type": "code",
   "execution_count": 5,
   "outputs": [
    {
     "data": {
      "text/plain": "256084"
     },
     "execution_count": 5,
     "metadata": {},
     "output_type": "execute_result"
    }
   ],
   "source": [
    "len(sents)"
   ],
   "metadata": {
    "collapsed": false,
    "pycharm": {
     "name": "#%%\n"
    }
   }
  },
  {
   "cell_type": "code",
   "execution_count": 6,
   "outputs": [],
   "source": [
    "min_freq = 5\n",
    "\n",
    "def get_vocab(docs, min_freq=5):\n",
    "    words_flat = [item for sublist in docs for item in sublist]\n",
    "    word_freq_tups = nltk.FreqDist(words_flat).most_common()\n",
    "    vocabulary = [tup[0] for tup in word_freq_tups if tup[1] >= min_freq]\n",
    "    #vocab_freqs = [len([doc for doc in docs if word in doc]) for word in vocabulary]\n",
    "    return words_flat, vocabulary # , vocab_freqs"
   ],
   "metadata": {
    "collapsed": false,
    "pycharm": {
     "name": "#%%\n"
    }
   }
  },
  {
   "cell_type": "code",
   "execution_count": 10,
   "outputs": [],
   "source": [
    "words, vocabulary = get_vocab(sents)"
   ],
   "metadata": {
    "collapsed": false,
    "pycharm": {
     "name": "#%%\n"
    }
   }
  },
  {
   "cell_type": "code",
   "execution_count": 14,
   "outputs": [
    {
     "data": {
      "text/plain": "1680907"
     },
     "execution_count": 14,
     "metadata": {},
     "output_type": "execute_result"
    }
   ],
   "source": [
    "len(words)"
   ],
   "metadata": {
    "collapsed": false,
    "pycharm": {
     "name": "#%%\n"
    }
   }
  },
  {
   "cell_type": "code",
   "execution_count": 13,
   "outputs": [
    {
     "data": {
      "text/plain": "17703"
     },
     "execution_count": 13,
     "metadata": {},
     "output_type": "execute_result"
    }
   ],
   "source": [
    "len(vocabaulary)"
   ],
   "metadata": {
    "collapsed": false,
    "pycharm": {
     "name": "#%%\n"
    }
   }
  },
  {
   "cell_type": "code",
   "execution_count": 15,
   "outputs": [],
   "source": [
    "# continuous bigrams & trigrams, crossing sentence divisions\n",
    "bigrams = [list(ngram) for ngram in nltk.bigrams(words)]\n",
    "trigrams = [list(ngram) for ngram in nltk.trigrams(words)]"
   ],
   "metadata": {
    "collapsed": false,
    "pycharm": {
     "name": "#%%\n"
    }
   }
  },
  {
   "cell_type": "code",
   "execution_count": 17,
   "outputs": [],
   "source": [
    "# continuous bigrams & trigrams, within sentences only\n",
    "sents_bigrams = [list(el) for sublist in [[ng for ng in nltk.bigrams(sent)] for sent in sents] for el in sublist]\n",
    "\n",
    "sents_trigrams = [list(el) for sublist in [[ng for ng in nltk.trigrams(sent)] for sent in sents] for el in sublist]"
   ],
   "metadata": {
    "collapsed": false,
    "pycharm": {
     "name": "#%%\n"
    }
   }
  },
  {
   "cell_type": "code",
   "execution_count": 38,
   "outputs": [],
   "source": [
    "def get_cooc(docs, vocabulary=None, min_freq=5):\n",
    "    if vocabulary==None:\n",
    "        lemmata, vocabulary = get_vocab(docs, min_freq)\n",
    "    vec_bow = CountVectorizer(vocabulary=vocabulary, lowercase=False)\n",
    "    bow = vec_bow.fit_transform([\" \".join(list(set(sentence))) for sentence in docs])\n",
    "    cooc  = bow.T * bow\n",
    "    cooc = cooc / len(docs)\n",
    "    return cooc, vocabulary\n",
    "\n",
    "def normalize_ppmi3_matrix(pmi_matrix_df):\n",
    "    minval, maxval = pmi_matrix_df.min().min(), pmi_matrix_df.max().max()\n",
    "    diff = abs(maxval - minval)\n",
    "    minval_doubled = minval - diff\n",
    "    pmi_matrix_df.fillna(minval_doubled, inplace=True)\n",
    "    pmi_matrix_norm_df = (pmi_matrix_df - minval_doubled) / (maxval - minval_doubled)\n",
    "    return pmi_matrix_norm_df\n",
    "\n",
    "def get_ppmi_df(cooc, vocabulary, normalize=True, exp=2):\n",
    "    pmi_rows_list = []\n",
    "    for i in range(cooc.shape[1]):\n",
    "        ab = np.array([row_el for row_el in list(cooc[i].toarray()[0])], dtype=float)\n",
    "        ab_exp = np.power(ab, exp)\n",
    "        axb = np.array([cooc[row_el[0], row_el[0]] * cooc[i, i] for row_el in enumerate(list(cooc[i].toarray()[0]))], dtype=float)\n",
    "        pmi_row = np.divide(ab_exp, axb, out=np.zeros_like(ab_exp), where=axb!=0)\n",
    "        pmi_row = [np.log(n) if n>0 else None for n in pmi_row]\n",
    "        pmi_rows_list.append(pmi_row)\n",
    "    pmi_matrix_df = pd.DataFrame(pmi_rows_list, columns=vocabulary, index=vocabulary)\n",
    "    if normalize == True:\n",
    "        pmi_matrix_df = normalize_ppmi3_matrix(pmi_matrix_df)\n",
    "        np.fill_diagonal(pmi_matrix_df.to_numpy(), 1)\n",
    "    return pmi_matrix_df\n",
    "\n",
    "def svd_reduction(cooc_matrix, n_components=150, random_state=1, n_iter=10):\n",
    "    svd = TruncatedSVD(n_components=n_components, random_state=random_state, n_iter=n_iter)\n",
    "    svd_matrix = svd.fit_transform(cooc_matrix)\n",
    "    return svd_matrix\n",
    "\n",
    "def from_docs_to_embeddings(docs, vocabulary=None, min_freq=5):\n",
    "    cooc, vocabulary = get_cooc(docs, vocabulary=vocabulary, min_freq=min_freq)\n",
    "    pmi_matrix = get_ppmi_df(cooc, vocabulary)\n",
    "    word_vectors_array = svd_reduction(pmi_matrix, n_components=150, random_state=1, n_iter=10)\n",
    "    word_vectors_df = pd.DataFrame(word_vectors_array, index=vocabulary)\n",
    "    pmi_svd_cos = pd.DataFrame(cosine_similarity(word_vectors_array), columns=vocabulary, index=vocabulary)\n",
    "    return [cooc, vocabulary, pmi_matrix, word_vectors_df, pmi_svd_cos]"
   ],
   "metadata": {
    "collapsed": false,
    "pycharm": {
     "name": "#%%\n"
    }
   }
  },
  {
   "cell_type": "code",
   "execution_count": 39,
   "outputs": [
    {
     "name": "stdout",
     "output_type": "stream",
     "text": [
      "CPU times: user 8min 36s, sys: 9.43 s, total: 8min 46s\n",
      "Wall time: 8min 8s\n"
     ]
    }
   ],
   "source": [
    "%%time\n",
    "data = from_docs_to_embeddings(sents + sents_bigrams + sents_trigrams , vocabulary=vocabulary[:5000])"
   ],
   "metadata": {
    "collapsed": false,
    "pycharm": {
     "name": "#%%\n"
    }
   }
  },
  {
   "cell_type": "code",
   "execution_count": 47,
   "outputs": [
    {
     "data": {
      "text/plain": "<5000x5000 sparse matrix of type '<class 'numpy.float64'>'\n\twith 2862754 stored elements in Compressed Sparse Column format>"
     },
     "execution_count": 47,
     "metadata": {},
     "output_type": "execute_result"
    }
   ],
   "source": [
    "data[0]"
   ],
   "metadata": {
    "collapsed": false,
    "pycharm": {
     "name": "#%%\n"
    }
   }
  },
  {
   "cell_type": "code",
   "execution_count": 48,
   "outputs": [
    {
     "data": {
      "text/plain": "                   0          1         2         3         4         5    \\\nεἰμί         40.921943  23.975110  6.083791  1.724597  0.787708  1.395476   \nοὗτος        40.370998  23.444483  5.179671  1.611451  0.341264  1.735556   \nλέγω         39.001855  22.120811  3.711950  0.918392  1.452316  0.077037   \nἔχω          39.804302  23.024422  6.199601  2.275942  0.625015  1.243543   \nγίγνομαι     39.347879  22.489298  5.427730  1.608740 -0.299176  1.453300   \n...                ...        ...       ...       ...       ...       ...   \nκύαθος        2.306894  -1.252014  1.967848  0.639823 -0.830738  1.400087   \nσκυτεύς       2.426349  -1.921372  0.401636 -0.442950 -0.050278  0.079601   \nπαραμίγνυμι   2.460930  -1.073599  2.207248  0.563545 -0.814028  1.938490   \nὀφθαλμία      1.968229  -1.475017  1.460325 -0.047004 -0.329035  0.401820   \nκριτία        3.024949  -2.190102 -0.413723 -0.793175  0.007401  0.291926   \n\n                   6         7         8         9    ...       140       141  \\\nεἰμί         10.085121 -3.512090 -2.466157 -0.479203  ...  0.135525  0.116194   \nοὗτος         9.830402 -3.353345 -2.345492 -0.181414  ...  0.139695  0.078060   \nλέγω          9.391213 -2.759150 -2.398183  0.214704  ... -0.031307  0.068023   \nἔχω           9.147309 -3.485462 -2.581793 -0.275819  ...  0.024101  0.063533   \nγίγνομαι      8.521668 -3.282159 -2.755167 -0.361946  ...  0.017706  0.150147   \n...                ...       ...       ...       ...  ...       ...       ...   \nκύαθος        0.623265 -0.022984  1.364765 -1.015133  ...  0.029445  0.035054   \nσκυτεύς       1.183014 -0.539222  0.169868  0.727299  ... -0.379041  0.069706   \nπαραμίγνυμι   0.646300 -0.572682  2.623897 -1.114314  ... -0.005971 -0.170639   \nὀφθαλμία      0.145133 -0.578576 -0.902634  0.095910  ... -0.229633 -0.162759   \nκριτία        0.928121 -0.831658  0.027614  0.053107  ...  0.076820  0.334096   \n\n                  142       143       144       145       146       147  \\\nεἰμί         0.038779  0.028518  0.048852  0.063003 -0.006917 -0.285075   \nοὗτος        0.127660  0.069392  0.060385  0.249957  0.070054 -0.194425   \nλέγω         0.000057  0.069156  0.111072  0.038494  0.002585 -0.019338   \nἔχω          0.134114  0.179058  0.043486  0.113336 -0.036198 -0.342098   \nγίγνομαι    -0.100498  0.024932 -0.241511  0.180704 -0.044182 -0.225451   \n...               ...       ...       ...       ...       ...       ...   \nκύαθος      -0.064084 -0.022086 -0.026919 -0.029758 -0.059165  0.081717   \nσκυτεύς      0.277146  0.071542 -0.010878  0.112946 -0.114023  0.315502   \nπαραμίγνυμι -0.140238  0.136425  0.311922  0.270307 -0.047148 -0.198601   \nὀφθαλμία    -0.336879 -0.035314  0.135483 -0.145982  0.128570 -0.032265   \nκριτία       0.122024  0.005462 -0.073365  0.084474 -0.021100 -0.041049   \n\n                  148       149  \nεἰμί         0.083432  0.050213  \nοὗτος       -0.004014  0.040241  \nλέγω         0.269553 -0.130885  \nἔχω          0.209940 -0.073624  \nγίγνομαι    -0.009623  0.082624  \n...               ...       ...  \nκύαθος       0.070341  0.065586  \nσκυτεύς     -0.062303 -0.036280  \nπαραμίγνυμι -0.085457  0.311602  \nὀφθαλμία    -0.125454 -0.178760  \nκριτία      -0.171185 -0.437135  \n\n[5000 rows x 150 columns]",
      "text/html": "<div>\n<style scoped>\n    .dataframe tbody tr th:only-of-type {\n        vertical-align: middle;\n    }\n\n    .dataframe tbody tr th {\n        vertical-align: top;\n    }\n\n    .dataframe thead th {\n        text-align: right;\n    }\n</style>\n<table border=\"1\" class=\"dataframe\">\n  <thead>\n    <tr style=\"text-align: right;\">\n      <th></th>\n      <th>0</th>\n      <th>1</th>\n      <th>2</th>\n      <th>3</th>\n      <th>4</th>\n      <th>5</th>\n      <th>6</th>\n      <th>7</th>\n      <th>8</th>\n      <th>9</th>\n      <th>...</th>\n      <th>140</th>\n      <th>141</th>\n      <th>142</th>\n      <th>143</th>\n      <th>144</th>\n      <th>145</th>\n      <th>146</th>\n      <th>147</th>\n      <th>148</th>\n      <th>149</th>\n    </tr>\n  </thead>\n  <tbody>\n    <tr>\n      <th>εἰμί</th>\n      <td>40.921943</td>\n      <td>23.975110</td>\n      <td>6.083791</td>\n      <td>1.724597</td>\n      <td>0.787708</td>\n      <td>1.395476</td>\n      <td>10.085121</td>\n      <td>-3.512090</td>\n      <td>-2.466157</td>\n      <td>-0.479203</td>\n      <td>...</td>\n      <td>0.135525</td>\n      <td>0.116194</td>\n      <td>0.038779</td>\n      <td>0.028518</td>\n      <td>0.048852</td>\n      <td>0.063003</td>\n      <td>-0.006917</td>\n      <td>-0.285075</td>\n      <td>0.083432</td>\n      <td>0.050213</td>\n    </tr>\n    <tr>\n      <th>οὗτος</th>\n      <td>40.370998</td>\n      <td>23.444483</td>\n      <td>5.179671</td>\n      <td>1.611451</td>\n      <td>0.341264</td>\n      <td>1.735556</td>\n      <td>9.830402</td>\n      <td>-3.353345</td>\n      <td>-2.345492</td>\n      <td>-0.181414</td>\n      <td>...</td>\n      <td>0.139695</td>\n      <td>0.078060</td>\n      <td>0.127660</td>\n      <td>0.069392</td>\n      <td>0.060385</td>\n      <td>0.249957</td>\n      <td>0.070054</td>\n      <td>-0.194425</td>\n      <td>-0.004014</td>\n      <td>0.040241</td>\n    </tr>\n    <tr>\n      <th>λέγω</th>\n      <td>39.001855</td>\n      <td>22.120811</td>\n      <td>3.711950</td>\n      <td>0.918392</td>\n      <td>1.452316</td>\n      <td>0.077037</td>\n      <td>9.391213</td>\n      <td>-2.759150</td>\n      <td>-2.398183</td>\n      <td>0.214704</td>\n      <td>...</td>\n      <td>-0.031307</td>\n      <td>0.068023</td>\n      <td>0.000057</td>\n      <td>0.069156</td>\n      <td>0.111072</td>\n      <td>0.038494</td>\n      <td>0.002585</td>\n      <td>-0.019338</td>\n      <td>0.269553</td>\n      <td>-0.130885</td>\n    </tr>\n    <tr>\n      <th>ἔχω</th>\n      <td>39.804302</td>\n      <td>23.024422</td>\n      <td>6.199601</td>\n      <td>2.275942</td>\n      <td>0.625015</td>\n      <td>1.243543</td>\n      <td>9.147309</td>\n      <td>-3.485462</td>\n      <td>-2.581793</td>\n      <td>-0.275819</td>\n      <td>...</td>\n      <td>0.024101</td>\n      <td>0.063533</td>\n      <td>0.134114</td>\n      <td>0.179058</td>\n      <td>0.043486</td>\n      <td>0.113336</td>\n      <td>-0.036198</td>\n      <td>-0.342098</td>\n      <td>0.209940</td>\n      <td>-0.073624</td>\n    </tr>\n    <tr>\n      <th>γίγνομαι</th>\n      <td>39.347879</td>\n      <td>22.489298</td>\n      <td>5.427730</td>\n      <td>1.608740</td>\n      <td>-0.299176</td>\n      <td>1.453300</td>\n      <td>8.521668</td>\n      <td>-3.282159</td>\n      <td>-2.755167</td>\n      <td>-0.361946</td>\n      <td>...</td>\n      <td>0.017706</td>\n      <td>0.150147</td>\n      <td>-0.100498</td>\n      <td>0.024932</td>\n      <td>-0.241511</td>\n      <td>0.180704</td>\n      <td>-0.044182</td>\n      <td>-0.225451</td>\n      <td>-0.009623</td>\n      <td>0.082624</td>\n    </tr>\n    <tr>\n      <th>...</th>\n      <td>...</td>\n      <td>...</td>\n      <td>...</td>\n      <td>...</td>\n      <td>...</td>\n      <td>...</td>\n      <td>...</td>\n      <td>...</td>\n      <td>...</td>\n      <td>...</td>\n      <td>...</td>\n      <td>...</td>\n      <td>...</td>\n      <td>...</td>\n      <td>...</td>\n      <td>...</td>\n      <td>...</td>\n      <td>...</td>\n      <td>...</td>\n      <td>...</td>\n      <td>...</td>\n    </tr>\n    <tr>\n      <th>κύαθος</th>\n      <td>2.306894</td>\n      <td>-1.252014</td>\n      <td>1.967848</td>\n      <td>0.639823</td>\n      <td>-0.830738</td>\n      <td>1.400087</td>\n      <td>0.623265</td>\n      <td>-0.022984</td>\n      <td>1.364765</td>\n      <td>-1.015133</td>\n      <td>...</td>\n      <td>0.029445</td>\n      <td>0.035054</td>\n      <td>-0.064084</td>\n      <td>-0.022086</td>\n      <td>-0.026919</td>\n      <td>-0.029758</td>\n      <td>-0.059165</td>\n      <td>0.081717</td>\n      <td>0.070341</td>\n      <td>0.065586</td>\n    </tr>\n    <tr>\n      <th>σκυτεύς</th>\n      <td>2.426349</td>\n      <td>-1.921372</td>\n      <td>0.401636</td>\n      <td>-0.442950</td>\n      <td>-0.050278</td>\n      <td>0.079601</td>\n      <td>1.183014</td>\n      <td>-0.539222</td>\n      <td>0.169868</td>\n      <td>0.727299</td>\n      <td>...</td>\n      <td>-0.379041</td>\n      <td>0.069706</td>\n      <td>0.277146</td>\n      <td>0.071542</td>\n      <td>-0.010878</td>\n      <td>0.112946</td>\n      <td>-0.114023</td>\n      <td>0.315502</td>\n      <td>-0.062303</td>\n      <td>-0.036280</td>\n    </tr>\n    <tr>\n      <th>παραμίγνυμι</th>\n      <td>2.460930</td>\n      <td>-1.073599</td>\n      <td>2.207248</td>\n      <td>0.563545</td>\n      <td>-0.814028</td>\n      <td>1.938490</td>\n      <td>0.646300</td>\n      <td>-0.572682</td>\n      <td>2.623897</td>\n      <td>-1.114314</td>\n      <td>...</td>\n      <td>-0.005971</td>\n      <td>-0.170639</td>\n      <td>-0.140238</td>\n      <td>0.136425</td>\n      <td>0.311922</td>\n      <td>0.270307</td>\n      <td>-0.047148</td>\n      <td>-0.198601</td>\n      <td>-0.085457</td>\n      <td>0.311602</td>\n    </tr>\n    <tr>\n      <th>ὀφθαλμία</th>\n      <td>1.968229</td>\n      <td>-1.475017</td>\n      <td>1.460325</td>\n      <td>-0.047004</td>\n      <td>-0.329035</td>\n      <td>0.401820</td>\n      <td>0.145133</td>\n      <td>-0.578576</td>\n      <td>-0.902634</td>\n      <td>0.095910</td>\n      <td>...</td>\n      <td>-0.229633</td>\n      <td>-0.162759</td>\n      <td>-0.336879</td>\n      <td>-0.035314</td>\n      <td>0.135483</td>\n      <td>-0.145982</td>\n      <td>0.128570</td>\n      <td>-0.032265</td>\n      <td>-0.125454</td>\n      <td>-0.178760</td>\n    </tr>\n    <tr>\n      <th>κριτία</th>\n      <td>3.024949</td>\n      <td>-2.190102</td>\n      <td>-0.413723</td>\n      <td>-0.793175</td>\n      <td>0.007401</td>\n      <td>0.291926</td>\n      <td>0.928121</td>\n      <td>-0.831658</td>\n      <td>0.027614</td>\n      <td>0.053107</td>\n      <td>...</td>\n      <td>0.076820</td>\n      <td>0.334096</td>\n      <td>0.122024</td>\n      <td>0.005462</td>\n      <td>-0.073365</td>\n      <td>0.084474</td>\n      <td>-0.021100</td>\n      <td>-0.041049</td>\n      <td>-0.171185</td>\n      <td>-0.437135</td>\n    </tr>\n  </tbody>\n</table>\n<p>5000 rows × 150 columns</p>\n</div>"
     },
     "execution_count": 48,
     "metadata": {},
     "output_type": "execute_result"
    }
   ],
   "source": [
    "data[3]"
   ],
   "metadata": {
    "collapsed": false,
    "pycharm": {
     "name": "#%%\n"
    }
   }
  },
  {
   "cell_type": "code",
   "execution_count": 45,
   "outputs": [],
   "source": [
    "pickle.dump(data, open(\"../data/large_data/cgl_embeddings.pkl\", \"wb\"), pickle.HIGHEST_PROTOCOL)"
   ],
   "metadata": {
    "collapsed": false,
    "pycharm": {
     "name": "#%%\n"
    }
   }
  },
  {
   "cell_type": "code",
   "execution_count": null,
   "outputs": [],
   "source": [],
   "metadata": {
    "collapsed": false,
    "pycharm": {
     "name": "#%%\n"
    }
   }
  }
 ],
 "metadata": {
  "colab": {
   "collapsed_sections": [],
   "name": "0_EXTRACTING-CORPORA.ipynb",
   "provenance": []
  },
  "kernelspec": {
   "name": "pipa_venv",
   "language": "python",
   "display_name": "pipa_venv"
  },
  "language_info": {
   "codemirror_mode": {
    "name": "ipython",
    "version": 3
   },
   "file_extension": ".py",
   "mimetype": "text/x-python",
   "name": "python",
   "nbconvert_exporter": "python",
   "pygments_lexer": "ipython3",
   "version": "3.6.9"
  }
 },
 "nbformat": 4,
 "nbformat_minor": 1
}